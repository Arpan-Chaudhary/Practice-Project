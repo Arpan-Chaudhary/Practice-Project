{
 "cells": [
  {
   "cell_type": "code",
   "execution_count": null,
   "id": "af11cfc5",
   "metadata": {},
   "outputs": [],
   "source": []
  },
  {
   "cell_type": "code",
   "execution_count": null,
   "id": "0d3de6a3",
   "metadata": {},
   "outputs": [],
   "source": []
  },
  {
   "cell_type": "code",
   "execution_count": 1,
   "id": "e9180c32",
   "metadata": {},
   "outputs": [],
   "source": [
    "# Import libraries to read the dataset and for understanding or handle the dataset."
   ]
  },
  {
   "cell_type": "code",
   "execution_count": 2,
   "id": "f7561adb",
   "metadata": {},
   "outputs": [],
   "source": [
    "import pandas as pd\n",
    "import numpy as np\n",
    "\n",
    "import warnings\n",
    "warnings.filterwarnings('ignore')"
   ]
  },
  {
   "cell_type": "code",
   "execution_count": 3,
   "id": "4d6ef95c",
   "metadata": {},
   "outputs": [],
   "source": [
    "df = pd.read_csv('census_income.csv')"
   ]
  },
  {
   "cell_type": "code",
   "execution_count": 4,
   "id": "a1ad84ff",
   "metadata": {},
   "outputs": [
    {
     "data": {
      "text/html": [
       "<div>\n",
       "<style scoped>\n",
       "    .dataframe tbody tr th:only-of-type {\n",
       "        vertical-align: middle;\n",
       "    }\n",
       "\n",
       "    .dataframe tbody tr th {\n",
       "        vertical-align: top;\n",
       "    }\n",
       "\n",
       "    .dataframe thead th {\n",
       "        text-align: right;\n",
       "    }\n",
       "</style>\n",
       "<table border=\"1\" class=\"dataframe\">\n",
       "  <thead>\n",
       "    <tr style=\"text-align: right;\">\n",
       "      <th></th>\n",
       "      <th>Age</th>\n",
       "      <th>Workclass</th>\n",
       "      <th>Fnlwgt</th>\n",
       "      <th>Education</th>\n",
       "      <th>Education_num</th>\n",
       "      <th>Marital_status</th>\n",
       "      <th>Occupation</th>\n",
       "      <th>Relationship</th>\n",
       "      <th>Race</th>\n",
       "      <th>Sex</th>\n",
       "      <th>Capital_gain</th>\n",
       "      <th>Capital_loss</th>\n",
       "      <th>Hours_per_week</th>\n",
       "      <th>Native_country</th>\n",
       "      <th>Income</th>\n",
       "    </tr>\n",
       "  </thead>\n",
       "  <tbody>\n",
       "    <tr>\n",
       "      <th>0</th>\n",
       "      <td>50</td>\n",
       "      <td>Self-emp-not-inc</td>\n",
       "      <td>83311</td>\n",
       "      <td>Bachelors</td>\n",
       "      <td>13</td>\n",
       "      <td>Married-civ-spouse</td>\n",
       "      <td>Exec-managerial</td>\n",
       "      <td>Husband</td>\n",
       "      <td>White</td>\n",
       "      <td>Male</td>\n",
       "      <td>0</td>\n",
       "      <td>0</td>\n",
       "      <td>13</td>\n",
       "      <td>United-States</td>\n",
       "      <td>&lt;=50K</td>\n",
       "    </tr>\n",
       "    <tr>\n",
       "      <th>1</th>\n",
       "      <td>38</td>\n",
       "      <td>Private</td>\n",
       "      <td>215646</td>\n",
       "      <td>HS-grad</td>\n",
       "      <td>9</td>\n",
       "      <td>Divorced</td>\n",
       "      <td>Handlers-cleaners</td>\n",
       "      <td>Not-in-family</td>\n",
       "      <td>White</td>\n",
       "      <td>Male</td>\n",
       "      <td>0</td>\n",
       "      <td>0</td>\n",
       "      <td>40</td>\n",
       "      <td>United-States</td>\n",
       "      <td>&lt;=50K</td>\n",
       "    </tr>\n",
       "    <tr>\n",
       "      <th>2</th>\n",
       "      <td>53</td>\n",
       "      <td>Private</td>\n",
       "      <td>234721</td>\n",
       "      <td>11th</td>\n",
       "      <td>7</td>\n",
       "      <td>Married-civ-spouse</td>\n",
       "      <td>Handlers-cleaners</td>\n",
       "      <td>Husband</td>\n",
       "      <td>Black</td>\n",
       "      <td>Male</td>\n",
       "      <td>0</td>\n",
       "      <td>0</td>\n",
       "      <td>40</td>\n",
       "      <td>United-States</td>\n",
       "      <td>&lt;=50K</td>\n",
       "    </tr>\n",
       "    <tr>\n",
       "      <th>3</th>\n",
       "      <td>28</td>\n",
       "      <td>Private</td>\n",
       "      <td>338409</td>\n",
       "      <td>Bachelors</td>\n",
       "      <td>13</td>\n",
       "      <td>Married-civ-spouse</td>\n",
       "      <td>Prof-specialty</td>\n",
       "      <td>Wife</td>\n",
       "      <td>Black</td>\n",
       "      <td>Female</td>\n",
       "      <td>0</td>\n",
       "      <td>0</td>\n",
       "      <td>40</td>\n",
       "      <td>Cuba</td>\n",
       "      <td>&lt;=50K</td>\n",
       "    </tr>\n",
       "    <tr>\n",
       "      <th>4</th>\n",
       "      <td>37</td>\n",
       "      <td>Private</td>\n",
       "      <td>284582</td>\n",
       "      <td>Masters</td>\n",
       "      <td>14</td>\n",
       "      <td>Married-civ-spouse</td>\n",
       "      <td>Exec-managerial</td>\n",
       "      <td>Wife</td>\n",
       "      <td>White</td>\n",
       "      <td>Female</td>\n",
       "      <td>0</td>\n",
       "      <td>0</td>\n",
       "      <td>40</td>\n",
       "      <td>United-States</td>\n",
       "      <td>&lt;=50K</td>\n",
       "    </tr>\n",
       "    <tr>\n",
       "      <th>...</th>\n",
       "      <td>...</td>\n",
       "      <td>...</td>\n",
       "      <td>...</td>\n",
       "      <td>...</td>\n",
       "      <td>...</td>\n",
       "      <td>...</td>\n",
       "      <td>...</td>\n",
       "      <td>...</td>\n",
       "      <td>...</td>\n",
       "      <td>...</td>\n",
       "      <td>...</td>\n",
       "      <td>...</td>\n",
       "      <td>...</td>\n",
       "      <td>...</td>\n",
       "      <td>...</td>\n",
       "    </tr>\n",
       "    <tr>\n",
       "      <th>32555</th>\n",
       "      <td>27</td>\n",
       "      <td>Private</td>\n",
       "      <td>257302</td>\n",
       "      <td>Assoc-acdm</td>\n",
       "      <td>12</td>\n",
       "      <td>Married-civ-spouse</td>\n",
       "      <td>Tech-support</td>\n",
       "      <td>Wife</td>\n",
       "      <td>White</td>\n",
       "      <td>Female</td>\n",
       "      <td>0</td>\n",
       "      <td>0</td>\n",
       "      <td>38</td>\n",
       "      <td>United-States</td>\n",
       "      <td>&lt;=50K</td>\n",
       "    </tr>\n",
       "    <tr>\n",
       "      <th>32556</th>\n",
       "      <td>40</td>\n",
       "      <td>Private</td>\n",
       "      <td>154374</td>\n",
       "      <td>HS-grad</td>\n",
       "      <td>9</td>\n",
       "      <td>Married-civ-spouse</td>\n",
       "      <td>Machine-op-inspct</td>\n",
       "      <td>Husband</td>\n",
       "      <td>White</td>\n",
       "      <td>Male</td>\n",
       "      <td>0</td>\n",
       "      <td>0</td>\n",
       "      <td>40</td>\n",
       "      <td>United-States</td>\n",
       "      <td>&gt;50K</td>\n",
       "    </tr>\n",
       "    <tr>\n",
       "      <th>32557</th>\n",
       "      <td>58</td>\n",
       "      <td>Private</td>\n",
       "      <td>151910</td>\n",
       "      <td>HS-grad</td>\n",
       "      <td>9</td>\n",
       "      <td>Widowed</td>\n",
       "      <td>Adm-clerical</td>\n",
       "      <td>Unmarried</td>\n",
       "      <td>White</td>\n",
       "      <td>Female</td>\n",
       "      <td>0</td>\n",
       "      <td>0</td>\n",
       "      <td>40</td>\n",
       "      <td>United-States</td>\n",
       "      <td>&lt;=50K</td>\n",
       "    </tr>\n",
       "    <tr>\n",
       "      <th>32558</th>\n",
       "      <td>22</td>\n",
       "      <td>Private</td>\n",
       "      <td>201490</td>\n",
       "      <td>HS-grad</td>\n",
       "      <td>9</td>\n",
       "      <td>Never-married</td>\n",
       "      <td>Adm-clerical</td>\n",
       "      <td>Own-child</td>\n",
       "      <td>White</td>\n",
       "      <td>Male</td>\n",
       "      <td>0</td>\n",
       "      <td>0</td>\n",
       "      <td>20</td>\n",
       "      <td>United-States</td>\n",
       "      <td>&lt;=50K</td>\n",
       "    </tr>\n",
       "    <tr>\n",
       "      <th>32559</th>\n",
       "      <td>52</td>\n",
       "      <td>Self-emp-inc</td>\n",
       "      <td>287927</td>\n",
       "      <td>HS-grad</td>\n",
       "      <td>9</td>\n",
       "      <td>Married-civ-spouse</td>\n",
       "      <td>Exec-managerial</td>\n",
       "      <td>Wife</td>\n",
       "      <td>White</td>\n",
       "      <td>Female</td>\n",
       "      <td>15024</td>\n",
       "      <td>0</td>\n",
       "      <td>40</td>\n",
       "      <td>United-States</td>\n",
       "      <td>&gt;50K</td>\n",
       "    </tr>\n",
       "  </tbody>\n",
       "</table>\n",
       "<p>32560 rows × 15 columns</p>\n",
       "</div>"
      ],
      "text/plain": [
       "       Age          Workclass  Fnlwgt    Education  Education_num  \\\n",
       "0       50   Self-emp-not-inc   83311    Bachelors             13   \n",
       "1       38            Private  215646      HS-grad              9   \n",
       "2       53            Private  234721         11th              7   \n",
       "3       28            Private  338409    Bachelors             13   \n",
       "4       37            Private  284582      Masters             14   \n",
       "...    ...                ...     ...          ...            ...   \n",
       "32555   27            Private  257302   Assoc-acdm             12   \n",
       "32556   40            Private  154374      HS-grad              9   \n",
       "32557   58            Private  151910      HS-grad              9   \n",
       "32558   22            Private  201490      HS-grad              9   \n",
       "32559   52       Self-emp-inc  287927      HS-grad              9   \n",
       "\n",
       "            Marital_status          Occupation    Relationship    Race  \\\n",
       "0       Married-civ-spouse     Exec-managerial         Husband   White   \n",
       "1                 Divorced   Handlers-cleaners   Not-in-family   White   \n",
       "2       Married-civ-spouse   Handlers-cleaners         Husband   Black   \n",
       "3       Married-civ-spouse      Prof-specialty            Wife   Black   \n",
       "4       Married-civ-spouse     Exec-managerial            Wife   White   \n",
       "...                    ...                 ...             ...     ...   \n",
       "32555   Married-civ-spouse        Tech-support            Wife   White   \n",
       "32556   Married-civ-spouse   Machine-op-inspct         Husband   White   \n",
       "32557              Widowed        Adm-clerical       Unmarried   White   \n",
       "32558        Never-married        Adm-clerical       Own-child   White   \n",
       "32559   Married-civ-spouse     Exec-managerial            Wife   White   \n",
       "\n",
       "           Sex  Capital_gain  Capital_loss  Hours_per_week  Native_country  \\\n",
       "0         Male             0             0              13   United-States   \n",
       "1         Male             0             0              40   United-States   \n",
       "2         Male             0             0              40   United-States   \n",
       "3       Female             0             0              40            Cuba   \n",
       "4       Female             0             0              40   United-States   \n",
       "...        ...           ...           ...             ...             ...   \n",
       "32555   Female             0             0              38   United-States   \n",
       "32556     Male             0             0              40   United-States   \n",
       "32557   Female             0             0              40   United-States   \n",
       "32558     Male             0             0              20   United-States   \n",
       "32559   Female         15024             0              40   United-States   \n",
       "\n",
       "       Income  \n",
       "0       <=50K  \n",
       "1       <=50K  \n",
       "2       <=50K  \n",
       "3       <=50K  \n",
       "4       <=50K  \n",
       "...       ...  \n",
       "32555   <=50K  \n",
       "32556    >50K  \n",
       "32557   <=50K  \n",
       "32558   <=50K  \n",
       "32559    >50K  \n",
       "\n",
       "[32560 rows x 15 columns]"
      ]
     },
     "execution_count": 4,
     "metadata": {},
     "output_type": "execute_result"
    }
   ],
   "source": [
    "df"
   ]
  },
  {
   "cell_type": "code",
   "execution_count": 5,
   "id": "b6c9a65b",
   "metadata": {},
   "outputs": [],
   "source": [
    "# most of the columns are not in integer form as we seeing in dataset\n",
    "\n",
    "# we have to process all these columns with encoding technique"
   ]
  },
  {
   "cell_type": "code",
   "execution_count": null,
   "id": "a7a87fbe",
   "metadata": {},
   "outputs": [],
   "source": []
  },
  {
   "cell_type": "code",
   "execution_count": null,
   "id": "f8007fc9",
   "metadata": {},
   "outputs": [],
   "source": []
  },
  {
   "cell_type": "code",
   "execution_count": 6,
   "id": "94569bd7",
   "metadata": {},
   "outputs": [
    {
     "data": {
      "text/html": [
       "<div>\n",
       "<style scoped>\n",
       "    .dataframe tbody tr th:only-of-type {\n",
       "        vertical-align: middle;\n",
       "    }\n",
       "\n",
       "    .dataframe tbody tr th {\n",
       "        vertical-align: top;\n",
       "    }\n",
       "\n",
       "    .dataframe thead th {\n",
       "        text-align: right;\n",
       "    }\n",
       "</style>\n",
       "<table border=\"1\" class=\"dataframe\">\n",
       "  <thead>\n",
       "    <tr style=\"text-align: right;\">\n",
       "      <th></th>\n",
       "      <th>Age</th>\n",
       "      <th>Fnlwgt</th>\n",
       "      <th>Education_num</th>\n",
       "      <th>Capital_gain</th>\n",
       "      <th>Capital_loss</th>\n",
       "      <th>Hours_per_week</th>\n",
       "    </tr>\n",
       "  </thead>\n",
       "  <tbody>\n",
       "    <tr>\n",
       "      <th>count</th>\n",
       "      <td>32560.000000</td>\n",
       "      <td>3.256000e+04</td>\n",
       "      <td>32560.000000</td>\n",
       "      <td>32560.000000</td>\n",
       "      <td>32560.000000</td>\n",
       "      <td>32560.000000</td>\n",
       "    </tr>\n",
       "    <tr>\n",
       "      <th>mean</th>\n",
       "      <td>38.581634</td>\n",
       "      <td>1.897818e+05</td>\n",
       "      <td>10.080590</td>\n",
       "      <td>1077.615172</td>\n",
       "      <td>87.306511</td>\n",
       "      <td>40.437469</td>\n",
       "    </tr>\n",
       "    <tr>\n",
       "      <th>std</th>\n",
       "      <td>13.640642</td>\n",
       "      <td>1.055498e+05</td>\n",
       "      <td>2.572709</td>\n",
       "      <td>7385.402999</td>\n",
       "      <td>402.966116</td>\n",
       "      <td>12.347618</td>\n",
       "    </tr>\n",
       "    <tr>\n",
       "      <th>min</th>\n",
       "      <td>17.000000</td>\n",
       "      <td>1.228500e+04</td>\n",
       "      <td>1.000000</td>\n",
       "      <td>0.000000</td>\n",
       "      <td>0.000000</td>\n",
       "      <td>1.000000</td>\n",
       "    </tr>\n",
       "    <tr>\n",
       "      <th>25%</th>\n",
       "      <td>28.000000</td>\n",
       "      <td>1.178315e+05</td>\n",
       "      <td>9.000000</td>\n",
       "      <td>0.000000</td>\n",
       "      <td>0.000000</td>\n",
       "      <td>40.000000</td>\n",
       "    </tr>\n",
       "    <tr>\n",
       "      <th>50%</th>\n",
       "      <td>37.000000</td>\n",
       "      <td>1.783630e+05</td>\n",
       "      <td>10.000000</td>\n",
       "      <td>0.000000</td>\n",
       "      <td>0.000000</td>\n",
       "      <td>40.000000</td>\n",
       "    </tr>\n",
       "    <tr>\n",
       "      <th>75%</th>\n",
       "      <td>48.000000</td>\n",
       "      <td>2.370545e+05</td>\n",
       "      <td>12.000000</td>\n",
       "      <td>0.000000</td>\n",
       "      <td>0.000000</td>\n",
       "      <td>45.000000</td>\n",
       "    </tr>\n",
       "    <tr>\n",
       "      <th>max</th>\n",
       "      <td>90.000000</td>\n",
       "      <td>1.484705e+06</td>\n",
       "      <td>16.000000</td>\n",
       "      <td>99999.000000</td>\n",
       "      <td>4356.000000</td>\n",
       "      <td>99.000000</td>\n",
       "    </tr>\n",
       "  </tbody>\n",
       "</table>\n",
       "</div>"
      ],
      "text/plain": [
       "                Age        Fnlwgt  Education_num  Capital_gain  Capital_loss  \\\n",
       "count  32560.000000  3.256000e+04   32560.000000  32560.000000  32560.000000   \n",
       "mean      38.581634  1.897818e+05      10.080590   1077.615172     87.306511   \n",
       "std       13.640642  1.055498e+05       2.572709   7385.402999    402.966116   \n",
       "min       17.000000  1.228500e+04       1.000000      0.000000      0.000000   \n",
       "25%       28.000000  1.178315e+05       9.000000      0.000000      0.000000   \n",
       "50%       37.000000  1.783630e+05      10.000000      0.000000      0.000000   \n",
       "75%       48.000000  2.370545e+05      12.000000      0.000000      0.000000   \n",
       "max       90.000000  1.484705e+06      16.000000  99999.000000   4356.000000   \n",
       "\n",
       "       Hours_per_week  \n",
       "count    32560.000000  \n",
       "mean        40.437469  \n",
       "std         12.347618  \n",
       "min          1.000000  \n",
       "25%         40.000000  \n",
       "50%         40.000000  \n",
       "75%         45.000000  \n",
       "max         99.000000  "
      ]
     },
     "execution_count": 6,
     "metadata": {},
     "output_type": "execute_result"
    }
   ],
   "source": [
    "df.describe()"
   ]
  },
  {
   "cell_type": "code",
   "execution_count": 7,
   "id": "4429e1d3",
   "metadata": {},
   "outputs": [
    {
     "data": {
      "text/plain": [
       "Age               0\n",
       "Workclass         0\n",
       "Fnlwgt            0\n",
       "Education         0\n",
       "Education_num     0\n",
       "Marital_status    0\n",
       "Occupation        0\n",
       "Relationship      0\n",
       "Race              0\n",
       "Sex               0\n",
       "Capital_gain      0\n",
       "Capital_loss      0\n",
       "Hours_per_week    0\n",
       "Native_country    0\n",
       "Income            0\n",
       "dtype: int64"
      ]
     },
     "execution_count": 7,
     "metadata": {},
     "output_type": "execute_result"
    }
   ],
   "source": [
    "df.isna().sum()"
   ]
  },
  {
   "cell_type": "code",
   "execution_count": 8,
   "id": "eaaa9707",
   "metadata": {},
   "outputs": [],
   "source": [
    "# there are no null values present in dataset"
   ]
  },
  {
   "cell_type": "code",
   "execution_count": null,
   "id": "be05633f",
   "metadata": {},
   "outputs": [],
   "source": []
  },
  {
   "cell_type": "code",
   "execution_count": 9,
   "id": "e38004d0",
   "metadata": {},
   "outputs": [],
   "source": [
    "# check for each column type, object or integer"
   ]
  },
  {
   "cell_type": "code",
   "execution_count": 10,
   "id": "b82cd3e7",
   "metadata": {},
   "outputs": [
    {
     "data": {
      "text/plain": [
       "Age                int64\n",
       "Workclass         object\n",
       "Fnlwgt             int64\n",
       "Education         object\n",
       "Education_num      int64\n",
       "Marital_status    object\n",
       "Occupation        object\n",
       "Relationship      object\n",
       "Race              object\n",
       "Sex               object\n",
       "Capital_gain       int64\n",
       "Capital_loss       int64\n",
       "Hours_per_week     int64\n",
       "Native_country    object\n",
       "Income            object\n",
       "dtype: object"
      ]
     },
     "execution_count": 10,
     "metadata": {},
     "output_type": "execute_result"
    }
   ],
   "source": [
    "df.dtypes"
   ]
  },
  {
   "cell_type": "code",
   "execution_count": 11,
   "id": "f144a963",
   "metadata": {},
   "outputs": [
    {
     "data": {
      "text/plain": [
       "Index(['Age', 'Workclass', 'Fnlwgt', 'Education', 'Education_num',\n",
       "       'Marital_status', 'Occupation', 'Relationship', 'Race', 'Sex',\n",
       "       'Capital_gain', 'Capital_loss', 'Hours_per_week', 'Native_country',\n",
       "       'Income'],\n",
       "      dtype='object')"
      ]
     },
     "execution_count": 11,
     "metadata": {},
     "output_type": "execute_result"
    }
   ],
   "source": [
    "df.columns"
   ]
  },
  {
   "cell_type": "code",
   "execution_count": null,
   "id": "e13c0407",
   "metadata": {},
   "outputs": [],
   "source": []
  },
  {
   "cell_type": "code",
   "execution_count": null,
   "id": "57ec4e60",
   "metadata": {},
   "outputs": [],
   "source": []
  },
  {
   "cell_type": "code",
   "execution_count": 12,
   "id": "d7bd818a",
   "metadata": {},
   "outputs": [],
   "source": [
    "# we will check all columns values and will also start encoding\n",
    "\n",
    "# for some columns we will use label encoder and for some columns we will use ordinal encoder"
   ]
  },
  {
   "cell_type": "code",
   "execution_count": 13,
   "id": "18679ea8",
   "metadata": {},
   "outputs": [],
   "source": [
    "from sklearn.preprocessing import OrdinalEncoder\n",
    "\n",
    "ord_enc = OrdinalEncoder()"
   ]
  },
  {
   "cell_type": "code",
   "execution_count": 14,
   "id": "35ef0958",
   "metadata": {},
   "outputs": [],
   "source": [
    "from sklearn.preprocessing import LabelEncoder"
   ]
  },
  {
   "cell_type": "code",
   "execution_count": 15,
   "id": "a5d15660",
   "metadata": {},
   "outputs": [],
   "source": [
    "lab_enc = LabelEncoder()"
   ]
  },
  {
   "cell_type": "code",
   "execution_count": null,
   "id": "ec35c77a",
   "metadata": {},
   "outputs": [],
   "source": []
  },
  {
   "cell_type": "code",
   "execution_count": null,
   "id": "bc190529",
   "metadata": {},
   "outputs": [],
   "source": []
  },
  {
   "cell_type": "code",
   "execution_count": null,
   "id": "7dabaa3f",
   "metadata": {},
   "outputs": [],
   "source": []
  },
  {
   "cell_type": "code",
   "execution_count": 16,
   "id": "c84dcf0c",
   "metadata": {},
   "outputs": [
    {
     "data": {
      "text/plain": [
       "array([' Self-emp-not-inc', ' Private', ' State-gov', ' Federal-gov',\n",
       "       ' Local-gov', ' ?', ' Self-emp-inc', ' Without-pay',\n",
       "       ' Never-worked'], dtype=object)"
      ]
     },
     "execution_count": 16,
     "metadata": {},
     "output_type": "execute_result"
    }
   ],
   "source": [
    "df['Workclass'].unique()"
   ]
  },
  {
   "cell_type": "code",
   "execution_count": 17,
   "id": "486da460",
   "metadata": {},
   "outputs": [],
   "source": [
    "df['Workclass'] = lab_enc.fit_transform(df['Workclass'])"
   ]
  },
  {
   "cell_type": "code",
   "execution_count": null,
   "id": "46b8dc5a",
   "metadata": {},
   "outputs": [],
   "source": []
  },
  {
   "cell_type": "code",
   "execution_count": 18,
   "id": "f7907350",
   "metadata": {},
   "outputs": [
    {
     "data": {
      "text/plain": [
       "array([' Bachelors', ' HS-grad', ' 11th', ' Masters', ' 9th',\n",
       "       ' Some-college', ' Assoc-acdm', ' Assoc-voc', ' 7th-8th',\n",
       "       ' Doctorate', ' Prof-school', ' 5th-6th', ' 10th', ' 1st-4th',\n",
       "       ' Preschool', ' 12th'], dtype=object)"
      ]
     },
     "execution_count": 18,
     "metadata": {},
     "output_type": "execute_result"
    }
   ],
   "source": [
    "df['Education'].unique()"
   ]
  },
  {
   "cell_type": "code",
   "execution_count": 19,
   "id": "999570e9",
   "metadata": {},
   "outputs": [],
   "source": [
    "ord_enc = OrdinalEncoder(categories=[[' Preschool',' 1st-4th',' 5th-6th',' 7th-8th',' 9th',' 10th',' HS-grad',' 11th',' 12th',' Bachelors',' Masters',' Some-college',' Doctorate',' Assoc-acdm',' Assoc-voc',' Prof-school']])\n",
    "\n",
    "df['Education'] = ord_enc.fit_transform(df[['Education']])"
   ]
  },
  {
   "cell_type": "code",
   "execution_count": null,
   "id": "58580937",
   "metadata": {},
   "outputs": [],
   "source": []
  },
  {
   "cell_type": "code",
   "execution_count": null,
   "id": "1675d485",
   "metadata": {},
   "outputs": [],
   "source": []
  },
  {
   "cell_type": "code",
   "execution_count": 20,
   "id": "2034b6f2",
   "metadata": {},
   "outputs": [
    {
     "data": {
      "text/plain": [
       "array([13,  9,  7, 14,  5, 10, 12, 11,  4, 16, 15,  3,  6,  2,  1,  8],\n",
       "      dtype=int64)"
      ]
     },
     "execution_count": 20,
     "metadata": {},
     "output_type": "execute_result"
    }
   ],
   "source": [
    "df['Education_num'].unique()"
   ]
  },
  {
   "cell_type": "code",
   "execution_count": null,
   "id": "61920559",
   "metadata": {},
   "outputs": [],
   "source": []
  },
  {
   "cell_type": "code",
   "execution_count": 21,
   "id": "4523be3d",
   "metadata": {},
   "outputs": [
    {
     "data": {
      "text/plain": [
       "array([' Married-civ-spouse', ' Divorced', ' Married-spouse-absent',\n",
       "       ' Never-married', ' Separated', ' Married-AF-spouse', ' Widowed'],\n",
       "      dtype=object)"
      ]
     },
     "execution_count": 21,
     "metadata": {},
     "output_type": "execute_result"
    }
   ],
   "source": [
    "df['Marital_status'].unique()"
   ]
  },
  {
   "cell_type": "code",
   "execution_count": 22,
   "id": "6e9ba8ad",
   "metadata": {},
   "outputs": [],
   "source": [
    "df['Marital_status'] = lab_enc.fit_transform(df['Marital_status'])"
   ]
  },
  {
   "cell_type": "code",
   "execution_count": null,
   "id": "4e67f57e",
   "metadata": {},
   "outputs": [],
   "source": []
  },
  {
   "cell_type": "code",
   "execution_count": null,
   "id": "0eee45b6",
   "metadata": {},
   "outputs": [],
   "source": []
  },
  {
   "cell_type": "code",
   "execution_count": 23,
   "id": "cacf37a4",
   "metadata": {},
   "outputs": [
    {
     "data": {
      "text/plain": [
       "array([' Exec-managerial', ' Handlers-cleaners', ' Prof-specialty',\n",
       "       ' Other-service', ' Adm-clerical', ' Sales', ' Craft-repair',\n",
       "       ' Transport-moving', ' Farming-fishing', ' Machine-op-inspct',\n",
       "       ' Tech-support', ' ?', ' Protective-serv', ' Armed-Forces',\n",
       "       ' Priv-house-serv'], dtype=object)"
      ]
     },
     "execution_count": 23,
     "metadata": {},
     "output_type": "execute_result"
    }
   ],
   "source": [
    "df['Occupation'].unique()"
   ]
  },
  {
   "cell_type": "code",
   "execution_count": 24,
   "id": "c922ab53",
   "metadata": {},
   "outputs": [],
   "source": [
    "df['Occupation'] = lab_enc.fit_transform(df['Occupation'])"
   ]
  },
  {
   "cell_type": "code",
   "execution_count": null,
   "id": "19b78104",
   "metadata": {},
   "outputs": [],
   "source": []
  },
  {
   "cell_type": "code",
   "execution_count": null,
   "id": "f2830655",
   "metadata": {},
   "outputs": [],
   "source": []
  },
  {
   "cell_type": "code",
   "execution_count": 25,
   "id": "de9caf23",
   "metadata": {},
   "outputs": [
    {
     "data": {
      "text/plain": [
       "array([' Husband', ' Not-in-family', ' Wife', ' Own-child', ' Unmarried',\n",
       "       ' Other-relative'], dtype=object)"
      ]
     },
     "execution_count": 25,
     "metadata": {},
     "output_type": "execute_result"
    }
   ],
   "source": [
    "df['Relationship'].unique()"
   ]
  },
  {
   "cell_type": "code",
   "execution_count": 26,
   "id": "50f8ae23",
   "metadata": {},
   "outputs": [],
   "source": [
    "ord_enc = OrdinalEncoder(categories=[[' Other-relative',' Not-in-family',' Unmarried',' Own-child',' Wife',' Husband']])\n",
    "\n",
    "df['Relationship'] = ord_enc.fit_transform(df[['Relationship']])"
   ]
  },
  {
   "cell_type": "code",
   "execution_count": null,
   "id": "79be156f",
   "metadata": {},
   "outputs": [],
   "source": []
  },
  {
   "cell_type": "code",
   "execution_count": null,
   "id": "d3c25d7b",
   "metadata": {},
   "outputs": [],
   "source": []
  },
  {
   "cell_type": "code",
   "execution_count": 27,
   "id": "885f32a2",
   "metadata": {},
   "outputs": [
    {
     "data": {
      "text/plain": [
       "array([' White', ' Black', ' Asian-Pac-Islander', ' Amer-Indian-Eskimo',\n",
       "       ' Other'], dtype=object)"
      ]
     },
     "execution_count": 27,
     "metadata": {},
     "output_type": "execute_result"
    }
   ],
   "source": [
    "df['Race'].unique()"
   ]
  },
  {
   "cell_type": "code",
   "execution_count": 28,
   "id": "8b16aeee",
   "metadata": {},
   "outputs": [],
   "source": [
    "df['Race'] = lab_enc.fit_transform(df['Race'])"
   ]
  },
  {
   "cell_type": "code",
   "execution_count": null,
   "id": "98f4b7f1",
   "metadata": {},
   "outputs": [],
   "source": []
  },
  {
   "cell_type": "code",
   "execution_count": null,
   "id": "6ffed72d",
   "metadata": {},
   "outputs": [],
   "source": []
  },
  {
   "cell_type": "code",
   "execution_count": 29,
   "id": "c30f18f2",
   "metadata": {},
   "outputs": [
    {
     "data": {
      "text/plain": [
       "array([' Male', ' Female'], dtype=object)"
      ]
     },
     "execution_count": 29,
     "metadata": {},
     "output_type": "execute_result"
    }
   ],
   "source": [
    "df['Sex'].unique()"
   ]
  },
  {
   "cell_type": "code",
   "execution_count": 30,
   "id": "e146a856",
   "metadata": {},
   "outputs": [],
   "source": [
    "df['Sex'] = lab_enc.fit_transform(df['Sex'])"
   ]
  },
  {
   "cell_type": "code",
   "execution_count": null,
   "id": "abdf3cac",
   "metadata": {},
   "outputs": [],
   "source": []
  },
  {
   "cell_type": "code",
   "execution_count": null,
   "id": "21f9bb24",
   "metadata": {},
   "outputs": [],
   "source": []
  },
  {
   "cell_type": "code",
   "execution_count": 31,
   "id": "51394a80",
   "metadata": {},
   "outputs": [
    {
     "data": {
      "text/plain": [
       "array([    0, 14084,  5178,  5013,  2407, 14344, 15024,  7688, 34095,\n",
       "        4064,  4386,  7298,  1409,  3674,  1055,  3464,  2050,  2176,\n",
       "        2174,   594, 20051,  6849,  4101,  1111,  8614,  3411,  2597,\n",
       "       25236,  4650,  9386,  2463,  3103, 10605,  2964,  3325,  2580,\n",
       "        3471,  4865, 99999,  6514,  1471,  2329,  2105,  2885, 25124,\n",
       "       10520,  2202,  2961, 27828,  6767,  2228,  1506, 13550,  2635,\n",
       "        5556,  4787,  3781,  3137,  3818,  3942,   914,   401,  2829,\n",
       "        2977,  4934,  2062,  2354,  5455, 15020,  1424,  3273, 22040,\n",
       "        4416,  3908, 10566,   991,  4931,  1086,  7430,  6497,   114,\n",
       "        7896,  2346,  3418,  3432,  2907,  1151,  2414,  2290, 15831,\n",
       "       41310,  4508,  2538,  3456,  6418,  1848,  3887,  5721,  9562,\n",
       "        1455,  2036,  1831, 11678,  2936,  2993,  7443,  6360,  1797,\n",
       "        1173,  4687,  6723,  2009,  6097,  2653,  1639, 18481,  7978,\n",
       "        2387,  5060], dtype=int64)"
      ]
     },
     "execution_count": 31,
     "metadata": {},
     "output_type": "execute_result"
    }
   ],
   "source": [
    "df['Capital_gain'].unique()"
   ]
  },
  {
   "cell_type": "code",
   "execution_count": null,
   "id": "f98b6bff",
   "metadata": {},
   "outputs": [],
   "source": []
  },
  {
   "cell_type": "code",
   "execution_count": null,
   "id": "9c404af4",
   "metadata": {},
   "outputs": [],
   "source": []
  },
  {
   "cell_type": "code",
   "execution_count": 32,
   "id": "87d4d6bf",
   "metadata": {},
   "outputs": [
    {
     "data": {
      "text/plain": [
       "array([   0, 2042, 1408, 1902, 1573, 1887, 1719, 1762, 1564, 2179, 1816,\n",
       "       1980, 1977, 1876, 1340, 2206, 1741, 1485, 2339, 2415, 1380, 1721,\n",
       "       2051, 2377, 1669, 2352, 1672,  653, 2392, 1504, 2001, 1590, 1651,\n",
       "       1628, 1848, 1740, 2002, 1579, 2258, 1602,  419, 2547, 2174, 2205,\n",
       "       1726, 2444, 1138, 2238,  625,  213, 1539,  880, 1668, 1092, 1594,\n",
       "       3004, 2231, 1844,  810, 2824, 2559, 2057, 1974,  974, 2149, 1825,\n",
       "       1735, 1258, 2129, 2603, 2282,  323, 4356, 2246, 1617, 1648, 2489,\n",
       "       3770, 1755, 3683, 2267, 2080, 2457,  155, 3900, 2201, 1944, 2467,\n",
       "       2163, 2754, 2472, 1411], dtype=int64)"
      ]
     },
     "execution_count": 32,
     "metadata": {},
     "output_type": "execute_result"
    }
   ],
   "source": [
    "df['Capital_loss'].unique()"
   ]
  },
  {
   "cell_type": "code",
   "execution_count": null,
   "id": "b7127f8d",
   "metadata": {},
   "outputs": [],
   "source": []
  },
  {
   "cell_type": "code",
   "execution_count": null,
   "id": "f9304ecb",
   "metadata": {},
   "outputs": [],
   "source": []
  },
  {
   "cell_type": "code",
   "execution_count": 33,
   "id": "9f1454fb",
   "metadata": {},
   "outputs": [
    {
     "data": {
      "text/plain": [
       "array([13, 40, 16, 45, 50, 80, 30, 35, 60, 20, 52, 44, 15, 25, 38, 43, 55,\n",
       "       48, 58, 32, 70,  2, 22, 56, 41, 28, 36, 24, 46, 42, 12, 65,  1, 10,\n",
       "       34, 75, 98, 33, 54,  8,  6, 64, 19, 18, 72,  5,  9, 47, 37, 21, 26,\n",
       "       14,  4, 59,  7, 99, 53, 39, 62, 57, 78, 90, 66, 11, 49, 84,  3, 17,\n",
       "       68, 27, 85, 31, 51, 77, 63, 23, 87, 88, 73, 89, 97, 94, 29, 96, 67,\n",
       "       82, 86, 91, 81, 76, 92, 61, 74, 95], dtype=int64)"
      ]
     },
     "execution_count": 33,
     "metadata": {},
     "output_type": "execute_result"
    }
   ],
   "source": [
    "df['Hours_per_week'].unique()"
   ]
  },
  {
   "cell_type": "code",
   "execution_count": null,
   "id": "e5c5709b",
   "metadata": {},
   "outputs": [],
   "source": []
  },
  {
   "cell_type": "code",
   "execution_count": null,
   "id": "c2dc0c12",
   "metadata": {},
   "outputs": [],
   "source": []
  },
  {
   "cell_type": "code",
   "execution_count": 34,
   "id": "388a3707",
   "metadata": {},
   "outputs": [
    {
     "data": {
      "text/plain": [
       "array([' United-States', ' Cuba', ' Jamaica', ' India', ' ?', ' Mexico',\n",
       "       ' South', ' Puerto-Rico', ' Honduras', ' England', ' Canada',\n",
       "       ' Germany', ' Iran', ' Philippines', ' Italy', ' Poland',\n",
       "       ' Columbia', ' Cambodia', ' Thailand', ' Ecuador', ' Laos',\n",
       "       ' Taiwan', ' Haiti', ' Portugal', ' Dominican-Republic',\n",
       "       ' El-Salvador', ' France', ' Guatemala', ' China', ' Japan',\n",
       "       ' Yugoslavia', ' Peru', ' Outlying-US(Guam-USVI-etc)', ' Scotland',\n",
       "       ' Trinadad&Tobago', ' Greece', ' Nicaragua', ' Vietnam', ' Hong',\n",
       "       ' Ireland', ' Hungary', ' Holand-Netherlands'], dtype=object)"
      ]
     },
     "execution_count": 34,
     "metadata": {},
     "output_type": "execute_result"
    }
   ],
   "source": [
    "df['Native_country'].unique()"
   ]
  },
  {
   "cell_type": "code",
   "execution_count": 35,
   "id": "d2bf3a4b",
   "metadata": {},
   "outputs": [],
   "source": [
    "df['Native_country'] = lab_enc.fit_transform(df['Native_country'])"
   ]
  },
  {
   "cell_type": "code",
   "execution_count": null,
   "id": "11c3c3fa",
   "metadata": {},
   "outputs": [],
   "source": []
  },
  {
   "cell_type": "code",
   "execution_count": null,
   "id": "e2bac68f",
   "metadata": {},
   "outputs": [],
   "source": []
  },
  {
   "cell_type": "code",
   "execution_count": 36,
   "id": "ce03d430",
   "metadata": {},
   "outputs": [
    {
     "data": {
      "text/plain": [
       "array([' <=50K', ' >50K'], dtype=object)"
      ]
     },
     "execution_count": 36,
     "metadata": {},
     "output_type": "execute_result"
    }
   ],
   "source": [
    "df['Income'].unique()"
   ]
  },
  {
   "cell_type": "code",
   "execution_count": null,
   "id": "3e2cb2ef",
   "metadata": {},
   "outputs": [],
   "source": []
  },
  {
   "cell_type": "code",
   "execution_count": null,
   "id": "b760d565",
   "metadata": {},
   "outputs": [],
   "source": []
  },
  {
   "cell_type": "code",
   "execution_count": null,
   "id": "3c573df4",
   "metadata": {},
   "outputs": [],
   "source": []
  },
  {
   "cell_type": "code",
   "execution_count": 37,
   "id": "f8862121",
   "metadata": {},
   "outputs": [],
   "source": [
    "# after encoding selected columns let's have a look on the dataset"
   ]
  },
  {
   "cell_type": "code",
   "execution_count": 38,
   "id": "43564e20",
   "metadata": {},
   "outputs": [
    {
     "data": {
      "text/html": [
       "<div>\n",
       "<style scoped>\n",
       "    .dataframe tbody tr th:only-of-type {\n",
       "        vertical-align: middle;\n",
       "    }\n",
       "\n",
       "    .dataframe tbody tr th {\n",
       "        vertical-align: top;\n",
       "    }\n",
       "\n",
       "    .dataframe thead th {\n",
       "        text-align: right;\n",
       "    }\n",
       "</style>\n",
       "<table border=\"1\" class=\"dataframe\">\n",
       "  <thead>\n",
       "    <tr style=\"text-align: right;\">\n",
       "      <th></th>\n",
       "      <th>Age</th>\n",
       "      <th>Workclass</th>\n",
       "      <th>Fnlwgt</th>\n",
       "      <th>Education</th>\n",
       "      <th>Education_num</th>\n",
       "      <th>Marital_status</th>\n",
       "      <th>Occupation</th>\n",
       "      <th>Relationship</th>\n",
       "      <th>Race</th>\n",
       "      <th>Sex</th>\n",
       "      <th>Capital_gain</th>\n",
       "      <th>Capital_loss</th>\n",
       "      <th>Hours_per_week</th>\n",
       "      <th>Native_country</th>\n",
       "      <th>Income</th>\n",
       "    </tr>\n",
       "  </thead>\n",
       "  <tbody>\n",
       "    <tr>\n",
       "      <th>0</th>\n",
       "      <td>50</td>\n",
       "      <td>6</td>\n",
       "      <td>83311</td>\n",
       "      <td>9.0</td>\n",
       "      <td>13</td>\n",
       "      <td>2</td>\n",
       "      <td>4</td>\n",
       "      <td>5.0</td>\n",
       "      <td>4</td>\n",
       "      <td>1</td>\n",
       "      <td>0</td>\n",
       "      <td>0</td>\n",
       "      <td>13</td>\n",
       "      <td>39</td>\n",
       "      <td>&lt;=50K</td>\n",
       "    </tr>\n",
       "    <tr>\n",
       "      <th>1</th>\n",
       "      <td>38</td>\n",
       "      <td>4</td>\n",
       "      <td>215646</td>\n",
       "      <td>6.0</td>\n",
       "      <td>9</td>\n",
       "      <td>0</td>\n",
       "      <td>6</td>\n",
       "      <td>1.0</td>\n",
       "      <td>4</td>\n",
       "      <td>1</td>\n",
       "      <td>0</td>\n",
       "      <td>0</td>\n",
       "      <td>40</td>\n",
       "      <td>39</td>\n",
       "      <td>&lt;=50K</td>\n",
       "    </tr>\n",
       "    <tr>\n",
       "      <th>2</th>\n",
       "      <td>53</td>\n",
       "      <td>4</td>\n",
       "      <td>234721</td>\n",
       "      <td>7.0</td>\n",
       "      <td>7</td>\n",
       "      <td>2</td>\n",
       "      <td>6</td>\n",
       "      <td>5.0</td>\n",
       "      <td>2</td>\n",
       "      <td>1</td>\n",
       "      <td>0</td>\n",
       "      <td>0</td>\n",
       "      <td>40</td>\n",
       "      <td>39</td>\n",
       "      <td>&lt;=50K</td>\n",
       "    </tr>\n",
       "    <tr>\n",
       "      <th>3</th>\n",
       "      <td>28</td>\n",
       "      <td>4</td>\n",
       "      <td>338409</td>\n",
       "      <td>9.0</td>\n",
       "      <td>13</td>\n",
       "      <td>2</td>\n",
       "      <td>10</td>\n",
       "      <td>4.0</td>\n",
       "      <td>2</td>\n",
       "      <td>0</td>\n",
       "      <td>0</td>\n",
       "      <td>0</td>\n",
       "      <td>40</td>\n",
       "      <td>5</td>\n",
       "      <td>&lt;=50K</td>\n",
       "    </tr>\n",
       "    <tr>\n",
       "      <th>4</th>\n",
       "      <td>37</td>\n",
       "      <td>4</td>\n",
       "      <td>284582</td>\n",
       "      <td>10.0</td>\n",
       "      <td>14</td>\n",
       "      <td>2</td>\n",
       "      <td>4</td>\n",
       "      <td>4.0</td>\n",
       "      <td>4</td>\n",
       "      <td>0</td>\n",
       "      <td>0</td>\n",
       "      <td>0</td>\n",
       "      <td>40</td>\n",
       "      <td>39</td>\n",
       "      <td>&lt;=50K</td>\n",
       "    </tr>\n",
       "    <tr>\n",
       "      <th>...</th>\n",
       "      <td>...</td>\n",
       "      <td>...</td>\n",
       "      <td>...</td>\n",
       "      <td>...</td>\n",
       "      <td>...</td>\n",
       "      <td>...</td>\n",
       "      <td>...</td>\n",
       "      <td>...</td>\n",
       "      <td>...</td>\n",
       "      <td>...</td>\n",
       "      <td>...</td>\n",
       "      <td>...</td>\n",
       "      <td>...</td>\n",
       "      <td>...</td>\n",
       "      <td>...</td>\n",
       "    </tr>\n",
       "    <tr>\n",
       "      <th>32555</th>\n",
       "      <td>27</td>\n",
       "      <td>4</td>\n",
       "      <td>257302</td>\n",
       "      <td>13.0</td>\n",
       "      <td>12</td>\n",
       "      <td>2</td>\n",
       "      <td>13</td>\n",
       "      <td>4.0</td>\n",
       "      <td>4</td>\n",
       "      <td>0</td>\n",
       "      <td>0</td>\n",
       "      <td>0</td>\n",
       "      <td>38</td>\n",
       "      <td>39</td>\n",
       "      <td>&lt;=50K</td>\n",
       "    </tr>\n",
       "    <tr>\n",
       "      <th>32556</th>\n",
       "      <td>40</td>\n",
       "      <td>4</td>\n",
       "      <td>154374</td>\n",
       "      <td>6.0</td>\n",
       "      <td>9</td>\n",
       "      <td>2</td>\n",
       "      <td>7</td>\n",
       "      <td>5.0</td>\n",
       "      <td>4</td>\n",
       "      <td>1</td>\n",
       "      <td>0</td>\n",
       "      <td>0</td>\n",
       "      <td>40</td>\n",
       "      <td>39</td>\n",
       "      <td>&gt;50K</td>\n",
       "    </tr>\n",
       "    <tr>\n",
       "      <th>32557</th>\n",
       "      <td>58</td>\n",
       "      <td>4</td>\n",
       "      <td>151910</td>\n",
       "      <td>6.0</td>\n",
       "      <td>9</td>\n",
       "      <td>6</td>\n",
       "      <td>1</td>\n",
       "      <td>2.0</td>\n",
       "      <td>4</td>\n",
       "      <td>0</td>\n",
       "      <td>0</td>\n",
       "      <td>0</td>\n",
       "      <td>40</td>\n",
       "      <td>39</td>\n",
       "      <td>&lt;=50K</td>\n",
       "    </tr>\n",
       "    <tr>\n",
       "      <th>32558</th>\n",
       "      <td>22</td>\n",
       "      <td>4</td>\n",
       "      <td>201490</td>\n",
       "      <td>6.0</td>\n",
       "      <td>9</td>\n",
       "      <td>4</td>\n",
       "      <td>1</td>\n",
       "      <td>3.0</td>\n",
       "      <td>4</td>\n",
       "      <td>1</td>\n",
       "      <td>0</td>\n",
       "      <td>0</td>\n",
       "      <td>20</td>\n",
       "      <td>39</td>\n",
       "      <td>&lt;=50K</td>\n",
       "    </tr>\n",
       "    <tr>\n",
       "      <th>32559</th>\n",
       "      <td>52</td>\n",
       "      <td>5</td>\n",
       "      <td>287927</td>\n",
       "      <td>6.0</td>\n",
       "      <td>9</td>\n",
       "      <td>2</td>\n",
       "      <td>4</td>\n",
       "      <td>4.0</td>\n",
       "      <td>4</td>\n",
       "      <td>0</td>\n",
       "      <td>15024</td>\n",
       "      <td>0</td>\n",
       "      <td>40</td>\n",
       "      <td>39</td>\n",
       "      <td>&gt;50K</td>\n",
       "    </tr>\n",
       "  </tbody>\n",
       "</table>\n",
       "<p>32560 rows × 15 columns</p>\n",
       "</div>"
      ],
      "text/plain": [
       "       Age  Workclass  Fnlwgt  Education  Education_num  Marital_status  \\\n",
       "0       50          6   83311        9.0             13               2   \n",
       "1       38          4  215646        6.0              9               0   \n",
       "2       53          4  234721        7.0              7               2   \n",
       "3       28          4  338409        9.0             13               2   \n",
       "4       37          4  284582       10.0             14               2   \n",
       "...    ...        ...     ...        ...            ...             ...   \n",
       "32555   27          4  257302       13.0             12               2   \n",
       "32556   40          4  154374        6.0              9               2   \n",
       "32557   58          4  151910        6.0              9               6   \n",
       "32558   22          4  201490        6.0              9               4   \n",
       "32559   52          5  287927        6.0              9               2   \n",
       "\n",
       "       Occupation  Relationship  Race  Sex  Capital_gain  Capital_loss  \\\n",
       "0               4           5.0     4    1             0             0   \n",
       "1               6           1.0     4    1             0             0   \n",
       "2               6           5.0     2    1             0             0   \n",
       "3              10           4.0     2    0             0             0   \n",
       "4               4           4.0     4    0             0             0   \n",
       "...           ...           ...   ...  ...           ...           ...   \n",
       "32555          13           4.0     4    0             0             0   \n",
       "32556           7           5.0     4    1             0             0   \n",
       "32557           1           2.0     4    0             0             0   \n",
       "32558           1           3.0     4    1             0             0   \n",
       "32559           4           4.0     4    0         15024             0   \n",
       "\n",
       "       Hours_per_week  Native_country  Income  \n",
       "0                  13              39   <=50K  \n",
       "1                  40              39   <=50K  \n",
       "2                  40              39   <=50K  \n",
       "3                  40               5   <=50K  \n",
       "4                  40              39   <=50K  \n",
       "...               ...             ...     ...  \n",
       "32555              38              39   <=50K  \n",
       "32556              40              39    >50K  \n",
       "32557              40              39   <=50K  \n",
       "32558              20              39   <=50K  \n",
       "32559              40              39    >50K  \n",
       "\n",
       "[32560 rows x 15 columns]"
      ]
     },
     "execution_count": 38,
     "metadata": {},
     "output_type": "execute_result"
    }
   ],
   "source": [
    "df"
   ]
  },
  {
   "cell_type": "code",
   "execution_count": null,
   "id": "d72f590e",
   "metadata": {},
   "outputs": [],
   "source": []
  },
  {
   "cell_type": "code",
   "execution_count": null,
   "id": "00b385be",
   "metadata": {},
   "outputs": [],
   "source": []
  },
  {
   "cell_type": "code",
   "execution_count": 39,
   "id": "7978fce6",
   "metadata": {},
   "outputs": [],
   "source": [
    "# now import libraries for visualization "
   ]
  },
  {
   "cell_type": "code",
   "execution_count": null,
   "id": "aab181ce",
   "metadata": {},
   "outputs": [],
   "source": []
  },
  {
   "cell_type": "code",
   "execution_count": 40,
   "id": "5a5384ef",
   "metadata": {},
   "outputs": [],
   "source": [
    "import matplotlib.pyplot as plt\n",
    "import seaborn as sns"
   ]
  },
  {
   "cell_type": "code",
   "execution_count": 41,
   "id": "2d9f2c60",
   "metadata": {},
   "outputs": [],
   "source": [
    "X = df.drop(columns=['Income'])"
   ]
  },
  {
   "cell_type": "code",
   "execution_count": 42,
   "id": "1679d789",
   "metadata": {
    "scrolled": true
   },
   "outputs": [
    {
     "data": {
      "image/png": "[encoded data removed]",
      "text/plain": [
       "<Figure size 1440x1800 with 14 Axes>"
      ]
     },
     "metadata": {},
     "output_type": "display_data"
    }
   ],
   "source": [
    "plt.figure(figsize=(20,25),facecolor='yellow')\n",
    "plotnumber = 1\n",
    "\n",
    "for column in X:\n",
    "    if plotnumber<=16:\n",
    "        ax = plt.subplot(4,4,plotnumber)\n",
    "        sns.distplot(X[column])\n",
    "        plt.xlabel(column,fontsize=20)\n",
    "        \n",
    "    plotnumber+=1\n",
    "    \n",
    "plt.show()"
   ]
  },
  {
   "cell_type": "code",
   "execution_count": 43,
   "id": "85eb6c34",
   "metadata": {},
   "outputs": [],
   "source": [
    "# as we saw in dataset outliers are present in dataset"
   ]
  },
  {
   "cell_type": "code",
   "execution_count": null,
   "id": "2c303844",
   "metadata": {},
   "outputs": [],
   "source": []
  },
  {
   "cell_type": "code",
   "execution_count": null,
   "id": "371c0a25",
   "metadata": {},
   "outputs": [],
   "source": []
  },
  {
   "cell_type": "code",
   "execution_count": 44,
   "id": "55f90274",
   "metadata": {},
   "outputs": [],
   "source": [
    "# boxplot drawn for outliers"
   ]
  },
  {
   "cell_type": "code",
   "execution_count": 45,
   "id": "d1bc7245",
   "metadata": {
    "scrolled": true
   },
   "outputs": [
    {
     "data": {
      "image/png": "[encoded data removed]",
      "text/plain": [
       "<Figure size 1440x1800 with 14 Axes>"
      ]
     },
     "metadata": {},
     "output_type": "display_data"
    }
   ],
   "source": [
    "plt.figure(figsize=(20,25),facecolor='yellow')\n",
    "plotnumber = 1\n",
    "\n",
    "for column in X:\n",
    "    if plotnumber<=16:\n",
    "        ax = plt.subplot(4,4,plotnumber)\n",
    "        plt.boxplot(X[column])\n",
    "        plt.xlabel(column,fontsize=20)\n",
    "        \n",
    "    plotnumber+=1\n",
    "    \n",
    "plt.show()"
   ]
  },
  {
   "cell_type": "code",
   "execution_count": null,
   "id": "165d30a8",
   "metadata": {},
   "outputs": [],
   "source": []
  },
  {
   "cell_type": "code",
   "execution_count": 46,
   "id": "672725bf",
   "metadata": {},
   "outputs": [],
   "source": [
    "# clearly outliers are shown by boxplot"
   ]
  },
  {
   "cell_type": "code",
   "execution_count": null,
   "id": "06bebf8c",
   "metadata": {},
   "outputs": [],
   "source": []
  },
  {
   "cell_type": "code",
   "execution_count": 47,
   "id": "fd29603b",
   "metadata": {},
   "outputs": [],
   "source": [
    "# finding q1,q3,iqr"
   ]
  },
  {
   "cell_type": "code",
   "execution_count": 48,
   "id": "980e52dd",
   "metadata": {},
   "outputs": [],
   "source": [
    "q1 = df.quantile(0.25)"
   ]
  },
  {
   "cell_type": "code",
   "execution_count": 49,
   "id": "c7069462",
   "metadata": {},
   "outputs": [],
   "source": [
    "q3 = df.quantile(0.75)"
   ]
  },
  {
   "cell_type": "code",
   "execution_count": 50,
   "id": "f35d534e",
   "metadata": {},
   "outputs": [],
   "source": [
    "iqr = q3 - q1"
   ]
  },
  {
   "cell_type": "code",
   "execution_count": 51,
   "id": "691931ea",
   "metadata": {},
   "outputs": [
    {
     "name": "stdout",
     "output_type": "stream",
     "text": [
      "Age                   28.0\n",
      "Workclass              4.0\n",
      "Fnlwgt            117831.5\n",
      "Education              6.0\n",
      "Education_num          9.0\n",
      "Marital_status         2.0\n",
      "Occupation             3.0\n",
      "Relationship           1.0\n",
      "Race                   4.0\n",
      "Sex                    0.0\n",
      "Capital_gain           0.0\n",
      "Capital_loss           0.0\n",
      "Hours_per_week        40.0\n",
      "Native_country        39.0\n",
      "Name: 0.25, dtype: float64\n"
     ]
    }
   ],
   "source": [
    "print(q1)"
   ]
  },
  {
   "cell_type": "code",
   "execution_count": 52,
   "id": "b5301404",
   "metadata": {},
   "outputs": [
    {
     "name": "stdout",
     "output_type": "stream",
     "text": [
      "Age                   48.0\n",
      "Workclass              4.0\n",
      "Fnlwgt            237054.5\n",
      "Education             11.0\n",
      "Education_num         12.0\n",
      "Marital_status         4.0\n",
      "Occupation            10.0\n",
      "Relationship           5.0\n",
      "Race                   4.0\n",
      "Sex                    1.0\n",
      "Capital_gain           0.0\n",
      "Capital_loss           0.0\n",
      "Hours_per_week        45.0\n",
      "Native_country        39.0\n",
      "Name: 0.75, dtype: float64\n"
     ]
    }
   ],
   "source": [
    "print(q3)"
   ]
  },
  {
   "cell_type": "code",
   "execution_count": 53,
   "id": "f7116099",
   "metadata": {},
   "outputs": [
    {
     "name": "stdout",
     "output_type": "stream",
     "text": [
      "Age                   20.0\n",
      "Workclass              0.0\n",
      "Fnlwgt            119223.0\n",
      "Education              5.0\n",
      "Education_num          3.0\n",
      "Marital_status         2.0\n",
      "Occupation             7.0\n",
      "Relationship           4.0\n",
      "Race                   0.0\n",
      "Sex                    1.0\n",
      "Capital_gain           0.0\n",
      "Capital_loss           0.0\n",
      "Hours_per_week         5.0\n",
      "Native_country         0.0\n",
      "dtype: float64\n"
     ]
    }
   ],
   "source": [
    "print(iqr)"
   ]
  },
  {
   "cell_type": "code",
   "execution_count": 54,
   "id": "7f4ada81",
   "metadata": {},
   "outputs": [
    {
     "data": {
      "text/plain": [
       "Index(['Age', 'Workclass', 'Fnlwgt', 'Education', 'Education_num',\n",
       "       'Marital_status', 'Occupation', 'Relationship', 'Race', 'Sex',\n",
       "       'Capital_gain', 'Capital_loss', 'Hours_per_week', 'Native_country',\n",
       "       'Income'],\n",
       "      dtype='object')"
      ]
     },
     "execution_count": 54,
     "metadata": {},
     "output_type": "execute_result"
    }
   ],
   "source": [
    "df.columns"
   ]
  },
  {
   "cell_type": "code",
   "execution_count": null,
   "id": "185183ef",
   "metadata": {},
   "outputs": [],
   "source": []
  },
  {
   "cell_type": "code",
   "execution_count": 55,
   "id": "8b431e2b",
   "metadata": {},
   "outputs": [],
   "source": [
    "# now start checking outliers in all columns except target column"
   ]
  },
  {
   "cell_type": "code",
   "execution_count": null,
   "id": "1eb9c37d",
   "metadata": {},
   "outputs": [],
   "source": []
  },
  {
   "cell_type": "code",
   "execution_count": 56,
   "id": "b75ca0af",
   "metadata": {},
   "outputs": [
    {
     "data": {
      "text/plain": [
       "78.0"
      ]
     },
     "execution_count": 56,
     "metadata": {},
     "output_type": "execute_result"
    }
   ],
   "source": [
    "age_high = (q3.Age + (1.5 * iqr.Age))\n",
    "age_high"
   ]
  },
  {
   "cell_type": "code",
   "execution_count": 57,
   "id": "53aa9a4a",
   "metadata": {},
   "outputs": [
    {
     "data": {
      "text/plain": [
       "(array([   73,   221,   429,   917,  1039,  1167,  1934,  2302,  2753,\n",
       "         2890,  2905,  3210,  3337,  3536,  3776,  3962,  4069,  4108,\n",
       "         4719,  4833,  5103,  5271,  5290,  5369,  5405,  5999,  6172,\n",
       "         6213,  6231,  6438,  6623,  6747,  7480,  7719,  7871,  8175,\n",
       "         8380,  8430,  8521,  8693,  8805,  8962,  8972,  9470, 10123,\n",
       "        10209, 10544, 11098, 11237, 11511, 11531, 11730, 11995, 12450,\n",
       "        12491, 12829, 12974, 13024, 13025, 13294, 13695, 13927, 14103,\n",
       "        14158, 14603, 14710, 14755, 14902, 15355, 15661, 15891, 16301,\n",
       "        16522, 16761, 16900, 17608, 18036, 18140, 18271, 18276, 18412,\n",
       "        18559, 18724, 18831, 19044, 19171, 19179, 19211, 19488, 19494,\n",
       "        19514, 19688, 19746, 19827, 20248, 20420, 20462, 20481, 20482,\n",
       "        20609, 20825, 20879, 20952, 21342, 21500, 21811, 21834, 22219,\n",
       "        22480, 22894, 22897, 23458, 23899, 24026, 24042, 24237, 24279,\n",
       "        24394, 24559, 25162, 25302, 25396, 26011, 26241, 26730, 27794,\n",
       "        28175, 28462, 28720, 28947, 29593, 29723, 31029, 31431, 31695,\n",
       "        31813, 31835, 31854, 32276, 32366, 32458, 32493, 32524],\n",
       "       dtype=int64),)"
      ]
     },
     "execution_count": 57,
     "metadata": {},
     "output_type": "execute_result"
    }
   ],
   "source": [
    "index = np.where(df['Age'] > age_high)\n",
    "index"
   ]
  },
  {
   "cell_type": "code",
   "execution_count": 58,
   "id": "c19f1926",
   "metadata": {},
   "outputs": [],
   "source": [
    "df = df.drop(df.index[index])"
   ]
  },
  {
   "cell_type": "code",
   "execution_count": 59,
   "id": "22f53aba",
   "metadata": {},
   "outputs": [
    {
     "data": {
      "text/plain": [
       "(32417, 15)"
      ]
     },
     "execution_count": 59,
     "metadata": {},
     "output_type": "execute_result"
    }
   ],
   "source": [
    "df.shape"
   ]
  },
  {
   "cell_type": "code",
   "execution_count": 60,
   "id": "00f2aa33",
   "metadata": {},
   "outputs": [
    {
     "data": {
      "text/plain": [
       "-2.0"
      ]
     },
     "execution_count": 60,
     "metadata": {},
     "output_type": "execute_result"
    }
   ],
   "source": [
    "age_low = (q1.Age - (1.5 * iqr.Age))\n",
    "age_low"
   ]
  },
  {
   "cell_type": "code",
   "execution_count": 61,
   "id": "d66781e8",
   "metadata": {},
   "outputs": [
    {
     "data": {
      "text/plain": [
       "(array([], dtype=int64),)"
      ]
     },
     "execution_count": 61,
     "metadata": {},
     "output_type": "execute_result"
    }
   ],
   "source": [
    "index = np.where(df['Age'] < age_low)\n",
    "index"
   ]
  },
  {
   "cell_type": "code",
   "execution_count": null,
   "id": "876dae58",
   "metadata": {},
   "outputs": [],
   "source": []
  },
  {
   "cell_type": "code",
   "execution_count": null,
   "id": "93456407",
   "metadata": {},
   "outputs": [],
   "source": []
  },
  {
   "cell_type": "code",
   "execution_count": null,
   "id": "96a2188b",
   "metadata": {},
   "outputs": [],
   "source": []
  },
  {
   "cell_type": "code",
   "execution_count": null,
   "id": "20b1dbb4",
   "metadata": {},
   "outputs": [],
   "source": []
  },
  {
   "cell_type": "code",
   "execution_count": null,
   "id": "f9a690d8",
   "metadata": {},
   "outputs": [],
   "source": []
  },
  {
   "cell_type": "code",
   "execution_count": null,
   "id": "31ab2d27",
   "metadata": {},
   "outputs": [],
   "source": []
  },
  {
   "cell_type": "code",
   "execution_count": null,
   "id": "d1969843",
   "metadata": {},
   "outputs": [],
   "source": []
  },
  {
   "cell_type": "code",
   "execution_count": null,
   "id": "cf8c8fe1",
   "metadata": {},
   "outputs": [],
   "source": []
  },
  {
   "cell_type": "code",
   "execution_count": 62,
   "id": "0cbe2fc7",
   "metadata": {},
   "outputs": [
    {
     "data": {
      "text/plain": [
       "4.0"
      ]
     },
     "execution_count": 62,
     "metadata": {},
     "output_type": "execute_result"
    }
   ],
   "source": [
    "wr_high = (q3.Workclass + (1.5 * iqr.Workclass))\n",
    "wr_high"
   ]
  },
  {
   "cell_type": "code",
   "execution_count": 63,
   "id": "b511fe01",
   "metadata": {},
   "outputs": [
    {
     "data": {
      "text/plain": [
       "(array([    0,     6,    10, ..., 32405, 32406, 32416], dtype=int64),)"
      ]
     },
     "execution_count": 63,
     "metadata": {},
     "output_type": "execute_result"
    }
   ],
   "source": [
    "index = np.where(df['Workclass'] > wr_high)\n",
    "index"
   ]
  },
  {
   "cell_type": "code",
   "execution_count": 64,
   "id": "2d774e79",
   "metadata": {},
   "outputs": [],
   "source": [
    "df = df.drop(df.index[index])"
   ]
  },
  {
   "cell_type": "code",
   "execution_count": 65,
   "id": "a76d45fc",
   "metadata": {},
   "outputs": [
    {
     "data": {
      "text/plain": [
       "(27484, 15)"
      ]
     },
     "execution_count": 65,
     "metadata": {},
     "output_type": "execute_result"
    }
   ],
   "source": [
    "df.shape"
   ]
  },
  {
   "cell_type": "code",
   "execution_count": 66,
   "id": "e1a7b646",
   "metadata": {},
   "outputs": [
    {
     "data": {
      "text/plain": [
       "4.0"
      ]
     },
     "execution_count": 66,
     "metadata": {},
     "output_type": "execute_result"
    }
   ],
   "source": [
    "wr_low = (q1.Workclass - (1.5 * iqr.Workclass))\n",
    "wr_low"
   ]
  },
  {
   "cell_type": "code",
   "execution_count": 67,
   "id": "3d365253",
   "metadata": {},
   "outputs": [
    {
     "data": {
      "text/plain": [
       "(array([   16,    19,    21, ..., 27469, 27470, 27472], dtype=int64),)"
      ]
     },
     "execution_count": 67,
     "metadata": {},
     "output_type": "execute_result"
    }
   ],
   "source": [
    "index = np.where(df['Workclass'] < wr_low)\n",
    "index"
   ]
  },
  {
   "cell_type": "code",
   "execution_count": 68,
   "id": "d5dadf3d",
   "metadata": {},
   "outputs": [],
   "source": [
    "df = df.drop(df.index[index])"
   ]
  },
  {
   "cell_type": "code",
   "execution_count": 69,
   "id": "1fc8b6f7",
   "metadata": {},
   "outputs": [
    {
     "data": {
      "text/plain": [
       "(22634, 15)"
      ]
     },
     "execution_count": 69,
     "metadata": {},
     "output_type": "execute_result"
    }
   ],
   "source": [
    "df.shape"
   ]
  },
  {
   "cell_type": "code",
   "execution_count": null,
   "id": "1cf6e525",
   "metadata": {},
   "outputs": [],
   "source": []
  },
  {
   "cell_type": "code",
   "execution_count": null,
   "id": "f9c4096e",
   "metadata": {},
   "outputs": [],
   "source": []
  },
  {
   "cell_type": "code",
   "execution_count": 70,
   "id": "58019bfa",
   "metadata": {},
   "outputs": [
    {
     "data": {
      "text/plain": [
       "415889.0"
      ]
     },
     "execution_count": 70,
     "metadata": {},
     "output_type": "execute_result"
    }
   ],
   "source": [
    "fn_high = (q3.Fnlwgt + (1.5 * iqr.Fnlwgt))\n",
    "fn_high"
   ]
  },
  {
   "cell_type": "code",
   "execution_count": 71,
   "id": "20a7e84b",
   "metadata": {},
   "outputs": [
    {
     "data": {
      "text/plain": [
       "(array([   25,    27,    55,    75,   118,   121,   125,   144,   154,\n",
       "          186,   220,   255,   277,   281,   289,   391,   427,   447,\n",
       "          474,   570,   575,   633,   655,   669,   704,   794,   816,\n",
       "          823,   851,   885,   893,   902,   928,   942,   946,   987,\n",
       "          995,  1031,  1090,  1112,  1128,  1135,  1146,  1203,  1243,\n",
       "         1261,  1277,  1353,  1366,  1392,  1404,  1425,  1463,  1508,\n",
       "         1558,  1595,  1612,  1618,  1627,  1647,  1693,  1719,  1732,\n",
       "         1761,  1832,  1894,  1897,  1938,  1939,  1954,  1967,  1986,\n",
       "         2010,  2015,  2017,  2040,  2073,  2150,  2178,  2179,  2206,\n",
       "         2219,  2239,  2251,  2335,  2347,  2367,  2381,  2403,  2447,\n",
       "         2449,  2543,  2565,  2603,  2651,  2668,  2701,  2714,  2784,\n",
       "         2804,  2809,  2816,  2830,  2855,  2876,  2906,  2935,  2937,\n",
       "         2952,  2966,  3017,  3041,  3061,  3079,  3126,  3143,  3232,\n",
       "         3289,  3311,  3407,  3412,  3436,  3440,  3454,  3602,  3651,\n",
       "         3663,  3767,  3793,  3835,  3841,  3847,  3911,  3924,  3956,\n",
       "         4022,  4023,  4075,  4141,  4143,  4171,  4229,  4245,  4249,\n",
       "         4299,  4311,  4312,  4331,  4344,  4454,  4471,  4472,  4495,\n",
       "         4580,  4591,  4610,  4625,  4645,  4655,  4678,  4727,  4803,\n",
       "         4856,  4904,  4937,  4943,  4969,  4990,  5061,  5068,  5125,\n",
       "         5139,  5146,  5178,  5213,  5244,  5259,  5307,  5318,  5332,\n",
       "         5357,  5364,  5365,  5483,  5511,  5532,  5559,  5686,  5690,\n",
       "         5695,  5709,  5724,  5727,  5731,  5743,  5777,  5820,  5842,\n",
       "         5880,  5881,  5884,  5922,  5927,  5985,  5997,  6009,  6092,\n",
       "         6101,  6169,  6223,  6238,  6259,  6286,  6317,  6373,  6454,\n",
       "         6475,  6511,  6516,  6528,  6565,  6591,  6714,  6723,  6737,\n",
       "         6746,  6751,  6768,  6784,  6792,  6823,  6844,  6853,  6862,\n",
       "         6917,  6930,  7006,  7055,  7067,  7124,  7205,  7234,  7245,\n",
       "         7278,  7347,  7370,  7408,  7415,  7439,  7521,  7540,  7543,\n",
       "         7559,  7568,  7641,  7662,  7669,  7680,  7805,  7826,  7855,\n",
       "         7940,  8125,  8219,  8228,  8244,  8324,  8346,  8358,  8371,\n",
       "         8387,  8398,  8411,  8434,  8445,  8484,  8507,  8537,  8570,\n",
       "         8637,  8643,  8661,  8697,  8773,  8777,  8803,  8847,  8864,\n",
       "         8899,  8908,  8913,  8950,  8998,  9027,  9061,  9081,  9090,\n",
       "         9095,  9097,  9168,  9175,  9185,  9225,  9227,  9274,  9279,\n",
       "         9327,  9335,  9366,  9378,  9395,  9458,  9482,  9500,  9551,\n",
       "         9554,  9586,  9653,  9655,  9692,  9746,  9807,  9829,  9907,\n",
       "         9995, 10020, 10054, 10192, 10229, 10245, 10267, 10280, 10327,\n",
       "        10403, 10458, 10502, 10542, 10648, 10654, 10683, 10695, 10697,\n",
       "        10705, 10757, 10765, 10766, 10774, 10792, 10795, 10804, 10873,\n",
       "        10900, 10910, 10978, 11026, 11064, 11068, 11138, 11173, 11185,\n",
       "        11271, 11410, 11421, 11426, 11433, 11445, 11466, 11558, 11574,\n",
       "        11577, 11613, 11618, 11624, 11642, 11654, 11693, 11733, 11765,\n",
       "        11838, 11852, 11873, 11904, 11910, 11952, 11998, 12031, 12045,\n",
       "        12063, 12064, 12073, 12099, 12109, 12141, 12147, 12165, 12190,\n",
       "        12203, 12238, 12244, 12313, 12327, 12341, 12346, 12375, 12605,\n",
       "        12614, 12616, 12621, 12625, 12679, 12705, 12710, 12730, 12735,\n",
       "        12751, 12754, 12944, 12950, 13031, 13088, 13098, 13105, 13121,\n",
       "        13172, 13183, 13290, 13339, 13397, 13414, 13475, 13609, 13628,\n",
       "        13704, 13725, 13743, 13867, 13999, 14005, 14013, 14051, 14057,\n",
       "        14072, 14085, 14155, 14176, 14186, 14191, 14215, 14231, 14254,\n",
       "        14300, 14418, 14494, 14496, 14509, 14518, 14555, 14580, 14596,\n",
       "        14621, 14722, 14740, 14761, 14807, 14811, 14860, 14882, 14890,\n",
       "        14895, 15059, 15084, 15092, 15106, 15164, 15170, 15194, 15200,\n",
       "        15208, 15226, 15267, 15290, 15295, 15309, 15388, 15484, 15494,\n",
       "        15500, 15514, 15523, 15693, 15732, 15758, 15797, 15816, 15836,\n",
       "        15855, 15857, 15869, 15881, 15889, 15922, 15949, 15978, 16026,\n",
       "        16035, 16037, 16054, 16072, 16128, 16176, 16204, 16224, 16232,\n",
       "        16240, 16292, 16342, 16367, 16379, 16384, 16392, 16413, 16437,\n",
       "        16445, 16460, 16534, 16561, 16566, 16573, 16623, 16629, 16650,\n",
       "        16677, 16683, 16684, 16757, 16859, 16955, 16987, 16993, 17013,\n",
       "        17017, 17025, 17028, 17068, 17152, 17156, 17224, 17262, 17342,\n",
       "        17390, 17485, 17560, 17584, 17588, 17636, 17649, 17683, 17699,\n",
       "        17721, 17830, 17833, 17846, 17857, 17865, 17882, 17894, 17898,\n",
       "        17923, 17926, 17943, 17975, 17978, 18014, 18072, 18097, 18147,\n",
       "        18151, 18169, 18178, 18198, 18231, 18269, 18287, 18325, 18343,\n",
       "        18380, 18398, 18429, 18491, 18567, 18581, 18645, 18694, 18712,\n",
       "        18730, 18750, 18806, 18825, 18867, 18876, 18912, 18946, 18964,\n",
       "        18966, 18973, 18984, 18995, 19013, 19027, 19048, 19080, 19095,\n",
       "        19113, 19132, 19144, 19147, 19148, 19171, 19182, 19232, 19255,\n",
       "        19300, 19341, 19405, 19462, 19515, 19545, 19551, 19554, 19565,\n",
       "        19568, 19590, 19674, 19684, 19701, 19728, 19747, 19760, 19851,\n",
       "        19857, 19885, 19896, 19934, 19939, 19957, 19978, 20036, 20063,\n",
       "        20198, 20212, 20249, 20286, 20313, 20368, 20384, 20385, 20428,\n",
       "        20433, 20434, 20451, 20593, 20640, 20730, 20771, 20782, 20784,\n",
       "        20787, 20806, 20831, 20883, 20893, 20903, 20924, 20925, 20931,\n",
       "        20932, 20981, 20990, 21007, 21049, 21097, 21100, 21109, 21143,\n",
       "        21196, 21206, 21212, 21253, 21304, 21351, 21359, 21382, 21411,\n",
       "        21512, 21552, 21636, 21706, 21731, 21736, 21748, 21749, 21760,\n",
       "        21774, 21797, 21837, 21854, 21872, 21891, 21931, 21953, 21955,\n",
       "        21977, 21994, 22022, 22033, 22045, 22078, 22107, 22108, 22115,\n",
       "        22208, 22263, 22337, 22374, 22376, 22423, 22434, 22449, 22463,\n",
       "        22566, 22586], dtype=int64),)"
      ]
     },
     "execution_count": 71,
     "metadata": {},
     "output_type": "execute_result"
    }
   ],
   "source": [
    "index = np.where(df['Fnlwgt'] > fn_high)\n",
    "index"
   ]
  },
  {
   "cell_type": "code",
   "execution_count": 72,
   "id": "73f270bf",
   "metadata": {},
   "outputs": [],
   "source": [
    "df = df.drop(df.index[index])"
   ]
  },
  {
   "cell_type": "code",
   "execution_count": 73,
   "id": "b74b6c8a",
   "metadata": {},
   "outputs": [
    {
     "data": {
      "text/plain": [
       "(21903, 15)"
      ]
     },
     "execution_count": 73,
     "metadata": {},
     "output_type": "execute_result"
    }
   ],
   "source": [
    "df.shape"
   ]
  },
  {
   "cell_type": "code",
   "execution_count": 74,
   "id": "539fa768",
   "metadata": {},
   "outputs": [
    {
     "data": {
      "text/plain": [
       "-61003.0"
      ]
     },
     "execution_count": 74,
     "metadata": {},
     "output_type": "execute_result"
    }
   ],
   "source": [
    "fn_low = (q1.Fnlwgt - (1.5 * iqr.Fnlwgt))\n",
    "fn_low"
   ]
  },
  {
   "cell_type": "code",
   "execution_count": 75,
   "id": "697b0a8c",
   "metadata": {},
   "outputs": [
    {
     "data": {
      "text/plain": [
       "(array([], dtype=int64),)"
      ]
     },
     "execution_count": 75,
     "metadata": {},
     "output_type": "execute_result"
    }
   ],
   "source": [
    "index = np.where(df['Fnlwgt'] < fn_low)\n",
    "index"
   ]
  },
  {
   "cell_type": "code",
   "execution_count": null,
   "id": "cf48c570",
   "metadata": {},
   "outputs": [],
   "source": []
  },
  {
   "cell_type": "code",
   "execution_count": null,
   "id": "e71d2f49",
   "metadata": {},
   "outputs": [],
   "source": []
  },
  {
   "cell_type": "code",
   "execution_count": null,
   "id": "0ea06804",
   "metadata": {},
   "outputs": [],
   "source": []
  },
  {
   "cell_type": "code",
   "execution_count": 76,
   "id": "2032545b",
   "metadata": {},
   "outputs": [
    {
     "data": {
      "text/plain": [
       "18.5"
      ]
     },
     "execution_count": 76,
     "metadata": {},
     "output_type": "execute_result"
    }
   ],
   "source": [
    "edu_high = (q3.Education + (1.5 * iqr.Education))\n",
    "edu_high"
   ]
  },
  {
   "cell_type": "code",
   "execution_count": 77,
   "id": "181abb27",
   "metadata": {},
   "outputs": [
    {
     "data": {
      "text/plain": [
       "(array([], dtype=int64),)"
      ]
     },
     "execution_count": 77,
     "metadata": {},
     "output_type": "execute_result"
    }
   ],
   "source": [
    "index = np.where(df['Education'] > edu_high)\n",
    "index"
   ]
  },
  {
   "cell_type": "code",
   "execution_count": 78,
   "id": "ac5e4613",
   "metadata": {},
   "outputs": [
    {
     "data": {
      "text/plain": [
       "-1.5"
      ]
     },
     "execution_count": 78,
     "metadata": {},
     "output_type": "execute_result"
    }
   ],
   "source": [
    "edu_low = (q1.Education - (1.5 * iqr.Education))\n",
    "edu_low"
   ]
  },
  {
   "cell_type": "code",
   "execution_count": 79,
   "id": "67f9fc52",
   "metadata": {},
   "outputs": [
    {
     "data": {
      "text/plain": [
       "(array([], dtype=int64),)"
      ]
     },
     "execution_count": 79,
     "metadata": {},
     "output_type": "execute_result"
    }
   ],
   "source": [
    "index = np.where(df['Education'] < edu_low)\n",
    "index"
   ]
  },
  {
   "cell_type": "code",
   "execution_count": null,
   "id": "d88d9d19",
   "metadata": {},
   "outputs": [],
   "source": []
  },
  {
   "cell_type": "code",
   "execution_count": null,
   "id": "efe25282",
   "metadata": {},
   "outputs": [],
   "source": []
  },
  {
   "cell_type": "code",
   "execution_count": null,
   "id": "ec144c64",
   "metadata": {},
   "outputs": [],
   "source": []
  },
  {
   "cell_type": "code",
   "execution_count": 80,
   "id": "66054474",
   "metadata": {},
   "outputs": [
    {
     "data": {
      "text/plain": [
       "16.5"
      ]
     },
     "execution_count": 80,
     "metadata": {},
     "output_type": "execute_result"
    }
   ],
   "source": [
    "ed_high = (q3.Education_num + (1.5 * iqr.Education_num))\n",
    "ed_high"
   ]
  },
  {
   "cell_type": "code",
   "execution_count": 81,
   "id": "c3c03ecd",
   "metadata": {},
   "outputs": [
    {
     "data": {
      "text/plain": [
       "(array([], dtype=int64),)"
      ]
     },
     "execution_count": 81,
     "metadata": {},
     "output_type": "execute_result"
    }
   ],
   "source": [
    "index = np.where(df['Education_num'] > ed_high)\n",
    "index"
   ]
  },
  {
   "cell_type": "code",
   "execution_count": 82,
   "id": "dc7b0981",
   "metadata": {},
   "outputs": [
    {
     "data": {
      "text/plain": [
       "4.5"
      ]
     },
     "execution_count": 82,
     "metadata": {},
     "output_type": "execute_result"
    }
   ],
   "source": [
    "ed_low = (q1.Education_num - (1.5 * iqr.Education_num))\n",
    "ed_low"
   ]
  },
  {
   "cell_type": "code",
   "execution_count": 83,
   "id": "05d13b95",
   "metadata": {},
   "outputs": [
    {
     "data": {
      "text/plain": [
       "(array([   11,    36,   119,   125,   165,   188,   209,   220,   251,\n",
       "          267,   274,   302,   328,   353,   390,   398,   433,   507,\n",
       "          583,   617,   623,   638,   682,   762,   859,   866,   898,\n",
       "         1024,  1033,  1074,  1075,  1093,  1099,  1157,  1192,  1199,\n",
       "         1214,  1215,  1230,  1271,  1284,  1334,  1357,  1411,  1475,\n",
       "         1479,  1483,  1488,  1533,  1577,  1580,  1589,  1616,  1651,\n",
       "         1653,  1665,  1701,  1704,  1728,  1740,  1744,  1762,  1765,\n",
       "         1767,  1839,  1865,  1867,  1889,  1898,  1904,  1929,  1979,\n",
       "         1980,  2006,  2051,  2098,  2101,  2108,  2121,  2204,  2247,\n",
       "         2260,  2275,  2282,  2286,  2296,  2358,  2373,  2395,  2397,\n",
       "         2424,  2429,  2438,  2507,  2560,  2561,  2563,  2574,  2581,\n",
       "         2596,  2603,  2642,  2653,  2700,  2730,  2846,  2862,  2976,\n",
       "         2995,  2997,  3033,  3071,  3075,  3131,  3139,  3153,  3198,\n",
       "         3206,  3301,  3330,  3346,  3351,  3360,  3366,  3375,  3389,\n",
       "         3418,  3444,  3488,  3500,  3505,  3523,  3543,  3587,  3622,\n",
       "         3643,  3655,  3659,  3706,  3724,  3743,  3746,  3776,  3782,\n",
       "         3794,  3801,  3836,  3868,  3875,  3896,  3898,  3958,  3966,\n",
       "         3970,  3996,  4284,  4341,  4349,  4395,  4409,  4468,  4502,\n",
       "         4573,  4576,  4590,  4646,  4687,  4703,  4713,  4748,  4753,\n",
       "         4800,  4867,  4873,  4882,  4883,  4886,  4908,  4961,  5012,\n",
       "         5063,  5088,  5100,  5138,  5143,  5160,  5167,  5168,  5246,\n",
       "         5254,  5270,  5283,  5288,  5320,  5341,  5356,  5382,  5389,\n",
       "         5398,  5419,  5455,  5465,  5491,  5506,  5530,  5535,  5541,\n",
       "         5555,  5607,  5669,  5689,  5730,  5851,  5862,  5934,  5935,\n",
       "         5936,  5983,  6000,  6002,  6012,  6028,  6110,  6176,  6191,\n",
       "         6208,  6212,  6218,  6246,  6286,  6313,  6325,  6437,  6443,\n",
       "         6453,  6462,  6525,  6536,  6579,  6590,  6602,  6665,  6684,\n",
       "         6718,  6736,  6803,  6808,  6817,  6867,  6900,  6903,  6925,\n",
       "         6965,  6968,  7013,  7041,  7067,  7072,  7126,  7139,  7165,\n",
       "         7253,  7261,  7300,  7325,  7344,  7359,  7362,  7387,  7434,\n",
       "         7445,  7448,  7455,  7534,  7568,  7573,  7605,  7616,  7638,\n",
       "         7661,  7673,  7703,  7745,  7770,  7801,  7836,  7910,  7963,\n",
       "         7979,  8002,  8019,  8031,  8060,  8081,  8102,  8117,  8188,\n",
       "         8201,  8205,  8214,  8240,  8246,  8272,  8284,  8285,  8318,\n",
       "         8339,  8357,  8418,  8458,  8460,  8495,  8581,  8622,  8629,\n",
       "         8636,  8736,  8748,  8769,  8775,  8780,  8790,  8801,  8809,\n",
       "         8828,  8862,  8881,  8909,  8943,  9028,  9037,  9081,  9082,\n",
       "         9171,  9230,  9267,  9272,  9281,  9292,  9334,  9343,  9348,\n",
       "         9360,  9450,  9454,  9460,  9522,  9526,  9565,  9608,  9619,\n",
       "         9702,  9731,  9751,  9776,  9815,  9846,  9866,  9868,  9910,\n",
       "         9974,  9987,  9992,  9998, 10001, 10009, 10044, 10080, 10106,\n",
       "        10135, 10151, 10173, 10179, 10200, 10240, 10270, 10322, 10457,\n",
       "        10458, 10585, 10592, 10622, 10629, 10635, 10666, 10706, 10713,\n",
       "        10751, 10756, 10776, 10795, 10822, 10838, 10840, 10858, 10868,\n",
       "        10879, 10930, 11007, 11010, 11034, 11093, 11096, 11101, 11116,\n",
       "        11142, 11151, 11295, 11328, 11404, 11413, 11431, 11453, 11494,\n",
       "        11501, 11605, 11617, 11622, 11655, 11676, 11705, 11709, 11746,\n",
       "        11764, 11766, 11778, 11825, 11855, 11860, 11874, 11908, 11910,\n",
       "        11939, 11951, 11981, 11993, 12025, 12031, 12036, 12056, 12073,\n",
       "        12075, 12150, 12304, 12314, 12320, 12334, 12376, 12421, 12446,\n",
       "        12462, 12503, 12538, 12561, 12605, 12645, 12659, 12666, 12696,\n",
       "        12709, 12734, 12760, 12800, 12804, 12855, 12878, 12884, 12939,\n",
       "        13029, 13160, 13217, 13253, 13256, 13269, 13344, 13362, 13408,\n",
       "        13419, 13430, 13493, 13494, 13505, 13508, 13535, 13542, 13543,\n",
       "        13548, 13631, 13647, 13689, 13697, 13754, 13812, 13885, 13888,\n",
       "        13919, 13945, 13960, 13977, 13991, 14102, 14115, 14126, 14147,\n",
       "        14148, 14153, 14172, 14174, 14182, 14260, 14270, 14302, 14316,\n",
       "        14335, 14343, 14347, 14415, 14433, 14447, 14502, 14564, 14601,\n",
       "        14603, 14610, 14618, 14636, 14651, 14655, 14661, 14665, 14750,\n",
       "        14798, 14840, 14868, 14893, 14960, 14977, 14986, 14990, 15007,\n",
       "        15018, 15053, 15099, 15116, 15150, 15176, 15226, 15273, 15345,\n",
       "        15358, 15388, 15403, 15429, 15446, 15476, 15511, 15542, 15546,\n",
       "        15548, 15568, 15693, 15705, 15723, 15738, 15758, 15768, 15774,\n",
       "        15838, 15853, 15908, 15944, 15947, 15954, 15964, 16007, 16041,\n",
       "        16118, 16207, 16247, 16256, 16265, 16285, 16304, 16336, 16377,\n",
       "        16402, 16413, 16498, 16569, 16636, 16664, 16740, 16756, 16804,\n",
       "        16855, 16863, 16884, 16888, 16895, 16911, 16913, 16944, 16978,\n",
       "        16982, 17006, 17030, 17032, 17040, 17136, 17159, 17162, 17178,\n",
       "        17192, 17227, 17314, 17358, 17365, 17366, 17394, 17411, 17423,\n",
       "        17519, 17528, 17575, 17611, 17628, 17634, 17637, 17715, 17739,\n",
       "        17759, 17769, 17793, 17796, 17865, 17871, 17895, 17911, 17939,\n",
       "        17955, 17978, 17991, 17999, 18001, 18022, 18063, 18067, 18082,\n",
       "        18120, 18125, 18143, 18161, 18172, 18176, 18190, 18220, 18227,\n",
       "        18228, 18244, 18334, 18390, 18450, 18455, 18479, 18481, 18490,\n",
       "        18497, 18498, 18565, 18584, 18587, 18588, 18597, 18616, 18636,\n",
       "        18671, 18686, 18716, 18732, 18757, 18789, 18794, 18800, 18805,\n",
       "        18811, 18817, 18831, 18848, 18858, 18866, 18893, 18901, 18906,\n",
       "        18950, 18956, 18958, 18965, 19005, 19035, 19070, 19087, 19101,\n",
       "        19102, 19104, 19130, 19144, 19147, 19161, 19190, 19193, 19209,\n",
       "        19213, 19292, 19330, 19365, 19370, 19377, 19389, 19398, 19429,\n",
       "        19447, 19460, 19467, 19528, 19548, 19560, 19562, 19677, 19688,\n",
       "        19690, 19725, 19750, 19766, 19779, 19796, 19807, 19815, 19897,\n",
       "        19921, 19960, 19967, 19973, 20045, 20078, 20080, 20096, 20125,\n",
       "        20251, 20352, 20362, 20363, 20373, 20386, 20395, 20412, 20413,\n",
       "        20486, 20494, 20501, 20533, 20572, 20627, 20717, 20727, 20738,\n",
       "        20749, 20750, 20802, 20853, 20869, 20876, 20891, 20919, 20923,\n",
       "        20959, 21002, 21027, 21108, 21112, 21174, 21203, 21209, 21229,\n",
       "        21233, 21288, 21338, 21424, 21430, 21462, 21539, 21541, 21545,\n",
       "        21592, 21620, 21665, 21738, 21749, 21756, 21787, 21797, 21808,\n",
       "        21810, 21811, 21824, 21873], dtype=int64),)"
      ]
     },
     "execution_count": 83,
     "metadata": {},
     "output_type": "execute_result"
    }
   ],
   "source": [
    "index = np.where(df['Education_num'] < ed_low)\n",
    "index"
   ]
  },
  {
   "cell_type": "code",
   "execution_count": 84,
   "id": "df7ba784",
   "metadata": {},
   "outputs": [],
   "source": [
    "df = df.drop(df.index[index])"
   ]
  },
  {
   "cell_type": "code",
   "execution_count": 85,
   "id": "6f32644e",
   "metadata": {},
   "outputs": [
    {
     "data": {
      "text/plain": [
       "(21098, 15)"
      ]
     },
     "execution_count": 85,
     "metadata": {},
     "output_type": "execute_result"
    }
   ],
   "source": [
    "df.shape"
   ]
  },
  {
   "cell_type": "code",
   "execution_count": null,
   "id": "cfeb7abf",
   "metadata": {},
   "outputs": [],
   "source": []
  },
  {
   "cell_type": "code",
   "execution_count": null,
   "id": "4bf50732",
   "metadata": {},
   "outputs": [],
   "source": []
  },
  {
   "cell_type": "code",
   "execution_count": 86,
   "id": "cb58c9a3",
   "metadata": {},
   "outputs": [
    {
     "data": {
      "text/plain": [
       "7.0"
      ]
     },
     "execution_count": 86,
     "metadata": {},
     "output_type": "execute_result"
    }
   ],
   "source": [
    "ms_high = (q3.Marital_status + (1.5 * iqr.Marital_status))\n",
    "ms_high"
   ]
  },
  {
   "cell_type": "code",
   "execution_count": 87,
   "id": "8c16cc29",
   "metadata": {},
   "outputs": [
    {
     "data": {
      "text/plain": [
       "(array([], dtype=int64),)"
      ]
     },
     "execution_count": 87,
     "metadata": {},
     "output_type": "execute_result"
    }
   ],
   "source": [
    "index = np.where(df['Marital_status'] > ms_high)\n",
    "index"
   ]
  },
  {
   "cell_type": "code",
   "execution_count": 88,
   "id": "c22ae432",
   "metadata": {},
   "outputs": [
    {
     "data": {
      "text/plain": [
       "-1.0"
      ]
     },
     "execution_count": 88,
     "metadata": {},
     "output_type": "execute_result"
    }
   ],
   "source": [
    "ms_low = (q1.Marital_status - (1.5 * iqr.Marital_status))\n",
    "ms_low"
   ]
  },
  {
   "cell_type": "code",
   "execution_count": 89,
   "id": "602c6233",
   "metadata": {},
   "outputs": [
    {
     "data": {
      "text/plain": [
       "(array([], dtype=int64),)"
      ]
     },
     "execution_count": 89,
     "metadata": {},
     "output_type": "execute_result"
    }
   ],
   "source": [
    "index = np.where(df['Marital_status'] < ms_low)\n",
    "index"
   ]
  },
  {
   "cell_type": "code",
   "execution_count": null,
   "id": "b4036711",
   "metadata": {},
   "outputs": [],
   "source": []
  },
  {
   "cell_type": "code",
   "execution_count": null,
   "id": "2cfca242",
   "metadata": {},
   "outputs": [],
   "source": []
  },
  {
   "cell_type": "code",
   "execution_count": null,
   "id": "d810bfbb",
   "metadata": {},
   "outputs": [],
   "source": []
  },
  {
   "cell_type": "code",
   "execution_count": null,
   "id": "5859a0ba",
   "metadata": {},
   "outputs": [],
   "source": []
  },
  {
   "cell_type": "code",
   "execution_count": null,
   "id": "eee58059",
   "metadata": {},
   "outputs": [],
   "source": []
  },
  {
   "cell_type": "code",
   "execution_count": null,
   "id": "dd31fa1c",
   "metadata": {},
   "outputs": [],
   "source": []
  },
  {
   "cell_type": "code",
   "execution_count": 90,
   "id": "fdcdae0e",
   "metadata": {},
   "outputs": [
    {
     "data": {
      "text/plain": [
       "20.5"
      ]
     },
     "execution_count": 90,
     "metadata": {},
     "output_type": "execute_result"
    }
   ],
   "source": [
    "oc_high = (q3.Occupation + (1.5 * iqr.Occupation))\n",
    "oc_high"
   ]
  },
  {
   "cell_type": "code",
   "execution_count": 91,
   "id": "839610c4",
   "metadata": {},
   "outputs": [
    {
     "data": {
      "text/plain": [
       "(array([], dtype=int64),)"
      ]
     },
     "execution_count": 91,
     "metadata": {},
     "output_type": "execute_result"
    }
   ],
   "source": [
    "index = np.where(df['Occupation'] > oc_high)\n",
    "index"
   ]
  },
  {
   "cell_type": "code",
   "execution_count": 92,
   "id": "b4d1d9c8",
   "metadata": {},
   "outputs": [
    {
     "data": {
      "text/plain": [
       "-7.5"
      ]
     },
     "execution_count": 92,
     "metadata": {},
     "output_type": "execute_result"
    }
   ],
   "source": [
    "oc_low = (q1.Occupation - (1.5 * iqr.Occupation))\n",
    "oc_low"
   ]
  },
  {
   "cell_type": "code",
   "execution_count": 93,
   "id": "53e3d293",
   "metadata": {},
   "outputs": [
    {
     "data": {
      "text/plain": [
       "(array([], dtype=int64),)"
      ]
     },
     "execution_count": 93,
     "metadata": {},
     "output_type": "execute_result"
    }
   ],
   "source": [
    "index = np.where(df['Occupation'] < oc_low)\n",
    "index"
   ]
  },
  {
   "cell_type": "code",
   "execution_count": null,
   "id": "37b69311",
   "metadata": {},
   "outputs": [],
   "source": []
  },
  {
   "cell_type": "code",
   "execution_count": null,
   "id": "eca1de31",
   "metadata": {},
   "outputs": [],
   "source": []
  },
  {
   "cell_type": "code",
   "execution_count": 94,
   "id": "4d880ec0",
   "metadata": {},
   "outputs": [
    {
     "data": {
      "text/plain": [
       "11.0"
      ]
     },
     "execution_count": 94,
     "metadata": {},
     "output_type": "execute_result"
    }
   ],
   "source": [
    "rel_high = (q3.Relationship + (1.5 * iqr.Relationship))\n",
    "rel_high"
   ]
  },
  {
   "cell_type": "code",
   "execution_count": 95,
   "id": "002ece77",
   "metadata": {},
   "outputs": [
    {
     "data": {
      "text/plain": [
       "(array([], dtype=int64),)"
      ]
     },
     "execution_count": 95,
     "metadata": {},
     "output_type": "execute_result"
    }
   ],
   "source": [
    "index = np.where(df['Relationship'] > rel_high)\n",
    "index"
   ]
  },
  {
   "cell_type": "code",
   "execution_count": 96,
   "id": "fa966ee2",
   "metadata": {},
   "outputs": [
    {
     "data": {
      "text/plain": [
       "-5.0"
      ]
     },
     "execution_count": 96,
     "metadata": {},
     "output_type": "execute_result"
    }
   ],
   "source": [
    "rel_low = (q1.Relationship - (1.5 * iqr.Relationship))\n",
    "rel_low"
   ]
  },
  {
   "cell_type": "code",
   "execution_count": 97,
   "id": "0b8bb19d",
   "metadata": {},
   "outputs": [
    {
     "data": {
      "text/plain": [
       "(array([], dtype=int64),)"
      ]
     },
     "execution_count": 97,
     "metadata": {},
     "output_type": "execute_result"
    }
   ],
   "source": [
    "index = np.where(df['Relationship'] < rel_low)\n",
    "index"
   ]
  },
  {
   "cell_type": "code",
   "execution_count": null,
   "id": "045225ef",
   "metadata": {},
   "outputs": [],
   "source": []
  },
  {
   "cell_type": "code",
   "execution_count": null,
   "id": "c53cbb5c",
   "metadata": {},
   "outputs": [],
   "source": []
  },
  {
   "cell_type": "code",
   "execution_count": null,
   "id": "0bf82f47",
   "metadata": {},
   "outputs": [],
   "source": []
  },
  {
   "cell_type": "code",
   "execution_count": null,
   "id": "95ee3ae8",
   "metadata": {},
   "outputs": [],
   "source": []
  },
  {
   "cell_type": "code",
   "execution_count": null,
   "id": "7f67c1ba",
   "metadata": {},
   "outputs": [],
   "source": []
  },
  {
   "cell_type": "code",
   "execution_count": 98,
   "id": "441df791",
   "metadata": {},
   "outputs": [
    {
     "data": {
      "text/plain": [
       "4.0"
      ]
     },
     "execution_count": 98,
     "metadata": {},
     "output_type": "execute_result"
    }
   ],
   "source": [
    "race_high = (q3.Race + (1.5 * iqr.Race))\n",
    "race_high"
   ]
  },
  {
   "cell_type": "code",
   "execution_count": 99,
   "id": "2ad8f69b",
   "metadata": {},
   "outputs": [
    {
     "data": {
      "text/plain": [
       "(array([], dtype=int64),)"
      ]
     },
     "execution_count": 99,
     "metadata": {},
     "output_type": "execute_result"
    }
   ],
   "source": [
    "index = np.where(df['Race'] > race_high)\n",
    "index"
   ]
  },
  {
   "cell_type": "code",
   "execution_count": 100,
   "id": "8c70cd7e",
   "metadata": {},
   "outputs": [
    {
     "data": {
      "text/plain": [
       "4.0"
      ]
     },
     "execution_count": 100,
     "metadata": {},
     "output_type": "execute_result"
    }
   ],
   "source": [
    "race_low = (q1.Race - (1.5 * iqr.Race))\n",
    "race_low"
   ]
  },
  {
   "cell_type": "code",
   "execution_count": 101,
   "id": "b2099948",
   "metadata": {},
   "outputs": [
    {
     "data": {
      "text/plain": [
       "(array([    1,     2,     4, ..., 21086, 21089, 21091], dtype=int64),)"
      ]
     },
     "execution_count": 101,
     "metadata": {},
     "output_type": "execute_result"
    }
   ],
   "source": [
    "index = np.where(df['Race'] < race_low)\n",
    "index"
   ]
  },
  {
   "cell_type": "code",
   "execution_count": 102,
   "id": "54937401",
   "metadata": {},
   "outputs": [],
   "source": [
    "df = df.drop(df.index[index])"
   ]
  },
  {
   "cell_type": "code",
   "execution_count": 103,
   "id": "0d901278",
   "metadata": {},
   "outputs": [
    {
     "data": {
      "text/plain": [
       "(18116, 15)"
      ]
     },
     "execution_count": 103,
     "metadata": {},
     "output_type": "execute_result"
    }
   ],
   "source": [
    "df.shape"
   ]
  },
  {
   "cell_type": "code",
   "execution_count": null,
   "id": "d1dd5458",
   "metadata": {},
   "outputs": [],
   "source": []
  },
  {
   "cell_type": "code",
   "execution_count": null,
   "id": "da1f7b4e",
   "metadata": {},
   "outputs": [],
   "source": []
  },
  {
   "cell_type": "code",
   "execution_count": null,
   "id": "b1b4638e",
   "metadata": {},
   "outputs": [],
   "source": []
  },
  {
   "cell_type": "code",
   "execution_count": 104,
   "id": "6a530cc6",
   "metadata": {},
   "outputs": [
    {
     "data": {
      "text/plain": [
       "2.5"
      ]
     },
     "execution_count": 104,
     "metadata": {},
     "output_type": "execute_result"
    }
   ],
   "source": [
    "sex_high = (q3.Sex + (1.5 * iqr.Sex))\n",
    "sex_high"
   ]
  },
  {
   "cell_type": "code",
   "execution_count": 105,
   "id": "be84316d",
   "metadata": {},
   "outputs": [
    {
     "data": {
      "text/plain": [
       "(array([], dtype=int64),)"
      ]
     },
     "execution_count": 105,
     "metadata": {},
     "output_type": "execute_result"
    }
   ],
   "source": [
    "index = np.where(df['Sex'] > sex_high)\n",
    "index"
   ]
  },
  {
   "cell_type": "code",
   "execution_count": 106,
   "id": "201cbf12",
   "metadata": {},
   "outputs": [
    {
     "data": {
      "text/plain": [
       "-1.5"
      ]
     },
     "execution_count": 106,
     "metadata": {},
     "output_type": "execute_result"
    }
   ],
   "source": [
    "sex_low = (q1.Sex - (1.5 * iqr.Sex))\n",
    "sex_low"
   ]
  },
  {
   "cell_type": "code",
   "execution_count": 107,
   "id": "998fb911",
   "metadata": {},
   "outputs": [
    {
     "data": {
      "text/plain": [
       "(array([], dtype=int64),)"
      ]
     },
     "execution_count": 107,
     "metadata": {},
     "output_type": "execute_result"
    }
   ],
   "source": [
    "index = np.where(df['Sex'] < sex_low)\n",
    "index"
   ]
  },
  {
   "cell_type": "code",
   "execution_count": null,
   "id": "aea536ae",
   "metadata": {},
   "outputs": [],
   "source": []
  },
  {
   "cell_type": "code",
   "execution_count": null,
   "id": "87a73cda",
   "metadata": {},
   "outputs": [],
   "source": []
  },
  {
   "cell_type": "code",
   "execution_count": 108,
   "id": "4da23ad9",
   "metadata": {},
   "outputs": [
    {
     "data": {
      "text/plain": [
       "0.0"
      ]
     },
     "execution_count": 108,
     "metadata": {},
     "output_type": "execute_result"
    }
   ],
   "source": [
    "cg_high = (q3.Capital_gain + (1.5 * iqr.Capital_gain))\n",
    "cg_high"
   ]
  },
  {
   "cell_type": "code",
   "execution_count": 109,
   "id": "86c61ae8",
   "metadata": {},
   "outputs": [
    {
     "data": {
      "text/plain": [
       "(array([    2,     3,    28, ..., 18027, 18047, 18064], dtype=int64),)"
      ]
     },
     "execution_count": 109,
     "metadata": {},
     "output_type": "execute_result"
    }
   ],
   "source": [
    "index = np.where(df['Capital_gain'] > cg_high)\n",
    "index"
   ]
  },
  {
   "cell_type": "code",
   "execution_count": 110,
   "id": "754fe391",
   "metadata": {},
   "outputs": [],
   "source": [
    "df = df.drop(df.index[index])"
   ]
  },
  {
   "cell_type": "code",
   "execution_count": 111,
   "id": "16783666",
   "metadata": {},
   "outputs": [
    {
     "data": {
      "text/plain": [
       "(16653, 15)"
      ]
     },
     "execution_count": 111,
     "metadata": {},
     "output_type": "execute_result"
    }
   ],
   "source": [
    "df.shape"
   ]
  },
  {
   "cell_type": "code",
   "execution_count": 112,
   "id": "42b8ec88",
   "metadata": {},
   "outputs": [
    {
     "data": {
      "text/plain": [
       "0.0"
      ]
     },
     "execution_count": 112,
     "metadata": {},
     "output_type": "execute_result"
    }
   ],
   "source": [
    "cg_low = (q1.Capital_gain - (1.5 * iqr.Capital_gain))\n",
    "cg_low"
   ]
  },
  {
   "cell_type": "code",
   "execution_count": 113,
   "id": "45ca1718",
   "metadata": {},
   "outputs": [
    {
     "data": {
      "text/plain": [
       "(array([], dtype=int64),)"
      ]
     },
     "execution_count": 113,
     "metadata": {},
     "output_type": "execute_result"
    }
   ],
   "source": [
    "index = np.where(df['Capital_gain'] < cg_low)\n",
    "index"
   ]
  },
  {
   "cell_type": "code",
   "execution_count": null,
   "id": "319addf3",
   "metadata": {},
   "outputs": [],
   "source": []
  },
  {
   "cell_type": "code",
   "execution_count": null,
   "id": "bdf0fac3",
   "metadata": {},
   "outputs": [],
   "source": []
  },
  {
   "cell_type": "code",
   "execution_count": null,
   "id": "6858bda3",
   "metadata": {},
   "outputs": [],
   "source": []
  },
  {
   "cell_type": "code",
   "execution_count": null,
   "id": "f739b78c",
   "metadata": {},
   "outputs": [],
   "source": []
  },
  {
   "cell_type": "code",
   "execution_count": null,
   "id": "f9d155ac",
   "metadata": {},
   "outputs": [],
   "source": []
  },
  {
   "cell_type": "code",
   "execution_count": 114,
   "id": "cc66d953",
   "metadata": {},
   "outputs": [
    {
     "data": {
      "text/plain": [
       "0.0"
      ]
     },
     "execution_count": 114,
     "metadata": {},
     "output_type": "execute_result"
    }
   ],
   "source": [
    "cl_high = (q3.Capital_loss + (1.5 * iqr.Capital_loss))\n",
    "cl_high"
   ]
  },
  {
   "cell_type": "code",
   "execution_count": 115,
   "id": "4dcf6969",
   "metadata": {},
   "outputs": [
    {
     "data": {
      "text/plain": [
       "(array([    6,    11,    22,    60,    64,    70,    74,    83,    84,\n",
       "           93,   112,   116,   155,   158,   176,   190,   228,   254,\n",
       "          288,   297,   329,   341,   343,   354,   360,   384,   391,\n",
       "          409,   410,   476,   495,   505,   512,   537,   547,   551,\n",
       "          594,   627,   646,   651,   654,   703,   723,   736,   746,\n",
       "          753,   759,   772,   776,   786,   834,   835,   850,   868,\n",
       "          960,   961,   970,  1004,  1007,  1016,  1024,  1052,  1056,\n",
       "         1059,  1062,  1080,  1141,  1144,  1151,  1160,  1170,  1176,\n",
       "         1194,  1199,  1202,  1203,  1212,  1215,  1233,  1258,  1295,\n",
       "         1354,  1393,  1435,  1448,  1492,  1495,  1526,  1541,  1546,\n",
       "         1582,  1595,  1598,  1599,  1636,  1643,  1727,  1736,  1762,\n",
       "         1771,  1799,  1804,  1812,  1820,  1831,  1835,  1845,  1899,\n",
       "         1909,  1916,  1917,  1929,  1960,  1965,  1967,  1980,  2000,\n",
       "         2025,  2027,  2033,  2055,  2059,  2074,  2076,  2090,  2127,\n",
       "         2138,  2149,  2187,  2190,  2200,  2233,  2238,  2242,  2286,\n",
       "         2315,  2356,  2360,  2381,  2391,  2406,  2424,  2437,  2456,\n",
       "         2463,  2484,  2501,  2531,  2550,  2572,  2609,  2627,  2633,\n",
       "         2660,  2687,  2691,  2693,  2695,  2792,  2818,  2825,  2882,\n",
       "         2886,  2928,  2965,  2988,  3058,  3087,  3131,  3136,  3174,\n",
       "         3197,  3239,  3259,  3269,  3316,  3317,  3322,  3364,  3396,\n",
       "         3403,  3404,  3492,  3505,  3551,  3580,  3611,  3625,  3646,\n",
       "         3701,  3721,  3741,  3759,  3765,  3772,  3783,  3854,  3869,\n",
       "         3893,  3945,  3951,  3962,  3991,  3992,  4047,  4055,  4056,\n",
       "         4101,  4110,  4112,  4132,  4147,  4150,  4176,  4193,  4201,\n",
       "         4227,  4263,  4270,  4273,  4296,  4310,  4322,  4345,  4358,\n",
       "         4382,  4416,  4432,  4469,  4525,  4561,  4590,  4615,  4639,\n",
       "         4644,  4659,  4676,  4687,  4698,  4717,  4731,  4733,  4770,\n",
       "         4783,  4785,  4786,  4806,  4807,  4824,  4901,  4902,  4969,\n",
       "         4970,  5017,  5074,  5121,  5197,  5214,  5220,  5222,  5227,\n",
       "         5236,  5241,  5284,  5330,  5343,  5352,  5378,  5392,  5405,\n",
       "         5420,  5460,  5468,  5541,  5542,  5572,  5584,  5593,  5604,\n",
       "         5607,  5626,  5627,  5629,  5643,  5649,  5655,  5657,  5667,\n",
       "         5677,  5705,  5713,  5721,  5725,  5732,  5747,  5755,  5794,\n",
       "         5802,  5816,  5835,  5859,  5863,  5877,  5932,  5949,  5968,\n",
       "         5980,  5981,  5986,  5994,  6003,  6012,  6018,  6072,  6092,\n",
       "         6102,  6115,  6134,  6145,  6179,  6194,  6198,  6209,  6217,\n",
       "         6254,  6303,  6325,  6381,  6414,  6419,  6423,  6499,  6512,\n",
       "         6521,  6563,  6568,  6617,  6633,  6711,  6716,  6736,  6749,\n",
       "         6790,  6807,  6814,  6831,  6846,  6869,  6881,  6888,  6891,\n",
       "         6896,  6948,  6959,  6975,  6992,  7009,  7011,  7025,  7031,\n",
       "         7053,  7064,  7090,  7111,  7128,  7142,  7177,  7192,  7221,\n",
       "         7258,  7260,  7288,  7294,  7303,  7337,  7343,  7344,  7381,\n",
       "         7448,  7509,  7513,  7527,  7535,  7550,  7557,  7558,  7578,\n",
       "         7643,  7644,  7740,  7769,  7786,  7789,  7797,  7816,  7829,\n",
       "         7878,  7909,  7914,  7930,  7944,  7962,  7964,  7970,  7977,\n",
       "         8009,  8015,  8054,  8062,  8120,  8133,  8141,  8144,  8158,\n",
       "         8211,  8227,  8245,  8270,  8303,  8336,  8350,  8413,  8475,\n",
       "         8481,  8483,  8493,  8505,  8510,  8539,  8571,  8578,  8624,\n",
       "         8670,  8693,  8708,  8755,  8771,  8803,  8812,  8847,  8852,\n",
       "         8868,  8896,  8904,  8910,  9006,  9030,  9039,  9060,  9063,\n",
       "         9097,  9104,  9122,  9150,  9165,  9200,  9203,  9223,  9253,\n",
       "         9257,  9276,  9285,  9291,  9294,  9308,  9309,  9311,  9381,\n",
       "         9389,  9390,  9406,  9411,  9429,  9494,  9520,  9543,  9560,\n",
       "         9563,  9572,  9593,  9605,  9616,  9634,  9637,  9643,  9692,\n",
       "         9697,  9780,  9794,  9819,  9824,  9831,  9868,  9881,  9892,\n",
       "         9906,  9939,  9945,  9962,  9964, 10002, 10014, 10024, 10025,\n",
       "        10050, 10054, 10055, 10056, 10081, 10111, 10139, 10147, 10171,\n",
       "        10202, 10206, 10214, 10277, 10325, 10328, 10330, 10356, 10370,\n",
       "        10371, 10375, 10430, 10436, 10440, 10460, 10472, 10484, 10493,\n",
       "        10499, 10562, 10572, 10579, 10589, 10596, 10653, 10660, 10701,\n",
       "        10710, 10716, 10727, 10736, 10742, 10778, 10795, 10800, 10811,\n",
       "        10867, 10875, 10878, 10924, 10996, 11047, 11092, 11109, 11131,\n",
       "        11155, 11213, 11247, 11257, 11337, 11346, 11354, 11386, 11391,\n",
       "        11440, 11453, 11465, 11479, 11537, 11547, 11612, 11631, 11676,\n",
       "        11678, 11691, 11693, 11741, 11759, 11791, 11830, 11852, 11885,\n",
       "        11914, 11916, 11955, 11991, 12033, 12094, 12097, 12144, 12146,\n",
       "        12171, 12189, 12242, 12250, 12265, 12290, 12295, 12322, 12375,\n",
       "        12420, 12422, 12427, 12430, 12431, 12470, 12477, 12479, 12504,\n",
       "        12522, 12543, 12544, 12569, 12580, 12636, 12678, 12693, 12705,\n",
       "        12735, 12739, 12749, 12758, 12765, 12777, 12795, 12802, 12805,\n",
       "        12840, 12842, 12874, 12883, 12893, 12920, 12946, 12962, 12972,\n",
       "        12987, 13006, 13018, 13023, 13036, 13041, 13044, 13091, 13096,\n",
       "        13107, 13116, 13126, 13196, 13215, 13218, 13236, 13253, 13267,\n",
       "        13330, 13398, 13441, 13447, 13456, 13480, 13482, 13485, 13516,\n",
       "        13528, 13597, 13610, 13645, 13651, 13654, 13668, 13678, 13683,\n",
       "        13704, 13725, 13739, 13748, 13751, 13753, 13758, 13766, 13807,\n",
       "        13816, 13832, 13833, 13857, 13911, 13919, 13930, 13969, 13982,\n",
       "        13998, 14010, 14110, 14155, 14160, 14170, 14206, 14214, 14223,\n",
       "        14226, 14262, 14270, 14276, 14336, 14347, 14370, 14393, 14406,\n",
       "        14407, 14410, 14472, 14498, 14516, 14551, 14562, 14576, 14633,\n",
       "        14638, 14647, 14650, 14669, 14704, 14719, 14733, 14763, 14775,\n",
       "        14780, 14798, 14861, 14872, 14891, 14912, 14918, 14919, 14946,\n",
       "        14969, 15039, 15041, 15053, 15066, 15080, 15093, 15119, 15123,\n",
       "        15169, 15174, 15175, 15194, 15196, 15203, 15217, 15224, 15227,\n",
       "        15248, 15254, 15309, 15315, 15325, 15366, 15367, 15368, 15384,\n",
       "        15442, 15448, 15449, 15454, 15468, 15477, 15484, 15496, 15519,\n",
       "        15556, 15559, 15562, 15625, 15661, 15666, 15689, 15691, 15693,\n",
       "        15696, 15735, 15736, 15739, 15753, 15764, 15768, 15849, 15857,\n",
       "        15868, 15883, 15896, 15928, 15940, 15974, 15976, 15995, 15999,\n",
       "        16016, 16017, 16019, 16143, 16164, 16168, 16199, 16205, 16238,\n",
       "        16253, 16273, 16303, 16329, 16337, 16339, 16362, 16364, 16368,\n",
       "        16374, 16406, 16427, 16430, 16442, 16471, 16473, 16488, 16494,\n",
       "        16495, 16497, 16520, 16563, 16577, 16590, 16591, 16598, 16621],\n",
       "       dtype=int64),)"
      ]
     },
     "execution_count": 115,
     "metadata": {},
     "output_type": "execute_result"
    }
   ],
   "source": [
    "index = np.where(df['Capital_loss'] > cl_high)\n",
    "index"
   ]
  },
  {
   "cell_type": "code",
   "execution_count": 116,
   "id": "edcadb69",
   "metadata": {},
   "outputs": [],
   "source": [
    "df = df.drop(df.index[index])"
   ]
  },
  {
   "cell_type": "code",
   "execution_count": 117,
   "id": "2ad78224",
   "metadata": {},
   "outputs": [
    {
     "data": {
      "text/plain": [
       "(15816, 15)"
      ]
     },
     "execution_count": 117,
     "metadata": {},
     "output_type": "execute_result"
    }
   ],
   "source": [
    "df.shape"
   ]
  },
  {
   "cell_type": "code",
   "execution_count": 118,
   "id": "7f689fab",
   "metadata": {},
   "outputs": [
    {
     "data": {
      "text/plain": [
       "0.0"
      ]
     },
     "execution_count": 118,
     "metadata": {},
     "output_type": "execute_result"
    }
   ],
   "source": [
    "cl_low = (q1.Capital_loss - (1.5 * iqr.Capital_loss))\n",
    "cl_low"
   ]
  },
  {
   "cell_type": "code",
   "execution_count": 119,
   "id": "9bdb050f",
   "metadata": {},
   "outputs": [
    {
     "data": {
      "text/plain": [
       "(array([], dtype=int64),)"
      ]
     },
     "execution_count": 119,
     "metadata": {},
     "output_type": "execute_result"
    }
   ],
   "source": [
    "index = np.where(df['Capital_loss'] < cl_low)\n",
    "index"
   ]
  },
  {
   "cell_type": "code",
   "execution_count": null,
   "id": "dfc1301a",
   "metadata": {},
   "outputs": [],
   "source": []
  },
  {
   "cell_type": "code",
   "execution_count": null,
   "id": "cb73348e",
   "metadata": {},
   "outputs": [],
   "source": []
  },
  {
   "cell_type": "code",
   "execution_count": null,
   "id": "ffbada4d",
   "metadata": {},
   "outputs": [],
   "source": []
  },
  {
   "cell_type": "code",
   "execution_count": null,
   "id": "7e81ce8b",
   "metadata": {},
   "outputs": [],
   "source": []
  },
  {
   "cell_type": "code",
   "execution_count": 120,
   "id": "4833800f",
   "metadata": {},
   "outputs": [
    {
     "data": {
      "text/plain": [
       "52.5"
      ]
     },
     "execution_count": 120,
     "metadata": {},
     "output_type": "execute_result"
    }
   ],
   "source": [
    "hp_high = (q3.Hours_per_week + (1.5 * iqr.Hours_per_week))\n",
    "hp_high"
   ]
  },
  {
   "cell_type": "code",
   "execution_count": 121,
   "id": "1941c74d",
   "metadata": {},
   "outputs": [
    {
     "data": {
      "text/plain": [
       "(array([    5,     8,    25, ..., 15798, 15804, 15806], dtype=int64),)"
      ]
     },
     "execution_count": 121,
     "metadata": {},
     "output_type": "execute_result"
    }
   ],
   "source": [
    "index = np.where(df['Hours_per_week'] > hp_high)\n",
    "index"
   ]
  },
  {
   "cell_type": "code",
   "execution_count": 122,
   "id": "0745fe09",
   "metadata": {},
   "outputs": [],
   "source": [
    "df = df.drop(df.index[index])"
   ]
  },
  {
   "cell_type": "code",
   "execution_count": 123,
   "id": "5dcb122e",
   "metadata": {},
   "outputs": [
    {
     "data": {
      "text/plain": [
       "(14411, 15)"
      ]
     },
     "execution_count": 123,
     "metadata": {},
     "output_type": "execute_result"
    }
   ],
   "source": [
    "df.shape"
   ]
  },
  {
   "cell_type": "code",
   "execution_count": 124,
   "id": "5546a1b7",
   "metadata": {},
   "outputs": [
    {
     "data": {
      "text/plain": [
       "32.5"
      ]
     },
     "execution_count": 124,
     "metadata": {},
     "output_type": "execute_result"
    }
   ],
   "source": [
    "hp_low = (q1.Hours_per_week - (1.5 * iqr.Hours_per_week))\n",
    "hp_low"
   ]
  },
  {
   "cell_type": "code",
   "execution_count": 125,
   "id": "76aaf88d",
   "metadata": {},
   "outputs": [
    {
     "data": {
      "text/plain": [
       "(array([    2,    17,    26, ..., 14393, 14396, 14410], dtype=int64),)"
      ]
     },
     "execution_count": 125,
     "metadata": {},
     "output_type": "execute_result"
    }
   ],
   "source": [
    "index = np.where(df['Hours_per_week'] < hp_low)\n",
    "index"
   ]
  },
  {
   "cell_type": "code",
   "execution_count": 126,
   "id": "1aaa854b",
   "metadata": {},
   "outputs": [],
   "source": [
    "df = df.drop(df.index[index])"
   ]
  },
  {
   "cell_type": "code",
   "execution_count": 127,
   "id": "ebdb4053",
   "metadata": {},
   "outputs": [
    {
     "data": {
      "text/plain": [
       "(11748, 15)"
      ]
     },
     "execution_count": 127,
     "metadata": {},
     "output_type": "execute_result"
    }
   ],
   "source": [
    "df.shape"
   ]
  },
  {
   "cell_type": "code",
   "execution_count": null,
   "id": "6db6001a",
   "metadata": {},
   "outputs": [],
   "source": []
  },
  {
   "cell_type": "code",
   "execution_count": null,
   "id": "39709ec4",
   "metadata": {},
   "outputs": [],
   "source": []
  },
  {
   "cell_type": "code",
   "execution_count": null,
   "id": "939380e5",
   "metadata": {},
   "outputs": [],
   "source": []
  },
  {
   "cell_type": "code",
   "execution_count": 128,
   "id": "cc8cf16f",
   "metadata": {},
   "outputs": [
    {
     "data": {
      "text/plain": [
       "39.0"
      ]
     },
     "execution_count": 128,
     "metadata": {},
     "output_type": "execute_result"
    }
   ],
   "source": [
    "nc_high = (q3.Native_country + (1.5 * iqr.Native_country))\n",
    "nc_high"
   ]
  },
  {
   "cell_type": "code",
   "execution_count": 129,
   "id": "d21bcfa7",
   "metadata": {},
   "outputs": [
    {
     "data": {
      "text/plain": [
       "(array([  348,  1562,  2231,  2579,  4609,  4909,  6631,  9326, 11033,\n",
       "        11377], dtype=int64),)"
      ]
     },
     "execution_count": 129,
     "metadata": {},
     "output_type": "execute_result"
    }
   ],
   "source": [
    "index = np.where(df['Native_country'] > nc_high)\n",
    "index"
   ]
  },
  {
   "cell_type": "code",
   "execution_count": 130,
   "id": "7987cda8",
   "metadata": {},
   "outputs": [],
   "source": [
    "df = df.drop(df.index[index])"
   ]
  },
  {
   "cell_type": "code",
   "execution_count": 131,
   "id": "623e867a",
   "metadata": {},
   "outputs": [
    {
     "data": {
      "text/plain": [
       "(11738, 15)"
      ]
     },
     "execution_count": 131,
     "metadata": {},
     "output_type": "execute_result"
    }
   ],
   "source": [
    "df.shape"
   ]
  },
  {
   "cell_type": "code",
   "execution_count": 132,
   "id": "af6a9ebb",
   "metadata": {},
   "outputs": [
    {
     "data": {
      "text/plain": [
       "39.0"
      ]
     },
     "execution_count": 132,
     "metadata": {},
     "output_type": "execute_result"
    }
   ],
   "source": [
    "nc_low = (q1.Native_country - (1.5 * iqr.Native_country))\n",
    "nc_low"
   ]
  },
  {
   "cell_type": "code",
   "execution_count": 133,
   "id": "63eb26e4",
   "metadata": {},
   "outputs": [
    {
     "data": {
      "text/plain": [
       "(array([    7,     9,    17,    25,    27,    36,    59,    69,    75,\n",
       "           78,    81,   149,   163,   170,   194,   212,   223,   225,\n",
       "          227,   229,   233,   237,   239,   251,   286,   296,   313,\n",
       "          340,   346,   356,   386,   388,   404,   414,   422,   451,\n",
       "          467,   468,   491,   539,   546,   563,   567,   594,   623,\n",
       "          642,   685,   696,   697,   709,   712,   744,   760,   776,\n",
       "          780,   795,   802,   803,   825,   827,   830,   834,   835,\n",
       "          836,   847,   887,   895,   902,   920,   944,   946,   956,\n",
       "          969,   972,  1018,  1031,  1039,  1054,  1092,  1094,  1095,\n",
       "         1096,  1106,  1109,  1117,  1120,  1121,  1134,  1165,  1172,\n",
       "         1205,  1216,  1229,  1238,  1239,  1262,  1280,  1285,  1295,\n",
       "         1380,  1383,  1385,  1390,  1416,  1433,  1456,  1464,  1475,\n",
       "         1503,  1516,  1519,  1548,  1554,  1556,  1568,  1569,  1592,\n",
       "         1599,  1620,  1627,  1633,  1640,  1643,  1648,  1652,  1653,\n",
       "         1668,  1686,  1687,  1694,  1705,  1708,  1770,  1776,  1778,\n",
       "         1792,  1794,  1807,  1809,  1811,  1826,  1828,  1841,  1860,\n",
       "         1863,  1881,  1890,  1900,  1907,  1908,  1944,  1958,  1965,\n",
       "         2000,  2006,  2028,  2044,  2046,  2057,  2109,  2120,  2121,\n",
       "         2156,  2176,  2199,  2200,  2213,  2226,  2231,  2243,  2266,\n",
       "         2267,  2307,  2334,  2339,  2347,  2382,  2386,  2390,  2402,\n",
       "         2403,  2428,  2437,  2441,  2455,  2462,  2502,  2550,  2561,\n",
       "         2578,  2601,  2617,  2649,  2675,  2701,  2740,  2763,  2792,\n",
       "         2805,  2817,  2830,  2832,  2836,  2838,  2844,  2865,  2867,\n",
       "         2870,  2894,  2900,  2932,  2937,  2966,  2977,  2981,  3020,\n",
       "         3024,  3041,  3051,  3062,  3082,  3119,  3143,  3145,  3153,\n",
       "         3155,  3212,  3215,  3278,  3290,  3313,  3328,  3337,  3339,\n",
       "         3348,  3359,  3389,  3400,  3406,  3436,  3440,  3455,  3482,\n",
       "         3501,  3513,  3514,  3520,  3555,  3559,  3567,  3598,  3610,\n",
       "         3631,  3674,  3682,  3694,  3700,  3720,  3725,  3727,  3770,\n",
       "         3776,  3780,  3798,  3803,  3850,  3869,  3886,  3910,  3931,\n",
       "         3945,  3969,  3988,  3992,  3998,  4009,  4056,  4073,  4087,\n",
       "         4109,  4113,  4148,  4160,  4164,  4166,  4183,  4222,  4250,\n",
       "         4289,  4299,  4304,  4305,  4312,  4316,  4330,  4355,  4376,\n",
       "         4377,  4378,  4398,  4404,  4416,  4417,  4419,  4468,  4474,\n",
       "         4494,  4523,  4532,  4545,  4547,  4552,  4576,  4581,  4582,\n",
       "         4589,  4613,  4630,  4631,  4686,  4693,  4701,  4702,  4707,\n",
       "         4715,  4721,  4732,  4754,  4759,  4761,  4767,  4775,  4783,\n",
       "         4815,  4878,  4887,  4891,  4900,  4923,  4939,  4965,  4969,\n",
       "         4972,  4985,  4991,  4996,  4997,  5002,  5012,  5062,  5071,\n",
       "         5083,  5085,  5112,  5125,  5128,  5154,  5158,  5163,  5172,\n",
       "         5175,  5184,  5189,  5194,  5195,  5214,  5216,  5225,  5231,\n",
       "         5244,  5247,  5279,  5310,  5322,  5330,  5345,  5378,  5391,\n",
       "         5395,  5416,  5435,  5444,  5446,  5450,  5466,  5478,  5483,\n",
       "         5484,  5496,  5531,  5559,  5572,  5610,  5618,  5635,  5642,\n",
       "         5653,  5673,  5682,  5701,  5714,  5715,  5723,  5743,  5744,\n",
       "         5746,  5752,  5754,  5774,  5783,  5792,  5798,  5806,  5817,\n",
       "         5828,  5852,  5862,  5864,  5908,  5921,  5933,  5941,  5957,\n",
       "         5964,  6021,  6047,  6057,  6088,  6122,  6148,  6152,  6154,\n",
       "         6199,  6200,  6210,  6213,  6224,  6240,  6247,  6251,  6260,\n",
       "         6262,  6276,  6285,  6334,  6373,  6379,  6382,  6391,  6408,\n",
       "         6413,  6422,  6428,  6435,  6438,  6440,  6453,  6476,  6494,\n",
       "         6500,  6501,  6508,  6526,  6527,  6542,  6558,  6561,  6569,\n",
       "         6573,  6579,  6603,  6613,  6621,  6628,  6640,  6669,  6686,\n",
       "         6690,  6695,  6696,  6717,  6749,  6781,  6806,  6807,  6848,\n",
       "         6850,  6864,  6872,  6896,  6904,  6905,  6923,  6926,  6930,\n",
       "         6949,  6950,  6977,  6994,  7007,  7010,  7023,  7024,  7032,\n",
       "         7039,  7064,  7070,  7080,  7111,  7141,  7145,  7148,  7160,\n",
       "         7165,  7170,  7181,  7217,  7223,  7244,  7288,  7306,  7313,\n",
       "         7335,  7353,  7360,  7376,  7394,  7414,  7422,  7424,  7436,\n",
       "         7442,  7445,  7501,  7505,  7522,  7536,  7537,  7549,  7564,\n",
       "         7583,  7592,  7613,  7614,  7625,  7634,  7635,  7648,  7661,\n",
       "         7674,  7676,  7680,  7692,  7708,  7760,  7778,  7814,  7820,\n",
       "         7821,  7824,  7839,  7860,  7886,  7910,  7936,  7948,  8009,\n",
       "         8020,  8027,  8040,  8050,  8051,  8058,  8074,  8086,  8142,\n",
       "         8147,  8148,  8150,  8172,  8176,  8208,  8209,  8228,  8239,\n",
       "         8243,  8244,  8249,  8253,  8257,  8270,  8274,  8281,  8304,\n",
       "         8306,  8320,  8329,  8346,  8356,  8372,  8393,  8401,  8407,\n",
       "         8424,  8439,  8443,  8475,  8476,  8485,  8531,  8543,  8560,\n",
       "         8590,  8601,  8606,  8615,  8656,  8692,  8723,  8736,  8739,\n",
       "         8759,  8780,  8785,  8811,  8838,  8842,  8852,  8878,  8880,\n",
       "         8883,  8893,  8901,  8905,  8908,  8914,  8918,  8919,  8928,\n",
       "         8934,  8945,  8964,  8971,  8981,  8986,  8991,  9018,  9020,\n",
       "         9077,  9081,  9082,  9107,  9130,  9143,  9145,  9157,  9178,\n",
       "         9180,  9181,  9204,  9217,  9219,  9223,  9266,  9277,  9282,\n",
       "         9292,  9324,  9330,  9335,  9341,  9384,  9388,  9439,  9473,\n",
       "         9480,  9483,  9485,  9490,  9532,  9542,  9544,  9546,  9564,\n",
       "         9574,  9595,  9611,  9621,  9625,  9648,  9653,  9669,  9677,\n",
       "         9678,  9685,  9694,  9695,  9707,  9717,  9750,  9781,  9783,\n",
       "         9794,  9814,  9837,  9856,  9873,  9878,  9892,  9906,  9911,\n",
       "         9920,  9943,  9949,  9967, 10006, 10012, 10027, 10056, 10069,\n",
       "        10086, 10117, 10149, 10169, 10175, 10200, 10235, 10240, 10252,\n",
       "        10272, 10276, 10310, 10314, 10318, 10321, 10331, 10337, 10339,\n",
       "        10346, 10365, 10404, 10407, 10425, 10428, 10434, 10435, 10441,\n",
       "        10453, 10471, 10475, 10476, 10481, 10488, 10561, 10597, 10603,\n",
       "        10605, 10611, 10615, 10656, 10695, 10717, 10740, 10745, 10759,\n",
       "        10797, 10802, 10822, 10827, 10832, 10864, 10882, 10886, 10894,\n",
       "        10898, 10925, 10926, 10928, 10934, 10944, 10953, 10963, 10970,\n",
       "        10992, 11010, 11013, 11018, 11058, 11067, 11096, 11117, 11158,\n",
       "        11167, 11182, 11186, 11192, 11212, 11261, 11262, 11292, 11302,\n",
       "        11326, 11340, 11350, 11402, 11418, 11429, 11460, 11503, 11505,\n",
       "        11522, 11537, 11568, 11594, 11627, 11637, 11647, 11652, 11653,\n",
       "        11666, 11676, 11721, 11731], dtype=int64),)"
      ]
     },
     "execution_count": 133,
     "metadata": {},
     "output_type": "execute_result"
    }
   ],
   "source": [
    "index = np.where(df['Native_country'] < nc_low)\n",
    "index"
   ]
  },
  {
   "cell_type": "code",
   "execution_count": 134,
   "id": "3fdd9824",
   "metadata": {},
   "outputs": [],
   "source": [
    "df = df.drop(df.index[index])"
   ]
  },
  {
   "cell_type": "code",
   "execution_count": 135,
   "id": "df42a6e7",
   "metadata": {},
   "outputs": [
    {
     "data": {
      "text/plain": [
       "(10915, 15)"
      ]
     },
     "execution_count": 135,
     "metadata": {},
     "output_type": "execute_result"
    }
   ],
   "source": [
    "df.shape"
   ]
  },
  {
   "cell_type": "code",
   "execution_count": null,
   "id": "d7d66585",
   "metadata": {},
   "outputs": [],
   "source": []
  },
  {
   "cell_type": "code",
   "execution_count": null,
   "id": "86e7505d",
   "metadata": {},
   "outputs": [],
   "source": []
  },
  {
   "cell_type": "code",
   "execution_count": 136,
   "id": "6afa6772",
   "metadata": {},
   "outputs": [],
   "source": [
    "# assigning data to a variable for plotting boxplot again"
   ]
  },
  {
   "cell_type": "code",
   "execution_count": null,
   "id": "55641186",
   "metadata": {},
   "outputs": [],
   "source": []
  },
  {
   "cell_type": "code",
   "execution_count": 137,
   "id": "afb5807a",
   "metadata": {},
   "outputs": [],
   "source": [
    "X1 = df.drop(columns=['Income'])"
   ]
  },
  {
   "cell_type": "code",
   "execution_count": 138,
   "id": "8f4df78d",
   "metadata": {},
   "outputs": [
    {
     "data": {
      "image/png": "[encoded data removed]",
      "text/plain": [
       "<Figure size 1440x1800 with 14 Axes>"
      ]
     },
     "metadata": {},
     "output_type": "display_data"
    }
   ],
   "source": [
    "plt.figure(figsize=(20,25),facecolor='yellow')\n",
    "plotnumber = 1\n",
    "\n",
    "for column in X1:\n",
    "    if plotnumber<=16:\n",
    "        ax = plt.subplot(4,4,plotnumber)\n",
    "        plt.boxplot(X1[column])\n",
    "        plt.xlabel(column,fontsize=20)\n",
    "        \n",
    "    plotnumber+=1\n",
    "    \n",
    "plt.show()"
   ]
  },
  {
   "cell_type": "code",
   "execution_count": 139,
   "id": "5b947c67",
   "metadata": {},
   "outputs": [],
   "source": [
    "# a lot of outliers have removed from dataset"
   ]
  },
  {
   "cell_type": "code",
   "execution_count": null,
   "id": "8b1981c7",
   "metadata": {},
   "outputs": [],
   "source": []
  },
  {
   "cell_type": "code",
   "execution_count": 140,
   "id": "84584a3d",
   "metadata": {},
   "outputs": [],
   "source": [
    "# also checking dataset by distribution plot again"
   ]
  },
  {
   "cell_type": "code",
   "execution_count": null,
   "id": "5a518eed",
   "metadata": {},
   "outputs": [],
   "source": []
  },
  {
   "cell_type": "code",
   "execution_count": 141,
   "id": "484031a1",
   "metadata": {},
   "outputs": [
    {
     "data": {
      "image/png": "[encoded data removed]",
      "text/plain": [
       "<Figure size 1440x1800 with 14 Axes>"
      ]
     },
     "metadata": {},
     "output_type": "display_data"
    }
   ],
   "source": [
    "plt.figure(figsize=(20,25),facecolor='yellow')\n",
    "plotnumber = 1\n",
    "\n",
    "for column in X1:\n",
    "    if plotnumber<=16:\n",
    "        ax = plt.subplot(4,4,plotnumber)\n",
    "        sns.distplot(X1[column])\n",
    "        plt.xlabel(column,fontsize=20)\n",
    "        \n",
    "    plotnumber+=1\n",
    "    \n",
    "plt.show()"
   ]
  },
  {
   "cell_type": "code",
   "execution_count": null,
   "id": "92dd33df",
   "metadata": {},
   "outputs": [],
   "source": []
  },
  {
   "cell_type": "code",
   "execution_count": null,
   "id": "613502c8",
   "metadata": {},
   "outputs": [],
   "source": []
  },
  {
   "cell_type": "code",
   "execution_count": 142,
   "id": "186d823b",
   "metadata": {},
   "outputs": [],
   "source": [
    "# now plot heatmap for checking the multicollinearity problem"
   ]
  },
  {
   "cell_type": "code",
   "execution_count": null,
   "id": "6cb56e41",
   "metadata": {},
   "outputs": [],
   "source": []
  },
  {
   "cell_type": "code",
   "execution_count": 143,
   "id": "a5166222",
   "metadata": {},
   "outputs": [],
   "source": [
    "corr = df.corr().abs()"
   ]
  },
  {
   "cell_type": "code",
   "execution_count": 144,
   "id": "1788031a",
   "metadata": {},
   "outputs": [
    {
     "data": {
      "image/png": "[encoded data removed]",
      "text/plain": [
       "<Figure size 1440x1080 with 2 Axes>"
      ]
     },
     "metadata": {
      "needs_background": "light"
     },
     "output_type": "display_data"
    }
   ],
   "source": [
    "plt.figure(figsize=(20,15))\n",
    "\n",
    "sns.heatmap(corr, annot=True)\n",
    "plt.show()"
   ]
  },
  {
   "cell_type": "code",
   "execution_count": 145,
   "id": "1f541d6c",
   "metadata": {},
   "outputs": [],
   "source": [
    "# it seems that sex and population are much related to each other"
   ]
  },
  {
   "cell_type": "code",
   "execution_count": null,
   "id": "2112244c",
   "metadata": {},
   "outputs": [],
   "source": []
  },
  {
   "cell_type": "code",
   "execution_count": 146,
   "id": "f428144a",
   "metadata": {},
   "outputs": [],
   "source": [
    "# let's see by plotting scatter plot of sex and population and also will check for education and education_num"
   ]
  },
  {
   "cell_type": "code",
   "execution_count": 147,
   "id": "56460b9f",
   "metadata": {},
   "outputs": [
    {
     "data": {
      "image/png": "[encoded data removed]",
      "text/plain": [
       "<Figure size 432x288 with 1 Axes>"
      ]
     },
     "metadata": {
      "needs_background": "light"
     },
     "output_type": "display_data"
    }
   ],
   "source": [
    "plt.scatter(df.Sex,df.Occupation)\n",
    "plt.xlabel('Sex')\n",
    "plt.ylabel('Occupation')\n",
    "\n",
    "plt.show()"
   ]
  },
  {
   "cell_type": "code",
   "execution_count": 148,
   "id": "546fc40d",
   "metadata": {},
   "outputs": [
    {
     "data": {
      "image/png": "[encoded data removed]",
      "text/plain": [
       "<Figure size 432x288 with 1 Axes>"
      ]
     },
     "metadata": {
      "needs_background": "light"
     },
     "output_type": "display_data"
    }
   ],
   "source": [
    "plt.scatter(df.Education,df.Education_num)\n",
    "plt.xlabel('Education')\n",
    "plt.ylabel('Education_num')\n",
    "\n",
    "plt.show()"
   ]
  },
  {
   "cell_type": "code",
   "execution_count": 149,
   "id": "97657979",
   "metadata": {},
   "outputs": [],
   "source": [
    "# yes sex and population are related "
   ]
  },
  {
   "cell_type": "code",
   "execution_count": 150,
   "id": "019067d0",
   "metadata": {},
   "outputs": [],
   "source": [
    "# let's delete one column"
   ]
  },
  {
   "cell_type": "code",
   "execution_count": null,
   "id": "b4ecc923",
   "metadata": {},
   "outputs": [],
   "source": []
  },
  {
   "cell_type": "code",
   "execution_count": 151,
   "id": "8dfe93ff",
   "metadata": {},
   "outputs": [],
   "source": [
    "# deleting sex column and again plot heatmap"
   ]
  },
  {
   "cell_type": "code",
   "execution_count": 152,
   "id": "790cf155",
   "metadata": {},
   "outputs": [],
   "source": [
    "df = df.drop(columns=['Sex'])\n"
   ]
  },
  {
   "cell_type": "code",
   "execution_count": 153,
   "id": "60b66863",
   "metadata": {},
   "outputs": [
    {
     "data": {
      "image/png": "[encoded data removed]",
      "text/plain": [
       "<Figure size 1440x1080 with 2 Axes>"
      ]
     },
     "metadata": {
      "needs_background": "light"
     },
     "output_type": "display_data"
    }
   ],
   "source": [
    "corr = df.corr().abs()\n",
    "\n",
    "plt.figure(figsize=(20,15))\n",
    "\n",
    "sns.heatmap(corr, annot=True)\n",
    "plt.show()"
   ]
  },
  {
   "cell_type": "code",
   "execution_count": 154,
   "id": "8269b806",
   "metadata": {},
   "outputs": [],
   "source": [
    "# now it looks better than previous"
   ]
  },
  {
   "cell_type": "code",
   "execution_count": null,
   "id": "cb75e716",
   "metadata": {},
   "outputs": [],
   "source": []
  },
  {
   "cell_type": "code",
   "execution_count": null,
   "id": "e26d3cc2",
   "metadata": {},
   "outputs": [],
   "source": []
  },
  {
   "cell_type": "code",
   "execution_count": 155,
   "id": "bb03a428",
   "metadata": {},
   "outputs": [],
   "source": [
    "# now split the dataset into two variables\n",
    "\n",
    "# now dataset is ready for standardize and train test split"
   ]
  },
  {
   "cell_type": "code",
   "execution_count": 156,
   "id": "2638db9a",
   "metadata": {},
   "outputs": [],
   "source": [
    "x = df.drop(columns=['Income'])\n",
    "y = df['Income']"
   ]
  },
  {
   "cell_type": "code",
   "execution_count": null,
   "id": "4f22db36",
   "metadata": {},
   "outputs": [],
   "source": []
  },
  {
   "cell_type": "code",
   "execution_count": null,
   "id": "ab5f4d0a",
   "metadata": {},
   "outputs": [],
   "source": []
  },
  {
   "cell_type": "code",
   "execution_count": 157,
   "id": "8f62b4a9",
   "metadata": {},
   "outputs": [],
   "source": [
    "# import standard scaler and train test split"
   ]
  },
  {
   "cell_type": "code",
   "execution_count": 158,
   "id": "1ba153fc",
   "metadata": {},
   "outputs": [],
   "source": [
    "from sklearn.preprocessing import StandardScaler\n",
    "\n",
    "from sklearn.model_selection import train_test_split"
   ]
  },
  {
   "cell_type": "code",
   "execution_count": null,
   "id": "b807082a",
   "metadata": {},
   "outputs": [],
   "source": []
  },
  {
   "cell_type": "code",
   "execution_count": null,
   "id": "ef3b945f",
   "metadata": {},
   "outputs": [],
   "source": []
  },
  {
   "cell_type": "code",
   "execution_count": 159,
   "id": "a30cd9a3",
   "metadata": {},
   "outputs": [],
   "source": [
    "# standardize the data"
   ]
  },
  {
   "cell_type": "code",
   "execution_count": 160,
   "id": "234cf65e",
   "metadata": {},
   "outputs": [],
   "source": [
    "scaler = StandardScaler()\n",
    "\n",
    "x_scaled = scaler.fit_transform(x)"
   ]
  },
  {
   "cell_type": "code",
   "execution_count": null,
   "id": "7c13e458",
   "metadata": {},
   "outputs": [],
   "source": []
  },
  {
   "cell_type": "code",
   "execution_count": null,
   "id": "91ef61bd",
   "metadata": {},
   "outputs": [],
   "source": []
  },
  {
   "cell_type": "code",
   "execution_count": 161,
   "id": "7280608c",
   "metadata": {},
   "outputs": [],
   "source": [
    "# train test split"
   ]
  },
  {
   "cell_type": "code",
   "execution_count": 162,
   "id": "19688d8f",
   "metadata": {},
   "outputs": [],
   "source": [
    "x_train,x_test,y_train,y_test = train_test_split(x_scaled,y,test_size=0.25,random_state=100)"
   ]
  },
  {
   "cell_type": "code",
   "execution_count": null,
   "id": "c1e21959",
   "metadata": {},
   "outputs": [],
   "source": []
  },
  {
   "cell_type": "code",
   "execution_count": null,
   "id": "b2e24d95",
   "metadata": {},
   "outputs": [],
   "source": []
  },
  {
   "cell_type": "code",
   "execution_count": null,
   "id": "c8052ced",
   "metadata": {},
   "outputs": [],
   "source": []
  },
  {
   "cell_type": "code",
   "execution_count": 163,
   "id": "929d8e5f",
   "metadata": {},
   "outputs": [],
   "source": [
    "# because it is a classification problem import some libraries for checking the score of model "
   ]
  },
  {
   "cell_type": "code",
   "execution_count": 164,
   "id": "a8a07e58",
   "metadata": {},
   "outputs": [],
   "source": [
    "from sklearn.metrics import accuracy_score,confusion_matrix,classification_report"
   ]
  },
  {
   "cell_type": "code",
   "execution_count": 165,
   "id": "298080d8",
   "metadata": {},
   "outputs": [],
   "source": [
    "from sklearn.metrics import plot_roc_curve,roc_curve,roc_auc_score"
   ]
  },
  {
   "cell_type": "code",
   "execution_count": null,
   "id": "21c0e1e3",
   "metadata": {},
   "outputs": [],
   "source": []
  },
  {
   "cell_type": "code",
   "execution_count": null,
   "id": "471d5f84",
   "metadata": {},
   "outputs": [],
   "source": []
  },
  {
   "cell_type": "code",
   "execution_count": 166,
   "id": "3283616d",
   "metadata": {},
   "outputs": [],
   "source": [
    "# first model Logistic Regression"
   ]
  },
  {
   "cell_type": "code",
   "execution_count": null,
   "id": "2dd54920",
   "metadata": {},
   "outputs": [],
   "source": []
  },
  {
   "cell_type": "code",
   "execution_count": 167,
   "id": "e0123722",
   "metadata": {},
   "outputs": [],
   "source": [
    "from sklearn.linear_model import LogisticRegression"
   ]
  },
  {
   "cell_type": "code",
   "execution_count": 168,
   "id": "6378778b",
   "metadata": {},
   "outputs": [
    {
     "data": {
      "text/html": [
       "<style>#sk-container-id-1 {color: black;background-color: white;}#sk-container-id-1 pre{padding: 0;}#sk-container-id-1 div.sk-toggleable {background-color: white;}#sk-container-id-1 label.sk-toggleable__label {cursor: pointer;display: block;width: 100%;margin-bottom: 0;padding: 0.3em;box-sizing: border-box;text-align: center;}#sk-container-id-1 label.sk-toggleable__label-arrow:before {content: \"▸\";float: left;margin-right: 0.25em;color: #696969;}#sk-container-id-1 label.sk-toggleable__label-arrow:hover:before {color: black;}#sk-container-id-1 div.sk-estimator:hover label.sk-toggleable__label-arrow:before {color: black;}#sk-container-id-1 div.sk-toggleable__content {max-height: 0;max-width: 0;overflow: hidden;text-align: left;background-color: #f0f8ff;}#sk-container-id-1 div.sk-toggleable__content pre {margin: 0.2em;color: black;border-radius: 0.25em;background-color: #f0f8ff;}#sk-container-id-1 input.sk-toggleable__control:checked~div.sk-toggleable__content {max-height: 200px;max-width: 100%;overflow: auto;}#sk-container-id-1 input.sk-toggleable__control:checked~label.sk-toggleable__label-arrow:before {content: \"▾\";}#sk-container-id-1 div.sk-estimator input.sk-toggleable__control:checked~label.sk-toggleable__label {background-color: #d4ebff;}#sk-container-id-1 div.sk-label input.sk-toggleable__control:checked~label.sk-toggleable__label {background-color: #d4ebff;}#sk-container-id-1 input.sk-hidden--visually {border: 0;clip: rect(1px 1px 1px 1px);clip: rect(1px, 1px, 1px, 1px);height: 1px;margin: -1px;overflow: hidden;padding: 0;position: absolute;width: 1px;}#sk-container-id-1 div.sk-estimator {font-family: monospace;background-color: #f0f8ff;border: 1px dotted black;border-radius: 0.25em;box-sizing: border-box;margin-bottom: 0.5em;}#sk-container-id-1 div.sk-estimator:hover {background-color: #d4ebff;}#sk-container-id-1 div.sk-parallel-item::after {content: \"\";width: 100%;border-bottom: 1px solid gray;flex-grow: 1;}#sk-container-id-1 div.sk-label:hover label.sk-toggleable__label {background-color: #d4ebff;}#sk-container-id-1 div.sk-serial::before {content: \"\";position: absolute;border-left: 1px solid gray;box-sizing: border-box;top: 0;bottom: 0;left: 50%;z-index: 0;}#sk-container-id-1 div.sk-serial {display: flex;flex-direction: column;align-items: center;background-color: white;padding-right: 0.2em;padding-left: 0.2em;position: relative;}#sk-container-id-1 div.sk-item {position: relative;z-index: 1;}#sk-container-id-1 div.sk-parallel {display: flex;align-items: stretch;justify-content: center;background-color: white;position: relative;}#sk-container-id-1 div.sk-item::before, #sk-container-id-1 div.sk-parallel-item::before {content: \"\";position: absolute;border-left: 1px solid gray;box-sizing: border-box;top: 0;bottom: 0;left: 50%;z-index: -1;}#sk-container-id-1 div.sk-parallel-item {display: flex;flex-direction: column;z-index: 1;position: relative;background-color: white;}#sk-container-id-1 div.sk-parallel-item:first-child::after {align-self: flex-end;width: 50%;}#sk-container-id-1 div.sk-parallel-item:last-child::after {align-self: flex-start;width: 50%;}#sk-container-id-1 div.sk-parallel-item:only-child::after {width: 0;}#sk-container-id-1 div.sk-dashed-wrapped {border: 1px dashed gray;margin: 0 0.4em 0.5em 0.4em;box-sizing: border-box;padding-bottom: 0.4em;background-color: white;}#sk-container-id-1 div.sk-label label {font-family: monospace;font-weight: bold;display: inline-block;line-height: 1.2em;}#sk-container-id-1 div.sk-label-container {text-align: center;}#sk-container-id-1 div.sk-container {/* jupyter's `normalize.less` sets `[hidden] { display: none; }` but bootstrap.min.css set `[hidden] { display: none !important; }` so we also need the `!important` here to be able to override the default hidden behavior on the sphinx rendered scikit-learn.org. See: https://github.com/scikit-learn/scikit-learn/issues/21755 */display: inline-block !important;position: relative;}#sk-container-id-1 div.sk-text-repr-fallback {display: none;}</style><div id=\"sk-container-id-1\" class=\"sk-top-container\"><div class=\"sk-text-repr-fallback\"><pre>LogisticRegression()</pre><b>In a Jupyter environment, please rerun this cell to show the HTML representation or trust the notebook. <br />On GitHub, the HTML representation is unable to render, please try loading this page with nbviewer.org.</b></div><div class=\"sk-container\" hidden><div class=\"sk-item\"><div class=\"sk-estimator sk-toggleable\"><input class=\"sk-toggleable__control sk-hidden--visually\" id=\"sk-estimator-id-1\" type=\"checkbox\" checked><label for=\"sk-estimator-id-1\" class=\"sk-toggleable__label sk-toggleable__label-arrow\">LogisticRegression</label><div class=\"sk-toggleable__content\"><pre>LogisticRegression()</pre></div></div></div></div></div>"
      ],
      "text/plain": [
       "LogisticRegression()"
      ]
     },
     "execution_count": 168,
     "metadata": {},
     "output_type": "execute_result"
    }
   ],
   "source": [
    "lr = LogisticRegression()\n",
    "\n",
    "lr.fit(x_train,y_train)"
   ]
  },
  {
   "cell_type": "code",
   "execution_count": 169,
   "id": "d5afc391",
   "metadata": {},
   "outputs": [],
   "source": [
    "lr_pred = lr.predict(x_test)"
   ]
  },
  {
   "cell_type": "code",
   "execution_count": 170,
   "id": "0352eb14",
   "metadata": {},
   "outputs": [
    {
     "data": {
      "text/plain": [
       "0.8233785269329424"
      ]
     },
     "execution_count": 170,
     "metadata": {},
     "output_type": "execute_result"
    }
   ],
   "source": [
    "accuracy = accuracy_score(y_test,lr_pred)\n",
    "accuracy"
   ]
  },
  {
   "cell_type": "code",
   "execution_count": 171,
   "id": "946320f7",
   "metadata": {},
   "outputs": [
    {
     "data": {
      "text/plain": [
       "array([[2026,  114],\n",
       "       [ 368,  221]], dtype=int64)"
      ]
     },
     "execution_count": 171,
     "metadata": {},
     "output_type": "execute_result"
    }
   ],
   "source": [
    "conf_mat = confusion_matrix(y_test,lr_pred)\n",
    "conf_mat"
   ]
  },
  {
   "cell_type": "code",
   "execution_count": 172,
   "id": "82969edd",
   "metadata": {},
   "outputs": [
    {
     "name": "stdout",
     "output_type": "stream",
     "text": [
      "              precision    recall  f1-score   support\n",
      "\n",
      "       <=50K       0.85      0.95      0.89      2140\n",
      "        >50K       0.66      0.38      0.48       589\n",
      "\n",
      "    accuracy                           0.82      2729\n",
      "   macro avg       0.75      0.66      0.69      2729\n",
      "weighted avg       0.81      0.82      0.80      2729\n",
      "\n"
     ]
    }
   ],
   "source": [
    "print(classification_report(y_test,lr_pred))"
   ]
  },
  {
   "cell_type": "code",
   "execution_count": null,
   "id": "57b464b7",
   "metadata": {},
   "outputs": [],
   "source": []
  },
  {
   "cell_type": "code",
   "execution_count": null,
   "id": "56c9ba2f",
   "metadata": {},
   "outputs": [],
   "source": []
  },
  {
   "cell_type": "code",
   "execution_count": 173,
   "id": "f49bc7b0",
   "metadata": {},
   "outputs": [],
   "source": [
    "# second model Decision Tree"
   ]
  },
  {
   "cell_type": "code",
   "execution_count": null,
   "id": "27334c6f",
   "metadata": {},
   "outputs": [],
   "source": []
  },
  {
   "cell_type": "code",
   "execution_count": 174,
   "id": "1226ea91",
   "metadata": {},
   "outputs": [],
   "source": [
    "from sklearn.tree import DecisionTreeClassifier"
   ]
  },
  {
   "cell_type": "code",
   "execution_count": 175,
   "id": "bfd11fe7",
   "metadata": {},
   "outputs": [
    {
     "data": {
      "text/html": [
       "<style>#sk-container-id-2 {color: black;background-color: white;}#sk-container-id-2 pre{padding: 0;}#sk-container-id-2 div.sk-toggleable {background-color: white;}#sk-container-id-2 label.sk-toggleable__label {cursor: pointer;display: block;width: 100%;margin-bottom: 0;padding: 0.3em;box-sizing: border-box;text-align: center;}#sk-container-id-2 label.sk-toggleable__label-arrow:before {content: \"▸\";float: left;margin-right: 0.25em;color: #696969;}#sk-container-id-2 label.sk-toggleable__label-arrow:hover:before {color: black;}#sk-container-id-2 div.sk-estimator:hover label.sk-toggleable__label-arrow:before {color: black;}#sk-container-id-2 div.sk-toggleable__content {max-height: 0;max-width: 0;overflow: hidden;text-align: left;background-color: #f0f8ff;}#sk-container-id-2 div.sk-toggleable__content pre {margin: 0.2em;color: black;border-radius: 0.25em;background-color: #f0f8ff;}#sk-container-id-2 input.sk-toggleable__control:checked~div.sk-toggleable__content {max-height: 200px;max-width: 100%;overflow: auto;}#sk-container-id-2 input.sk-toggleable__control:checked~label.sk-toggleable__label-arrow:before {content: \"▾\";}#sk-container-id-2 div.sk-estimator input.sk-toggleable__control:checked~label.sk-toggleable__label {background-color: #d4ebff;}#sk-container-id-2 div.sk-label input.sk-toggleable__control:checked~label.sk-toggleable__label {background-color: #d4ebff;}#sk-container-id-2 input.sk-hidden--visually {border: 0;clip: rect(1px 1px 1px 1px);clip: rect(1px, 1px, 1px, 1px);height: 1px;margin: -1px;overflow: hidden;padding: 0;position: absolute;width: 1px;}#sk-container-id-2 div.sk-estimator {font-family: monospace;background-color: #f0f8ff;border: 1px dotted black;border-radius: 0.25em;box-sizing: border-box;margin-bottom: 0.5em;}#sk-container-id-2 div.sk-estimator:hover {background-color: #d4ebff;}#sk-container-id-2 div.sk-parallel-item::after {content: \"\";width: 100%;border-bottom: 1px solid gray;flex-grow: 1;}#sk-container-id-2 div.sk-label:hover label.sk-toggleable__label {background-color: #d4ebff;}#sk-container-id-2 div.sk-serial::before {content: \"\";position: absolute;border-left: 1px solid gray;box-sizing: border-box;top: 0;bottom: 0;left: 50%;z-index: 0;}#sk-container-id-2 div.sk-serial {display: flex;flex-direction: column;align-items: center;background-color: white;padding-right: 0.2em;padding-left: 0.2em;position: relative;}#sk-container-id-2 div.sk-item {position: relative;z-index: 1;}#sk-container-id-2 div.sk-parallel {display: flex;align-items: stretch;justify-content: center;background-color: white;position: relative;}#sk-container-id-2 div.sk-item::before, #sk-container-id-2 div.sk-parallel-item::before {content: \"\";position: absolute;border-left: 1px solid gray;box-sizing: border-box;top: 0;bottom: 0;left: 50%;z-index: -1;}#sk-container-id-2 div.sk-parallel-item {display: flex;flex-direction: column;z-index: 1;position: relative;background-color: white;}#sk-container-id-2 div.sk-parallel-item:first-child::after {align-self: flex-end;width: 50%;}#sk-container-id-2 div.sk-parallel-item:last-child::after {align-self: flex-start;width: 50%;}#sk-container-id-2 div.sk-parallel-item:only-child::after {width: 0;}#sk-container-id-2 div.sk-dashed-wrapped {border: 1px dashed gray;margin: 0 0.4em 0.5em 0.4em;box-sizing: border-box;padding-bottom: 0.4em;background-color: white;}#sk-container-id-2 div.sk-label label {font-family: monospace;font-weight: bold;display: inline-block;line-height: 1.2em;}#sk-container-id-2 div.sk-label-container {text-align: center;}#sk-container-id-2 div.sk-container {/* jupyter's `normalize.less` sets `[hidden] { display: none; }` but bootstrap.min.css set `[hidden] { display: none !important; }` so we also need the `!important` here to be able to override the default hidden behavior on the sphinx rendered scikit-learn.org. See: https://github.com/scikit-learn/scikit-learn/issues/21755 */display: inline-block !important;position: relative;}#sk-container-id-2 div.sk-text-repr-fallback {display: none;}</style><div id=\"sk-container-id-2\" class=\"sk-top-container\"><div class=\"sk-text-repr-fallback\"><pre>DecisionTreeClassifier()</pre><b>In a Jupyter environment, please rerun this cell to show the HTML representation or trust the notebook. <br />On GitHub, the HTML representation is unable to render, please try loading this page with nbviewer.org.</b></div><div class=\"sk-container\" hidden><div class=\"sk-item\"><div class=\"sk-estimator sk-toggleable\"><input class=\"sk-toggleable__control sk-hidden--visually\" id=\"sk-estimator-id-2\" type=\"checkbox\" checked><label for=\"sk-estimator-id-2\" class=\"sk-toggleable__label sk-toggleable__label-arrow\">DecisionTreeClassifier</label><div class=\"sk-toggleable__content\"><pre>DecisionTreeClassifier()</pre></div></div></div></div></div>"
      ],
      "text/plain": [
       "DecisionTreeClassifier()"
      ]
     },
     "execution_count": 175,
     "metadata": {},
     "output_type": "execute_result"
    }
   ],
   "source": [
    "dt = DecisionTreeClassifier()\n",
    "\n",
    "dt.fit(x_train,y_train)"
   ]
  },
  {
   "cell_type": "code",
   "execution_count": 176,
   "id": "debd5392",
   "metadata": {},
   "outputs": [],
   "source": [
    "dt_pred = dt.predict(x_test)"
   ]
  },
  {
   "cell_type": "code",
   "execution_count": 177,
   "id": "ac48e4eb",
   "metadata": {},
   "outputs": [
    {
     "data": {
      "text/plain": [
       "0.7816049835104434"
      ]
     },
     "execution_count": 177,
     "metadata": {},
     "output_type": "execute_result"
    }
   ],
   "source": [
    "accuracy = accuracy_score(y_test,dt_pred)\n",
    "accuracy"
   ]
  },
  {
   "cell_type": "code",
   "execution_count": 178,
   "id": "b59a3788",
   "metadata": {},
   "outputs": [
    {
     "data": {
      "text/plain": [
       "array([[1839,  301],\n",
       "       [ 295,  294]], dtype=int64)"
      ]
     },
     "execution_count": 178,
     "metadata": {},
     "output_type": "execute_result"
    }
   ],
   "source": [
    "conf_mat = confusion_matrix(y_test,dt_pred)\n",
    "conf_mat"
   ]
  },
  {
   "cell_type": "code",
   "execution_count": 179,
   "id": "a913fc75",
   "metadata": {},
   "outputs": [
    {
     "data": {
      "text/plain": [
       "0.788933675338952"
      ]
     },
     "execution_count": 179,
     "metadata": {},
     "output_type": "execute_result"
    }
   ],
   "source": [
    "(1866 + 287)/(1866 + 274 + 302 + 287)"
   ]
  },
  {
   "cell_type": "code",
   "execution_count": 180,
   "id": "5cf8d069",
   "metadata": {},
   "outputs": [
    {
     "name": "stdout",
     "output_type": "stream",
     "text": [
      "              precision    recall  f1-score   support\n",
      "\n",
      "       <=50K       0.86      0.86      0.86      2140\n",
      "        >50K       0.49      0.50      0.50       589\n",
      "\n",
      "    accuracy                           0.78      2729\n",
      "   macro avg       0.68      0.68      0.68      2729\n",
      "weighted avg       0.78      0.78      0.78      2729\n",
      "\n"
     ]
    }
   ],
   "source": [
    "print(classification_report(y_test,dt_pred))"
   ]
  },
  {
   "cell_type": "code",
   "execution_count": null,
   "id": "6b6e340f",
   "metadata": {},
   "outputs": [],
   "source": []
  },
  {
   "cell_type": "code",
   "execution_count": null,
   "id": "e8bf13bd",
   "metadata": {},
   "outputs": [],
   "source": []
  },
  {
   "cell_type": "code",
   "execution_count": 181,
   "id": "c45cea80",
   "metadata": {},
   "outputs": [],
   "source": [
    "#third model Random Forest"
   ]
  },
  {
   "cell_type": "code",
   "execution_count": null,
   "id": "4c715018",
   "metadata": {},
   "outputs": [],
   "source": []
  },
  {
   "cell_type": "code",
   "execution_count": 182,
   "id": "134610a3",
   "metadata": {},
   "outputs": [],
   "source": [
    "from sklearn.ensemble import RandomForestClassifier"
   ]
  },
  {
   "cell_type": "code",
   "execution_count": 183,
   "id": "3733d29e",
   "metadata": {},
   "outputs": [
    {
     "data": {
      "text/html": [
       "<style>#sk-container-id-3 {color: black;background-color: white;}#sk-container-id-3 pre{padding: 0;}#sk-container-id-3 div.sk-toggleable {background-color: white;}#sk-container-id-3 label.sk-toggleable__label {cursor: pointer;display: block;width: 100%;margin-bottom: 0;padding: 0.3em;box-sizing: border-box;text-align: center;}#sk-container-id-3 label.sk-toggleable__label-arrow:before {content: \"▸\";float: left;margin-right: 0.25em;color: #696969;}#sk-container-id-3 label.sk-toggleable__label-arrow:hover:before {color: black;}#sk-container-id-3 div.sk-estimator:hover label.sk-toggleable__label-arrow:before {color: black;}#sk-container-id-3 div.sk-toggleable__content {max-height: 0;max-width: 0;overflow: hidden;text-align: left;background-color: #f0f8ff;}#sk-container-id-3 div.sk-toggleable__content pre {margin: 0.2em;color: black;border-radius: 0.25em;background-color: #f0f8ff;}#sk-container-id-3 input.sk-toggleable__control:checked~div.sk-toggleable__content {max-height: 200px;max-width: 100%;overflow: auto;}#sk-container-id-3 input.sk-toggleable__control:checked~label.sk-toggleable__label-arrow:before {content: \"▾\";}#sk-container-id-3 div.sk-estimator input.sk-toggleable__control:checked~label.sk-toggleable__label {background-color: #d4ebff;}#sk-container-id-3 div.sk-label input.sk-toggleable__control:checked~label.sk-toggleable__label {background-color: #d4ebff;}#sk-container-id-3 input.sk-hidden--visually {border: 0;clip: rect(1px 1px 1px 1px);clip: rect(1px, 1px, 1px, 1px);height: 1px;margin: -1px;overflow: hidden;padding: 0;position: absolute;width: 1px;}#sk-container-id-3 div.sk-estimator {font-family: monospace;background-color: #f0f8ff;border: 1px dotted black;border-radius: 0.25em;box-sizing: border-box;margin-bottom: 0.5em;}#sk-container-id-3 div.sk-estimator:hover {background-color: #d4ebff;}#sk-container-id-3 div.sk-parallel-item::after {content: \"\";width: 100%;border-bottom: 1px solid gray;flex-grow: 1;}#sk-container-id-3 div.sk-label:hover label.sk-toggleable__label {background-color: #d4ebff;}#sk-container-id-3 div.sk-serial::before {content: \"\";position: absolute;border-left: 1px solid gray;box-sizing: border-box;top: 0;bottom: 0;left: 50%;z-index: 0;}#sk-container-id-3 div.sk-serial {display: flex;flex-direction: column;align-items: center;background-color: white;padding-right: 0.2em;padding-left: 0.2em;position: relative;}#sk-container-id-3 div.sk-item {position: relative;z-index: 1;}#sk-container-id-3 div.sk-parallel {display: flex;align-items: stretch;justify-content: center;background-color: white;position: relative;}#sk-container-id-3 div.sk-item::before, #sk-container-id-3 div.sk-parallel-item::before {content: \"\";position: absolute;border-left: 1px solid gray;box-sizing: border-box;top: 0;bottom: 0;left: 50%;z-index: -1;}#sk-container-id-3 div.sk-parallel-item {display: flex;flex-direction: column;z-index: 1;position: relative;background-color: white;}#sk-container-id-3 div.sk-parallel-item:first-child::after {align-self: flex-end;width: 50%;}#sk-container-id-3 div.sk-parallel-item:last-child::after {align-self: flex-start;width: 50%;}#sk-container-id-3 div.sk-parallel-item:only-child::after {width: 0;}#sk-container-id-3 div.sk-dashed-wrapped {border: 1px dashed gray;margin: 0 0.4em 0.5em 0.4em;box-sizing: border-box;padding-bottom: 0.4em;background-color: white;}#sk-container-id-3 div.sk-label label {font-family: monospace;font-weight: bold;display: inline-block;line-height: 1.2em;}#sk-container-id-3 div.sk-label-container {text-align: center;}#sk-container-id-3 div.sk-container {/* jupyter's `normalize.less` sets `[hidden] { display: none; }` but bootstrap.min.css set `[hidden] { display: none !important; }` so we also need the `!important` here to be able to override the default hidden behavior on the sphinx rendered scikit-learn.org. See: https://github.com/scikit-learn/scikit-learn/issues/21755 */display: inline-block !important;position: relative;}#sk-container-id-3 div.sk-text-repr-fallback {display: none;}</style><div id=\"sk-container-id-3\" class=\"sk-top-container\"><div class=\"sk-text-repr-fallback\"><pre>RandomForestClassifier()</pre><b>In a Jupyter environment, please rerun this cell to show the HTML representation or trust the notebook. <br />On GitHub, the HTML representation is unable to render, please try loading this page with nbviewer.org.</b></div><div class=\"sk-container\" hidden><div class=\"sk-item\"><div class=\"sk-estimator sk-toggleable\"><input class=\"sk-toggleable__control sk-hidden--visually\" id=\"sk-estimator-id-3\" type=\"checkbox\" checked><label for=\"sk-estimator-id-3\" class=\"sk-toggleable__label sk-toggleable__label-arrow\">RandomForestClassifier</label><div class=\"sk-toggleable__content\"><pre>RandomForestClassifier()</pre></div></div></div></div></div>"
      ],
      "text/plain": [
       "RandomForestClassifier()"
      ]
     },
     "execution_count": 183,
     "metadata": {},
     "output_type": "execute_result"
    }
   ],
   "source": [
    "rf = RandomForestClassifier()\n",
    "\n",
    "rf.fit(x_train,y_train)"
   ]
  },
  {
   "cell_type": "code",
   "execution_count": 184,
   "id": "f40b026b",
   "metadata": {},
   "outputs": [],
   "source": [
    "rf_pred = rf.predict(x_test)"
   ]
  },
  {
   "cell_type": "code",
   "execution_count": 185,
   "id": "54e2a5bc",
   "metadata": {},
   "outputs": [
    {
     "data": {
      "text/plain": [
       "0.8226456577500916"
      ]
     },
     "execution_count": 185,
     "metadata": {},
     "output_type": "execute_result"
    }
   ],
   "source": [
    "accuracy = accuracy_score(y_test,rf_pred)\n",
    "accuracy"
   ]
  },
  {
   "cell_type": "code",
   "execution_count": 186,
   "id": "d70436fe",
   "metadata": {},
   "outputs": [
    {
     "data": {
      "text/plain": [
       "array([[1972,  168],\n",
       "       [ 316,  273]], dtype=int64)"
      ]
     },
     "execution_count": 186,
     "metadata": {},
     "output_type": "execute_result"
    }
   ],
   "source": [
    "conf_mat = confusion_matrix(y_test,rf_pred)\n",
    "conf_mat"
   ]
  },
  {
   "cell_type": "code",
   "execution_count": 187,
   "id": "6421a66f",
   "metadata": {},
   "outputs": [
    {
     "data": {
      "text/plain": [
       "0.8189813118358373"
      ]
     },
     "execution_count": 187,
     "metadata": {},
     "output_type": "execute_result"
    }
   ],
   "source": [
    "(1972 + 263)/(1972 + 168 + 326 + 263)"
   ]
  },
  {
   "cell_type": "code",
   "execution_count": 188,
   "id": "00483f14",
   "metadata": {},
   "outputs": [
    {
     "name": "stdout",
     "output_type": "stream",
     "text": [
      "              precision    recall  f1-score   support\n",
      "\n",
      "       <=50K       0.86      0.92      0.89      2140\n",
      "        >50K       0.62      0.46      0.53       589\n",
      "\n",
      "    accuracy                           0.82      2729\n",
      "   macro avg       0.74      0.69      0.71      2729\n",
      "weighted avg       0.81      0.82      0.81      2729\n",
      "\n"
     ]
    }
   ],
   "source": [
    "print(classification_report(y_test,rf_pred))"
   ]
  },
  {
   "cell_type": "code",
   "execution_count": null,
   "id": "51c401e2",
   "metadata": {},
   "outputs": [],
   "source": []
  },
  {
   "cell_type": "code",
   "execution_count": null,
   "id": "25cfd8a7",
   "metadata": {},
   "outputs": [],
   "source": []
  },
  {
   "cell_type": "code",
   "execution_count": 189,
   "id": "dc5bbe6f",
   "metadata": {},
   "outputs": [],
   "source": [
    "# fourth model SVM"
   ]
  },
  {
   "cell_type": "code",
   "execution_count": null,
   "id": "306c0e51",
   "metadata": {},
   "outputs": [],
   "source": []
  },
  {
   "cell_type": "code",
   "execution_count": 190,
   "id": "2fdac3bb",
   "metadata": {},
   "outputs": [],
   "source": [
    "from sklearn.svm import SVC"
   ]
  },
  {
   "cell_type": "code",
   "execution_count": 191,
   "id": "95018704",
   "metadata": {},
   "outputs": [
    {
     "data": {
      "text/html": [
       "<style>#sk-container-id-4 {color: black;background-color: white;}#sk-container-id-4 pre{padding: 0;}#sk-container-id-4 div.sk-toggleable {background-color: white;}#sk-container-id-4 label.sk-toggleable__label {cursor: pointer;display: block;width: 100%;margin-bottom: 0;padding: 0.3em;box-sizing: border-box;text-align: center;}#sk-container-id-4 label.sk-toggleable__label-arrow:before {content: \"▸\";float: left;margin-right: 0.25em;color: #696969;}#sk-container-id-4 label.sk-toggleable__label-arrow:hover:before {color: black;}#sk-container-id-4 div.sk-estimator:hover label.sk-toggleable__label-arrow:before {color: black;}#sk-container-id-4 div.sk-toggleable__content {max-height: 0;max-width: 0;overflow: hidden;text-align: left;background-color: #f0f8ff;}#sk-container-id-4 div.sk-toggleable__content pre {margin: 0.2em;color: black;border-radius: 0.25em;background-color: #f0f8ff;}#sk-container-id-4 input.sk-toggleable__control:checked~div.sk-toggleable__content {max-height: 200px;max-width: 100%;overflow: auto;}#sk-container-id-4 input.sk-toggleable__control:checked~label.sk-toggleable__label-arrow:before {content: \"▾\";}#sk-container-id-4 div.sk-estimator input.sk-toggleable__control:checked~label.sk-toggleable__label {background-color: #d4ebff;}#sk-container-id-4 div.sk-label input.sk-toggleable__control:checked~label.sk-toggleable__label {background-color: #d4ebff;}#sk-container-id-4 input.sk-hidden--visually {border: 0;clip: rect(1px 1px 1px 1px);clip: rect(1px, 1px, 1px, 1px);height: 1px;margin: -1px;overflow: hidden;padding: 0;position: absolute;width: 1px;}#sk-container-id-4 div.sk-estimator {font-family: monospace;background-color: #f0f8ff;border: 1px dotted black;border-radius: 0.25em;box-sizing: border-box;margin-bottom: 0.5em;}#sk-container-id-4 div.sk-estimator:hover {background-color: #d4ebff;}#sk-container-id-4 div.sk-parallel-item::after {content: \"\";width: 100%;border-bottom: 1px solid gray;flex-grow: 1;}#sk-container-id-4 div.sk-label:hover label.sk-toggleable__label {background-color: #d4ebff;}#sk-container-id-4 div.sk-serial::before {content: \"\";position: absolute;border-left: 1px solid gray;box-sizing: border-box;top: 0;bottom: 0;left: 50%;z-index: 0;}#sk-container-id-4 div.sk-serial {display: flex;flex-direction: column;align-items: center;background-color: white;padding-right: 0.2em;padding-left: 0.2em;position: relative;}#sk-container-id-4 div.sk-item {position: relative;z-index: 1;}#sk-container-id-4 div.sk-parallel {display: flex;align-items: stretch;justify-content: center;background-color: white;position: relative;}#sk-container-id-4 div.sk-item::before, #sk-container-id-4 div.sk-parallel-item::before {content: \"\";position: absolute;border-left: 1px solid gray;box-sizing: border-box;top: 0;bottom: 0;left: 50%;z-index: -1;}#sk-container-id-4 div.sk-parallel-item {display: flex;flex-direction: column;z-index: 1;position: relative;background-color: white;}#sk-container-id-4 div.sk-parallel-item:first-child::after {align-self: flex-end;width: 50%;}#sk-container-id-4 div.sk-parallel-item:last-child::after {align-self: flex-start;width: 50%;}#sk-container-id-4 div.sk-parallel-item:only-child::after {width: 0;}#sk-container-id-4 div.sk-dashed-wrapped {border: 1px dashed gray;margin: 0 0.4em 0.5em 0.4em;box-sizing: border-box;padding-bottom: 0.4em;background-color: white;}#sk-container-id-4 div.sk-label label {font-family: monospace;font-weight: bold;display: inline-block;line-height: 1.2em;}#sk-container-id-4 div.sk-label-container {text-align: center;}#sk-container-id-4 div.sk-container {/* jupyter's `normalize.less` sets `[hidden] { display: none; }` but bootstrap.min.css set `[hidden] { display: none !important; }` so we also need the `!important` here to be able to override the default hidden behavior on the sphinx rendered scikit-learn.org. See: https://github.com/scikit-learn/scikit-learn/issues/21755 */display: inline-block !important;position: relative;}#sk-container-id-4 div.sk-text-repr-fallback {display: none;}</style><div id=\"sk-container-id-4\" class=\"sk-top-container\"><div class=\"sk-text-repr-fallback\"><pre>SVC()</pre><b>In a Jupyter environment, please rerun this cell to show the HTML representation or trust the notebook. <br />On GitHub, the HTML representation is unable to render, please try loading this page with nbviewer.org.</b></div><div class=\"sk-container\" hidden><div class=\"sk-item\"><div class=\"sk-estimator sk-toggleable\"><input class=\"sk-toggleable__control sk-hidden--visually\" id=\"sk-estimator-id-4\" type=\"checkbox\" checked><label for=\"sk-estimator-id-4\" class=\"sk-toggleable__label sk-toggleable__label-arrow\">SVC</label><div class=\"sk-toggleable__content\"><pre>SVC()</pre></div></div></div></div></div>"
      ],
      "text/plain": [
       "SVC()"
      ]
     },
     "execution_count": 191,
     "metadata": {},
     "output_type": "execute_result"
    }
   ],
   "source": [
    "svc = SVC()\n",
    "\n",
    "svc.fit(x_train,y_train)"
   ]
  },
  {
   "cell_type": "code",
   "execution_count": 192,
   "id": "aff23d23",
   "metadata": {},
   "outputs": [],
   "source": [
    "svc_pred = svc.predict(x_test)"
   ]
  },
  {
   "cell_type": "code",
   "execution_count": 193,
   "id": "f25fe230",
   "metadata": {},
   "outputs": [
    {
     "data": {
      "text/plain": [
       "0.8299743495786002"
      ]
     },
     "execution_count": 193,
     "metadata": {},
     "output_type": "execute_result"
    }
   ],
   "source": [
    "accuracy = accuracy_score(y_test,svc_pred)\n",
    "accuracy"
   ]
  },
  {
   "cell_type": "code",
   "execution_count": 194,
   "id": "ad4e4f79",
   "metadata": {},
   "outputs": [
    {
     "data": {
      "text/plain": [
       "array([[2051,   89],\n",
       "       [ 375,  214]], dtype=int64)"
      ]
     },
     "execution_count": 194,
     "metadata": {},
     "output_type": "execute_result"
    }
   ],
   "source": [
    "conf_mat = confusion_matrix(y_test,svc_pred)\n",
    "conf_mat"
   ]
  },
  {
   "cell_type": "code",
   "execution_count": 195,
   "id": "42cd54de",
   "metadata": {},
   "outputs": [
    {
     "data": {
      "text/plain": [
       "0.8299743495786002"
      ]
     },
     "execution_count": 195,
     "metadata": {},
     "output_type": "execute_result"
    }
   ],
   "source": [
    "(2051 + 214)/(2051 + 89 + 375 + 214)"
   ]
  },
  {
   "cell_type": "code",
   "execution_count": 196,
   "id": "5650d105",
   "metadata": {},
   "outputs": [
    {
     "name": "stdout",
     "output_type": "stream",
     "text": [
      "              precision    recall  f1-score   support\n",
      "\n",
      "       <=50K       0.85      0.96      0.90      2140\n",
      "        >50K       0.71      0.36      0.48       589\n",
      "\n",
      "    accuracy                           0.83      2729\n",
      "   macro avg       0.78      0.66      0.69      2729\n",
      "weighted avg       0.82      0.83      0.81      2729\n",
      "\n"
     ]
    }
   ],
   "source": [
    "print(classification_report(y_test,svc_pred))"
   ]
  },
  {
   "cell_type": "code",
   "execution_count": null,
   "id": "73975dde",
   "metadata": {},
   "outputs": [],
   "source": []
  },
  {
   "cell_type": "code",
   "execution_count": null,
   "id": "54a80b51",
   "metadata": {},
   "outputs": [],
   "source": []
  },
  {
   "cell_type": "code",
   "execution_count": null,
   "id": "f4461449",
   "metadata": {},
   "outputs": [],
   "source": []
  },
  {
   "cell_type": "code",
   "execution_count": 197,
   "id": "de8efd21",
   "metadata": {},
   "outputs": [],
   "source": [
    "# compare all four models how all they perform"
   ]
  },
  {
   "cell_type": "code",
   "execution_count": 198,
   "id": "c8129ec6",
   "metadata": {},
   "outputs": [],
   "source": [
    "# first check on training data"
   ]
  },
  {
   "cell_type": "code",
   "execution_count": null,
   "id": "58031249",
   "metadata": {},
   "outputs": [],
   "source": []
  },
  {
   "cell_type": "code",
   "execution_count": 199,
   "id": "79019b46",
   "metadata": {},
   "outputs": [
    {
     "data": {
      "image/png": "[encoded data removed]",
      "text/plain": [
       "<Figure size 432x288 with 1 Axes>"
      ]
     },
     "metadata": {
      "needs_background": "light"
     },
     "output_type": "display_data"
    }
   ],
   "source": [
    "disp = plot_roc_curve(lr,x_train,y_train)\n",
    "plot_roc_curve(dt,x_train,y_train,ax=disp.ax_)\n",
    "plot_roc_curve(rf,x_train,y_train,ax=disp.ax_)\n",
    "plot_roc_curve(svc,x_train,y_train,ax=disp.ax_)\n",
    "\n",
    "plt.show()"
   ]
  },
  {
   "cell_type": "code",
   "execution_count": null,
   "id": "ae229dde",
   "metadata": {},
   "outputs": [],
   "source": []
  },
  {
   "cell_type": "code",
   "execution_count": 200,
   "id": "e417515d",
   "metadata": {},
   "outputs": [],
   "source": [
    "# now check all models on test data "
   ]
  },
  {
   "cell_type": "code",
   "execution_count": null,
   "id": "d0bbaf07",
   "metadata": {},
   "outputs": [],
   "source": []
  },
  {
   "cell_type": "code",
   "execution_count": 201,
   "id": "cff7ea4e",
   "metadata": {},
   "outputs": [
    {
     "data": {
      "image/png": "[encoded data removed]",
      "text/plain": [
       "<Figure size 432x288 with 1 Axes>"
      ]
     },
     "metadata": {
      "needs_background": "light"
     },
     "output_type": "display_data"
    }
   ],
   "source": [
    "disp = plot_roc_curve(lr,x_test,y_test)\n",
    "plot_roc_curve(dt,x_test,y_test,ax=disp.ax_)\n",
    "plot_roc_curve(rf,x_test,y_test,ax=disp.ax_)\n",
    "plot_roc_curve(svc,x_test,y_test,ax=disp.ax_)\n",
    "\n",
    "plt.show()"
   ]
  },
  {
   "cell_type": "code",
   "execution_count": null,
   "id": "00d99407",
   "metadata": {},
   "outputs": [],
   "source": []
  },
  {
   "cell_type": "code",
   "execution_count": 202,
   "id": "be88fe51",
   "metadata": {},
   "outputs": [],
   "source": [
    "# all models's performance is here\n",
    "\n",
    "# now we can consider Random Forest or SVM both are performimg well"
   ]
  },
  {
   "cell_type": "code",
   "execution_count": 203,
   "id": "a4f22757",
   "metadata": {},
   "outputs": [],
   "source": [
    "# saving model Random Forest"
   ]
  },
  {
   "cell_type": "code",
   "execution_count": null,
   "id": "280491c8",
   "metadata": {},
   "outputs": [],
   "source": []
  },
  {
   "cell_type": "code",
   "execution_count": 204,
   "id": "217317af",
   "metadata": {},
   "outputs": [],
   "source": [
    "import pickle"
   ]
  },
  {
   "cell_type": "code",
   "execution_count": 205,
   "id": "4404d372",
   "metadata": {},
   "outputs": [],
   "source": [
    "pickle.dump(rf,open('rf_cl_Census','wb'))"
   ]
  },
  {
   "cell_type": "code",
   "execution_count": null,
   "id": "44e99888",
   "metadata": {},
   "outputs": [],
   "source": []
  }
 ],
 "metadata": {
  "kernelspec": {
   "display_name": "Python 3 (ipykernel)",
   "language": "python",
   "name": "python3"
  },
  "language_info": {
   "codemirror_mode": {
    "name": "ipython",
    "version": 3
   },
   "file_extension": ".py",
   "mimetype": "text/x-python",
   "name": "python",
   "nbconvert_exporter": "python",
   "pygments_lexer": "ipython3",
   "version": "3.9.12"
  }
 },
 "nbformat": 4,
 "nbformat_minor": 5
}
