{
 "cells": [
  {
   "cell_type": "code",
   "execution_count": 1,
   "id": "b0562331",
   "metadata": {},
   "outputs": [],
   "source": [
    "import pandas as pd\n"
   ]
  },
  {
   "cell_type": "code",
   "execution_count": 2,
   "id": "f7bd8a05",
   "metadata": {},
   "outputs": [
    {
     "data": {
      "text/html": [
       "<div>\n",
       "<style scoped>\n",
       "    .dataframe tbody tr th:only-of-type {\n",
       "        vertical-align: middle;\n",
       "    }\n",
       "\n",
       "    .dataframe tbody tr th {\n",
       "        vertical-align: top;\n",
       "    }\n",
       "\n",
       "    .dataframe thead th {\n",
       "        text-align: right;\n",
       "    }\n",
       "</style>\n",
       "<table border=\"1\" class=\"dataframe\">\n",
       "  <thead>\n",
       "    <tr style=\"text-align: right;\">\n",
       "      <th></th>\n",
       "      <th>id</th>\n",
       "      <th>price</th>\n",
       "      <th>mark</th>\n",
       "      <th>model</th>\n",
       "      <th>year</th>\n",
       "      <th>mileage</th>\n",
       "      <th>engine_capacity</th>\n",
       "      <th>transmission</th>\n",
       "      <th>drive</th>\n",
       "      <th>hand_drive</th>\n",
       "      <th>fuel</th>\n",
       "    </tr>\n",
       "  </thead>\n",
       "  <tbody>\n",
       "    <tr>\n",
       "      <th>0</th>\n",
       "      <td>0</td>\n",
       "      <td>80</td>\n",
       "      <td>nissan</td>\n",
       "      <td>march</td>\n",
       "      <td>2003</td>\n",
       "      <td>80000</td>\n",
       "      <td>1240</td>\n",
       "      <td>at</td>\n",
       "      <td>2wd</td>\n",
       "      <td>rhd</td>\n",
       "      <td>gasoline</td>\n",
       "    </tr>\n",
       "    <tr>\n",
       "      <th>1</th>\n",
       "      <td>1</td>\n",
       "      <td>110</td>\n",
       "      <td>nissan</td>\n",
       "      <td>march</td>\n",
       "      <td>2010</td>\n",
       "      <td>53000</td>\n",
       "      <td>1200</td>\n",
       "      <td>at</td>\n",
       "      <td>2wd</td>\n",
       "      <td>rhd</td>\n",
       "      <td>gasoline</td>\n",
       "    </tr>\n",
       "    <tr>\n",
       "      <th>2</th>\n",
       "      <td>2</td>\n",
       "      <td>165</td>\n",
       "      <td>nissan</td>\n",
       "      <td>lafesta</td>\n",
       "      <td>2005</td>\n",
       "      <td>47690</td>\n",
       "      <td>2000</td>\n",
       "      <td>at</td>\n",
       "      <td>2wd</td>\n",
       "      <td>rhd</td>\n",
       "      <td>gasoline</td>\n",
       "    </tr>\n",
       "    <tr>\n",
       "      <th>3</th>\n",
       "      <td>3</td>\n",
       "      <td>190</td>\n",
       "      <td>toyota</td>\n",
       "      <td>avensis</td>\n",
       "      <td>2008</td>\n",
       "      <td>130661</td>\n",
       "      <td>1990</td>\n",
       "      <td>at</td>\n",
       "      <td>2wd</td>\n",
       "      <td>rhd</td>\n",
       "      <td>gasoline</td>\n",
       "    </tr>\n",
       "    <tr>\n",
       "      <th>4</th>\n",
       "      <td>4</td>\n",
       "      <td>190</td>\n",
       "      <td>daihatsu</td>\n",
       "      <td>mira</td>\n",
       "      <td>2006</td>\n",
       "      <td>66300</td>\n",
       "      <td>660</td>\n",
       "      <td>at</td>\n",
       "      <td>2wd</td>\n",
       "      <td>rhd</td>\n",
       "      <td>gasoline</td>\n",
       "    </tr>\n",
       "    <tr>\n",
       "      <th>...</th>\n",
       "      <td>...</td>\n",
       "      <td>...</td>\n",
       "      <td>...</td>\n",
       "      <td>...</td>\n",
       "      <td>...</td>\n",
       "      <td>...</td>\n",
       "      <td>...</td>\n",
       "      <td>...</td>\n",
       "      <td>...</td>\n",
       "      <td>...</td>\n",
       "      <td>...</td>\n",
       "    </tr>\n",
       "    <tr>\n",
       "      <th>2313</th>\n",
       "      <td>2331</td>\n",
       "      <td>1400</td>\n",
       "      <td>toyota</td>\n",
       "      <td>vitz</td>\n",
       "      <td>2009</td>\n",
       "      <td>121000</td>\n",
       "      <td>996</td>\n",
       "      <td>at</td>\n",
       "      <td>2wd</td>\n",
       "      <td>rhd</td>\n",
       "      <td>gasoline</td>\n",
       "    </tr>\n",
       "    <tr>\n",
       "      <th>2314</th>\n",
       "      <td>2332</td>\n",
       "      <td>1400</td>\n",
       "      <td>toyota</td>\n",
       "      <td>estima</td>\n",
       "      <td>2003</td>\n",
       "      <td>101000</td>\n",
       "      <td>3000</td>\n",
       "      <td>at</td>\n",
       "      <td>2wd</td>\n",
       "      <td>rhd</td>\n",
       "      <td>gasoline</td>\n",
       "    </tr>\n",
       "    <tr>\n",
       "      <th>2315</th>\n",
       "      <td>2333</td>\n",
       "      <td>1400</td>\n",
       "      <td>subaru</td>\n",
       "      <td>r2</td>\n",
       "      <td>2005</td>\n",
       "      <td>101000</td>\n",
       "      <td>660</td>\n",
       "      <td>cvt</td>\n",
       "      <td>2wd</td>\n",
       "      <td>rhd</td>\n",
       "      <td>gasoline</td>\n",
       "    </tr>\n",
       "    <tr>\n",
       "      <th>2316</th>\n",
       "      <td>2334</td>\n",
       "      <td>1400</td>\n",
       "      <td>honda</td>\n",
       "      <td>z</td>\n",
       "      <td>2000</td>\n",
       "      <td>170000</td>\n",
       "      <td>660</td>\n",
       "      <td>at</td>\n",
       "      <td>4wd</td>\n",
       "      <td>rhd</td>\n",
       "      <td>gasoline</td>\n",
       "    </tr>\n",
       "    <tr>\n",
       "      <th>2317</th>\n",
       "      <td>2335</td>\n",
       "      <td>1400</td>\n",
       "      <td>toyota</td>\n",
       "      <td>estima t</td>\n",
       "      <td>2005</td>\n",
       "      <td>72320</td>\n",
       "      <td>3000</td>\n",
       "      <td>at</td>\n",
       "      <td>2wd</td>\n",
       "      <td>rhd</td>\n",
       "      <td>gasoline</td>\n",
       "    </tr>\n",
       "  </tbody>\n",
       "</table>\n",
       "<p>2318 rows × 11 columns</p>\n",
       "</div>"
      ],
      "text/plain": [
       "        id  price      mark     model  year  mileage  engine_capacity  \\\n",
       "0        0     80    nissan     march  2003    80000             1240   \n",
       "1        1    110    nissan     march  2010    53000             1200   \n",
       "2        2    165    nissan   lafesta  2005    47690             2000   \n",
       "3        3    190    toyota   avensis  2008   130661             1990   \n",
       "4        4    190  daihatsu      mira  2006    66300              660   \n",
       "...    ...    ...       ...       ...   ...      ...              ...   \n",
       "2313  2331   1400    toyota      vitz  2009   121000              996   \n",
       "2314  2332   1400    toyota    estima  2003   101000             3000   \n",
       "2315  2333   1400    subaru        r2  2005   101000              660   \n",
       "2316  2334   1400     honda         z  2000   170000              660   \n",
       "2317  2335   1400    toyota  estima t  2005    72320             3000   \n",
       "\n",
       "     transmission drive hand_drive      fuel  \n",
       "0              at   2wd        rhd  gasoline  \n",
       "1              at   2wd        rhd  gasoline  \n",
       "2              at   2wd        rhd  gasoline  \n",
       "3              at   2wd        rhd  gasoline  \n",
       "4              at   2wd        rhd  gasoline  \n",
       "...           ...   ...        ...       ...  \n",
       "2313           at   2wd        rhd  gasoline  \n",
       "2314           at   2wd        rhd  gasoline  \n",
       "2315          cvt   2wd        rhd  gasoline  \n",
       "2316           at   4wd        rhd  gasoline  \n",
       "2317           at   2wd        rhd  gasoline  \n",
       "\n",
       "[2318 rows x 11 columns]"
      ]
     },
     "execution_count": 2,
     "metadata": {},
     "output_type": "execute_result"
    }
   ],
   "source": [
    "df = pd.read_csv('Japan_used_cars_datasets.csv')\n",
    "\n",
    "df"
   ]
  },
  {
   "cell_type": "code",
   "execution_count": 3,
   "id": "875ed58b",
   "metadata": {},
   "outputs": [
    {
     "data": {
      "text/plain": [
       "id                 0\n",
       "price              0\n",
       "mark               0\n",
       "model              0\n",
       "year               0\n",
       "mileage            0\n",
       "engine_capacity    0\n",
       "transmission       0\n",
       "drive              0\n",
       "hand_drive         0\n",
       "fuel               0\n",
       "dtype: int64"
      ]
     },
     "execution_count": 3,
     "metadata": {},
     "output_type": "execute_result"
    }
   ],
   "source": [
    "df.isna().sum()"
   ]
  },
  {
   "cell_type": "code",
   "execution_count": 4,
   "id": "0b2a5d53",
   "metadata": {},
   "outputs": [
    {
     "data": {
      "text/plain": [
       "id                  int64\n",
       "price               int64\n",
       "mark               object\n",
       "model              object\n",
       "year                int64\n",
       "mileage             int64\n",
       "engine_capacity     int64\n",
       "transmission       object\n",
       "drive              object\n",
       "hand_drive         object\n",
       "fuel               object\n",
       "dtype: object"
      ]
     },
     "execution_count": 4,
     "metadata": {},
     "output_type": "execute_result"
    }
   ],
   "source": [
    "df.dtypes"
   ]
  },
  {
   "cell_type": "code",
   "execution_count": 5,
   "id": "911ec196",
   "metadata": {},
   "outputs": [
    {
     "data": {
      "text/plain": [
       "array(['nissan', 'toyota', 'daihatsu', 'volkswagen', 'mazda', 'honda',\n",
       "       'subaru', 'mercedes-benz', 'kubota', 'mitsubishi', 'suzuki', 'bmw',\n",
       "       'chrysler', 'smart', 'gm', 'opel', 'isuzu', 'land rover',\n",
       "       'peugeot', 'hyundai', 'kia motors', 'audi', 'citroen', 'mitsuoka',\n",
       "       'volvo', 'ford', 'hino', 'jaguar'], dtype=object)"
      ]
     },
     "execution_count": 5,
     "metadata": {},
     "output_type": "execute_result"
    }
   ],
   "source": [
    "df['mark'].unique()"
   ]
  },
  {
   "cell_type": "code",
   "execution_count": 6,
   "id": "267e166d",
   "metadata": {},
   "outputs": [
    {
     "data": {
      "text/plain": [
       "array(['march', 'lafesta', 'avensis', 'mira', 'passat', 'bongo van',\n",
       "       'step wgn', 'sambar', 'inspire', 'mercedes-benz others', 'note',\n",
       "       'passo', 'impreza', 'kubota others', 'life', 'progres',\n",
       "       'cube cubic', 'cube', 'a-class', 'coltplus', 'mr wagon',\n",
       "       'pajero mini', 'fit', 'legacy b4', 'vitz', 'mark ii blit',\n",
       "       'insight', 'move', 'tanto', 'terios kid', 'az-wagon', 'coo',\n",
       "       'verisa', 'swift', 'delica d2', 'tiida', 'sienta', 'mini', 'colt',\n",
       "       'platz', 'bluebird sylphy', 'eclipse', 'bb', 'moco',\n",
       "       'clipper truck', 'esse', 'ek wagon', 'polo', 'x-trail',\n",
       "       'atenza sport', 'ad van', 'pixis space', 'freed spike', 'stream',\n",
       "       'alto', 'raum', 'wish', 'every', 'demio', 'jimny', 'premacy',\n",
       "       'cr-v', 'lapin', 'delica', 'wagon r', 'lancer', 'naked', 'odyssey',\n",
       "       'ractis', 'porte', 'corolla rumion', 'tiida latio', 'voxy',\n",
       "       'carol', 'sunny', 'bongo truck', 'boon', 's-mx', 'pt cruiser',\n",
       "       'golf', 'ad expert', 'fit hybrid', 'serena', 'edix', 'move custom',\n",
       "       'impreza anesis', 'estima', 'carry truck', 'solio', 'mpv',\n",
       "       'vanette van', 'accord', 'tribute', 'pajero io', 'noah',\n",
       "       'vanette truck', 'delica truck', 'lancer cargo', 'atenza wagon',\n",
       "       'atenza', 'vamos', 'r2', 'fun cargo', 'airwave', 'ipsum',\n",
       "       'verossa', 'forfour', 'elgrand', 'ist', 'mirage',\n",
       "       'chevrolet others', 'corolla spacio', 'aerio', 'altezza', 'vectra',\n",
       "       'minicab truck', 'outback', 'mark x', 'gaia', 'alphard', 'caldina',\n",
       "       'alphard g', 'brevis', 'axela sport', 'alphard v', 'pleo',\n",
       "       'minicab van', 'nv100clipper', 'sx4', 'legacy', 'aristo',\n",
       "       'palette', 'wizard', 'forester', 'grand escudo', 'jetta',\n",
       "       'corolla axio', 'discovery', 'stagea', 'dion', 'mira avy',\n",
       "       'mark ii', 'corolla runx', 'hijet cargo', 'biante', 'carol eco',\n",
       "       'axela', 'cami', 'hijet truck', 'e-class', 'hr-v', 'elysion',\n",
       "       'crown comfort', 'canter', 'impreza sportswagon', 'corolla ii',\n",
       "       '207', 'sx4 sedan', 'townace van', 'allion', 'passo sette',\n",
       "       'crown', 'civic ferio', 'fuga', 'legacy touring wagon', 'tucson',\n",
       "       'gloria hardtop', '3 series', 'x-trek', 'stella', 'bongo',\n",
       "       'bongo friendee', 'a4', 'a4 avant', 'fit shuttle', 'acty truck',\n",
       "       'sambar truck', 'freed', 'isis', 'exiga', 'skyline', 'allex',\n",
       "       'splash', 'titan dash', 'chaser', 'voltz', 'visto', 'civic hybrid',\n",
       "       'wingroad', 'murano', 'probox', 'c-class', 'corolla sedan',\n",
       "       'xsara picasso', 'rx-8', 'corona premio', 'comfort', 'miragino',\n",
       "       'new beetle', 'viewt', 'canter guts', 'regius wagon', 'v70',\n",
       "       'mira es', 'acty van', 'duet', 'b-class', '307', 'belta', 'otti',\n",
       "       'mini cooper', 'ek sport', 'escudo', 'succeed van', 'atrai wagon',\n",
       "       'atrai', 'zest', 'mdx', 'galant fortis', 'terios', 'clipper van',\n",
       "       '1 series', 'townace noah', 'premio', 'outlander', 'opa',\n",
       "       'bongo brawny truck', 'masterace surf', 'move latte', 'santa fe',\n",
       "       'terracan', 'teana', 'cima', 'auris', 'corolla fielder', 'ad',\n",
       "       'freelander', 'town box', 'probox van', 'golf variant', 'windom',\n",
       "       'cerato', 'pride', 'escape', 'landy', 'vivio', 'spade', 'clipper',\n",
       "       'dutro', 'elf truck', 'carina', 'wagon r rr', 'x-type', 'trajet',\n",
       "       'minica', 'c30', 'z', 'estima t'], dtype=object)"
      ]
     },
     "execution_count": 6,
     "metadata": {},
     "output_type": "execute_result"
    }
   ],
   "source": [
    "df['model'].unique()"
   ]
  },
  {
   "cell_type": "code",
   "execution_count": 7,
   "id": "444ee841",
   "metadata": {},
   "outputs": [
    {
     "data": {
      "text/plain": [
       "array(['at', 'mt', 'cvt'], dtype=object)"
      ]
     },
     "execution_count": 7,
     "metadata": {},
     "output_type": "execute_result"
    }
   ],
   "source": [
    "df['transmission'].unique()"
   ]
  },
  {
   "cell_type": "code",
   "execution_count": 8,
   "id": "5bf7ef60",
   "metadata": {},
   "outputs": [
    {
     "data": {
      "text/plain": [
       "array(['2wd', '4wd', 'awd'], dtype=object)"
      ]
     },
     "execution_count": 8,
     "metadata": {},
     "output_type": "execute_result"
    }
   ],
   "source": [
    "df['drive'].unique()"
   ]
  },
  {
   "cell_type": "code",
   "execution_count": 9,
   "id": "bd8cf50a",
   "metadata": {},
   "outputs": [
    {
     "data": {
      "text/plain": [
       "array(['rhd', 'center', 'lhd'], dtype=object)"
      ]
     },
     "execution_count": 9,
     "metadata": {},
     "output_type": "execute_result"
    }
   ],
   "source": [
    "df['hand_drive'].unique()"
   ]
  },
  {
   "cell_type": "code",
   "execution_count": 10,
   "id": "64f9c773",
   "metadata": {},
   "outputs": [
    {
     "data": {
      "text/plain": [
       "array(['gasoline', 'diesel', 'hybrid', 'lpg', 'cng'], dtype=object)"
      ]
     },
     "execution_count": 10,
     "metadata": {},
     "output_type": "execute_result"
    }
   ],
   "source": [
    "df['fuel'].unique()"
   ]
  },
  {
   "cell_type": "code",
   "execution_count": 11,
   "id": "664b3c6a",
   "metadata": {},
   "outputs": [],
   "source": [
    "from sklearn.preprocessing import OrdinalEncoder"
   ]
  },
  {
   "cell_type": "code",
   "execution_count": 12,
   "id": "0c515241",
   "metadata": {},
   "outputs": [
    {
     "data": {
      "text/plain": [
       "array([[0.],\n",
       "       [0.],\n",
       "       [0.],\n",
       "       ...,\n",
       "       [6.],\n",
       "       [5.],\n",
       "       [1.]])"
      ]
     },
     "execution_count": 12,
     "metadata": {},
     "output_type": "execute_result"
    }
   ],
   "source": [
    "ord_encoder = OrdinalEncoder(categories=[['nissan','toyota','daihatsu','volkswagen','mazda','honda','subaru','mercedes-benz','kubota','mitsubishi','suzuki','bmw','chrysler','smart','gm','opel','isuzu','land rover','peugeot','hyundai','kia motors','audi','citroen','mitsuoka','volvo','ford','hino','jaguar']])\n",
    "\n",
    "mark_cod = ord_encoder.fit_transform(df[['mark']])\n",
    "\n",
    "mark_cod"
   ]
  },
  {
   "cell_type": "code",
   "execution_count": 13,
   "id": "7503da94",
   "metadata": {},
   "outputs": [
    {
     "data": {
      "text/plain": [
       "array([[0.],\n",
       "       [0.],\n",
       "       [0.],\n",
       "       ...,\n",
       "       [2.],\n",
       "       [0.],\n",
       "       [0.]])"
      ]
     },
     "execution_count": 13,
     "metadata": {},
     "output_type": "execute_result"
    }
   ],
   "source": [
    "ord_encoder = OrdinalEncoder(categories=[['at', 'mt', 'cvt']])\n",
    "\n",
    "trans_cod = ord_encoder.fit_transform(df[['transmission']])\n",
    "\n",
    "trans_cod"
   ]
  },
  {
   "cell_type": "code",
   "execution_count": 14,
   "id": "3d9f61ed",
   "metadata": {},
   "outputs": [
    {
     "data": {
      "text/plain": [
       "array([[0.],\n",
       "       [0.],\n",
       "       [0.],\n",
       "       ...,\n",
       "       [0.],\n",
       "       [1.],\n",
       "       [0.]])"
      ]
     },
     "execution_count": 14,
     "metadata": {},
     "output_type": "execute_result"
    }
   ],
   "source": [
    "ord_encoder = OrdinalEncoder(categories=[['2wd', '4wd', 'awd']])\n",
    "\n",
    "drive_cod = ord_encoder.fit_transform(df[['drive']])\n",
    "\n",
    "drive_cod"
   ]
  },
  {
   "cell_type": "code",
   "execution_count": 15,
   "id": "26652ed3",
   "metadata": {},
   "outputs": [
    {
     "data": {
      "text/plain": [
       "array([[0.],\n",
       "       [0.],\n",
       "       [0.],\n",
       "       ...,\n",
       "       [0.],\n",
       "       [0.],\n",
       "       [0.]])"
      ]
     },
     "execution_count": 15,
     "metadata": {},
     "output_type": "execute_result"
    }
   ],
   "source": [
    "ord_encoder = OrdinalEncoder(categories=[['rhd', 'center', 'lhd']])\n",
    "\n",
    "hand_cod = ord_encoder.fit_transform(df[['hand_drive']])\n",
    "\n",
    "hand_cod"
   ]
  },
  {
   "cell_type": "code",
   "execution_count": 16,
   "id": "e8139949",
   "metadata": {},
   "outputs": [
    {
     "data": {
      "text/plain": [
       "array([[0.],\n",
       "       [0.],\n",
       "       [0.],\n",
       "       ...,\n",
       "       [0.],\n",
       "       [0.],\n",
       "       [0.]])"
      ]
     },
     "execution_count": 16,
     "metadata": {},
     "output_type": "execute_result"
    }
   ],
   "source": [
    "ord_encoder = OrdinalEncoder(categories=[['gasoline', 'diesel', 'hybrid', 'lpg', 'cng']])\n",
    "\n",
    "fuel_cod = ord_encoder.fit_transform(df[['fuel']])\n",
    "\n",
    "fuel_cod"
   ]
  },
  {
   "cell_type": "code",
   "execution_count": 17,
   "id": "3830f214",
   "metadata": {},
   "outputs": [],
   "source": [
    "df['mark'] = mark_cod\n",
    "df['transmission'] = trans_cod\n",
    "df['drive'] = drive_cod\n",
    "df['hand_drive'] = hand_cod\n",
    "df['fuel'] = fuel_cod"
   ]
  },
  {
   "cell_type": "code",
   "execution_count": 18,
   "id": "d26cdd35",
   "metadata": {},
   "outputs": [
    {
     "data": {
      "text/html": [
       "<div>\n",
       "<style scoped>\n",
       "    .dataframe tbody tr th:only-of-type {\n",
       "        vertical-align: middle;\n",
       "    }\n",
       "\n",
       "    .dataframe tbody tr th {\n",
       "        vertical-align: top;\n",
       "    }\n",
       "\n",
       "    .dataframe thead th {\n",
       "        text-align: right;\n",
       "    }\n",
       "</style>\n",
       "<table border=\"1\" class=\"dataframe\">\n",
       "  <thead>\n",
       "    <tr style=\"text-align: right;\">\n",
       "      <th></th>\n",
       "      <th>id</th>\n",
       "      <th>price</th>\n",
       "      <th>mark</th>\n",
       "      <th>model</th>\n",
       "      <th>year</th>\n",
       "      <th>mileage</th>\n",
       "      <th>engine_capacity</th>\n",
       "      <th>transmission</th>\n",
       "      <th>drive</th>\n",
       "      <th>hand_drive</th>\n",
       "      <th>fuel</th>\n",
       "    </tr>\n",
       "  </thead>\n",
       "  <tbody>\n",
       "    <tr>\n",
       "      <th>0</th>\n",
       "      <td>0</td>\n",
       "      <td>80</td>\n",
       "      <td>0.0</td>\n",
       "      <td>march</td>\n",
       "      <td>2003</td>\n",
       "      <td>80000</td>\n",
       "      <td>1240</td>\n",
       "      <td>0.0</td>\n",
       "      <td>0.0</td>\n",
       "      <td>0.0</td>\n",
       "      <td>0.0</td>\n",
       "    </tr>\n",
       "    <tr>\n",
       "      <th>1</th>\n",
       "      <td>1</td>\n",
       "      <td>110</td>\n",
       "      <td>0.0</td>\n",
       "      <td>march</td>\n",
       "      <td>2010</td>\n",
       "      <td>53000</td>\n",
       "      <td>1200</td>\n",
       "      <td>0.0</td>\n",
       "      <td>0.0</td>\n",
       "      <td>0.0</td>\n",
       "      <td>0.0</td>\n",
       "    </tr>\n",
       "    <tr>\n",
       "      <th>2</th>\n",
       "      <td>2</td>\n",
       "      <td>165</td>\n",
       "      <td>0.0</td>\n",
       "      <td>lafesta</td>\n",
       "      <td>2005</td>\n",
       "      <td>47690</td>\n",
       "      <td>2000</td>\n",
       "      <td>0.0</td>\n",
       "      <td>0.0</td>\n",
       "      <td>0.0</td>\n",
       "      <td>0.0</td>\n",
       "    </tr>\n",
       "    <tr>\n",
       "      <th>3</th>\n",
       "      <td>3</td>\n",
       "      <td>190</td>\n",
       "      <td>1.0</td>\n",
       "      <td>avensis</td>\n",
       "      <td>2008</td>\n",
       "      <td>130661</td>\n",
       "      <td>1990</td>\n",
       "      <td>0.0</td>\n",
       "      <td>0.0</td>\n",
       "      <td>0.0</td>\n",
       "      <td>0.0</td>\n",
       "    </tr>\n",
       "    <tr>\n",
       "      <th>4</th>\n",
       "      <td>4</td>\n",
       "      <td>190</td>\n",
       "      <td>2.0</td>\n",
       "      <td>mira</td>\n",
       "      <td>2006</td>\n",
       "      <td>66300</td>\n",
       "      <td>660</td>\n",
       "      <td>0.0</td>\n",
       "      <td>0.0</td>\n",
       "      <td>0.0</td>\n",
       "      <td>0.0</td>\n",
       "    </tr>\n",
       "    <tr>\n",
       "      <th>...</th>\n",
       "      <td>...</td>\n",
       "      <td>...</td>\n",
       "      <td>...</td>\n",
       "      <td>...</td>\n",
       "      <td>...</td>\n",
       "      <td>...</td>\n",
       "      <td>...</td>\n",
       "      <td>...</td>\n",
       "      <td>...</td>\n",
       "      <td>...</td>\n",
       "      <td>...</td>\n",
       "    </tr>\n",
       "    <tr>\n",
       "      <th>2313</th>\n",
       "      <td>2331</td>\n",
       "      <td>1400</td>\n",
       "      <td>1.0</td>\n",
       "      <td>vitz</td>\n",
       "      <td>2009</td>\n",
       "      <td>121000</td>\n",
       "      <td>996</td>\n",
       "      <td>0.0</td>\n",
       "      <td>0.0</td>\n",
       "      <td>0.0</td>\n",
       "      <td>0.0</td>\n",
       "    </tr>\n",
       "    <tr>\n",
       "      <th>2314</th>\n",
       "      <td>2332</td>\n",
       "      <td>1400</td>\n",
       "      <td>1.0</td>\n",
       "      <td>estima</td>\n",
       "      <td>2003</td>\n",
       "      <td>101000</td>\n",
       "      <td>3000</td>\n",
       "      <td>0.0</td>\n",
       "      <td>0.0</td>\n",
       "      <td>0.0</td>\n",
       "      <td>0.0</td>\n",
       "    </tr>\n",
       "    <tr>\n",
       "      <th>2315</th>\n",
       "      <td>2333</td>\n",
       "      <td>1400</td>\n",
       "      <td>6.0</td>\n",
       "      <td>r2</td>\n",
       "      <td>2005</td>\n",
       "      <td>101000</td>\n",
       "      <td>660</td>\n",
       "      <td>2.0</td>\n",
       "      <td>0.0</td>\n",
       "      <td>0.0</td>\n",
       "      <td>0.0</td>\n",
       "    </tr>\n",
       "    <tr>\n",
       "      <th>2316</th>\n",
       "      <td>2334</td>\n",
       "      <td>1400</td>\n",
       "      <td>5.0</td>\n",
       "      <td>z</td>\n",
       "      <td>2000</td>\n",
       "      <td>170000</td>\n",
       "      <td>660</td>\n",
       "      <td>0.0</td>\n",
       "      <td>1.0</td>\n",
       "      <td>0.0</td>\n",
       "      <td>0.0</td>\n",
       "    </tr>\n",
       "    <tr>\n",
       "      <th>2317</th>\n",
       "      <td>2335</td>\n",
       "      <td>1400</td>\n",
       "      <td>1.0</td>\n",
       "      <td>estima t</td>\n",
       "      <td>2005</td>\n",
       "      <td>72320</td>\n",
       "      <td>3000</td>\n",
       "      <td>0.0</td>\n",
       "      <td>0.0</td>\n",
       "      <td>0.0</td>\n",
       "      <td>0.0</td>\n",
       "    </tr>\n",
       "  </tbody>\n",
       "</table>\n",
       "<p>2318 rows × 11 columns</p>\n",
       "</div>"
      ],
      "text/plain": [
       "        id  price  mark     model  year  mileage  engine_capacity  \\\n",
       "0        0     80   0.0     march  2003    80000             1240   \n",
       "1        1    110   0.0     march  2010    53000             1200   \n",
       "2        2    165   0.0   lafesta  2005    47690             2000   \n",
       "3        3    190   1.0   avensis  2008   130661             1990   \n",
       "4        4    190   2.0      mira  2006    66300              660   \n",
       "...    ...    ...   ...       ...   ...      ...              ...   \n",
       "2313  2331   1400   1.0      vitz  2009   121000              996   \n",
       "2314  2332   1400   1.0    estima  2003   101000             3000   \n",
       "2315  2333   1400   6.0        r2  2005   101000              660   \n",
       "2316  2334   1400   5.0         z  2000   170000              660   \n",
       "2317  2335   1400   1.0  estima t  2005    72320             3000   \n",
       "\n",
       "      transmission  drive  hand_drive  fuel  \n",
       "0              0.0    0.0         0.0   0.0  \n",
       "1              0.0    0.0         0.0   0.0  \n",
       "2              0.0    0.0         0.0   0.0  \n",
       "3              0.0    0.0         0.0   0.0  \n",
       "4              0.0    0.0         0.0   0.0  \n",
       "...            ...    ...         ...   ...  \n",
       "2313           0.0    0.0         0.0   0.0  \n",
       "2314           0.0    0.0         0.0   0.0  \n",
       "2315           2.0    0.0         0.0   0.0  \n",
       "2316           0.0    1.0         0.0   0.0  \n",
       "2317           0.0    0.0         0.0   0.0  \n",
       "\n",
       "[2318 rows x 11 columns]"
      ]
     },
     "execution_count": 18,
     "metadata": {},
     "output_type": "execute_result"
    }
   ],
   "source": [
    "df"
   ]
  },
  {
   "cell_type": "code",
   "execution_count": 19,
   "id": "0f716267",
   "metadata": {
    "scrolled": true
   },
   "outputs": [
    {
     "data": {
      "text/html": [
       "<div>\n",
       "<style scoped>\n",
       "    .dataframe tbody tr th:only-of-type {\n",
       "        vertical-align: middle;\n",
       "    }\n",
       "\n",
       "    .dataframe tbody tr th {\n",
       "        vertical-align: top;\n",
       "    }\n",
       "\n",
       "    .dataframe thead th {\n",
       "        text-align: right;\n",
       "    }\n",
       "</style>\n",
       "<table border=\"1\" class=\"dataframe\">\n",
       "  <thead>\n",
       "    <tr style=\"text-align: right;\">\n",
       "      <th></th>\n",
       "      <th>id</th>\n",
       "      <th>price</th>\n",
       "      <th>mark</th>\n",
       "      <th>year</th>\n",
       "      <th>mileage</th>\n",
       "      <th>engine_capacity</th>\n",
       "      <th>transmission</th>\n",
       "      <th>drive</th>\n",
       "      <th>hand_drive</th>\n",
       "      <th>fuel</th>\n",
       "    </tr>\n",
       "  </thead>\n",
       "  <tbody>\n",
       "    <tr>\n",
       "      <th>count</th>\n",
       "      <td>2318.000000</td>\n",
       "      <td>2318.000000</td>\n",
       "      <td>2318.000000</td>\n",
       "      <td>2318.000000</td>\n",
       "      <td>2318.000000</td>\n",
       "      <td>2318.000000</td>\n",
       "      <td>2318.000000</td>\n",
       "      <td>2318.000000</td>\n",
       "      <td>2318.000000</td>\n",
       "      <td>2318.000000</td>\n",
       "    </tr>\n",
       "    <tr>\n",
       "      <th>mean</th>\n",
       "      <td>1169.047023</td>\n",
       "      <td>971.522433</td>\n",
       "      <td>3.018119</td>\n",
       "      <td>2005.972390</td>\n",
       "      <td>100013.194996</td>\n",
       "      <td>1507.010785</td>\n",
       "      <td>0.076359</td>\n",
       "      <td>0.087144</td>\n",
       "      <td>0.014236</td>\n",
       "      <td>0.020276</td>\n",
       "    </tr>\n",
       "    <tr>\n",
       "      <th>std</th>\n",
       "      <td>674.460724</td>\n",
       "      <td>288.673112</td>\n",
       "      <td>3.549468</td>\n",
       "      <td>3.698863</td>\n",
       "      <td>52512.478883</td>\n",
       "      <td>549.585170</td>\n",
       "      <td>0.310571</td>\n",
       "      <td>0.289655</td>\n",
       "      <td>0.166885</td>\n",
       "      <td>0.211910</td>\n",
       "    </tr>\n",
       "    <tr>\n",
       "      <th>min</th>\n",
       "      <td>0.000000</td>\n",
       "      <td>80.000000</td>\n",
       "      <td>0.000000</td>\n",
       "      <td>1979.000000</td>\n",
       "      <td>2000.000000</td>\n",
       "      <td>9.000000</td>\n",
       "      <td>0.000000</td>\n",
       "      <td>0.000000</td>\n",
       "      <td>0.000000</td>\n",
       "      <td>0.000000</td>\n",
       "    </tr>\n",
       "    <tr>\n",
       "      <th>25%</th>\n",
       "      <td>583.250000</td>\n",
       "      <td>776.000000</td>\n",
       "      <td>1.000000</td>\n",
       "      <td>2004.000000</td>\n",
       "      <td>67000.000000</td>\n",
       "      <td>1300.000000</td>\n",
       "      <td>0.000000</td>\n",
       "      <td>0.000000</td>\n",
       "      <td>0.000000</td>\n",
       "      <td>0.000000</td>\n",
       "    </tr>\n",
       "    <tr>\n",
       "      <th>50%</th>\n",
       "      <td>1168.500000</td>\n",
       "      <td>1000.000000</td>\n",
       "      <td>1.000000</td>\n",
       "      <td>2006.000000</td>\n",
       "      <td>94000.000000</td>\n",
       "      <td>1490.000000</td>\n",
       "      <td>0.000000</td>\n",
       "      <td>0.000000</td>\n",
       "      <td>0.000000</td>\n",
       "      <td>0.000000</td>\n",
       "    </tr>\n",
       "    <tr>\n",
       "      <th>75%</th>\n",
       "      <td>1753.750000</td>\n",
       "      <td>1213.000000</td>\n",
       "      <td>5.000000</td>\n",
       "      <td>2009.000000</td>\n",
       "      <td>124000.000000</td>\n",
       "      <td>1800.000000</td>\n",
       "      <td>0.000000</td>\n",
       "      <td>0.000000</td>\n",
       "      <td>0.000000</td>\n",
       "      <td>0.000000</td>\n",
       "    </tr>\n",
       "    <tr>\n",
       "      <th>max</th>\n",
       "      <td>2335.000000</td>\n",
       "      <td>1400.000000</td>\n",
       "      <td>27.000000</td>\n",
       "      <td>2015.000000</td>\n",
       "      <td>790000.000000</td>\n",
       "      <td>12340.000000</td>\n",
       "      <td>2.000000</td>\n",
       "      <td>2.000000</td>\n",
       "      <td>2.000000</td>\n",
       "      <td>4.000000</td>\n",
       "    </tr>\n",
       "  </tbody>\n",
       "</table>\n",
       "</div>"
      ],
      "text/plain": [
       "                id        price         mark         year        mileage  \\\n",
       "count  2318.000000  2318.000000  2318.000000  2318.000000    2318.000000   \n",
       "mean   1169.047023   971.522433     3.018119  2005.972390  100013.194996   \n",
       "std     674.460724   288.673112     3.549468     3.698863   52512.478883   \n",
       "min       0.000000    80.000000     0.000000  1979.000000    2000.000000   \n",
       "25%     583.250000   776.000000     1.000000  2004.000000   67000.000000   \n",
       "50%    1168.500000  1000.000000     1.000000  2006.000000   94000.000000   \n",
       "75%    1753.750000  1213.000000     5.000000  2009.000000  124000.000000   \n",
       "max    2335.000000  1400.000000    27.000000  2015.000000  790000.000000   \n",
       "\n",
       "       engine_capacity  transmission        drive   hand_drive         fuel  \n",
       "count      2318.000000   2318.000000  2318.000000  2318.000000  2318.000000  \n",
       "mean       1507.010785      0.076359     0.087144     0.014236     0.020276  \n",
       "std         549.585170      0.310571     0.289655     0.166885     0.211910  \n",
       "min           9.000000      0.000000     0.000000     0.000000     0.000000  \n",
       "25%        1300.000000      0.000000     0.000000     0.000000     0.000000  \n",
       "50%        1490.000000      0.000000     0.000000     0.000000     0.000000  \n",
       "75%        1800.000000      0.000000     0.000000     0.000000     0.000000  \n",
       "max       12340.000000      2.000000     2.000000     2.000000     4.000000  "
      ]
     },
     "execution_count": 19,
     "metadata": {},
     "output_type": "execute_result"
    }
   ],
   "source": [
    "df.describe()"
   ]
  },
  {
   "cell_type": "code",
   "execution_count": 20,
   "id": "94d580ea",
   "metadata": {},
   "outputs": [],
   "source": [
    "import matplotlib.pyplot as plt\n",
    "import seaborn as sns\n",
    "\n",
    "import warnings\n",
    "warnings.filterwarnings('ignore')"
   ]
  },
  {
   "cell_type": "code",
   "execution_count": 21,
   "id": "ac3e277d",
   "metadata": {},
   "outputs": [
    {
     "data": {
      "image/png": "[encoded data removed]",
      "text/plain": [
       "<Figure size 1296x1008 with 2 Axes>"
      ]
     },
     "metadata": {
      "needs_background": "light"
     },
     "output_type": "display_data"
    }
   ],
   "source": [
    "df_corr = df.corr().abs()\n",
    "\n",
    "plt.figure(figsize=(18,14))\n",
    "sns.heatmap(df_corr,annot=True,annot_kws={'size':10})\n",
    "plt.show()"
   ]
  },
  {
   "cell_type": "code",
   "execution_count": null,
   "id": "37fe8319",
   "metadata": {},
   "outputs": [],
   "source": []
  },
  {
   "cell_type": "code",
   "execution_count": 22,
   "id": "7f22fb3d",
   "metadata": {},
   "outputs": [],
   "source": [
    "df = df.drop(columns = ['model'])"
   ]
  },
  {
   "cell_type": "code",
   "execution_count": 23,
   "id": "b96d6e32",
   "metadata": {},
   "outputs": [],
   "source": [
    "import numpy as np"
   ]
  },
  {
   "cell_type": "code",
   "execution_count": 24,
   "id": "1fcd7487",
   "metadata": {},
   "outputs": [
    {
     "data": {
      "image/png": "[encoded data removed]",
      "text/plain": [
       "<Figure size 2160x1440 with 10 Axes>"
      ]
     },
     "metadata": {},
     "output_type": "display_data"
    }
   ],
   "source": [
    "plt.figure(figsize = (30,20), facecolor = 'grey')\n",
    "\n",
    "plotnumber = 1\n",
    "\n",
    "\n",
    "for column in df:\n",
    "    if plotnumber <= 12:\n",
    "        ax = plt.subplot(2,6,plotnumber)\n",
    "        sns.distplot(df[column])\n",
    "        plt.xlabel(column,fontsize=20)\n",
    "        \n",
    "        \n",
    "    plotnumber+=1\n",
    "    \n",
    "plt.show()"
   ]
  },
  {
   "cell_type": "code",
   "execution_count": 25,
   "id": "f65b623a",
   "metadata": {},
   "outputs": [],
   "source": [
    "q1 = df.quantile(0.25)\n",
    "\n",
    "q3 = df.quantile(0.75)\n",
    "\n",
    "iqr = q3 - q1"
   ]
  },
  {
   "cell_type": "code",
   "execution_count": 26,
   "id": "7d83a343",
   "metadata": {},
   "outputs": [
    {
     "name": "stdout",
     "output_type": "stream",
     "text": [
      "id                   583.25\n",
      "price                776.00\n",
      "mark                   1.00\n",
      "year                2004.00\n",
      "mileage            67000.00\n",
      "engine_capacity     1300.00\n",
      "transmission           0.00\n",
      "drive                  0.00\n",
      "hand_drive             0.00\n",
      "fuel                   0.00\n",
      "Name: 0.25, dtype: float64\n"
     ]
    }
   ],
   "source": [
    "print(q1)"
   ]
  },
  {
   "cell_type": "code",
   "execution_count": 27,
   "id": "1695bdfa",
   "metadata": {},
   "outputs": [
    {
     "name": "stdout",
     "output_type": "stream",
     "text": [
      "id                   1753.75\n",
      "price                1213.00\n",
      "mark                    5.00\n",
      "year                 2009.00\n",
      "mileage            124000.00\n",
      "engine_capacity      1800.00\n",
      "transmission            0.00\n",
      "drive                   0.00\n",
      "hand_drive              0.00\n",
      "fuel                    0.00\n",
      "Name: 0.75, dtype: float64\n"
     ]
    }
   ],
   "source": [
    "print(q3)"
   ]
  },
  {
   "cell_type": "code",
   "execution_count": 28,
   "id": "9bceea83",
   "metadata": {},
   "outputs": [
    {
     "name": "stdout",
     "output_type": "stream",
     "text": [
      "id                  1170.5\n",
      "price                437.0\n",
      "mark                   4.0\n",
      "year                   5.0\n",
      "mileage            57000.0\n",
      "engine_capacity      500.0\n",
      "transmission           0.0\n",
      "drive                  0.0\n",
      "hand_drive             0.0\n",
      "fuel                   0.0\n",
      "dtype: float64\n"
     ]
    }
   ],
   "source": [
    "print(iqr)"
   ]
  },
  {
   "cell_type": "code",
   "execution_count": 29,
   "id": "d50a5738",
   "metadata": {},
   "outputs": [
    {
     "data": {
      "text/plain": [
       "1868.5"
      ]
     },
     "execution_count": 29,
     "metadata": {},
     "output_type": "execute_result"
    }
   ],
   "source": [
    "price_high = (q3.price + (1.5 * iqr.price))\n",
    "\n",
    "price_high"
   ]
  },
  {
   "cell_type": "code",
   "execution_count": 30,
   "id": "986eb4f3",
   "metadata": {},
   "outputs": [
    {
     "data": {
      "text/plain": [
       "(array([], dtype=int64),)"
      ]
     },
     "execution_count": 30,
     "metadata": {},
     "output_type": "execute_result"
    }
   ],
   "source": [
    "index = np.where(df['price'] > price_high)\n",
    "\n",
    "index"
   ]
  },
  {
   "cell_type": "code",
   "execution_count": 31,
   "id": "8e544cfc",
   "metadata": {},
   "outputs": [
    {
     "data": {
      "text/plain": [
       "(2318, 10)"
      ]
     },
     "execution_count": 31,
     "metadata": {},
     "output_type": "execute_result"
    }
   ],
   "source": [
    "df.shape"
   ]
  },
  {
   "cell_type": "code",
   "execution_count": 32,
   "id": "c01a5a7d",
   "metadata": {},
   "outputs": [
    {
     "data": {
      "text/plain": [
       "209500.0"
      ]
     },
     "execution_count": 32,
     "metadata": {},
     "output_type": "execute_result"
    }
   ],
   "source": [
    "mileage_high = (q3.mileage + (1.5 * iqr.mileage))\n",
    "\n",
    "mileage_high"
   ]
  },
  {
   "cell_type": "code",
   "execution_count": 33,
   "id": "d4648742",
   "metadata": {},
   "outputs": [
    {
     "data": {
      "text/plain": [
       "(array([  90,  103,  171,  188,  190,  243,  268,  327,  351,  358,  359,\n",
       "         446,  459,  509,  515,  581,  749,  764,  811,  812,  818,  910,\n",
       "         971, 1001, 1076, 1134, 1209, 1325, 1382, 1459, 1521, 1572, 1587,\n",
       "        1609, 1668, 1713, 1729, 1779, 1962, 1975, 2070, 2103, 2147, 2195,\n",
       "        2210, 2310], dtype=int64),)"
      ]
     },
     "execution_count": 33,
     "metadata": {},
     "output_type": "execute_result"
    }
   ],
   "source": [
    "index = np.where(df['mileage'] >  mileage_high)\n",
    "\n",
    "index"
   ]
  },
  {
   "cell_type": "code",
   "execution_count": 34,
   "id": "371bfdc5",
   "metadata": {},
   "outputs": [
    {
     "data": {
      "text/plain": [
       "(2272, 10)"
      ]
     },
     "execution_count": 34,
     "metadata": {},
     "output_type": "execute_result"
    }
   ],
   "source": [
    "df = df.drop(df.index[index])\n",
    "\n",
    "df.shape"
   ]
  },
  {
   "cell_type": "code",
   "execution_count": 35,
   "id": "0cee6acc",
   "metadata": {},
   "outputs": [
    {
     "data": {
      "text/html": [
       "<div>\n",
       "<style scoped>\n",
       "    .dataframe tbody tr th:only-of-type {\n",
       "        vertical-align: middle;\n",
       "    }\n",
       "\n",
       "    .dataframe tbody tr th {\n",
       "        vertical-align: top;\n",
       "    }\n",
       "\n",
       "    .dataframe thead th {\n",
       "        text-align: right;\n",
       "    }\n",
       "</style>\n",
       "<table border=\"1\" class=\"dataframe\">\n",
       "  <thead>\n",
       "    <tr style=\"text-align: right;\">\n",
       "      <th></th>\n",
       "      <th>index</th>\n",
       "      <th>id</th>\n",
       "      <th>price</th>\n",
       "      <th>mark</th>\n",
       "      <th>year</th>\n",
       "      <th>mileage</th>\n",
       "      <th>engine_capacity</th>\n",
       "      <th>transmission</th>\n",
       "      <th>drive</th>\n",
       "      <th>hand_drive</th>\n",
       "      <th>fuel</th>\n",
       "    </tr>\n",
       "  </thead>\n",
       "  <tbody>\n",
       "    <tr>\n",
       "      <th>0</th>\n",
       "      <td>0</td>\n",
       "      <td>0</td>\n",
       "      <td>80</td>\n",
       "      <td>0.0</td>\n",
       "      <td>2003</td>\n",
       "      <td>80000</td>\n",
       "      <td>1240</td>\n",
       "      <td>0.0</td>\n",
       "      <td>0.0</td>\n",
       "      <td>0.0</td>\n",
       "      <td>0.0</td>\n",
       "    </tr>\n",
       "    <tr>\n",
       "      <th>1</th>\n",
       "      <td>1</td>\n",
       "      <td>1</td>\n",
       "      <td>110</td>\n",
       "      <td>0.0</td>\n",
       "      <td>2010</td>\n",
       "      <td>53000</td>\n",
       "      <td>1200</td>\n",
       "      <td>0.0</td>\n",
       "      <td>0.0</td>\n",
       "      <td>0.0</td>\n",
       "      <td>0.0</td>\n",
       "    </tr>\n",
       "    <tr>\n",
       "      <th>2</th>\n",
       "      <td>2</td>\n",
       "      <td>2</td>\n",
       "      <td>165</td>\n",
       "      <td>0.0</td>\n",
       "      <td>2005</td>\n",
       "      <td>47690</td>\n",
       "      <td>2000</td>\n",
       "      <td>0.0</td>\n",
       "      <td>0.0</td>\n",
       "      <td>0.0</td>\n",
       "      <td>0.0</td>\n",
       "    </tr>\n",
       "    <tr>\n",
       "      <th>3</th>\n",
       "      <td>3</td>\n",
       "      <td>3</td>\n",
       "      <td>190</td>\n",
       "      <td>1.0</td>\n",
       "      <td>2008</td>\n",
       "      <td>130661</td>\n",
       "      <td>1990</td>\n",
       "      <td>0.0</td>\n",
       "      <td>0.0</td>\n",
       "      <td>0.0</td>\n",
       "      <td>0.0</td>\n",
       "    </tr>\n",
       "    <tr>\n",
       "      <th>4</th>\n",
       "      <td>4</td>\n",
       "      <td>4</td>\n",
       "      <td>190</td>\n",
       "      <td>2.0</td>\n",
       "      <td>2006</td>\n",
       "      <td>66300</td>\n",
       "      <td>660</td>\n",
       "      <td>0.0</td>\n",
       "      <td>0.0</td>\n",
       "      <td>0.0</td>\n",
       "      <td>0.0</td>\n",
       "    </tr>\n",
       "    <tr>\n",
       "      <th>...</th>\n",
       "      <td>...</td>\n",
       "      <td>...</td>\n",
       "      <td>...</td>\n",
       "      <td>...</td>\n",
       "      <td>...</td>\n",
       "      <td>...</td>\n",
       "      <td>...</td>\n",
       "      <td>...</td>\n",
       "      <td>...</td>\n",
       "      <td>...</td>\n",
       "      <td>...</td>\n",
       "    </tr>\n",
       "    <tr>\n",
       "      <th>2267</th>\n",
       "      <td>2313</td>\n",
       "      <td>2331</td>\n",
       "      <td>1400</td>\n",
       "      <td>1.0</td>\n",
       "      <td>2009</td>\n",
       "      <td>121000</td>\n",
       "      <td>996</td>\n",
       "      <td>0.0</td>\n",
       "      <td>0.0</td>\n",
       "      <td>0.0</td>\n",
       "      <td>0.0</td>\n",
       "    </tr>\n",
       "    <tr>\n",
       "      <th>2268</th>\n",
       "      <td>2314</td>\n",
       "      <td>2332</td>\n",
       "      <td>1400</td>\n",
       "      <td>1.0</td>\n",
       "      <td>2003</td>\n",
       "      <td>101000</td>\n",
       "      <td>3000</td>\n",
       "      <td>0.0</td>\n",
       "      <td>0.0</td>\n",
       "      <td>0.0</td>\n",
       "      <td>0.0</td>\n",
       "    </tr>\n",
       "    <tr>\n",
       "      <th>2269</th>\n",
       "      <td>2315</td>\n",
       "      <td>2333</td>\n",
       "      <td>1400</td>\n",
       "      <td>6.0</td>\n",
       "      <td>2005</td>\n",
       "      <td>101000</td>\n",
       "      <td>660</td>\n",
       "      <td>2.0</td>\n",
       "      <td>0.0</td>\n",
       "      <td>0.0</td>\n",
       "      <td>0.0</td>\n",
       "    </tr>\n",
       "    <tr>\n",
       "      <th>2270</th>\n",
       "      <td>2316</td>\n",
       "      <td>2334</td>\n",
       "      <td>1400</td>\n",
       "      <td>5.0</td>\n",
       "      <td>2000</td>\n",
       "      <td>170000</td>\n",
       "      <td>660</td>\n",
       "      <td>0.0</td>\n",
       "      <td>1.0</td>\n",
       "      <td>0.0</td>\n",
       "      <td>0.0</td>\n",
       "    </tr>\n",
       "    <tr>\n",
       "      <th>2271</th>\n",
       "      <td>2317</td>\n",
       "      <td>2335</td>\n",
       "      <td>1400</td>\n",
       "      <td>1.0</td>\n",
       "      <td>2005</td>\n",
       "      <td>72320</td>\n",
       "      <td>3000</td>\n",
       "      <td>0.0</td>\n",
       "      <td>0.0</td>\n",
       "      <td>0.0</td>\n",
       "      <td>0.0</td>\n",
       "    </tr>\n",
       "  </tbody>\n",
       "</table>\n",
       "<p>2272 rows × 11 columns</p>\n",
       "</div>"
      ],
      "text/plain": [
       "      index    id  price  mark  year  mileage  engine_capacity  transmission  \\\n",
       "0         0     0     80   0.0  2003    80000             1240           0.0   \n",
       "1         1     1    110   0.0  2010    53000             1200           0.0   \n",
       "2         2     2    165   0.0  2005    47690             2000           0.0   \n",
       "3         3     3    190   1.0  2008   130661             1990           0.0   \n",
       "4         4     4    190   2.0  2006    66300              660           0.0   \n",
       "...     ...   ...    ...   ...   ...      ...              ...           ...   \n",
       "2267   2313  2331   1400   1.0  2009   121000              996           0.0   \n",
       "2268   2314  2332   1400   1.0  2003   101000             3000           0.0   \n",
       "2269   2315  2333   1400   6.0  2005   101000              660           2.0   \n",
       "2270   2316  2334   1400   5.0  2000   170000              660           0.0   \n",
       "2271   2317  2335   1400   1.0  2005    72320             3000           0.0   \n",
       "\n",
       "      drive  hand_drive  fuel  \n",
       "0       0.0         0.0   0.0  \n",
       "1       0.0         0.0   0.0  \n",
       "2       0.0         0.0   0.0  \n",
       "3       0.0         0.0   0.0  \n",
       "4       0.0         0.0   0.0  \n",
       "...     ...         ...   ...  \n",
       "2267    0.0         0.0   0.0  \n",
       "2268    0.0         0.0   0.0  \n",
       "2269    0.0         0.0   0.0  \n",
       "2270    1.0         0.0   0.0  \n",
       "2271    0.0         0.0   0.0  \n",
       "\n",
       "[2272 rows x 11 columns]"
      ]
     },
     "execution_count": 35,
     "metadata": {},
     "output_type": "execute_result"
    }
   ],
   "source": [
    "df.reset_index()"
   ]
  },
  {
   "cell_type": "code",
   "execution_count": 36,
   "id": "0a1abff7",
   "metadata": {},
   "outputs": [
    {
     "data": {
      "text/plain": [
       "2550.0"
      ]
     },
     "execution_count": 36,
     "metadata": {},
     "output_type": "execute_result"
    }
   ],
   "source": [
    "engine_capacity_high = (q3.engine_capacity + (1.5 * iqr.engine_capacity))\n",
    "\n",
    "engine_capacity_high"
   ]
  },
  {
   "cell_type": "code",
   "execution_count": 37,
   "id": "8f40eeab",
   "metadata": {},
   "outputs": [
    {
     "data": {
      "text/plain": [
       "(array([   7,   58,  144,  444,  494,  495,  734,  735,  736,  739,  802,\n",
       "         821,  936,  996, 1020, 1057, 1059, 1229, 1276, 1422, 1460, 1550,\n",
       "        1635, 1637, 1735, 1775, 1791, 1799, 1904, 1944, 1986, 1997, 2000,\n",
       "        2001, 2085, 2145, 2168, 2261, 2268, 2271], dtype=int64),)"
      ]
     },
     "execution_count": 37,
     "metadata": {},
     "output_type": "execute_result"
    }
   ],
   "source": [
    "index = np.where(df['engine_capacity'] > engine_capacity_high)\n",
    "\n",
    "index"
   ]
  },
  {
   "cell_type": "code",
   "execution_count": 38,
   "id": "d2b7a315",
   "metadata": {},
   "outputs": [
    {
     "data": {
      "text/plain": [
       "(2232, 10)"
      ]
     },
     "execution_count": 38,
     "metadata": {},
     "output_type": "execute_result"
    }
   ],
   "source": [
    "df = df.drop(df.index[index])\n",
    "\n",
    "df.shape"
   ]
  },
  {
   "cell_type": "code",
   "execution_count": 39,
   "id": "7b35d57d",
   "metadata": {},
   "outputs": [
    {
     "data": {
      "text/html": [
       "<div>\n",
       "<style scoped>\n",
       "    .dataframe tbody tr th:only-of-type {\n",
       "        vertical-align: middle;\n",
       "    }\n",
       "\n",
       "    .dataframe tbody tr th {\n",
       "        vertical-align: top;\n",
       "    }\n",
       "\n",
       "    .dataframe thead th {\n",
       "        text-align: right;\n",
       "    }\n",
       "</style>\n",
       "<table border=\"1\" class=\"dataframe\">\n",
       "  <thead>\n",
       "    <tr style=\"text-align: right;\">\n",
       "      <th></th>\n",
       "      <th>index</th>\n",
       "      <th>id</th>\n",
       "      <th>price</th>\n",
       "      <th>mark</th>\n",
       "      <th>year</th>\n",
       "      <th>mileage</th>\n",
       "      <th>engine_capacity</th>\n",
       "      <th>transmission</th>\n",
       "      <th>drive</th>\n",
       "      <th>hand_drive</th>\n",
       "      <th>fuel</th>\n",
       "    </tr>\n",
       "  </thead>\n",
       "  <tbody>\n",
       "    <tr>\n",
       "      <th>0</th>\n",
       "      <td>0</td>\n",
       "      <td>0</td>\n",
       "      <td>80</td>\n",
       "      <td>0.0</td>\n",
       "      <td>2003</td>\n",
       "      <td>80000</td>\n",
       "      <td>1240</td>\n",
       "      <td>0.0</td>\n",
       "      <td>0.0</td>\n",
       "      <td>0.0</td>\n",
       "      <td>0.0</td>\n",
       "    </tr>\n",
       "    <tr>\n",
       "      <th>1</th>\n",
       "      <td>1</td>\n",
       "      <td>1</td>\n",
       "      <td>110</td>\n",
       "      <td>0.0</td>\n",
       "      <td>2010</td>\n",
       "      <td>53000</td>\n",
       "      <td>1200</td>\n",
       "      <td>0.0</td>\n",
       "      <td>0.0</td>\n",
       "      <td>0.0</td>\n",
       "      <td>0.0</td>\n",
       "    </tr>\n",
       "    <tr>\n",
       "      <th>2</th>\n",
       "      <td>2</td>\n",
       "      <td>2</td>\n",
       "      <td>165</td>\n",
       "      <td>0.0</td>\n",
       "      <td>2005</td>\n",
       "      <td>47690</td>\n",
       "      <td>2000</td>\n",
       "      <td>0.0</td>\n",
       "      <td>0.0</td>\n",
       "      <td>0.0</td>\n",
       "      <td>0.0</td>\n",
       "    </tr>\n",
       "    <tr>\n",
       "      <th>3</th>\n",
       "      <td>3</td>\n",
       "      <td>3</td>\n",
       "      <td>190</td>\n",
       "      <td>1.0</td>\n",
       "      <td>2008</td>\n",
       "      <td>130661</td>\n",
       "      <td>1990</td>\n",
       "      <td>0.0</td>\n",
       "      <td>0.0</td>\n",
       "      <td>0.0</td>\n",
       "      <td>0.0</td>\n",
       "    </tr>\n",
       "    <tr>\n",
       "      <th>4</th>\n",
       "      <td>4</td>\n",
       "      <td>4</td>\n",
       "      <td>190</td>\n",
       "      <td>2.0</td>\n",
       "      <td>2006</td>\n",
       "      <td>66300</td>\n",
       "      <td>660</td>\n",
       "      <td>0.0</td>\n",
       "      <td>0.0</td>\n",
       "      <td>0.0</td>\n",
       "      <td>0.0</td>\n",
       "    </tr>\n",
       "    <tr>\n",
       "      <th>...</th>\n",
       "      <td>...</td>\n",
       "      <td>...</td>\n",
       "      <td>...</td>\n",
       "      <td>...</td>\n",
       "      <td>...</td>\n",
       "      <td>...</td>\n",
       "      <td>...</td>\n",
       "      <td>...</td>\n",
       "      <td>...</td>\n",
       "      <td>...</td>\n",
       "      <td>...</td>\n",
       "    </tr>\n",
       "    <tr>\n",
       "      <th>2227</th>\n",
       "      <td>2311</td>\n",
       "      <td>2329</td>\n",
       "      <td>1400</td>\n",
       "      <td>1.0</td>\n",
       "      <td>2005</td>\n",
       "      <td>101874</td>\n",
       "      <td>2000</td>\n",
       "      <td>0.0</td>\n",
       "      <td>0.0</td>\n",
       "      <td>0.0</td>\n",
       "      <td>0.0</td>\n",
       "    </tr>\n",
       "    <tr>\n",
       "      <th>2228</th>\n",
       "      <td>2312</td>\n",
       "      <td>2330</td>\n",
       "      <td>1400</td>\n",
       "      <td>4.0</td>\n",
       "      <td>2007</td>\n",
       "      <td>112000</td>\n",
       "      <td>1300</td>\n",
       "      <td>0.0</td>\n",
       "      <td>0.0</td>\n",
       "      <td>0.0</td>\n",
       "      <td>0.0</td>\n",
       "    </tr>\n",
       "    <tr>\n",
       "      <th>2229</th>\n",
       "      <td>2313</td>\n",
       "      <td>2331</td>\n",
       "      <td>1400</td>\n",
       "      <td>1.0</td>\n",
       "      <td>2009</td>\n",
       "      <td>121000</td>\n",
       "      <td>996</td>\n",
       "      <td>0.0</td>\n",
       "      <td>0.0</td>\n",
       "      <td>0.0</td>\n",
       "      <td>0.0</td>\n",
       "    </tr>\n",
       "    <tr>\n",
       "      <th>2230</th>\n",
       "      <td>2315</td>\n",
       "      <td>2333</td>\n",
       "      <td>1400</td>\n",
       "      <td>6.0</td>\n",
       "      <td>2005</td>\n",
       "      <td>101000</td>\n",
       "      <td>660</td>\n",
       "      <td>2.0</td>\n",
       "      <td>0.0</td>\n",
       "      <td>0.0</td>\n",
       "      <td>0.0</td>\n",
       "    </tr>\n",
       "    <tr>\n",
       "      <th>2231</th>\n",
       "      <td>2316</td>\n",
       "      <td>2334</td>\n",
       "      <td>1400</td>\n",
       "      <td>5.0</td>\n",
       "      <td>2000</td>\n",
       "      <td>170000</td>\n",
       "      <td>660</td>\n",
       "      <td>0.0</td>\n",
       "      <td>1.0</td>\n",
       "      <td>0.0</td>\n",
       "      <td>0.0</td>\n",
       "    </tr>\n",
       "  </tbody>\n",
       "</table>\n",
       "<p>2232 rows × 11 columns</p>\n",
       "</div>"
      ],
      "text/plain": [
       "      index    id  price  mark  year  mileage  engine_capacity  transmission  \\\n",
       "0         0     0     80   0.0  2003    80000             1240           0.0   \n",
       "1         1     1    110   0.0  2010    53000             1200           0.0   \n",
       "2         2     2    165   0.0  2005    47690             2000           0.0   \n",
       "3         3     3    190   1.0  2008   130661             1990           0.0   \n",
       "4         4     4    190   2.0  2006    66300              660           0.0   \n",
       "...     ...   ...    ...   ...   ...      ...              ...           ...   \n",
       "2227   2311  2329   1400   1.0  2005   101874             2000           0.0   \n",
       "2228   2312  2330   1400   4.0  2007   112000             1300           0.0   \n",
       "2229   2313  2331   1400   1.0  2009   121000              996           0.0   \n",
       "2230   2315  2333   1400   6.0  2005   101000              660           2.0   \n",
       "2231   2316  2334   1400   5.0  2000   170000              660           0.0   \n",
       "\n",
       "      drive  hand_drive  fuel  \n",
       "0       0.0         0.0   0.0  \n",
       "1       0.0         0.0   0.0  \n",
       "2       0.0         0.0   0.0  \n",
       "3       0.0         0.0   0.0  \n",
       "4       0.0         0.0   0.0  \n",
       "...     ...         ...   ...  \n",
       "2227    0.0         0.0   0.0  \n",
       "2228    0.0         0.0   0.0  \n",
       "2229    0.0         0.0   0.0  \n",
       "2230    0.0         0.0   0.0  \n",
       "2231    1.0         0.0   0.0  \n",
       "\n",
       "[2232 rows x 11 columns]"
      ]
     },
     "execution_count": 39,
     "metadata": {},
     "output_type": "execute_result"
    }
   ],
   "source": [
    "df.reset_index()"
   ]
  },
  {
   "cell_type": "code",
   "execution_count": 40,
   "id": "0625addd",
   "metadata": {},
   "outputs": [
    {
     "data": {
      "image/png": "[encoded data removed]",
      "text/plain": [
       "<Figure size 2160x1440 with 10 Axes>"
      ]
     },
     "metadata": {},
     "output_type": "display_data"
    }
   ],
   "source": [
    "plt.figure(figsize = (30,20), facecolor = 'grey')\n",
    "\n",
    "plotnumber = 1\n",
    "\n",
    "\n",
    "for column in df:\n",
    "    if plotnumber <= 12:\n",
    "        ax = plt.subplot(2,6,plotnumber)\n",
    "        sns.distplot(df[column])\n",
    "        plt.xlabel(column,fontsize=20)\n",
    "        \n",
    "        \n",
    "    plotnumber+=1\n",
    "    \n",
    "plt.show()"
   ]
  },
  {
   "cell_type": "code",
   "execution_count": 41,
   "id": "5e57ed52",
   "metadata": {},
   "outputs": [],
   "source": [
    "from sklearn.model_selection import train_test_split\n",
    "\n",
    "from sklearn.preprocessing import StandardScaler\n",
    "\n",
    "from sklearn.linear_model import LinearRegression"
   ]
  },
  {
   "cell_type": "code",
   "execution_count": 42,
   "id": "6e742990",
   "metadata": {},
   "outputs": [],
   "source": [
    "x = df.drop(columns=['price'])\n",
    "\n",
    "y = df['price']"
   ]
  },
  {
   "cell_type": "code",
   "execution_count": 43,
   "id": "737eb7d9",
   "metadata": {},
   "outputs": [
    {
     "data": {
      "text/html": [
       "<div>\n",
       "<style scoped>\n",
       "    .dataframe tbody tr th:only-of-type {\n",
       "        vertical-align: middle;\n",
       "    }\n",
       "\n",
       "    .dataframe tbody tr th {\n",
       "        vertical-align: top;\n",
       "    }\n",
       "\n",
       "    .dataframe thead th {\n",
       "        text-align: right;\n",
       "    }\n",
       "</style>\n",
       "<table border=\"1\" class=\"dataframe\">\n",
       "  <thead>\n",
       "    <tr style=\"text-align: right;\">\n",
       "      <th></th>\n",
       "      <th>id</th>\n",
       "      <th>mark</th>\n",
       "      <th>year</th>\n",
       "      <th>mileage</th>\n",
       "      <th>engine_capacity</th>\n",
       "      <th>transmission</th>\n",
       "      <th>drive</th>\n",
       "      <th>hand_drive</th>\n",
       "      <th>fuel</th>\n",
       "    </tr>\n",
       "  </thead>\n",
       "  <tbody>\n",
       "    <tr>\n",
       "      <th>0</th>\n",
       "      <td>0</td>\n",
       "      <td>0.0</td>\n",
       "      <td>2003</td>\n",
       "      <td>80000</td>\n",
       "      <td>1240</td>\n",
       "      <td>0.0</td>\n",
       "      <td>0.0</td>\n",
       "      <td>0.0</td>\n",
       "      <td>0.0</td>\n",
       "    </tr>\n",
       "    <tr>\n",
       "      <th>1</th>\n",
       "      <td>1</td>\n",
       "      <td>0.0</td>\n",
       "      <td>2010</td>\n",
       "      <td>53000</td>\n",
       "      <td>1200</td>\n",
       "      <td>0.0</td>\n",
       "      <td>0.0</td>\n",
       "      <td>0.0</td>\n",
       "      <td>0.0</td>\n",
       "    </tr>\n",
       "    <tr>\n",
       "      <th>2</th>\n",
       "      <td>2</td>\n",
       "      <td>0.0</td>\n",
       "      <td>2005</td>\n",
       "      <td>47690</td>\n",
       "      <td>2000</td>\n",
       "      <td>0.0</td>\n",
       "      <td>0.0</td>\n",
       "      <td>0.0</td>\n",
       "      <td>0.0</td>\n",
       "    </tr>\n",
       "    <tr>\n",
       "      <th>3</th>\n",
       "      <td>3</td>\n",
       "      <td>1.0</td>\n",
       "      <td>2008</td>\n",
       "      <td>130661</td>\n",
       "      <td>1990</td>\n",
       "      <td>0.0</td>\n",
       "      <td>0.0</td>\n",
       "      <td>0.0</td>\n",
       "      <td>0.0</td>\n",
       "    </tr>\n",
       "    <tr>\n",
       "      <th>4</th>\n",
       "      <td>4</td>\n",
       "      <td>2.0</td>\n",
       "      <td>2006</td>\n",
       "      <td>66300</td>\n",
       "      <td>660</td>\n",
       "      <td>0.0</td>\n",
       "      <td>0.0</td>\n",
       "      <td>0.0</td>\n",
       "      <td>0.0</td>\n",
       "    </tr>\n",
       "    <tr>\n",
       "      <th>...</th>\n",
       "      <td>...</td>\n",
       "      <td>...</td>\n",
       "      <td>...</td>\n",
       "      <td>...</td>\n",
       "      <td>...</td>\n",
       "      <td>...</td>\n",
       "      <td>...</td>\n",
       "      <td>...</td>\n",
       "      <td>...</td>\n",
       "    </tr>\n",
       "    <tr>\n",
       "      <th>2311</th>\n",
       "      <td>2329</td>\n",
       "      <td>1.0</td>\n",
       "      <td>2005</td>\n",
       "      <td>101874</td>\n",
       "      <td>2000</td>\n",
       "      <td>0.0</td>\n",
       "      <td>0.0</td>\n",
       "      <td>0.0</td>\n",
       "      <td>0.0</td>\n",
       "    </tr>\n",
       "    <tr>\n",
       "      <th>2312</th>\n",
       "      <td>2330</td>\n",
       "      <td>4.0</td>\n",
       "      <td>2007</td>\n",
       "      <td>112000</td>\n",
       "      <td>1300</td>\n",
       "      <td>0.0</td>\n",
       "      <td>0.0</td>\n",
       "      <td>0.0</td>\n",
       "      <td>0.0</td>\n",
       "    </tr>\n",
       "    <tr>\n",
       "      <th>2313</th>\n",
       "      <td>2331</td>\n",
       "      <td>1.0</td>\n",
       "      <td>2009</td>\n",
       "      <td>121000</td>\n",
       "      <td>996</td>\n",
       "      <td>0.0</td>\n",
       "      <td>0.0</td>\n",
       "      <td>0.0</td>\n",
       "      <td>0.0</td>\n",
       "    </tr>\n",
       "    <tr>\n",
       "      <th>2315</th>\n",
       "      <td>2333</td>\n",
       "      <td>6.0</td>\n",
       "      <td>2005</td>\n",
       "      <td>101000</td>\n",
       "      <td>660</td>\n",
       "      <td>2.0</td>\n",
       "      <td>0.0</td>\n",
       "      <td>0.0</td>\n",
       "      <td>0.0</td>\n",
       "    </tr>\n",
       "    <tr>\n",
       "      <th>2316</th>\n",
       "      <td>2334</td>\n",
       "      <td>5.0</td>\n",
       "      <td>2000</td>\n",
       "      <td>170000</td>\n",
       "      <td>660</td>\n",
       "      <td>0.0</td>\n",
       "      <td>1.0</td>\n",
       "      <td>0.0</td>\n",
       "      <td>0.0</td>\n",
       "    </tr>\n",
       "  </tbody>\n",
       "</table>\n",
       "<p>2232 rows × 9 columns</p>\n",
       "</div>"
      ],
      "text/plain": [
       "        id  mark  year  mileage  engine_capacity  transmission  drive  \\\n",
       "0        0   0.0  2003    80000             1240           0.0    0.0   \n",
       "1        1   0.0  2010    53000             1200           0.0    0.0   \n",
       "2        2   0.0  2005    47690             2000           0.0    0.0   \n",
       "3        3   1.0  2008   130661             1990           0.0    0.0   \n",
       "4        4   2.0  2006    66300              660           0.0    0.0   \n",
       "...    ...   ...   ...      ...              ...           ...    ...   \n",
       "2311  2329   1.0  2005   101874             2000           0.0    0.0   \n",
       "2312  2330   4.0  2007   112000             1300           0.0    0.0   \n",
       "2313  2331   1.0  2009   121000              996           0.0    0.0   \n",
       "2315  2333   6.0  2005   101000              660           2.0    0.0   \n",
       "2316  2334   5.0  2000   170000              660           0.0    1.0   \n",
       "\n",
       "      hand_drive  fuel  \n",
       "0            0.0   0.0  \n",
       "1            0.0   0.0  \n",
       "2            0.0   0.0  \n",
       "3            0.0   0.0  \n",
       "4            0.0   0.0  \n",
       "...          ...   ...  \n",
       "2311         0.0   0.0  \n",
       "2312         0.0   0.0  \n",
       "2313         0.0   0.0  \n",
       "2315         0.0   0.0  \n",
       "2316         0.0   0.0  \n",
       "\n",
       "[2232 rows x 9 columns]"
      ]
     },
     "execution_count": 43,
     "metadata": {},
     "output_type": "execute_result"
    }
   ],
   "source": [
    "x"
   ]
  },
  {
   "cell_type": "code",
   "execution_count": 44,
   "id": "8ddc1337",
   "metadata": {},
   "outputs": [
    {
     "data": {
      "text/plain": [
       "0         80\n",
       "1        110\n",
       "2        165\n",
       "3        190\n",
       "4        190\n",
       "        ... \n",
       "2311    1400\n",
       "2312    1400\n",
       "2313    1400\n",
       "2315    1400\n",
       "2316    1400\n",
       "Name: price, Length: 2232, dtype: int64"
      ]
     },
     "execution_count": 44,
     "metadata": {},
     "output_type": "execute_result"
    }
   ],
   "source": [
    "y\n"
   ]
  },
  {
   "cell_type": "code",
   "execution_count": 45,
   "id": "94fecd11",
   "metadata": {},
   "outputs": [
    {
     "data": {
      "image/png": "[encoded data removed]",
      "text/plain": [
       "<Figure size 1080x720 with 9 Axes>"
      ]
     },
     "metadata": {},
     "output_type": "display_data"
    }
   ],
   "source": [
    "plt.figure(figsize = (15,10),facecolor = 'yellow')\n",
    "plotnumber = 1\n",
    "\n",
    "for column in x:\n",
    "    if plotnumber<=10:\n",
    "        ax = plt.subplot(2,5,plotnumber)\n",
    "        plt.scatter(x[column],y)\n",
    "        plt.xlabel(column,fontsize=10)\n",
    "        plt.ylabel('price',fontsize=10)\n",
    "        \n",
    "    plotnumber+=1\n",
    "plt.show()"
   ]
  },
  {
   "cell_type": "code",
   "execution_count": 46,
   "id": "62295cb6",
   "metadata": {},
   "outputs": [
    {
     "data": {
      "text/plain": [
       "array([[-1.73345365, -0.86014986, -0.82286543, ..., -0.29123842,\n",
       "        -0.08157436, -0.08366535],\n",
       "       [-1.73196808, -0.86014986,  1.08773785, ..., -0.29123842,\n",
       "        -0.08157436, -0.08366535],\n",
       "       [-1.73048251, -0.86014986, -0.27697878, ..., -0.29123842,\n",
       "        -0.08157436, -0.08366535],\n",
       "       ...,\n",
       "       [ 1.72940827, -0.57291849,  0.81479452, ..., -0.29123842,\n",
       "        -0.08157436, -0.08366535],\n",
       "       [ 1.73237941,  0.86323837, -0.27697878, ..., -0.29123842,\n",
       "        -0.08157436, -0.08366535],\n",
       "       [ 1.73386498,  0.576007  , -1.64169541, ...,  3.24161025,\n",
       "        -0.08157436, -0.08366535]])"
      ]
     },
     "execution_count": 46,
     "metadata": {},
     "output_type": "execute_result"
    }
   ],
   "source": [
    "scaler = StandardScaler()\n",
    "\n",
    "X_scaled = scaler.fit_transform(x)\n",
    "\n",
    "X_scaled"
   ]
  },
  {
   "cell_type": "code",
   "execution_count": 47,
   "id": "8cffa728",
   "metadata": {},
   "outputs": [],
   "source": [
    "x_train,x_test,y_train,y_test = train_test_split(X_scaled,y,test_size = 0.25,random_state = 42)"
   ]
  },
  {
   "cell_type": "code",
   "execution_count": 48,
   "id": "475857e3",
   "metadata": {},
   "outputs": [
    {
     "data": {
      "text/plain": [
       "500      747\n",
       "1370    1100\n",
       "957      933\n",
       "2048    1313\n",
       "229      550\n",
       "Name: price, dtype: int64"
      ]
     },
     "execution_count": 48,
     "metadata": {},
     "output_type": "execute_result"
    }
   ],
   "source": [
    "y_train.head()"
   ]
  },
  {
   "cell_type": "code",
   "execution_count": 49,
   "id": "53cda8eb",
   "metadata": {},
   "outputs": [
    {
     "data": {
      "text/html": [
       "<style>#sk-container-id-1 {color: black;background-color: white;}#sk-container-id-1 pre{padding: 0;}#sk-container-id-1 div.sk-toggleable {background-color: white;}#sk-container-id-1 label.sk-toggleable__label {cursor: pointer;display: block;width: 100%;margin-bottom: 0;padding: 0.3em;box-sizing: border-box;text-align: center;}#sk-container-id-1 label.sk-toggleable__label-arrow:before {content: \"▸\";float: left;margin-right: 0.25em;color: #696969;}#sk-container-id-1 label.sk-toggleable__label-arrow:hover:before {color: black;}#sk-container-id-1 div.sk-estimator:hover label.sk-toggleable__label-arrow:before {color: black;}#sk-container-id-1 div.sk-toggleable__content {max-height: 0;max-width: 0;overflow: hidden;text-align: left;background-color: #f0f8ff;}#sk-container-id-1 div.sk-toggleable__content pre {margin: 0.2em;color: black;border-radius: 0.25em;background-color: #f0f8ff;}#sk-container-id-1 input.sk-toggleable__control:checked~div.sk-toggleable__content {max-height: 200px;max-width: 100%;overflow: auto;}#sk-container-id-1 input.sk-toggleable__control:checked~label.sk-toggleable__label-arrow:before {content: \"▾\";}#sk-container-id-1 div.sk-estimator input.sk-toggleable__control:checked~label.sk-toggleable__label {background-color: #d4ebff;}#sk-container-id-1 div.sk-label input.sk-toggleable__control:checked~label.sk-toggleable__label {background-color: #d4ebff;}#sk-container-id-1 input.sk-hidden--visually {border: 0;clip: rect(1px 1px 1px 1px);clip: rect(1px, 1px, 1px, 1px);height: 1px;margin: -1px;overflow: hidden;padding: 0;position: absolute;width: 1px;}#sk-container-id-1 div.sk-estimator {font-family: monospace;background-color: #f0f8ff;border: 1px dotted black;border-radius: 0.25em;box-sizing: border-box;margin-bottom: 0.5em;}#sk-container-id-1 div.sk-estimator:hover {background-color: #d4ebff;}#sk-container-id-1 div.sk-parallel-item::after {content: \"\";width: 100%;border-bottom: 1px solid gray;flex-grow: 1;}#sk-container-id-1 div.sk-label:hover label.sk-toggleable__label {background-color: #d4ebff;}#sk-container-id-1 div.sk-serial::before {content: \"\";position: absolute;border-left: 1px solid gray;box-sizing: border-box;top: 0;bottom: 0;left: 50%;z-index: 0;}#sk-container-id-1 div.sk-serial {display: flex;flex-direction: column;align-items: center;background-color: white;padding-right: 0.2em;padding-left: 0.2em;position: relative;}#sk-container-id-1 div.sk-item {position: relative;z-index: 1;}#sk-container-id-1 div.sk-parallel {display: flex;align-items: stretch;justify-content: center;background-color: white;position: relative;}#sk-container-id-1 div.sk-item::before, #sk-container-id-1 div.sk-parallel-item::before {content: \"\";position: absolute;border-left: 1px solid gray;box-sizing: border-box;top: 0;bottom: 0;left: 50%;z-index: -1;}#sk-container-id-1 div.sk-parallel-item {display: flex;flex-direction: column;z-index: 1;position: relative;background-color: white;}#sk-container-id-1 div.sk-parallel-item:first-child::after {align-self: flex-end;width: 50%;}#sk-container-id-1 div.sk-parallel-item:last-child::after {align-self: flex-start;width: 50%;}#sk-container-id-1 div.sk-parallel-item:only-child::after {width: 0;}#sk-container-id-1 div.sk-dashed-wrapped {border: 1px dashed gray;margin: 0 0.4em 0.5em 0.4em;box-sizing: border-box;padding-bottom: 0.4em;background-color: white;}#sk-container-id-1 div.sk-label label {font-family: monospace;font-weight: bold;display: inline-block;line-height: 1.2em;}#sk-container-id-1 div.sk-label-container {text-align: center;}#sk-container-id-1 div.sk-container {/* jupyter's `normalize.less` sets `[hidden] { display: none; }` but bootstrap.min.css set `[hidden] { display: none !important; }` so we also need the `!important` here to be able to override the default hidden behavior on the sphinx rendered scikit-learn.org. See: https://github.com/scikit-learn/scikit-learn/issues/21755 */display: inline-block !important;position: relative;}#sk-container-id-1 div.sk-text-repr-fallback {display: none;}</style><div id=\"sk-container-id-1\" class=\"sk-top-container\"><div class=\"sk-text-repr-fallback\"><pre>LinearRegression()</pre><b>In a Jupyter environment, please rerun this cell to show the HTML representation or trust the notebook. <br />On GitHub, the HTML representation is unable to render, please try loading this page with nbviewer.org.</b></div><div class=\"sk-container\" hidden><div class=\"sk-item\"><div class=\"sk-estimator sk-toggleable\"><input class=\"sk-toggleable__control sk-hidden--visually\" id=\"sk-estimator-id-1\" type=\"checkbox\" checked><label for=\"sk-estimator-id-1\" class=\"sk-toggleable__label sk-toggleable__label-arrow\">LinearRegression</label><div class=\"sk-toggleable__content\"><pre>LinearRegression()</pre></div></div></div></div></div>"
      ],
      "text/plain": [
       "LinearRegression()"
      ]
     },
     "execution_count": 49,
     "metadata": {},
     "output_type": "execute_result"
    }
   ],
   "source": [
    "lr = LinearRegression()\n",
    "\n",
    "lr.fit(x_train,y_train)"
   ]
  },
  {
   "cell_type": "code",
   "execution_count": 50,
   "id": "b8455308",
   "metadata": {},
   "outputs": [],
   "source": [
    "x_test_pred = lr.predict(x_test)"
   ]
  },
  {
   "cell_type": "code",
   "execution_count": 51,
   "id": "ff190b6e",
   "metadata": {},
   "outputs": [
    {
     "data": {
      "text/plain": [
       "0.970341303398248"
      ]
     },
     "execution_count": 51,
     "metadata": {},
     "output_type": "execute_result"
    }
   ],
   "source": [
    "lr.score(x_train,y_train)"
   ]
  },
  {
   "cell_type": "code",
   "execution_count": 52,
   "id": "6a36737e",
   "metadata": {},
   "outputs": [
    {
     "data": {
      "text/plain": [
       "0.9748857464066027"
      ]
     },
     "execution_count": 52,
     "metadata": {},
     "output_type": "execute_result"
    }
   ],
   "source": [
    "lr.score(x_test,y_test)"
   ]
  },
  {
   "cell_type": "code",
   "execution_count": 53,
   "id": "7f21cd83",
   "metadata": {},
   "outputs": [
    {
     "data": {
      "image/png": "[encoded data removed]",
      "text/plain": [
       "<Figure size 432x288 with 1 Axes>"
      ]
     },
     "metadata": {
      "needs_background": "light"
     },
     "output_type": "display_data"
    }
   ],
   "source": [
    "plt.scatter(y_test,x_test_pred)\n",
    "\n",
    "plt.xlabel('Actual Price')\n",
    "plt.ylabel('Predicted Price')\n",
    "plt.title('Actual Price vs Predicted Price')\n",
    "\n",
    "plt.show()"
   ]
  },
  {
   "cell_type": "code",
   "execution_count": 54,
   "id": "15f90d24",
   "metadata": {},
   "outputs": [],
   "source": [
    "from sklearn.metrics import mean_squared_error,mean_absolute_error"
   ]
  },
  {
   "cell_type": "code",
   "execution_count": 55,
   "id": "17d0d542",
   "metadata": {},
   "outputs": [
    {
     "data": {
      "text/plain": [
       "35.37958548235521"
      ]
     },
     "execution_count": 55,
     "metadata": {},
     "output_type": "execute_result"
    }
   ],
   "source": [
    "mean_absolute_error(y_test,x_test_pred)"
   ]
  },
  {
   "cell_type": "code",
   "execution_count": 56,
   "id": "15bb63e3",
   "metadata": {},
   "outputs": [
    {
     "data": {
      "text/plain": [
       "2087.9519528760497"
      ]
     },
     "execution_count": 56,
     "metadata": {},
     "output_type": "execute_result"
    }
   ],
   "source": [
    "mean_squared_error(y_test,x_test_pred)"
   ]
  },
  {
   "cell_type": "code",
   "execution_count": 57,
   "id": "b7bf2aa1",
   "metadata": {},
   "outputs": [
    {
     "data": {
      "text/plain": [
       "45.69411289078769"
      ]
     },
     "execution_count": 57,
     "metadata": {},
     "output_type": "execute_result"
    }
   ],
   "source": [
    "np.sqrt(mean_squared_error(y_test,x_test_pred))"
   ]
  },
  {
   "cell_type": "code",
   "execution_count": 58,
   "id": "49ee91a7",
   "metadata": {},
   "outputs": [],
   "source": [
    "from sklearn.metrics import r2_score"
   ]
  },
  {
   "cell_type": "code",
   "execution_count": 59,
   "id": "bdd14457",
   "metadata": {},
   "outputs": [
    {
     "data": {
      "text/plain": [
       "0.9748857464066027"
      ]
     },
     "execution_count": 59,
     "metadata": {},
     "output_type": "execute_result"
    }
   ],
   "source": [
    "r2_score(y_test,x_test_pred)"
   ]
  },
  {
   "cell_type": "code",
   "execution_count": null,
   "id": "496e4fa2",
   "metadata": {},
   "outputs": [],
   "source": []
  },
  {
   "cell_type": "code",
   "execution_count": 60,
   "id": "825c56de",
   "metadata": {},
   "outputs": [],
   "source": [
    "from sklearn import metrics"
   ]
  },
  {
   "cell_type": "code",
   "execution_count": 61,
   "id": "359d33c5",
   "metadata": {},
   "outputs": [],
   "source": [
    "from sklearn.ensemble import AdaBoostRegressor"
   ]
  },
  {
   "cell_type": "code",
   "execution_count": 62,
   "id": "510f44a8",
   "metadata": {},
   "outputs": [],
   "source": [
    "ada = AdaBoostRegressor()"
   ]
  },
  {
   "cell_type": "code",
   "execution_count": 63,
   "id": "101b7230",
   "metadata": {},
   "outputs": [
    {
     "data": {
      "text/html": [
       "<style>#sk-container-id-2 {color: black;background-color: white;}#sk-container-id-2 pre{padding: 0;}#sk-container-id-2 div.sk-toggleable {background-color: white;}#sk-container-id-2 label.sk-toggleable__label {cursor: pointer;display: block;width: 100%;margin-bottom: 0;padding: 0.3em;box-sizing: border-box;text-align: center;}#sk-container-id-2 label.sk-toggleable__label-arrow:before {content: \"▸\";float: left;margin-right: 0.25em;color: #696969;}#sk-container-id-2 label.sk-toggleable__label-arrow:hover:before {color: black;}#sk-container-id-2 div.sk-estimator:hover label.sk-toggleable__label-arrow:before {color: black;}#sk-container-id-2 div.sk-toggleable__content {max-height: 0;max-width: 0;overflow: hidden;text-align: left;background-color: #f0f8ff;}#sk-container-id-2 div.sk-toggleable__content pre {margin: 0.2em;color: black;border-radius: 0.25em;background-color: #f0f8ff;}#sk-container-id-2 input.sk-toggleable__control:checked~div.sk-toggleable__content {max-height: 200px;max-width: 100%;overflow: auto;}#sk-container-id-2 input.sk-toggleable__control:checked~label.sk-toggleable__label-arrow:before {content: \"▾\";}#sk-container-id-2 div.sk-estimator input.sk-toggleable__control:checked~label.sk-toggleable__label {background-color: #d4ebff;}#sk-container-id-2 div.sk-label input.sk-toggleable__control:checked~label.sk-toggleable__label {background-color: #d4ebff;}#sk-container-id-2 input.sk-hidden--visually {border: 0;clip: rect(1px 1px 1px 1px);clip: rect(1px, 1px, 1px, 1px);height: 1px;margin: -1px;overflow: hidden;padding: 0;position: absolute;width: 1px;}#sk-container-id-2 div.sk-estimator {font-family: monospace;background-color: #f0f8ff;border: 1px dotted black;border-radius: 0.25em;box-sizing: border-box;margin-bottom: 0.5em;}#sk-container-id-2 div.sk-estimator:hover {background-color: #d4ebff;}#sk-container-id-2 div.sk-parallel-item::after {content: \"\";width: 100%;border-bottom: 1px solid gray;flex-grow: 1;}#sk-container-id-2 div.sk-label:hover label.sk-toggleable__label {background-color: #d4ebff;}#sk-container-id-2 div.sk-serial::before {content: \"\";position: absolute;border-left: 1px solid gray;box-sizing: border-box;top: 0;bottom: 0;left: 50%;z-index: 0;}#sk-container-id-2 div.sk-serial {display: flex;flex-direction: column;align-items: center;background-color: white;padding-right: 0.2em;padding-left: 0.2em;position: relative;}#sk-container-id-2 div.sk-item {position: relative;z-index: 1;}#sk-container-id-2 div.sk-parallel {display: flex;align-items: stretch;justify-content: center;background-color: white;position: relative;}#sk-container-id-2 div.sk-item::before, #sk-container-id-2 div.sk-parallel-item::before {content: \"\";position: absolute;border-left: 1px solid gray;box-sizing: border-box;top: 0;bottom: 0;left: 50%;z-index: -1;}#sk-container-id-2 div.sk-parallel-item {display: flex;flex-direction: column;z-index: 1;position: relative;background-color: white;}#sk-container-id-2 div.sk-parallel-item:first-child::after {align-self: flex-end;width: 50%;}#sk-container-id-2 div.sk-parallel-item:last-child::after {align-self: flex-start;width: 50%;}#sk-container-id-2 div.sk-parallel-item:only-child::after {width: 0;}#sk-container-id-2 div.sk-dashed-wrapped {border: 1px dashed gray;margin: 0 0.4em 0.5em 0.4em;box-sizing: border-box;padding-bottom: 0.4em;background-color: white;}#sk-container-id-2 div.sk-label label {font-family: monospace;font-weight: bold;display: inline-block;line-height: 1.2em;}#sk-container-id-2 div.sk-label-container {text-align: center;}#sk-container-id-2 div.sk-container {/* jupyter's `normalize.less` sets `[hidden] { display: none; }` but bootstrap.min.css set `[hidden] { display: none !important; }` so we also need the `!important` here to be able to override the default hidden behavior on the sphinx rendered scikit-learn.org. See: https://github.com/scikit-learn/scikit-learn/issues/21755 */display: inline-block !important;position: relative;}#sk-container-id-2 div.sk-text-repr-fallback {display: none;}</style><div id=\"sk-container-id-2\" class=\"sk-top-container\"><div class=\"sk-text-repr-fallback\"><pre>AdaBoostRegressor()</pre><b>In a Jupyter environment, please rerun this cell to show the HTML representation or trust the notebook. <br />On GitHub, the HTML representation is unable to render, please try loading this page with nbviewer.org.</b></div><div class=\"sk-container\" hidden><div class=\"sk-item\"><div class=\"sk-estimator sk-toggleable\"><input class=\"sk-toggleable__control sk-hidden--visually\" id=\"sk-estimator-id-2\" type=\"checkbox\" checked><label for=\"sk-estimator-id-2\" class=\"sk-toggleable__label sk-toggleable__label-arrow\">AdaBoostRegressor</label><div class=\"sk-toggleable__content\"><pre>AdaBoostRegressor()</pre></div></div></div></div></div>"
      ],
      "text/plain": [
       "AdaBoostRegressor()"
      ]
     },
     "execution_count": 63,
     "metadata": {},
     "output_type": "execute_result"
    }
   ],
   "source": [
    "ada.fit(x_train,y_train)"
   ]
  },
  {
   "cell_type": "code",
   "execution_count": 64,
   "id": "956266a1",
   "metadata": {},
   "outputs": [],
   "source": [
    "x_train_pred = ada.predict(x_train)"
   ]
  },
  {
   "cell_type": "code",
   "execution_count": 65,
   "id": "0e15d793",
   "metadata": {},
   "outputs": [
    {
     "data": {
      "text/plain": [
       "0.9946106394098514"
      ]
     },
     "execution_count": 65,
     "metadata": {},
     "output_type": "execute_result"
    }
   ],
   "source": [
    "accuracy = metrics.r2_score(y_train,x_train_pred)\n",
    "\n",
    "accuracy"
   ]
  },
  {
   "cell_type": "code",
   "execution_count": 66,
   "id": "8b3c2f37",
   "metadata": {},
   "outputs": [],
   "source": [
    "x_test_pred = ada.predict(x_test)"
   ]
  },
  {
   "cell_type": "code",
   "execution_count": 67,
   "id": "b2fd0584",
   "metadata": {},
   "outputs": [
    {
     "data": {
      "text/plain": [
       "0.9944276147765551"
      ]
     },
     "execution_count": 67,
     "metadata": {},
     "output_type": "execute_result"
    }
   ],
   "source": [
    "accuracy = metrics.r2_score(y_test,x_test_pred)\n",
    "\n",
    "accuracy"
   ]
  },
  {
   "cell_type": "code",
   "execution_count": 68,
   "id": "d5c7b832",
   "metadata": {},
   "outputs": [],
   "source": [
    "from sklearn.model_selection import RandomizedSearchCV"
   ]
  },
  {
   "cell_type": "code",
   "execution_count": 69,
   "id": "08a42413",
   "metadata": {},
   "outputs": [],
   "source": [
    "params = {'n_estimators':[47,50,55,60],'learning_rate':[0.25,0.30,0.35,0.40]}"
   ]
  },
  {
   "cell_type": "code",
   "execution_count": 70,
   "id": "88fb1c44",
   "metadata": {},
   "outputs": [],
   "source": [
    "rnd_srch = RandomizedSearchCV(AdaBoostRegressor(),cv=5,param_distributions=params)"
   ]
  },
  {
   "cell_type": "code",
   "execution_count": 71,
   "id": "cce664c3",
   "metadata": {},
   "outputs": [
    {
     "data": {
      "text/html": [
       "<style>#sk-container-id-3 {color: black;background-color: white;}#sk-container-id-3 pre{padding: 0;}#sk-container-id-3 div.sk-toggleable {background-color: white;}#sk-container-id-3 label.sk-toggleable__label {cursor: pointer;display: block;width: 100%;margin-bottom: 0;padding: 0.3em;box-sizing: border-box;text-align: center;}#sk-container-id-3 label.sk-toggleable__label-arrow:before {content: \"▸\";float: left;margin-right: 0.25em;color: #696969;}#sk-container-id-3 label.sk-toggleable__label-arrow:hover:before {color: black;}#sk-container-id-3 div.sk-estimator:hover label.sk-toggleable__label-arrow:before {color: black;}#sk-container-id-3 div.sk-toggleable__content {max-height: 0;max-width: 0;overflow: hidden;text-align: left;background-color: #f0f8ff;}#sk-container-id-3 div.sk-toggleable__content pre {margin: 0.2em;color: black;border-radius: 0.25em;background-color: #f0f8ff;}#sk-container-id-3 input.sk-toggleable__control:checked~div.sk-toggleable__content {max-height: 200px;max-width: 100%;overflow: auto;}#sk-container-id-3 input.sk-toggleable__control:checked~label.sk-toggleable__label-arrow:before {content: \"▾\";}#sk-container-id-3 div.sk-estimator input.sk-toggleable__control:checked~label.sk-toggleable__label {background-color: #d4ebff;}#sk-container-id-3 div.sk-label input.sk-toggleable__control:checked~label.sk-toggleable__label {background-color: #d4ebff;}#sk-container-id-3 input.sk-hidden--visually {border: 0;clip: rect(1px 1px 1px 1px);clip: rect(1px, 1px, 1px, 1px);height: 1px;margin: -1px;overflow: hidden;padding: 0;position: absolute;width: 1px;}#sk-container-id-3 div.sk-estimator {font-family: monospace;background-color: #f0f8ff;border: 1px dotted black;border-radius: 0.25em;box-sizing: border-box;margin-bottom: 0.5em;}#sk-container-id-3 div.sk-estimator:hover {background-color: #d4ebff;}#sk-container-id-3 div.sk-parallel-item::after {content: \"\";width: 100%;border-bottom: 1px solid gray;flex-grow: 1;}#sk-container-id-3 div.sk-label:hover label.sk-toggleable__label {background-color: #d4ebff;}#sk-container-id-3 div.sk-serial::before {content: \"\";position: absolute;border-left: 1px solid gray;box-sizing: border-box;top: 0;bottom: 0;left: 50%;z-index: 0;}#sk-container-id-3 div.sk-serial {display: flex;flex-direction: column;align-items: center;background-color: white;padding-right: 0.2em;padding-left: 0.2em;position: relative;}#sk-container-id-3 div.sk-item {position: relative;z-index: 1;}#sk-container-id-3 div.sk-parallel {display: flex;align-items: stretch;justify-content: center;background-color: white;position: relative;}#sk-container-id-3 div.sk-item::before, #sk-container-id-3 div.sk-parallel-item::before {content: \"\";position: absolute;border-left: 1px solid gray;box-sizing: border-box;top: 0;bottom: 0;left: 50%;z-index: -1;}#sk-container-id-3 div.sk-parallel-item {display: flex;flex-direction: column;z-index: 1;position: relative;background-color: white;}#sk-container-id-3 div.sk-parallel-item:first-child::after {align-self: flex-end;width: 50%;}#sk-container-id-3 div.sk-parallel-item:last-child::after {align-self: flex-start;width: 50%;}#sk-container-id-3 div.sk-parallel-item:only-child::after {width: 0;}#sk-container-id-3 div.sk-dashed-wrapped {border: 1px dashed gray;margin: 0 0.4em 0.5em 0.4em;box-sizing: border-box;padding-bottom: 0.4em;background-color: white;}#sk-container-id-3 div.sk-label label {font-family: monospace;font-weight: bold;display: inline-block;line-height: 1.2em;}#sk-container-id-3 div.sk-label-container {text-align: center;}#sk-container-id-3 div.sk-container {/* jupyter's `normalize.less` sets `[hidden] { display: none; }` but bootstrap.min.css set `[hidden] { display: none !important; }` so we also need the `!important` here to be able to override the default hidden behavior on the sphinx rendered scikit-learn.org. See: https://github.com/scikit-learn/scikit-learn/issues/21755 */display: inline-block !important;position: relative;}#sk-container-id-3 div.sk-text-repr-fallback {display: none;}</style><div id=\"sk-container-id-3\" class=\"sk-top-container\"><div class=\"sk-text-repr-fallback\"><pre>RandomizedSearchCV(cv=5, estimator=AdaBoostRegressor(),\n",
       "                   param_distributions={&#x27;learning_rate&#x27;: [0.25, 0.3, 0.35, 0.4],\n",
       "                                        &#x27;n_estimators&#x27;: [47, 50, 55, 60]})</pre><b>In a Jupyter environment, please rerun this cell to show the HTML representation or trust the notebook. <br />On GitHub, the HTML representation is unable to render, please try loading this page with nbviewer.org.</b></div><div class=\"sk-container\" hidden><div class=\"sk-item sk-dashed-wrapped\"><div class=\"sk-label-container\"><div class=\"sk-label sk-toggleable\"><input class=\"sk-toggleable__control sk-hidden--visually\" id=\"sk-estimator-id-3\" type=\"checkbox\" ><label for=\"sk-estimator-id-3\" class=\"sk-toggleable__label sk-toggleable__label-arrow\">RandomizedSearchCV</label><div class=\"sk-toggleable__content\"><pre>RandomizedSearchCV(cv=5, estimator=AdaBoostRegressor(),\n",
       "                   param_distributions={&#x27;learning_rate&#x27;: [0.25, 0.3, 0.35, 0.4],\n",
       "                                        &#x27;n_estimators&#x27;: [47, 50, 55, 60]})</pre></div></div></div><div class=\"sk-parallel\"><div class=\"sk-parallel-item\"><div class=\"sk-item\"><div class=\"sk-label-container\"><div class=\"sk-label sk-toggleable\"><input class=\"sk-toggleable__control sk-hidden--visually\" id=\"sk-estimator-id-4\" type=\"checkbox\" ><label for=\"sk-estimator-id-4\" class=\"sk-toggleable__label sk-toggleable__label-arrow\">estimator: AdaBoostRegressor</label><div class=\"sk-toggleable__content\"><pre>AdaBoostRegressor()</pre></div></div></div><div class=\"sk-serial\"><div class=\"sk-item\"><div class=\"sk-estimator sk-toggleable\"><input class=\"sk-toggleable__control sk-hidden--visually\" id=\"sk-estimator-id-5\" type=\"checkbox\" ><label for=\"sk-estimator-id-5\" class=\"sk-toggleable__label sk-toggleable__label-arrow\">AdaBoostRegressor</label><div class=\"sk-toggleable__content\"><pre>AdaBoostRegressor()</pre></div></div></div></div></div></div></div></div></div></div>"
      ],
      "text/plain": [
       "RandomizedSearchCV(cv=5, estimator=AdaBoostRegressor(),\n",
       "                   param_distributions={'learning_rate': [0.25, 0.3, 0.35, 0.4],\n",
       "                                        'n_estimators': [47, 50, 55, 60]})"
      ]
     },
     "execution_count": 71,
     "metadata": {},
     "output_type": "execute_result"
    }
   ],
   "source": [
    "rnd_srch.fit(x_train,y_train)"
   ]
  },
  {
   "cell_type": "code",
   "execution_count": 72,
   "id": "b9cb2cff",
   "metadata": {},
   "outputs": [
    {
     "data": {
      "text/html": [
       "<style>#sk-container-id-4 {color: black;background-color: white;}#sk-container-id-4 pre{padding: 0;}#sk-container-id-4 div.sk-toggleable {background-color: white;}#sk-container-id-4 label.sk-toggleable__label {cursor: pointer;display: block;width: 100%;margin-bottom: 0;padding: 0.3em;box-sizing: border-box;text-align: center;}#sk-container-id-4 label.sk-toggleable__label-arrow:before {content: \"▸\";float: left;margin-right: 0.25em;color: #696969;}#sk-container-id-4 label.sk-toggleable__label-arrow:hover:before {color: black;}#sk-container-id-4 div.sk-estimator:hover label.sk-toggleable__label-arrow:before {color: black;}#sk-container-id-4 div.sk-toggleable__content {max-height: 0;max-width: 0;overflow: hidden;text-align: left;background-color: #f0f8ff;}#sk-container-id-4 div.sk-toggleable__content pre {margin: 0.2em;color: black;border-radius: 0.25em;background-color: #f0f8ff;}#sk-container-id-4 input.sk-toggleable__control:checked~div.sk-toggleable__content {max-height: 200px;max-width: 100%;overflow: auto;}#sk-container-id-4 input.sk-toggleable__control:checked~label.sk-toggleable__label-arrow:before {content: \"▾\";}#sk-container-id-4 div.sk-estimator input.sk-toggleable__control:checked~label.sk-toggleable__label {background-color: #d4ebff;}#sk-container-id-4 div.sk-label input.sk-toggleable__control:checked~label.sk-toggleable__label {background-color: #d4ebff;}#sk-container-id-4 input.sk-hidden--visually {border: 0;clip: rect(1px 1px 1px 1px);clip: rect(1px, 1px, 1px, 1px);height: 1px;margin: -1px;overflow: hidden;padding: 0;position: absolute;width: 1px;}#sk-container-id-4 div.sk-estimator {font-family: monospace;background-color: #f0f8ff;border: 1px dotted black;border-radius: 0.25em;box-sizing: border-box;margin-bottom: 0.5em;}#sk-container-id-4 div.sk-estimator:hover {background-color: #d4ebff;}#sk-container-id-4 div.sk-parallel-item::after {content: \"\";width: 100%;border-bottom: 1px solid gray;flex-grow: 1;}#sk-container-id-4 div.sk-label:hover label.sk-toggleable__label {background-color: #d4ebff;}#sk-container-id-4 div.sk-serial::before {content: \"\";position: absolute;border-left: 1px solid gray;box-sizing: border-box;top: 0;bottom: 0;left: 50%;z-index: 0;}#sk-container-id-4 div.sk-serial {display: flex;flex-direction: column;align-items: center;background-color: white;padding-right: 0.2em;padding-left: 0.2em;position: relative;}#sk-container-id-4 div.sk-item {position: relative;z-index: 1;}#sk-container-id-4 div.sk-parallel {display: flex;align-items: stretch;justify-content: center;background-color: white;position: relative;}#sk-container-id-4 div.sk-item::before, #sk-container-id-4 div.sk-parallel-item::before {content: \"\";position: absolute;border-left: 1px solid gray;box-sizing: border-box;top: 0;bottom: 0;left: 50%;z-index: -1;}#sk-container-id-4 div.sk-parallel-item {display: flex;flex-direction: column;z-index: 1;position: relative;background-color: white;}#sk-container-id-4 div.sk-parallel-item:first-child::after {align-self: flex-end;width: 50%;}#sk-container-id-4 div.sk-parallel-item:last-child::after {align-self: flex-start;width: 50%;}#sk-container-id-4 div.sk-parallel-item:only-child::after {width: 0;}#sk-container-id-4 div.sk-dashed-wrapped {border: 1px dashed gray;margin: 0 0.4em 0.5em 0.4em;box-sizing: border-box;padding-bottom: 0.4em;background-color: white;}#sk-container-id-4 div.sk-label label {font-family: monospace;font-weight: bold;display: inline-block;line-height: 1.2em;}#sk-container-id-4 div.sk-label-container {text-align: center;}#sk-container-id-4 div.sk-container {/* jupyter's `normalize.less` sets `[hidden] { display: none; }` but bootstrap.min.css set `[hidden] { display: none !important; }` so we also need the `!important` here to be able to override the default hidden behavior on the sphinx rendered scikit-learn.org. See: https://github.com/scikit-learn/scikit-learn/issues/21755 */display: inline-block !important;position: relative;}#sk-container-id-4 div.sk-text-repr-fallback {display: none;}</style><div id=\"sk-container-id-4\" class=\"sk-top-container\"><div class=\"sk-text-repr-fallback\"><pre>AdaBoostRegressor(learning_rate=0.3, n_estimators=60)</pre><b>In a Jupyter environment, please rerun this cell to show the HTML representation or trust the notebook. <br />On GitHub, the HTML representation is unable to render, please try loading this page with nbviewer.org.</b></div><div class=\"sk-container\" hidden><div class=\"sk-item\"><div class=\"sk-estimator sk-toggleable\"><input class=\"sk-toggleable__control sk-hidden--visually\" id=\"sk-estimator-id-6\" type=\"checkbox\" checked><label for=\"sk-estimator-id-6\" class=\"sk-toggleable__label sk-toggleable__label-arrow\">AdaBoostRegressor</label><div class=\"sk-toggleable__content\"><pre>AdaBoostRegressor(learning_rate=0.3, n_estimators=60)</pre></div></div></div></div></div>"
      ],
      "text/plain": [
       "AdaBoostRegressor(learning_rate=0.3, n_estimators=60)"
      ]
     },
     "execution_count": 72,
     "metadata": {},
     "output_type": "execute_result"
    }
   ],
   "source": [
    "rnd_srch.best_estimator_"
   ]
  },
  {
   "cell_type": "code",
   "execution_count": 73,
   "id": "79c0eba5",
   "metadata": {},
   "outputs": [
    {
     "name": "stdout",
     "output_type": "stream",
     "text": [
      "****accuracy post tuning****\n",
      "0.9946270093908341\n"
     ]
    }
   ],
   "source": [
    "ada = AdaBoostRegressor(learning_rate=0.35,n_estimators=60)\n",
    "\n",
    "ada.fit(x_train,y_train)\n",
    "\n",
    "x_test_pred = ada.predict(x_test)\n",
    "\n",
    "print('****accuracy post tuning****')\n",
    "print(metrics.r2_score(y_test,x_test_pred))"
   ]
  },
  {
   "cell_type": "code",
   "execution_count": null,
   "id": "d5f8e2be",
   "metadata": {},
   "outputs": [],
   "source": []
  },
  {
   "cell_type": "code",
   "execution_count": null,
   "id": "46a3d28e",
   "metadata": {},
   "outputs": [],
   "source": []
  },
  {
   "cell_type": "code",
   "execution_count": 74,
   "id": "4d4a4602",
   "metadata": {},
   "outputs": [],
   "source": [
    "import xgboost as xgb"
   ]
  },
  {
   "cell_type": "code",
   "execution_count": 75,
   "id": "bc1bf110",
   "metadata": {},
   "outputs": [
    {
     "data": {
      "text/html": [
       "<style>#sk-container-id-5 {color: black;background-color: white;}#sk-container-id-5 pre{padding: 0;}#sk-container-id-5 div.sk-toggleable {background-color: white;}#sk-container-id-5 label.sk-toggleable__label {cursor: pointer;display: block;width: 100%;margin-bottom: 0;padding: 0.3em;box-sizing: border-box;text-align: center;}#sk-container-id-5 label.sk-toggleable__label-arrow:before {content: \"▸\";float: left;margin-right: 0.25em;color: #696969;}#sk-container-id-5 label.sk-toggleable__label-arrow:hover:before {color: black;}#sk-container-id-5 div.sk-estimator:hover label.sk-toggleable__label-arrow:before {color: black;}#sk-container-id-5 div.sk-toggleable__content {max-height: 0;max-width: 0;overflow: hidden;text-align: left;background-color: #f0f8ff;}#sk-container-id-5 div.sk-toggleable__content pre {margin: 0.2em;color: black;border-radius: 0.25em;background-color: #f0f8ff;}#sk-container-id-5 input.sk-toggleable__control:checked~div.sk-toggleable__content {max-height: 200px;max-width: 100%;overflow: auto;}#sk-container-id-5 input.sk-toggleable__control:checked~label.sk-toggleable__label-arrow:before {content: \"▾\";}#sk-container-id-5 div.sk-estimator input.sk-toggleable__control:checked~label.sk-toggleable__label {background-color: #d4ebff;}#sk-container-id-5 div.sk-label input.sk-toggleable__control:checked~label.sk-toggleable__label {background-color: #d4ebff;}#sk-container-id-5 input.sk-hidden--visually {border: 0;clip: rect(1px 1px 1px 1px);clip: rect(1px, 1px, 1px, 1px);height: 1px;margin: -1px;overflow: hidden;padding: 0;position: absolute;width: 1px;}#sk-container-id-5 div.sk-estimator {font-family: monospace;background-color: #f0f8ff;border: 1px dotted black;border-radius: 0.25em;box-sizing: border-box;margin-bottom: 0.5em;}#sk-container-id-5 div.sk-estimator:hover {background-color: #d4ebff;}#sk-container-id-5 div.sk-parallel-item::after {content: \"\";width: 100%;border-bottom: 1px solid gray;flex-grow: 1;}#sk-container-id-5 div.sk-label:hover label.sk-toggleable__label {background-color: #d4ebff;}#sk-container-id-5 div.sk-serial::before {content: \"\";position: absolute;border-left: 1px solid gray;box-sizing: border-box;top: 0;bottom: 0;left: 50%;z-index: 0;}#sk-container-id-5 div.sk-serial {display: flex;flex-direction: column;align-items: center;background-color: white;padding-right: 0.2em;padding-left: 0.2em;position: relative;}#sk-container-id-5 div.sk-item {position: relative;z-index: 1;}#sk-container-id-5 div.sk-parallel {display: flex;align-items: stretch;justify-content: center;background-color: white;position: relative;}#sk-container-id-5 div.sk-item::before, #sk-container-id-5 div.sk-parallel-item::before {content: \"\";position: absolute;border-left: 1px solid gray;box-sizing: border-box;top: 0;bottom: 0;left: 50%;z-index: -1;}#sk-container-id-5 div.sk-parallel-item {display: flex;flex-direction: column;z-index: 1;position: relative;background-color: white;}#sk-container-id-5 div.sk-parallel-item:first-child::after {align-self: flex-end;width: 50%;}#sk-container-id-5 div.sk-parallel-item:last-child::after {align-self: flex-start;width: 50%;}#sk-container-id-5 div.sk-parallel-item:only-child::after {width: 0;}#sk-container-id-5 div.sk-dashed-wrapped {border: 1px dashed gray;margin: 0 0.4em 0.5em 0.4em;box-sizing: border-box;padding-bottom: 0.4em;background-color: white;}#sk-container-id-5 div.sk-label label {font-family: monospace;font-weight: bold;display: inline-block;line-height: 1.2em;}#sk-container-id-5 div.sk-label-container {text-align: center;}#sk-container-id-5 div.sk-container {/* jupyter's `normalize.less` sets `[hidden] { display: none; }` but bootstrap.min.css set `[hidden] { display: none !important; }` so we also need the `!important` here to be able to override the default hidden behavior on the sphinx rendered scikit-learn.org. See: https://github.com/scikit-learn/scikit-learn/issues/21755 */display: inline-block !important;position: relative;}#sk-container-id-5 div.sk-text-repr-fallback {display: none;}</style><div id=\"sk-container-id-5\" class=\"sk-top-container\"><div class=\"sk-text-repr-fallback\"><pre>XGBRegressor(base_score=0.5, booster=&#x27;gbtree&#x27;, callbacks=None,\n",
       "             colsample_bylevel=1, colsample_bynode=1, colsample_bytree=1,\n",
       "             early_stopping_rounds=None, enable_categorical=False,\n",
       "             eval_metric=None, gamma=0, gpu_id=-1, grow_policy=&#x27;depthwise&#x27;,\n",
       "             importance_type=None, interaction_constraints=&#x27;&#x27;,\n",
       "             learning_rate=0.300000012, max_bin=256, max_cat_to_onehot=4,\n",
       "             max_delta_step=0, max_depth=6, max_leaves=0, min_child_weight=1,\n",
       "             missing=nan, monotone_constraints=&#x27;()&#x27;, n_estimators=100, n_jobs=0,\n",
       "             num_parallel_tree=1, predictor=&#x27;auto&#x27;, random_state=0, reg_alpha=0,\n",
       "             reg_lambda=1, ...)</pre><b>In a Jupyter environment, please rerun this cell to show the HTML representation or trust the notebook. <br />On GitHub, the HTML representation is unable to render, please try loading this page with nbviewer.org.</b></div><div class=\"sk-container\" hidden><div class=\"sk-item\"><div class=\"sk-estimator sk-toggleable\"><input class=\"sk-toggleable__control sk-hidden--visually\" id=\"sk-estimator-id-7\" type=\"checkbox\" checked><label for=\"sk-estimator-id-7\" class=\"sk-toggleable__label sk-toggleable__label-arrow\">XGBRegressor</label><div class=\"sk-toggleable__content\"><pre>XGBRegressor(base_score=0.5, booster=&#x27;gbtree&#x27;, callbacks=None,\n",
       "             colsample_bylevel=1, colsample_bynode=1, colsample_bytree=1,\n",
       "             early_stopping_rounds=None, enable_categorical=False,\n",
       "             eval_metric=None, gamma=0, gpu_id=-1, grow_policy=&#x27;depthwise&#x27;,\n",
       "             importance_type=None, interaction_constraints=&#x27;&#x27;,\n",
       "             learning_rate=0.300000012, max_bin=256, max_cat_to_onehot=4,\n",
       "             max_delta_step=0, max_depth=6, max_leaves=0, min_child_weight=1,\n",
       "             missing=nan, monotone_constraints=&#x27;()&#x27;, n_estimators=100, n_jobs=0,\n",
       "             num_parallel_tree=1, predictor=&#x27;auto&#x27;, random_state=0, reg_alpha=0,\n",
       "             reg_lambda=1, ...)</pre></div></div></div></div></div>"
      ],
      "text/plain": [
       "XGBRegressor(base_score=0.5, booster='gbtree', callbacks=None,\n",
       "             colsample_bylevel=1, colsample_bynode=1, colsample_bytree=1,\n",
       "             early_stopping_rounds=None, enable_categorical=False,\n",
       "             eval_metric=None, gamma=0, gpu_id=-1, grow_policy='depthwise',\n",
       "             importance_type=None, interaction_constraints='',\n",
       "             learning_rate=0.300000012, max_bin=256, max_cat_to_onehot=4,\n",
       "             max_delta_step=0, max_depth=6, max_leaves=0, min_child_weight=1,\n",
       "             missing=nan, monotone_constraints='()', n_estimators=100, n_jobs=0,\n",
       "             num_parallel_tree=1, predictor='auto', random_state=0, reg_alpha=0,\n",
       "             reg_lambda=1, ...)"
      ]
     },
     "execution_count": 75,
     "metadata": {},
     "output_type": "execute_result"
    }
   ],
   "source": [
    "xgb = xgb.XGBRegressor()\n",
    "\n",
    "xgb.fit(x_train,y_train)"
   ]
  },
  {
   "cell_type": "code",
   "execution_count": 76,
   "id": "8cdc9ebf",
   "metadata": {},
   "outputs": [],
   "source": [
    "x_test_pred = xgb.predict(x_test)"
   ]
  },
  {
   "cell_type": "code",
   "execution_count": 77,
   "id": "158e00d6",
   "metadata": {},
   "outputs": [
    {
     "data": {
      "text/plain": [
       "0.9999507860213593"
      ]
     },
     "execution_count": 77,
     "metadata": {},
     "output_type": "execute_result"
    }
   ],
   "source": [
    "r2_score(y_test,x_test_pred)"
   ]
  },
  {
   "cell_type": "code",
   "execution_count": null,
   "id": "035682f7",
   "metadata": {},
   "outputs": [],
   "source": []
  },
  {
   "cell_type": "code",
   "execution_count": null,
   "id": "03999f79",
   "metadata": {},
   "outputs": [],
   "source": []
  },
  {
   "cell_type": "code",
   "execution_count": null,
   "id": "14697c56",
   "metadata": {},
   "outputs": [],
   "source": []
  }
 ],
 "metadata": {
  "kernelspec": {
   "display_name": "Python 3 (ipykernel)",
   "language": "python",
   "name": "python3"
  },
  "language_info": {
   "codemirror_mode": {
    "name": "ipython",
    "version": 3
   },
   "file_extension": ".py",
   "mimetype": "text/x-python",
   "name": "python",
   "nbconvert_exporter": "python",
   "pygments_lexer": "ipython3",
   "version": "3.9.12"
  }
 },
 "nbformat": 4,
 "nbformat_minor": 5
}
