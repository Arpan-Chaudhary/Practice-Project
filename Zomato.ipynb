{
 "cells": [
  {
   "cell_type": "code",
   "execution_count": null,
   "id": "4316bad5",
   "metadata": {},
   "outputs": [],
   "source": []
  },
  {
   "cell_type": "code",
   "execution_count": 1,
   "id": "7ecb4665",
   "metadata": {},
   "outputs": [],
   "source": [
    "# importing library for reading dataset"
   ]
  },
  {
   "cell_type": "code",
   "execution_count": null,
   "id": "9e6b1c70",
   "metadata": {},
   "outputs": [],
   "source": []
  },
  {
   "cell_type": "code",
   "execution_count": 2,
   "id": "dafc02aa",
   "metadata": {},
   "outputs": [],
   "source": [
    "import pandas as pd\n",
    "import numpy as np"
   ]
  },
  {
   "cell_type": "code",
   "execution_count": 3,
   "id": "e63f0166",
   "metadata": {},
   "outputs": [],
   "source": [
    "df = pd.read_csv('zomato.csv')"
   ]
  },
  {
   "cell_type": "code",
   "execution_count": 4,
   "id": "4d2c6d0a",
   "metadata": {
    "scrolled": false
   },
   "outputs": [
    {
     "data": {
      "text/html": [
       "<div>\n",
       "<style scoped>\n",
       "    .dataframe tbody tr th:only-of-type {\n",
       "        vertical-align: middle;\n",
       "    }\n",
       "\n",
       "    .dataframe tbody tr th {\n",
       "        vertical-align: top;\n",
       "    }\n",
       "\n",
       "    .dataframe thead th {\n",
       "        text-align: right;\n",
       "    }\n",
       "</style>\n",
       "<table border=\"1\" class=\"dataframe\">\n",
       "  <thead>\n",
       "    <tr style=\"text-align: right;\">\n",
       "      <th></th>\n",
       "      <th>Restaurant ID</th>\n",
       "      <th>Restaurant Name</th>\n",
       "      <th>Country Code</th>\n",
       "      <th>City</th>\n",
       "      <th>Address</th>\n",
       "      <th>Locality</th>\n",
       "      <th>Locality Verbose</th>\n",
       "      <th>Longitude</th>\n",
       "      <th>Latitude</th>\n",
       "      <th>Cuisines</th>\n",
       "      <th>...</th>\n",
       "      <th>Currency</th>\n",
       "      <th>Has Table booking</th>\n",
       "      <th>Has Online delivery</th>\n",
       "      <th>Is delivering now</th>\n",
       "      <th>Switch to order menu</th>\n",
       "      <th>Price range</th>\n",
       "      <th>Aggregate rating</th>\n",
       "      <th>Rating color</th>\n",
       "      <th>Rating text</th>\n",
       "      <th>Votes</th>\n",
       "    </tr>\n",
       "  </thead>\n",
       "  <tbody>\n",
       "    <tr>\n",
       "      <th>0</th>\n",
       "      <td>6317637</td>\n",
       "      <td>Le Petit Souffle</td>\n",
       "      <td>162</td>\n",
       "      <td>Makati City</td>\n",
       "      <td>Third Floor, Century City Mall, Kalayaan Avenu...</td>\n",
       "      <td>Century City Mall, Poblacion, Makati City</td>\n",
       "      <td>Century City Mall, Poblacion, Makati City, Mak...</td>\n",
       "      <td>121.027535</td>\n",
       "      <td>14.565443</td>\n",
       "      <td>French, Japanese, Desserts</td>\n",
       "      <td>...</td>\n",
       "      <td>Botswana Pula(P)</td>\n",
       "      <td>Yes</td>\n",
       "      <td>No</td>\n",
       "      <td>No</td>\n",
       "      <td>No</td>\n",
       "      <td>3</td>\n",
       "      <td>4.8</td>\n",
       "      <td>Dark Green</td>\n",
       "      <td>Excellent</td>\n",
       "      <td>314</td>\n",
       "    </tr>\n",
       "    <tr>\n",
       "      <th>1</th>\n",
       "      <td>6304287</td>\n",
       "      <td>Izakaya Kikufuji</td>\n",
       "      <td>162</td>\n",
       "      <td>Makati City</td>\n",
       "      <td>Little Tokyo, 2277 Chino Roces Avenue, Legaspi...</td>\n",
       "      <td>Little Tokyo, Legaspi Village, Makati City</td>\n",
       "      <td>Little Tokyo, Legaspi Village, Makati City, Ma...</td>\n",
       "      <td>121.014101</td>\n",
       "      <td>14.553708</td>\n",
       "      <td>Japanese</td>\n",
       "      <td>...</td>\n",
       "      <td>Botswana Pula(P)</td>\n",
       "      <td>Yes</td>\n",
       "      <td>No</td>\n",
       "      <td>No</td>\n",
       "      <td>No</td>\n",
       "      <td>3</td>\n",
       "      <td>4.5</td>\n",
       "      <td>Dark Green</td>\n",
       "      <td>Excellent</td>\n",
       "      <td>591</td>\n",
       "    </tr>\n",
       "    <tr>\n",
       "      <th>2</th>\n",
       "      <td>6300002</td>\n",
       "      <td>Heat - Edsa Shangri-La</td>\n",
       "      <td>162</td>\n",
       "      <td>Mandaluyong City</td>\n",
       "      <td>Edsa Shangri-La, 1 Garden Way, Ortigas, Mandal...</td>\n",
       "      <td>Edsa Shangri-La, Ortigas, Mandaluyong City</td>\n",
       "      <td>Edsa Shangri-La, Ortigas, Mandaluyong City, Ma...</td>\n",
       "      <td>121.056831</td>\n",
       "      <td>14.581404</td>\n",
       "      <td>Seafood, Asian, Filipino, Indian</td>\n",
       "      <td>...</td>\n",
       "      <td>Botswana Pula(P)</td>\n",
       "      <td>Yes</td>\n",
       "      <td>No</td>\n",
       "      <td>No</td>\n",
       "      <td>No</td>\n",
       "      <td>4</td>\n",
       "      <td>4.4</td>\n",
       "      <td>Green</td>\n",
       "      <td>Very Good</td>\n",
       "      <td>270</td>\n",
       "    </tr>\n",
       "    <tr>\n",
       "      <th>3</th>\n",
       "      <td>6318506</td>\n",
       "      <td>Ooma</td>\n",
       "      <td>162</td>\n",
       "      <td>Mandaluyong City</td>\n",
       "      <td>Third Floor, Mega Fashion Hall, SM Megamall, O...</td>\n",
       "      <td>SM Megamall, Ortigas, Mandaluyong City</td>\n",
       "      <td>SM Megamall, Ortigas, Mandaluyong City, Mandal...</td>\n",
       "      <td>121.056475</td>\n",
       "      <td>14.585318</td>\n",
       "      <td>Japanese, Sushi</td>\n",
       "      <td>...</td>\n",
       "      <td>Botswana Pula(P)</td>\n",
       "      <td>No</td>\n",
       "      <td>No</td>\n",
       "      <td>No</td>\n",
       "      <td>No</td>\n",
       "      <td>4</td>\n",
       "      <td>4.9</td>\n",
       "      <td>Dark Green</td>\n",
       "      <td>Excellent</td>\n",
       "      <td>365</td>\n",
       "    </tr>\n",
       "    <tr>\n",
       "      <th>4</th>\n",
       "      <td>6314302</td>\n",
       "      <td>Sambo Kojin</td>\n",
       "      <td>162</td>\n",
       "      <td>Mandaluyong City</td>\n",
       "      <td>Third Floor, Mega Atrium, SM Megamall, Ortigas...</td>\n",
       "      <td>SM Megamall, Ortigas, Mandaluyong City</td>\n",
       "      <td>SM Megamall, Ortigas, Mandaluyong City, Mandal...</td>\n",
       "      <td>121.057508</td>\n",
       "      <td>14.584450</td>\n",
       "      <td>Japanese, Korean</td>\n",
       "      <td>...</td>\n",
       "      <td>Botswana Pula(P)</td>\n",
       "      <td>Yes</td>\n",
       "      <td>No</td>\n",
       "      <td>No</td>\n",
       "      <td>No</td>\n",
       "      <td>4</td>\n",
       "      <td>4.8</td>\n",
       "      <td>Dark Green</td>\n",
       "      <td>Excellent</td>\n",
       "      <td>229</td>\n",
       "    </tr>\n",
       "    <tr>\n",
       "      <th>...</th>\n",
       "      <td>...</td>\n",
       "      <td>...</td>\n",
       "      <td>...</td>\n",
       "      <td>...</td>\n",
       "      <td>...</td>\n",
       "      <td>...</td>\n",
       "      <td>...</td>\n",
       "      <td>...</td>\n",
       "      <td>...</td>\n",
       "      <td>...</td>\n",
       "      <td>...</td>\n",
       "      <td>...</td>\n",
       "      <td>...</td>\n",
       "      <td>...</td>\n",
       "      <td>...</td>\n",
       "      <td>...</td>\n",
       "      <td>...</td>\n",
       "      <td>...</td>\n",
       "      <td>...</td>\n",
       "      <td>...</td>\n",
       "      <td>...</td>\n",
       "    </tr>\n",
       "    <tr>\n",
       "      <th>9546</th>\n",
       "      <td>5915730</td>\n",
       "      <td>NamlÛ± Gurme</td>\n",
       "      <td>208</td>\n",
       "      <td>ÛÁstanbul</td>\n",
       "      <td>Kemankeô Karamustafa Paôa Mahallesi, RÛ±htÛ±...</td>\n",
       "      <td>Karakí_y</td>\n",
       "      <td>Karakí_y, ÛÁstanbul</td>\n",
       "      <td>28.977392</td>\n",
       "      <td>41.022793</td>\n",
       "      <td>Turkish</td>\n",
       "      <td>...</td>\n",
       "      <td>Turkish Lira(TL)</td>\n",
       "      <td>No</td>\n",
       "      <td>No</td>\n",
       "      <td>No</td>\n",
       "      <td>No</td>\n",
       "      <td>3</td>\n",
       "      <td>4.1</td>\n",
       "      <td>Green</td>\n",
       "      <td>Very Good</td>\n",
       "      <td>788</td>\n",
       "    </tr>\n",
       "    <tr>\n",
       "      <th>9547</th>\n",
       "      <td>5908749</td>\n",
       "      <td>Ceviz AÛôacÛ±</td>\n",
       "      <td>208</td>\n",
       "      <td>ÛÁstanbul</td>\n",
       "      <td>Koôuyolu Mahallesi, Muhittin íìstí_ndaÛô Cadd...</td>\n",
       "      <td>Koôuyolu</td>\n",
       "      <td>Koôuyolu, ÛÁstanbul</td>\n",
       "      <td>29.041297</td>\n",
       "      <td>41.009847</td>\n",
       "      <td>World Cuisine, Patisserie, Cafe</td>\n",
       "      <td>...</td>\n",
       "      <td>Turkish Lira(TL)</td>\n",
       "      <td>No</td>\n",
       "      <td>No</td>\n",
       "      <td>No</td>\n",
       "      <td>No</td>\n",
       "      <td>3</td>\n",
       "      <td>4.2</td>\n",
       "      <td>Green</td>\n",
       "      <td>Very Good</td>\n",
       "      <td>1034</td>\n",
       "    </tr>\n",
       "    <tr>\n",
       "      <th>9548</th>\n",
       "      <td>5915807</td>\n",
       "      <td>Huqqa</td>\n",
       "      <td>208</td>\n",
       "      <td>ÛÁstanbul</td>\n",
       "      <td>Kuruí_eôme Mahallesi, Muallim Naci Caddesi, N...</td>\n",
       "      <td>Kuruí_eôme</td>\n",
       "      <td>Kuruí_eôme, ÛÁstanbul</td>\n",
       "      <td>29.034640</td>\n",
       "      <td>41.055817</td>\n",
       "      <td>Italian, World Cuisine</td>\n",
       "      <td>...</td>\n",
       "      <td>Turkish Lira(TL)</td>\n",
       "      <td>No</td>\n",
       "      <td>No</td>\n",
       "      <td>No</td>\n",
       "      <td>No</td>\n",
       "      <td>4</td>\n",
       "      <td>3.7</td>\n",
       "      <td>Yellow</td>\n",
       "      <td>Good</td>\n",
       "      <td>661</td>\n",
       "    </tr>\n",
       "    <tr>\n",
       "      <th>9549</th>\n",
       "      <td>5916112</td>\n",
       "      <td>Aôôk Kahve</td>\n",
       "      <td>208</td>\n",
       "      <td>ÛÁstanbul</td>\n",
       "      <td>Kuruí_eôme Mahallesi, Muallim Naci Caddesi, N...</td>\n",
       "      <td>Kuruí_eôme</td>\n",
       "      <td>Kuruí_eôme, ÛÁstanbul</td>\n",
       "      <td>29.036019</td>\n",
       "      <td>41.057979</td>\n",
       "      <td>Restaurant Cafe</td>\n",
       "      <td>...</td>\n",
       "      <td>Turkish Lira(TL)</td>\n",
       "      <td>No</td>\n",
       "      <td>No</td>\n",
       "      <td>No</td>\n",
       "      <td>No</td>\n",
       "      <td>4</td>\n",
       "      <td>4.0</td>\n",
       "      <td>Green</td>\n",
       "      <td>Very Good</td>\n",
       "      <td>901</td>\n",
       "    </tr>\n",
       "    <tr>\n",
       "      <th>9550</th>\n",
       "      <td>5927402</td>\n",
       "      <td>Walter's Coffee Roastery</td>\n",
       "      <td>208</td>\n",
       "      <td>ÛÁstanbul</td>\n",
       "      <td>CafeaÛôa Mahallesi, BademaltÛ± Sokak, No 21/B,...</td>\n",
       "      <td>Moda</td>\n",
       "      <td>Moda, ÛÁstanbul</td>\n",
       "      <td>29.026016</td>\n",
       "      <td>40.984776</td>\n",
       "      <td>Cafe</td>\n",
       "      <td>...</td>\n",
       "      <td>Turkish Lira(TL)</td>\n",
       "      <td>No</td>\n",
       "      <td>No</td>\n",
       "      <td>No</td>\n",
       "      <td>No</td>\n",
       "      <td>2</td>\n",
       "      <td>4.0</td>\n",
       "      <td>Green</td>\n",
       "      <td>Very Good</td>\n",
       "      <td>591</td>\n",
       "    </tr>\n",
       "  </tbody>\n",
       "</table>\n",
       "<p>9551 rows × 21 columns</p>\n",
       "</div>"
      ],
      "text/plain": [
       "      Restaurant ID           Restaurant Name  Country Code              City  \\\n",
       "0           6317637          Le Petit Souffle           162       Makati City   \n",
       "1           6304287          Izakaya Kikufuji           162       Makati City   \n",
       "2           6300002    Heat - Edsa Shangri-La           162  Mandaluyong City   \n",
       "3           6318506                      Ooma           162  Mandaluyong City   \n",
       "4           6314302               Sambo Kojin           162  Mandaluyong City   \n",
       "...             ...                       ...           ...               ...   \n",
       "9546        5915730              NamlÛ± Gurme           208         ÛÁstanbul   \n",
       "9547        5908749             Ceviz AÛôacÛ±           208         ÛÁstanbul   \n",
       "9548        5915807                     Huqqa           208         ÛÁstanbul   \n",
       "9549        5916112              Aôôk Kahve           208         ÛÁstanbul   \n",
       "9550        5927402  Walter's Coffee Roastery           208         ÛÁstanbul   \n",
       "\n",
       "                                                Address  \\\n",
       "0     Third Floor, Century City Mall, Kalayaan Avenu...   \n",
       "1     Little Tokyo, 2277 Chino Roces Avenue, Legaspi...   \n",
       "2     Edsa Shangri-La, 1 Garden Way, Ortigas, Mandal...   \n",
       "3     Third Floor, Mega Fashion Hall, SM Megamall, O...   \n",
       "4     Third Floor, Mega Atrium, SM Megamall, Ortigas...   \n",
       "...                                                 ...   \n",
       "9546  Kemankeô Karamustafa Paôa Mahallesi, RÛ±htÛ±...   \n",
       "9547  Koôuyolu Mahallesi, Muhittin íìstí_ndaÛô Cadd...   \n",
       "9548  Kuruí_eôme Mahallesi, Muallim Naci Caddesi, N...   \n",
       "9549  Kuruí_eôme Mahallesi, Muallim Naci Caddesi, N...   \n",
       "9550  CafeaÛôa Mahallesi, BademaltÛ± Sokak, No 21/B,...   \n",
       "\n",
       "                                        Locality  \\\n",
       "0      Century City Mall, Poblacion, Makati City   \n",
       "1     Little Tokyo, Legaspi Village, Makati City   \n",
       "2     Edsa Shangri-La, Ortigas, Mandaluyong City   \n",
       "3         SM Megamall, Ortigas, Mandaluyong City   \n",
       "4         SM Megamall, Ortigas, Mandaluyong City   \n",
       "...                                          ...   \n",
       "9546                                    Karakí_y   \n",
       "9547                                   Koôuyolu   \n",
       "9548                                 Kuruí_eôme   \n",
       "9549                                 Kuruí_eôme   \n",
       "9550                                        Moda   \n",
       "\n",
       "                                       Locality Verbose   Longitude  \\\n",
       "0     Century City Mall, Poblacion, Makati City, Mak...  121.027535   \n",
       "1     Little Tokyo, Legaspi Village, Makati City, Ma...  121.014101   \n",
       "2     Edsa Shangri-La, Ortigas, Mandaluyong City, Ma...  121.056831   \n",
       "3     SM Megamall, Ortigas, Mandaluyong City, Mandal...  121.056475   \n",
       "4     SM Megamall, Ortigas, Mandaluyong City, Mandal...  121.057508   \n",
       "...                                                 ...         ...   \n",
       "9546                                Karakí_y, ÛÁstanbul   28.977392   \n",
       "9547                               Koôuyolu, ÛÁstanbul   29.041297   \n",
       "9548                             Kuruí_eôme, ÛÁstanbul   29.034640   \n",
       "9549                             Kuruí_eôme, ÛÁstanbul   29.036019   \n",
       "9550                                    Moda, ÛÁstanbul   29.026016   \n",
       "\n",
       "       Latitude                          Cuisines  ...          Currency  \\\n",
       "0     14.565443        French, Japanese, Desserts  ...  Botswana Pula(P)   \n",
       "1     14.553708                          Japanese  ...  Botswana Pula(P)   \n",
       "2     14.581404  Seafood, Asian, Filipino, Indian  ...  Botswana Pula(P)   \n",
       "3     14.585318                   Japanese, Sushi  ...  Botswana Pula(P)   \n",
       "4     14.584450                  Japanese, Korean  ...  Botswana Pula(P)   \n",
       "...         ...                               ...  ...               ...   \n",
       "9546  41.022793                           Turkish  ...  Turkish Lira(TL)   \n",
       "9547  41.009847   World Cuisine, Patisserie, Cafe  ...  Turkish Lira(TL)   \n",
       "9548  41.055817            Italian, World Cuisine  ...  Turkish Lira(TL)   \n",
       "9549  41.057979                   Restaurant Cafe  ...  Turkish Lira(TL)   \n",
       "9550  40.984776                              Cafe  ...  Turkish Lira(TL)   \n",
       "\n",
       "     Has Table booking Has Online delivery Is delivering now  \\\n",
       "0                  Yes                  No                No   \n",
       "1                  Yes                  No                No   \n",
       "2                  Yes                  No                No   \n",
       "3                   No                  No                No   \n",
       "4                  Yes                  No                No   \n",
       "...                ...                 ...               ...   \n",
       "9546                No                  No                No   \n",
       "9547                No                  No                No   \n",
       "9548                No                  No                No   \n",
       "9549                No                  No                No   \n",
       "9550                No                  No                No   \n",
       "\n",
       "     Switch to order menu Price range  Aggregate rating  Rating color  \\\n",
       "0                      No           3               4.8    Dark Green   \n",
       "1                      No           3               4.5    Dark Green   \n",
       "2                      No           4               4.4         Green   \n",
       "3                      No           4               4.9    Dark Green   \n",
       "4                      No           4               4.8    Dark Green   \n",
       "...                   ...         ...               ...           ...   \n",
       "9546                   No           3               4.1         Green   \n",
       "9547                   No           3               4.2         Green   \n",
       "9548                   No           4               3.7        Yellow   \n",
       "9549                   No           4               4.0         Green   \n",
       "9550                   No           2               4.0         Green   \n",
       "\n",
       "     Rating text Votes  \n",
       "0      Excellent   314  \n",
       "1      Excellent   591  \n",
       "2      Very Good   270  \n",
       "3      Excellent   365  \n",
       "4      Excellent   229  \n",
       "...          ...   ...  \n",
       "9546   Very Good   788  \n",
       "9547   Very Good  1034  \n",
       "9548        Good   661  \n",
       "9549   Very Good   901  \n",
       "9550   Very Good   591  \n",
       "\n",
       "[9551 rows x 21 columns]"
      ]
     },
     "execution_count": 4,
     "metadata": {},
     "output_type": "execute_result"
    }
   ],
   "source": [
    "df"
   ]
  },
  {
   "cell_type": "code",
   "execution_count": null,
   "id": "ec0192ea",
   "metadata": {},
   "outputs": [],
   "source": []
  },
  {
   "cell_type": "code",
   "execution_count": 5,
   "id": "482f68f4",
   "metadata": {},
   "outputs": [],
   "source": [
    "# checking the null values"
   ]
  },
  {
   "cell_type": "code",
   "execution_count": null,
   "id": "f1e1b59e",
   "metadata": {},
   "outputs": [],
   "source": []
  },
  {
   "cell_type": "code",
   "execution_count": 6,
   "id": "d1911c01",
   "metadata": {},
   "outputs": [
    {
     "data": {
      "text/plain": [
       "Restaurant ID           0\n",
       "Restaurant Name         0\n",
       "Country Code            0\n",
       "City                    0\n",
       "Address                 0\n",
       "Locality                0\n",
       "Locality Verbose        0\n",
       "Longitude               0\n",
       "Latitude                0\n",
       "Cuisines                9\n",
       "Average Cost for two    0\n",
       "Currency                0\n",
       "Has Table booking       0\n",
       "Has Online delivery     0\n",
       "Is delivering now       0\n",
       "Switch to order menu    0\n",
       "Price range             0\n",
       "Aggregate rating        0\n",
       "Rating color            0\n",
       "Rating text             0\n",
       "Votes                   0\n",
       "dtype: int64"
      ]
     },
     "execution_count": 6,
     "metadata": {},
     "output_type": "execute_result"
    }
   ],
   "source": [
    "df.isna().sum()"
   ]
  },
  {
   "cell_type": "code",
   "execution_count": 7,
   "id": "ca23d757",
   "metadata": {},
   "outputs": [],
   "source": [
    "# in only one column null values are present"
   ]
  },
  {
   "cell_type": "code",
   "execution_count": null,
   "id": "1d86e389",
   "metadata": {},
   "outputs": [],
   "source": []
  },
  {
   "cell_type": "code",
   "execution_count": 8,
   "id": "7cf086d0",
   "metadata": {},
   "outputs": [],
   "source": [
    "# checking the datatype"
   ]
  },
  {
   "cell_type": "code",
   "execution_count": 9,
   "id": "7a11f5c6",
   "metadata": {
    "scrolled": false
   },
   "outputs": [
    {
     "data": {
      "text/plain": [
       "Restaurant ID             int64\n",
       "Restaurant Name          object\n",
       "Country Code              int64\n",
       "City                     object\n",
       "Address                  object\n",
       "Locality                 object\n",
       "Locality Verbose         object\n",
       "Longitude               float64\n",
       "Latitude                float64\n",
       "Cuisines                 object\n",
       "Average Cost for two      int64\n",
       "Currency                 object\n",
       "Has Table booking        object\n",
       "Has Online delivery      object\n",
       "Is delivering now        object\n",
       "Switch to order menu     object\n",
       "Price range               int64\n",
       "Aggregate rating        float64\n",
       "Rating color             object\n",
       "Rating text              object\n",
       "Votes                     int64\n",
       "dtype: object"
      ]
     },
     "execution_count": 9,
     "metadata": {},
     "output_type": "execute_result"
    }
   ],
   "source": [
    "df.dtypes"
   ]
  },
  {
   "cell_type": "code",
   "execution_count": 10,
   "id": "cfa9d149",
   "metadata": {},
   "outputs": [],
   "source": [
    "# many of columns are in int form and many are in object datatype"
   ]
  },
  {
   "cell_type": "code",
   "execution_count": null,
   "id": "dceda5cd",
   "metadata": {},
   "outputs": [],
   "source": []
  },
  {
   "cell_type": "code",
   "execution_count": 11,
   "id": "06339c66",
   "metadata": {},
   "outputs": [],
   "source": [
    "# import library for encoding the selected columns"
   ]
  },
  {
   "cell_type": "code",
   "execution_count": 12,
   "id": "49d7d085",
   "metadata": {},
   "outputs": [],
   "source": [
    "from sklearn.preprocessing import LabelEncoder,OrdinalEncoder"
   ]
  },
  {
   "cell_type": "code",
   "execution_count": 13,
   "id": "5f3bfc37",
   "metadata": {},
   "outputs": [],
   "source": [
    "lab_enc = LabelEncoder()"
   ]
  },
  {
   "cell_type": "code",
   "execution_count": null,
   "id": "22c1367c",
   "metadata": {},
   "outputs": [],
   "source": []
  },
  {
   "cell_type": "code",
   "execution_count": null,
   "id": "502890b7",
   "metadata": {},
   "outputs": [],
   "source": []
  },
  {
   "cell_type": "code",
   "execution_count": 14,
   "id": "8b78ec65",
   "metadata": {},
   "outputs": [
    {
     "data": {
      "text/plain": [
       "Index(['Restaurant ID', 'Restaurant Name', 'Country Code', 'City', 'Address',\n",
       "       'Locality', 'Locality Verbose', 'Longitude', 'Latitude', 'Cuisines',\n",
       "       'Average Cost for two', 'Currency', 'Has Table booking',\n",
       "       'Has Online delivery', 'Is delivering now', 'Switch to order menu',\n",
       "       'Price range', 'Aggregate rating', 'Rating color', 'Rating text',\n",
       "       'Votes'],\n",
       "      dtype='object')"
      ]
     },
     "execution_count": 14,
     "metadata": {},
     "output_type": "execute_result"
    }
   ],
   "source": [
    "df.columns"
   ]
  },
  {
   "cell_type": "code",
   "execution_count": null,
   "id": "5a03ccf8",
   "metadata": {},
   "outputs": [],
   "source": []
  },
  {
   "cell_type": "code",
   "execution_count": 15,
   "id": "3e46ee58",
   "metadata": {},
   "outputs": [
    {
     "data": {
      "text/plain": [
       "array([6317637, 6304287, 6300002, ..., 5915807, 5916112, 5927402],\n",
       "      dtype=int64)"
      ]
     },
     "execution_count": 15,
     "metadata": {},
     "output_type": "execute_result"
    }
   ],
   "source": [
    "df['Restaurant ID'].unique()"
   ]
  },
  {
   "cell_type": "code",
   "execution_count": null,
   "id": "4048cfa9",
   "metadata": {},
   "outputs": [],
   "source": []
  },
  {
   "cell_type": "code",
   "execution_count": null,
   "id": "0b97334e",
   "metadata": {},
   "outputs": [],
   "source": []
  },
  {
   "cell_type": "code",
   "execution_count": null,
   "id": "dae8a449",
   "metadata": {},
   "outputs": [],
   "source": []
  },
  {
   "cell_type": "code",
   "execution_count": 16,
   "id": "87c1473b",
   "metadata": {},
   "outputs": [
    {
     "data": {
      "text/plain": [
       "array(['Le Petit Souffle', 'Izakaya Kikufuji', 'Heat - Edsa Shangri-La',\n",
       "       ..., 'Huqqa', 'A\\x81ô\\x81ôk Kahve', \"Walter's Coffee Roastery\"],\n",
       "      dtype=object)"
      ]
     },
     "execution_count": 16,
     "metadata": {},
     "output_type": "execute_result"
    }
   ],
   "source": [
    "df['Restaurant Name'].unique()"
   ]
  },
  {
   "cell_type": "code",
   "execution_count": 17,
   "id": "7cc2a90c",
   "metadata": {},
   "outputs": [],
   "source": [
    "df['Restaurant Name'] = lab_enc.fit_transform(df['Restaurant Name'])"
   ]
  },
  {
   "cell_type": "code",
   "execution_count": null,
   "id": "5d25a65c",
   "metadata": {},
   "outputs": [],
   "source": []
  },
  {
   "cell_type": "code",
   "execution_count": null,
   "id": "7c248f2e",
   "metadata": {},
   "outputs": [],
   "source": []
  },
  {
   "cell_type": "code",
   "execution_count": 18,
   "id": "cfe4af76",
   "metadata": {},
   "outputs": [
    {
     "data": {
      "text/plain": [
       "array([162,  30, 216,  14,  37, 184, 214,   1,  94, 148, 215, 166, 189,\n",
       "       191, 208], dtype=int64)"
      ]
     },
     "execution_count": 18,
     "metadata": {},
     "output_type": "execute_result"
    }
   ],
   "source": [
    "df['Country Code'].unique()"
   ]
  },
  {
   "cell_type": "code",
   "execution_count": null,
   "id": "88e57e92",
   "metadata": {},
   "outputs": [],
   "source": []
  },
  {
   "cell_type": "code",
   "execution_count": null,
   "id": "209e169a",
   "metadata": {},
   "outputs": [],
   "source": []
  },
  {
   "cell_type": "code",
   "execution_count": 19,
   "id": "f80fab3a",
   "metadata": {},
   "outputs": [
    {
     "data": {
      "text/plain": [
       "array(['Makati City', 'Mandaluyong City', 'Pasay City', 'Pasig City',\n",
       "       'Quezon City', 'San Juan City', 'Santa Rosa', 'Tagaytay City',\n",
       "       'Taguig City', 'Brasí_lia', 'Rio de Janeiro', 'Sí£o Paulo',\n",
       "       'Albany', 'Armidale', 'Athens', 'Augusta', 'Balingup',\n",
       "       'Beechworth', 'Boise', 'Cedar Rapids/Iowa City', 'Chatham-Kent',\n",
       "       'Clatskanie', 'Cochrane', 'Columbus', 'Consort', 'Dalton',\n",
       "       'Davenport', 'Des Moines', 'Dicky Beach', 'Dubuque',\n",
       "       'East Ballina', 'Fernley', 'Flaxton', 'Forrest', 'Gainesville',\n",
       "       'Hepburn Springs', 'Huskisson', 'Inverloch', 'Lakes Entrance',\n",
       "       'Lakeview', 'Lincoln', 'Lorn', 'Macedon', 'Macon', 'Mayfield',\n",
       "       'Mc Millan', 'Middleton Beach', 'Miller', 'Monroe', 'Montville',\n",
       "       'Ojo Caliente', 'Orlando', 'Palm Cove', 'Paynesville', 'Penola',\n",
       "       'Pensacola', 'Phillip Island', 'Pocatello', 'Potrero', 'Princeton',\n",
       "       'Rest of Hawaii', 'Savannah', 'Singapore', 'Sioux City',\n",
       "       'Tampa Bay', 'Tanunda', 'Trentham East', 'Valdosta', 'Vernonia',\n",
       "       'Victor Harbor', 'Vineland Station', 'Waterloo', 'Weirton',\n",
       "       'Winchester Bay', 'Yorkton', 'Abu Dhabi', 'Dubai', 'Sharjah',\n",
       "       'Agra', 'Ahmedabad', 'Allahabad', 'Amritsar', 'Aurangabad',\n",
       "       'Bangalore', 'Bhopal', 'Bhubaneshwar', 'Chandigarh', 'Chennai',\n",
       "       'Coimbatore', 'Dehradun', 'Faridabad', 'Ghaziabad', 'Goa',\n",
       "       'Gurgaon', 'Guwahati', 'Hyderabad', 'Indore', 'Jaipur', 'Kanpur',\n",
       "       'Kochi', 'Kolkata', 'Lucknow', 'Ludhiana', 'Mangalore', 'Mohali',\n",
       "       'Mumbai', 'Mysore', 'Nagpur', 'Nashik', 'New Delhi', 'Noida',\n",
       "       'Panchkula', 'Patna', 'Puducherry', 'Pune', 'Ranchi',\n",
       "       'Secunderabad', 'Surat', 'Vadodara', 'Varanasi', 'Vizag',\n",
       "       'Bandung', 'Bogor', 'Jakarta', 'Tangerang', 'Auckland',\n",
       "       'Wellington City', 'Birmingham', 'Edinburgh', 'London',\n",
       "       'Manchester', 'Doha', 'Cape Town', 'Inner City', 'Johannesburg',\n",
       "       'Pretoria', 'Randburg', 'Sandton', 'Colombo', 'Ankara',\n",
       "       'ÛÁstanbul'], dtype=object)"
      ]
     },
     "execution_count": 19,
     "metadata": {},
     "output_type": "execute_result"
    }
   ],
   "source": [
    "df['City'].unique()"
   ]
  },
  {
   "cell_type": "code",
   "execution_count": 20,
   "id": "f2d7ab16",
   "metadata": {},
   "outputs": [],
   "source": [
    "df['City'] = lab_enc.fit_transform(df['City'])"
   ]
  },
  {
   "cell_type": "code",
   "execution_count": null,
   "id": "a6781d49",
   "metadata": {},
   "outputs": [],
   "source": []
  },
  {
   "cell_type": "code",
   "execution_count": null,
   "id": "c712adb6",
   "metadata": {},
   "outputs": [],
   "source": []
  },
  {
   "cell_type": "code",
   "execution_count": 21,
   "id": "ba2fb101",
   "metadata": {},
   "outputs": [
    {
     "data": {
      "text/plain": [
       "array(['Third Floor, Century City Mall, Kalayaan Avenue, Poblacion, Makati City',\n",
       "       'Little Tokyo, 2277 Chino Roces Avenue, Legaspi Village, Makati City',\n",
       "       'Edsa Shangri-La, 1 Garden Way, Ortigas, Mandaluyong City', ...,\n",
       "       'Kuruí_e\\x81ôme Mahallesi, Muallim Naci Caddesi, No 56, Be\\x81ôikta\\x81ô, ÛÁstanbul',\n",
       "       'Kuruí_e\\x81ôme Mahallesi, Muallim Naci Caddesi, No 64/B, Be\\x81ôikta\\x81ô, ÛÁstanbul',\n",
       "       'CafeaÛôa Mahallesi, BademaltÛ± Sokak, No 21/B, KadÛ±kí_y, ÛÁstanbul'],\n",
       "      dtype=object)"
      ]
     },
     "execution_count": 21,
     "metadata": {},
     "output_type": "execute_result"
    }
   ],
   "source": [
    "df['Address'].unique()"
   ]
  },
  {
   "cell_type": "code",
   "execution_count": 22,
   "id": "2532e979",
   "metadata": {},
   "outputs": [],
   "source": [
    "df['Address'] = lab_enc.fit_transform(df['Address'])"
   ]
  },
  {
   "cell_type": "code",
   "execution_count": null,
   "id": "3233d64c",
   "metadata": {},
   "outputs": [],
   "source": []
  },
  {
   "cell_type": "code",
   "execution_count": null,
   "id": "8d80b9ca",
   "metadata": {},
   "outputs": [],
   "source": []
  },
  {
   "cell_type": "code",
   "execution_count": 23,
   "id": "e57ad40b",
   "metadata": {},
   "outputs": [
    {
     "data": {
      "text/plain": [
       "array(['Century City Mall, Poblacion, Makati City',\n",
       "       'Little Tokyo, Legaspi Village, Makati City',\n",
       "       'Edsa Shangri-La, Ortigas, Mandaluyong City', ..., 'Ko\\x81ôuyolu',\n",
       "       'Kuruí_e\\x81ôme', 'Moda'], dtype=object)"
      ]
     },
     "execution_count": 23,
     "metadata": {},
     "output_type": "execute_result"
    }
   ],
   "source": [
    "df['Locality'].unique()"
   ]
  },
  {
   "cell_type": "code",
   "execution_count": 24,
   "id": "e5bcf2f0",
   "metadata": {},
   "outputs": [],
   "source": [
    "df['Locality'] = lab_enc.fit_transform(df['Locality'])"
   ]
  },
  {
   "cell_type": "code",
   "execution_count": null,
   "id": "1b321ce5",
   "metadata": {},
   "outputs": [],
   "source": []
  },
  {
   "cell_type": "code",
   "execution_count": null,
   "id": "f4bfd988",
   "metadata": {},
   "outputs": [],
   "source": []
  },
  {
   "cell_type": "code",
   "execution_count": 25,
   "id": "c1c84304",
   "metadata": {},
   "outputs": [
    {
     "data": {
      "text/plain": [
       "array(['Century City Mall, Poblacion, Makati City, Makati City',\n",
       "       'Little Tokyo, Legaspi Village, Makati City, Makati City',\n",
       "       'Edsa Shangri-La, Ortigas, Mandaluyong City, Mandaluyong City',\n",
       "       ..., 'Ko\\x81ôuyolu, ÛÁstanbul', 'Kuruí_e\\x81ôme, ÛÁstanbul',\n",
       "       'Moda, ÛÁstanbul'], dtype=object)"
      ]
     },
     "execution_count": 25,
     "metadata": {},
     "output_type": "execute_result"
    }
   ],
   "source": [
    "df['Locality Verbose'].unique()"
   ]
  },
  {
   "cell_type": "code",
   "execution_count": 26,
   "id": "2e41c3b6",
   "metadata": {},
   "outputs": [],
   "source": [
    "df['Locality Verbose'] = lab_enc.fit_transform(df['Locality Verbose'])"
   ]
  },
  {
   "cell_type": "code",
   "execution_count": null,
   "id": "574d9afa",
   "metadata": {},
   "outputs": [],
   "source": []
  },
  {
   "cell_type": "code",
   "execution_count": null,
   "id": "8ef46e85",
   "metadata": {},
   "outputs": [],
   "source": []
  },
  {
   "cell_type": "code",
   "execution_count": 27,
   "id": "23dcd6c6",
   "metadata": {},
   "outputs": [
    {
     "data": {
      "text/plain": [
       "array([121.027535  , 121.014101  , 121.056831  , ...,  29.03464001,\n",
       "        29.036019  ,  29.02601603])"
      ]
     },
     "execution_count": 27,
     "metadata": {},
     "output_type": "execute_result"
    }
   ],
   "source": [
    "df['Longitude'].unique()"
   ]
  },
  {
   "cell_type": "code",
   "execution_count": null,
   "id": "3f9c2061",
   "metadata": {},
   "outputs": [],
   "source": []
  },
  {
   "cell_type": "code",
   "execution_count": null,
   "id": "653c8d40",
   "metadata": {},
   "outputs": [],
   "source": []
  },
  {
   "cell_type": "code",
   "execution_count": 28,
   "id": "b3a409cf",
   "metadata": {},
   "outputs": [
    {
     "data": {
      "text/plain": [
       "array([14.565443  , 14.553708  , 14.581404  , ..., 41.05581715,\n",
       "       41.057979  , 40.98477563])"
      ]
     },
     "execution_count": 28,
     "metadata": {},
     "output_type": "execute_result"
    }
   ],
   "source": [
    "df['Latitude'].unique()"
   ]
  },
  {
   "cell_type": "code",
   "execution_count": null,
   "id": "c5af95eb",
   "metadata": {},
   "outputs": [],
   "source": []
  },
  {
   "cell_type": "code",
   "execution_count": null,
   "id": "4f0ef671",
   "metadata": {},
   "outputs": [],
   "source": []
  },
  {
   "cell_type": "code",
   "execution_count": null,
   "id": "6c9f3ad1",
   "metadata": {},
   "outputs": [],
   "source": []
  },
  {
   "cell_type": "code",
   "execution_count": 29,
   "id": "2912e586",
   "metadata": {},
   "outputs": [
    {
     "data": {
      "text/plain": [
       "9"
      ]
     },
     "execution_count": 29,
     "metadata": {},
     "output_type": "execute_result"
    }
   ],
   "source": [
    "df['Cuisines'].isna().sum()"
   ]
  },
  {
   "cell_type": "code",
   "execution_count": 30,
   "id": "0112b82f",
   "metadata": {},
   "outputs": [
    {
     "data": {
      "text/plain": [
       "array(['French, Japanese, Desserts', 'Japanese',\n",
       "       'Seafood, Asian, Filipino, Indian', ..., 'Burger, Izgara',\n",
       "       'World Cuisine, Patisserie, Cafe', 'Italian, World Cuisine'],\n",
       "      dtype=object)"
      ]
     },
     "execution_count": 30,
     "metadata": {},
     "output_type": "execute_result"
    }
   ],
   "source": [
    "df['Cuisines'].unique()"
   ]
  },
  {
   "cell_type": "code",
   "execution_count": 31,
   "id": "8a930bfa",
   "metadata": {},
   "outputs": [
    {
     "data": {
      "text/plain": [
       "0    North Indian\n",
       "Name: Cuisines, dtype: object"
      ]
     },
     "execution_count": 31,
     "metadata": {},
     "output_type": "execute_result"
    }
   ],
   "source": [
    "df['Cuisines'].mode()"
   ]
  },
  {
   "cell_type": "code",
   "execution_count": 32,
   "id": "0c1b79f1",
   "metadata": {},
   "outputs": [],
   "source": [
    "df['Cuisines'] = df['Cuisines'].fillna(df['Cuisines'].mode())"
   ]
  },
  {
   "cell_type": "code",
   "execution_count": 33,
   "id": "cf048e65",
   "metadata": {},
   "outputs": [],
   "source": [
    "df['Cuisines'] = lab_enc.fit_transform(df['Cuisines'])"
   ]
  },
  {
   "cell_type": "code",
   "execution_count": 34,
   "id": "7f4e9d72",
   "metadata": {},
   "outputs": [
    {
     "data": {
      "text/plain": [
       "array([ 920, 1111, 1671, ...,  319, 1824, 1110])"
      ]
     },
     "execution_count": 34,
     "metadata": {},
     "output_type": "execute_result"
    }
   ],
   "source": [
    "df['Cuisines'].unique()"
   ]
  },
  {
   "cell_type": "code",
   "execution_count": null,
   "id": "0867ba74",
   "metadata": {},
   "outputs": [],
   "source": []
  },
  {
   "cell_type": "code",
   "execution_count": null,
   "id": "48c3a017",
   "metadata": {},
   "outputs": [],
   "source": []
  },
  {
   "cell_type": "code",
   "execution_count": null,
   "id": "a779d18d",
   "metadata": {},
   "outputs": [],
   "source": []
  },
  {
   "cell_type": "code",
   "execution_count": 35,
   "id": "eb807b72",
   "metadata": {},
   "outputs": [
    {
     "data": {
      "text/plain": [
       "array([  1100,   1200,   4000,   1500,   1000,   2000,   6000,    800,\n",
       "          900,    700,    850,    600,   3000,   1800,     55,     30,\n",
       "           45,     60,     50,     80,     90,    200,    150,    100,\n",
       "          230,    240,    350,    140,    170,    120,    250,     40,\n",
       "           70,    300,     85,     75,    400,     65,     25,     10,\n",
       "            0,     20,     35,      7,    270,    500,    430,    315,\n",
       "          220,     95,    190,    260,    180,    330,    280,    160,\n",
       "          285,    130,    110,   2500,   3600,    550,   1400,    450,\n",
       "          950,    650,   1300,   2400,   1600,   2200,    750,   1700,\n",
       "         1250,   1900,   2700,   3500,   5000,   2300,   1750,   3200,\n",
       "         2100,   1850,   4500,   3300,   1350,   1650,   1950,   1050,\n",
       "          290,   1450,   2800,   3650,   4800,   1550,    720,   6500,\n",
       "         7000,   1150,   2900,   2600,   4700,   3700,   3800,   4100,\n",
       "         4300,   2650,   5100,   5500,   4400,   4200,   8000,   2350,\n",
       "       150000,  70000, 250000, 200000, 165000, 800000, 500000, 300000,\n",
       "       450000, 120000, 100000, 350000,    105,     15,    445,    294,\n",
       "          360,    535,    125,    320,    570,   1540,    515,    955,\n",
       "          390,    410,   3210,    545], dtype=int64)"
      ]
     },
     "execution_count": 35,
     "metadata": {},
     "output_type": "execute_result"
    }
   ],
   "source": [
    "df['Average Cost for two'].unique()"
   ]
  },
  {
   "cell_type": "code",
   "execution_count": null,
   "id": "38c16c8b",
   "metadata": {},
   "outputs": [],
   "source": []
  },
  {
   "cell_type": "code",
   "execution_count": null,
   "id": "9dc517f8",
   "metadata": {},
   "outputs": [],
   "source": []
  },
  {
   "cell_type": "code",
   "execution_count": 36,
   "id": "263b7d86",
   "metadata": {},
   "outputs": [
    {
     "data": {
      "text/plain": [
       "array(['Botswana Pula(P)', 'Brazilian Real(R$)', 'Dollar($)',\n",
       "       'Emirati Diram(AED)', 'Indian Rupees(Rs.)',\n",
       "       'Indonesian Rupiah(IDR)', 'NewZealand($)', 'Pounds(Œ£)',\n",
       "       'Qatari Rial(QR)', 'Rand(R)', 'Sri Lankan Rupee(LKR)',\n",
       "       'Turkish Lira(TL)'], dtype=object)"
      ]
     },
     "execution_count": 36,
     "metadata": {},
     "output_type": "execute_result"
    }
   ],
   "source": [
    "df['Currency'].unique()"
   ]
  },
  {
   "cell_type": "code",
   "execution_count": 37,
   "id": "fc572b78",
   "metadata": {},
   "outputs": [],
   "source": [
    "df['Currency'] = lab_enc.fit_transform(df['Currency'])"
   ]
  },
  {
   "cell_type": "code",
   "execution_count": null,
   "id": "e8016c58",
   "metadata": {},
   "outputs": [],
   "source": []
  },
  {
   "cell_type": "code",
   "execution_count": null,
   "id": "b5d992e6",
   "metadata": {},
   "outputs": [],
   "source": []
  },
  {
   "cell_type": "code",
   "execution_count": 38,
   "id": "c455db10",
   "metadata": {},
   "outputs": [
    {
     "data": {
      "text/plain": [
       "array(['Yes', 'No'], dtype=object)"
      ]
     },
     "execution_count": 38,
     "metadata": {},
     "output_type": "execute_result"
    }
   ],
   "source": [
    "df['Has Table booking'].unique()"
   ]
  },
  {
   "cell_type": "code",
   "execution_count": 39,
   "id": "65225226",
   "metadata": {},
   "outputs": [],
   "source": [
    "df['Has Table booking'] = lab_enc.fit_transform(df['Has Table booking'])"
   ]
  },
  {
   "cell_type": "code",
   "execution_count": null,
   "id": "ce4901aa",
   "metadata": {},
   "outputs": [],
   "source": []
  },
  {
   "cell_type": "code",
   "execution_count": null,
   "id": "3f21039d",
   "metadata": {},
   "outputs": [],
   "source": []
  },
  {
   "cell_type": "code",
   "execution_count": 40,
   "id": "abab3985",
   "metadata": {},
   "outputs": [
    {
     "data": {
      "text/plain": [
       "array(['No', 'Yes'], dtype=object)"
      ]
     },
     "execution_count": 40,
     "metadata": {},
     "output_type": "execute_result"
    }
   ],
   "source": [
    "df['Has Online delivery'].unique()"
   ]
  },
  {
   "cell_type": "code",
   "execution_count": 41,
   "id": "256e24a0",
   "metadata": {},
   "outputs": [],
   "source": [
    "df['Has Online delivery'] = lab_enc.fit_transform(df['Has Online delivery'])"
   ]
  },
  {
   "cell_type": "code",
   "execution_count": null,
   "id": "ffd89651",
   "metadata": {},
   "outputs": [],
   "source": []
  },
  {
   "cell_type": "code",
   "execution_count": null,
   "id": "34f78fd4",
   "metadata": {},
   "outputs": [],
   "source": []
  },
  {
   "cell_type": "code",
   "execution_count": 42,
   "id": "850affe0",
   "metadata": {},
   "outputs": [
    {
     "data": {
      "text/plain": [
       "array(['No', 'Yes'], dtype=object)"
      ]
     },
     "execution_count": 42,
     "metadata": {},
     "output_type": "execute_result"
    }
   ],
   "source": [
    "df['Is delivering now'].unique()"
   ]
  },
  {
   "cell_type": "code",
   "execution_count": 43,
   "id": "d1d9f493",
   "metadata": {},
   "outputs": [],
   "source": [
    "df['Is delivering now'] = lab_enc.fit_transform(df['Is delivering now'])"
   ]
  },
  {
   "cell_type": "code",
   "execution_count": null,
   "id": "e71e2de6",
   "metadata": {},
   "outputs": [],
   "source": []
  },
  {
   "cell_type": "code",
   "execution_count": null,
   "id": "f618aadc",
   "metadata": {},
   "outputs": [],
   "source": []
  },
  {
   "cell_type": "code",
   "execution_count": 44,
   "id": "337b5ded",
   "metadata": {},
   "outputs": [
    {
     "data": {
      "text/plain": [
       "array(['No'], dtype=object)"
      ]
     },
     "execution_count": 44,
     "metadata": {},
     "output_type": "execute_result"
    }
   ],
   "source": [
    "df['Switch to order menu'].unique()"
   ]
  },
  {
   "cell_type": "code",
   "execution_count": 45,
   "id": "f6781839",
   "metadata": {},
   "outputs": [],
   "source": [
    "df['Switch to order menu'] = lab_enc.fit_transform(df['Switch to order menu'])"
   ]
  },
  {
   "cell_type": "code",
   "execution_count": null,
   "id": "1a84b3f7",
   "metadata": {},
   "outputs": [],
   "source": []
  },
  {
   "cell_type": "code",
   "execution_count": null,
   "id": "f9157355",
   "metadata": {},
   "outputs": [],
   "source": []
  },
  {
   "cell_type": "code",
   "execution_count": null,
   "id": "de54079c",
   "metadata": {},
   "outputs": [],
   "source": []
  },
  {
   "cell_type": "code",
   "execution_count": 46,
   "id": "bdd69f1a",
   "metadata": {},
   "outputs": [
    {
     "data": {
      "text/plain": [
       "array([3, 4, 2, 1], dtype=int64)"
      ]
     },
     "execution_count": 46,
     "metadata": {},
     "output_type": "execute_result"
    }
   ],
   "source": [
    "df['Price range'].unique()"
   ]
  },
  {
   "cell_type": "code",
   "execution_count": null,
   "id": "c8427060",
   "metadata": {},
   "outputs": [],
   "source": []
  },
  {
   "cell_type": "code",
   "execution_count": null,
   "id": "f524818b",
   "metadata": {},
   "outputs": [],
   "source": []
  },
  {
   "cell_type": "code",
   "execution_count": 47,
   "id": "052c1bb5",
   "metadata": {},
   "outputs": [
    {
     "data": {
      "text/plain": [
       "array([4.8, 4.5, 4.4, 4.9, 4. , 4.2, 4.3, 3.6, 4.7, 3. , 3.8, 3.7, 3.2,\n",
       "       3.1, 0. , 4.1, 3.3, 4.6, 3.9, 3.4, 3.5, 2.2, 2.9, 2.4, 2.6, 2.8,\n",
       "       2.1, 2.7, 2.5, 1.8, 2. , 2.3, 1.9])"
      ]
     },
     "execution_count": 47,
     "metadata": {},
     "output_type": "execute_result"
    }
   ],
   "source": [
    "df['Aggregate rating'].unique()"
   ]
  },
  {
   "cell_type": "code",
   "execution_count": null,
   "id": "93713309",
   "metadata": {},
   "outputs": [],
   "source": []
  },
  {
   "cell_type": "code",
   "execution_count": null,
   "id": "5c826a6d",
   "metadata": {},
   "outputs": [],
   "source": []
  },
  {
   "cell_type": "code",
   "execution_count": null,
   "id": "36576f1d",
   "metadata": {},
   "outputs": [],
   "source": []
  },
  {
   "cell_type": "code",
   "execution_count": 48,
   "id": "be49f87a",
   "metadata": {},
   "outputs": [
    {
     "data": {
      "text/plain": [
       "array(['Dark Green', 'Green', 'Yellow', 'Orange', 'White', 'Red'],\n",
       "      dtype=object)"
      ]
     },
     "execution_count": 48,
     "metadata": {},
     "output_type": "execute_result"
    }
   ],
   "source": [
    "df['Rating color'].unique()"
   ]
  },
  {
   "cell_type": "code",
   "execution_count": 49,
   "id": "c1ecadc7",
   "metadata": {},
   "outputs": [],
   "source": [
    "df['Rating color'] = lab_enc.fit_transform(df['Rating color'])"
   ]
  },
  {
   "cell_type": "code",
   "execution_count": null,
   "id": "6cac03ae",
   "metadata": {},
   "outputs": [],
   "source": []
  },
  {
   "cell_type": "code",
   "execution_count": null,
   "id": "dbe0f2ec",
   "metadata": {},
   "outputs": [],
   "source": []
  },
  {
   "cell_type": "code",
   "execution_count": null,
   "id": "f302ea96",
   "metadata": {},
   "outputs": [],
   "source": []
  },
  {
   "cell_type": "code",
   "execution_count": 50,
   "id": "6cb852e4",
   "metadata": {},
   "outputs": [
    {
     "data": {
      "text/plain": [
       "array(['Excellent', 'Very Good', 'Good', 'Average', 'Not rated', 'Poor'],\n",
       "      dtype=object)"
      ]
     },
     "execution_count": 50,
     "metadata": {},
     "output_type": "execute_result"
    }
   ],
   "source": [
    "df['Rating text'].unique()"
   ]
  },
  {
   "cell_type": "code",
   "execution_count": 51,
   "id": "0532cbac",
   "metadata": {},
   "outputs": [],
   "source": [
    "ord_enc = OrdinalEncoder(categories=[['Not rated','Poor','Average','Good','Very Good','Excellent']])\n",
    "\n",
    "df['Rating text'] = ord_enc.fit_transform(df[['Rating text']])"
   ]
  },
  {
   "cell_type": "code",
   "execution_count": null,
   "id": "5f971a47",
   "metadata": {},
   "outputs": [],
   "source": []
  },
  {
   "cell_type": "code",
   "execution_count": null,
   "id": "c619c032",
   "metadata": {},
   "outputs": [],
   "source": []
  },
  {
   "cell_type": "code",
   "execution_count": 52,
   "id": "257c7ca7",
   "metadata": {},
   "outputs": [
    {
     "data": {
      "text/plain": [
       "array([ 314,  591,  270, ...,  788, 1034,  901], dtype=int64)"
      ]
     },
     "execution_count": 52,
     "metadata": {},
     "output_type": "execute_result"
    }
   ],
   "source": [
    "df['Votes'].unique()"
   ]
  },
  {
   "cell_type": "code",
   "execution_count": 53,
   "id": "dd20a455",
   "metadata": {},
   "outputs": [],
   "source": [
    "# encoding columns and filling null values completed"
   ]
  },
  {
   "cell_type": "code",
   "execution_count": null,
   "id": "b6527666",
   "metadata": {},
   "outputs": [],
   "source": []
  },
  {
   "cell_type": "code",
   "execution_count": 54,
   "id": "5434a947",
   "metadata": {},
   "outputs": [],
   "source": [
    "# have a look on dataset after encoding"
   ]
  },
  {
   "cell_type": "code",
   "execution_count": 55,
   "id": "0592d9a5",
   "metadata": {},
   "outputs": [
    {
     "data": {
      "text/html": [
       "<div>\n",
       "<style scoped>\n",
       "    .dataframe tbody tr th:only-of-type {\n",
       "        vertical-align: middle;\n",
       "    }\n",
       "\n",
       "    .dataframe tbody tr th {\n",
       "        vertical-align: top;\n",
       "    }\n",
       "\n",
       "    .dataframe thead th {\n",
       "        text-align: right;\n",
       "    }\n",
       "</style>\n",
       "<table border=\"1\" class=\"dataframe\">\n",
       "  <thead>\n",
       "    <tr style=\"text-align: right;\">\n",
       "      <th></th>\n",
       "      <th>Restaurant ID</th>\n",
       "      <th>Restaurant Name</th>\n",
       "      <th>Country Code</th>\n",
       "      <th>City</th>\n",
       "      <th>Address</th>\n",
       "      <th>Locality</th>\n",
       "      <th>Locality Verbose</th>\n",
       "      <th>Longitude</th>\n",
       "      <th>Latitude</th>\n",
       "      <th>Cuisines</th>\n",
       "      <th>...</th>\n",
       "      <th>Currency</th>\n",
       "      <th>Has Table booking</th>\n",
       "      <th>Has Online delivery</th>\n",
       "      <th>Is delivering now</th>\n",
       "      <th>Switch to order menu</th>\n",
       "      <th>Price range</th>\n",
       "      <th>Aggregate rating</th>\n",
       "      <th>Rating color</th>\n",
       "      <th>Rating text</th>\n",
       "      <th>Votes</th>\n",
       "    </tr>\n",
       "  </thead>\n",
       "  <tbody>\n",
       "    <tr>\n",
       "      <th>0</th>\n",
       "      <td>6317637</td>\n",
       "      <td>3749</td>\n",
       "      <td>162</td>\n",
       "      <td>73</td>\n",
       "      <td>8685</td>\n",
       "      <td>171</td>\n",
       "      <td>172</td>\n",
       "      <td>121.027535</td>\n",
       "      <td>14.565443</td>\n",
       "      <td>920</td>\n",
       "      <td>...</td>\n",
       "      <td>0</td>\n",
       "      <td>1</td>\n",
       "      <td>0</td>\n",
       "      <td>0</td>\n",
       "      <td>0</td>\n",
       "      <td>3</td>\n",
       "      <td>4.8</td>\n",
       "      <td>0</td>\n",
       "      <td>5.0</td>\n",
       "      <td>314</td>\n",
       "    </tr>\n",
       "    <tr>\n",
       "      <th>1</th>\n",
       "      <td>6304287</td>\n",
       "      <td>3173</td>\n",
       "      <td>162</td>\n",
       "      <td>73</td>\n",
       "      <td>6055</td>\n",
       "      <td>593</td>\n",
       "      <td>601</td>\n",
       "      <td>121.014101</td>\n",
       "      <td>14.553708</td>\n",
       "      <td>1111</td>\n",
       "      <td>...</td>\n",
       "      <td>0</td>\n",
       "      <td>1</td>\n",
       "      <td>0</td>\n",
       "      <td>0</td>\n",
       "      <td>0</td>\n",
       "      <td>3</td>\n",
       "      <td>4.5</td>\n",
       "      <td>0</td>\n",
       "      <td>5.0</td>\n",
       "      <td>591</td>\n",
       "    </tr>\n",
       "    <tr>\n",
       "      <th>2</th>\n",
       "      <td>6300002</td>\n",
       "      <td>2897</td>\n",
       "      <td>162</td>\n",
       "      <td>75</td>\n",
       "      <td>4684</td>\n",
       "      <td>308</td>\n",
       "      <td>314</td>\n",
       "      <td>121.056831</td>\n",
       "      <td>14.581404</td>\n",
       "      <td>1671</td>\n",
       "      <td>...</td>\n",
       "      <td>0</td>\n",
       "      <td>1</td>\n",
       "      <td>0</td>\n",
       "      <td>0</td>\n",
       "      <td>0</td>\n",
       "      <td>4</td>\n",
       "      <td>4.4</td>\n",
       "      <td>1</td>\n",
       "      <td>4.0</td>\n",
       "      <td>270</td>\n",
       "    </tr>\n",
       "    <tr>\n",
       "      <th>3</th>\n",
       "      <td>6318506</td>\n",
       "      <td>4707</td>\n",
       "      <td>162</td>\n",
       "      <td>75</td>\n",
       "      <td>8690</td>\n",
       "      <td>862</td>\n",
       "      <td>875</td>\n",
       "      <td>121.056475</td>\n",
       "      <td>14.585318</td>\n",
       "      <td>1126</td>\n",
       "      <td>...</td>\n",
       "      <td>0</td>\n",
       "      <td>0</td>\n",
       "      <td>0</td>\n",
       "      <td>0</td>\n",
       "      <td>0</td>\n",
       "      <td>4</td>\n",
       "      <td>4.9</td>\n",
       "      <td>0</td>\n",
       "      <td>5.0</td>\n",
       "      <td>365</td>\n",
       "    </tr>\n",
       "    <tr>\n",
       "      <th>4</th>\n",
       "      <td>6314302</td>\n",
       "      <td>5523</td>\n",
       "      <td>162</td>\n",
       "      <td>75</td>\n",
       "      <td>8689</td>\n",
       "      <td>862</td>\n",
       "      <td>875</td>\n",
       "      <td>121.057508</td>\n",
       "      <td>14.584450</td>\n",
       "      <td>1122</td>\n",
       "      <td>...</td>\n",
       "      <td>0</td>\n",
       "      <td>1</td>\n",
       "      <td>0</td>\n",
       "      <td>0</td>\n",
       "      <td>0</td>\n",
       "      <td>4</td>\n",
       "      <td>4.8</td>\n",
       "      <td>0</td>\n",
       "      <td>5.0</td>\n",
       "      <td>229</td>\n",
       "    </tr>\n",
       "    <tr>\n",
       "      <th>...</th>\n",
       "      <td>...</td>\n",
       "      <td>...</td>\n",
       "      <td>...</td>\n",
       "      <td>...</td>\n",
       "      <td>...</td>\n",
       "      <td>...</td>\n",
       "      <td>...</td>\n",
       "      <td>...</td>\n",
       "      <td>...</td>\n",
       "      <td>...</td>\n",
       "      <td>...</td>\n",
       "      <td>...</td>\n",
       "      <td>...</td>\n",
       "      <td>...</td>\n",
       "      <td>...</td>\n",
       "      <td>...</td>\n",
       "      <td>...</td>\n",
       "      <td>...</td>\n",
       "      <td>...</td>\n",
       "      <td>...</td>\n",
       "      <td>...</td>\n",
       "    </tr>\n",
       "    <tr>\n",
       "      <th>9546</th>\n",
       "      <td>5915730</td>\n",
       "      <td>4443</td>\n",
       "      <td>208</td>\n",
       "      <td>140</td>\n",
       "      <td>5926</td>\n",
       "      <td>517</td>\n",
       "      <td>523</td>\n",
       "      <td>28.977392</td>\n",
       "      <td>41.022793</td>\n",
       "      <td>1813</td>\n",
       "      <td>...</td>\n",
       "      <td>11</td>\n",
       "      <td>0</td>\n",
       "      <td>0</td>\n",
       "      <td>0</td>\n",
       "      <td>0</td>\n",
       "      <td>3</td>\n",
       "      <td>4.1</td>\n",
       "      <td>1</td>\n",
       "      <td>4.0</td>\n",
       "      <td>788</td>\n",
       "    </tr>\n",
       "    <tr>\n",
       "      <th>9547</th>\n",
       "      <td>5908749</td>\n",
       "      <td>1311</td>\n",
       "      <td>208</td>\n",
       "      <td>140</td>\n",
       "      <td>5962</td>\n",
       "      <td>552</td>\n",
       "      <td>558</td>\n",
       "      <td>29.041297</td>\n",
       "      <td>41.009847</td>\n",
       "      <td>1824</td>\n",
       "      <td>...</td>\n",
       "      <td>11</td>\n",
       "      <td>0</td>\n",
       "      <td>0</td>\n",
       "      <td>0</td>\n",
       "      <td>0</td>\n",
       "      <td>3</td>\n",
       "      <td>4.2</td>\n",
       "      <td>1</td>\n",
       "      <td>4.0</td>\n",
       "      <td>1034</td>\n",
       "    </tr>\n",
       "    <tr>\n",
       "      <th>9548</th>\n",
       "      <td>5915807</td>\n",
       "      <td>3069</td>\n",
       "      <td>208</td>\n",
       "      <td>140</td>\n",
       "      <td>5966</td>\n",
       "      <td>554</td>\n",
       "      <td>561</td>\n",
       "      <td>29.034640</td>\n",
       "      <td>41.055817</td>\n",
       "      <td>1110</td>\n",
       "      <td>...</td>\n",
       "      <td>11</td>\n",
       "      <td>0</td>\n",
       "      <td>0</td>\n",
       "      <td>0</td>\n",
       "      <td>0</td>\n",
       "      <td>4</td>\n",
       "      <td>3.7</td>\n",
       "      <td>5</td>\n",
       "      <td>3.0</td>\n",
       "      <td>661</td>\n",
       "    </tr>\n",
       "    <tr>\n",
       "      <th>9549</th>\n",
       "      <td>5916112</td>\n",
       "      <td>513</td>\n",
       "      <td>208</td>\n",
       "      <td>140</td>\n",
       "      <td>5967</td>\n",
       "      <td>554</td>\n",
       "      <td>561</td>\n",
       "      <td>29.036019</td>\n",
       "      <td>41.057979</td>\n",
       "      <td>1657</td>\n",
       "      <td>...</td>\n",
       "      <td>11</td>\n",
       "      <td>0</td>\n",
       "      <td>0</td>\n",
       "      <td>0</td>\n",
       "      <td>0</td>\n",
       "      <td>4</td>\n",
       "      <td>4.0</td>\n",
       "      <td>1</td>\n",
       "      <td>4.0</td>\n",
       "      <td>901</td>\n",
       "    </tr>\n",
       "    <tr>\n",
       "      <th>9550</th>\n",
       "      <td>5927402</td>\n",
       "      <td>7240</td>\n",
       "      <td>208</td>\n",
       "      <td>140</td>\n",
       "      <td>4258</td>\n",
       "      <td>670</td>\n",
       "      <td>681</td>\n",
       "      <td>29.026016</td>\n",
       "      <td>40.984776</td>\n",
       "      <td>331</td>\n",
       "      <td>...</td>\n",
       "      <td>11</td>\n",
       "      <td>0</td>\n",
       "      <td>0</td>\n",
       "      <td>0</td>\n",
       "      <td>0</td>\n",
       "      <td>2</td>\n",
       "      <td>4.0</td>\n",
       "      <td>1</td>\n",
       "      <td>4.0</td>\n",
       "      <td>591</td>\n",
       "    </tr>\n",
       "  </tbody>\n",
       "</table>\n",
       "<p>9551 rows × 21 columns</p>\n",
       "</div>"
      ],
      "text/plain": [
       "      Restaurant ID  Restaurant Name  Country Code  City  Address  Locality  \\\n",
       "0           6317637             3749           162    73     8685       171   \n",
       "1           6304287             3173           162    73     6055       593   \n",
       "2           6300002             2897           162    75     4684       308   \n",
       "3           6318506             4707           162    75     8690       862   \n",
       "4           6314302             5523           162    75     8689       862   \n",
       "...             ...              ...           ...   ...      ...       ...   \n",
       "9546        5915730             4443           208   140     5926       517   \n",
       "9547        5908749             1311           208   140     5962       552   \n",
       "9548        5915807             3069           208   140     5966       554   \n",
       "9549        5916112              513           208   140     5967       554   \n",
       "9550        5927402             7240           208   140     4258       670   \n",
       "\n",
       "      Locality Verbose   Longitude   Latitude  Cuisines  ...  Currency  \\\n",
       "0                  172  121.027535  14.565443       920  ...         0   \n",
       "1                  601  121.014101  14.553708      1111  ...         0   \n",
       "2                  314  121.056831  14.581404      1671  ...         0   \n",
       "3                  875  121.056475  14.585318      1126  ...         0   \n",
       "4                  875  121.057508  14.584450      1122  ...         0   \n",
       "...                ...         ...        ...       ...  ...       ...   \n",
       "9546               523   28.977392  41.022793      1813  ...        11   \n",
       "9547               558   29.041297  41.009847      1824  ...        11   \n",
       "9548               561   29.034640  41.055817      1110  ...        11   \n",
       "9549               561   29.036019  41.057979      1657  ...        11   \n",
       "9550               681   29.026016  40.984776       331  ...        11   \n",
       "\n",
       "      Has Table booking  Has Online delivery  Is delivering now  \\\n",
       "0                     1                    0                  0   \n",
       "1                     1                    0                  0   \n",
       "2                     1                    0                  0   \n",
       "3                     0                    0                  0   \n",
       "4                     1                    0                  0   \n",
       "...                 ...                  ...                ...   \n",
       "9546                  0                    0                  0   \n",
       "9547                  0                    0                  0   \n",
       "9548                  0                    0                  0   \n",
       "9549                  0                    0                  0   \n",
       "9550                  0                    0                  0   \n",
       "\n",
       "      Switch to order menu  Price range  Aggregate rating  Rating color  \\\n",
       "0                        0            3               4.8             0   \n",
       "1                        0            3               4.5             0   \n",
       "2                        0            4               4.4             1   \n",
       "3                        0            4               4.9             0   \n",
       "4                        0            4               4.8             0   \n",
       "...                    ...          ...               ...           ...   \n",
       "9546                     0            3               4.1             1   \n",
       "9547                     0            3               4.2             1   \n",
       "9548                     0            4               3.7             5   \n",
       "9549                     0            4               4.0             1   \n",
       "9550                     0            2               4.0             1   \n",
       "\n",
       "      Rating text  Votes  \n",
       "0             5.0    314  \n",
       "1             5.0    591  \n",
       "2             4.0    270  \n",
       "3             5.0    365  \n",
       "4             5.0    229  \n",
       "...           ...    ...  \n",
       "9546          4.0    788  \n",
       "9547          4.0   1034  \n",
       "9548          3.0    661  \n",
       "9549          4.0    901  \n",
       "9550          4.0    591  \n",
       "\n",
       "[9551 rows x 21 columns]"
      ]
     },
     "execution_count": 55,
     "metadata": {},
     "output_type": "execute_result"
    }
   ],
   "source": [
    "df"
   ]
  },
  {
   "cell_type": "code",
   "execution_count": 56,
   "id": "93029f67",
   "metadata": {
    "scrolled": true
   },
   "outputs": [
    {
     "data": {
      "text/html": [
       "<div>\n",
       "<style scoped>\n",
       "    .dataframe tbody tr th:only-of-type {\n",
       "        vertical-align: middle;\n",
       "    }\n",
       "\n",
       "    .dataframe tbody tr th {\n",
       "        vertical-align: top;\n",
       "    }\n",
       "\n",
       "    .dataframe thead th {\n",
       "        text-align: right;\n",
       "    }\n",
       "</style>\n",
       "<table border=\"1\" class=\"dataframe\">\n",
       "  <thead>\n",
       "    <tr style=\"text-align: right;\">\n",
       "      <th></th>\n",
       "      <th>Restaurant ID</th>\n",
       "      <th>Restaurant Name</th>\n",
       "      <th>Country Code</th>\n",
       "      <th>City</th>\n",
       "      <th>Address</th>\n",
       "      <th>Locality</th>\n",
       "      <th>Locality Verbose</th>\n",
       "      <th>Longitude</th>\n",
       "      <th>Latitude</th>\n",
       "      <th>Cuisines</th>\n",
       "      <th>...</th>\n",
       "      <th>Currency</th>\n",
       "      <th>Has Table booking</th>\n",
       "      <th>Has Online delivery</th>\n",
       "      <th>Is delivering now</th>\n",
       "      <th>Switch to order menu</th>\n",
       "      <th>Price range</th>\n",
       "      <th>Aggregate rating</th>\n",
       "      <th>Rating color</th>\n",
       "      <th>Rating text</th>\n",
       "      <th>Votes</th>\n",
       "    </tr>\n",
       "  </thead>\n",
       "  <tbody>\n",
       "    <tr>\n",
       "      <th>count</th>\n",
       "      <td>9.551000e+03</td>\n",
       "      <td>9551.000000</td>\n",
       "      <td>9551.000000</td>\n",
       "      <td>9551.000000</td>\n",
       "      <td>9551.000000</td>\n",
       "      <td>9551.000000</td>\n",
       "      <td>9551.000000</td>\n",
       "      <td>9551.000000</td>\n",
       "      <td>9551.000000</td>\n",
       "      <td>9551.00000</td>\n",
       "      <td>...</td>\n",
       "      <td>9551.000000</td>\n",
       "      <td>9551.000000</td>\n",
       "      <td>9551.000000</td>\n",
       "      <td>9551.000000</td>\n",
       "      <td>9551.0</td>\n",
       "      <td>9551.000000</td>\n",
       "      <td>9551.000000</td>\n",
       "      <td>9551.000000</td>\n",
       "      <td>9551.000000</td>\n",
       "      <td>9551.000000</td>\n",
       "    </tr>\n",
       "    <tr>\n",
       "      <th>mean</th>\n",
       "      <td>9.051128e+06</td>\n",
       "      <td>3653.204586</td>\n",
       "      <td>18.365616</td>\n",
       "      <td>78.301434</td>\n",
       "      <td>4542.439430</td>\n",
       "      <td>658.128468</td>\n",
       "      <td>677.304994</td>\n",
       "      <td>64.126574</td>\n",
       "      <td>25.854381</td>\n",
       "      <td>989.95079</td>\n",
       "      <td>...</td>\n",
       "      <td>3.977699</td>\n",
       "      <td>0.121244</td>\n",
       "      <td>0.256622</td>\n",
       "      <td>0.003560</td>\n",
       "      <td>0.0</td>\n",
       "      <td>1.804837</td>\n",
       "      <td>2.666370</td>\n",
       "      <td>2.952885</td>\n",
       "      <td>2.071092</td>\n",
       "      <td>156.909748</td>\n",
       "    </tr>\n",
       "    <tr>\n",
       "      <th>std</th>\n",
       "      <td>8.791521e+06</td>\n",
       "      <td>2142.917876</td>\n",
       "      <td>56.750546</td>\n",
       "      <td>23.198915</td>\n",
       "      <td>2565.717005</td>\n",
       "      <td>315.866515</td>\n",
       "      <td>331.727449</td>\n",
       "      <td>41.467058</td>\n",
       "      <td>11.007935</td>\n",
       "      <td>514.72354</td>\n",
       "      <td>...</td>\n",
       "      <td>0.914242</td>\n",
       "      <td>0.326428</td>\n",
       "      <td>0.436792</td>\n",
       "      <td>0.059561</td>\n",
       "      <td>0.0</td>\n",
       "      <td>0.905609</td>\n",
       "      <td>1.516378</td>\n",
       "      <td>1.493048</td>\n",
       "      <td>1.367335</td>\n",
       "      <td>430.169145</td>\n",
       "    </tr>\n",
       "    <tr>\n",
       "      <th>min</th>\n",
       "      <td>5.300000e+01</td>\n",
       "      <td>0.000000</td>\n",
       "      <td>1.000000</td>\n",
       "      <td>0.000000</td>\n",
       "      <td>0.000000</td>\n",
       "      <td>0.000000</td>\n",
       "      <td>0.000000</td>\n",
       "      <td>-157.948486</td>\n",
       "      <td>-41.330428</td>\n",
       "      <td>0.00000</td>\n",
       "      <td>...</td>\n",
       "      <td>0.000000</td>\n",
       "      <td>0.000000</td>\n",
       "      <td>0.000000</td>\n",
       "      <td>0.000000</td>\n",
       "      <td>0.0</td>\n",
       "      <td>1.000000</td>\n",
       "      <td>0.000000</td>\n",
       "      <td>0.000000</td>\n",
       "      <td>0.000000</td>\n",
       "      <td>0.000000</td>\n",
       "    </tr>\n",
       "    <tr>\n",
       "      <th>25%</th>\n",
       "      <td>3.019625e+05</td>\n",
       "      <td>1777.500000</td>\n",
       "      <td>1.000000</td>\n",
       "      <td>76.000000</td>\n",
       "      <td>2323.500000</td>\n",
       "      <td>381.000000</td>\n",
       "      <td>387.000000</td>\n",
       "      <td>77.081343</td>\n",
       "      <td>28.478713</td>\n",
       "      <td>497.00000</td>\n",
       "      <td>...</td>\n",
       "      <td>4.000000</td>\n",
       "      <td>0.000000</td>\n",
       "      <td>0.000000</td>\n",
       "      <td>0.000000</td>\n",
       "      <td>0.0</td>\n",
       "      <td>1.000000</td>\n",
       "      <td>2.500000</td>\n",
       "      <td>2.000000</td>\n",
       "      <td>2.000000</td>\n",
       "      <td>5.000000</td>\n",
       "    </tr>\n",
       "    <tr>\n",
       "      <th>50%</th>\n",
       "      <td>6.004089e+06</td>\n",
       "      <td>3595.000000</td>\n",
       "      <td>1.000000</td>\n",
       "      <td>88.000000</td>\n",
       "      <td>4610.000000</td>\n",
       "      <td>696.000000</td>\n",
       "      <td>707.000000</td>\n",
       "      <td>77.191964</td>\n",
       "      <td>28.570469</td>\n",
       "      <td>1127.00000</td>\n",
       "      <td>...</td>\n",
       "      <td>4.000000</td>\n",
       "      <td>0.000000</td>\n",
       "      <td>0.000000</td>\n",
       "      <td>0.000000</td>\n",
       "      <td>0.0</td>\n",
       "      <td>2.000000</td>\n",
       "      <td>3.200000</td>\n",
       "      <td>2.000000</td>\n",
       "      <td>2.000000</td>\n",
       "      <td>31.000000</td>\n",
       "    </tr>\n",
       "    <tr>\n",
       "      <th>75%</th>\n",
       "      <td>1.835229e+07</td>\n",
       "      <td>5485.500000</td>\n",
       "      <td>1.000000</td>\n",
       "      <td>88.000000</td>\n",
       "      <td>6746.500000</td>\n",
       "      <td>921.000000</td>\n",
       "      <td>953.000000</td>\n",
       "      <td>77.282006</td>\n",
       "      <td>28.642758</td>\n",
       "      <td>1355.00000</td>\n",
       "      <td>...</td>\n",
       "      <td>4.000000</td>\n",
       "      <td>0.000000</td>\n",
       "      <td>1.000000</td>\n",
       "      <td>0.000000</td>\n",
       "      <td>0.0</td>\n",
       "      <td>2.000000</td>\n",
       "      <td>3.700000</td>\n",
       "      <td>4.000000</td>\n",
       "      <td>3.000000</td>\n",
       "      <td>131.000000</td>\n",
       "    </tr>\n",
       "    <tr>\n",
       "      <th>max</th>\n",
       "      <td>1.850065e+07</td>\n",
       "      <td>7445.000000</td>\n",
       "      <td>216.000000</td>\n",
       "      <td>140.000000</td>\n",
       "      <td>8917.000000</td>\n",
       "      <td>1207.000000</td>\n",
       "      <td>1264.000000</td>\n",
       "      <td>174.832089</td>\n",
       "      <td>55.976980</td>\n",
       "      <td>1825.00000</td>\n",
       "      <td>...</td>\n",
       "      <td>11.000000</td>\n",
       "      <td>1.000000</td>\n",
       "      <td>1.000000</td>\n",
       "      <td>1.000000</td>\n",
       "      <td>0.0</td>\n",
       "      <td>4.000000</td>\n",
       "      <td>4.900000</td>\n",
       "      <td>5.000000</td>\n",
       "      <td>5.000000</td>\n",
       "      <td>10934.000000</td>\n",
       "    </tr>\n",
       "  </tbody>\n",
       "</table>\n",
       "<p>8 rows × 21 columns</p>\n",
       "</div>"
      ],
      "text/plain": [
       "       Restaurant ID  Restaurant Name  Country Code         City      Address  \\\n",
       "count   9.551000e+03      9551.000000   9551.000000  9551.000000  9551.000000   \n",
       "mean    9.051128e+06      3653.204586     18.365616    78.301434  4542.439430   \n",
       "std     8.791521e+06      2142.917876     56.750546    23.198915  2565.717005   \n",
       "min     5.300000e+01         0.000000      1.000000     0.000000     0.000000   \n",
       "25%     3.019625e+05      1777.500000      1.000000    76.000000  2323.500000   \n",
       "50%     6.004089e+06      3595.000000      1.000000    88.000000  4610.000000   \n",
       "75%     1.835229e+07      5485.500000      1.000000    88.000000  6746.500000   \n",
       "max     1.850065e+07      7445.000000    216.000000   140.000000  8917.000000   \n",
       "\n",
       "          Locality  Locality Verbose    Longitude     Latitude    Cuisines  \\\n",
       "count  9551.000000       9551.000000  9551.000000  9551.000000  9551.00000   \n",
       "mean    658.128468        677.304994    64.126574    25.854381   989.95079   \n",
       "std     315.866515        331.727449    41.467058    11.007935   514.72354   \n",
       "min       0.000000          0.000000  -157.948486   -41.330428     0.00000   \n",
       "25%     381.000000        387.000000    77.081343    28.478713   497.00000   \n",
       "50%     696.000000        707.000000    77.191964    28.570469  1127.00000   \n",
       "75%     921.000000        953.000000    77.282006    28.642758  1355.00000   \n",
       "max    1207.000000       1264.000000   174.832089    55.976980  1825.00000   \n",
       "\n",
       "       ...     Currency  Has Table booking  Has Online delivery  \\\n",
       "count  ...  9551.000000        9551.000000          9551.000000   \n",
       "mean   ...     3.977699           0.121244             0.256622   \n",
       "std    ...     0.914242           0.326428             0.436792   \n",
       "min    ...     0.000000           0.000000             0.000000   \n",
       "25%    ...     4.000000           0.000000             0.000000   \n",
       "50%    ...     4.000000           0.000000             0.000000   \n",
       "75%    ...     4.000000           0.000000             1.000000   \n",
       "max    ...    11.000000           1.000000             1.000000   \n",
       "\n",
       "       Is delivering now  Switch to order menu  Price range  Aggregate rating  \\\n",
       "count        9551.000000                9551.0  9551.000000       9551.000000   \n",
       "mean            0.003560                   0.0     1.804837          2.666370   \n",
       "std             0.059561                   0.0     0.905609          1.516378   \n",
       "min             0.000000                   0.0     1.000000          0.000000   \n",
       "25%             0.000000                   0.0     1.000000          2.500000   \n",
       "50%             0.000000                   0.0     2.000000          3.200000   \n",
       "75%             0.000000                   0.0     2.000000          3.700000   \n",
       "max             1.000000                   0.0     4.000000          4.900000   \n",
       "\n",
       "       Rating color  Rating text         Votes  \n",
       "count   9551.000000  9551.000000   9551.000000  \n",
       "mean       2.952885     2.071092    156.909748  \n",
       "std        1.493048     1.367335    430.169145  \n",
       "min        0.000000     0.000000      0.000000  \n",
       "25%        2.000000     2.000000      5.000000  \n",
       "50%        2.000000     2.000000     31.000000  \n",
       "75%        4.000000     3.000000    131.000000  \n",
       "max        5.000000     5.000000  10934.000000  \n",
       "\n",
       "[8 rows x 21 columns]"
      ]
     },
     "execution_count": 56,
     "metadata": {},
     "output_type": "execute_result"
    }
   ],
   "source": [
    "df.describe()"
   ]
  },
  {
   "cell_type": "code",
   "execution_count": null,
   "id": "4cc26aab",
   "metadata": {},
   "outputs": [],
   "source": []
  },
  {
   "cell_type": "code",
   "execution_count": 57,
   "id": "4af1e293",
   "metadata": {},
   "outputs": [],
   "source": [
    "# again check the null values"
   ]
  },
  {
   "cell_type": "code",
   "execution_count": null,
   "id": "bbb14963",
   "metadata": {},
   "outputs": [],
   "source": []
  },
  {
   "cell_type": "code",
   "execution_count": 58,
   "id": "f1b5f91d",
   "metadata": {},
   "outputs": [
    {
     "data": {
      "text/plain": [
       "Restaurant ID           0\n",
       "Restaurant Name         0\n",
       "Country Code            0\n",
       "City                    0\n",
       "Address                 0\n",
       "Locality                0\n",
       "Locality Verbose        0\n",
       "Longitude               0\n",
       "Latitude                0\n",
       "Cuisines                0\n",
       "Average Cost for two    0\n",
       "Currency                0\n",
       "Has Table booking       0\n",
       "Has Online delivery     0\n",
       "Is delivering now       0\n",
       "Switch to order menu    0\n",
       "Price range             0\n",
       "Aggregate rating        0\n",
       "Rating color            0\n",
       "Rating text             0\n",
       "Votes                   0\n",
       "dtype: int64"
      ]
     },
     "execution_count": 58,
     "metadata": {},
     "output_type": "execute_result"
    }
   ],
   "source": [
    "df.isna().sum()"
   ]
  },
  {
   "cell_type": "code",
   "execution_count": 59,
   "id": "700ce69d",
   "metadata": {},
   "outputs": [
    {
     "data": {
      "text/plain": [
       "(9551, 21)"
      ]
     },
     "execution_count": 59,
     "metadata": {},
     "output_type": "execute_result"
    }
   ],
   "source": [
    "df.shape"
   ]
  },
  {
   "cell_type": "code",
   "execution_count": null,
   "id": "bbae6147",
   "metadata": {},
   "outputs": [],
   "source": []
  },
  {
   "cell_type": "code",
   "execution_count": 60,
   "id": "2f34b6a9",
   "metadata": {},
   "outputs": [],
   "source": [
    "# import library for visualization"
   ]
  },
  {
   "cell_type": "code",
   "execution_count": null,
   "id": "672c563c",
   "metadata": {},
   "outputs": [],
   "source": []
  },
  {
   "cell_type": "code",
   "execution_count": 61,
   "id": "62f06005",
   "metadata": {},
   "outputs": [],
   "source": [
    "import matplotlib.pyplot as plt\n",
    "import seaborn as sns\n",
    "\n",
    "import warnings\n",
    "warnings.filterwarnings('ignore')"
   ]
  },
  {
   "cell_type": "code",
   "execution_count": null,
   "id": "f91ed10d",
   "metadata": {},
   "outputs": [],
   "source": []
  },
  {
   "cell_type": "code",
   "execution_count": 62,
   "id": "10dd2db3",
   "metadata": {},
   "outputs": [],
   "source": [
    "# first distribution plot"
   ]
  },
  {
   "cell_type": "code",
   "execution_count": null,
   "id": "055655db",
   "metadata": {},
   "outputs": [],
   "source": []
  },
  {
   "cell_type": "code",
   "execution_count": 63,
   "id": "eb333764",
   "metadata": {},
   "outputs": [
    {
     "data": {
      "image/png": "[encoded data removed]",
      "text/plain": [
       "<Figure size 1440x1080 with 21 Axes>"
      ]
     },
     "metadata": {},
     "output_type": "display_data"
    }
   ],
   "source": [
    "plt.figure(figsize=(20,15),facecolor='yellow')\n",
    "plotnumber=1\n",
    "\n",
    "for column in df:\n",
    "    if plotnumber<=24:\n",
    "        ax = plt.subplot(6,4,plotnumber)\n",
    "        sns.distplot(df[column])\n",
    "        plt.xlabel(column,fontsize=15)\n",
    "        \n",
    "    plotnumber+=1\n",
    "plt.show()"
   ]
  },
  {
   "cell_type": "code",
   "execution_count": null,
   "id": "6e05c2f0",
   "metadata": {},
   "outputs": [],
   "source": []
  },
  {
   "cell_type": "code",
   "execution_count": 64,
   "id": "559208da",
   "metadata": {},
   "outputs": [],
   "source": [
    "# second boxplot"
   ]
  },
  {
   "cell_type": "code",
   "execution_count": null,
   "id": "15b10b35",
   "metadata": {},
   "outputs": [],
   "source": []
  },
  {
   "cell_type": "code",
   "execution_count": 65,
   "id": "4875aa8a",
   "metadata": {},
   "outputs": [
    {
     "data": {
      "image/png": "[encoded data removed]",
      "text/plain": [
       "<Figure size 1440x1080 with 21 Axes>"
      ]
     },
     "metadata": {},
     "output_type": "display_data"
    }
   ],
   "source": [
    "plt.figure(figsize=(20,15),facecolor='yellow')\n",
    "plotnumber=1\n",
    "\n",
    "for column in df:\n",
    "    if plotnumber<=24:\n",
    "        ax = plt.subplot(6,4,plotnumber)\n",
    "        plt.boxplot(df[column])\n",
    "        plt.xlabel(column,fontsize=15)\n",
    "        \n",
    "    plotnumber+=1\n",
    "plt.show()"
   ]
  },
  {
   "cell_type": "code",
   "execution_count": null,
   "id": "0b7de77e",
   "metadata": {},
   "outputs": [],
   "source": []
  },
  {
   "cell_type": "code",
   "execution_count": 66,
   "id": "a416398c",
   "metadata": {},
   "outputs": [],
   "source": [
    "# now check for outliers by using zscore method"
   ]
  },
  {
   "cell_type": "code",
   "execution_count": null,
   "id": "35d6035d",
   "metadata": {},
   "outputs": [],
   "source": []
  },
  {
   "cell_type": "code",
   "execution_count": 67,
   "id": "18fea689",
   "metadata": {},
   "outputs": [
    {
     "data": {
      "text/plain": [
       "Index(['Restaurant ID', 'Restaurant Name', 'Country Code', 'City', 'Address',\n",
       "       'Locality', 'Locality Verbose', 'Longitude', 'Latitude', 'Cuisines',\n",
       "       'Average Cost for two', 'Currency', 'Has Table booking',\n",
       "       'Has Online delivery', 'Is delivering now', 'Switch to order menu',\n",
       "       'Price range', 'Aggregate rating', 'Rating color', 'Rating text',\n",
       "       'Votes'],\n",
       "      dtype='object')"
      ]
     },
     "execution_count": 67,
     "metadata": {},
     "output_type": "execute_result"
    }
   ],
   "source": [
    "df.columns"
   ]
  },
  {
   "cell_type": "code",
   "execution_count": 68,
   "id": "97c74939",
   "metadata": {},
   "outputs": [],
   "source": [
    "from scipy.stats import zscore"
   ]
  },
  {
   "cell_type": "code",
   "execution_count": null,
   "id": "79e2bbc6",
   "metadata": {},
   "outputs": [],
   "source": []
  },
  {
   "cell_type": "code",
   "execution_count": 69,
   "id": "f491ec86",
   "metadata": {},
   "outputs": [],
   "source": [
    "z_score = zscore(df[['Restaurant ID','Restaurant Name','Country Code','City','Address',\n",
    "       'Locality','Locality Verbose','Longitude','Latitude','Cuisines',\n",
    "       'Average Cost for two','Currency','Has Table booking',\n",
    "       'Has Online delivery','Is delivering now','Switch to order menu',\n",
    "       'Price range','Aggregate rating','Rating color','Rating text',\n",
    "       'Votes']])"
   ]
  },
  {
   "cell_type": "code",
   "execution_count": 70,
   "id": "e6cad677",
   "metadata": {},
   "outputs": [],
   "source": [
    "z_score = np.abs(z_score)"
   ]
  },
  {
   "cell_type": "code",
   "execution_count": 71,
   "id": "f51b3664",
   "metadata": {},
   "outputs": [],
   "source": [
    "filter_entry = (z_score < 3).all(axis=1)"
   ]
  },
  {
   "cell_type": "code",
   "execution_count": 72,
   "id": "b90281a9",
   "metadata": {},
   "outputs": [],
   "source": [
    "df1 = df[filter_entry]"
   ]
  },
  {
   "cell_type": "code",
   "execution_count": 73,
   "id": "4c52be88",
   "metadata": {},
   "outputs": [
    {
     "data": {
      "text/html": [
       "<div>\n",
       "<style scoped>\n",
       "    .dataframe tbody tr th:only-of-type {\n",
       "        vertical-align: middle;\n",
       "    }\n",
       "\n",
       "    .dataframe tbody tr th {\n",
       "        vertical-align: top;\n",
       "    }\n",
       "\n",
       "    .dataframe thead th {\n",
       "        text-align: right;\n",
       "    }\n",
       "</style>\n",
       "<table border=\"1\" class=\"dataframe\">\n",
       "  <thead>\n",
       "    <tr style=\"text-align: right;\">\n",
       "      <th></th>\n",
       "      <th>Restaurant ID</th>\n",
       "      <th>Restaurant Name</th>\n",
       "      <th>Country Code</th>\n",
       "      <th>City</th>\n",
       "      <th>Address</th>\n",
       "      <th>Locality</th>\n",
       "      <th>Locality Verbose</th>\n",
       "      <th>Longitude</th>\n",
       "      <th>Latitude</th>\n",
       "      <th>Cuisines</th>\n",
       "      <th>...</th>\n",
       "      <th>Currency</th>\n",
       "      <th>Has Table booking</th>\n",
       "      <th>Has Online delivery</th>\n",
       "      <th>Is delivering now</th>\n",
       "      <th>Switch to order menu</th>\n",
       "      <th>Price range</th>\n",
       "      <th>Aggregate rating</th>\n",
       "      <th>Rating color</th>\n",
       "      <th>Rating text</th>\n",
       "      <th>Votes</th>\n",
       "    </tr>\n",
       "  </thead>\n",
       "  <tbody>\n",
       "  </tbody>\n",
       "</table>\n",
       "<p>0 rows × 21 columns</p>\n",
       "</div>"
      ],
      "text/plain": [
       "Empty DataFrame\n",
       "Columns: [Restaurant ID, Restaurant Name, Country Code, City, Address, Locality, Locality Verbose, Longitude, Latitude, Cuisines, Average Cost for two, Currency, Has Table booking, Has Online delivery, Is delivering now, Switch to order menu, Price range, Aggregate rating, Rating color, Rating text, Votes]\n",
       "Index: []\n",
       "\n",
       "[0 rows x 21 columns]"
      ]
     },
     "execution_count": 73,
     "metadata": {},
     "output_type": "execute_result"
    }
   ],
   "source": [
    "df1"
   ]
  },
  {
   "cell_type": "code",
   "execution_count": 74,
   "id": "ed109f3a",
   "metadata": {},
   "outputs": [],
   "source": [
    "# nothing is showing when we use zscore method"
   ]
  },
  {
   "cell_type": "code",
   "execution_count": 75,
   "id": "dfbb9bdd",
   "metadata": {},
   "outputs": [],
   "source": [
    "# let's try with another method"
   ]
  },
  {
   "cell_type": "code",
   "execution_count": null,
   "id": "b415829e",
   "metadata": {},
   "outputs": [],
   "source": []
  },
  {
   "cell_type": "code",
   "execution_count": 76,
   "id": "404d2a31",
   "metadata": {},
   "outputs": [
    {
     "data": {
      "text/plain": [
       "Index(['Restaurant ID', 'Restaurant Name', 'Country Code', 'City', 'Address',\n",
       "       'Locality', 'Locality Verbose', 'Longitude', 'Latitude', 'Cuisines',\n",
       "       'Average Cost for two', 'Currency', 'Has Table booking',\n",
       "       'Has Online delivery', 'Is delivering now', 'Switch to order menu',\n",
       "       'Price range', 'Aggregate rating', 'Rating color', 'Rating text',\n",
       "       'Votes'],\n",
       "      dtype='object')"
      ]
     },
     "execution_count": 76,
     "metadata": {},
     "output_type": "execute_result"
    }
   ],
   "source": [
    "df.columns"
   ]
  },
  {
   "cell_type": "code",
   "execution_count": null,
   "id": "1b5961ed",
   "metadata": {},
   "outputs": [],
   "source": []
  },
  {
   "cell_type": "code",
   "execution_count": 77,
   "id": "86bb191f",
   "metadata": {},
   "outputs": [],
   "source": [
    "# rename some columns for further process"
   ]
  },
  {
   "cell_type": "code",
   "execution_count": null,
   "id": "5f184a96",
   "metadata": {},
   "outputs": [],
   "source": []
  },
  {
   "cell_type": "code",
   "execution_count": 78,
   "id": "efa77f7a",
   "metadata": {},
   "outputs": [],
   "source": [
    "df = df.rename(columns = {'Restaurant ID':'RestaurantID','Restaurant Name':'RestaurantName','Country Code':'CountryCode','Locality Verbose':'LocalityVerbose','Average Cost for two':'AverageCostfortwo','Has Table booking':'HasTableBooking','Has Online delivery':'HasOnlineDelivery','Is delivering now':'IsDeliveringNow','Switch to order menu':'SwitchToOrderMenu','Price range':'PriceRange','Aggregate rating':'AggregateRating','Rating color':'RatingColor','Rating text':'RatingText'})"
   ]
  },
  {
   "cell_type": "code",
   "execution_count": 79,
   "id": "8c4ceb5d",
   "metadata": {},
   "outputs": [
    {
     "data": {
      "text/html": [
       "<div>\n",
       "<style scoped>\n",
       "    .dataframe tbody tr th:only-of-type {\n",
       "        vertical-align: middle;\n",
       "    }\n",
       "\n",
       "    .dataframe tbody tr th {\n",
       "        vertical-align: top;\n",
       "    }\n",
       "\n",
       "    .dataframe thead th {\n",
       "        text-align: right;\n",
       "    }\n",
       "</style>\n",
       "<table border=\"1\" class=\"dataframe\">\n",
       "  <thead>\n",
       "    <tr style=\"text-align: right;\">\n",
       "      <th></th>\n",
       "      <th>RestaurantID</th>\n",
       "      <th>RestaurantName</th>\n",
       "      <th>CountryCode</th>\n",
       "      <th>City</th>\n",
       "      <th>Address</th>\n",
       "      <th>Locality</th>\n",
       "      <th>LocalityVerbose</th>\n",
       "      <th>Longitude</th>\n",
       "      <th>Latitude</th>\n",
       "      <th>Cuisines</th>\n",
       "      <th>...</th>\n",
       "      <th>Currency</th>\n",
       "      <th>HasTableBooking</th>\n",
       "      <th>HasOnlineDelivery</th>\n",
       "      <th>IsDeliveringNow</th>\n",
       "      <th>SwitchToOrderMenu</th>\n",
       "      <th>PriceRange</th>\n",
       "      <th>AggregateRating</th>\n",
       "      <th>RatingColor</th>\n",
       "      <th>RatingText</th>\n",
       "      <th>Votes</th>\n",
       "    </tr>\n",
       "  </thead>\n",
       "  <tbody>\n",
       "    <tr>\n",
       "      <th>0</th>\n",
       "      <td>6317637</td>\n",
       "      <td>3749</td>\n",
       "      <td>162</td>\n",
       "      <td>73</td>\n",
       "      <td>8685</td>\n",
       "      <td>171</td>\n",
       "      <td>172</td>\n",
       "      <td>121.027535</td>\n",
       "      <td>14.565443</td>\n",
       "      <td>920</td>\n",
       "      <td>...</td>\n",
       "      <td>0</td>\n",
       "      <td>1</td>\n",
       "      <td>0</td>\n",
       "      <td>0</td>\n",
       "      <td>0</td>\n",
       "      <td>3</td>\n",
       "      <td>4.8</td>\n",
       "      <td>0</td>\n",
       "      <td>5.0</td>\n",
       "      <td>314</td>\n",
       "    </tr>\n",
       "    <tr>\n",
       "      <th>1</th>\n",
       "      <td>6304287</td>\n",
       "      <td>3173</td>\n",
       "      <td>162</td>\n",
       "      <td>73</td>\n",
       "      <td>6055</td>\n",
       "      <td>593</td>\n",
       "      <td>601</td>\n",
       "      <td>121.014101</td>\n",
       "      <td>14.553708</td>\n",
       "      <td>1111</td>\n",
       "      <td>...</td>\n",
       "      <td>0</td>\n",
       "      <td>1</td>\n",
       "      <td>0</td>\n",
       "      <td>0</td>\n",
       "      <td>0</td>\n",
       "      <td>3</td>\n",
       "      <td>4.5</td>\n",
       "      <td>0</td>\n",
       "      <td>5.0</td>\n",
       "      <td>591</td>\n",
       "    </tr>\n",
       "    <tr>\n",
       "      <th>2</th>\n",
       "      <td>6300002</td>\n",
       "      <td>2897</td>\n",
       "      <td>162</td>\n",
       "      <td>75</td>\n",
       "      <td>4684</td>\n",
       "      <td>308</td>\n",
       "      <td>314</td>\n",
       "      <td>121.056831</td>\n",
       "      <td>14.581404</td>\n",
       "      <td>1671</td>\n",
       "      <td>...</td>\n",
       "      <td>0</td>\n",
       "      <td>1</td>\n",
       "      <td>0</td>\n",
       "      <td>0</td>\n",
       "      <td>0</td>\n",
       "      <td>4</td>\n",
       "      <td>4.4</td>\n",
       "      <td>1</td>\n",
       "      <td>4.0</td>\n",
       "      <td>270</td>\n",
       "    </tr>\n",
       "    <tr>\n",
       "      <th>3</th>\n",
       "      <td>6318506</td>\n",
       "      <td>4707</td>\n",
       "      <td>162</td>\n",
       "      <td>75</td>\n",
       "      <td>8690</td>\n",
       "      <td>862</td>\n",
       "      <td>875</td>\n",
       "      <td>121.056475</td>\n",
       "      <td>14.585318</td>\n",
       "      <td>1126</td>\n",
       "      <td>...</td>\n",
       "      <td>0</td>\n",
       "      <td>0</td>\n",
       "      <td>0</td>\n",
       "      <td>0</td>\n",
       "      <td>0</td>\n",
       "      <td>4</td>\n",
       "      <td>4.9</td>\n",
       "      <td>0</td>\n",
       "      <td>5.0</td>\n",
       "      <td>365</td>\n",
       "    </tr>\n",
       "    <tr>\n",
       "      <th>4</th>\n",
       "      <td>6314302</td>\n",
       "      <td>5523</td>\n",
       "      <td>162</td>\n",
       "      <td>75</td>\n",
       "      <td>8689</td>\n",
       "      <td>862</td>\n",
       "      <td>875</td>\n",
       "      <td>121.057508</td>\n",
       "      <td>14.584450</td>\n",
       "      <td>1122</td>\n",
       "      <td>...</td>\n",
       "      <td>0</td>\n",
       "      <td>1</td>\n",
       "      <td>0</td>\n",
       "      <td>0</td>\n",
       "      <td>0</td>\n",
       "      <td>4</td>\n",
       "      <td>4.8</td>\n",
       "      <td>0</td>\n",
       "      <td>5.0</td>\n",
       "      <td>229</td>\n",
       "    </tr>\n",
       "    <tr>\n",
       "      <th>...</th>\n",
       "      <td>...</td>\n",
       "      <td>...</td>\n",
       "      <td>...</td>\n",
       "      <td>...</td>\n",
       "      <td>...</td>\n",
       "      <td>...</td>\n",
       "      <td>...</td>\n",
       "      <td>...</td>\n",
       "      <td>...</td>\n",
       "      <td>...</td>\n",
       "      <td>...</td>\n",
       "      <td>...</td>\n",
       "      <td>...</td>\n",
       "      <td>...</td>\n",
       "      <td>...</td>\n",
       "      <td>...</td>\n",
       "      <td>...</td>\n",
       "      <td>...</td>\n",
       "      <td>...</td>\n",
       "      <td>...</td>\n",
       "      <td>...</td>\n",
       "    </tr>\n",
       "    <tr>\n",
       "      <th>9546</th>\n",
       "      <td>5915730</td>\n",
       "      <td>4443</td>\n",
       "      <td>208</td>\n",
       "      <td>140</td>\n",
       "      <td>5926</td>\n",
       "      <td>517</td>\n",
       "      <td>523</td>\n",
       "      <td>28.977392</td>\n",
       "      <td>41.022793</td>\n",
       "      <td>1813</td>\n",
       "      <td>...</td>\n",
       "      <td>11</td>\n",
       "      <td>0</td>\n",
       "      <td>0</td>\n",
       "      <td>0</td>\n",
       "      <td>0</td>\n",
       "      <td>3</td>\n",
       "      <td>4.1</td>\n",
       "      <td>1</td>\n",
       "      <td>4.0</td>\n",
       "      <td>788</td>\n",
       "    </tr>\n",
       "    <tr>\n",
       "      <th>9547</th>\n",
       "      <td>5908749</td>\n",
       "      <td>1311</td>\n",
       "      <td>208</td>\n",
       "      <td>140</td>\n",
       "      <td>5962</td>\n",
       "      <td>552</td>\n",
       "      <td>558</td>\n",
       "      <td>29.041297</td>\n",
       "      <td>41.009847</td>\n",
       "      <td>1824</td>\n",
       "      <td>...</td>\n",
       "      <td>11</td>\n",
       "      <td>0</td>\n",
       "      <td>0</td>\n",
       "      <td>0</td>\n",
       "      <td>0</td>\n",
       "      <td>3</td>\n",
       "      <td>4.2</td>\n",
       "      <td>1</td>\n",
       "      <td>4.0</td>\n",
       "      <td>1034</td>\n",
       "    </tr>\n",
       "    <tr>\n",
       "      <th>9548</th>\n",
       "      <td>5915807</td>\n",
       "      <td>3069</td>\n",
       "      <td>208</td>\n",
       "      <td>140</td>\n",
       "      <td>5966</td>\n",
       "      <td>554</td>\n",
       "      <td>561</td>\n",
       "      <td>29.034640</td>\n",
       "      <td>41.055817</td>\n",
       "      <td>1110</td>\n",
       "      <td>...</td>\n",
       "      <td>11</td>\n",
       "      <td>0</td>\n",
       "      <td>0</td>\n",
       "      <td>0</td>\n",
       "      <td>0</td>\n",
       "      <td>4</td>\n",
       "      <td>3.7</td>\n",
       "      <td>5</td>\n",
       "      <td>3.0</td>\n",
       "      <td>661</td>\n",
       "    </tr>\n",
       "    <tr>\n",
       "      <th>9549</th>\n",
       "      <td>5916112</td>\n",
       "      <td>513</td>\n",
       "      <td>208</td>\n",
       "      <td>140</td>\n",
       "      <td>5967</td>\n",
       "      <td>554</td>\n",
       "      <td>561</td>\n",
       "      <td>29.036019</td>\n",
       "      <td>41.057979</td>\n",
       "      <td>1657</td>\n",
       "      <td>...</td>\n",
       "      <td>11</td>\n",
       "      <td>0</td>\n",
       "      <td>0</td>\n",
       "      <td>0</td>\n",
       "      <td>0</td>\n",
       "      <td>4</td>\n",
       "      <td>4.0</td>\n",
       "      <td>1</td>\n",
       "      <td>4.0</td>\n",
       "      <td>901</td>\n",
       "    </tr>\n",
       "    <tr>\n",
       "      <th>9550</th>\n",
       "      <td>5927402</td>\n",
       "      <td>7240</td>\n",
       "      <td>208</td>\n",
       "      <td>140</td>\n",
       "      <td>4258</td>\n",
       "      <td>670</td>\n",
       "      <td>681</td>\n",
       "      <td>29.026016</td>\n",
       "      <td>40.984776</td>\n",
       "      <td>331</td>\n",
       "      <td>...</td>\n",
       "      <td>11</td>\n",
       "      <td>0</td>\n",
       "      <td>0</td>\n",
       "      <td>0</td>\n",
       "      <td>0</td>\n",
       "      <td>2</td>\n",
       "      <td>4.0</td>\n",
       "      <td>1</td>\n",
       "      <td>4.0</td>\n",
       "      <td>591</td>\n",
       "    </tr>\n",
       "  </tbody>\n",
       "</table>\n",
       "<p>9551 rows × 21 columns</p>\n",
       "</div>"
      ],
      "text/plain": [
       "      RestaurantID  RestaurantName  CountryCode  City  Address  Locality  \\\n",
       "0          6317637            3749          162    73     8685       171   \n",
       "1          6304287            3173          162    73     6055       593   \n",
       "2          6300002            2897          162    75     4684       308   \n",
       "3          6318506            4707          162    75     8690       862   \n",
       "4          6314302            5523          162    75     8689       862   \n",
       "...            ...             ...          ...   ...      ...       ...   \n",
       "9546       5915730            4443          208   140     5926       517   \n",
       "9547       5908749            1311          208   140     5962       552   \n",
       "9548       5915807            3069          208   140     5966       554   \n",
       "9549       5916112             513          208   140     5967       554   \n",
       "9550       5927402            7240          208   140     4258       670   \n",
       "\n",
       "      LocalityVerbose   Longitude   Latitude  Cuisines  ...  Currency  \\\n",
       "0                 172  121.027535  14.565443       920  ...         0   \n",
       "1                 601  121.014101  14.553708      1111  ...         0   \n",
       "2                 314  121.056831  14.581404      1671  ...         0   \n",
       "3                 875  121.056475  14.585318      1126  ...         0   \n",
       "4                 875  121.057508  14.584450      1122  ...         0   \n",
       "...               ...         ...        ...       ...  ...       ...   \n",
       "9546              523   28.977392  41.022793      1813  ...        11   \n",
       "9547              558   29.041297  41.009847      1824  ...        11   \n",
       "9548              561   29.034640  41.055817      1110  ...        11   \n",
       "9549              561   29.036019  41.057979      1657  ...        11   \n",
       "9550              681   29.026016  40.984776       331  ...        11   \n",
       "\n",
       "      HasTableBooking  HasOnlineDelivery  IsDeliveringNow  SwitchToOrderMenu  \\\n",
       "0                   1                  0                0                  0   \n",
       "1                   1                  0                0                  0   \n",
       "2                   1                  0                0                  0   \n",
       "3                   0                  0                0                  0   \n",
       "4                   1                  0                0                  0   \n",
       "...               ...                ...              ...                ...   \n",
       "9546                0                  0                0                  0   \n",
       "9547                0                  0                0                  0   \n",
       "9548                0                  0                0                  0   \n",
       "9549                0                  0                0                  0   \n",
       "9550                0                  0                0                  0   \n",
       "\n",
       "      PriceRange  AggregateRating  RatingColor  RatingText  Votes  \n",
       "0              3              4.8            0         5.0    314  \n",
       "1              3              4.5            0         5.0    591  \n",
       "2              4              4.4            1         4.0    270  \n",
       "3              4              4.9            0         5.0    365  \n",
       "4              4              4.8            0         5.0    229  \n",
       "...          ...              ...          ...         ...    ...  \n",
       "9546           3              4.1            1         4.0    788  \n",
       "9547           3              4.2            1         4.0   1034  \n",
       "9548           4              3.7            5         3.0    661  \n",
       "9549           4              4.0            1         4.0    901  \n",
       "9550           2              4.0            1         4.0    591  \n",
       "\n",
       "[9551 rows x 21 columns]"
      ]
     },
     "execution_count": 79,
     "metadata": {},
     "output_type": "execute_result"
    }
   ],
   "source": [
    "df"
   ]
  },
  {
   "cell_type": "code",
   "execution_count": null,
   "id": "cfcd876c",
   "metadata": {},
   "outputs": [],
   "source": []
  },
  {
   "cell_type": "code",
   "execution_count": 80,
   "id": "077d0cd3",
   "metadata": {},
   "outputs": [],
   "source": [
    "# quantiles and iqr"
   ]
  },
  {
   "cell_type": "code",
   "execution_count": null,
   "id": "d903884a",
   "metadata": {},
   "outputs": [],
   "source": []
  },
  {
   "cell_type": "code",
   "execution_count": 81,
   "id": "af1f1539",
   "metadata": {},
   "outputs": [],
   "source": [
    "q1 = df.quantile(0.25)"
   ]
  },
  {
   "cell_type": "code",
   "execution_count": 82,
   "id": "a4afa8f5",
   "metadata": {},
   "outputs": [],
   "source": [
    "q3 = df.quantile(0.75)"
   ]
  },
  {
   "cell_type": "code",
   "execution_count": 83,
   "id": "c347db2a",
   "metadata": {},
   "outputs": [],
   "source": [
    "iqr = q3 - q1"
   ]
  },
  {
   "cell_type": "code",
   "execution_count": 84,
   "id": "cd85522f",
   "metadata": {},
   "outputs": [
    {
     "name": "stdout",
     "output_type": "stream",
     "text": [
      "RestaurantID         301962.500000\n",
      "RestaurantName         1777.500000\n",
      "CountryCode               1.000000\n",
      "City                     76.000000\n",
      "Address                2323.500000\n",
      "Locality                381.000000\n",
      "LocalityVerbose         387.000000\n",
      "Longitude                77.081343\n",
      "Latitude                 28.478713\n",
      "Cuisines                497.000000\n",
      "AverageCostfortwo       250.000000\n",
      "Currency                  4.000000\n",
      "HasTableBooking           0.000000\n",
      "HasOnlineDelivery         0.000000\n",
      "IsDeliveringNow           0.000000\n",
      "SwitchToOrderMenu         0.000000\n",
      "PriceRange                1.000000\n",
      "AggregateRating           2.500000\n",
      "RatingColor               2.000000\n",
      "RatingText                2.000000\n",
      "Votes                     5.000000\n",
      "Name: 0.25, dtype: float64\n"
     ]
    }
   ],
   "source": [
    "print(q1)"
   ]
  },
  {
   "cell_type": "code",
   "execution_count": 85,
   "id": "4d88e039",
   "metadata": {},
   "outputs": [
    {
     "name": "stdout",
     "output_type": "stream",
     "text": [
      "RestaurantID         1.835229e+07\n",
      "RestaurantName       5.485500e+03\n",
      "CountryCode          1.000000e+00\n",
      "City                 8.800000e+01\n",
      "Address              6.746500e+03\n",
      "Locality             9.210000e+02\n",
      "LocalityVerbose      9.530000e+02\n",
      "Longitude            7.728201e+01\n",
      "Latitude             2.864276e+01\n",
      "Cuisines             1.355000e+03\n",
      "AverageCostfortwo    7.000000e+02\n",
      "Currency             4.000000e+00\n",
      "HasTableBooking      0.000000e+00\n",
      "HasOnlineDelivery    1.000000e+00\n",
      "IsDeliveringNow      0.000000e+00\n",
      "SwitchToOrderMenu    0.000000e+00\n",
      "PriceRange           2.000000e+00\n",
      "AggregateRating      3.700000e+00\n",
      "RatingColor          4.000000e+00\n",
      "RatingText           3.000000e+00\n",
      "Votes                1.310000e+02\n",
      "Name: 0.75, dtype: float64\n"
     ]
    }
   ],
   "source": [
    "print(q3)"
   ]
  },
  {
   "cell_type": "code",
   "execution_count": 86,
   "id": "7606131a",
   "metadata": {},
   "outputs": [
    {
     "name": "stdout",
     "output_type": "stream",
     "text": [
      "RestaurantID         1.805033e+07\n",
      "RestaurantName       3.708000e+03\n",
      "CountryCode          0.000000e+00\n",
      "City                 1.200000e+01\n",
      "Address              4.423000e+03\n",
      "Locality             5.400000e+02\n",
      "LocalityVerbose      5.660000e+02\n",
      "Longitude            2.006633e-01\n",
      "Latitude             1.640456e-01\n",
      "Cuisines             8.580000e+02\n",
      "AverageCostfortwo    4.500000e+02\n",
      "Currency             0.000000e+00\n",
      "HasTableBooking      0.000000e+00\n",
      "HasOnlineDelivery    1.000000e+00\n",
      "IsDeliveringNow      0.000000e+00\n",
      "SwitchToOrderMenu    0.000000e+00\n",
      "PriceRange           1.000000e+00\n",
      "AggregateRating      1.200000e+00\n",
      "RatingColor          2.000000e+00\n",
      "RatingText           1.000000e+00\n",
      "Votes                1.260000e+02\n",
      "dtype: float64\n"
     ]
    }
   ],
   "source": [
    "print(iqr)"
   ]
  },
  {
   "cell_type": "code",
   "execution_count": null,
   "id": "4b722230",
   "metadata": {},
   "outputs": [],
   "source": []
  },
  {
   "cell_type": "code",
   "execution_count": null,
   "id": "b7e77e35",
   "metadata": {},
   "outputs": [],
   "source": []
  },
  {
   "cell_type": "code",
   "execution_count": 87,
   "id": "316af6e0",
   "metadata": {},
   "outputs": [],
   "source": [
    "# check for outliers individually for each columns"
   ]
  },
  {
   "cell_type": "code",
   "execution_count": null,
   "id": "b158c870",
   "metadata": {},
   "outputs": [],
   "source": []
  },
  {
   "cell_type": "code",
   "execution_count": 88,
   "id": "0182877b",
   "metadata": {},
   "outputs": [
    {
     "data": {
      "text/plain": [
       "45427785.0"
      ]
     },
     "execution_count": 88,
     "metadata": {},
     "output_type": "execute_result"
    }
   ],
   "source": [
    "ri_high = (q3.RestaurantID + (1.5 * iqr.RestaurantID))\n",
    "ri_high"
   ]
  },
  {
   "cell_type": "code",
   "execution_count": 89,
   "id": "2d535a0a",
   "metadata": {},
   "outputs": [
    {
     "data": {
      "text/plain": [
       "(array([], dtype=int64),)"
      ]
     },
     "execution_count": 89,
     "metadata": {},
     "output_type": "execute_result"
    }
   ],
   "source": [
    "index = np.where(df['RestaurantID'] > ri_high)\n",
    "index"
   ]
  },
  {
   "cell_type": "code",
   "execution_count": 90,
   "id": "49ceb67f",
   "metadata": {},
   "outputs": [
    {
     "data": {
      "text/plain": [
       "-26773531.0"
      ]
     },
     "execution_count": 90,
     "metadata": {},
     "output_type": "execute_result"
    }
   ],
   "source": [
    "ri_low = (q1.RestaurantID - (1.5 * iqr.RestaurantID))\n",
    "ri_low"
   ]
  },
  {
   "cell_type": "code",
   "execution_count": 91,
   "id": "d16ce007",
   "metadata": {},
   "outputs": [
    {
     "data": {
      "text/plain": [
       "(array([], dtype=int64),)"
      ]
     },
     "execution_count": 91,
     "metadata": {},
     "output_type": "execute_result"
    }
   ],
   "source": [
    "index = np.where(df['RestaurantID'] < ri_low)\n",
    "index"
   ]
  },
  {
   "cell_type": "code",
   "execution_count": null,
   "id": "d207fe61",
   "metadata": {},
   "outputs": [],
   "source": []
  },
  {
   "cell_type": "code",
   "execution_count": null,
   "id": "5266a4c8",
   "metadata": {},
   "outputs": [],
   "source": []
  },
  {
   "cell_type": "code",
   "execution_count": null,
   "id": "fda7db23",
   "metadata": {},
   "outputs": [],
   "source": []
  },
  {
   "cell_type": "code",
   "execution_count": 92,
   "id": "2d9ca627",
   "metadata": {},
   "outputs": [
    {
     "data": {
      "text/plain": [
       "11047.5"
      ]
     },
     "execution_count": 92,
     "metadata": {},
     "output_type": "execute_result"
    }
   ],
   "source": [
    "rn_high = (q3.RestaurantName + (1.5 * iqr.RestaurantName))\n",
    "rn_high"
   ]
  },
  {
   "cell_type": "code",
   "execution_count": 93,
   "id": "a9af4c40",
   "metadata": {},
   "outputs": [
    {
     "data": {
      "text/plain": [
       "(array([], dtype=int64),)"
      ]
     },
     "execution_count": 93,
     "metadata": {},
     "output_type": "execute_result"
    }
   ],
   "source": [
    "index = np.where(df['RestaurantName'] > rn_high)\n",
    "index"
   ]
  },
  {
   "cell_type": "code",
   "execution_count": 94,
   "id": "14be575d",
   "metadata": {},
   "outputs": [
    {
     "data": {
      "text/plain": [
       "-3784.5"
      ]
     },
     "execution_count": 94,
     "metadata": {},
     "output_type": "execute_result"
    }
   ],
   "source": [
    "rn_low = (q1.RestaurantName - (1.5 * iqr.RestaurantName))\n",
    "rn_low"
   ]
  },
  {
   "cell_type": "code",
   "execution_count": 95,
   "id": "17209fbc",
   "metadata": {},
   "outputs": [
    {
     "data": {
      "text/plain": [
       "(array([], dtype=int64),)"
      ]
     },
     "execution_count": 95,
     "metadata": {},
     "output_type": "execute_result"
    }
   ],
   "source": [
    "index = np.where(df['RestaurantName'] < rn_low)\n",
    "index"
   ]
  },
  {
   "cell_type": "code",
   "execution_count": null,
   "id": "ad3baa7e",
   "metadata": {},
   "outputs": [],
   "source": []
  },
  {
   "cell_type": "code",
   "execution_count": null,
   "id": "b7c91d98",
   "metadata": {},
   "outputs": [],
   "source": []
  },
  {
   "cell_type": "code",
   "execution_count": null,
   "id": "73a0cdfd",
   "metadata": {},
   "outputs": [],
   "source": []
  },
  {
   "cell_type": "code",
   "execution_count": 96,
   "id": "4cf3d1d4",
   "metadata": {},
   "outputs": [
    {
     "data": {
      "text/plain": [
       "1.0"
      ]
     },
     "execution_count": 96,
     "metadata": {},
     "output_type": "execute_result"
    }
   ],
   "source": [
    "cc_high = (q3.CountryCode + (1.5 * iqr.CountryCode))\n",
    "cc_high"
   ]
  },
  {
   "cell_type": "code",
   "execution_count": 97,
   "id": "30dc9b89",
   "metadata": {},
   "outputs": [
    {
     "data": {
      "text/plain": [
       "(array([   0,    1,    2,    3,    4,    5,    6,    7,    8,    9,   10,\n",
       "          11,   12,   13,   14,   15,   16,   17,   18,   19,   20,   21,\n",
       "          22,   23,   24,   25,   26,   27,   28,   29,   30,   31,   32,\n",
       "          33,   34,   35,   36,   37,   38,   39,   40,   41,   42,   43,\n",
       "          44,   45,   46,   47,   48,   49,   50,   51,   52,   53,   54,\n",
       "          55,   56,   57,   58,   59,   60,   61,   62,   63,   64,   65,\n",
       "          66,   67,   68,   69,   70,   71,   72,   73,   74,   75,   76,\n",
       "          77,   78,   79,   80,   81,   82,   83,   84,   85,   86,   87,\n",
       "          88,   89,   90,   91,   92,   93,   94,   95,   96,   97,   98,\n",
       "          99,  100,  101,  102,  103,  104,  105,  106,  107,  108,  109,\n",
       "         110,  111,  112,  113,  114,  115,  116,  117,  118,  119,  120,\n",
       "         121,  122,  123,  124,  125,  126,  127,  128,  129,  130,  131,\n",
       "         132,  133,  134,  135,  136,  137,  138,  139,  140,  141,  142,\n",
       "         143,  144,  145,  146,  147,  148,  149,  150,  151,  152,  153,\n",
       "         154,  155,  156,  157,  158,  159,  160,  161,  162,  163,  164,\n",
       "         165,  166,  167,  168,  169,  170,  171,  172,  173,  174,  175,\n",
       "         176,  177,  178,  179,  180,  181,  182,  183,  184,  185,  186,\n",
       "         187,  188,  189,  190,  191,  192,  193,  194,  195,  196,  197,\n",
       "         198,  199,  200,  201,  202,  203,  204,  205,  206,  207,  208,\n",
       "         209,  210,  211,  212,  213,  214,  215,  216,  217,  218,  219,\n",
       "         220,  221,  222,  223,  224,  225,  226,  227,  228,  229,  230,\n",
       "         231,  232,  233,  234,  235,  236,  237,  238,  239,  240,  241,\n",
       "         242,  243,  244,  245,  246,  247,  248,  249,  250,  251,  252,\n",
       "         253,  254,  255,  256,  257,  258,  259,  260,  261,  262,  263,\n",
       "         264,  265,  266,  267,  268,  269,  270,  271,  272,  273,  274,\n",
       "         275,  276,  277,  278,  279,  280,  281,  282,  283,  284,  285,\n",
       "         286,  287,  288,  289,  290,  291,  292,  293,  294,  295,  296,\n",
       "         297,  298,  299,  300,  301,  302,  303,  304,  305,  306,  307,\n",
       "         308,  309,  310,  311,  312,  313,  314,  315,  316,  317,  318,\n",
       "         319,  320,  321,  322,  323,  324,  325,  326,  327,  328,  329,\n",
       "         330,  331,  332,  333,  334,  335,  336,  337,  338,  339,  340,\n",
       "         341,  342,  343,  344,  345,  346,  347,  348,  349,  350,  351,\n",
       "         352,  353,  354,  355,  356,  357,  358,  359,  360,  361,  362,\n",
       "         363,  364,  365,  366,  367,  368,  369,  370,  371,  372,  373,\n",
       "         374,  375,  376,  377,  378,  379,  380,  381,  382,  383,  384,\n",
       "         385,  386,  387,  388,  389,  390,  391,  392,  393,  394,  395,\n",
       "         396,  397,  398,  399,  400,  401,  402,  403,  404,  405,  406,\n",
       "         407,  408,  409,  410,  411,  412,  413,  414,  415,  416,  417,\n",
       "         418,  419,  420,  421,  422,  423,  424,  425,  426,  427,  428,\n",
       "         429,  430,  431,  432,  433,  434,  435,  436,  437,  438,  439,\n",
       "         440,  441,  442,  443,  444,  445,  446,  447,  448,  449,  450,\n",
       "         451,  452,  453,  454,  455,  456,  457,  458,  459,  460,  461,\n",
       "         462,  463,  464,  465,  466,  467,  468,  469,  470,  471,  472,\n",
       "         473,  474,  475,  476,  477,  478,  479,  480,  481,  482,  483,\n",
       "         484,  485,  486,  487,  488,  489,  490,  491,  492,  493,  494,\n",
       "         495,  496,  497,  498,  499,  500,  501,  502,  503,  504,  505,\n",
       "         506,  507,  508,  509,  510,  511,  512,  513,  514,  515,  516,\n",
       "         517,  518,  519,  520,  521,  522,  523,  524,  525,  526,  527,\n",
       "         528,  529,  530,  531,  532,  533,  534,  535,  536,  537,  538,\n",
       "         539,  540,  541,  542,  543,  544,  545,  546,  547,  548,  549,\n",
       "         550,  551,  552,  553,  554,  555,  556,  557,  558,  559,  560,\n",
       "         561,  562,  563,  564,  565,  566,  567,  568,  569,  570,  571,\n",
       "         572,  573,  574,  575,  576,  577,  578,  579,  580,  581,  582,\n",
       "         583,  584,  585,  586,  587,  588,  589,  590,  591,  592,  593,\n",
       "         594,  595,  596,  597,  598,  599,  600,  601,  602,  603,  604,\n",
       "         605,  606,  607,  608,  609,  610,  611,  612,  613,  614,  615,\n",
       "         616,  617,  618,  619,  620,  621,  622,  623, 9276, 9277, 9278,\n",
       "        9279, 9280, 9281, 9282, 9283, 9284, 9285, 9286, 9287, 9288, 9289,\n",
       "        9290, 9291, 9292, 9293, 9294, 9295, 9296, 9297, 9298, 9299, 9300,\n",
       "        9301, 9302, 9303, 9304, 9305, 9306, 9307, 9308, 9309, 9310, 9311,\n",
       "        9312, 9313, 9314, 9315, 9316, 9317, 9318, 9319, 9320, 9321, 9322,\n",
       "        9323, 9324, 9325, 9326, 9327, 9328, 9329, 9330, 9331, 9332, 9333,\n",
       "        9334, 9335, 9336, 9337, 9338, 9339, 9340, 9341, 9342, 9343, 9344,\n",
       "        9345, 9346, 9347, 9348, 9349, 9350, 9351, 9352, 9353, 9354, 9355,\n",
       "        9356, 9357, 9358, 9359, 9360, 9361, 9362, 9363, 9364, 9365, 9366,\n",
       "        9367, 9368, 9369, 9370, 9371, 9372, 9373, 9374, 9375, 9376, 9377,\n",
       "        9378, 9379, 9380, 9381, 9382, 9383, 9384, 9385, 9386, 9387, 9388,\n",
       "        9389, 9390, 9391, 9392, 9393, 9394, 9395, 9396, 9397, 9398, 9399,\n",
       "        9400, 9401, 9402, 9403, 9404, 9405, 9406, 9407, 9408, 9409, 9410,\n",
       "        9411, 9412, 9413, 9414, 9415, 9416, 9417, 9418, 9419, 9420, 9421,\n",
       "        9422, 9423, 9424, 9425, 9426, 9427, 9428, 9429, 9430, 9431, 9432,\n",
       "        9433, 9434, 9435, 9436, 9437, 9438, 9439, 9440, 9441, 9442, 9443,\n",
       "        9444, 9445, 9446, 9447, 9448, 9449, 9450, 9451, 9452, 9453, 9454,\n",
       "        9455, 9456, 9457, 9458, 9459, 9460, 9461, 9462, 9463, 9464, 9465,\n",
       "        9466, 9467, 9468, 9469, 9470, 9471, 9472, 9473, 9474, 9475, 9476,\n",
       "        9477, 9478, 9479, 9480, 9481, 9482, 9483, 9484, 9485, 9486, 9487,\n",
       "        9488, 9489, 9490, 9491, 9492, 9493, 9494, 9495, 9496, 9497, 9498,\n",
       "        9499, 9500, 9501, 9502, 9503, 9504, 9505, 9506, 9507, 9508, 9509,\n",
       "        9510, 9511, 9512, 9513, 9514, 9515, 9516, 9517, 9518, 9519, 9520,\n",
       "        9521, 9522, 9523, 9524, 9525, 9526, 9527, 9528, 9529, 9530, 9531,\n",
       "        9532, 9533, 9534, 9535, 9536, 9537, 9538, 9539, 9540, 9541, 9542,\n",
       "        9543, 9544, 9545, 9546, 9547, 9548, 9549, 9550], dtype=int64),)"
      ]
     },
     "execution_count": 97,
     "metadata": {},
     "output_type": "execute_result"
    }
   ],
   "source": [
    "index = np.where(df['CountryCode'] > cc_high)\n",
    "index"
   ]
  },
  {
   "cell_type": "code",
   "execution_count": 98,
   "id": "1798772a",
   "metadata": {},
   "outputs": [
    {
     "data": {
      "text/plain": [
       "1.0"
      ]
     },
     "execution_count": 98,
     "metadata": {},
     "output_type": "execute_result"
    }
   ],
   "source": [
    "cc_low = (q1.CountryCode - (1.5 * iqr.CountryCode))\n",
    "cc_low"
   ]
  },
  {
   "cell_type": "code",
   "execution_count": 99,
   "id": "de5f74a3",
   "metadata": {},
   "outputs": [
    {
     "data": {
      "text/plain": [
       "(array([], dtype=int64),)"
      ]
     },
     "execution_count": 99,
     "metadata": {},
     "output_type": "execute_result"
    }
   ],
   "source": [
    "index = np.where(df['CountryCode'] < cc_low)\n",
    "index"
   ]
  },
  {
   "cell_type": "code",
   "execution_count": null,
   "id": "0c5c157c",
   "metadata": {},
   "outputs": [],
   "source": []
  },
  {
   "cell_type": "code",
   "execution_count": null,
   "id": "7ea9eaf8",
   "metadata": {},
   "outputs": [],
   "source": []
  },
  {
   "cell_type": "code",
   "execution_count": null,
   "id": "69d564c4",
   "metadata": {},
   "outputs": [],
   "source": []
  },
  {
   "cell_type": "code",
   "execution_count": 100,
   "id": "56a30f9f",
   "metadata": {},
   "outputs": [
    {
     "data": {
      "text/plain": [
       "106.0"
      ]
     },
     "execution_count": 100,
     "metadata": {},
     "output_type": "execute_result"
    }
   ],
   "source": [
    "c_high = (q3.City + (1.5 * iqr.City))\n",
    "c_high"
   ]
  },
  {
   "cell_type": "code",
   "execution_count": 101,
   "id": "77ac5076",
   "metadata": {},
   "outputs": [
    {
     "data": {
      "text/plain": [
       "(array([  12,   13,   14,   15,   16,   17,   18,   19,   20,   21,   42,\n",
       "          43,   44,   45,   46,   47,   48,   49,   50,   51,   52,   53,\n",
       "          54,   55,   56,   57,   58,   59,   60,   61,   62,   63,   64,\n",
       "          65,   66,   67,   68,   69,   70,   71,   72,   73,   74,   75,\n",
       "          76,   77,   78,   79,   80,   81,  416,  417,  418,  419,  420,\n",
       "         421,  422,  423,  424,  425,  426,  427,  428,  429,  430,  431,\n",
       "         432,  433,  434,  435,  436,  437,  438,  439,  440,  441,  442,\n",
       "         443,  444,  445,  446,  447,  448,  449,  450,  451,  452,  453,\n",
       "         454,  455,  456,  457,  458,  459,  460,  461,  462,  463,  464,\n",
       "         465,  466,  467,  468,  469,  470,  471,  472,  473,  474,  475,\n",
       "         476,  477,  478,  479,  480,  481,  482,  483,  484,  485,  486,\n",
       "         487,  488,  489,  490,  491,  492,  493,  494,  495,  496,  497,\n",
       "         498,  499,  500,  501,  502,  503,  504,  505,  506,  507,  508,\n",
       "         509,  510,  511,  512,  513,  514,  515,  516,  517,  518,  519,\n",
       "         520,  521,  522,  523,  524,  525,  526,  527,  528,  529,  530,\n",
       "         531,  532,  533,  534,  535,  536,  537,  538,  539,  540,  541,\n",
       "         542,  543,  544,  545,  546,  547,  548,  549,  550,  551,  552,\n",
       "         553,  554,  555,  556,  557,  558,  559,  560,  561,  562,  563,\n",
       "         604,  605,  606,  607,  608,  609,  610,  611,  612,  613,  614,\n",
       "         615,  616,  617,  618,  619,  620,  621,  622,  623, 9174, 9175,\n",
       "        9176, 9177, 9178, 9179, 9180, 9181, 9182, 9183, 9184, 9185, 9186,\n",
       "        9187, 9188, 9189, 9190, 9191, 9192, 9193, 9194, 9195, 9196, 9197,\n",
       "        9198, 9199, 9200, 9201, 9202, 9203, 9204, 9205, 9206, 9207, 9208,\n",
       "        9209, 9210, 9211, 9212, 9213, 9214, 9215, 9216, 9217, 9218, 9219,\n",
       "        9220, 9221, 9222, 9223, 9224, 9225, 9226, 9227, 9228, 9229, 9230,\n",
       "        9231, 9232, 9233, 9234, 9235, 9236, 9237, 9238, 9239, 9240, 9241,\n",
       "        9242, 9243, 9244, 9245, 9246, 9247, 9248, 9249, 9250, 9251, 9252,\n",
       "        9253, 9254, 9255, 9256, 9257, 9258, 9259, 9260, 9261, 9262, 9263,\n",
       "        9264, 9265, 9266, 9267, 9268, 9269, 9270, 9271, 9272, 9273, 9274,\n",
       "        9275, 9295, 9296, 9317, 9318, 9319, 9320, 9321, 9322, 9323, 9324,\n",
       "        9325, 9326, 9327, 9328, 9329, 9330, 9331, 9332, 9333, 9334, 9335,\n",
       "        9336, 9485, 9486, 9487, 9488, 9489, 9490, 9491, 9492, 9493, 9494,\n",
       "        9495, 9496, 9537, 9538, 9539, 9540, 9541, 9542, 9543, 9544, 9545,\n",
       "        9546, 9547, 9548, 9549, 9550], dtype=int64),)"
      ]
     },
     "execution_count": 101,
     "metadata": {},
     "output_type": "execute_result"
    }
   ],
   "source": [
    "index = np.where(df['City'] > c_high)\n",
    "index"
   ]
  },
  {
   "cell_type": "code",
   "execution_count": 102,
   "id": "3f68fe7f",
   "metadata": {},
   "outputs": [
    {
     "data": {
      "text/plain": [
       "58.0"
      ]
     },
     "execution_count": 102,
     "metadata": {},
     "output_type": "execute_result"
    }
   ],
   "source": [
    "c_low = (q1.City - (1.5 * iqr.City))\n",
    "c_low"
   ]
  },
  {
   "cell_type": "code",
   "execution_count": 103,
   "id": "29991efe",
   "metadata": {},
   "outputs": [
    {
     "data": {
      "text/plain": [
       "(array([  22,   23,   24, ..., 9534, 9535, 9536], dtype=int64),)"
      ]
     },
     "execution_count": 103,
     "metadata": {},
     "output_type": "execute_result"
    }
   ],
   "source": [
    "index = np.where(df['City'] < c_low)\n",
    "index"
   ]
  },
  {
   "cell_type": "code",
   "execution_count": 104,
   "id": "27fd52c2",
   "metadata": {},
   "outputs": [],
   "source": [
    "df = df.drop(df.index[index])"
   ]
  },
  {
   "cell_type": "code",
   "execution_count": 105,
   "id": "e9aca6c4",
   "metadata": {},
   "outputs": [
    {
     "data": {
      "text/plain": [
       "(7396, 21)"
      ]
     },
     "execution_count": 105,
     "metadata": {},
     "output_type": "execute_result"
    }
   ],
   "source": [
    "df.shape"
   ]
  },
  {
   "cell_type": "code",
   "execution_count": null,
   "id": "a0dafb37",
   "metadata": {},
   "outputs": [],
   "source": []
  },
  {
   "cell_type": "code",
   "execution_count": null,
   "id": "a8e92941",
   "metadata": {},
   "outputs": [],
   "source": []
  },
  {
   "cell_type": "code",
   "execution_count": null,
   "id": "4fa4ba47",
   "metadata": {},
   "outputs": [],
   "source": []
  },
  {
   "cell_type": "code",
   "execution_count": 106,
   "id": "8c0aef10",
   "metadata": {},
   "outputs": [
    {
     "data": {
      "text/plain": [
       "13381.0"
      ]
     },
     "execution_count": 106,
     "metadata": {},
     "output_type": "execute_result"
    }
   ],
   "source": [
    "a_high = (q3.Address + (1.5 * iqr.Address))\n",
    "a_high"
   ]
  },
  {
   "cell_type": "code",
   "execution_count": 107,
   "id": "58fa1254",
   "metadata": {},
   "outputs": [
    {
     "data": {
      "text/plain": [
       "(array([], dtype=int64),)"
      ]
     },
     "execution_count": 107,
     "metadata": {},
     "output_type": "execute_result"
    }
   ],
   "source": [
    "index = np.where(df['Address'] > a_high)\n",
    "index"
   ]
  },
  {
   "cell_type": "code",
   "execution_count": 108,
   "id": "8213f43f",
   "metadata": {},
   "outputs": [
    {
     "data": {
      "text/plain": [
       "-4311.0"
      ]
     },
     "execution_count": 108,
     "metadata": {},
     "output_type": "execute_result"
    }
   ],
   "source": [
    "a_low = (q1.Address - (1.5 * iqr.Address))\n",
    "a_low"
   ]
  },
  {
   "cell_type": "code",
   "execution_count": 109,
   "id": "c7a90576",
   "metadata": {},
   "outputs": [
    {
     "data": {
      "text/plain": [
       "(array([], dtype=int64),)"
      ]
     },
     "execution_count": 109,
     "metadata": {},
     "output_type": "execute_result"
    }
   ],
   "source": [
    "index = np.where(df['Address'] < a_low)\n",
    "index"
   ]
  },
  {
   "cell_type": "code",
   "execution_count": null,
   "id": "44978f12",
   "metadata": {},
   "outputs": [],
   "source": []
  },
  {
   "cell_type": "code",
   "execution_count": null,
   "id": "f35fe801",
   "metadata": {},
   "outputs": [],
   "source": []
  },
  {
   "cell_type": "code",
   "execution_count": null,
   "id": "aa72e2c3",
   "metadata": {},
   "outputs": [],
   "source": []
  },
  {
   "cell_type": "code",
   "execution_count": 110,
   "id": "45a55753",
   "metadata": {},
   "outputs": [
    {
     "data": {
      "text/plain": [
       "1731.0"
      ]
     },
     "execution_count": 110,
     "metadata": {},
     "output_type": "execute_result"
    }
   ],
   "source": [
    "l_high = (q3.Locality + (1.5 * iqr.Locality))\n",
    "l_high"
   ]
  },
  {
   "cell_type": "code",
   "execution_count": 111,
   "id": "a7068c96",
   "metadata": {},
   "outputs": [
    {
     "data": {
      "text/plain": [
       "(array([], dtype=int64),)"
      ]
     },
     "execution_count": 111,
     "metadata": {},
     "output_type": "execute_result"
    }
   ],
   "source": [
    "index = np.where(df['Locality'] > l_high)\n",
    "index"
   ]
  },
  {
   "cell_type": "code",
   "execution_count": 112,
   "id": "c7394f3e",
   "metadata": {},
   "outputs": [
    {
     "data": {
      "text/plain": [
       "-429.0"
      ]
     },
     "execution_count": 112,
     "metadata": {},
     "output_type": "execute_result"
    }
   ],
   "source": [
    "l_low = (q1.Locality - (1.5 * iqr.Locality))\n",
    "l_low"
   ]
  },
  {
   "cell_type": "code",
   "execution_count": 113,
   "id": "54583540",
   "metadata": {},
   "outputs": [
    {
     "data": {
      "text/plain": [
       "(array([], dtype=int64),)"
      ]
     },
     "execution_count": 113,
     "metadata": {},
     "output_type": "execute_result"
    }
   ],
   "source": [
    "index = np.where(df['Locality'] < l_low)\n",
    "index"
   ]
  },
  {
   "cell_type": "code",
   "execution_count": null,
   "id": "3072a4ab",
   "metadata": {},
   "outputs": [],
   "source": []
  },
  {
   "cell_type": "code",
   "execution_count": null,
   "id": "a753dde0",
   "metadata": {},
   "outputs": [],
   "source": []
  },
  {
   "cell_type": "code",
   "execution_count": null,
   "id": "a1e80781",
   "metadata": {},
   "outputs": [],
   "source": []
  },
  {
   "cell_type": "code",
   "execution_count": 114,
   "id": "a181b325",
   "metadata": {},
   "outputs": [
    {
     "data": {
      "text/plain": [
       "1802.0"
      ]
     },
     "execution_count": 114,
     "metadata": {},
     "output_type": "execute_result"
    }
   ],
   "source": [
    "lv_high = (q3.LocalityVerbose + (1.5 * iqr.LocalityVerbose))\n",
    "lv_high"
   ]
  },
  {
   "cell_type": "code",
   "execution_count": 115,
   "id": "a9243620",
   "metadata": {},
   "outputs": [
    {
     "data": {
      "text/plain": [
       "(array([], dtype=int64),)"
      ]
     },
     "execution_count": 115,
     "metadata": {},
     "output_type": "execute_result"
    }
   ],
   "source": [
    "index = np.where(df['LocalityVerbose'] > lv_high)\n",
    "index"
   ]
  },
  {
   "cell_type": "code",
   "execution_count": 116,
   "id": "745ddaa5",
   "metadata": {},
   "outputs": [
    {
     "data": {
      "text/plain": [
       "-462.0"
      ]
     },
     "execution_count": 116,
     "metadata": {},
     "output_type": "execute_result"
    }
   ],
   "source": [
    "lv_low = (q1.LocalityVerbose - (1.5 * iqr.LocalityVerbose))\n",
    "lv_low"
   ]
  },
  {
   "cell_type": "code",
   "execution_count": 117,
   "id": "d55a7e3a",
   "metadata": {},
   "outputs": [
    {
     "data": {
      "text/plain": [
       "(array([], dtype=int64),)"
      ]
     },
     "execution_count": 117,
     "metadata": {},
     "output_type": "execute_result"
    }
   ],
   "source": [
    "index = np.where(df['LocalityVerbose'] < lv_low)\n",
    "index"
   ]
  },
  {
   "cell_type": "code",
   "execution_count": null,
   "id": "7ca5bec6",
   "metadata": {},
   "outputs": [],
   "source": []
  },
  {
   "cell_type": "code",
   "execution_count": null,
   "id": "5ebb8a06",
   "metadata": {},
   "outputs": [],
   "source": []
  },
  {
   "cell_type": "code",
   "execution_count": null,
   "id": "c0e8e3a3",
   "metadata": {},
   "outputs": [],
   "source": []
  },
  {
   "cell_type": "code",
   "execution_count": 118,
   "id": "7513050d",
   "metadata": {},
   "outputs": [
    {
     "data": {
      "text/plain": [
       "77.58300117500002"
      ]
     },
     "execution_count": 118,
     "metadata": {},
     "output_type": "execute_result"
    }
   ],
   "source": [
    "lo_high = (q3.Longitude + (1.5 * iqr.Longitude))\n",
    "lo_high"
   ]
  },
  {
   "cell_type": "code",
   "execution_count": 119,
   "id": "1ab13a79",
   "metadata": {},
   "outputs": [
    {
     "data": {
      "text/plain": [
       "(array([   0,    1,    2,    3,    4,    5,    6,    7,    8,    9,   10,\n",
       "          11,   12,   13,   14,   15,   16,   17,   18,   19,   20,   21,\n",
       "          62,   65,   66,   87,   89,   92,  114,  115,  116,  137,  200,\n",
       "         201,  202,  203,  204,  205,  206,  207,  208,  209,  210,  211,\n",
       "         212,  213,  214,  215,  216,  217,  218,  219,  260,  261,  283,\n",
       "         348,  349,  350,  351,  352,  354,  356,  357,  358,  359,  360,\n",
       "         361,  362,  363,  364,  365,  366,  367,  388,  389,  390,  391,\n",
       "         392,  393,  394,  395,  396,  397,  398,  399,  400,  401,  402,\n",
       "         403,  404,  405,  406,  407,  408,  410,  412,  413,  414,  415,\n",
       "         416,  417,  418,  420,  422,  423,  424,  425,  426,  427,  428,\n",
       "         510,  511,  513,  514,  515,  516,  517,  518,  519,  520,  521,\n",
       "         522,  523,  524,  525,  526,  527,  528,  529, 7105, 7108, 7109,\n",
       "        7110, 7111, 7112, 7113, 7114, 7115, 7116, 7117, 7118, 7119, 7120,\n",
       "        7121, 7122, 7123, 7124, 7125, 7126, 7127, 7128, 7129, 7130, 7131,\n",
       "        7132, 7133, 7134, 7135, 7136, 7137, 7138, 7139, 7140, 7141, 7142,\n",
       "        7143, 7164, 7167, 7168, 7169, 7170, 7171, 7172, 7173, 7174, 7176,\n",
       "        7178, 7179, 7180, 7181, 7182, 7183, 7184, 7185, 7226, 7227, 7233,\n",
       "        7234, 7235, 7236, 7237, 7238, 7239, 7240, 7241, 7243, 7244, 7246,\n",
       "        7247, 7248, 7249, 7250, 7251, 7255, 7256, 7257, 7259, 7260, 7261,\n",
       "        7263, 7264, 7265, 7266, 7267, 7268, 7269, 7270, 7271, 7272, 7273,\n",
       "        7274, 7275, 7276, 7277, 7278, 7280, 7281, 7282, 7283, 7284, 7285,\n",
       "        7286, 7287, 7288, 7289, 7290, 7291, 7292, 7293, 7294, 7295, 7296,\n",
       "        7297, 7298, 7299, 7300, 7301, 7302, 7303], dtype=int64),)"
      ]
     },
     "execution_count": 119,
     "metadata": {},
     "output_type": "execute_result"
    }
   ],
   "source": [
    "index = np.where(df['Longitude'] > lo_high)\n",
    "index"
   ]
  },
  {
   "cell_type": "code",
   "execution_count": 120,
   "id": "dd56782e",
   "metadata": {},
   "outputs": [
    {
     "data": {
      "text/plain": [
       "76.780348175"
      ]
     },
     "execution_count": 120,
     "metadata": {},
     "output_type": "execute_result"
    }
   ],
   "source": [
    "lo_low = (q1.Longitude - (1.5 * iqr.Longitude))\n",
    "lo_low"
   ]
  },
  {
   "cell_type": "code",
   "execution_count": 121,
   "id": "db61fcaf",
   "metadata": {},
   "outputs": [
    {
     "data": {
      "text/plain": [
       "(array([  22,   23,   24,   25,   26,   27,   28,   29,   30,   31,   32,\n",
       "          33,   34,   35,   36,   37,   38,   39,   40,   41,   42,   43,\n",
       "          44,   45,   46,   47,   48,   49,   50,   51,   52,   53,   54,\n",
       "          55,   56,   57,   58,   59,   60,   61,   63,   64,   67,   68,\n",
       "          69,   70,   71,   72,   73,   74,   75,   76,   77,   78,   79,\n",
       "          80,   81,   82,   83,   84,   85,   86,   88,   90,   91,   93,\n",
       "          94,   95,   96,   97,   98,   99,  100,  101,  102,  103,  104,\n",
       "         105,  106,  107,  108,  109,  110,  111,  112,  113,  117,  118,\n",
       "         119,  120,  121,  122,  123,  124,  125,  126,  127,  128,  129,\n",
       "         130,  131,  132,  133,  134,  135,  136,  138,  139,  140,  141,\n",
       "         142,  143,  144,  145,  146,  147,  148,  149,  150,  151,  152,\n",
       "         153,  154,  155,  156,  157,  158,  159,  160,  161,  162,  163,\n",
       "         164,  165,  166,  167,  168,  169,  170,  171,  172,  173,  174,\n",
       "         175,  176,  177,  178,  179,  180,  181,  182,  183,  184,  185,\n",
       "         186,  187,  188,  189,  190,  191,  192,  193,  194,  195,  196,\n",
       "         197,  198,  199,  220,  221,  222,  223,  224,  225,  226,  227,\n",
       "         228,  229,  230,  231,  232,  233,  234,  235,  236,  237,  238,\n",
       "         239,  240,  241,  242,  243,  244,  245,  246,  247,  248,  249,\n",
       "         250,  251,  252,  253,  254,  255,  256,  257,  258,  259,  262,\n",
       "         263,  264,  265,  266,  267,  268,  269,  270,  271,  272,  273,\n",
       "         274,  275,  276,  277,  278,  279,  280,  281,  282,  284,  285,\n",
       "         286,  287,  288,  289,  290,  291,  292,  293,  294,  295,  296,\n",
       "         297,  298,  299,  300,  301,  302,  303,  304,  305,  306,  307,\n",
       "         308,  309,  310,  311,  312,  313,  314,  315,  316,  317,  318,\n",
       "         319,  320,  321,  322,  323,  324,  325,  326,  327,  328,  329,\n",
       "         330,  331,  332,  333,  334,  335,  336,  337,  338,  339,  340,\n",
       "         341,  342,  343,  344,  345,  346,  347,  353,  355,  368,  369,\n",
       "         370,  371,  372,  373,  374,  375,  376,  377,  378,  379,  380,\n",
       "         381,  382,  383,  384,  385,  386,  387,  409,  411,  419,  421,\n",
       "         429,  430,  431,  432,  433,  434,  435,  436,  437,  438,  439,\n",
       "         440,  441,  442,  443,  444,  445,  446,  447,  448,  449,  450,\n",
       "         451,  452,  453,  454,  455,  456,  457,  458,  459,  460,  461,\n",
       "         462,  463,  464,  465,  466,  467,  468,  469,  470,  471,  472,\n",
       "         473,  474,  475,  476,  477,  478,  479,  480,  481,  482,  483,\n",
       "         484,  485,  486,  487,  488,  489,  490,  491,  492,  493,  494,\n",
       "         495,  496,  497,  498,  499,  500,  501,  502,  503,  504,  505,\n",
       "         506,  507,  508,  509,  512,  530,  531,  532,  533,  534,  535,\n",
       "         536,  537,  538,  539,  540,  541,  542,  543,  544,  545,  546,\n",
       "         547,  548,  549,  550,  583,  608,  714,  878,  888,  920,  925,\n",
       "         927,  946,  949, 1153, 1154, 1156, 1169, 1178, 1387, 1452, 1459,\n",
       "        1478, 1483, 1485, 1487, 1488, 1489, 1491, 1493, 1502, 1503, 1504,\n",
       "        1515, 1551, 1599, 1609, 1611, 1613, 1617, 1619, 1627, 1628, 1649,\n",
       "        1666, 1766, 1773, 1775, 1780, 1790, 1810, 1811, 1815, 1822, 1838,\n",
       "        1849, 1850, 1875, 1894, 1958, 1959, 2015, 2023, 2051, 2056, 2061,\n",
       "        2067, 2080, 2286, 2304, 2361, 2372, 2446, 2447, 2454, 2466, 2494,\n",
       "        2516, 2526, 2590, 2714, 2725, 2727, 2737, 2764, 2770, 2771, 2778,\n",
       "        2789, 2797, 2802, 2804, 2833, 2847, 2849, 2884, 2929, 2970, 2983,\n",
       "        2993, 3051, 3059, 3062, 3096, 3268, 3277, 3278, 3282, 3284, 3285,\n",
       "        3290, 3291, 3292, 3295, 3297, 3499, 3509, 3511, 3522, 3532, 3533,\n",
       "        3534, 3544, 3575, 3596, 3641, 3724, 3770, 3772, 3783, 3798, 3800,\n",
       "        3802, 3886, 3894, 3915, 3924, 3925, 3927, 3928, 3929, 3930, 3931,\n",
       "        3935, 3936, 3949, 3988, 4010, 4032, 4101, 4140, 4141, 4151, 4216,\n",
       "        4281, 4290, 4349, 4357, 4462, 4471, 4528, 4603, 4604, 4672, 4777,\n",
       "        4794, 4804, 4822, 4824, 4825, 4826, 4829, 4830, 4833, 4853, 4862,\n",
       "        4872, 4873, 4874, 4932, 4954, 4971, 4973, 4984, 5009, 5120, 5132,\n",
       "        5139, 5146, 5151, 5161, 5201, 5227, 5244, 5267, 5270, 5272, 5276,\n",
       "        5277, 5335, 5341, 5344, 5345, 5374, 5386, 5395, 5398, 5541, 5579,\n",
       "        5587, 5594, 5650, 5716, 5739, 5753, 5760, 5762, 5763, 5783, 5794,\n",
       "        5796, 5797, 5799, 5802, 5803, 5823, 5824, 5826, 5878, 5880, 5909,\n",
       "        5918, 5938, 5942, 5952, 5977, 6010, 6055, 6056, 6159, 6169, 6196,\n",
       "        6215, 6238, 6248, 6251, 6255, 6256, 6259, 6261, 6262, 6287, 6303,\n",
       "        6308, 6317, 6320, 6321, 6322, 6326, 6335, 6336, 6340, 6360, 6367,\n",
       "        6371, 6380, 6381, 6462, 6474, 6495, 6511, 6514, 6515, 6539, 6547,\n",
       "        6548, 6587, 6602, 6608, 6610, 6613, 6649, 6650, 6651, 6654, 6655,\n",
       "        6660, 6675, 6678, 6680, 6681, 6683, 6686, 6689, 6694, 6732, 6750,\n",
       "        6760, 6761, 6762, 6763, 6768, 6772, 6818, 6831, 6833, 6835, 6836,\n",
       "        6852, 6863, 6876, 6890, 6892, 6910, 6916, 6919, 6922, 6923, 6924,\n",
       "        6925, 6934, 6935, 6937, 6938, 6979, 6986, 6987, 6991, 7019, 7035,\n",
       "        7089, 7104, 7106, 7107, 7144, 7145, 7146, 7147, 7148, 7149, 7150,\n",
       "        7151, 7152, 7153, 7154, 7155, 7156, 7157, 7158, 7159, 7160, 7161,\n",
       "        7162, 7163, 7165, 7166, 7175, 7177, 7186, 7187, 7188, 7189, 7190,\n",
       "        7191, 7192, 7193, 7194, 7195, 7196, 7197, 7198, 7199, 7200, 7201,\n",
       "        7202, 7203, 7204, 7205, 7206, 7207, 7208, 7209, 7210, 7211, 7212,\n",
       "        7213, 7214, 7215, 7216, 7217, 7218, 7219, 7220, 7221, 7222, 7223,\n",
       "        7224, 7225, 7228, 7229, 7230, 7231, 7232, 7242, 7245, 7252, 7253,\n",
       "        7254, 7258, 7262, 7279, 7304, 7305, 7306, 7307, 7308, 7309, 7310,\n",
       "        7311, 7312, 7313, 7314, 7315, 7316, 7317, 7318, 7319, 7320, 7321,\n",
       "        7322, 7323, 7324, 7325, 7326, 7327, 7328, 7329, 7330, 7331, 7332,\n",
       "        7333, 7334, 7335, 7336, 7337, 7338, 7339, 7340, 7341, 7342, 7343,\n",
       "        7344, 7345, 7346, 7347, 7348, 7349, 7350, 7351, 7352, 7353, 7354,\n",
       "        7355, 7356, 7357, 7358, 7359, 7360, 7361, 7362, 7363, 7364, 7365,\n",
       "        7366, 7367, 7368, 7369, 7370, 7371, 7372, 7373, 7374, 7375, 7376,\n",
       "        7377, 7378, 7379, 7380, 7381, 7382, 7383, 7384, 7385, 7386, 7387,\n",
       "        7388, 7389, 7390, 7391, 7392, 7393, 7394, 7395], dtype=int64),)"
      ]
     },
     "execution_count": 121,
     "metadata": {},
     "output_type": "execute_result"
    }
   ],
   "source": [
    "index = np.where(df['Longitude'] < lo_low)\n",
    "index"
   ]
  },
  {
   "cell_type": "code",
   "execution_count": null,
   "id": "f1196903",
   "metadata": {},
   "outputs": [],
   "source": []
  },
  {
   "cell_type": "code",
   "execution_count": null,
   "id": "95a4c492",
   "metadata": {},
   "outputs": [],
   "source": []
  },
  {
   "cell_type": "code",
   "execution_count": null,
   "id": "65991f04",
   "metadata": {},
   "outputs": [],
   "source": []
  },
  {
   "cell_type": "code",
   "execution_count": null,
   "id": "cea6a06e",
   "metadata": {},
   "outputs": [],
   "source": []
  },
  {
   "cell_type": "code",
   "execution_count": 122,
   "id": "3714be57",
   "metadata": {},
   "outputs": [
    {
     "data": {
      "text/plain": [
       "28.888826599999994"
      ]
     },
     "execution_count": 122,
     "metadata": {},
     "output_type": "execute_result"
    }
   ],
   "source": [
    "la_high = (q3.Latitude + (1.5 * iqr.Latitude))\n",
    "la_high"
   ]
  },
  {
   "cell_type": "code",
   "execution_count": 123,
   "id": "c2d60e96",
   "metadata": {},
   "outputs": [
    {
     "data": {
      "text/plain": [
       "(array([  63,   64,   67,   68,   69,   70,   71,   72,   73,   74,   75,\n",
       "          76,   77,   78,   79,   80,   81,   82,   83,   84,   85,   86,\n",
       "          88,   90,   91,   93,  117,  118,  119,  120,  121,  122,  123,\n",
       "         124,  125,  126,  127,  128,  129,  130,  131,  132,  133,  134,\n",
       "         135,  136,  138,  139,  140,  141,  142,  143,  144,  145,  146,\n",
       "         147,  148,  149,  150,  151,  152,  153,  154,  155,  156,  157,\n",
       "         158,  159,  180,  181,  182,  183,  184,  185,  186,  187,  188,\n",
       "         189,  190,  191,  192,  193,  194,  195,  196,  197,  198,  199,\n",
       "         220,  221,  222,  223,  224,  225,  226,  227,  228,  229,  230,\n",
       "         231,  232,  233,  234,  235,  236,  237,  238,  239,  262,  263,\n",
       "         264,  265,  266,  267,  268,  269,  270,  271,  272,  273,  274,\n",
       "         275,  276,  277,  278,  279,  280,  281,  282,  284,  285,  286,\n",
       "         287,  288,  289,  290,  291,  292,  293,  294,  295,  296,  297,\n",
       "         298,  299,  300,  301,  302,  303,  304,  305,  306,  307,  429,\n",
       "         431,  432,  433,  434,  436,  437,  438,  439,  440,  441,  442,\n",
       "         443,  444,  445,  446,  447,  448,  469, 1503, 7103, 7304, 7305,\n",
       "        7306, 7307, 7308, 7309, 7310, 7311, 7312, 7313, 7314, 7315, 7316,\n",
       "        7317, 7318, 7319, 7320, 7321, 7322, 7323, 7324, 7325, 7326, 7327,\n",
       "        7328, 7329, 7330, 7331, 7332, 7333, 7334, 7335, 7336, 7337, 7338,\n",
       "        7339, 7340, 7341, 7342, 7343, 7382, 7383, 7384, 7385, 7386, 7387,\n",
       "        7388, 7389, 7390, 7391, 7392, 7393, 7394, 7395], dtype=int64),)"
      ]
     },
     "execution_count": 123,
     "metadata": {},
     "output_type": "execute_result"
    }
   ],
   "source": [
    "index = np.where(df['Latitude'] > la_high)\n",
    "index"
   ]
  },
  {
   "cell_type": "code",
   "execution_count": 124,
   "id": "1b2dc787",
   "metadata": {},
   "outputs": [],
   "source": [
    "df = df.drop(df.index[index])"
   ]
  },
  {
   "cell_type": "code",
   "execution_count": 125,
   "id": "22382b58",
   "metadata": {},
   "outputs": [
    {
     "data": {
      "text/plain": [
       "(7168, 21)"
      ]
     },
     "execution_count": 125,
     "metadata": {},
     "output_type": "execute_result"
    }
   ],
   "source": [
    "df.shape"
   ]
  },
  {
   "cell_type": "code",
   "execution_count": 126,
   "id": "bb19474d",
   "metadata": {},
   "outputs": [
    {
     "data": {
      "text/plain": [
       "28.232644200000003"
      ]
     },
     "execution_count": 126,
     "metadata": {},
     "output_type": "execute_result"
    }
   ],
   "source": [
    "la_low = (q1.Latitude - (1.5 * iqr.Latitude))\n",
    "la_low"
   ]
  },
  {
   "cell_type": "code",
   "execution_count": 127,
   "id": "aada5539",
   "metadata": {},
   "outputs": [
    {
     "data": {
      "text/plain": [
       "(array([   0,    1,    2,    3,    4,    5,    6,    7,    8,    9,   10,\n",
       "          11,   12,   13,   14,   15,   16,   17,   18,   19,   20,   21,\n",
       "          22,   23,   24,   25,   26,   27,   28,   29,   30,   31,   32,\n",
       "          33,   34,   35,   36,   37,   38,   39,   40,   41,   42,   43,\n",
       "          44,   45,   46,   47,   48,   49,   50,   51,   52,   53,   54,\n",
       "          55,   56,   57,   58,   59,   60,   61,   62,   63,   64,   65,\n",
       "          66,   67,   88,   89,   90,   91,   92,   93,   94,   95,   96,\n",
       "          97,   98,   99,  100,  101,  102,  103,  104,  105,  106,  107,\n",
       "         108,  109,  110,  111,  112,  113,  114,  115,  116,  117,  118,\n",
       "         119,  120,  121,  122,  123,  124,  125,  126,  127,  128,  129,\n",
       "         130,  131,  132,  133,  134,  135,  136,  137,  138,  139,  140,\n",
       "         141,  142,  143,  144,  145,  146,  147,  148,  149,  150,  151,\n",
       "         152,  153,  154,  155,  156,  157,  158,  159,  160,  161,  162,\n",
       "         163,  164,  165,  166,  167,  168,  169,  170,  171,  172,  173,\n",
       "         174,  175,  176,  177,  178,  179,  180,  181,  182,  183,  184,\n",
       "         185,  186,  187,  188,  189,  190,  191,  192,  193,  194,  195,\n",
       "         196,  197,  198,  199,  200,  201,  202,  203,  204,  205,  206,\n",
       "         207,  208,  209,  210,  211,  212,  213,  214,  215,  216,  217,\n",
       "         218,  219,  220,  221,  222,  223,  224,  225,  226,  227,  228,\n",
       "         229,  230,  231,  232,  233,  234,  235,  236,  237,  238,  239,\n",
       "         240,  241,  242,  243,  244,  245,  246,  247,  248,  249,  250,\n",
       "         251,  252,  253,  254,  255,  256,  257,  258,  259,  260,  261,\n",
       "         262,  263,  264,  265,  266,  267,  268,  269,  270,  271,  272,\n",
       "         273,  274,  275,  276,  277,  278,  279,  280,  281,  282,  283,\n",
       "         284,  285,  286,  287,  288,  289,  290,  291,  292,  293,  294,\n",
       "         295,  296,  297,  298,  299,  300,  301,  302,  303,  304,  305,\n",
       "         306,  307,  308,  309,  310,  311,  312,  313,  314,  315,  316,\n",
       "         317,  318,  319,  320,  321,  322,  323,  324,  325,  326,  327,\n",
       "         328,  329,  330,  331,  332,  333,  334,  335,  336,  337,  338,\n",
       "         339,  340,  341,  342,  343,  344,  345,  346,  347,  348,  349,\n",
       "         350,  351,  352,  353,  354,  355,  356,  357,  358,  359,  360,\n",
       "         361,  362,  363,  364,  365,  366,  367,  368,  369,  370,  371,\n",
       "         372,  373,  374,  375,  376,  377,  378,  411,  436,  542,  706,\n",
       "         716,  748,  753,  755,  774,  777,  981,  982,  984,  997, 1006,\n",
       "        1215, 1280, 1287, 1306, 1311, 1313, 1315, 1316, 1317, 1319, 1321,\n",
       "        1330, 1331, 1342, 1378, 1426, 1436, 1438, 1440, 1444, 1446, 1454,\n",
       "        1455, 1476, 1493, 1593, 1600, 1602, 1607, 1617, 1637, 1638, 1642,\n",
       "        1649, 1665, 1676, 1677, 1702, 1721, 1785, 1786, 1842, 1850, 1878,\n",
       "        1883, 1888, 1894, 1907, 2113, 2131, 2188, 2199, 2273, 2274, 2281,\n",
       "        2293, 2321, 2343, 2353, 2417, 2541, 2552, 2554, 2564, 2591, 2597,\n",
       "        2598, 2605, 2616, 2624, 2629, 2631, 2660, 2674, 2676, 2711, 2756,\n",
       "        2797, 2810, 2820, 2878, 2886, 2889, 2923, 3095, 3104, 3105, 3109,\n",
       "        3111, 3112, 3117, 3118, 3119, 3122, 3124, 3326, 3336, 3338, 3349,\n",
       "        3359, 3360, 3361, 3371, 3402, 3423, 3468, 3551, 3597, 3599, 3610,\n",
       "        3625, 3627, 3629, 3713, 3721, 3742, 3751, 3752, 3754, 3755, 3756,\n",
       "        3757, 3758, 3762, 3763, 3776, 3815, 3837, 3859, 3928, 3967, 3968,\n",
       "        3978, 4043, 4108, 4117, 4176, 4184, 4289, 4298, 4355, 4430, 4431,\n",
       "        4499, 4604, 4621, 4631, 4649, 4651, 4652, 4653, 4656, 4657, 4660,\n",
       "        4680, 4689, 4699, 4700, 4701, 4759, 4781, 4798, 4800, 4811, 4836,\n",
       "        4947, 4959, 4966, 4973, 4978, 4988, 5028, 5054, 5071, 5094, 5097,\n",
       "        5099, 5103, 5104, 5162, 5168, 5171, 5172, 5201, 5213, 5222, 5225,\n",
       "        5368, 5406, 5414, 5421, 5477, 5543, 5566, 5580, 5587, 5589, 5590,\n",
       "        5610, 5621, 5623, 5624, 5626, 5629, 5630, 5650, 5651, 5653, 5705,\n",
       "        5707, 5736, 5745, 5765, 5769, 5779, 5804, 5837, 5882, 5883, 5986,\n",
       "        5996, 6023, 6042, 6065, 6075, 6078, 6082, 6083, 6086, 6088, 6089,\n",
       "        6114, 6130, 6135, 6144, 6147, 6148, 6149, 6153, 6162, 6163, 6167,\n",
       "        6187, 6194, 6198, 6207, 6208, 6289, 6301, 6322, 6338, 6341, 6342,\n",
       "        6366, 6374, 6375, 6414, 6429, 6435, 6437, 6440, 6476, 6477, 6478,\n",
       "        6481, 6482, 6487, 6502, 6505, 6507, 6508, 6510, 6513, 6516, 6521,\n",
       "        6559, 6577, 6587, 6588, 6589, 6590, 6595, 6599, 6645, 6658, 6660,\n",
       "        6662, 6663, 6679, 6690, 6703, 6717, 6719, 6737, 6743, 6746, 6749,\n",
       "        6750, 6751, 6752, 6761, 6762, 6764, 6765, 6806, 6813, 6814, 6818,\n",
       "        6846, 6862, 6916, 6930, 6931, 6932, 6933, 6934, 6935, 6936, 6937,\n",
       "        6938, 6939, 6940, 6941, 6942, 6943, 6944, 6945, 6946, 6947, 6948,\n",
       "        6949, 6950, 6951, 6952, 6953, 6954, 6955, 6956, 6957, 6958, 6959,\n",
       "        6960, 6961, 6962, 6963, 6964, 6965, 6966, 6967, 6968, 6969, 6970,\n",
       "        6971, 6972, 6973, 6974, 6975, 6976, 6977, 6978, 6979, 6980, 6981,\n",
       "        6982, 6983, 6984, 6985, 6986, 6987, 6988, 6989, 6990, 6991, 6992,\n",
       "        6993, 6994, 6995, 6996, 6997, 6998, 6999, 7000, 7001, 7002, 7003,\n",
       "        7004, 7005, 7006, 7007, 7008, 7009, 7010, 7011, 7012, 7013, 7014,\n",
       "        7015, 7016, 7017, 7018, 7019, 7020, 7021, 7022, 7023, 7024, 7025,\n",
       "        7026, 7027, 7028, 7029, 7030, 7031, 7032, 7033, 7034, 7035, 7036,\n",
       "        7037, 7038, 7039, 7040, 7041, 7042, 7043, 7044, 7045, 7046, 7047,\n",
       "        7048, 7049, 7050, 7051, 7052, 7053, 7054, 7055, 7056, 7057, 7058,\n",
       "        7059, 7060, 7061, 7062, 7063, 7064, 7065, 7066, 7067, 7068, 7069,\n",
       "        7070, 7071, 7072, 7073, 7074, 7075, 7076, 7077, 7078, 7079, 7080,\n",
       "        7081, 7082, 7083, 7084, 7085, 7086, 7087, 7088, 7089, 7090, 7091,\n",
       "        7092, 7093, 7094, 7095, 7096, 7097, 7098, 7099, 7100, 7101, 7102,\n",
       "        7103, 7104, 7105, 7106, 7107, 7108, 7109, 7110, 7111, 7112, 7113,\n",
       "        7114, 7115, 7116, 7117, 7118, 7119, 7120, 7121, 7122, 7123, 7124,\n",
       "        7125, 7126, 7127, 7128, 7129, 7130, 7131, 7132, 7133, 7134, 7135,\n",
       "        7136, 7137, 7138, 7139, 7140, 7141, 7142, 7143, 7144, 7145, 7146,\n",
       "        7147, 7148, 7149, 7150, 7151, 7152, 7153, 7154, 7155, 7156, 7157,\n",
       "        7158, 7159, 7160, 7161, 7162, 7163, 7164, 7165, 7166, 7167],\n",
       "       dtype=int64),)"
      ]
     },
     "execution_count": 127,
     "metadata": {},
     "output_type": "execute_result"
    }
   ],
   "source": [
    "index = np.where(df['Latitude'] < la_low)\n",
    "index"
   ]
  },
  {
   "cell_type": "code",
   "execution_count": 128,
   "id": "c637bc9d",
   "metadata": {},
   "outputs": [],
   "source": [
    "df = df.drop(df.index[index])"
   ]
  },
  {
   "cell_type": "code",
   "execution_count": 129,
   "id": "bbd07f24",
   "metadata": {},
   "outputs": [
    {
     "data": {
      "text/plain": [
       "(6245, 21)"
      ]
     },
     "execution_count": 129,
     "metadata": {},
     "output_type": "execute_result"
    }
   ],
   "source": [
    "df.shape"
   ]
  },
  {
   "cell_type": "code",
   "execution_count": null,
   "id": "25c07c58",
   "metadata": {},
   "outputs": [],
   "source": []
  },
  {
   "cell_type": "code",
   "execution_count": null,
   "id": "9cbfc72d",
   "metadata": {},
   "outputs": [],
   "source": []
  },
  {
   "cell_type": "code",
   "execution_count": null,
   "id": "91ff177e",
   "metadata": {},
   "outputs": [],
   "source": []
  },
  {
   "cell_type": "code",
   "execution_count": null,
   "id": "27c412aa",
   "metadata": {},
   "outputs": [],
   "source": []
  },
  {
   "cell_type": "code",
   "execution_count": 130,
   "id": "5bb369f2",
   "metadata": {},
   "outputs": [
    {
     "data": {
      "text/plain": [
       "2642.0"
      ]
     },
     "execution_count": 130,
     "metadata": {},
     "output_type": "execute_result"
    }
   ],
   "source": [
    "cu_high = (q3.Cuisines + (1.5 * iqr.Cuisines))\n",
    "cu_high"
   ]
  },
  {
   "cell_type": "code",
   "execution_count": 131,
   "id": "04f9a1c3",
   "metadata": {},
   "outputs": [
    {
     "data": {
      "text/plain": [
       "(array([], dtype=int64),)"
      ]
     },
     "execution_count": 131,
     "metadata": {},
     "output_type": "execute_result"
    }
   ],
   "source": [
    "index = np.where(df['Cuisines'] > cu_high)\n",
    "index"
   ]
  },
  {
   "cell_type": "code",
   "execution_count": 132,
   "id": "9c0c674e",
   "metadata": {},
   "outputs": [
    {
     "data": {
      "text/plain": [
       "-790.0"
      ]
     },
     "execution_count": 132,
     "metadata": {},
     "output_type": "execute_result"
    }
   ],
   "source": [
    "cu_low = (q1.Cuisines - (1.5 * iqr.Cuisines))\n",
    "cu_low"
   ]
  },
  {
   "cell_type": "code",
   "execution_count": 133,
   "id": "ae5ec5a0",
   "metadata": {},
   "outputs": [
    {
     "data": {
      "text/plain": [
       "(array([], dtype=int64),)"
      ]
     },
     "execution_count": 133,
     "metadata": {},
     "output_type": "execute_result"
    }
   ],
   "source": [
    "index = np.where(df['Cuisines'] < cu_low)\n",
    "index"
   ]
  },
  {
   "cell_type": "code",
   "execution_count": null,
   "id": "f399823f",
   "metadata": {},
   "outputs": [],
   "source": []
  },
  {
   "cell_type": "code",
   "execution_count": null,
   "id": "da3fd77b",
   "metadata": {},
   "outputs": [],
   "source": []
  },
  {
   "cell_type": "code",
   "execution_count": null,
   "id": "2ed09e37",
   "metadata": {},
   "outputs": [],
   "source": []
  },
  {
   "cell_type": "code",
   "execution_count": 134,
   "id": "dde12c21",
   "metadata": {},
   "outputs": [
    {
     "data": {
      "text/plain": [
       "4.0"
      ]
     },
     "execution_count": 134,
     "metadata": {},
     "output_type": "execute_result"
    }
   ],
   "source": [
    "c_high = (q3.Currency + (1.5 * iqr.Currency))\n",
    "c_high"
   ]
  },
  {
   "cell_type": "code",
   "execution_count": 135,
   "id": "e459bf4c",
   "metadata": {},
   "outputs": [
    {
     "data": {
      "text/plain": [
       "(array([], dtype=int64),)"
      ]
     },
     "execution_count": 135,
     "metadata": {},
     "output_type": "execute_result"
    }
   ],
   "source": [
    "index = np.where(df['Currency'] > c_high)\n",
    "index"
   ]
  },
  {
   "cell_type": "code",
   "execution_count": 136,
   "id": "7460188c",
   "metadata": {},
   "outputs": [],
   "source": [
    "df = df.drop(df.index[index])"
   ]
  },
  {
   "cell_type": "code",
   "execution_count": 137,
   "id": "ab9ef67c",
   "metadata": {},
   "outputs": [
    {
     "data": {
      "text/plain": [
       "(6245, 21)"
      ]
     },
     "execution_count": 137,
     "metadata": {},
     "output_type": "execute_result"
    }
   ],
   "source": [
    "df.shape"
   ]
  },
  {
   "cell_type": "code",
   "execution_count": 138,
   "id": "c018f704",
   "metadata": {},
   "outputs": [
    {
     "data": {
      "text/plain": [
       "4.0"
      ]
     },
     "execution_count": 138,
     "metadata": {},
     "output_type": "execute_result"
    }
   ],
   "source": [
    "c_low = (q1.Currency - (1.5 * iqr.Currency))\n",
    "c_low"
   ]
  },
  {
   "cell_type": "code",
   "execution_count": 139,
   "id": "fec20ffa",
   "metadata": {},
   "outputs": [
    {
     "data": {
      "text/plain": [
       "(array([ 0,  1,  2,  3,  4,  5,  6,  7,  8,  9, 10, 11, 12, 13, 14, 15, 16,\n",
       "        17, 18, 19], dtype=int64),)"
      ]
     },
     "execution_count": 139,
     "metadata": {},
     "output_type": "execute_result"
    }
   ],
   "source": [
    "index = np.where(df['Currency'] < c_low)\n",
    "index"
   ]
  },
  {
   "cell_type": "code",
   "execution_count": 140,
   "id": "2cbeb324",
   "metadata": {},
   "outputs": [],
   "source": [
    "df = df.drop(df.index[index])"
   ]
  },
  {
   "cell_type": "code",
   "execution_count": 141,
   "id": "5c2a4ee6",
   "metadata": {},
   "outputs": [
    {
     "data": {
      "text/plain": [
       "(6225, 21)"
      ]
     },
     "execution_count": 141,
     "metadata": {},
     "output_type": "execute_result"
    }
   ],
   "source": [
    "df.shape"
   ]
  },
  {
   "cell_type": "code",
   "execution_count": null,
   "id": "f6a7a57e",
   "metadata": {},
   "outputs": [],
   "source": []
  },
  {
   "cell_type": "code",
   "execution_count": null,
   "id": "a2c23f5d",
   "metadata": {},
   "outputs": [],
   "source": []
  },
  {
   "cell_type": "code",
   "execution_count": null,
   "id": "ecc752e2",
   "metadata": {},
   "outputs": [],
   "source": []
  },
  {
   "cell_type": "code",
   "execution_count": 142,
   "id": "026f5d01",
   "metadata": {},
   "outputs": [
    {
     "data": {
      "text/plain": [
       "0.0"
      ]
     },
     "execution_count": 142,
     "metadata": {},
     "output_type": "execute_result"
    }
   ],
   "source": [
    "hb_high = (q3.HasTableBooking + (1.5 * iqr.HasTableBooking))\n",
    "hb_high"
   ]
  },
  {
   "cell_type": "code",
   "execution_count": 143,
   "id": "891ee74e",
   "metadata": {},
   "outputs": [
    {
     "data": {
      "text/plain": [
       "(array([   1,    8,   10,   11,   12,   14,   16,   18,   21,   23,   25,\n",
       "          63,   64,   65,   70,   72,  115,  118,  119,  120,  136,  166,\n",
       "         169,  171,  172,  175,  197,  207,  213,  215,  217,  218,  219,\n",
       "         220,  221,  222,  224,  239,  241,  244,  247,  255,  263,  351,\n",
       "         354,  371,  386,  391,  392,  393,  394,  397,  400,  409,  418,\n",
       "         425,  426,  428,  429,  431,  440,  443,  445,  451,  452,  457,\n",
       "         458,  459,  463,  464,  467,  469,  476,  477,  482,  487,  492,\n",
       "         494,  495,  497,  501,  504,  506,  507,  508,  509,  510,  512,\n",
       "         513,  516,  517,  521,  522,  523,  527,  528,  529,  531,  532,\n",
       "         533,  534,  535,  536,  537,  538,  540,  542,  543,  544,  545,\n",
       "         549,  551,  555,  557,  559,  560,  561,  562,  563,  565,  582,\n",
       "         586,  609,  616,  632,  643,  645,  653,  654,  659,  661,  662,\n",
       "         663,  664,  665,  667,  671,  672,  681,  682,  684,  685,  686,\n",
       "         687,  689,  690,  712,  716,  723,  734,  739,  743,  758,  762,\n",
       "         779,  790,  839,  842,  844,  851,  852,  859,  878,  930,  944,\n",
       "         947,  953,  961,  964,  987,  994,  995,  996,  997,  999, 1000,\n",
       "        1002, 1005, 1013, 1040, 1043, 1046, 1051, 1053, 1065, 1072, 1075,\n",
       "        1079, 1081, 1083, 1085, 1091, 1093, 1094, 1100, 1112, 1113, 1119,\n",
       "        1123, 1129, 1130, 1131, 1137, 1138, 1144, 1145, 1146, 1149, 1150,\n",
       "        1154, 1158, 1161, 1163, 1165, 1166, 1168, 1171, 1175, 1180, 1184,\n",
       "        1189, 1190, 1192, 1194, 1197, 1200, 1202, 1204, 1220, 1229, 1231,\n",
       "        1235, 1257, 1290, 1297, 1303, 1331, 1336, 1340, 1358, 1359, 1360,\n",
       "        1363, 1365, 1366, 1367, 1368, 1370, 1371, 1374, 1375, 1376, 1378,\n",
       "        1379, 1381, 1382, 1384, 1385, 1387, 1388, 1389, 1390, 1391, 1393,\n",
       "        1394, 1395, 1396, 1397, 1399, 1400, 1401, 1402, 1404, 1405, 1406,\n",
       "        1419, 1428, 1445, 1455, 1487, 1488, 1561, 1568, 1577, 1595, 1598,\n",
       "        1646, 1655, 1662, 1671, 1674, 1678, 1679, 1680, 1684, 1685, 1688,\n",
       "        1691, 1692, 1694, 1700, 1701, 1704, 1706, 1708, 1710, 1716, 1717,\n",
       "        1718, 1719, 1721, 1722, 1724, 1726, 1739, 1746, 1751, 1754, 1759,\n",
       "        1813, 1822, 1839, 1845, 1882, 1891, 1902, 1903, 1905, 1906, 1908,\n",
       "        1909, 1911, 1912, 1916, 1922, 1923, 1937, 1944, 1946, 1953, 1957,\n",
       "        1959, 1965, 1990, 1993, 2003, 2005, 2006, 2011, 2013, 2015, 2020,\n",
       "        2023, 2028, 2030, 2031, 2032, 2034, 2035, 2039, 2040, 2043, 2050,\n",
       "        2052, 2053, 2075, 2078, 2081, 2082, 2084, 2087, 2088, 2132, 2163,\n",
       "        2187, 2210, 2229, 2304, 2306, 2307, 2308, 2309, 2314, 2318, 2324,\n",
       "        2329, 2330, 2335, 2342, 2344, 2348, 2349, 2360, 2362, 2369, 2372,\n",
       "        2382, 2383, 2386, 2388, 2391, 2432, 2436, 2437, 2438, 2467, 2476,\n",
       "        2493, 2494, 2515, 2527, 2528, 2529, 2540, 2553, 2577, 2580, 2589,\n",
       "        2615, 2657, 2673, 2688, 2724, 2745, 2761, 2763, 2765, 2766, 2767,\n",
       "        2768, 2769, 2785, 2796, 2802, 2806, 2826, 2827, 2832, 2846, 2938,\n",
       "        3000, 3013, 3093, 3132, 3147, 3161, 3162, 3163, 3176, 3183, 3195,\n",
       "        3203, 3209, 3210, 3245, 3252, 3269, 3283, 3287, 3288, 3293, 3302,\n",
       "        3304, 3311, 3313, 3318, 3319, 3321, 3326, 3332, 3341, 3342, 3344,\n",
       "        3348, 3431, 3432, 3434, 3436, 3438, 3493, 3512, 3519, 3520, 3534,\n",
       "        3567, 3611, 3622, 3623, 3626, 3643, 3669, 3670, 3671, 3675, 3676,\n",
       "        3695, 3698, 3701, 3702, 3707, 3717, 3718, 3725, 3727, 3729, 3730,\n",
       "        3733, 3736, 3737, 3743, 3745, 3770, 3807, 3808, 3811, 3812, 3814,\n",
       "        3825, 3837, 3854, 3857, 3900, 3905, 3912, 3922, 3932, 3935, 3938,\n",
       "        3939, 3946, 3948, 3949, 3952, 3955, 3956, 3957, 3958, 3959, 3960,\n",
       "        3961, 3966, 3969, 3971, 3972, 3974, 3975, 3981, 3982, 3983, 3985,\n",
       "        3987, 3990, 3993, 3994, 3997, 4019, 4021, 4033, 4045, 4048, 4049,\n",
       "        4094, 4101, 4104, 4113, 4114, 4118, 4119, 4151, 4152, 4161, 4172,\n",
       "        4176, 4186, 4187, 4189, 4191, 4257, 4258, 4264, 4271, 4277, 4283,\n",
       "        4286, 4303, 4327, 4329, 4330, 4339, 4341, 4345, 4428, 4434, 4436,\n",
       "        4438, 4449, 4452, 4539, 4540, 4541, 4542, 4543, 4548, 4549, 4550,\n",
       "        4554, 4578, 4582, 4592, 4596, 4599, 4601, 4602, 4610, 4611, 4612,\n",
       "        4614, 4663, 4666, 4667, 4684, 4685, 4705, 4706, 4707, 4709, 4713,\n",
       "        4715, 4716, 4717, 4720, 4721, 4722, 4724, 4725, 4726, 4727, 4728,\n",
       "        4729, 4730, 4731, 4733, 4734, 4735, 4736, 4737, 4741, 4745, 4746,\n",
       "        4748, 4749, 4751, 4752, 4753, 4754, 4755, 4756, 4757, 4758, 4762,\n",
       "        4763, 4764, 4765, 4766, 4769, 4773, 4774, 4775, 4776, 4777, 4778,\n",
       "        4779, 4781, 4782, 4784, 4785, 4786, 4914, 4923, 4926, 4934, 4936,\n",
       "        4937, 4941, 4947, 4948, 4951, 4953, 4968, 4974, 4983, 4990, 5052,\n",
       "        5062, 5063, 5071, 5097, 5127, 5130, 5132, 5182, 5210, 5241, 5248,\n",
       "        5250, 5251, 5252, 5253, 5258, 5261, 5268, 5272, 5273, 5274, 5275,\n",
       "        5276, 5281, 5282, 5287, 5291, 5294, 5295, 5303, 5306, 5312, 5322,\n",
       "        5324, 5341, 5347, 5348, 5349, 5350, 5364, 5366, 5367, 5368, 5399,\n",
       "        5400, 5409, 5410, 5411, 5422, 5430, 5449, 5468, 5472, 5535, 5542,\n",
       "        5550, 5572, 5573, 5578, 5579, 5581, 5588, 5593, 5596, 5597, 5598,\n",
       "        5599, 5601, 5603, 5606, 5607, 5615, 5621, 5622, 5626, 5627, 5629,\n",
       "        5632, 5633, 5634, 5635, 5636, 5637, 5643, 5650, 5721, 5737, 5747,\n",
       "        5757, 5774, 5878, 5895, 5900, 5901, 5904, 5923, 5984, 6009, 6018,\n",
       "        6094, 6119, 6137, 6163, 6168, 6169, 6170, 6173, 6174, 6195, 6196,\n",
       "        6203, 6205, 6209, 6215, 6217, 6218, 6219], dtype=int64),)"
      ]
     },
     "execution_count": 143,
     "metadata": {},
     "output_type": "execute_result"
    }
   ],
   "source": [
    "index = np.where(df['HasTableBooking'] > hb_high)\n",
    "index"
   ]
  },
  {
   "cell_type": "code",
   "execution_count": 144,
   "id": "f34bb871",
   "metadata": {},
   "outputs": [],
   "source": [
    "df = df.drop(df.index[index])"
   ]
  },
  {
   "cell_type": "code",
   "execution_count": 145,
   "id": "c451acaa",
   "metadata": {},
   "outputs": [
    {
     "data": {
      "text/plain": [
       "(5415, 21)"
      ]
     },
     "execution_count": 145,
     "metadata": {},
     "output_type": "execute_result"
    }
   ],
   "source": [
    "df.shape"
   ]
  },
  {
   "cell_type": "code",
   "execution_count": 146,
   "id": "593bf387",
   "metadata": {},
   "outputs": [
    {
     "data": {
      "text/plain": [
       "0.0"
      ]
     },
     "execution_count": 146,
     "metadata": {},
     "output_type": "execute_result"
    }
   ],
   "source": [
    "hb_low = (q1.HasTableBooking - (1.5 * iqr.HasTableBooking))\n",
    "hb_low"
   ]
  },
  {
   "cell_type": "code",
   "execution_count": 147,
   "id": "32a11fe8",
   "metadata": {},
   "outputs": [
    {
     "data": {
      "text/plain": [
       "(array([], dtype=int64),)"
      ]
     },
     "execution_count": 147,
     "metadata": {},
     "output_type": "execute_result"
    }
   ],
   "source": [
    "index = np.where(df['HasTableBooking'] < hb_low)\n",
    "index"
   ]
  },
  {
   "cell_type": "code",
   "execution_count": null,
   "id": "bb4fc0a6",
   "metadata": {},
   "outputs": [],
   "source": []
  },
  {
   "cell_type": "code",
   "execution_count": null,
   "id": "2114584c",
   "metadata": {},
   "outputs": [],
   "source": []
  },
  {
   "cell_type": "code",
   "execution_count": null,
   "id": "36f52e79",
   "metadata": {},
   "outputs": [],
   "source": []
  },
  {
   "cell_type": "code",
   "execution_count": 148,
   "id": "8139ef09",
   "metadata": {},
   "outputs": [
    {
     "data": {
      "text/plain": [
       "2.5"
      ]
     },
     "execution_count": 148,
     "metadata": {},
     "output_type": "execute_result"
    }
   ],
   "source": [
    "hd_high = (q3.HasOnlineDelivery + (1.5 * iqr.HasOnlineDelivery))\n",
    "hd_high"
   ]
  },
  {
   "cell_type": "code",
   "execution_count": 149,
   "id": "1d2aa9af",
   "metadata": {},
   "outputs": [
    {
     "data": {
      "text/plain": [
       "(array([], dtype=int64),)"
      ]
     },
     "execution_count": 149,
     "metadata": {},
     "output_type": "execute_result"
    }
   ],
   "source": [
    "index = np.where(df['HasOnlineDelivery'] > hd_high)\n",
    "index"
   ]
  },
  {
   "cell_type": "code",
   "execution_count": 150,
   "id": "9c20ebd5",
   "metadata": {},
   "outputs": [
    {
     "data": {
      "text/plain": [
       "-1.5"
      ]
     },
     "execution_count": 150,
     "metadata": {},
     "output_type": "execute_result"
    }
   ],
   "source": [
    "hd_low = (q1.HasOnlineDelivery - (1.5 * iqr.HasOnlineDelivery))\n",
    "hd_low"
   ]
  },
  {
   "cell_type": "code",
   "execution_count": 151,
   "id": "654cf472",
   "metadata": {},
   "outputs": [
    {
     "data": {
      "text/plain": [
       "(array([], dtype=int64),)"
      ]
     },
     "execution_count": 151,
     "metadata": {},
     "output_type": "execute_result"
    }
   ],
   "source": [
    "index = np.where(df['HasOnlineDelivery'] < hd_low)\n",
    "index"
   ]
  },
  {
   "cell_type": "code",
   "execution_count": null,
   "id": "0ac01aa9",
   "metadata": {},
   "outputs": [],
   "source": []
  },
  {
   "cell_type": "code",
   "execution_count": null,
   "id": "a7afcb03",
   "metadata": {},
   "outputs": [],
   "source": []
  },
  {
   "cell_type": "code",
   "execution_count": null,
   "id": "a71f5f53",
   "metadata": {},
   "outputs": [],
   "source": []
  },
  {
   "cell_type": "code",
   "execution_count": 152,
   "id": "a7223b7a",
   "metadata": {},
   "outputs": [
    {
     "data": {
      "text/plain": [
       "0.0"
      ]
     },
     "execution_count": 152,
     "metadata": {},
     "output_type": "execute_result"
    }
   ],
   "source": [
    "in_high = (q3.IsDeliveringNow + (1.5 * iqr.IsDeliveringNow))\n",
    "in_high"
   ]
  },
  {
   "cell_type": "code",
   "execution_count": 153,
   "id": "537a13e2",
   "metadata": {},
   "outputs": [
    {
     "data": {
      "text/plain": [
       "(array([  32, 1121, 1294, 1297, 1558, 1615, 1701, 2086, 2087, 2340, 2634,\n",
       "        3105, 3224, 3269, 3368, 4852, 5022, 5030, 5101, 5182], dtype=int64),)"
      ]
     },
     "execution_count": 153,
     "metadata": {},
     "output_type": "execute_result"
    }
   ],
   "source": [
    "index = np.where(df['IsDeliveringNow'] > in_high)\n",
    "index"
   ]
  },
  {
   "cell_type": "code",
   "execution_count": 154,
   "id": "88f4d1bd",
   "metadata": {},
   "outputs": [],
   "source": [
    "df = df.drop(df.index[index])"
   ]
  },
  {
   "cell_type": "code",
   "execution_count": 155,
   "id": "1492cfda",
   "metadata": {},
   "outputs": [
    {
     "data": {
      "text/plain": [
       "(5395, 21)"
      ]
     },
     "execution_count": 155,
     "metadata": {},
     "output_type": "execute_result"
    }
   ],
   "source": [
    "df.shape"
   ]
  },
  {
   "cell_type": "code",
   "execution_count": 156,
   "id": "1c6cafbf",
   "metadata": {},
   "outputs": [
    {
     "data": {
      "text/plain": [
       "0.0"
      ]
     },
     "execution_count": 156,
     "metadata": {},
     "output_type": "execute_result"
    }
   ],
   "source": [
    "in_low = (q1.IsDeliveringNow - (1.5 * iqr.IsDeliveringNow))\n",
    "in_low"
   ]
  },
  {
   "cell_type": "code",
   "execution_count": 157,
   "id": "879e3779",
   "metadata": {},
   "outputs": [
    {
     "data": {
      "text/plain": [
       "(array([], dtype=int64),)"
      ]
     },
     "execution_count": 157,
     "metadata": {},
     "output_type": "execute_result"
    }
   ],
   "source": [
    "index = np.where(df['IsDeliveringNow'] < in_low)\n",
    "index"
   ]
  },
  {
   "cell_type": "code",
   "execution_count": null,
   "id": "4b0fe9fe",
   "metadata": {},
   "outputs": [],
   "source": []
  },
  {
   "cell_type": "code",
   "execution_count": null,
   "id": "a72b8935",
   "metadata": {},
   "outputs": [],
   "source": []
  },
  {
   "cell_type": "code",
   "execution_count": null,
   "id": "5a700158",
   "metadata": {},
   "outputs": [],
   "source": []
  },
  {
   "cell_type": "code",
   "execution_count": 158,
   "id": "cd355706",
   "metadata": {},
   "outputs": [
    {
     "data": {
      "text/plain": [
       "0.0"
      ]
     },
     "execution_count": 158,
     "metadata": {},
     "output_type": "execute_result"
    }
   ],
   "source": [
    "sm_high = (q3.SwitchToOrderMenu + (1.5 * iqr.SwitchToOrderMenu))\n",
    "sm_high"
   ]
  },
  {
   "cell_type": "code",
   "execution_count": 159,
   "id": "60a75836",
   "metadata": {},
   "outputs": [
    {
     "data": {
      "text/plain": [
       "(array([], dtype=int64),)"
      ]
     },
     "execution_count": 159,
     "metadata": {},
     "output_type": "execute_result"
    }
   ],
   "source": [
    "index = np.where(df['SwitchToOrderMenu'] > sm_high)\n",
    "index"
   ]
  },
  {
   "cell_type": "code",
   "execution_count": 160,
   "id": "94d7296b",
   "metadata": {},
   "outputs": [
    {
     "data": {
      "text/plain": [
       "0.0"
      ]
     },
     "execution_count": 160,
     "metadata": {},
     "output_type": "execute_result"
    }
   ],
   "source": [
    "sm_low = (q1.SwitchToOrderMenu - (1.5 * iqr.SwitchToOrderMenu))\n",
    "sm_low"
   ]
  },
  {
   "cell_type": "code",
   "execution_count": 161,
   "id": "c2a9ab5b",
   "metadata": {},
   "outputs": [
    {
     "data": {
      "text/plain": [
       "(array([], dtype=int64),)"
      ]
     },
     "execution_count": 161,
     "metadata": {},
     "output_type": "execute_result"
    }
   ],
   "source": [
    "index = np.where(df['SwitchToOrderMenu'] < sm_low)\n",
    "index"
   ]
  },
  {
   "cell_type": "code",
   "execution_count": null,
   "id": "824420b2",
   "metadata": {},
   "outputs": [],
   "source": []
  },
  {
   "cell_type": "code",
   "execution_count": null,
   "id": "b662ffd5",
   "metadata": {},
   "outputs": [],
   "source": []
  },
  {
   "cell_type": "code",
   "execution_count": null,
   "id": "3b94662c",
   "metadata": {},
   "outputs": [],
   "source": []
  },
  {
   "cell_type": "code",
   "execution_count": 162,
   "id": "c68c4c10",
   "metadata": {},
   "outputs": [
    {
     "data": {
      "text/plain": [
       "5.5"
      ]
     },
     "execution_count": 162,
     "metadata": {},
     "output_type": "execute_result"
    }
   ],
   "source": [
    "ar_high = (q3.AggregateRating + (1.5 * iqr.AggregateRating))\n",
    "ar_high"
   ]
  },
  {
   "cell_type": "code",
   "execution_count": 163,
   "id": "11df1dc3",
   "metadata": {},
   "outputs": [
    {
     "data": {
      "text/plain": [
       "(array([], dtype=int64),)"
      ]
     },
     "execution_count": 163,
     "metadata": {},
     "output_type": "execute_result"
    }
   ],
   "source": [
    "index = np.where(df['AggregateRating'] > ar_high)\n",
    "index"
   ]
  },
  {
   "cell_type": "code",
   "execution_count": 164,
   "id": "d01e0ae5",
   "metadata": {},
   "outputs": [
    {
     "data": {
      "text/plain": [
       "0.6999999999999997"
      ]
     },
     "execution_count": 164,
     "metadata": {},
     "output_type": "execute_result"
    }
   ],
   "source": [
    "ar_low = (q1.AggregateRating - (1.5 * iqr.AggregateRating))\n",
    "ar_low"
   ]
  },
  {
   "cell_type": "code",
   "execution_count": 165,
   "id": "5cb3d0e7",
   "metadata": {},
   "outputs": [
    {
     "data": {
      "text/plain": [
       "(array([  11,   12,   39, ..., 5392, 5393, 5394], dtype=int64),)"
      ]
     },
     "execution_count": 165,
     "metadata": {},
     "output_type": "execute_result"
    }
   ],
   "source": [
    "index = np.where(df['AggregateRating'] < ar_low)\n",
    "index"
   ]
  },
  {
   "cell_type": "code",
   "execution_count": null,
   "id": "12c36e97",
   "metadata": {},
   "outputs": [],
   "source": []
  },
  {
   "cell_type": "code",
   "execution_count": null,
   "id": "eaccc063",
   "metadata": {},
   "outputs": [],
   "source": []
  },
  {
   "cell_type": "code",
   "execution_count": null,
   "id": "4651c9d9",
   "metadata": {},
   "outputs": [],
   "source": []
  },
  {
   "cell_type": "code",
   "execution_count": 166,
   "id": "cc7a7481",
   "metadata": {},
   "outputs": [
    {
     "data": {
      "text/plain": [
       "7.0"
      ]
     },
     "execution_count": 166,
     "metadata": {},
     "output_type": "execute_result"
    }
   ],
   "source": [
    "rc_high = (q3.RatingColor + (1.5 * iqr.RatingColor))\n",
    "rc_high"
   ]
  },
  {
   "cell_type": "code",
   "execution_count": 167,
   "id": "8c6050e7",
   "metadata": {},
   "outputs": [
    {
     "data": {
      "text/plain": [
       "(array([], dtype=int64),)"
      ]
     },
     "execution_count": 167,
     "metadata": {},
     "output_type": "execute_result"
    }
   ],
   "source": [
    "index = np.where(df['RatingColor'] > rc_high)\n",
    "index"
   ]
  },
  {
   "cell_type": "code",
   "execution_count": 168,
   "id": "768de1c6",
   "metadata": {},
   "outputs": [
    {
     "data": {
      "text/plain": [
       "-1.0"
      ]
     },
     "execution_count": 168,
     "metadata": {},
     "output_type": "execute_result"
    }
   ],
   "source": [
    "rc_low = (q1.RatingColor - (1.5 * iqr.RatingColor))\n",
    "rc_low"
   ]
  },
  {
   "cell_type": "code",
   "execution_count": 169,
   "id": "f789ca1a",
   "metadata": {},
   "outputs": [
    {
     "data": {
      "text/plain": [
       "(array([], dtype=int64),)"
      ]
     },
     "execution_count": 169,
     "metadata": {},
     "output_type": "execute_result"
    }
   ],
   "source": [
    "index = np.where(df['RatingColor'] < rc_low)\n",
    "index"
   ]
  },
  {
   "cell_type": "code",
   "execution_count": null,
   "id": "2381ddaa",
   "metadata": {},
   "outputs": [],
   "source": []
  },
  {
   "cell_type": "code",
   "execution_count": null,
   "id": "a4f7af15",
   "metadata": {},
   "outputs": [],
   "source": []
  },
  {
   "cell_type": "code",
   "execution_count": null,
   "id": "28277e24",
   "metadata": {},
   "outputs": [],
   "source": []
  },
  {
   "cell_type": "code",
   "execution_count": 170,
   "id": "1a9a13f2",
   "metadata": {},
   "outputs": [
    {
     "data": {
      "text/plain": [
       "4.5"
      ]
     },
     "execution_count": 170,
     "metadata": {},
     "output_type": "execute_result"
    }
   ],
   "source": [
    "rt_high = (q3.RatingText + (1.5 * iqr.RatingText))\n",
    "rt_high"
   ]
  },
  {
   "cell_type": "code",
   "execution_count": 171,
   "id": "177909ff",
   "metadata": {},
   "outputs": [
    {
     "data": {
      "text/plain": [
       "(array([ 294,  379,  380,  830,  873, 1091, 1378, 1409, 1643, 1650, 1651,\n",
       "        3107, 3199, 3394, 3395, 3664, 3725, 3825, 4354, 4532, 4533],\n",
       "       dtype=int64),)"
      ]
     },
     "execution_count": 171,
     "metadata": {},
     "output_type": "execute_result"
    }
   ],
   "source": [
    "index = np.where(df['RatingText'] > rt_high)\n",
    "index"
   ]
  },
  {
   "cell_type": "code",
   "execution_count": 172,
   "id": "f5ebe858",
   "metadata": {},
   "outputs": [],
   "source": [
    "df = df.drop(df.index[index])"
   ]
  },
  {
   "cell_type": "code",
   "execution_count": 173,
   "id": "3e2469b6",
   "metadata": {},
   "outputs": [
    {
     "data": {
      "text/plain": [
       "(5374, 21)"
      ]
     },
     "execution_count": 173,
     "metadata": {},
     "output_type": "execute_result"
    }
   ],
   "source": [
    "df.shape"
   ]
  },
  {
   "cell_type": "code",
   "execution_count": 174,
   "id": "0e9742e1",
   "metadata": {},
   "outputs": [
    {
     "data": {
      "text/plain": [
       "0.5"
      ]
     },
     "execution_count": 174,
     "metadata": {},
     "output_type": "execute_result"
    }
   ],
   "source": [
    "rt_low = (q1.RatingText - (1.5 * iqr.RatingText))\n",
    "rt_low"
   ]
  },
  {
   "cell_type": "code",
   "execution_count": 175,
   "id": "18bb64e6",
   "metadata": {},
   "outputs": [
    {
     "data": {
      "text/plain": [
       "(array([  11,   12,   39, ..., 5371, 5372, 5373], dtype=int64),)"
      ]
     },
     "execution_count": 175,
     "metadata": {},
     "output_type": "execute_result"
    }
   ],
   "source": [
    "index = np.where(df['RatingText'] < rt_low)\n",
    "index"
   ]
  },
  {
   "cell_type": "code",
   "execution_count": 176,
   "id": "32b0bec3",
   "metadata": {},
   "outputs": [],
   "source": [
    "df = df.drop(df.index[index])"
   ]
  },
  {
   "cell_type": "code",
   "execution_count": 177,
   "id": "b39aa932",
   "metadata": {},
   "outputs": [
    {
     "data": {
      "text/plain": [
       "(3831, 21)"
      ]
     },
     "execution_count": 177,
     "metadata": {},
     "output_type": "execute_result"
    }
   ],
   "source": [
    "df.shape"
   ]
  },
  {
   "cell_type": "code",
   "execution_count": null,
   "id": "00b75dcb",
   "metadata": {},
   "outputs": [],
   "source": []
  },
  {
   "cell_type": "code",
   "execution_count": null,
   "id": "7f725fdc",
   "metadata": {},
   "outputs": [],
   "source": []
  },
  {
   "cell_type": "code",
   "execution_count": null,
   "id": "03697865",
   "metadata": {},
   "outputs": [],
   "source": []
  },
  {
   "cell_type": "code",
   "execution_count": 178,
   "id": "dd204d81",
   "metadata": {},
   "outputs": [
    {
     "data": {
      "text/plain": [
       "320.0"
      ]
     },
     "execution_count": 178,
     "metadata": {},
     "output_type": "execute_result"
    }
   ],
   "source": [
    "v_high = (q3.Votes + (1.5 * iqr.Votes))\n",
    "v_high"
   ]
  },
  {
   "cell_type": "code",
   "execution_count": 179,
   "id": "34859032",
   "metadata": {},
   "outputs": [
    {
     "data": {
      "text/plain": [
       "(array([  34,   40,   78,  122,  127,  218,  223,  224,  225,  230,  231,\n",
       "         232,  250,  271,  272,  298,  299,  300,  301,  302,  303,  304,\n",
       "         305,  306,  307,  308,  309,  310,  311,  312,  313,  314,  316,\n",
       "         318,  320,  321,  322,  323,  324,  326,  327,  331,  332,  333,\n",
       "         334,  335,  336,  337,  339,  340,  341,  343,  345,  346,  347,\n",
       "         348,  349,  350,  351,  352,  353,  354,  355,  356,  357,  366,\n",
       "         381,  411,  422,  425,  431,  439,  441,  443,  472,  478,  480,\n",
       "         481,  482,  488,  489,  551,  555,  556,  561,  601,  628,  655,\n",
       "         670,  683,  687,  694,  714,  746,  753,  758,  760,  763,  778,\n",
       "         779,  780,  859,  870,  871,  872,  873,  874,  875,  876,  917,\n",
       "         969,  978,  979,  986, 1059, 1060, 1076, 1080, 1104, 1113, 1114,\n",
       "        1115, 1116, 1176, 1178, 1214, 1292, 1306, 1313, 1322, 1324, 1326,\n",
       "        1327, 1335, 1336, 1337, 1338, 1339, 1341, 1459, 1464, 1465, 1474,\n",
       "        1526, 1553, 1559, 1629, 1632, 1641, 1642, 1644, 1755, 1785, 1967,\n",
       "        1968, 1969, 1986, 1989, 2074, 2095, 2117, 2118, 2339, 2352, 2356,\n",
       "        2363, 2364, 2431, 2435, 2468, 2470, 2471, 2474, 2483, 2484, 2487,\n",
       "        2489, 2492, 2494, 2601, 2638, 2640, 2687, 2691, 2693, 2695, 2696,\n",
       "        2713, 2720, 2721, 2722, 2725, 2743, 2746, 2750, 2751, 2755, 2756,\n",
       "        2868, 2877, 2956, 2971, 2979, 3011, 3073, 3080, 3096, 3145, 3147,\n",
       "        3148, 3151, 3153, 3154, 3155, 3156, 3157, 3158, 3242, 3262, 3268,\n",
       "        3269, 3273, 3279, 3282, 3283, 3286, 3293, 3295, 3330, 3403, 3440,\n",
       "        3443, 3447, 3462, 3464, 3465, 3466, 3468, 3469, 3474, 3475, 3476,\n",
       "        3480, 3481, 3486, 3566, 3568, 3579, 3618, 3641, 3644, 3661, 3734,\n",
       "        3793, 3820], dtype=int64),)"
      ]
     },
     "execution_count": 179,
     "metadata": {},
     "output_type": "execute_result"
    }
   ],
   "source": [
    "index = np.where(df['Votes'] > v_high)\n",
    "index"
   ]
  },
  {
   "cell_type": "code",
   "execution_count": 180,
   "id": "5d9def14",
   "metadata": {},
   "outputs": [],
   "source": [
    "df = df.drop(df.index[index])"
   ]
  },
  {
   "cell_type": "code",
   "execution_count": 181,
   "id": "d75c3258",
   "metadata": {},
   "outputs": [
    {
     "data": {
      "text/plain": [
       "(3576, 21)"
      ]
     },
     "execution_count": 181,
     "metadata": {},
     "output_type": "execute_result"
    }
   ],
   "source": [
    "df.shape"
   ]
  },
  {
   "cell_type": "code",
   "execution_count": 182,
   "id": "d20ccbdb",
   "metadata": {},
   "outputs": [
    {
     "data": {
      "text/plain": [
       "-184.0"
      ]
     },
     "execution_count": 182,
     "metadata": {},
     "output_type": "execute_result"
    }
   ],
   "source": [
    "v_low = (q1.Votes - (1.5 * iqr.Votes))\n",
    "v_low"
   ]
  },
  {
   "cell_type": "code",
   "execution_count": 183,
   "id": "ebfdc5c0",
   "metadata": {},
   "outputs": [
    {
     "data": {
      "text/plain": [
       "(array([], dtype=int64),)"
      ]
     },
     "execution_count": 183,
     "metadata": {},
     "output_type": "execute_result"
    }
   ],
   "source": [
    "index = np.where(df['Votes'] < v_low)\n",
    "index"
   ]
  },
  {
   "cell_type": "code",
   "execution_count": null,
   "id": "2a7f686e",
   "metadata": {},
   "outputs": [],
   "source": []
  },
  {
   "cell_type": "code",
   "execution_count": 184,
   "id": "1f171e28",
   "metadata": {},
   "outputs": [
    {
     "data": {
      "text/plain": [
       "(3576, 21)"
      ]
     },
     "execution_count": 184,
     "metadata": {},
     "output_type": "execute_result"
    }
   ],
   "source": [
    "df.shape"
   ]
  },
  {
   "cell_type": "code",
   "execution_count": null,
   "id": "dd5f8209",
   "metadata": {},
   "outputs": [],
   "source": []
  },
  {
   "cell_type": "code",
   "execution_count": 185,
   "id": "38acb02e",
   "metadata": {},
   "outputs": [],
   "source": [
    "# again we plot distribution and boxplot"
   ]
  },
  {
   "cell_type": "code",
   "execution_count": null,
   "id": "a54e25a9",
   "metadata": {},
   "outputs": [],
   "source": []
  },
  {
   "cell_type": "code",
   "execution_count": null,
   "id": "9f4be8f5",
   "metadata": {},
   "outputs": [],
   "source": []
  },
  {
   "cell_type": "code",
   "execution_count": null,
   "id": "a1343d4e",
   "metadata": {},
   "outputs": [],
   "source": []
  },
  {
   "cell_type": "code",
   "execution_count": 186,
   "id": "9c6eaad8",
   "metadata": {},
   "outputs": [
    {
     "data": {
      "image/png": "[encoded data removed]",
      "text/plain": [
       "<Figure size 1440x1080 with 21 Axes>"
      ]
     },
     "metadata": {},
     "output_type": "display_data"
    }
   ],
   "source": [
    "plt.figure(figsize=(20,15),facecolor='yellow')\n",
    "plotnumber=1\n",
    "\n",
    "for column in df:\n",
    "    if plotnumber<=24:\n",
    "        ax = plt.subplot(6,4,plotnumber)\n",
    "        sns.distplot(df[column])\n",
    "        plt.xlabel(column,fontsize=15)\n",
    "        \n",
    "    plotnumber+=1\n",
    "plt.show()"
   ]
  },
  {
   "cell_type": "code",
   "execution_count": null,
   "id": "961de6a8",
   "metadata": {},
   "outputs": [],
   "source": []
  },
  {
   "cell_type": "code",
   "execution_count": 187,
   "id": "98426efa",
   "metadata": {},
   "outputs": [
    {
     "data": {
      "image/png": "[encoded data removed]",
      "text/plain": [
       "<Figure size 1440x1080 with 21 Axes>"
      ]
     },
     "metadata": {},
     "output_type": "display_data"
    }
   ],
   "source": [
    "plt.figure(figsize=(20,15),facecolor='yellow')\n",
    "plotnumber=1\n",
    "\n",
    "for column in df:\n",
    "    if plotnumber<=24:\n",
    "        ax = plt.subplot(6,4,plotnumber)\n",
    "        plt.boxplot(df[column])\n",
    "        plt.xlabel(column,fontsize=15)\n",
    "        \n",
    "    plotnumber+=1\n",
    "plt.show()"
   ]
  },
  {
   "cell_type": "code",
   "execution_count": null,
   "id": "6b9e1190",
   "metadata": {},
   "outputs": [],
   "source": []
  },
  {
   "cell_type": "code",
   "execution_count": 188,
   "id": "fadca0c6",
   "metadata": {},
   "outputs": [],
   "source": [
    "# heatmap for checking multicollinearity"
   ]
  },
  {
   "cell_type": "code",
   "execution_count": null,
   "id": "e02e8202",
   "metadata": {},
   "outputs": [],
   "source": []
  },
  {
   "cell_type": "code",
   "execution_count": 189,
   "id": "37c9a290",
   "metadata": {},
   "outputs": [
    {
     "data": {
      "image/png": "[encoded data removed]",
      "text/plain": [
       "<Figure size 1440x1080 with 2 Axes>"
      ]
     },
     "metadata": {
      "needs_background": "light"
     },
     "output_type": "display_data"
    }
   ],
   "source": [
    "corr = df.corr().abs()\n",
    "\n",
    "plt.figure(figsize=(20,15))\n",
    "\n",
    "sns.heatmap(corr, annot=True)\n",
    "\n",
    "plt.show()"
   ]
  },
  {
   "cell_type": "code",
   "execution_count": 190,
   "id": "5f254c49",
   "metadata": {},
   "outputs": [],
   "source": [
    "# looking normal in heatmap"
   ]
  },
  {
   "cell_type": "code",
   "execution_count": null,
   "id": "39bdd5c7",
   "metadata": {},
   "outputs": [],
   "source": []
  },
  {
   "cell_type": "code",
   "execution_count": null,
   "id": "62267f82",
   "metadata": {},
   "outputs": [],
   "source": []
  },
  {
   "cell_type": "code",
   "execution_count": 191,
   "id": "bc575429",
   "metadata": {},
   "outputs": [],
   "source": [
    "# first we predict for Average Cost for two by using regression models"
   ]
  },
  {
   "cell_type": "code",
   "execution_count": 192,
   "id": "391a23e1",
   "metadata": {},
   "outputs": [],
   "source": [
    "# for Average Cost for Two"
   ]
  },
  {
   "cell_type": "code",
   "execution_count": 193,
   "id": "11bab90b",
   "metadata": {},
   "outputs": [],
   "source": [
    "# split dataset into two variables"
   ]
  },
  {
   "cell_type": "code",
   "execution_count": 194,
   "id": "050baceb",
   "metadata": {},
   "outputs": [],
   "source": [
    "x = df.drop(columns='AverageCostfortwo')\n",
    "y = df['AverageCostfortwo']"
   ]
  },
  {
   "cell_type": "code",
   "execution_count": null,
   "id": "faf655cc",
   "metadata": {},
   "outputs": [],
   "source": []
  },
  {
   "cell_type": "code",
   "execution_count": null,
   "id": "199c7fca",
   "metadata": {},
   "outputs": [],
   "source": []
  },
  {
   "cell_type": "code",
   "execution_count": 195,
   "id": "afb6262c",
   "metadata": {},
   "outputs": [],
   "source": [
    "# import Standard Scaler and train test split"
   ]
  },
  {
   "cell_type": "code",
   "execution_count": 196,
   "id": "d2a94dba",
   "metadata": {},
   "outputs": [],
   "source": [
    "from sklearn.preprocessing import StandardScaler\n",
    "\n",
    "from sklearn.model_selection import train_test_split"
   ]
  },
  {
   "cell_type": "code",
   "execution_count": 197,
   "id": "e7a39812",
   "metadata": {},
   "outputs": [],
   "source": [
    "scaler = StandardScaler()\n",
    "\n",
    "x_scaled = scaler.fit_transform(x)"
   ]
  },
  {
   "cell_type": "code",
   "execution_count": null,
   "id": "10ae46e3",
   "metadata": {},
   "outputs": [],
   "source": []
  },
  {
   "cell_type": "code",
   "execution_count": 198,
   "id": "5883ef5f",
   "metadata": {},
   "outputs": [],
   "source": [
    "x_train,x_test,y_train,y_test = train_test_split(x_scaled,y,test_size=0.25,random_state=100)"
   ]
  },
  {
   "cell_type": "code",
   "execution_count": null,
   "id": "4bb9164f",
   "metadata": {},
   "outputs": [],
   "source": []
  },
  {
   "cell_type": "code",
   "execution_count": 199,
   "id": "9361c0e5",
   "metadata": {},
   "outputs": [],
   "source": [
    "# import metrics for checking error of models"
   ]
  },
  {
   "cell_type": "code",
   "execution_count": 200,
   "id": "ccbda606",
   "metadata": {},
   "outputs": [],
   "source": [
    "from sklearn.metrics import mean_absolute_error,mean_squared_error"
   ]
  },
  {
   "cell_type": "code",
   "execution_count": null,
   "id": "b1c434df",
   "metadata": {},
   "outputs": [],
   "source": []
  },
  {
   "cell_type": "code",
   "execution_count": null,
   "id": "62907adc",
   "metadata": {},
   "outputs": [],
   "source": []
  },
  {
   "cell_type": "code",
   "execution_count": 201,
   "id": "5a336b95",
   "metadata": {},
   "outputs": [],
   "source": [
    "# first model "
   ]
  },
  {
   "cell_type": "code",
   "execution_count": 202,
   "id": "f5c8901e",
   "metadata": {},
   "outputs": [],
   "source": [
    "from sklearn.linear_model import LinearRegression"
   ]
  },
  {
   "cell_type": "code",
   "execution_count": 203,
   "id": "37358b74",
   "metadata": {},
   "outputs": [
    {
     "data": {
      "text/html": [
       "<style>#sk-container-id-1 {color: black;background-color: white;}#sk-container-id-1 pre{padding: 0;}#sk-container-id-1 div.sk-toggleable {background-color: white;}#sk-container-id-1 label.sk-toggleable__label {cursor: pointer;display: block;width: 100%;margin-bottom: 0;padding: 0.3em;box-sizing: border-box;text-align: center;}#sk-container-id-1 label.sk-toggleable__label-arrow:before {content: \"▸\";float: left;margin-right: 0.25em;color: #696969;}#sk-container-id-1 label.sk-toggleable__label-arrow:hover:before {color: black;}#sk-container-id-1 div.sk-estimator:hover label.sk-toggleable__label-arrow:before {color: black;}#sk-container-id-1 div.sk-toggleable__content {max-height: 0;max-width: 0;overflow: hidden;text-align: left;background-color: #f0f8ff;}#sk-container-id-1 div.sk-toggleable__content pre {margin: 0.2em;color: black;border-radius: 0.25em;background-color: #f0f8ff;}#sk-container-id-1 input.sk-toggleable__control:checked~div.sk-toggleable__content {max-height: 200px;max-width: 100%;overflow: auto;}#sk-container-id-1 input.sk-toggleable__control:checked~label.sk-toggleable__label-arrow:before {content: \"▾\";}#sk-container-id-1 div.sk-estimator input.sk-toggleable__control:checked~label.sk-toggleable__label {background-color: #d4ebff;}#sk-container-id-1 div.sk-label input.sk-toggleable__control:checked~label.sk-toggleable__label {background-color: #d4ebff;}#sk-container-id-1 input.sk-hidden--visually {border: 0;clip: rect(1px 1px 1px 1px);clip: rect(1px, 1px, 1px, 1px);height: 1px;margin: -1px;overflow: hidden;padding: 0;position: absolute;width: 1px;}#sk-container-id-1 div.sk-estimator {font-family: monospace;background-color: #f0f8ff;border: 1px dotted black;border-radius: 0.25em;box-sizing: border-box;margin-bottom: 0.5em;}#sk-container-id-1 div.sk-estimator:hover {background-color: #d4ebff;}#sk-container-id-1 div.sk-parallel-item::after {content: \"\";width: 100%;border-bottom: 1px solid gray;flex-grow: 1;}#sk-container-id-1 div.sk-label:hover label.sk-toggleable__label {background-color: #d4ebff;}#sk-container-id-1 div.sk-serial::before {content: \"\";position: absolute;border-left: 1px solid gray;box-sizing: border-box;top: 0;bottom: 0;left: 50%;z-index: 0;}#sk-container-id-1 div.sk-serial {display: flex;flex-direction: column;align-items: center;background-color: white;padding-right: 0.2em;padding-left: 0.2em;position: relative;}#sk-container-id-1 div.sk-item {position: relative;z-index: 1;}#sk-container-id-1 div.sk-parallel {display: flex;align-items: stretch;justify-content: center;background-color: white;position: relative;}#sk-container-id-1 div.sk-item::before, #sk-container-id-1 div.sk-parallel-item::before {content: \"\";position: absolute;border-left: 1px solid gray;box-sizing: border-box;top: 0;bottom: 0;left: 50%;z-index: -1;}#sk-container-id-1 div.sk-parallel-item {display: flex;flex-direction: column;z-index: 1;position: relative;background-color: white;}#sk-container-id-1 div.sk-parallel-item:first-child::after {align-self: flex-end;width: 50%;}#sk-container-id-1 div.sk-parallel-item:last-child::after {align-self: flex-start;width: 50%;}#sk-container-id-1 div.sk-parallel-item:only-child::after {width: 0;}#sk-container-id-1 div.sk-dashed-wrapped {border: 1px dashed gray;margin: 0 0.4em 0.5em 0.4em;box-sizing: border-box;padding-bottom: 0.4em;background-color: white;}#sk-container-id-1 div.sk-label label {font-family: monospace;font-weight: bold;display: inline-block;line-height: 1.2em;}#sk-container-id-1 div.sk-label-container {text-align: center;}#sk-container-id-1 div.sk-container {/* jupyter's `normalize.less` sets `[hidden] { display: none; }` but bootstrap.min.css set `[hidden] { display: none !important; }` so we also need the `!important` here to be able to override the default hidden behavior on the sphinx rendered scikit-learn.org. See: https://github.com/scikit-learn/scikit-learn/issues/21755 */display: inline-block !important;position: relative;}#sk-container-id-1 div.sk-text-repr-fallback {display: none;}</style><div id=\"sk-container-id-1\" class=\"sk-top-container\"><div class=\"sk-text-repr-fallback\"><pre>LinearRegression()</pre><b>In a Jupyter environment, please rerun this cell to show the HTML representation or trust the notebook. <br />On GitHub, the HTML representation is unable to render, please try loading this page with nbviewer.org.</b></div><div class=\"sk-container\" hidden><div class=\"sk-item\"><div class=\"sk-estimator sk-toggleable\"><input class=\"sk-toggleable__control sk-hidden--visually\" id=\"sk-estimator-id-1\" type=\"checkbox\" checked><label for=\"sk-estimator-id-1\" class=\"sk-toggleable__label sk-toggleable__label-arrow\">LinearRegression</label><div class=\"sk-toggleable__content\"><pre>LinearRegression()</pre></div></div></div></div></div>"
      ],
      "text/plain": [
       "LinearRegression()"
      ]
     },
     "execution_count": 203,
     "metadata": {},
     "output_type": "execute_result"
    }
   ],
   "source": [
    "lr = LinearRegression()\n",
    "\n",
    "lr.fit(x_train,y_train)"
   ]
  },
  {
   "cell_type": "code",
   "execution_count": 204,
   "id": "ed4f4e43",
   "metadata": {},
   "outputs": [],
   "source": [
    "lr_pred = lr.predict(x_test)"
   ]
  },
  {
   "cell_type": "code",
   "execution_count": 205,
   "id": "ef672beb",
   "metadata": {},
   "outputs": [
    {
     "data": {
      "text/plain": [
       "0.6149311541847067"
      ]
     },
     "execution_count": 205,
     "metadata": {},
     "output_type": "execute_result"
    }
   ],
   "source": [
    "lr.score(x_train,y_train)"
   ]
  },
  {
   "cell_type": "code",
   "execution_count": 206,
   "id": "21516b3e",
   "metadata": {},
   "outputs": [
    {
     "data": {
      "text/plain": [
       "0.5965247712361248"
      ]
     },
     "execution_count": 206,
     "metadata": {},
     "output_type": "execute_result"
    }
   ],
   "source": [
    "lr.score(x_test,y_test)"
   ]
  },
  {
   "cell_type": "code",
   "execution_count": null,
   "id": "21287969",
   "metadata": {},
   "outputs": [],
   "source": []
  },
  {
   "cell_type": "code",
   "execution_count": 207,
   "id": "2dbfe8d1",
   "metadata": {},
   "outputs": [
    {
     "data": {
      "image/png": "[encoded data removed]",
      "text/plain": [
       "<Figure size 432x288 with 1 Axes>"
      ]
     },
     "metadata": {
      "needs_background": "light"
     },
     "output_type": "display_data"
    }
   ],
   "source": [
    "plt.scatter(y_test,lr_pred)\n",
    "plt.xlabel('Actual')\n",
    "plt.ylabel('Predicted')\n",
    "\n",
    "plt.show()"
   ]
  },
  {
   "cell_type": "code",
   "execution_count": 208,
   "id": "c648b849",
   "metadata": {},
   "outputs": [
    {
     "data": {
      "text/plain": [
       "123.30432650006362"
      ]
     },
     "execution_count": 208,
     "metadata": {},
     "output_type": "execute_result"
    }
   ],
   "source": [
    "mean_absolute_error(y_test,lr_pred)"
   ]
  },
  {
   "cell_type": "code",
   "execution_count": 209,
   "id": "df218859",
   "metadata": {},
   "outputs": [
    {
     "data": {
      "text/plain": [
       "50025.833913679024"
      ]
     },
     "execution_count": 209,
     "metadata": {},
     "output_type": "execute_result"
    }
   ],
   "source": [
    "mean_squared_error(y_test,lr_pred)"
   ]
  },
  {
   "cell_type": "code",
   "execution_count": 210,
   "id": "20c72e76",
   "metadata": {},
   "outputs": [
    {
     "data": {
      "text/plain": [
       "223.66455667735787"
      ]
     },
     "execution_count": 210,
     "metadata": {},
     "output_type": "execute_result"
    }
   ],
   "source": [
    "np.sqrt(mean_squared_error(y_test,lr_pred))"
   ]
  },
  {
   "cell_type": "code",
   "execution_count": null,
   "id": "7f84d6d1",
   "metadata": {},
   "outputs": [],
   "source": []
  },
  {
   "cell_type": "code",
   "execution_count": null,
   "id": "2ce832d2",
   "metadata": {},
   "outputs": [],
   "source": []
  },
  {
   "cell_type": "code",
   "execution_count": 211,
   "id": "7e95c5e8",
   "metadata": {},
   "outputs": [],
   "source": [
    "# second model"
   ]
  },
  {
   "cell_type": "code",
   "execution_count": 212,
   "id": "81349feb",
   "metadata": {},
   "outputs": [],
   "source": [
    "from sklearn.tree import DecisionTreeRegressor"
   ]
  },
  {
   "cell_type": "code",
   "execution_count": 213,
   "id": "bcae780b",
   "metadata": {},
   "outputs": [
    {
     "data": {
      "text/html": [
       "<style>#sk-container-id-2 {color: black;background-color: white;}#sk-container-id-2 pre{padding: 0;}#sk-container-id-2 div.sk-toggleable {background-color: white;}#sk-container-id-2 label.sk-toggleable__label {cursor: pointer;display: block;width: 100%;margin-bottom: 0;padding: 0.3em;box-sizing: border-box;text-align: center;}#sk-container-id-2 label.sk-toggleable__label-arrow:before {content: \"▸\";float: left;margin-right: 0.25em;color: #696969;}#sk-container-id-2 label.sk-toggleable__label-arrow:hover:before {color: black;}#sk-container-id-2 div.sk-estimator:hover label.sk-toggleable__label-arrow:before {color: black;}#sk-container-id-2 div.sk-toggleable__content {max-height: 0;max-width: 0;overflow: hidden;text-align: left;background-color: #f0f8ff;}#sk-container-id-2 div.sk-toggleable__content pre {margin: 0.2em;color: black;border-radius: 0.25em;background-color: #f0f8ff;}#sk-container-id-2 input.sk-toggleable__control:checked~div.sk-toggleable__content {max-height: 200px;max-width: 100%;overflow: auto;}#sk-container-id-2 input.sk-toggleable__control:checked~label.sk-toggleable__label-arrow:before {content: \"▾\";}#sk-container-id-2 div.sk-estimator input.sk-toggleable__control:checked~label.sk-toggleable__label {background-color: #d4ebff;}#sk-container-id-2 div.sk-label input.sk-toggleable__control:checked~label.sk-toggleable__label {background-color: #d4ebff;}#sk-container-id-2 input.sk-hidden--visually {border: 0;clip: rect(1px 1px 1px 1px);clip: rect(1px, 1px, 1px, 1px);height: 1px;margin: -1px;overflow: hidden;padding: 0;position: absolute;width: 1px;}#sk-container-id-2 div.sk-estimator {font-family: monospace;background-color: #f0f8ff;border: 1px dotted black;border-radius: 0.25em;box-sizing: border-box;margin-bottom: 0.5em;}#sk-container-id-2 div.sk-estimator:hover {background-color: #d4ebff;}#sk-container-id-2 div.sk-parallel-item::after {content: \"\";width: 100%;border-bottom: 1px solid gray;flex-grow: 1;}#sk-container-id-2 div.sk-label:hover label.sk-toggleable__label {background-color: #d4ebff;}#sk-container-id-2 div.sk-serial::before {content: \"\";position: absolute;border-left: 1px solid gray;box-sizing: border-box;top: 0;bottom: 0;left: 50%;z-index: 0;}#sk-container-id-2 div.sk-serial {display: flex;flex-direction: column;align-items: center;background-color: white;padding-right: 0.2em;padding-left: 0.2em;position: relative;}#sk-container-id-2 div.sk-item {position: relative;z-index: 1;}#sk-container-id-2 div.sk-parallel {display: flex;align-items: stretch;justify-content: center;background-color: white;position: relative;}#sk-container-id-2 div.sk-item::before, #sk-container-id-2 div.sk-parallel-item::before {content: \"\";position: absolute;border-left: 1px solid gray;box-sizing: border-box;top: 0;bottom: 0;left: 50%;z-index: -1;}#sk-container-id-2 div.sk-parallel-item {display: flex;flex-direction: column;z-index: 1;position: relative;background-color: white;}#sk-container-id-2 div.sk-parallel-item:first-child::after {align-self: flex-end;width: 50%;}#sk-container-id-2 div.sk-parallel-item:last-child::after {align-self: flex-start;width: 50%;}#sk-container-id-2 div.sk-parallel-item:only-child::after {width: 0;}#sk-container-id-2 div.sk-dashed-wrapped {border: 1px dashed gray;margin: 0 0.4em 0.5em 0.4em;box-sizing: border-box;padding-bottom: 0.4em;background-color: white;}#sk-container-id-2 div.sk-label label {font-family: monospace;font-weight: bold;display: inline-block;line-height: 1.2em;}#sk-container-id-2 div.sk-label-container {text-align: center;}#sk-container-id-2 div.sk-container {/* jupyter's `normalize.less` sets `[hidden] { display: none; }` but bootstrap.min.css set `[hidden] { display: none !important; }` so we also need the `!important` here to be able to override the default hidden behavior on the sphinx rendered scikit-learn.org. See: https://github.com/scikit-learn/scikit-learn/issues/21755 */display: inline-block !important;position: relative;}#sk-container-id-2 div.sk-text-repr-fallback {display: none;}</style><div id=\"sk-container-id-2\" class=\"sk-top-container\"><div class=\"sk-text-repr-fallback\"><pre>DecisionTreeRegressor()</pre><b>In a Jupyter environment, please rerun this cell to show the HTML representation or trust the notebook. <br />On GitHub, the HTML representation is unable to render, please try loading this page with nbviewer.org.</b></div><div class=\"sk-container\" hidden><div class=\"sk-item\"><div class=\"sk-estimator sk-toggleable\"><input class=\"sk-toggleable__control sk-hidden--visually\" id=\"sk-estimator-id-2\" type=\"checkbox\" checked><label for=\"sk-estimator-id-2\" class=\"sk-toggleable__label sk-toggleable__label-arrow\">DecisionTreeRegressor</label><div class=\"sk-toggleable__content\"><pre>DecisionTreeRegressor()</pre></div></div></div></div></div>"
      ],
      "text/plain": [
       "DecisionTreeRegressor()"
      ]
     },
     "execution_count": 213,
     "metadata": {},
     "output_type": "execute_result"
    }
   ],
   "source": [
    "dt = DecisionTreeRegressor()\n",
    "\n",
    "dt.fit(x_train,y_train)"
   ]
  },
  {
   "cell_type": "code",
   "execution_count": 214,
   "id": "3ee2f108",
   "metadata": {},
   "outputs": [],
   "source": [
    "dt_pred = dt.predict(x_test)"
   ]
  },
  {
   "cell_type": "code",
   "execution_count": 215,
   "id": "674bd304",
   "metadata": {},
   "outputs": [
    {
     "data": {
      "text/plain": [
       "1.0"
      ]
     },
     "execution_count": 215,
     "metadata": {},
     "output_type": "execute_result"
    }
   ],
   "source": [
    "dt.score(x_train,y_train)"
   ]
  },
  {
   "cell_type": "code",
   "execution_count": 216,
   "id": "1005174e",
   "metadata": {},
   "outputs": [
    {
     "data": {
      "text/plain": [
       "0.760949354016211"
      ]
     },
     "execution_count": 216,
     "metadata": {},
     "output_type": "execute_result"
    }
   ],
   "source": [
    "dt.score(x_test,y_test)"
   ]
  },
  {
   "cell_type": "code",
   "execution_count": 217,
   "id": "82256a8a",
   "metadata": {},
   "outputs": [
    {
     "data": {
      "image/png": "[encoded data removed]",
      "text/plain": [
       "<Figure size 432x288 with 1 Axes>"
      ]
     },
     "metadata": {
      "needs_background": "light"
     },
     "output_type": "display_data"
    }
   ],
   "source": [
    "plt.scatter(y_test,dt_pred)\n",
    "plt.xlabel('Actual')\n",
    "plt.ylabel('Predicted')\n",
    "\n",
    "plt.show()"
   ]
  },
  {
   "cell_type": "code",
   "execution_count": 218,
   "id": "354d20c9",
   "metadata": {},
   "outputs": [
    {
     "data": {
      "text/plain": [
       "103.52348993288591"
      ]
     },
     "execution_count": 218,
     "metadata": {},
     "output_type": "execute_result"
    }
   ],
   "source": [
    "mean_absolute_error(y_test,dt_pred)"
   ]
  },
  {
   "cell_type": "code",
   "execution_count": 219,
   "id": "895c0788",
   "metadata": {},
   "outputs": [
    {
     "data": {
      "text/plain": [
       "29639.261744966443"
      ]
     },
     "execution_count": 219,
     "metadata": {},
     "output_type": "execute_result"
    }
   ],
   "source": [
    "mean_squared_error(y_test,dt_pred)"
   ]
  },
  {
   "cell_type": "code",
   "execution_count": 220,
   "id": "606a1a5f",
   "metadata": {},
   "outputs": [
    {
     "data": {
      "text/plain": [
       "172.16056965799817"
      ]
     },
     "execution_count": 220,
     "metadata": {},
     "output_type": "execute_result"
    }
   ],
   "source": [
    "np.sqrt(mean_squared_error(y_test,dt_pred))"
   ]
  },
  {
   "cell_type": "code",
   "execution_count": null,
   "id": "a9cf7cc4",
   "metadata": {},
   "outputs": [],
   "source": []
  },
  {
   "cell_type": "code",
   "execution_count": null,
   "id": "747daec9",
   "metadata": {},
   "outputs": [],
   "source": []
  },
  {
   "cell_type": "code",
   "execution_count": null,
   "id": "9f1876f6",
   "metadata": {},
   "outputs": [],
   "source": []
  },
  {
   "cell_type": "code",
   "execution_count": 221,
   "id": "eff86ec9",
   "metadata": {},
   "outputs": [],
   "source": [
    "# third model"
   ]
  },
  {
   "cell_type": "code",
   "execution_count": 222,
   "id": "e72ba5ee",
   "metadata": {},
   "outputs": [],
   "source": [
    "from sklearn.ensemble import RandomForestRegressor"
   ]
  },
  {
   "cell_type": "code",
   "execution_count": 223,
   "id": "cdd507e7",
   "metadata": {},
   "outputs": [
    {
     "data": {
      "text/html": [
       "<style>#sk-container-id-3 {color: black;background-color: white;}#sk-container-id-3 pre{padding: 0;}#sk-container-id-3 div.sk-toggleable {background-color: white;}#sk-container-id-3 label.sk-toggleable__label {cursor: pointer;display: block;width: 100%;margin-bottom: 0;padding: 0.3em;box-sizing: border-box;text-align: center;}#sk-container-id-3 label.sk-toggleable__label-arrow:before {content: \"▸\";float: left;margin-right: 0.25em;color: #696969;}#sk-container-id-3 label.sk-toggleable__label-arrow:hover:before {color: black;}#sk-container-id-3 div.sk-estimator:hover label.sk-toggleable__label-arrow:before {color: black;}#sk-container-id-3 div.sk-toggleable__content {max-height: 0;max-width: 0;overflow: hidden;text-align: left;background-color: #f0f8ff;}#sk-container-id-3 div.sk-toggleable__content pre {margin: 0.2em;color: black;border-radius: 0.25em;background-color: #f0f8ff;}#sk-container-id-3 input.sk-toggleable__control:checked~div.sk-toggleable__content {max-height: 200px;max-width: 100%;overflow: auto;}#sk-container-id-3 input.sk-toggleable__control:checked~label.sk-toggleable__label-arrow:before {content: \"▾\";}#sk-container-id-3 div.sk-estimator input.sk-toggleable__control:checked~label.sk-toggleable__label {background-color: #d4ebff;}#sk-container-id-3 div.sk-label input.sk-toggleable__control:checked~label.sk-toggleable__label {background-color: #d4ebff;}#sk-container-id-3 input.sk-hidden--visually {border: 0;clip: rect(1px 1px 1px 1px);clip: rect(1px, 1px, 1px, 1px);height: 1px;margin: -1px;overflow: hidden;padding: 0;position: absolute;width: 1px;}#sk-container-id-3 div.sk-estimator {font-family: monospace;background-color: #f0f8ff;border: 1px dotted black;border-radius: 0.25em;box-sizing: border-box;margin-bottom: 0.5em;}#sk-container-id-3 div.sk-estimator:hover {background-color: #d4ebff;}#sk-container-id-3 div.sk-parallel-item::after {content: \"\";width: 100%;border-bottom: 1px solid gray;flex-grow: 1;}#sk-container-id-3 div.sk-label:hover label.sk-toggleable__label {background-color: #d4ebff;}#sk-container-id-3 div.sk-serial::before {content: \"\";position: absolute;border-left: 1px solid gray;box-sizing: border-box;top: 0;bottom: 0;left: 50%;z-index: 0;}#sk-container-id-3 div.sk-serial {display: flex;flex-direction: column;align-items: center;background-color: white;padding-right: 0.2em;padding-left: 0.2em;position: relative;}#sk-container-id-3 div.sk-item {position: relative;z-index: 1;}#sk-container-id-3 div.sk-parallel {display: flex;align-items: stretch;justify-content: center;background-color: white;position: relative;}#sk-container-id-3 div.sk-item::before, #sk-container-id-3 div.sk-parallel-item::before {content: \"\";position: absolute;border-left: 1px solid gray;box-sizing: border-box;top: 0;bottom: 0;left: 50%;z-index: -1;}#sk-container-id-3 div.sk-parallel-item {display: flex;flex-direction: column;z-index: 1;position: relative;background-color: white;}#sk-container-id-3 div.sk-parallel-item:first-child::after {align-self: flex-end;width: 50%;}#sk-container-id-3 div.sk-parallel-item:last-child::after {align-self: flex-start;width: 50%;}#sk-container-id-3 div.sk-parallel-item:only-child::after {width: 0;}#sk-container-id-3 div.sk-dashed-wrapped {border: 1px dashed gray;margin: 0 0.4em 0.5em 0.4em;box-sizing: border-box;padding-bottom: 0.4em;background-color: white;}#sk-container-id-3 div.sk-label label {font-family: monospace;font-weight: bold;display: inline-block;line-height: 1.2em;}#sk-container-id-3 div.sk-label-container {text-align: center;}#sk-container-id-3 div.sk-container {/* jupyter's `normalize.less` sets `[hidden] { display: none; }` but bootstrap.min.css set `[hidden] { display: none !important; }` so we also need the `!important` here to be able to override the default hidden behavior on the sphinx rendered scikit-learn.org. See: https://github.com/scikit-learn/scikit-learn/issues/21755 */display: inline-block !important;position: relative;}#sk-container-id-3 div.sk-text-repr-fallback {display: none;}</style><div id=\"sk-container-id-3\" class=\"sk-top-container\"><div class=\"sk-text-repr-fallback\"><pre>RandomForestRegressor()</pre><b>In a Jupyter environment, please rerun this cell to show the HTML representation or trust the notebook. <br />On GitHub, the HTML representation is unable to render, please try loading this page with nbviewer.org.</b></div><div class=\"sk-container\" hidden><div class=\"sk-item\"><div class=\"sk-estimator sk-toggleable\"><input class=\"sk-toggleable__control sk-hidden--visually\" id=\"sk-estimator-id-3\" type=\"checkbox\" checked><label for=\"sk-estimator-id-3\" class=\"sk-toggleable__label sk-toggleable__label-arrow\">RandomForestRegressor</label><div class=\"sk-toggleable__content\"><pre>RandomForestRegressor()</pre></div></div></div></div></div>"
      ],
      "text/plain": [
       "RandomForestRegressor()"
      ]
     },
     "execution_count": 223,
     "metadata": {},
     "output_type": "execute_result"
    }
   ],
   "source": [
    "rf = RandomForestRegressor()\n",
    "\n",
    "rf.fit(x_train,y_train)"
   ]
  },
  {
   "cell_type": "code",
   "execution_count": 224,
   "id": "3e51850c",
   "metadata": {},
   "outputs": [],
   "source": [
    "rf_pred = rf.predict(x_test)"
   ]
  },
  {
   "cell_type": "code",
   "execution_count": 225,
   "id": "1a3235bc",
   "metadata": {},
   "outputs": [
    {
     "data": {
      "text/plain": [
       "0.9680962627756327"
      ]
     },
     "execution_count": 225,
     "metadata": {},
     "output_type": "execute_result"
    }
   ],
   "source": [
    "rf.score(x_train,y_train)"
   ]
  },
  {
   "cell_type": "code",
   "execution_count": 226,
   "id": "a7766949",
   "metadata": {},
   "outputs": [
    {
     "data": {
      "text/plain": [
       "0.8195759660988531"
      ]
     },
     "execution_count": 226,
     "metadata": {},
     "output_type": "execute_result"
    }
   ],
   "source": [
    "rf.score(x_test,y_test)"
   ]
  },
  {
   "cell_type": "code",
   "execution_count": 227,
   "id": "b23b7743",
   "metadata": {},
   "outputs": [
    {
     "data": {
      "text/plain": [
       "82.12225950782998"
      ]
     },
     "execution_count": 227,
     "metadata": {},
     "output_type": "execute_result"
    }
   ],
   "source": [
    "mean_absolute_error(y_test,rf_pred)"
   ]
  },
  {
   "cell_type": "code",
   "execution_count": 228,
   "id": "01f91542",
   "metadata": {},
   "outputs": [
    {
     "data": {
      "text/plain": [
       "22370.302091722595"
      ]
     },
     "execution_count": 228,
     "metadata": {},
     "output_type": "execute_result"
    }
   ],
   "source": [
    "mean_squared_error(y_test,rf_pred)"
   ]
  },
  {
   "cell_type": "code",
   "execution_count": 229,
   "id": "24dd7654",
   "metadata": {},
   "outputs": [
    {
     "data": {
      "text/plain": [
       "149.56704881665144"
      ]
     },
     "execution_count": 229,
     "metadata": {},
     "output_type": "execute_result"
    }
   ],
   "source": [
    "np.sqrt(mean_squared_error(y_test,rf_pred))"
   ]
  },
  {
   "cell_type": "code",
   "execution_count": 230,
   "id": "cc2b3343",
   "metadata": {},
   "outputs": [
    {
     "data": {
      "image/png": "[encoded data removed]",
      "text/plain": [
       "<Figure size 432x288 with 1 Axes>"
      ]
     },
     "metadata": {
      "needs_background": "light"
     },
     "output_type": "display_data"
    }
   ],
   "source": [
    "plt.scatter(y_test,rf_pred)\n",
    "plt.xlabel('Actual')\n",
    "plt.ylabel('Predicted')\n",
    "\n",
    "plt.show()"
   ]
  },
  {
   "cell_type": "code",
   "execution_count": null,
   "id": "5685dab2",
   "metadata": {},
   "outputs": [],
   "source": []
  },
  {
   "cell_type": "code",
   "execution_count": null,
   "id": "f49b599f",
   "metadata": {},
   "outputs": [],
   "source": []
  },
  {
   "cell_type": "code",
   "execution_count": 231,
   "id": "f9243499",
   "metadata": {},
   "outputs": [],
   "source": [
    "# fourth model "
   ]
  },
  {
   "cell_type": "code",
   "execution_count": 232,
   "id": "5c6d9107",
   "metadata": {},
   "outputs": [],
   "source": [
    "from sklearn.ensemble import AdaBoostRegressor"
   ]
  },
  {
   "cell_type": "code",
   "execution_count": 233,
   "id": "4e767e23",
   "metadata": {},
   "outputs": [
    {
     "data": {
      "text/html": [
       "<style>#sk-container-id-4 {color: black;background-color: white;}#sk-container-id-4 pre{padding: 0;}#sk-container-id-4 div.sk-toggleable {background-color: white;}#sk-container-id-4 label.sk-toggleable__label {cursor: pointer;display: block;width: 100%;margin-bottom: 0;padding: 0.3em;box-sizing: border-box;text-align: center;}#sk-container-id-4 label.sk-toggleable__label-arrow:before {content: \"▸\";float: left;margin-right: 0.25em;color: #696969;}#sk-container-id-4 label.sk-toggleable__label-arrow:hover:before {color: black;}#sk-container-id-4 div.sk-estimator:hover label.sk-toggleable__label-arrow:before {color: black;}#sk-container-id-4 div.sk-toggleable__content {max-height: 0;max-width: 0;overflow: hidden;text-align: left;background-color: #f0f8ff;}#sk-container-id-4 div.sk-toggleable__content pre {margin: 0.2em;color: black;border-radius: 0.25em;background-color: #f0f8ff;}#sk-container-id-4 input.sk-toggleable__control:checked~div.sk-toggleable__content {max-height: 200px;max-width: 100%;overflow: auto;}#sk-container-id-4 input.sk-toggleable__control:checked~label.sk-toggleable__label-arrow:before {content: \"▾\";}#sk-container-id-4 div.sk-estimator input.sk-toggleable__control:checked~label.sk-toggleable__label {background-color: #d4ebff;}#sk-container-id-4 div.sk-label input.sk-toggleable__control:checked~label.sk-toggleable__label {background-color: #d4ebff;}#sk-container-id-4 input.sk-hidden--visually {border: 0;clip: rect(1px 1px 1px 1px);clip: rect(1px, 1px, 1px, 1px);height: 1px;margin: -1px;overflow: hidden;padding: 0;position: absolute;width: 1px;}#sk-container-id-4 div.sk-estimator {font-family: monospace;background-color: #f0f8ff;border: 1px dotted black;border-radius: 0.25em;box-sizing: border-box;margin-bottom: 0.5em;}#sk-container-id-4 div.sk-estimator:hover {background-color: #d4ebff;}#sk-container-id-4 div.sk-parallel-item::after {content: \"\";width: 100%;border-bottom: 1px solid gray;flex-grow: 1;}#sk-container-id-4 div.sk-label:hover label.sk-toggleable__label {background-color: #d4ebff;}#sk-container-id-4 div.sk-serial::before {content: \"\";position: absolute;border-left: 1px solid gray;box-sizing: border-box;top: 0;bottom: 0;left: 50%;z-index: 0;}#sk-container-id-4 div.sk-serial {display: flex;flex-direction: column;align-items: center;background-color: white;padding-right: 0.2em;padding-left: 0.2em;position: relative;}#sk-container-id-4 div.sk-item {position: relative;z-index: 1;}#sk-container-id-4 div.sk-parallel {display: flex;align-items: stretch;justify-content: center;background-color: white;position: relative;}#sk-container-id-4 div.sk-item::before, #sk-container-id-4 div.sk-parallel-item::before {content: \"\";position: absolute;border-left: 1px solid gray;box-sizing: border-box;top: 0;bottom: 0;left: 50%;z-index: -1;}#sk-container-id-4 div.sk-parallel-item {display: flex;flex-direction: column;z-index: 1;position: relative;background-color: white;}#sk-container-id-4 div.sk-parallel-item:first-child::after {align-self: flex-end;width: 50%;}#sk-container-id-4 div.sk-parallel-item:last-child::after {align-self: flex-start;width: 50%;}#sk-container-id-4 div.sk-parallel-item:only-child::after {width: 0;}#sk-container-id-4 div.sk-dashed-wrapped {border: 1px dashed gray;margin: 0 0.4em 0.5em 0.4em;box-sizing: border-box;padding-bottom: 0.4em;background-color: white;}#sk-container-id-4 div.sk-label label {font-family: monospace;font-weight: bold;display: inline-block;line-height: 1.2em;}#sk-container-id-4 div.sk-label-container {text-align: center;}#sk-container-id-4 div.sk-container {/* jupyter's `normalize.less` sets `[hidden] { display: none; }` but bootstrap.min.css set `[hidden] { display: none !important; }` so we also need the `!important` here to be able to override the default hidden behavior on the sphinx rendered scikit-learn.org. See: https://github.com/scikit-learn/scikit-learn/issues/21755 */display: inline-block !important;position: relative;}#sk-container-id-4 div.sk-text-repr-fallback {display: none;}</style><div id=\"sk-container-id-4\" class=\"sk-top-container\"><div class=\"sk-text-repr-fallback\"><pre>AdaBoostRegressor()</pre><b>In a Jupyter environment, please rerun this cell to show the HTML representation or trust the notebook. <br />On GitHub, the HTML representation is unable to render, please try loading this page with nbviewer.org.</b></div><div class=\"sk-container\" hidden><div class=\"sk-item\"><div class=\"sk-estimator sk-toggleable\"><input class=\"sk-toggleable__control sk-hidden--visually\" id=\"sk-estimator-id-4\" type=\"checkbox\" checked><label for=\"sk-estimator-id-4\" class=\"sk-toggleable__label sk-toggleable__label-arrow\">AdaBoostRegressor</label><div class=\"sk-toggleable__content\"><pre>AdaBoostRegressor()</pre></div></div></div></div></div>"
      ],
      "text/plain": [
       "AdaBoostRegressor()"
      ]
     },
     "execution_count": 233,
     "metadata": {},
     "output_type": "execute_result"
    }
   ],
   "source": [
    "ada = AdaBoostRegressor()\n",
    "\n",
    "ada.fit(x_train,y_train)"
   ]
  },
  {
   "cell_type": "code",
   "execution_count": 234,
   "id": "a16c8f8a",
   "metadata": {},
   "outputs": [],
   "source": [
    "ada_pred = ada.predict(x_test)"
   ]
  },
  {
   "cell_type": "code",
   "execution_count": 235,
   "id": "34225c11",
   "metadata": {},
   "outputs": [
    {
     "data": {
      "text/plain": [
       "0.875873239133669"
      ]
     },
     "execution_count": 235,
     "metadata": {},
     "output_type": "execute_result"
    }
   ],
   "source": [
    "ada.score(x_train,y_train)"
   ]
  },
  {
   "cell_type": "code",
   "execution_count": 236,
   "id": "873da43d",
   "metadata": {},
   "outputs": [
    {
     "data": {
      "text/plain": [
       "0.7997406103812945"
      ]
     },
     "execution_count": 236,
     "metadata": {},
     "output_type": "execute_result"
    }
   ],
   "source": [
    "ada.score(x_test,y_test)"
   ]
  },
  {
   "cell_type": "code",
   "execution_count": 237,
   "id": "6d538cea",
   "metadata": {},
   "outputs": [
    {
     "data": {
      "text/plain": [
       "101.49040927820415"
      ]
     },
     "execution_count": 237,
     "metadata": {},
     "output_type": "execute_result"
    }
   ],
   "source": [
    "mean_absolute_error(y_test,ada_pred)"
   ]
  },
  {
   "cell_type": "code",
   "execution_count": 238,
   "id": "6940c665",
   "metadata": {},
   "outputs": [
    {
     "data": {
      "text/plain": [
       "24829.635750905018"
      ]
     },
     "execution_count": 238,
     "metadata": {},
     "output_type": "execute_result"
    }
   ],
   "source": [
    "mean_squared_error(y_test,ada_pred)"
   ]
  },
  {
   "cell_type": "code",
   "execution_count": 239,
   "id": "90eb59b9",
   "metadata": {},
   "outputs": [
    {
     "data": {
      "text/plain": [
       "157.5742229900088"
      ]
     },
     "execution_count": 239,
     "metadata": {},
     "output_type": "execute_result"
    }
   ],
   "source": [
    "np.sqrt(mean_squared_error(y_test,ada_pred))"
   ]
  },
  {
   "cell_type": "code",
   "execution_count": 240,
   "id": "072a730a",
   "metadata": {},
   "outputs": [
    {
     "data": {
      "image/png": "[encoded data removed]",
      "text/plain": [
       "<Figure size 432x288 with 1 Axes>"
      ]
     },
     "metadata": {
      "needs_background": "light"
     },
     "output_type": "display_data"
    }
   ],
   "source": [
    "plt.scatter(y_test,ada_pred)\n",
    "plt.xlabel('Actual')\n",
    "plt.ylabel('Predicted')\n",
    "\n",
    "plt.show()"
   ]
  },
  {
   "cell_type": "code",
   "execution_count": null,
   "id": "3eefde32",
   "metadata": {},
   "outputs": [],
   "source": []
  },
  {
   "cell_type": "code",
   "execution_count": null,
   "id": "13ecf2d1",
   "metadata": {},
   "outputs": [],
   "source": []
  },
  {
   "cell_type": "code",
   "execution_count": 241,
   "id": "f0e61ed7",
   "metadata": {},
   "outputs": [],
   "source": [
    "# fifth model"
   ]
  },
  {
   "cell_type": "code",
   "execution_count": 242,
   "id": "0e230da8",
   "metadata": {},
   "outputs": [],
   "source": [
    "from sklearn.svm import SVR"
   ]
  },
  {
   "cell_type": "code",
   "execution_count": 243,
   "id": "53e6dd09",
   "metadata": {},
   "outputs": [
    {
     "data": {
      "text/html": [
       "<style>#sk-container-id-5 {color: black;background-color: white;}#sk-container-id-5 pre{padding: 0;}#sk-container-id-5 div.sk-toggleable {background-color: white;}#sk-container-id-5 label.sk-toggleable__label {cursor: pointer;display: block;width: 100%;margin-bottom: 0;padding: 0.3em;box-sizing: border-box;text-align: center;}#sk-container-id-5 label.sk-toggleable__label-arrow:before {content: \"▸\";float: left;margin-right: 0.25em;color: #696969;}#sk-container-id-5 label.sk-toggleable__label-arrow:hover:before {color: black;}#sk-container-id-5 div.sk-estimator:hover label.sk-toggleable__label-arrow:before {color: black;}#sk-container-id-5 div.sk-toggleable__content {max-height: 0;max-width: 0;overflow: hidden;text-align: left;background-color: #f0f8ff;}#sk-container-id-5 div.sk-toggleable__content pre {margin: 0.2em;color: black;border-radius: 0.25em;background-color: #f0f8ff;}#sk-container-id-5 input.sk-toggleable__control:checked~div.sk-toggleable__content {max-height: 200px;max-width: 100%;overflow: auto;}#sk-container-id-5 input.sk-toggleable__control:checked~label.sk-toggleable__label-arrow:before {content: \"▾\";}#sk-container-id-5 div.sk-estimator input.sk-toggleable__control:checked~label.sk-toggleable__label {background-color: #d4ebff;}#sk-container-id-5 div.sk-label input.sk-toggleable__control:checked~label.sk-toggleable__label {background-color: #d4ebff;}#sk-container-id-5 input.sk-hidden--visually {border: 0;clip: rect(1px 1px 1px 1px);clip: rect(1px, 1px, 1px, 1px);height: 1px;margin: -1px;overflow: hidden;padding: 0;position: absolute;width: 1px;}#sk-container-id-5 div.sk-estimator {font-family: monospace;background-color: #f0f8ff;border: 1px dotted black;border-radius: 0.25em;box-sizing: border-box;margin-bottom: 0.5em;}#sk-container-id-5 div.sk-estimator:hover {background-color: #d4ebff;}#sk-container-id-5 div.sk-parallel-item::after {content: \"\";width: 100%;border-bottom: 1px solid gray;flex-grow: 1;}#sk-container-id-5 div.sk-label:hover label.sk-toggleable__label {background-color: #d4ebff;}#sk-container-id-5 div.sk-serial::before {content: \"\";position: absolute;border-left: 1px solid gray;box-sizing: border-box;top: 0;bottom: 0;left: 50%;z-index: 0;}#sk-container-id-5 div.sk-serial {display: flex;flex-direction: column;align-items: center;background-color: white;padding-right: 0.2em;padding-left: 0.2em;position: relative;}#sk-container-id-5 div.sk-item {position: relative;z-index: 1;}#sk-container-id-5 div.sk-parallel {display: flex;align-items: stretch;justify-content: center;background-color: white;position: relative;}#sk-container-id-5 div.sk-item::before, #sk-container-id-5 div.sk-parallel-item::before {content: \"\";position: absolute;border-left: 1px solid gray;box-sizing: border-box;top: 0;bottom: 0;left: 50%;z-index: -1;}#sk-container-id-5 div.sk-parallel-item {display: flex;flex-direction: column;z-index: 1;position: relative;background-color: white;}#sk-container-id-5 div.sk-parallel-item:first-child::after {align-self: flex-end;width: 50%;}#sk-container-id-5 div.sk-parallel-item:last-child::after {align-self: flex-start;width: 50%;}#sk-container-id-5 div.sk-parallel-item:only-child::after {width: 0;}#sk-container-id-5 div.sk-dashed-wrapped {border: 1px dashed gray;margin: 0 0.4em 0.5em 0.4em;box-sizing: border-box;padding-bottom: 0.4em;background-color: white;}#sk-container-id-5 div.sk-label label {font-family: monospace;font-weight: bold;display: inline-block;line-height: 1.2em;}#sk-container-id-5 div.sk-label-container {text-align: center;}#sk-container-id-5 div.sk-container {/* jupyter's `normalize.less` sets `[hidden] { display: none; }` but bootstrap.min.css set `[hidden] { display: none !important; }` so we also need the `!important` here to be able to override the default hidden behavior on the sphinx rendered scikit-learn.org. See: https://github.com/scikit-learn/scikit-learn/issues/21755 */display: inline-block !important;position: relative;}#sk-container-id-5 div.sk-text-repr-fallback {display: none;}</style><div id=\"sk-container-id-5\" class=\"sk-top-container\"><div class=\"sk-text-repr-fallback\"><pre>SVR()</pre><b>In a Jupyter environment, please rerun this cell to show the HTML representation or trust the notebook. <br />On GitHub, the HTML representation is unable to render, please try loading this page with nbviewer.org.</b></div><div class=\"sk-container\" hidden><div class=\"sk-item\"><div class=\"sk-estimator sk-toggleable\"><input class=\"sk-toggleable__control sk-hidden--visually\" id=\"sk-estimator-id-5\" type=\"checkbox\" checked><label for=\"sk-estimator-id-5\" class=\"sk-toggleable__label sk-toggleable__label-arrow\">SVR</label><div class=\"sk-toggleable__content\"><pre>SVR()</pre></div></div></div></div></div>"
      ],
      "text/plain": [
       "SVR()"
      ]
     },
     "execution_count": 243,
     "metadata": {},
     "output_type": "execute_result"
    }
   ],
   "source": [
    "svr = SVR()\n",
    "\n",
    "svr.fit(x_train,y_train)"
   ]
  },
  {
   "cell_type": "code",
   "execution_count": 244,
   "id": "9e609693",
   "metadata": {},
   "outputs": [],
   "source": [
    "svr_pred = svr.predict(x_test)"
   ]
  },
  {
   "cell_type": "code",
   "execution_count": 245,
   "id": "d4f1552e",
   "metadata": {},
   "outputs": [
    {
     "data": {
      "text/plain": [
       "0.15942435811032585"
      ]
     },
     "execution_count": 245,
     "metadata": {},
     "output_type": "execute_result"
    }
   ],
   "source": [
    "svr.score(x_train,y_train)"
   ]
  },
  {
   "cell_type": "code",
   "execution_count": 246,
   "id": "9b6ef678",
   "metadata": {},
   "outputs": [
    {
     "data": {
      "text/plain": [
       "0.1374298121599803"
      ]
     },
     "execution_count": 246,
     "metadata": {},
     "output_type": "execute_result"
    }
   ],
   "source": [
    "svr.score(x_test,y_test)"
   ]
  },
  {
   "cell_type": "code",
   "execution_count": 247,
   "id": "9eb45159",
   "metadata": {},
   "outputs": [
    {
     "data": {
      "text/plain": [
       "152.39900955986155"
      ]
     },
     "execution_count": 247,
     "metadata": {},
     "output_type": "execute_result"
    }
   ],
   "source": [
    "mean_absolute_error(y_test,svr_pred)"
   ]
  },
  {
   "cell_type": "code",
   "execution_count": 248,
   "id": "46f4ad62",
   "metadata": {},
   "outputs": [
    {
     "data": {
      "text/plain": [
       "106947.81210726763"
      ]
     },
     "execution_count": 248,
     "metadata": {},
     "output_type": "execute_result"
    }
   ],
   "source": [
    "mean_squared_error(y_test,svr_pred)"
   ]
  },
  {
   "cell_type": "code",
   "execution_count": 249,
   "id": "c83b3851",
   "metadata": {},
   "outputs": [
    {
     "data": {
      "text/plain": [
       "327.02876342497404"
      ]
     },
     "execution_count": 249,
     "metadata": {},
     "output_type": "execute_result"
    }
   ],
   "source": [
    "np.sqrt(mean_squared_error(y_test,svr_pred))"
   ]
  },
  {
   "cell_type": "code",
   "execution_count": 250,
   "id": "33150d5c",
   "metadata": {},
   "outputs": [
    {
     "data": {
      "image/png": "[encoded data removed]",
      "text/plain": [
       "<Figure size 432x288 with 1 Axes>"
      ]
     },
     "metadata": {
      "needs_background": "light"
     },
     "output_type": "display_data"
    }
   ],
   "source": [
    "plt.scatter(y_test,svr_pred)\n",
    "plt.xlabel('Actual')\n",
    "plt.ylabel('Predicted')\n",
    "\n",
    "plt.show()"
   ]
  },
  {
   "cell_type": "code",
   "execution_count": null,
   "id": "0ad7eeb5",
   "metadata": {},
   "outputs": [],
   "source": []
  },
  {
   "cell_type": "code",
   "execution_count": null,
   "id": "4f99f487",
   "metadata": {},
   "outputs": [],
   "source": []
  },
  {
   "cell_type": "code",
   "execution_count": null,
   "id": "870fbd4a",
   "metadata": {},
   "outputs": [],
   "source": []
  },
  {
   "cell_type": "code",
   "execution_count": 251,
   "id": "8a788e4d",
   "metadata": {},
   "outputs": [],
   "source": [
    "# hyperparameter tuning in AdaBoost"
   ]
  },
  {
   "cell_type": "code",
   "execution_count": 252,
   "id": "36077446",
   "metadata": {},
   "outputs": [],
   "source": [
    "from sklearn.model_selection import RandomizedSearchCV"
   ]
  },
  {
   "cell_type": "code",
   "execution_count": 253,
   "id": "9eb098f1",
   "metadata": {},
   "outputs": [],
   "source": [
    "params = {'n_estimators':[20,30,40,50],'learning_rate':[0.25,0.30,0.35,0.40]}"
   ]
  },
  {
   "cell_type": "code",
   "execution_count": 254,
   "id": "88ef01e8",
   "metadata": {},
   "outputs": [],
   "source": [
    "rnd_srch = RandomizedSearchCV(AdaBoostRegressor(),cv=5,param_distributions=params)"
   ]
  },
  {
   "cell_type": "code",
   "execution_count": 255,
   "id": "1dd0bf35",
   "metadata": {},
   "outputs": [
    {
     "data": {
      "text/html": [
       "<style>#sk-container-id-6 {color: black;background-color: white;}#sk-container-id-6 pre{padding: 0;}#sk-container-id-6 div.sk-toggleable {background-color: white;}#sk-container-id-6 label.sk-toggleable__label {cursor: pointer;display: block;width: 100%;margin-bottom: 0;padding: 0.3em;box-sizing: border-box;text-align: center;}#sk-container-id-6 label.sk-toggleable__label-arrow:before {content: \"▸\";float: left;margin-right: 0.25em;color: #696969;}#sk-container-id-6 label.sk-toggleable__label-arrow:hover:before {color: black;}#sk-container-id-6 div.sk-estimator:hover label.sk-toggleable__label-arrow:before {color: black;}#sk-container-id-6 div.sk-toggleable__content {max-height: 0;max-width: 0;overflow: hidden;text-align: left;background-color: #f0f8ff;}#sk-container-id-6 div.sk-toggleable__content pre {margin: 0.2em;color: black;border-radius: 0.25em;background-color: #f0f8ff;}#sk-container-id-6 input.sk-toggleable__control:checked~div.sk-toggleable__content {max-height: 200px;max-width: 100%;overflow: auto;}#sk-container-id-6 input.sk-toggleable__control:checked~label.sk-toggleable__label-arrow:before {content: \"▾\";}#sk-container-id-6 div.sk-estimator input.sk-toggleable__control:checked~label.sk-toggleable__label {background-color: #d4ebff;}#sk-container-id-6 div.sk-label input.sk-toggleable__control:checked~label.sk-toggleable__label {background-color: #d4ebff;}#sk-container-id-6 input.sk-hidden--visually {border: 0;clip: rect(1px 1px 1px 1px);clip: rect(1px, 1px, 1px, 1px);height: 1px;margin: -1px;overflow: hidden;padding: 0;position: absolute;width: 1px;}#sk-container-id-6 div.sk-estimator {font-family: monospace;background-color: #f0f8ff;border: 1px dotted black;border-radius: 0.25em;box-sizing: border-box;margin-bottom: 0.5em;}#sk-container-id-6 div.sk-estimator:hover {background-color: #d4ebff;}#sk-container-id-6 div.sk-parallel-item::after {content: \"\";width: 100%;border-bottom: 1px solid gray;flex-grow: 1;}#sk-container-id-6 div.sk-label:hover label.sk-toggleable__label {background-color: #d4ebff;}#sk-container-id-6 div.sk-serial::before {content: \"\";position: absolute;border-left: 1px solid gray;box-sizing: border-box;top: 0;bottom: 0;left: 50%;z-index: 0;}#sk-container-id-6 div.sk-serial {display: flex;flex-direction: column;align-items: center;background-color: white;padding-right: 0.2em;padding-left: 0.2em;position: relative;}#sk-container-id-6 div.sk-item {position: relative;z-index: 1;}#sk-container-id-6 div.sk-parallel {display: flex;align-items: stretch;justify-content: center;background-color: white;position: relative;}#sk-container-id-6 div.sk-item::before, #sk-container-id-6 div.sk-parallel-item::before {content: \"\";position: absolute;border-left: 1px solid gray;box-sizing: border-box;top: 0;bottom: 0;left: 50%;z-index: -1;}#sk-container-id-6 div.sk-parallel-item {display: flex;flex-direction: column;z-index: 1;position: relative;background-color: white;}#sk-container-id-6 div.sk-parallel-item:first-child::after {align-self: flex-end;width: 50%;}#sk-container-id-6 div.sk-parallel-item:last-child::after {align-self: flex-start;width: 50%;}#sk-container-id-6 div.sk-parallel-item:only-child::after {width: 0;}#sk-container-id-6 div.sk-dashed-wrapped {border: 1px dashed gray;margin: 0 0.4em 0.5em 0.4em;box-sizing: border-box;padding-bottom: 0.4em;background-color: white;}#sk-container-id-6 div.sk-label label {font-family: monospace;font-weight: bold;display: inline-block;line-height: 1.2em;}#sk-container-id-6 div.sk-label-container {text-align: center;}#sk-container-id-6 div.sk-container {/* jupyter's `normalize.less` sets `[hidden] { display: none; }` but bootstrap.min.css set `[hidden] { display: none !important; }` so we also need the `!important` here to be able to override the default hidden behavior on the sphinx rendered scikit-learn.org. See: https://github.com/scikit-learn/scikit-learn/issues/21755 */display: inline-block !important;position: relative;}#sk-container-id-6 div.sk-text-repr-fallback {display: none;}</style><div id=\"sk-container-id-6\" class=\"sk-top-container\"><div class=\"sk-text-repr-fallback\"><pre>RandomizedSearchCV(cv=5, estimator=AdaBoostRegressor(),\n",
       "                   param_distributions={&#x27;learning_rate&#x27;: [0.25, 0.3, 0.35, 0.4],\n",
       "                                        &#x27;n_estimators&#x27;: [20, 30, 40, 50]})</pre><b>In a Jupyter environment, please rerun this cell to show the HTML representation or trust the notebook. <br />On GitHub, the HTML representation is unable to render, please try loading this page with nbviewer.org.</b></div><div class=\"sk-container\" hidden><div class=\"sk-item sk-dashed-wrapped\"><div class=\"sk-label-container\"><div class=\"sk-label sk-toggleable\"><input class=\"sk-toggleable__control sk-hidden--visually\" id=\"sk-estimator-id-6\" type=\"checkbox\" ><label for=\"sk-estimator-id-6\" class=\"sk-toggleable__label sk-toggleable__label-arrow\">RandomizedSearchCV</label><div class=\"sk-toggleable__content\"><pre>RandomizedSearchCV(cv=5, estimator=AdaBoostRegressor(),\n",
       "                   param_distributions={&#x27;learning_rate&#x27;: [0.25, 0.3, 0.35, 0.4],\n",
       "                                        &#x27;n_estimators&#x27;: [20, 30, 40, 50]})</pre></div></div></div><div class=\"sk-parallel\"><div class=\"sk-parallel-item\"><div class=\"sk-item\"><div class=\"sk-label-container\"><div class=\"sk-label sk-toggleable\"><input class=\"sk-toggleable__control sk-hidden--visually\" id=\"sk-estimator-id-7\" type=\"checkbox\" ><label for=\"sk-estimator-id-7\" class=\"sk-toggleable__label sk-toggleable__label-arrow\">estimator: AdaBoostRegressor</label><div class=\"sk-toggleable__content\"><pre>AdaBoostRegressor()</pre></div></div></div><div class=\"sk-serial\"><div class=\"sk-item\"><div class=\"sk-estimator sk-toggleable\"><input class=\"sk-toggleable__control sk-hidden--visually\" id=\"sk-estimator-id-8\" type=\"checkbox\" ><label for=\"sk-estimator-id-8\" class=\"sk-toggleable__label sk-toggleable__label-arrow\">AdaBoostRegressor</label><div class=\"sk-toggleable__content\"><pre>AdaBoostRegressor()</pre></div></div></div></div></div></div></div></div></div></div>"
      ],
      "text/plain": [
       "RandomizedSearchCV(cv=5, estimator=AdaBoostRegressor(),\n",
       "                   param_distributions={'learning_rate': [0.25, 0.3, 0.35, 0.4],\n",
       "                                        'n_estimators': [20, 30, 40, 50]})"
      ]
     },
     "execution_count": 255,
     "metadata": {},
     "output_type": "execute_result"
    }
   ],
   "source": [
    "rnd_srch.fit(x_train,y_train)"
   ]
  },
  {
   "cell_type": "code",
   "execution_count": 256,
   "id": "1e7b8108",
   "metadata": {},
   "outputs": [
    {
     "data": {
      "text/html": [
       "<style>#sk-container-id-7 {color: black;background-color: white;}#sk-container-id-7 pre{padding: 0;}#sk-container-id-7 div.sk-toggleable {background-color: white;}#sk-container-id-7 label.sk-toggleable__label {cursor: pointer;display: block;width: 100%;margin-bottom: 0;padding: 0.3em;box-sizing: border-box;text-align: center;}#sk-container-id-7 label.sk-toggleable__label-arrow:before {content: \"▸\";float: left;margin-right: 0.25em;color: #696969;}#sk-container-id-7 label.sk-toggleable__label-arrow:hover:before {color: black;}#sk-container-id-7 div.sk-estimator:hover label.sk-toggleable__label-arrow:before {color: black;}#sk-container-id-7 div.sk-toggleable__content {max-height: 0;max-width: 0;overflow: hidden;text-align: left;background-color: #f0f8ff;}#sk-container-id-7 div.sk-toggleable__content pre {margin: 0.2em;color: black;border-radius: 0.25em;background-color: #f0f8ff;}#sk-container-id-7 input.sk-toggleable__control:checked~div.sk-toggleable__content {max-height: 200px;max-width: 100%;overflow: auto;}#sk-container-id-7 input.sk-toggleable__control:checked~label.sk-toggleable__label-arrow:before {content: \"▾\";}#sk-container-id-7 div.sk-estimator input.sk-toggleable__control:checked~label.sk-toggleable__label {background-color: #d4ebff;}#sk-container-id-7 div.sk-label input.sk-toggleable__control:checked~label.sk-toggleable__label {background-color: #d4ebff;}#sk-container-id-7 input.sk-hidden--visually {border: 0;clip: rect(1px 1px 1px 1px);clip: rect(1px, 1px, 1px, 1px);height: 1px;margin: -1px;overflow: hidden;padding: 0;position: absolute;width: 1px;}#sk-container-id-7 div.sk-estimator {font-family: monospace;background-color: #f0f8ff;border: 1px dotted black;border-radius: 0.25em;box-sizing: border-box;margin-bottom: 0.5em;}#sk-container-id-7 div.sk-estimator:hover {background-color: #d4ebff;}#sk-container-id-7 div.sk-parallel-item::after {content: \"\";width: 100%;border-bottom: 1px solid gray;flex-grow: 1;}#sk-container-id-7 div.sk-label:hover label.sk-toggleable__label {background-color: #d4ebff;}#sk-container-id-7 div.sk-serial::before {content: \"\";position: absolute;border-left: 1px solid gray;box-sizing: border-box;top: 0;bottom: 0;left: 50%;z-index: 0;}#sk-container-id-7 div.sk-serial {display: flex;flex-direction: column;align-items: center;background-color: white;padding-right: 0.2em;padding-left: 0.2em;position: relative;}#sk-container-id-7 div.sk-item {position: relative;z-index: 1;}#sk-container-id-7 div.sk-parallel {display: flex;align-items: stretch;justify-content: center;background-color: white;position: relative;}#sk-container-id-7 div.sk-item::before, #sk-container-id-7 div.sk-parallel-item::before {content: \"\";position: absolute;border-left: 1px solid gray;box-sizing: border-box;top: 0;bottom: 0;left: 50%;z-index: -1;}#sk-container-id-7 div.sk-parallel-item {display: flex;flex-direction: column;z-index: 1;position: relative;background-color: white;}#sk-container-id-7 div.sk-parallel-item:first-child::after {align-self: flex-end;width: 50%;}#sk-container-id-7 div.sk-parallel-item:last-child::after {align-self: flex-start;width: 50%;}#sk-container-id-7 div.sk-parallel-item:only-child::after {width: 0;}#sk-container-id-7 div.sk-dashed-wrapped {border: 1px dashed gray;margin: 0 0.4em 0.5em 0.4em;box-sizing: border-box;padding-bottom: 0.4em;background-color: white;}#sk-container-id-7 div.sk-label label {font-family: monospace;font-weight: bold;display: inline-block;line-height: 1.2em;}#sk-container-id-7 div.sk-label-container {text-align: center;}#sk-container-id-7 div.sk-container {/* jupyter's `normalize.less` sets `[hidden] { display: none; }` but bootstrap.min.css set `[hidden] { display: none !important; }` so we also need the `!important` here to be able to override the default hidden behavior on the sphinx rendered scikit-learn.org. See: https://github.com/scikit-learn/scikit-learn/issues/21755 */display: inline-block !important;position: relative;}#sk-container-id-7 div.sk-text-repr-fallback {display: none;}</style><div id=\"sk-container-id-7\" class=\"sk-top-container\"><div class=\"sk-text-repr-fallback\"><pre>AdaBoostRegressor(learning_rate=0.25, n_estimators=30)</pre><b>In a Jupyter environment, please rerun this cell to show the HTML representation or trust the notebook. <br />On GitHub, the HTML representation is unable to render, please try loading this page with nbviewer.org.</b></div><div class=\"sk-container\" hidden><div class=\"sk-item\"><div class=\"sk-estimator sk-toggleable\"><input class=\"sk-toggleable__control sk-hidden--visually\" id=\"sk-estimator-id-9\" type=\"checkbox\" checked><label for=\"sk-estimator-id-9\" class=\"sk-toggleable__label sk-toggleable__label-arrow\">AdaBoostRegressor</label><div class=\"sk-toggleable__content\"><pre>AdaBoostRegressor(learning_rate=0.25, n_estimators=30)</pre></div></div></div></div></div>"
      ],
      "text/plain": [
       "AdaBoostRegressor(learning_rate=0.25, n_estimators=30)"
      ]
     },
     "execution_count": 256,
     "metadata": {},
     "output_type": "execute_result"
    }
   ],
   "source": [
    "rnd_srch.best_estimator_"
   ]
  },
  {
   "cell_type": "code",
   "execution_count": 257,
   "id": "6c383c4b",
   "metadata": {},
   "outputs": [
    {
     "data": {
      "text/html": [
       "<style>#sk-container-id-8 {color: black;background-color: white;}#sk-container-id-8 pre{padding: 0;}#sk-container-id-8 div.sk-toggleable {background-color: white;}#sk-container-id-8 label.sk-toggleable__label {cursor: pointer;display: block;width: 100%;margin-bottom: 0;padding: 0.3em;box-sizing: border-box;text-align: center;}#sk-container-id-8 label.sk-toggleable__label-arrow:before {content: \"▸\";float: left;margin-right: 0.25em;color: #696969;}#sk-container-id-8 label.sk-toggleable__label-arrow:hover:before {color: black;}#sk-container-id-8 div.sk-estimator:hover label.sk-toggleable__label-arrow:before {color: black;}#sk-container-id-8 div.sk-toggleable__content {max-height: 0;max-width: 0;overflow: hidden;text-align: left;background-color: #f0f8ff;}#sk-container-id-8 div.sk-toggleable__content pre {margin: 0.2em;color: black;border-radius: 0.25em;background-color: #f0f8ff;}#sk-container-id-8 input.sk-toggleable__control:checked~div.sk-toggleable__content {max-height: 200px;max-width: 100%;overflow: auto;}#sk-container-id-8 input.sk-toggleable__control:checked~label.sk-toggleable__label-arrow:before {content: \"▾\";}#sk-container-id-8 div.sk-estimator input.sk-toggleable__control:checked~label.sk-toggleable__label {background-color: #d4ebff;}#sk-container-id-8 div.sk-label input.sk-toggleable__control:checked~label.sk-toggleable__label {background-color: #d4ebff;}#sk-container-id-8 input.sk-hidden--visually {border: 0;clip: rect(1px 1px 1px 1px);clip: rect(1px, 1px, 1px, 1px);height: 1px;margin: -1px;overflow: hidden;padding: 0;position: absolute;width: 1px;}#sk-container-id-8 div.sk-estimator {font-family: monospace;background-color: #f0f8ff;border: 1px dotted black;border-radius: 0.25em;box-sizing: border-box;margin-bottom: 0.5em;}#sk-container-id-8 div.sk-estimator:hover {background-color: #d4ebff;}#sk-container-id-8 div.sk-parallel-item::after {content: \"\";width: 100%;border-bottom: 1px solid gray;flex-grow: 1;}#sk-container-id-8 div.sk-label:hover label.sk-toggleable__label {background-color: #d4ebff;}#sk-container-id-8 div.sk-serial::before {content: \"\";position: absolute;border-left: 1px solid gray;box-sizing: border-box;top: 0;bottom: 0;left: 50%;z-index: 0;}#sk-container-id-8 div.sk-serial {display: flex;flex-direction: column;align-items: center;background-color: white;padding-right: 0.2em;padding-left: 0.2em;position: relative;}#sk-container-id-8 div.sk-item {position: relative;z-index: 1;}#sk-container-id-8 div.sk-parallel {display: flex;align-items: stretch;justify-content: center;background-color: white;position: relative;}#sk-container-id-8 div.sk-item::before, #sk-container-id-8 div.sk-parallel-item::before {content: \"\";position: absolute;border-left: 1px solid gray;box-sizing: border-box;top: 0;bottom: 0;left: 50%;z-index: -1;}#sk-container-id-8 div.sk-parallel-item {display: flex;flex-direction: column;z-index: 1;position: relative;background-color: white;}#sk-container-id-8 div.sk-parallel-item:first-child::after {align-self: flex-end;width: 50%;}#sk-container-id-8 div.sk-parallel-item:last-child::after {align-self: flex-start;width: 50%;}#sk-container-id-8 div.sk-parallel-item:only-child::after {width: 0;}#sk-container-id-8 div.sk-dashed-wrapped {border: 1px dashed gray;margin: 0 0.4em 0.5em 0.4em;box-sizing: border-box;padding-bottom: 0.4em;background-color: white;}#sk-container-id-8 div.sk-label label {font-family: monospace;font-weight: bold;display: inline-block;line-height: 1.2em;}#sk-container-id-8 div.sk-label-container {text-align: center;}#sk-container-id-8 div.sk-container {/* jupyter's `normalize.less` sets `[hidden] { display: none; }` but bootstrap.min.css set `[hidden] { display: none !important; }` so we also need the `!important` here to be able to override the default hidden behavior on the sphinx rendered scikit-learn.org. See: https://github.com/scikit-learn/scikit-learn/issues/21755 */display: inline-block !important;position: relative;}#sk-container-id-8 div.sk-text-repr-fallback {display: none;}</style><div id=\"sk-container-id-8\" class=\"sk-top-container\"><div class=\"sk-text-repr-fallback\"><pre>AdaBoostRegressor(learning_rate=0.4, n_estimators=20)</pre><b>In a Jupyter environment, please rerun this cell to show the HTML representation or trust the notebook. <br />On GitHub, the HTML representation is unable to render, please try loading this page with nbviewer.org.</b></div><div class=\"sk-container\" hidden><div class=\"sk-item\"><div class=\"sk-estimator sk-toggleable\"><input class=\"sk-toggleable__control sk-hidden--visually\" id=\"sk-estimator-id-10\" type=\"checkbox\" checked><label for=\"sk-estimator-id-10\" class=\"sk-toggleable__label sk-toggleable__label-arrow\">AdaBoostRegressor</label><div class=\"sk-toggleable__content\"><pre>AdaBoostRegressor(learning_rate=0.4, n_estimators=20)</pre></div></div></div></div></div>"
      ],
      "text/plain": [
       "AdaBoostRegressor(learning_rate=0.4, n_estimators=20)"
      ]
     },
     "execution_count": 257,
     "metadata": {},
     "output_type": "execute_result"
    }
   ],
   "source": [
    "Ada = AdaBoostRegressor(learning_rate=0.4,n_estimators=20)\n",
    "\n",
    "Ada.fit(x_train,y_train)"
   ]
  },
  {
   "cell_type": "code",
   "execution_count": 258,
   "id": "fbc2402e",
   "metadata": {},
   "outputs": [],
   "source": [
    "Ada_pred = Ada.predict(x_test)"
   ]
  },
  {
   "cell_type": "code",
   "execution_count": 259,
   "id": "74660c94",
   "metadata": {},
   "outputs": [
    {
     "data": {
      "text/plain": [
       "0.8753929884399855"
      ]
     },
     "execution_count": 259,
     "metadata": {},
     "output_type": "execute_result"
    }
   ],
   "source": [
    "Ada.score(x_train,y_train)"
   ]
  },
  {
   "cell_type": "code",
   "execution_count": 260,
   "id": "813b6b09",
   "metadata": {},
   "outputs": [
    {
     "data": {
      "text/plain": [
       "0.7890014661023894"
      ]
     },
     "execution_count": 260,
     "metadata": {},
     "output_type": "execute_result"
    }
   ],
   "source": [
    "Ada.score(x_test,y_test)"
   ]
  },
  {
   "cell_type": "code",
   "execution_count": 261,
   "id": "cab6655e",
   "metadata": {},
   "outputs": [
    {
     "data": {
      "text/plain": [
       "100.74710319114985"
      ]
     },
     "execution_count": 261,
     "metadata": {},
     "output_type": "execute_result"
    }
   ],
   "source": [
    "mean_absolute_error(y_test,Ada_pred)"
   ]
  },
  {
   "cell_type": "code",
   "execution_count": 262,
   "id": "81857635",
   "metadata": {},
   "outputs": [
    {
     "data": {
      "text/plain": [
       "26161.154044400926"
      ]
     },
     "execution_count": 262,
     "metadata": {},
     "output_type": "execute_result"
    }
   ],
   "source": [
    "mean_squared_error(y_test,Ada_pred)"
   ]
  },
  {
   "cell_type": "code",
   "execution_count": 263,
   "id": "5d45abac",
   "metadata": {},
   "outputs": [
    {
     "data": {
      "image/png": "[encoded data removed]",
      "text/plain": [
       "<Figure size 432x288 with 1 Axes>"
      ]
     },
     "metadata": {
      "needs_background": "light"
     },
     "output_type": "display_data"
    }
   ],
   "source": [
    "plt.scatter(y_test,Ada_pred)\n",
    "plt.xlabel('Actual')\n",
    "plt.ylabel('Predicted')\n",
    "\n",
    "plt.show()"
   ]
  },
  {
   "cell_type": "code",
   "execution_count": null,
   "id": "5efb4733",
   "metadata": {},
   "outputs": [],
   "source": []
  },
  {
   "cell_type": "code",
   "execution_count": 264,
   "id": "176cf32f",
   "metadata": {},
   "outputs": [],
   "source": [
    "import pickle"
   ]
  },
  {
   "cell_type": "code",
   "execution_count": 265,
   "id": "b8e15c33",
   "metadata": {},
   "outputs": [],
   "source": [
    "pickle.dump(Ada,open('dt_Zomato','wb'))"
   ]
  },
  {
   "cell_type": "code",
   "execution_count": null,
   "id": "6d571dde",
   "metadata": {},
   "outputs": [],
   "source": []
  },
  {
   "cell_type": "code",
   "execution_count": null,
   "id": "0d7ab6e8",
   "metadata": {},
   "outputs": [],
   "source": []
  },
  {
   "cell_type": "code",
   "execution_count": null,
   "id": "23174771",
   "metadata": {},
   "outputs": [],
   "source": []
  },
  {
   "cell_type": "code",
   "execution_count": null,
   "id": "8b6a6989",
   "metadata": {},
   "outputs": [],
   "source": []
  },
  {
   "cell_type": "code",
   "execution_count": 266,
   "id": "1292e749",
   "metadata": {},
   "outputs": [],
   "source": [
    "# now we predict for Price Range using regression models also"
   ]
  },
  {
   "cell_type": "code",
   "execution_count": 267,
   "id": "7d2f4ce4",
   "metadata": {},
   "outputs": [],
   "source": [
    "# for Price Range "
   ]
  },
  {
   "cell_type": "code",
   "execution_count": null,
   "id": "6a37fe30",
   "metadata": {},
   "outputs": [],
   "source": []
  },
  {
   "cell_type": "code",
   "execution_count": 268,
   "id": "6a183806",
   "metadata": {},
   "outputs": [],
   "source": [
    "X = df.drop(columns='PriceRange')\n",
    "Y = df['PriceRange']"
   ]
  },
  {
   "cell_type": "code",
   "execution_count": 269,
   "id": "732f0022",
   "metadata": {},
   "outputs": [],
   "source": [
    "X_scaled = scaler.fit_transform(x)"
   ]
  },
  {
   "cell_type": "code",
   "execution_count": 270,
   "id": "d9ae4f40",
   "metadata": {},
   "outputs": [],
   "source": [
    "X_train,X_test,Y_train,Y_test = train_test_split(X_scaled,Y,test_size=0.25,random_state=100)"
   ]
  },
  {
   "cell_type": "code",
   "execution_count": null,
   "id": "d1604e0e",
   "metadata": {},
   "outputs": [],
   "source": []
  },
  {
   "cell_type": "code",
   "execution_count": null,
   "id": "b0f8772c",
   "metadata": {},
   "outputs": [],
   "source": []
  },
  {
   "cell_type": "code",
   "execution_count": 271,
   "id": "2ff2778e",
   "metadata": {},
   "outputs": [],
   "source": [
    "# first model"
   ]
  },
  {
   "cell_type": "code",
   "execution_count": 272,
   "id": "22e6654a",
   "metadata": {},
   "outputs": [
    {
     "data": {
      "text/html": [
       "<style>#sk-container-id-9 {color: black;background-color: white;}#sk-container-id-9 pre{padding: 0;}#sk-container-id-9 div.sk-toggleable {background-color: white;}#sk-container-id-9 label.sk-toggleable__label {cursor: pointer;display: block;width: 100%;margin-bottom: 0;padding: 0.3em;box-sizing: border-box;text-align: center;}#sk-container-id-9 label.sk-toggleable__label-arrow:before {content: \"▸\";float: left;margin-right: 0.25em;color: #696969;}#sk-container-id-9 label.sk-toggleable__label-arrow:hover:before {color: black;}#sk-container-id-9 div.sk-estimator:hover label.sk-toggleable__label-arrow:before {color: black;}#sk-container-id-9 div.sk-toggleable__content {max-height: 0;max-width: 0;overflow: hidden;text-align: left;background-color: #f0f8ff;}#sk-container-id-9 div.sk-toggleable__content pre {margin: 0.2em;color: black;border-radius: 0.25em;background-color: #f0f8ff;}#sk-container-id-9 input.sk-toggleable__control:checked~div.sk-toggleable__content {max-height: 200px;max-width: 100%;overflow: auto;}#sk-container-id-9 input.sk-toggleable__control:checked~label.sk-toggleable__label-arrow:before {content: \"▾\";}#sk-container-id-9 div.sk-estimator input.sk-toggleable__control:checked~label.sk-toggleable__label {background-color: #d4ebff;}#sk-container-id-9 div.sk-label input.sk-toggleable__control:checked~label.sk-toggleable__label {background-color: #d4ebff;}#sk-container-id-9 input.sk-hidden--visually {border: 0;clip: rect(1px 1px 1px 1px);clip: rect(1px, 1px, 1px, 1px);height: 1px;margin: -1px;overflow: hidden;padding: 0;position: absolute;width: 1px;}#sk-container-id-9 div.sk-estimator {font-family: monospace;background-color: #f0f8ff;border: 1px dotted black;border-radius: 0.25em;box-sizing: border-box;margin-bottom: 0.5em;}#sk-container-id-9 div.sk-estimator:hover {background-color: #d4ebff;}#sk-container-id-9 div.sk-parallel-item::after {content: \"\";width: 100%;border-bottom: 1px solid gray;flex-grow: 1;}#sk-container-id-9 div.sk-label:hover label.sk-toggleable__label {background-color: #d4ebff;}#sk-container-id-9 div.sk-serial::before {content: \"\";position: absolute;border-left: 1px solid gray;box-sizing: border-box;top: 0;bottom: 0;left: 50%;z-index: 0;}#sk-container-id-9 div.sk-serial {display: flex;flex-direction: column;align-items: center;background-color: white;padding-right: 0.2em;padding-left: 0.2em;position: relative;}#sk-container-id-9 div.sk-item {position: relative;z-index: 1;}#sk-container-id-9 div.sk-parallel {display: flex;align-items: stretch;justify-content: center;background-color: white;position: relative;}#sk-container-id-9 div.sk-item::before, #sk-container-id-9 div.sk-parallel-item::before {content: \"\";position: absolute;border-left: 1px solid gray;box-sizing: border-box;top: 0;bottom: 0;left: 50%;z-index: -1;}#sk-container-id-9 div.sk-parallel-item {display: flex;flex-direction: column;z-index: 1;position: relative;background-color: white;}#sk-container-id-9 div.sk-parallel-item:first-child::after {align-self: flex-end;width: 50%;}#sk-container-id-9 div.sk-parallel-item:last-child::after {align-self: flex-start;width: 50%;}#sk-container-id-9 div.sk-parallel-item:only-child::after {width: 0;}#sk-container-id-9 div.sk-dashed-wrapped {border: 1px dashed gray;margin: 0 0.4em 0.5em 0.4em;box-sizing: border-box;padding-bottom: 0.4em;background-color: white;}#sk-container-id-9 div.sk-label label {font-family: monospace;font-weight: bold;display: inline-block;line-height: 1.2em;}#sk-container-id-9 div.sk-label-container {text-align: center;}#sk-container-id-9 div.sk-container {/* jupyter's `normalize.less` sets `[hidden] { display: none; }` but bootstrap.min.css set `[hidden] { display: none !important; }` so we also need the `!important` here to be able to override the default hidden behavior on the sphinx rendered scikit-learn.org. See: https://github.com/scikit-learn/scikit-learn/issues/21755 */display: inline-block !important;position: relative;}#sk-container-id-9 div.sk-text-repr-fallback {display: none;}</style><div id=\"sk-container-id-9\" class=\"sk-top-container\"><div class=\"sk-text-repr-fallback\"><pre>LinearRegression()</pre><b>In a Jupyter environment, please rerun this cell to show the HTML representation or trust the notebook. <br />On GitHub, the HTML representation is unable to render, please try loading this page with nbviewer.org.</b></div><div class=\"sk-container\" hidden><div class=\"sk-item\"><div class=\"sk-estimator sk-toggleable\"><input class=\"sk-toggleable__control sk-hidden--visually\" id=\"sk-estimator-id-11\" type=\"checkbox\" checked><label for=\"sk-estimator-id-11\" class=\"sk-toggleable__label sk-toggleable__label-arrow\">LinearRegression</label><div class=\"sk-toggleable__content\"><pre>LinearRegression()</pre></div></div></div></div></div>"
      ],
      "text/plain": [
       "LinearRegression()"
      ]
     },
     "execution_count": 272,
     "metadata": {},
     "output_type": "execute_result"
    }
   ],
   "source": [
    "Lr = LinearRegression()\n",
    "\n",
    "Lr.fit(X_train,Y_train)"
   ]
  },
  {
   "cell_type": "code",
   "execution_count": 273,
   "id": "8792549a",
   "metadata": {},
   "outputs": [],
   "source": [
    "Lr_pred = Lr.predict(X_test)"
   ]
  },
  {
   "cell_type": "code",
   "execution_count": 274,
   "id": "c42a1815",
   "metadata": {},
   "outputs": [
    {
     "data": {
      "text/plain": [
       "1.0"
      ]
     },
     "execution_count": 274,
     "metadata": {},
     "output_type": "execute_result"
    }
   ],
   "source": [
    "Lr.score(X_train,Y_train)"
   ]
  },
  {
   "cell_type": "code",
   "execution_count": 275,
   "id": "fc8968d3",
   "metadata": {},
   "outputs": [
    {
     "data": {
      "text/plain": [
       "1.0"
      ]
     },
     "execution_count": 275,
     "metadata": {},
     "output_type": "execute_result"
    }
   ],
   "source": [
    "Lr.score(X_test,Y_test)"
   ]
  },
  {
   "cell_type": "code",
   "execution_count": 276,
   "id": "d3c52e71",
   "metadata": {},
   "outputs": [
    {
     "data": {
      "text/plain": [
       "3.6721806306673245e-16"
      ]
     },
     "execution_count": 276,
     "metadata": {},
     "output_type": "execute_result"
    }
   ],
   "source": [
    "mean_absolute_error(Y_test,Lr_pred)"
   ]
  },
  {
   "cell_type": "code",
   "execution_count": 277,
   "id": "5d3448a1",
   "metadata": {},
   "outputs": [
    {
     "data": {
      "text/plain": [
       "2.122572992847713e-31"
      ]
     },
     "execution_count": 277,
     "metadata": {},
     "output_type": "execute_result"
    }
   ],
   "source": [
    "mean_squared_error(Y_test,Lr_pred)"
   ]
  },
  {
   "cell_type": "code",
   "execution_count": 278,
   "id": "52c75874",
   "metadata": {},
   "outputs": [
    {
     "data": {
      "text/plain": [
       "4.607139017706882e-16"
      ]
     },
     "execution_count": 278,
     "metadata": {},
     "output_type": "execute_result"
    }
   ],
   "source": [
    "np.sqrt(mean_squared_error(Y_test,Lr_pred))"
   ]
  },
  {
   "cell_type": "code",
   "execution_count": 279,
   "id": "79eeedfc",
   "metadata": {},
   "outputs": [
    {
     "data": {
      "image/png": "[encoded data removed]",
      "text/plain": [
       "<Figure size 432x288 with 1 Axes>"
      ]
     },
     "metadata": {
      "needs_background": "light"
     },
     "output_type": "display_data"
    }
   ],
   "source": [
    "plt.scatter(Y_test,Lr_pred)\n",
    "plt.xlabel('Actual')\n",
    "plt.ylabel('Predicted')\n",
    "\n",
    "plt.show()"
   ]
  },
  {
   "cell_type": "code",
   "execution_count": null,
   "id": "497ee510",
   "metadata": {},
   "outputs": [],
   "source": []
  },
  {
   "cell_type": "code",
   "execution_count": null,
   "id": "7d40c974",
   "metadata": {},
   "outputs": [],
   "source": []
  },
  {
   "cell_type": "code",
   "execution_count": null,
   "id": "c24157e8",
   "metadata": {},
   "outputs": [],
   "source": []
  },
  {
   "cell_type": "code",
   "execution_count": 280,
   "id": "dc70bb4f",
   "metadata": {},
   "outputs": [],
   "source": [
    "# second model"
   ]
  },
  {
   "cell_type": "code",
   "execution_count": 281,
   "id": "e1d70d32",
   "metadata": {},
   "outputs": [
    {
     "data": {
      "text/html": [
       "<style>#sk-container-id-10 {color: black;background-color: white;}#sk-container-id-10 pre{padding: 0;}#sk-container-id-10 div.sk-toggleable {background-color: white;}#sk-container-id-10 label.sk-toggleable__label {cursor: pointer;display: block;width: 100%;margin-bottom: 0;padding: 0.3em;box-sizing: border-box;text-align: center;}#sk-container-id-10 label.sk-toggleable__label-arrow:before {content: \"▸\";float: left;margin-right: 0.25em;color: #696969;}#sk-container-id-10 label.sk-toggleable__label-arrow:hover:before {color: black;}#sk-container-id-10 div.sk-estimator:hover label.sk-toggleable__label-arrow:before {color: black;}#sk-container-id-10 div.sk-toggleable__content {max-height: 0;max-width: 0;overflow: hidden;text-align: left;background-color: #f0f8ff;}#sk-container-id-10 div.sk-toggleable__content pre {margin: 0.2em;color: black;border-radius: 0.25em;background-color: #f0f8ff;}#sk-container-id-10 input.sk-toggleable__control:checked~div.sk-toggleable__content {max-height: 200px;max-width: 100%;overflow: auto;}#sk-container-id-10 input.sk-toggleable__control:checked~label.sk-toggleable__label-arrow:before {content: \"▾\";}#sk-container-id-10 div.sk-estimator input.sk-toggleable__control:checked~label.sk-toggleable__label {background-color: #d4ebff;}#sk-container-id-10 div.sk-label input.sk-toggleable__control:checked~label.sk-toggleable__label {background-color: #d4ebff;}#sk-container-id-10 input.sk-hidden--visually {border: 0;clip: rect(1px 1px 1px 1px);clip: rect(1px, 1px, 1px, 1px);height: 1px;margin: -1px;overflow: hidden;padding: 0;position: absolute;width: 1px;}#sk-container-id-10 div.sk-estimator {font-family: monospace;background-color: #f0f8ff;border: 1px dotted black;border-radius: 0.25em;box-sizing: border-box;margin-bottom: 0.5em;}#sk-container-id-10 div.sk-estimator:hover {background-color: #d4ebff;}#sk-container-id-10 div.sk-parallel-item::after {content: \"\";width: 100%;border-bottom: 1px solid gray;flex-grow: 1;}#sk-container-id-10 div.sk-label:hover label.sk-toggleable__label {background-color: #d4ebff;}#sk-container-id-10 div.sk-serial::before {content: \"\";position: absolute;border-left: 1px solid gray;box-sizing: border-box;top: 0;bottom: 0;left: 50%;z-index: 0;}#sk-container-id-10 div.sk-serial {display: flex;flex-direction: column;align-items: center;background-color: white;padding-right: 0.2em;padding-left: 0.2em;position: relative;}#sk-container-id-10 div.sk-item {position: relative;z-index: 1;}#sk-container-id-10 div.sk-parallel {display: flex;align-items: stretch;justify-content: center;background-color: white;position: relative;}#sk-container-id-10 div.sk-item::before, #sk-container-id-10 div.sk-parallel-item::before {content: \"\";position: absolute;border-left: 1px solid gray;box-sizing: border-box;top: 0;bottom: 0;left: 50%;z-index: -1;}#sk-container-id-10 div.sk-parallel-item {display: flex;flex-direction: column;z-index: 1;position: relative;background-color: white;}#sk-container-id-10 div.sk-parallel-item:first-child::after {align-self: flex-end;width: 50%;}#sk-container-id-10 div.sk-parallel-item:last-child::after {align-self: flex-start;width: 50%;}#sk-container-id-10 div.sk-parallel-item:only-child::after {width: 0;}#sk-container-id-10 div.sk-dashed-wrapped {border: 1px dashed gray;margin: 0 0.4em 0.5em 0.4em;box-sizing: border-box;padding-bottom: 0.4em;background-color: white;}#sk-container-id-10 div.sk-label label {font-family: monospace;font-weight: bold;display: inline-block;line-height: 1.2em;}#sk-container-id-10 div.sk-label-container {text-align: center;}#sk-container-id-10 div.sk-container {/* jupyter's `normalize.less` sets `[hidden] { display: none; }` but bootstrap.min.css set `[hidden] { display: none !important; }` so we also need the `!important` here to be able to override the default hidden behavior on the sphinx rendered scikit-learn.org. See: https://github.com/scikit-learn/scikit-learn/issues/21755 */display: inline-block !important;position: relative;}#sk-container-id-10 div.sk-text-repr-fallback {display: none;}</style><div id=\"sk-container-id-10\" class=\"sk-top-container\"><div class=\"sk-text-repr-fallback\"><pre>DecisionTreeRegressor()</pre><b>In a Jupyter environment, please rerun this cell to show the HTML representation or trust the notebook. <br />On GitHub, the HTML representation is unable to render, please try loading this page with nbviewer.org.</b></div><div class=\"sk-container\" hidden><div class=\"sk-item\"><div class=\"sk-estimator sk-toggleable\"><input class=\"sk-toggleable__control sk-hidden--visually\" id=\"sk-estimator-id-12\" type=\"checkbox\" checked><label for=\"sk-estimator-id-12\" class=\"sk-toggleable__label sk-toggleable__label-arrow\">DecisionTreeRegressor</label><div class=\"sk-toggleable__content\"><pre>DecisionTreeRegressor()</pre></div></div></div></div></div>"
      ],
      "text/plain": [
       "DecisionTreeRegressor()"
      ]
     },
     "execution_count": 281,
     "metadata": {},
     "output_type": "execute_result"
    }
   ],
   "source": [
    "Dt = DecisionTreeRegressor()\n",
    "\n",
    "Dt.fit(X_train,Y_train)"
   ]
  },
  {
   "cell_type": "code",
   "execution_count": 282,
   "id": "af38742a",
   "metadata": {},
   "outputs": [],
   "source": [
    "Dt_pred = Dt.predict(X_test)"
   ]
  },
  {
   "cell_type": "code",
   "execution_count": 283,
   "id": "65326193",
   "metadata": {},
   "outputs": [
    {
     "data": {
      "text/plain": [
       "1.0"
      ]
     },
     "execution_count": 283,
     "metadata": {},
     "output_type": "execute_result"
    }
   ],
   "source": [
    "Dt.score(X_train,Y_train)"
   ]
  },
  {
   "cell_type": "code",
   "execution_count": 284,
   "id": "eb977a53",
   "metadata": {},
   "outputs": [
    {
     "data": {
      "text/plain": [
       "1.0"
      ]
     },
     "execution_count": 284,
     "metadata": {},
     "output_type": "execute_result"
    }
   ],
   "source": [
    "Dt.score(X_test,Y_test)"
   ]
  },
  {
   "cell_type": "code",
   "execution_count": 285,
   "id": "420f775b",
   "metadata": {},
   "outputs": [
    {
     "data": {
      "text/plain": [
       "0.0"
      ]
     },
     "execution_count": 285,
     "metadata": {},
     "output_type": "execute_result"
    }
   ],
   "source": [
    "mean_absolute_error(Y_test,Dt_pred)"
   ]
  },
  {
   "cell_type": "code",
   "execution_count": 286,
   "id": "1554ebe3",
   "metadata": {},
   "outputs": [
    {
     "data": {
      "text/plain": [
       "0.0"
      ]
     },
     "execution_count": 286,
     "metadata": {},
     "output_type": "execute_result"
    }
   ],
   "source": [
    "mean_squared_error(Y_test,Dt_pred)"
   ]
  },
  {
   "cell_type": "code",
   "execution_count": 287,
   "id": "6c6a34d6",
   "metadata": {},
   "outputs": [
    {
     "data": {
      "text/plain": [
       "0.0"
      ]
     },
     "execution_count": 287,
     "metadata": {},
     "output_type": "execute_result"
    }
   ],
   "source": [
    "np.sqrt(mean_squared_error(Y_test,Dt_pred))"
   ]
  },
  {
   "cell_type": "code",
   "execution_count": 288,
   "id": "733268de",
   "metadata": {},
   "outputs": [
    {
     "data": {
      "image/png": "[encoded data removed]",
      "text/plain": [
       "<Figure size 432x288 with 1 Axes>"
      ]
     },
     "metadata": {
      "needs_background": "light"
     },
     "output_type": "display_data"
    }
   ],
   "source": [
    "plt.scatter(Y_test,Dt_pred)\n",
    "plt.xlabel('Actual')\n",
    "plt.ylabel('Predicted')\n",
    "\n",
    "plt.show()"
   ]
  },
  {
   "cell_type": "code",
   "execution_count": null,
   "id": "f19b0d72",
   "metadata": {},
   "outputs": [],
   "source": []
  },
  {
   "cell_type": "code",
   "execution_count": null,
   "id": "63e0b2e5",
   "metadata": {},
   "outputs": [],
   "source": []
  },
  {
   "cell_type": "code",
   "execution_count": null,
   "id": "5366fd00",
   "metadata": {},
   "outputs": [],
   "source": []
  },
  {
   "cell_type": "code",
   "execution_count": 289,
   "id": "383b6235",
   "metadata": {},
   "outputs": [],
   "source": [
    "# third model"
   ]
  },
  {
   "cell_type": "code",
   "execution_count": 290,
   "id": "f1a60a8e",
   "metadata": {},
   "outputs": [
    {
     "data": {
      "text/html": [
       "<style>#sk-container-id-11 {color: black;background-color: white;}#sk-container-id-11 pre{padding: 0;}#sk-container-id-11 div.sk-toggleable {background-color: white;}#sk-container-id-11 label.sk-toggleable__label {cursor: pointer;display: block;width: 100%;margin-bottom: 0;padding: 0.3em;box-sizing: border-box;text-align: center;}#sk-container-id-11 label.sk-toggleable__label-arrow:before {content: \"▸\";float: left;margin-right: 0.25em;color: #696969;}#sk-container-id-11 label.sk-toggleable__label-arrow:hover:before {color: black;}#sk-container-id-11 div.sk-estimator:hover label.sk-toggleable__label-arrow:before {color: black;}#sk-container-id-11 div.sk-toggleable__content {max-height: 0;max-width: 0;overflow: hidden;text-align: left;background-color: #f0f8ff;}#sk-container-id-11 div.sk-toggleable__content pre {margin: 0.2em;color: black;border-radius: 0.25em;background-color: #f0f8ff;}#sk-container-id-11 input.sk-toggleable__control:checked~div.sk-toggleable__content {max-height: 200px;max-width: 100%;overflow: auto;}#sk-container-id-11 input.sk-toggleable__control:checked~label.sk-toggleable__label-arrow:before {content: \"▾\";}#sk-container-id-11 div.sk-estimator input.sk-toggleable__control:checked~label.sk-toggleable__label {background-color: #d4ebff;}#sk-container-id-11 div.sk-label input.sk-toggleable__control:checked~label.sk-toggleable__label {background-color: #d4ebff;}#sk-container-id-11 input.sk-hidden--visually {border: 0;clip: rect(1px 1px 1px 1px);clip: rect(1px, 1px, 1px, 1px);height: 1px;margin: -1px;overflow: hidden;padding: 0;position: absolute;width: 1px;}#sk-container-id-11 div.sk-estimator {font-family: monospace;background-color: #f0f8ff;border: 1px dotted black;border-radius: 0.25em;box-sizing: border-box;margin-bottom: 0.5em;}#sk-container-id-11 div.sk-estimator:hover {background-color: #d4ebff;}#sk-container-id-11 div.sk-parallel-item::after {content: \"\";width: 100%;border-bottom: 1px solid gray;flex-grow: 1;}#sk-container-id-11 div.sk-label:hover label.sk-toggleable__label {background-color: #d4ebff;}#sk-container-id-11 div.sk-serial::before {content: \"\";position: absolute;border-left: 1px solid gray;box-sizing: border-box;top: 0;bottom: 0;left: 50%;z-index: 0;}#sk-container-id-11 div.sk-serial {display: flex;flex-direction: column;align-items: center;background-color: white;padding-right: 0.2em;padding-left: 0.2em;position: relative;}#sk-container-id-11 div.sk-item {position: relative;z-index: 1;}#sk-container-id-11 div.sk-parallel {display: flex;align-items: stretch;justify-content: center;background-color: white;position: relative;}#sk-container-id-11 div.sk-item::before, #sk-container-id-11 div.sk-parallel-item::before {content: \"\";position: absolute;border-left: 1px solid gray;box-sizing: border-box;top: 0;bottom: 0;left: 50%;z-index: -1;}#sk-container-id-11 div.sk-parallel-item {display: flex;flex-direction: column;z-index: 1;position: relative;background-color: white;}#sk-container-id-11 div.sk-parallel-item:first-child::after {align-self: flex-end;width: 50%;}#sk-container-id-11 div.sk-parallel-item:last-child::after {align-self: flex-start;width: 50%;}#sk-container-id-11 div.sk-parallel-item:only-child::after {width: 0;}#sk-container-id-11 div.sk-dashed-wrapped {border: 1px dashed gray;margin: 0 0.4em 0.5em 0.4em;box-sizing: border-box;padding-bottom: 0.4em;background-color: white;}#sk-container-id-11 div.sk-label label {font-family: monospace;font-weight: bold;display: inline-block;line-height: 1.2em;}#sk-container-id-11 div.sk-label-container {text-align: center;}#sk-container-id-11 div.sk-container {/* jupyter's `normalize.less` sets `[hidden] { display: none; }` but bootstrap.min.css set `[hidden] { display: none !important; }` so we also need the `!important` here to be able to override the default hidden behavior on the sphinx rendered scikit-learn.org. See: https://github.com/scikit-learn/scikit-learn/issues/21755 */display: inline-block !important;position: relative;}#sk-container-id-11 div.sk-text-repr-fallback {display: none;}</style><div id=\"sk-container-id-11\" class=\"sk-top-container\"><div class=\"sk-text-repr-fallback\"><pre>RandomForestRegressor()</pre><b>In a Jupyter environment, please rerun this cell to show the HTML representation or trust the notebook. <br />On GitHub, the HTML representation is unable to render, please try loading this page with nbviewer.org.</b></div><div class=\"sk-container\" hidden><div class=\"sk-item\"><div class=\"sk-estimator sk-toggleable\"><input class=\"sk-toggleable__control sk-hidden--visually\" id=\"sk-estimator-id-13\" type=\"checkbox\" checked><label for=\"sk-estimator-id-13\" class=\"sk-toggleable__label sk-toggleable__label-arrow\">RandomForestRegressor</label><div class=\"sk-toggleable__content\"><pre>RandomForestRegressor()</pre></div></div></div></div></div>"
      ],
      "text/plain": [
       "RandomForestRegressor()"
      ]
     },
     "execution_count": 290,
     "metadata": {},
     "output_type": "execute_result"
    }
   ],
   "source": [
    "Rf = RandomForestRegressor()\n",
    "\n",
    "Rf.fit(X_train,Y_train)"
   ]
  },
  {
   "cell_type": "code",
   "execution_count": 291,
   "id": "d4d52200",
   "metadata": {},
   "outputs": [],
   "source": [
    "Rf_pred = Rf.predict(X_test)"
   ]
  },
  {
   "cell_type": "code",
   "execution_count": 292,
   "id": "865588a8",
   "metadata": {},
   "outputs": [
    {
     "data": {
      "text/plain": [
       "1.0"
      ]
     },
     "execution_count": 292,
     "metadata": {},
     "output_type": "execute_result"
    }
   ],
   "source": [
    "Rf.score(X_train,Y_train)"
   ]
  },
  {
   "cell_type": "code",
   "execution_count": 293,
   "id": "a9657f53",
   "metadata": {},
   "outputs": [
    {
     "data": {
      "text/plain": [
       "1.0"
      ]
     },
     "execution_count": 293,
     "metadata": {},
     "output_type": "execute_result"
    }
   ],
   "source": [
    "Rf.score(X_test,Y_test)"
   ]
  },
  {
   "cell_type": "code",
   "execution_count": 294,
   "id": "caffacb3",
   "metadata": {},
   "outputs": [
    {
     "data": {
      "text/plain": [
       "0.0"
      ]
     },
     "execution_count": 294,
     "metadata": {},
     "output_type": "execute_result"
    }
   ],
   "source": [
    "mean_absolute_error(Y_test,Rf_pred)"
   ]
  },
  {
   "cell_type": "code",
   "execution_count": 295,
   "id": "9e21ba5f",
   "metadata": {},
   "outputs": [
    {
     "data": {
      "text/plain": [
       "0.0"
      ]
     },
     "execution_count": 295,
     "metadata": {},
     "output_type": "execute_result"
    }
   ],
   "source": [
    "mean_squared_error(Y_test,Rf_pred)"
   ]
  },
  {
   "cell_type": "code",
   "execution_count": 296,
   "id": "5eb1a33e",
   "metadata": {},
   "outputs": [
    {
     "data": {
      "text/plain": [
       "0.0"
      ]
     },
     "execution_count": 296,
     "metadata": {},
     "output_type": "execute_result"
    }
   ],
   "source": [
    "np.sqrt(mean_squared_error(Y_test,Rf_pred))"
   ]
  },
  {
   "cell_type": "code",
   "execution_count": 297,
   "id": "7178e6ff",
   "metadata": {},
   "outputs": [
    {
     "data": {
      "image/png": "[encoded data removed]",
      "text/plain": [
       "<Figure size 432x288 with 1 Axes>"
      ]
     },
     "metadata": {
      "needs_background": "light"
     },
     "output_type": "display_data"
    }
   ],
   "source": [
    "plt.scatter(Y_test,Rf_pred)\n",
    "plt.xlabel('Actual')\n",
    "plt.ylabel('Predicted')\n",
    "\n",
    "plt.show()"
   ]
  },
  {
   "cell_type": "code",
   "execution_count": null,
   "id": "bccc0d0a",
   "metadata": {},
   "outputs": [],
   "source": []
  },
  {
   "cell_type": "code",
   "execution_count": null,
   "id": "a886f53c",
   "metadata": {},
   "outputs": [],
   "source": []
  },
  {
   "cell_type": "code",
   "execution_count": null,
   "id": "205532f6",
   "metadata": {},
   "outputs": [],
   "source": []
  },
  {
   "cell_type": "code",
   "execution_count": 298,
   "id": "7949c007",
   "metadata": {},
   "outputs": [],
   "source": [
    "# fourth model"
   ]
  },
  {
   "cell_type": "code",
   "execution_count": 299,
   "id": "28ed9d6d",
   "metadata": {},
   "outputs": [
    {
     "data": {
      "text/html": [
       "<style>#sk-container-id-12 {color: black;background-color: white;}#sk-container-id-12 pre{padding: 0;}#sk-container-id-12 div.sk-toggleable {background-color: white;}#sk-container-id-12 label.sk-toggleable__label {cursor: pointer;display: block;width: 100%;margin-bottom: 0;padding: 0.3em;box-sizing: border-box;text-align: center;}#sk-container-id-12 label.sk-toggleable__label-arrow:before {content: \"▸\";float: left;margin-right: 0.25em;color: #696969;}#sk-container-id-12 label.sk-toggleable__label-arrow:hover:before {color: black;}#sk-container-id-12 div.sk-estimator:hover label.sk-toggleable__label-arrow:before {color: black;}#sk-container-id-12 div.sk-toggleable__content {max-height: 0;max-width: 0;overflow: hidden;text-align: left;background-color: #f0f8ff;}#sk-container-id-12 div.sk-toggleable__content pre {margin: 0.2em;color: black;border-radius: 0.25em;background-color: #f0f8ff;}#sk-container-id-12 input.sk-toggleable__control:checked~div.sk-toggleable__content {max-height: 200px;max-width: 100%;overflow: auto;}#sk-container-id-12 input.sk-toggleable__control:checked~label.sk-toggleable__label-arrow:before {content: \"▾\";}#sk-container-id-12 div.sk-estimator input.sk-toggleable__control:checked~label.sk-toggleable__label {background-color: #d4ebff;}#sk-container-id-12 div.sk-label input.sk-toggleable__control:checked~label.sk-toggleable__label {background-color: #d4ebff;}#sk-container-id-12 input.sk-hidden--visually {border: 0;clip: rect(1px 1px 1px 1px);clip: rect(1px, 1px, 1px, 1px);height: 1px;margin: -1px;overflow: hidden;padding: 0;position: absolute;width: 1px;}#sk-container-id-12 div.sk-estimator {font-family: monospace;background-color: #f0f8ff;border: 1px dotted black;border-radius: 0.25em;box-sizing: border-box;margin-bottom: 0.5em;}#sk-container-id-12 div.sk-estimator:hover {background-color: #d4ebff;}#sk-container-id-12 div.sk-parallel-item::after {content: \"\";width: 100%;border-bottom: 1px solid gray;flex-grow: 1;}#sk-container-id-12 div.sk-label:hover label.sk-toggleable__label {background-color: #d4ebff;}#sk-container-id-12 div.sk-serial::before {content: \"\";position: absolute;border-left: 1px solid gray;box-sizing: border-box;top: 0;bottom: 0;left: 50%;z-index: 0;}#sk-container-id-12 div.sk-serial {display: flex;flex-direction: column;align-items: center;background-color: white;padding-right: 0.2em;padding-left: 0.2em;position: relative;}#sk-container-id-12 div.sk-item {position: relative;z-index: 1;}#sk-container-id-12 div.sk-parallel {display: flex;align-items: stretch;justify-content: center;background-color: white;position: relative;}#sk-container-id-12 div.sk-item::before, #sk-container-id-12 div.sk-parallel-item::before {content: \"\";position: absolute;border-left: 1px solid gray;box-sizing: border-box;top: 0;bottom: 0;left: 50%;z-index: -1;}#sk-container-id-12 div.sk-parallel-item {display: flex;flex-direction: column;z-index: 1;position: relative;background-color: white;}#sk-container-id-12 div.sk-parallel-item:first-child::after {align-self: flex-end;width: 50%;}#sk-container-id-12 div.sk-parallel-item:last-child::after {align-self: flex-start;width: 50%;}#sk-container-id-12 div.sk-parallel-item:only-child::after {width: 0;}#sk-container-id-12 div.sk-dashed-wrapped {border: 1px dashed gray;margin: 0 0.4em 0.5em 0.4em;box-sizing: border-box;padding-bottom: 0.4em;background-color: white;}#sk-container-id-12 div.sk-label label {font-family: monospace;font-weight: bold;display: inline-block;line-height: 1.2em;}#sk-container-id-12 div.sk-label-container {text-align: center;}#sk-container-id-12 div.sk-container {/* jupyter's `normalize.less` sets `[hidden] { display: none; }` but bootstrap.min.css set `[hidden] { display: none !important; }` so we also need the `!important` here to be able to override the default hidden behavior on the sphinx rendered scikit-learn.org. See: https://github.com/scikit-learn/scikit-learn/issues/21755 */display: inline-block !important;position: relative;}#sk-container-id-12 div.sk-text-repr-fallback {display: none;}</style><div id=\"sk-container-id-12\" class=\"sk-top-container\"><div class=\"sk-text-repr-fallback\"><pre>SVR()</pre><b>In a Jupyter environment, please rerun this cell to show the HTML representation or trust the notebook. <br />On GitHub, the HTML representation is unable to render, please try loading this page with nbviewer.org.</b></div><div class=\"sk-container\" hidden><div class=\"sk-item\"><div class=\"sk-estimator sk-toggleable\"><input class=\"sk-toggleable__control sk-hidden--visually\" id=\"sk-estimator-id-14\" type=\"checkbox\" checked><label for=\"sk-estimator-id-14\" class=\"sk-toggleable__label sk-toggleable__label-arrow\">SVR</label><div class=\"sk-toggleable__content\"><pre>SVR()</pre></div></div></div></div></div>"
      ],
      "text/plain": [
       "SVR()"
      ]
     },
     "execution_count": 299,
     "metadata": {},
     "output_type": "execute_result"
    }
   ],
   "source": [
    "Svr = SVR()\n",
    "\n",
    "Svr.fit(X_train,Y_train)"
   ]
  },
  {
   "cell_type": "code",
   "execution_count": 300,
   "id": "4967529b",
   "metadata": {},
   "outputs": [],
   "source": [
    "Svr_pred = Svr.predict(X_test)"
   ]
  },
  {
   "cell_type": "code",
   "execution_count": 301,
   "id": "3269c812",
   "metadata": {},
   "outputs": [
    {
     "data": {
      "text/plain": [
       "0.99027678257168"
      ]
     },
     "execution_count": 301,
     "metadata": {},
     "output_type": "execute_result"
    }
   ],
   "source": [
    "Svr.score(X_train,Y_train)"
   ]
  },
  {
   "cell_type": "code",
   "execution_count": 302,
   "id": "90ad72af",
   "metadata": {},
   "outputs": [
    {
     "data": {
      "text/plain": [
       "0.9754603975254649"
      ]
     },
     "execution_count": 302,
     "metadata": {},
     "output_type": "execute_result"
    }
   ],
   "source": [
    "Svr.score(X_test,Y_test)"
   ]
  },
  {
   "cell_type": "code",
   "execution_count": 303,
   "id": "5003bd0f",
   "metadata": {},
   "outputs": [
    {
     "data": {
      "text/plain": [
       "0.05969492212348772"
      ]
     },
     "execution_count": 303,
     "metadata": {},
     "output_type": "execute_result"
    }
   ],
   "source": [
    "mean_absolute_error(Y_test,Svr_pred)"
   ]
  },
  {
   "cell_type": "code",
   "execution_count": 304,
   "id": "9696c599",
   "metadata": {},
   "outputs": [
    {
     "data": {
      "text/plain": [
       "0.008877335585806199"
      ]
     },
     "execution_count": 304,
     "metadata": {},
     "output_type": "execute_result"
    }
   ],
   "source": [
    "mean_squared_error(Y_test,Svr_pred)"
   ]
  },
  {
   "cell_type": "code",
   "execution_count": 305,
   "id": "a74bb56d",
   "metadata": {},
   "outputs": [
    {
     "data": {
      "text/plain": [
       "0.09421961359401873"
      ]
     },
     "execution_count": 305,
     "metadata": {},
     "output_type": "execute_result"
    }
   ],
   "source": [
    "np.sqrt(mean_squared_error(Y_test,Svr_pred))"
   ]
  },
  {
   "cell_type": "code",
   "execution_count": 306,
   "id": "6172a6ed",
   "metadata": {},
   "outputs": [
    {
     "data": {
      "image/png": "[encoded data removed]",
      "text/plain": [
       "<Figure size 432x288 with 1 Axes>"
      ]
     },
     "metadata": {
      "needs_background": "light"
     },
     "output_type": "display_data"
    }
   ],
   "source": [
    "plt.scatter(Y_test,Svr_pred)\n",
    "plt.xlabel('Actual')\n",
    "plt.ylabel('Predicted')\n",
    "\n",
    "plt.show()"
   ]
  },
  {
   "cell_type": "code",
   "execution_count": null,
   "id": "510701a3",
   "metadata": {},
   "outputs": [],
   "source": []
  },
  {
   "cell_type": "code",
   "execution_count": null,
   "id": "642e8707",
   "metadata": {},
   "outputs": [],
   "source": []
  },
  {
   "cell_type": "code",
   "execution_count": 307,
   "id": "9ec0e81e",
   "metadata": {},
   "outputs": [],
   "source": [
    "pickle.dump(Svr,open('Lr_Zomato','wb'))"
   ]
  },
  {
   "cell_type": "code",
   "execution_count": null,
   "id": "0acd829c",
   "metadata": {},
   "outputs": [],
   "source": []
  },
  {
   "cell_type": "code",
   "execution_count": null,
   "id": "4cd1a817",
   "metadata": {},
   "outputs": [],
   "source": []
  }
 ],
 "metadata": {
  "kernelspec": {
   "display_name": "Python 3 (ipykernel)",
   "language": "python",
   "name": "python3"
  },
  "language_info": {
   "codemirror_mode": {
    "name": "ipython",
    "version": 3
   },
   "file_extension": ".py",
   "mimetype": "text/x-python",
   "name": "python",
   "nbconvert_exporter": "python",
   "pygments_lexer": "ipython3",
   "version": "3.9.12"
  }
 },
 "nbformat": 4,
 "nbformat_minor": 5
}
