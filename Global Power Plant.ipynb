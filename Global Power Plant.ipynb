{
 "cells": [
  {
   "cell_type": "code",
   "execution_count": null,
   "id": "d782504e",
   "metadata": {},
   "outputs": [],
   "source": []
  },
  {
   "cell_type": "code",
   "execution_count": 1,
   "id": "6eadb083",
   "metadata": {},
   "outputs": [],
   "source": [
    "# import necessary libraries numpy and pandas"
   ]
  },
  {
   "cell_type": "code",
   "execution_count": null,
   "id": "42b988a0",
   "metadata": {},
   "outputs": [],
   "source": []
  },
  {
   "cell_type": "code",
   "execution_count": 2,
   "id": "a1796186",
   "metadata": {},
   "outputs": [],
   "source": [
    "import numpy as np\n",
    "import pandas as pd\n",
    "\n",
    "import warnings\n",
    "warnings.filterwarnings('ignore')"
   ]
  },
  {
   "cell_type": "code",
   "execution_count": 3,
   "id": "cb8d05f2",
   "metadata": {},
   "outputs": [],
   "source": [
    "df = pd.read_csv('Database_IND.csv')"
   ]
  },
  {
   "cell_type": "code",
   "execution_count": 4,
   "id": "a6bcb91d",
   "metadata": {
    "scrolled": true
   },
   "outputs": [
    {
     "data": {
      "text/html": [
       "<div>\n",
       "<style scoped>\n",
       "    .dataframe tbody tr th:only-of-type {\n",
       "        vertical-align: middle;\n",
       "    }\n",
       "\n",
       "    .dataframe tbody tr th {\n",
       "        vertical-align: top;\n",
       "    }\n",
       "\n",
       "    .dataframe thead th {\n",
       "        text-align: right;\n",
       "    }\n",
       "</style>\n",
       "<table border=\"1\" class=\"dataframe\">\n",
       "  <thead>\n",
       "    <tr style=\"text-align: right;\">\n",
       "      <th></th>\n",
       "      <th>country</th>\n",
       "      <th>country_long</th>\n",
       "      <th>name</th>\n",
       "      <th>gppd_idnr</th>\n",
       "      <th>capacity_mw</th>\n",
       "      <th>latitude</th>\n",
       "      <th>longitude</th>\n",
       "      <th>primary_fuel</th>\n",
       "      <th>other_fuel1</th>\n",
       "      <th>other_fuel2</th>\n",
       "      <th>...</th>\n",
       "      <th>year_of_capacity_data</th>\n",
       "      <th>generation_gwh_2013</th>\n",
       "      <th>generation_gwh_2014</th>\n",
       "      <th>generation_gwh_2015</th>\n",
       "      <th>generation_gwh_2016</th>\n",
       "      <th>generation_gwh_2017</th>\n",
       "      <th>generation_gwh_2018</th>\n",
       "      <th>generation_gwh_2019</th>\n",
       "      <th>generation_data_source</th>\n",
       "      <th>estimated_generation_gwh</th>\n",
       "    </tr>\n",
       "  </thead>\n",
       "  <tbody>\n",
       "    <tr>\n",
       "      <th>0</th>\n",
       "      <td>IND</td>\n",
       "      <td>India</td>\n",
       "      <td>ACME Solar Tower</td>\n",
       "      <td>WRI1020239</td>\n",
       "      <td>2.5</td>\n",
       "      <td>28.1839</td>\n",
       "      <td>73.2407</td>\n",
       "      <td>Solar</td>\n",
       "      <td>NaN</td>\n",
       "      <td>NaN</td>\n",
       "      <td>...</td>\n",
       "      <td>NaN</td>\n",
       "      <td>NaN</td>\n",
       "      <td>NaN</td>\n",
       "      <td>NaN</td>\n",
       "      <td>NaN</td>\n",
       "      <td>NaN</td>\n",
       "      <td>NaN</td>\n",
       "      <td>NaN</td>\n",
       "      <td>NaN</td>\n",
       "      <td>NaN</td>\n",
       "    </tr>\n",
       "    <tr>\n",
       "      <th>1</th>\n",
       "      <td>IND</td>\n",
       "      <td>India</td>\n",
       "      <td>ADITYA CEMENT WORKS</td>\n",
       "      <td>WRI1019881</td>\n",
       "      <td>98.0</td>\n",
       "      <td>24.7663</td>\n",
       "      <td>74.6090</td>\n",
       "      <td>Coal</td>\n",
       "      <td>NaN</td>\n",
       "      <td>NaN</td>\n",
       "      <td>...</td>\n",
       "      <td>NaN</td>\n",
       "      <td>NaN</td>\n",
       "      <td>NaN</td>\n",
       "      <td>NaN</td>\n",
       "      <td>NaN</td>\n",
       "      <td>NaN</td>\n",
       "      <td>NaN</td>\n",
       "      <td>NaN</td>\n",
       "      <td>NaN</td>\n",
       "      <td>NaN</td>\n",
       "    </tr>\n",
       "    <tr>\n",
       "      <th>2</th>\n",
       "      <td>IND</td>\n",
       "      <td>India</td>\n",
       "      <td>AES Saurashtra Windfarms</td>\n",
       "      <td>WRI1026669</td>\n",
       "      <td>39.2</td>\n",
       "      <td>21.9038</td>\n",
       "      <td>69.3732</td>\n",
       "      <td>Wind</td>\n",
       "      <td>NaN</td>\n",
       "      <td>NaN</td>\n",
       "      <td>...</td>\n",
       "      <td>NaN</td>\n",
       "      <td>NaN</td>\n",
       "      <td>NaN</td>\n",
       "      <td>NaN</td>\n",
       "      <td>NaN</td>\n",
       "      <td>NaN</td>\n",
       "      <td>NaN</td>\n",
       "      <td>NaN</td>\n",
       "      <td>NaN</td>\n",
       "      <td>NaN</td>\n",
       "    </tr>\n",
       "    <tr>\n",
       "      <th>3</th>\n",
       "      <td>IND</td>\n",
       "      <td>India</td>\n",
       "      <td>AGARTALA GT</td>\n",
       "      <td>IND0000001</td>\n",
       "      <td>135.0</td>\n",
       "      <td>23.8712</td>\n",
       "      <td>91.3602</td>\n",
       "      <td>Gas</td>\n",
       "      <td>NaN</td>\n",
       "      <td>NaN</td>\n",
       "      <td>...</td>\n",
       "      <td>2019.0</td>\n",
       "      <td>NaN</td>\n",
       "      <td>617.789264</td>\n",
       "      <td>843.747000</td>\n",
       "      <td>886.004428</td>\n",
       "      <td>663.774500</td>\n",
       "      <td>626.239128</td>\n",
       "      <td>NaN</td>\n",
       "      <td>Central Electricity Authority</td>\n",
       "      <td>NaN</td>\n",
       "    </tr>\n",
       "    <tr>\n",
       "      <th>4</th>\n",
       "      <td>IND</td>\n",
       "      <td>India</td>\n",
       "      <td>AKALTARA TPP</td>\n",
       "      <td>IND0000002</td>\n",
       "      <td>1800.0</td>\n",
       "      <td>21.9603</td>\n",
       "      <td>82.4091</td>\n",
       "      <td>Coal</td>\n",
       "      <td>Oil</td>\n",
       "      <td>NaN</td>\n",
       "      <td>...</td>\n",
       "      <td>2019.0</td>\n",
       "      <td>NaN</td>\n",
       "      <td>3035.550000</td>\n",
       "      <td>5916.370000</td>\n",
       "      <td>6243.000000</td>\n",
       "      <td>5385.579736</td>\n",
       "      <td>7279.000000</td>\n",
       "      <td>NaN</td>\n",
       "      <td>Central Electricity Authority</td>\n",
       "      <td>NaN</td>\n",
       "    </tr>\n",
       "    <tr>\n",
       "      <th>...</th>\n",
       "      <td>...</td>\n",
       "      <td>...</td>\n",
       "      <td>...</td>\n",
       "      <td>...</td>\n",
       "      <td>...</td>\n",
       "      <td>...</td>\n",
       "      <td>...</td>\n",
       "      <td>...</td>\n",
       "      <td>...</td>\n",
       "      <td>...</td>\n",
       "      <td>...</td>\n",
       "      <td>...</td>\n",
       "      <td>...</td>\n",
       "      <td>...</td>\n",
       "      <td>...</td>\n",
       "      <td>...</td>\n",
       "      <td>...</td>\n",
       "      <td>...</td>\n",
       "      <td>...</td>\n",
       "      <td>...</td>\n",
       "      <td>...</td>\n",
       "    </tr>\n",
       "    <tr>\n",
       "      <th>902</th>\n",
       "      <td>IND</td>\n",
       "      <td>India</td>\n",
       "      <td>YERMARUS TPP</td>\n",
       "      <td>IND0000513</td>\n",
       "      <td>1600.0</td>\n",
       "      <td>16.2949</td>\n",
       "      <td>77.3568</td>\n",
       "      <td>Coal</td>\n",
       "      <td>Oil</td>\n",
       "      <td>NaN</td>\n",
       "      <td>...</td>\n",
       "      <td>2019.0</td>\n",
       "      <td>NaN</td>\n",
       "      <td>NaN</td>\n",
       "      <td>0.994875</td>\n",
       "      <td>233.596650</td>\n",
       "      <td>865.400000</td>\n",
       "      <td>686.500000</td>\n",
       "      <td>NaN</td>\n",
       "      <td>Central Electricity Authority</td>\n",
       "      <td>NaN</td>\n",
       "    </tr>\n",
       "    <tr>\n",
       "      <th>903</th>\n",
       "      <td>IND</td>\n",
       "      <td>India</td>\n",
       "      <td>Yelesandra Solar Power Plant</td>\n",
       "      <td>WRI1026222</td>\n",
       "      <td>3.0</td>\n",
       "      <td>12.8932</td>\n",
       "      <td>78.1654</td>\n",
       "      <td>Solar</td>\n",
       "      <td>NaN</td>\n",
       "      <td>NaN</td>\n",
       "      <td>...</td>\n",
       "      <td>NaN</td>\n",
       "      <td>NaN</td>\n",
       "      <td>NaN</td>\n",
       "      <td>NaN</td>\n",
       "      <td>NaN</td>\n",
       "      <td>NaN</td>\n",
       "      <td>NaN</td>\n",
       "      <td>NaN</td>\n",
       "      <td>NaN</td>\n",
       "      <td>NaN</td>\n",
       "    </tr>\n",
       "    <tr>\n",
       "      <th>904</th>\n",
       "      <td>IND</td>\n",
       "      <td>India</td>\n",
       "      <td>Yelisirur wind power project</td>\n",
       "      <td>WRI1026776</td>\n",
       "      <td>25.5</td>\n",
       "      <td>15.2758</td>\n",
       "      <td>75.5811</td>\n",
       "      <td>Wind</td>\n",
       "      <td>NaN</td>\n",
       "      <td>NaN</td>\n",
       "      <td>...</td>\n",
       "      <td>NaN</td>\n",
       "      <td>NaN</td>\n",
       "      <td>NaN</td>\n",
       "      <td>NaN</td>\n",
       "      <td>NaN</td>\n",
       "      <td>NaN</td>\n",
       "      <td>NaN</td>\n",
       "      <td>NaN</td>\n",
       "      <td>NaN</td>\n",
       "      <td>NaN</td>\n",
       "    </tr>\n",
       "    <tr>\n",
       "      <th>905</th>\n",
       "      <td>IND</td>\n",
       "      <td>India</td>\n",
       "      <td>ZAWAR MINES</td>\n",
       "      <td>WRI1019901</td>\n",
       "      <td>80.0</td>\n",
       "      <td>24.3500</td>\n",
       "      <td>73.7477</td>\n",
       "      <td>Coal</td>\n",
       "      <td>NaN</td>\n",
       "      <td>NaN</td>\n",
       "      <td>...</td>\n",
       "      <td>NaN</td>\n",
       "      <td>NaN</td>\n",
       "      <td>NaN</td>\n",
       "      <td>NaN</td>\n",
       "      <td>NaN</td>\n",
       "      <td>NaN</td>\n",
       "      <td>NaN</td>\n",
       "      <td>NaN</td>\n",
       "      <td>NaN</td>\n",
       "      <td>NaN</td>\n",
       "    </tr>\n",
       "    <tr>\n",
       "      <th>906</th>\n",
       "      <td>IND</td>\n",
       "      <td>India</td>\n",
       "      <td>iEnergy Theni Wind Farm</td>\n",
       "      <td>WRI1026761</td>\n",
       "      <td>16.5</td>\n",
       "      <td>9.9344</td>\n",
       "      <td>77.4768</td>\n",
       "      <td>Wind</td>\n",
       "      <td>NaN</td>\n",
       "      <td>NaN</td>\n",
       "      <td>...</td>\n",
       "      <td>NaN</td>\n",
       "      <td>NaN</td>\n",
       "      <td>NaN</td>\n",
       "      <td>NaN</td>\n",
       "      <td>NaN</td>\n",
       "      <td>NaN</td>\n",
       "      <td>NaN</td>\n",
       "      <td>NaN</td>\n",
       "      <td>NaN</td>\n",
       "      <td>NaN</td>\n",
       "    </tr>\n",
       "  </tbody>\n",
       "</table>\n",
       "<p>907 rows × 27 columns</p>\n",
       "</div>"
      ],
      "text/plain": [
       "    country country_long                          name   gppd_idnr  \\\n",
       "0       IND        India              ACME Solar Tower  WRI1020239   \n",
       "1       IND        India           ADITYA CEMENT WORKS  WRI1019881   \n",
       "2       IND        India      AES Saurashtra Windfarms  WRI1026669   \n",
       "3       IND        India                   AGARTALA GT  IND0000001   \n",
       "4       IND        India                  AKALTARA TPP  IND0000002   \n",
       "..      ...          ...                           ...         ...   \n",
       "902     IND        India                  YERMARUS TPP  IND0000513   \n",
       "903     IND        India  Yelesandra Solar Power Plant  WRI1026222   \n",
       "904     IND        India  Yelisirur wind power project  WRI1026776   \n",
       "905     IND        India                   ZAWAR MINES  WRI1019901   \n",
       "906     IND        India       iEnergy Theni Wind Farm  WRI1026761   \n",
       "\n",
       "     capacity_mw  latitude  longitude primary_fuel other_fuel1 other_fuel2  \\\n",
       "0            2.5   28.1839    73.2407        Solar         NaN         NaN   \n",
       "1           98.0   24.7663    74.6090         Coal         NaN         NaN   \n",
       "2           39.2   21.9038    69.3732         Wind         NaN         NaN   \n",
       "3          135.0   23.8712    91.3602          Gas         NaN         NaN   \n",
       "4         1800.0   21.9603    82.4091         Coal         Oil         NaN   \n",
       "..           ...       ...        ...          ...         ...         ...   \n",
       "902       1600.0   16.2949    77.3568         Coal         Oil         NaN   \n",
       "903          3.0   12.8932    78.1654        Solar         NaN         NaN   \n",
       "904         25.5   15.2758    75.5811         Wind         NaN         NaN   \n",
       "905         80.0   24.3500    73.7477         Coal         NaN         NaN   \n",
       "906         16.5    9.9344    77.4768         Wind         NaN         NaN   \n",
       "\n",
       "     ...  year_of_capacity_data  generation_gwh_2013 generation_gwh_2014  \\\n",
       "0    ...                    NaN                  NaN                 NaN   \n",
       "1    ...                    NaN                  NaN                 NaN   \n",
       "2    ...                    NaN                  NaN                 NaN   \n",
       "3    ...                 2019.0                  NaN          617.789264   \n",
       "4    ...                 2019.0                  NaN         3035.550000   \n",
       "..   ...                    ...                  ...                 ...   \n",
       "902  ...                 2019.0                  NaN                 NaN   \n",
       "903  ...                    NaN                  NaN                 NaN   \n",
       "904  ...                    NaN                  NaN                 NaN   \n",
       "905  ...                    NaN                  NaN                 NaN   \n",
       "906  ...                    NaN                  NaN                 NaN   \n",
       "\n",
       "    generation_gwh_2015 generation_gwh_2016 generation_gwh_2017  \\\n",
       "0                   NaN                 NaN                 NaN   \n",
       "1                   NaN                 NaN                 NaN   \n",
       "2                   NaN                 NaN                 NaN   \n",
       "3            843.747000          886.004428          663.774500   \n",
       "4           5916.370000         6243.000000         5385.579736   \n",
       "..                  ...                 ...                 ...   \n",
       "902            0.994875          233.596650          865.400000   \n",
       "903                 NaN                 NaN                 NaN   \n",
       "904                 NaN                 NaN                 NaN   \n",
       "905                 NaN                 NaN                 NaN   \n",
       "906                 NaN                 NaN                 NaN   \n",
       "\n",
       "     generation_gwh_2018  generation_gwh_2019         generation_data_source  \\\n",
       "0                    NaN                  NaN                            NaN   \n",
       "1                    NaN                  NaN                            NaN   \n",
       "2                    NaN                  NaN                            NaN   \n",
       "3             626.239128                  NaN  Central Electricity Authority   \n",
       "4            7279.000000                  NaN  Central Electricity Authority   \n",
       "..                   ...                  ...                            ...   \n",
       "902           686.500000                  NaN  Central Electricity Authority   \n",
       "903                  NaN                  NaN                            NaN   \n",
       "904                  NaN                  NaN                            NaN   \n",
       "905                  NaN                  NaN                            NaN   \n",
       "906                  NaN                  NaN                            NaN   \n",
       "\n",
       "     estimated_generation_gwh  \n",
       "0                         NaN  \n",
       "1                         NaN  \n",
       "2                         NaN  \n",
       "3                         NaN  \n",
       "4                         NaN  \n",
       "..                        ...  \n",
       "902                       NaN  \n",
       "903                       NaN  \n",
       "904                       NaN  \n",
       "905                       NaN  \n",
       "906                       NaN  \n",
       "\n",
       "[907 rows x 27 columns]"
      ]
     },
     "execution_count": 4,
     "metadata": {},
     "output_type": "execute_result"
    }
   ],
   "source": [
    "df"
   ]
  },
  {
   "cell_type": "code",
   "execution_count": null,
   "id": "6ec83496",
   "metadata": {},
   "outputs": [],
   "source": []
  },
  {
   "cell_type": "code",
   "execution_count": 5,
   "id": "e3258986",
   "metadata": {},
   "outputs": [
    {
     "data": {
      "text/html": [
       "<div>\n",
       "<style scoped>\n",
       "    .dataframe tbody tr th:only-of-type {\n",
       "        vertical-align: middle;\n",
       "    }\n",
       "\n",
       "    .dataframe tbody tr th {\n",
       "        vertical-align: top;\n",
       "    }\n",
       "\n",
       "    .dataframe thead th {\n",
       "        text-align: right;\n",
       "    }\n",
       "</style>\n",
       "<table border=\"1\" class=\"dataframe\">\n",
       "  <thead>\n",
       "    <tr style=\"text-align: right;\">\n",
       "      <th></th>\n",
       "      <th>capacity_mw</th>\n",
       "      <th>latitude</th>\n",
       "      <th>longitude</th>\n",
       "      <th>other_fuel3</th>\n",
       "      <th>commissioning_year</th>\n",
       "      <th>wepp_id</th>\n",
       "      <th>year_of_capacity_data</th>\n",
       "      <th>generation_gwh_2013</th>\n",
       "      <th>generation_gwh_2014</th>\n",
       "      <th>generation_gwh_2015</th>\n",
       "      <th>generation_gwh_2016</th>\n",
       "      <th>generation_gwh_2017</th>\n",
       "      <th>generation_gwh_2018</th>\n",
       "      <th>generation_gwh_2019</th>\n",
       "      <th>estimated_generation_gwh</th>\n",
       "    </tr>\n",
       "  </thead>\n",
       "  <tbody>\n",
       "    <tr>\n",
       "      <th>count</th>\n",
       "      <td>907.000000</td>\n",
       "      <td>861.000000</td>\n",
       "      <td>861.000000</td>\n",
       "      <td>0.0</td>\n",
       "      <td>527.000000</td>\n",
       "      <td>0.0</td>\n",
       "      <td>519.0</td>\n",
       "      <td>0.0</td>\n",
       "      <td>398.000000</td>\n",
       "      <td>422.000000</td>\n",
       "      <td>434.000000</td>\n",
       "      <td>440.000000</td>\n",
       "      <td>448.000000</td>\n",
       "      <td>0.0</td>\n",
       "      <td>0.0</td>\n",
       "    </tr>\n",
       "    <tr>\n",
       "      <th>mean</th>\n",
       "      <td>326.223755</td>\n",
       "      <td>21.197918</td>\n",
       "      <td>77.464907</td>\n",
       "      <td>NaN</td>\n",
       "      <td>1997.091082</td>\n",
       "      <td>NaN</td>\n",
       "      <td>2019.0</td>\n",
       "      <td>NaN</td>\n",
       "      <td>2431.823590</td>\n",
       "      <td>2428.226946</td>\n",
       "      <td>2467.936859</td>\n",
       "      <td>2547.759305</td>\n",
       "      <td>2600.804099</td>\n",
       "      <td>NaN</td>\n",
       "      <td>NaN</td>\n",
       "    </tr>\n",
       "    <tr>\n",
       "      <th>std</th>\n",
       "      <td>590.085456</td>\n",
       "      <td>6.239612</td>\n",
       "      <td>4.939316</td>\n",
       "      <td>NaN</td>\n",
       "      <td>17.082868</td>\n",
       "      <td>NaN</td>\n",
       "      <td>0.0</td>\n",
       "      <td>NaN</td>\n",
       "      <td>4026.440035</td>\n",
       "      <td>4194.596959</td>\n",
       "      <td>4162.884308</td>\n",
       "      <td>4196.991169</td>\n",
       "      <td>4314.880456</td>\n",
       "      <td>NaN</td>\n",
       "      <td>NaN</td>\n",
       "    </tr>\n",
       "    <tr>\n",
       "      <th>min</th>\n",
       "      <td>0.000000</td>\n",
       "      <td>8.168900</td>\n",
       "      <td>68.644700</td>\n",
       "      <td>NaN</td>\n",
       "      <td>1927.000000</td>\n",
       "      <td>NaN</td>\n",
       "      <td>2019.0</td>\n",
       "      <td>NaN</td>\n",
       "      <td>0.000000</td>\n",
       "      <td>0.000000</td>\n",
       "      <td>0.000000</td>\n",
       "      <td>0.000000</td>\n",
       "      <td>0.000000</td>\n",
       "      <td>NaN</td>\n",
       "      <td>NaN</td>\n",
       "    </tr>\n",
       "    <tr>\n",
       "      <th>25%</th>\n",
       "      <td>16.725000</td>\n",
       "      <td>16.773900</td>\n",
       "      <td>74.256200</td>\n",
       "      <td>NaN</td>\n",
       "      <td>1988.000000</td>\n",
       "      <td>NaN</td>\n",
       "      <td>2019.0</td>\n",
       "      <td>NaN</td>\n",
       "      <td>223.557672</td>\n",
       "      <td>176.381063</td>\n",
       "      <td>188.285252</td>\n",
       "      <td>177.874930</td>\n",
       "      <td>193.378250</td>\n",
       "      <td>NaN</td>\n",
       "      <td>NaN</td>\n",
       "    </tr>\n",
       "    <tr>\n",
       "      <th>50%</th>\n",
       "      <td>59.200000</td>\n",
       "      <td>21.780000</td>\n",
       "      <td>76.719500</td>\n",
       "      <td>NaN</td>\n",
       "      <td>2001.000000</td>\n",
       "      <td>NaN</td>\n",
       "      <td>2019.0</td>\n",
       "      <td>NaN</td>\n",
       "      <td>801.123775</td>\n",
       "      <td>711.181225</td>\n",
       "      <td>737.205450</td>\n",
       "      <td>817.977250</td>\n",
       "      <td>751.644375</td>\n",
       "      <td>NaN</td>\n",
       "      <td>NaN</td>\n",
       "    </tr>\n",
       "    <tr>\n",
       "      <th>75%</th>\n",
       "      <td>385.250000</td>\n",
       "      <td>25.512400</td>\n",
       "      <td>79.440800</td>\n",
       "      <td>NaN</td>\n",
       "      <td>2012.000000</td>\n",
       "      <td>NaN</td>\n",
       "      <td>2019.0</td>\n",
       "      <td>NaN</td>\n",
       "      <td>3035.306250</td>\n",
       "      <td>3084.121250</td>\n",
       "      <td>3282.861313</td>\n",
       "      <td>3275.690475</td>\n",
       "      <td>3143.535900</td>\n",
       "      <td>NaN</td>\n",
       "      <td>NaN</td>\n",
       "    </tr>\n",
       "    <tr>\n",
       "      <th>max</th>\n",
       "      <td>4760.000000</td>\n",
       "      <td>34.649000</td>\n",
       "      <td>95.408000</td>\n",
       "      <td>NaN</td>\n",
       "      <td>2018.000000</td>\n",
       "      <td>NaN</td>\n",
       "      <td>2019.0</td>\n",
       "      <td>NaN</td>\n",
       "      <td>28127.000000</td>\n",
       "      <td>30539.000000</td>\n",
       "      <td>30015.000000</td>\n",
       "      <td>35116.000000</td>\n",
       "      <td>35136.000000</td>\n",
       "      <td>NaN</td>\n",
       "      <td>NaN</td>\n",
       "    </tr>\n",
       "  </tbody>\n",
       "</table>\n",
       "</div>"
      ],
      "text/plain": [
       "       capacity_mw    latitude   longitude  other_fuel3  commissioning_year  \\\n",
       "count   907.000000  861.000000  861.000000          0.0          527.000000   \n",
       "mean    326.223755   21.197918   77.464907          NaN         1997.091082   \n",
       "std     590.085456    6.239612    4.939316          NaN           17.082868   \n",
       "min       0.000000    8.168900   68.644700          NaN         1927.000000   \n",
       "25%      16.725000   16.773900   74.256200          NaN         1988.000000   \n",
       "50%      59.200000   21.780000   76.719500          NaN         2001.000000   \n",
       "75%     385.250000   25.512400   79.440800          NaN         2012.000000   \n",
       "max    4760.000000   34.649000   95.408000          NaN         2018.000000   \n",
       "\n",
       "       wepp_id  year_of_capacity_data  generation_gwh_2013  \\\n",
       "count      0.0                  519.0                  0.0   \n",
       "mean       NaN                 2019.0                  NaN   \n",
       "std        NaN                    0.0                  NaN   \n",
       "min        NaN                 2019.0                  NaN   \n",
       "25%        NaN                 2019.0                  NaN   \n",
       "50%        NaN                 2019.0                  NaN   \n",
       "75%        NaN                 2019.0                  NaN   \n",
       "max        NaN                 2019.0                  NaN   \n",
       "\n",
       "       generation_gwh_2014  generation_gwh_2015  generation_gwh_2016  \\\n",
       "count           398.000000           422.000000           434.000000   \n",
       "mean           2431.823590          2428.226946          2467.936859   \n",
       "std            4026.440035          4194.596959          4162.884308   \n",
       "min               0.000000             0.000000             0.000000   \n",
       "25%             223.557672           176.381063           188.285252   \n",
       "50%             801.123775           711.181225           737.205450   \n",
       "75%            3035.306250          3084.121250          3282.861313   \n",
       "max           28127.000000         30539.000000         30015.000000   \n",
       "\n",
       "       generation_gwh_2017  generation_gwh_2018  generation_gwh_2019  \\\n",
       "count           440.000000           448.000000                  0.0   \n",
       "mean           2547.759305          2600.804099                  NaN   \n",
       "std            4196.991169          4314.880456                  NaN   \n",
       "min               0.000000             0.000000                  NaN   \n",
       "25%             177.874930           193.378250                  NaN   \n",
       "50%             817.977250           751.644375                  NaN   \n",
       "75%            3275.690475          3143.535900                  NaN   \n",
       "max           35116.000000         35136.000000                  NaN   \n",
       "\n",
       "       estimated_generation_gwh  \n",
       "count                       0.0  \n",
       "mean                        NaN  \n",
       "std                         NaN  \n",
       "min                         NaN  \n",
       "25%                         NaN  \n",
       "50%                         NaN  \n",
       "75%                         NaN  \n",
       "max                         NaN  "
      ]
     },
     "execution_count": 5,
     "metadata": {},
     "output_type": "execute_result"
    }
   ],
   "source": [
    "df.describe()"
   ]
  },
  {
   "cell_type": "code",
   "execution_count": null,
   "id": "b136c61c",
   "metadata": {},
   "outputs": [],
   "source": []
  },
  {
   "cell_type": "code",
   "execution_count": null,
   "id": "6b8ce8e1",
   "metadata": {},
   "outputs": [],
   "source": []
  },
  {
   "cell_type": "code",
   "execution_count": 6,
   "id": "f6d6c784",
   "metadata": {},
   "outputs": [],
   "source": [
    "# checking for data shape and its all columns datatype"
   ]
  },
  {
   "cell_type": "code",
   "execution_count": null,
   "id": "1764134c",
   "metadata": {},
   "outputs": [],
   "source": []
  },
  {
   "cell_type": "code",
   "execution_count": 7,
   "id": "a0435623",
   "metadata": {},
   "outputs": [
    {
     "data": {
      "text/plain": [
       "(907, 27)"
      ]
     },
     "execution_count": 7,
     "metadata": {},
     "output_type": "execute_result"
    }
   ],
   "source": [
    "df.shape"
   ]
  },
  {
   "cell_type": "code",
   "execution_count": 8,
   "id": "23bd622a",
   "metadata": {},
   "outputs": [
    {
     "data": {
      "text/plain": [
       "country                      object\n",
       "country_long                 object\n",
       "name                         object\n",
       "gppd_idnr                    object\n",
       "capacity_mw                 float64\n",
       "latitude                    float64\n",
       "longitude                   float64\n",
       "primary_fuel                 object\n",
       "other_fuel1                  object\n",
       "other_fuel2                  object\n",
       "other_fuel3                 float64\n",
       "commissioning_year          float64\n",
       "owner                        object\n",
       "source                       object\n",
       "url                          object\n",
       "geolocation_source           object\n",
       "wepp_id                     float64\n",
       "year_of_capacity_data       float64\n",
       "generation_gwh_2013         float64\n",
       "generation_gwh_2014         float64\n",
       "generation_gwh_2015         float64\n",
       "generation_gwh_2016         float64\n",
       "generation_gwh_2017         float64\n",
       "generation_gwh_2018         float64\n",
       "generation_gwh_2019         float64\n",
       "generation_data_source       object\n",
       "estimated_generation_gwh    float64\n",
       "dtype: object"
      ]
     },
     "execution_count": 8,
     "metadata": {},
     "output_type": "execute_result"
    }
   ],
   "source": [
    "df.dtypes"
   ]
  },
  {
   "cell_type": "code",
   "execution_count": null,
   "id": "b6408bb3",
   "metadata": {},
   "outputs": [],
   "source": []
  },
  {
   "cell_type": "code",
   "execution_count": 9,
   "id": "8cf4f4f5",
   "metadata": {},
   "outputs": [],
   "source": [
    "# check for null values"
   ]
  },
  {
   "cell_type": "code",
   "execution_count": null,
   "id": "a7eeb6a9",
   "metadata": {},
   "outputs": [],
   "source": []
  },
  {
   "cell_type": "code",
   "execution_count": 10,
   "id": "e7b87ec4",
   "metadata": {},
   "outputs": [
    {
     "data": {
      "text/plain": [
       "country                       0\n",
       "country_long                  0\n",
       "name                          0\n",
       "gppd_idnr                     0\n",
       "capacity_mw                   0\n",
       "latitude                     46\n",
       "longitude                    46\n",
       "primary_fuel                  0\n",
       "other_fuel1                 709\n",
       "other_fuel2                 906\n",
       "other_fuel3                 907\n",
       "commissioning_year          380\n",
       "owner                       565\n",
       "source                        0\n",
       "url                           0\n",
       "geolocation_source           19\n",
       "wepp_id                     907\n",
       "year_of_capacity_data       388\n",
       "generation_gwh_2013         907\n",
       "generation_gwh_2014         509\n",
       "generation_gwh_2015         485\n",
       "generation_gwh_2016         473\n",
       "generation_gwh_2017         467\n",
       "generation_gwh_2018         459\n",
       "generation_gwh_2019         907\n",
       "generation_data_source      458\n",
       "estimated_generation_gwh    907\n",
       "dtype: int64"
      ]
     },
     "execution_count": 10,
     "metadata": {},
     "output_type": "execute_result"
    }
   ],
   "source": [
    "df.isna().sum()"
   ]
  },
  {
   "cell_type": "code",
   "execution_count": null,
   "id": "0680cdaa",
   "metadata": {},
   "outputs": [],
   "source": []
  },
  {
   "cell_type": "code",
   "execution_count": 11,
   "id": "25a582f8",
   "metadata": {},
   "outputs": [],
   "source": [
    "# a lot of null values are present in dataset"
   ]
  },
  {
   "cell_type": "code",
   "execution_count": 12,
   "id": "960a909d",
   "metadata": {},
   "outputs": [],
   "source": [
    "# deal with all null values and encode whichever column is required"
   ]
  },
  {
   "cell_type": "code",
   "execution_count": null,
   "id": "40b898d1",
   "metadata": {},
   "outputs": [],
   "source": []
  },
  {
   "cell_type": "code",
   "execution_count": 13,
   "id": "e502aae4",
   "metadata": {},
   "outputs": [],
   "source": [
    "from sklearn.preprocessing import LabelEncoder"
   ]
  },
  {
   "cell_type": "code",
   "execution_count": 14,
   "id": "e5140c8f",
   "metadata": {},
   "outputs": [],
   "source": [
    "lab_enc = LabelEncoder()"
   ]
  },
  {
   "cell_type": "code",
   "execution_count": null,
   "id": "383c486c",
   "metadata": {},
   "outputs": [],
   "source": []
  },
  {
   "cell_type": "code",
   "execution_count": null,
   "id": "68fcc9c0",
   "metadata": {},
   "outputs": [],
   "source": []
  },
  {
   "cell_type": "code",
   "execution_count": 15,
   "id": "49fdde99",
   "metadata": {},
   "outputs": [
    {
     "data": {
      "text/plain": [
       "Index(['country', 'country_long', 'name', 'gppd_idnr', 'capacity_mw',\n",
       "       'latitude', 'longitude', 'primary_fuel', 'other_fuel1', 'other_fuel2',\n",
       "       'other_fuel3', 'commissioning_year', 'owner', 'source', 'url',\n",
       "       'geolocation_source', 'wepp_id', 'year_of_capacity_data',\n",
       "       'generation_gwh_2013', 'generation_gwh_2014', 'generation_gwh_2015',\n",
       "       'generation_gwh_2016', 'generation_gwh_2017', 'generation_gwh_2018',\n",
       "       'generation_gwh_2019', 'generation_data_source',\n",
       "       'estimated_generation_gwh'],\n",
       "      dtype='object')"
      ]
     },
     "execution_count": 15,
     "metadata": {},
     "output_type": "execute_result"
    }
   ],
   "source": [
    "df.columns"
   ]
  },
  {
   "cell_type": "code",
   "execution_count": null,
   "id": "a3cc0369",
   "metadata": {},
   "outputs": [],
   "source": []
  },
  {
   "cell_type": "code",
   "execution_count": null,
   "id": "bf5fc650",
   "metadata": {},
   "outputs": [],
   "source": []
  },
  {
   "cell_type": "code",
   "execution_count": null,
   "id": "1e0303f2",
   "metadata": {},
   "outputs": [],
   "source": []
  },
  {
   "cell_type": "code",
   "execution_count": 16,
   "id": "80dca587",
   "metadata": {},
   "outputs": [
    {
     "data": {
      "text/plain": [
       "array(['IND'], dtype=object)"
      ]
     },
     "execution_count": 16,
     "metadata": {},
     "output_type": "execute_result"
    }
   ],
   "source": [
    "df['country'].unique()"
   ]
  },
  {
   "cell_type": "code",
   "execution_count": 17,
   "id": "e05a3f4e",
   "metadata": {},
   "outputs": [],
   "source": [
    "df['country'] = lab_enc.fit_transform(df['country'])"
   ]
  },
  {
   "cell_type": "code",
   "execution_count": null,
   "id": "f306dad0",
   "metadata": {},
   "outputs": [],
   "source": []
  },
  {
   "cell_type": "code",
   "execution_count": null,
   "id": "4e71ae7c",
   "metadata": {},
   "outputs": [],
   "source": []
  },
  {
   "cell_type": "code",
   "execution_count": 18,
   "id": "e8c5307a",
   "metadata": {},
   "outputs": [
    {
     "data": {
      "text/plain": [
       "array(['India'], dtype=object)"
      ]
     },
     "execution_count": 18,
     "metadata": {},
     "output_type": "execute_result"
    }
   ],
   "source": [
    "df['country_long'].unique()"
   ]
  },
  {
   "cell_type": "code",
   "execution_count": 19,
   "id": "2174c421",
   "metadata": {},
   "outputs": [],
   "source": [
    "df['country_long'] = lab_enc.fit_transform(df['country_long'])"
   ]
  },
  {
   "cell_type": "code",
   "execution_count": null,
   "id": "7e5d3846",
   "metadata": {},
   "outputs": [],
   "source": []
  },
  {
   "cell_type": "code",
   "execution_count": null,
   "id": "ff869bc6",
   "metadata": {},
   "outputs": [],
   "source": []
  },
  {
   "cell_type": "code",
   "execution_count": 20,
   "id": "b3fc01a2",
   "metadata": {},
   "outputs": [
    {
     "data": {
      "text/plain": [
       "array(['ACME Solar Tower', 'ADITYA CEMENT WORKS',\n",
       "       'AES Saurashtra Windfarms', 'AGARTALA GT', 'AKALTARA TPP',\n",
       "       'AKRIMOTA LIG', 'ALIYAR', 'ALLAIN DUHANGAN', 'ALMATTI DAM',\n",
       "       'AMAR KANTAK', 'AMARAVATI TPP', 'ANANDPUR SAHIB ST-I&II',\n",
       "       'ANAPARA \"C\"', 'ANDHRA', 'ANOOPGARH ST I&II', 'ANPARA', 'ANTA GT',\n",
       "       'ANUPPUR', 'ANUPUR TPP', 'ARVINDNAGAR SUGAR', 'ASHOKNAGAR MILL',\n",
       "       'ATHANI SUGAR', 'AURAIYA GT', 'AVANTHA BHANDAR TPP',\n",
       "       'AWARPUR CEMENT PLANT', 'Abhijeet', 'Amarsar Solar Power Plant',\n",
       "       'Anabura Wind Farm', 'Ananthapur - Meil Solar Power Plant',\n",
       "       'Andrha Lake Wind Farm', 'Anikkadavu Wind Farm',\n",
       "       'Arasinagundi Wind Farm', 'Askandra - DREPL Solar Power Plant',\n",
       "       'Askandra - Electromech Maritech Solar Power Plant',\n",
       "       'Askandra - Finehope Solar Power Plant',\n",
       "       'Askandra - Khaya Solar Power Plant',\n",
       "       'Askandra - Newton Solar Power Plant',\n",
       "       'Askandra - Saidham Solar Power Plant',\n",
       "       'Askandra - Vasavi Solar Power Plant', 'BADARPUR', 'BAGALKOT ICP',\n",
       "       'BAGLIHAR HEP', 'BAGLIHAR HEP-II', 'BAIRA SIUL', 'BAKRESWAR',\n",
       "       'BALCO TPP', 'BALIMELA', 'BALLARPUR BILT POWER', 'BAMANIA CEMENT',\n",
       "       'BANDAKHAR TPP', 'BANDEL', 'BANER', 'BANSAGAR (I)',\n",
       "       'BANSAGAR (II)', 'BANSAGAR (III)', 'BANSAGAR (IV)',\n",
       "       'BANSWARA CEMENT', 'BARADARHA TPP', 'BARAMURA', 'BARAUNI', 'BARGI',\n",
       "       'BARH STPP II', 'BARKHERA TPP', 'BARSINGAR LIGNITE',\n",
       "       'BASIN BRIDGE GT', 'BASPA', 'BASSI', 'BCPL Wind Farm',\n",
       "       'BEL Chikhalhol Wind Farm', 'BELA NAGPUR', 'BELGAUM UGAR',\n",
       "       'BELLAD-BAGEWADI', 'BELLARY DG', 'BELLARY HOTHUR', 'BELLARY JANKI',\n",
       "       'BELLARY TPS', 'BHADRA', 'BHADRAVATI MILL', 'BHAKRA',\n",
       "       'BHANDARA STEEL MILL', 'BHANDARA VARAM', 'BHANDARDHARA',\n",
       "       'BHATGARH', 'BHATSA', 'BHAVNAGAR TPP', 'BHAWANI KATTALAI -II',\n",
       "       'BHAWANI KATTALAI -III', 'BHAWANI KATTALAI BARRAGE',\n",
       "       'BHIGWAN MILL', 'BHILAI TPP', 'BHIRA', 'BHIRA TAIL RACE',\n",
       "       'BHIVPURI', 'BHUSAWAL', 'BILIYAKALAN PLANT', 'BINA REFINERY',\n",
       "       'BINA TPP', 'BINANI CEMENT PLANT', 'BINJKOTE', 'BINWA',\n",
       "       'BIRSINGHPUR', \"BOKARO A ''EXP''\", 'BOKARO B', 'BONGAIGAON TPP',\n",
       "       'BP Brahmanvel Wind Farm', 'BRAMHAPURAM DG', 'BSES Kerala CCGT',\n",
       "       'BUDGE BUDGE', 'BUDHIL', 'BUTIBORI PLANT', 'BUTIBORI TPP -II',\n",
       "       'Bamani Solar Power Plant', 'Bamanwali Solar Power Plant',\n",
       "       'Bannari Amman Spinning Mills Wind Power Project',\n",
       "       'Bap - GIS 1-2 Solar Power Plant', 'Bap - GIS 3 Solar Power Plant',\n",
       "       'Bap - OPG Solar Power Plant',\n",
       "       'Bap - Punj Lloyd Solar Power Plant',\n",
       "       'Bapodar - Hiraco Solar Power Plant',\n",
       "       'Bapodar - MBEDL Solar Power Plant',\n",
       "       'Bavadi Barsingha - Giriraj Solar Power Plant',\n",
       "       'Bavadi Barsingha - LEPL Solar Power Plant', 'Belagau Wind Farm',\n",
       "       'Belagwi Wind Turbines', 'Belgaum Gadag Wind Farm',\n",
       "       'Belgaum Wind farm', 'Bera Wind Farm',\n",
       "       'Bhadrada Solar Power Plant', 'Bhat Khedi Wind Farm',\n",
       "       'Bhatkota Solar Power Plant', 'Bitta Solar Power Plant',\n",
       "       'Boha Solar Power Plant', 'Bonada Solar Power Plant',\n",
       "       'CHAKABURA TPP', 'CHAMERA II', 'CHAMERA-I', 'CHAMERA-III',\n",
       "       'CHANDA CEMENT WORKS', 'CHANDERIA CEMENT WORKS',\n",
       "       'CHANDERIA SMELTER', 'CHANDRAPUR GUPTA', 'CHANDRAPUR MANIKGHAR',\n",
       "       'CHANDRAPURA', 'CHANDRAPUR_Coal', 'CHANJU-I', 'CHEMBUKADAVU-II',\n",
       "       'CHENANI I to III', 'CHHABRA TPS', 'CHIBRO (YAMUNA)', 'CHILLA',\n",
       "       'CHUTAK', 'CHUZACHEN', 'CORE GREEN SUGAR',\n",
       "       'Chandrapur Solar Power Plant', 'Charanka Solar Power Plant',\n",
       "       'Chhadavada Wind Farm', 'Chingerbandh Solar Power Plant', 'D.P.L.',\n",
       "       'DADRI (NCTPP)', 'DADRI GT', 'DAE RAJASTHAN', 'DAHANU FRESNEL',\n",
       "       'DAMODARAM SANJEEVAIAH', 'DANAPUR BMM', 'DAUND SUGAR',\n",
       "       'DAVANGERE MILL', 'DEHAR', 'DERANG', 'DGEN MEGA CCCP', 'DHAKRANI',\n",
       "       'DHALIPUR', 'DHANU', 'DHARIWAL INF TPP', 'DHAULI GANGA', 'DHOLPUR',\n",
       "       'DHUVARAN CCPP', 'DIGHE WORKS', 'DIKCHU', 'DIMBE', 'DLF',\n",
       "       'DNYANESHWAR MILL', 'DOLVI ISPAT', 'DONKARAYI', 'DOYANG',\n",
       "       'DUDH GANGA', 'DUGGAVATHI MILL', 'DULHASTI', 'DURG SPONGE IRON',\n",
       "       'DURGAPUR', 'DURGAPUR STEEL TPS', 'Dadri Solar Power Plant',\n",
       "       'Dandeli Mill', 'Davangere Wind Farm', 'Deh Solar Power Plant',\n",
       "       'Devgarh Wind Farm', 'Dhabla Sondhya Solar Power Plant',\n",
       "       'Dhanera Solar Power Plant', 'Dhank - Aravali Solar Power Plant',\n",
       "       'Dhursar', 'Diwakar', 'Dugar Solar Power Plant', 'E.G. CANAL',\n",
       "       'ELDARI', 'EMCO Sonurle Wind Farm', 'ESSAR GT IMP.',\n",
       "       'Enercon Babarzar Wind Farm', 'Enercon Chitradurga Wind Farm',\n",
       "       'Enercon Sonoshi Wind Farm', 'Essel Mining Wind Farm',\n",
       "       'FARAKKA STPS', 'F_BAD CCGT',\n",
       "       'Frost International Palankottai Wind Farm', 'G.I.P.C.L. GT',\n",
       "       'GACL Kutch Wind Farm', 'GADARWARA', 'GADEPAN WORKS', 'GAJ',\n",
       "       'GAMA CCPP  Module - 1', 'GANDHAR GT', 'GANDHARBAL',\n",
       "       'GANDHI NAGAR', 'GANDHI SAGAR', 'GANGUWAL', 'GAUTAMI CCCP', 'GEPL',\n",
       "       'GFL Gudhepanchgani', 'GHANVI', 'GHAT PRABHA', 'GHATGHAR PSS',\n",
       "       'GHTP (LEH.MOH.)', 'GHUGUS LMEL', 'GIRI BATA', 'GIWPP Telagi',\n",
       "       'GMR WARORA TPP', 'GODAVARI GT', 'GOINDWAL SAHIB TPP',\n",
       "       'GRACE INDUSTRIES', 'GREL CCPP (RAJAMUNDRY)', 'GULBARGA CEMENT',\n",
       "       'GUMTI', 'Gadag Wind Farm', 'Gadna 1 Solar Power Plant',\n",
       "       'Gadna 2 Solar Power Plant', 'Gandhinagar Solar Power Plant',\n",
       "       'Garacharma Solar Power Plant', 'Godawari',\n",
       "       'Godelai Solar Power Plant', 'Gondri Solar Power Plant',\n",
       "       'Gorsar Wind Farm', 'Grewal Solar Power Plant', 'Gujurat Solar On',\n",
       "       'Gulabpura Solar Power Plant', 'Gwal Pahari Solar Power Plant',\n",
       "       'HALDIA', 'HAMPI', 'HAPURI MILL', 'HASDEOBANGO', 'HAVALGA SUGAR',\n",
       "       'HAZIRA CCCP', 'HAZIRA-GSECL', 'HINGOLI MILL', 'HIRAKUD I&II',\n",
       "       'HIRIYUR BIOMASS', 'HZL Gadag Wind Farm',\n",
       "       'HZL Nandurbar Maharashtra', 'HZL Palladum Wind Farm',\n",
       "       'HZL Parewar Wind Farm', 'HZL Samana Wind Farm', 'H_GANJ B',\n",
       "       'Hirewaddatti Wind Farm', 'Horti Solar Power Plant', 'I.B.VALLEY',\n",
       "       'I.P.GT', 'IDAMALAYAR', 'IDUKKI', 'IEPL  BELA TPP',\n",
       "       'IL&FS Kaladeh Wind Farm', 'IND BARATH TPP',\n",
       "       'INDIA POWER TPP(HALDIA  HIRANMAYE )', 'INDIRA SAGAR',\n",
       "       'INDRA GANDHI STPP', 'ITPCL TPP', 'Ingaleshwar Wind Farm',\n",
       "       'Isanpur Solar Power Plant', 'Itnal Solar Power Plant', 'J.SAGAR',\n",
       "       'JAISALMER GODAWARI', 'JALDHAKA I&II', 'JALLIPPA KAPURDI TPP',\n",
       "       'JAYKAYPURAM PLANT', 'JAYPEE BELA CEMENT', 'JAYPEE REWA CEMENT',\n",
       "       'JAYPEE SIDHI CEMENT', 'JEGURUPADU GT', 'JOG', 'JOJBERA',\n",
       "       'JORETHANG LOOP', 'JSW RATNAGIRI TPP',\n",
       "       'Jafrabad Solar Power Plant', 'Jamuria Solar Power Plant',\n",
       "       'Jangi Wind Farm', 'Jangi village wind farm', 'Jeloo Wind Farm',\n",
       "       'Jodiya Wind Farm', 'K.N. Ram Kaltek Wind Farm', 'KADAMPARI',\n",
       "       'KADANA', 'KADRA', 'KAHALGAON', 'KAIGA', 'KAKATIYA TPP', 'KAKKAD',\n",
       "       'KAKRAPARA', 'KALINADI', 'KALINADI SUPA', 'KALISINDH', 'KALLADA',\n",
       "       'KALLUR GRINDING', 'KAMAL SPONGE', 'KAMALANGA', 'KANHER',\n",
       "       'KARAD MILL', 'KARAIKAL', 'KARBI LANGPI', 'KARCHAM WANGTOO',\n",
       "       'KARGIL', 'KARUPPUR GT', 'KASAIPALLI', 'KASARGODE DG',\n",
       "       'KASHANG INTEGRATED', 'KASHIPUR CCPP', 'KASRAWAD FACTORY',\n",
       "       'KATGHORA TPP', 'KATHALGURI GT', 'KAWAI TPP', 'KAWAS GT',\n",
       "       'KAYAM KULAM GT', 'KCSF SANGUR', 'KHADAVASLA I&II',\n",
       "       'KHAMBERKHERA IPP', 'KHANDONG', 'KHARA', 'KHATIMA', 'KHODRI',\n",
       "       'KHOPOLI', 'KHOPOLI WORKS', 'KISHENGANGA', 'KM DODDI SUGAR',\n",
       "       'KODASALI', 'KODAYAR-I&II', 'KODERMA', 'KOJIKODE DG', 'KOLAGHAT',\n",
       "       'KOLDAM', 'KOLHAPUR HEMARUS', 'KOLHAPUR KAGAL', 'KOLHAPUR KUMBHI',\n",
       "       'KOLLEGAL SUGAR', 'KONASEEMA CCCP', 'KONDAPALLI GT', 'KOPILI',\n",
       "       'KOPPA SUGAR', 'KOPPAL HKMP', 'KORADI', 'KORBA STPS', 'KORBA-EAST',\n",
       "       'KORBA-WEST', 'KOSI', 'KOTA', 'KOTA COMPLEX', 'KOTESHWAR', 'KOTLA',\n",
       "       'KOVILKALAPPAL', 'KOYNA COMPLEX', 'KS Oils Chinnakuyili Wind Farm',\n",
       "       'KUDGI', 'KULHAL', 'KUNDAH I-V', 'KUNDANKULAM', 'KUNDARGI MILL',\n",
       "       'KUNDARKI TPP', 'KUTCH LIG.', 'KUTHUNGAL', 'KUTTALAM GT',\n",
       "       'KUTTIADI', 'KUTTIYADI Add ext', 'KVK Energy Solar Project',\n",
       "       'KYMORE', 'KYREDEMKULAI', 'K_GUDEM', 'K_GUDEM NEW', 'K_KHEDA II',\n",
       "       'Kaladonger Wind Farm', 'Kamuthi Solar Power Plant',\n",
       "       'Karmaria Solar Power Plant', 'Karur Textile Park Wind Farm',\n",
       "       'Kathauti 1 Solar Power Plant', 'Kathauti 2 Solar Power Plant',\n",
       "       'Katol - Citra Solar Power Plant',\n",
       "       'Katol - Sepset Solar Power Plant', 'Khadoda Solar Power Plant',\n",
       "       'Khandala Solar Power Plant',\n",
       "       'Khetusar - Northern Solar Power Plant',\n",
       "       'Khetusar - Suryauday Solar Power Plant',\n",
       "       'Khilchipur Solar Power Plant',\n",
       "       'Khirsara - Unity Solar Power Plant',\n",
       "       'Khirsara - Welspun Solar Power Plant', 'Khirwa Solar Power Plant',\n",
       "       'Khori Wind Farm', 'Kohinoor Wind Farm',\n",
       "       'Komal West Solar Power Plant', 'Kosa Wind Farm',\n",
       "       'Kottamangalam Wind Farm', 'Kottathara Village Wind Farm',\n",
       "       'Kudankulam', 'LAKHERI CEMENT PLANT', 'LAKWA GT', 'LALITPUR TPP',\n",
       "       'LARA', 'LARGI', 'LEIMAKHONG DG', 'LIGANAMAKKI', 'LIKIM RO',\n",
       "       'LITL Uthumalai', 'LNJP Bahla Basti Wind Farm', 'LODHIVALI',\n",
       "       'LOKMANGAL SUGAR ETHANOL', 'LOKTAK', 'LOWER JHELUM',\n",
       "       'LOWER JURALA', 'LOWER LAGYAP', 'LOWER METTUR', 'LOWER PERIYAR',\n",
       "       'LOWER SILERU', 'LTML Wind Energy Project in Tamil Nadu',\n",
       "       'LVS POWER DG', 'Lakhewali Solar Power Plant',\n",
       "       'Lakhmirwala Solar Power Plant', 'Lallian Kalan Solar Power Plant',\n",
       "       'Lalpur Wind Farm', 'Landewadi Wind Farm',\n",
       "       'Lathi Solar Power Plant', 'Liberty Oil Satara Wind Farm',\n",
       "       'M.A.P.P.', 'MACHKUND', 'MADHAVAMANTRI', 'MADHIKHEDA',\n",
       "       'MAHADEV PRASAD STPP', 'MAHAN TPP', 'MAHATMA GANDHI TPP',\n",
       "       'MAHATMA SUGAR', 'MAHI BAJAJ I&II', 'MAHUL REFINERY',\n",
       "       'MAIHAR CEMENT PLANT', 'MAITHON', 'MAITHON RB TPP', 'MALANA',\n",
       "       'MALLARPUR', 'MANERI BHALI', 'MANGALORE REFINERY', 'MANGAON CCPP',\n",
       "       'MANGLAM CEMENT', 'MANI DPH', 'MANIKDOH', 'MANIKGARH CEMENT',\n",
       "       'MANIYAR', 'MAQSOODPUR  IPP', 'MARATHA CEMENT PLANT', 'MARWA TPP',\n",
       "       'MATATILLA', 'MEJA STPP', 'MEJIA', 'MEJIA TPS EXT',\n",
       "       'MELAMARUTHUR (MUTHIARA)', 'METTUR', 'METTUR DAM',\n",
       "       'METTUR TPS EXT', 'MIHAN TPP', 'MOHAMAD PUR', 'MOHARA',\n",
       "       'MONARCHAK CCPP', 'MORDI PLANT', 'MOUDA STPS', 'MOYAGCHU', 'MOYAR',\n",
       "       'MRMPL Mudari Wind Farm', 'MSPL Wind Farm', 'MUDHOL CEMENT',\n",
       "       'MUKERIAN I -IV', 'MUL GRETA', 'MUMBAI BPCL', 'MUMBAI JINDAL',\n",
       "       'MUMBAI ONGC', 'MUNDRA TPP', 'MUNDRA UMPP', 'MUNIRABAD',\n",
       "       'MUNOLI DISTILLERY', 'MURBAD PLANT', 'MUZAFFARPUR', 'MYNTDU',\n",
       "       'Maloshi Wind Farm', 'Mandrup - Giriraj Solar Power Plant',\n",
       "       'Megha Solar Plant', 'Mirpur Kalan - Alianz Eco Solar Power Plant',\n",
       "       'Mirpur Kalan - Nexgen Solux Solar Power Plant',\n",
       "       'Mithapur Solar Power Plant', 'Mokal Wind Farm', 'Mokla Wind farm',\n",
       "       'Mulshi Solar Power Plant',\n",
       "       'Muradwala Dal Singh Solar Power Plant', 'N.A.P.S',\n",
       "       'NABI NAGAR TPP', 'NAGARJUNA SAGAR', 'NAGARJUNA SAGAR   TPD',\n",
       "       'NAGDA GRASIM', 'NAGOTHANE COMPLEX', 'NAGPUR GMT', 'NAGPUR MILL',\n",
       "       'NAGPUR SPONGE IRON', 'NAMRUP GT', 'NARASINGPUR', 'NARAYANPUR',\n",
       "       'NARIMANGLAM', 'NASIK', 'NASIK SINNAR', 'NASIK TPP  PH 1',\n",
       "       'NATHPA JHAKRI', 'NAWAPARA', 'NEPANAGAR MILL', 'NEW UMTRU',\n",
       "       'NEYVELI FST EXT', 'NEYVELI ST I', 'NEYVELI ST II',\n",
       "       'NEYVELI TPS EXP -II', 'NEYVELI TPS(Z)', 'NIGRI',\n",
       "       'NIMBAHERA JK CEMENT', 'NIMOO BAZGO', 'NIRGAJANI(Ganga Canal)',\n",
       "       'NITIN PLANT', 'NIWARI TPP', 'NIZAM SAGAR',\n",
       "       'NMDC Anehalu Wind Farm', 'NORTH CHENNAI',\n",
       "       'NORTH CHENNAI EXTENSION', 'NSL Wind Farm', 'NURANANG',\n",
       "       'N_SAGAR LBC', 'N_SAGAR RBC', 'Nagda Hills Wind Energy project',\n",
       "       'Nagercoli Wind Farm', 'Naini Solar Power Plant',\n",
       "       'Nallakonda Wind Farm', 'Nargund Wind Farm',\n",
       "       'Nokh - GGEL Solar Power Plant',\n",
       "       'Nokh - Precision Technik Solar Power Plant',\n",
       "       'Nokha Daiya Solar Power Plant', 'NuPower Tirunelveli Wind Farm',\n",
       "       'OBRA', 'OBRA-A', 'OMKARESHWAR', 'ONGC Jerat Wind Farm',\n",
       "       'ONGC Kutch Wind Farm', 'P.NALLUR CCGT', 'PAGUTHAN', 'PAINAMPURAM',\n",
       "       'PAITHON', 'PALATANA CCPP', 'PALLIVASAL', 'PAMPORE GT', 'PANCHET',\n",
       "       'PANIPAT', 'PANNIAR', 'PAPANASAM', 'PARAS', 'PARBATI-III',\n",
       "       'PARBHANI GANGAKHED', 'PARE', 'PARICHA', 'PARLI', 'PARSEN_S VALLE',\n",
       "       'PATALGANGA', 'PATHADI TPS PH -I', 'PATHRI', 'PAWANA',\n",
       "       'PEDDAPURAM CCGT(Samalkot)', 'PENCH', 'PENNA AHOBELAM', 'PERIYAR',\n",
       "       'PIPAVAV CCCP', 'POCHAMPAD', 'PONG', 'PORINGALKUTTU',\n",
       "       'PORINGALKUTTU L', 'PRAGATI CCCP -III', 'PRAGATI CCGT',\n",
       "       'PRIYADARSHNI JURALA', 'PRYAGRAJ (BARA) TPP', 'PULICHINTALA',\n",
       "       'PUNE MILL', 'PURULIA PSS', 'PYKARA', 'PYKARA ALIMATE',\n",
       "       'Panandhro Solar Power Plant', 'Patan Taluka Wind Farm',\n",
       "       'Patnaik Hatti Wind Farm', 'Patnaik Jamnagar Wind Farm',\n",
       "       'Patodi Solar Power Plant', 'Phagi Solar Power Plant',\n",
       "       'Pokhran FVE Solar Power Plant', 'Pokhran THE Solar Power Plant',\n",
       "       'Powerica Jangi Vandjiya', 'Powerica Kutch Wind Farm',\n",
       "       'Powerica Theni Wind Farm', 'Powerica Tirunelveli Wind Farm',\n",
       "       'Pratapgarh Solar Power Plant', 'Precious Solar Power Plant',\n",
       "       'Punjawa - Sikh Wala Solar Power Plant', 'R.A.P.S.', 'R.P.SAGAR',\n",
       "       'RABRIYAWAS CEMENT', 'RADHANAGRI', 'RAGHUNATHPUR TPP PH-I',\n",
       "       'RAICHUR', 'RAICHUR STEEL', 'RAIGARH TPP', 'RAIKHEDA',\n",
       "       'RAJASHREE CEMENT', 'RAJGHAT', 'RAJGHAT (MP)',\n",
       "       'RAJIV GANDHI  TPS HISAR', 'RAJPURA DARIBA MINE', 'RAJPURA TPP',\n",
       "       'RAMANAGARAM MILL', 'RAMGANGA', 'RAMGARH GT', 'RAMMAM', 'RAMPUR',\n",
       "       'RANGANADI', 'RANGIT-III', 'RANJANI MILL', 'RANJIT SAGAR',\n",
       "       'RAS CEMENT PLANT', 'RATIJA TPP', 'RATNAGIRI GAS', 'RAYAL SEEMA',\n",
       "       'RELIANCE ENERGY', 'RENGALI', 'RIHAND', 'RIHAND_Hydro',\n",
       "       'RITHALA CCCP', 'RMC MANGROL', 'ROKHIA GT', 'ROPAR',\n",
       "       'ROSA TPP PH - 1', 'RSMNL Wind Farm', 'R_GUNDEM - B',\n",
       "       'R_GUNDEM STPS', 'Rajgarh - NTPC Solar Power Plant',\n",
       "       'Rajgarh - Ujaas Solar Power Plant', 'Raksa Solar Power Plant',\n",
       "       'Ram Tirath Jaga Solar Power Plant',\n",
       "       'Ramagundam Solar Power Plant', 'Rapar Khokhara Solar Power Plant',\n",
       "       'Rasulpur Solar Power Plant', 'Ratedi Mondri Wind Farm',\n",
       "       'Ravra - IOC Solar Power Plant', 'Ravra - NWEPL Solar Power Plant',\n",
       "       'Ravra - SEI Solar Power Plant',\n",
       "       'Ravra - Welspun Solar Power Plant',\n",
       "       'Relaxo Footwear Kui Inda Wind Farm',\n",
       "       'Roaring 40s Wind Farms (Khandke) Private Limited - Phase II',\n",
       "       'Rojhani Solar Power Plant', 'Rucha Soya Wind Farm',\n",
       "       'Ruchi Soya Palsodi Wind Farm', 'S.SAROVAR CHPH', 'S.SAROVAR RBPH',\n",
       "       'SABARIGIRI', 'SAGARDIGHI TPP', 'SAHAKAR SHIROMANI', 'SAINJ',\n",
       "       'SALAL I & II', 'SALAYA TPP', 'SALORA', 'SAMALPATTI DG',\n",
       "       'SAMAYANALLUR DG', 'SAMEERWADI MILL', 'SANGLI KRANTI',\n",
       "       'SANGLI MIRAJ BIOMASS', 'SANGLI VASANTDADA', 'SANJAY BHABA',\n",
       "       'SANJAY GANDHI', 'SANKESHWAR MILL', 'SANTALDIH', 'SARKARPATHY',\n",
       "       'SASAN UMPP', 'SATNA CEMENT PLANT', 'SATPURA', 'SBT SUGAR',\n",
       "       'SEIONI TPP', 'SEMBCORP GAYATRI', 'SENGULAM', 'SERVALAR',\n",
       "       'SEWA-II', 'SEWA-III', 'SHAHPUR', 'SHANAN', 'SHARAVATHY',\n",
       "       'SHARAVATHY TAIL RACE (Gerusupa)', 'SHIMSAPURA', 'SHIROL MILL',\n",
       "       'SHIRPUR', 'SHIVAPURA', 'SHOLAYAR', 'SHOLAYAR I&II',\n",
       "       'SHREE MEGA POWER', 'SHRI MALAPRABHA', 'SHRI SHANKAR',\n",
       "       'SHRIRAM RAYONS PLANT', 'SIIL Jaibhim Wind Farm', 'SIKKA REP.',\n",
       "       'SIMHADRI', 'SIMHAPURI TPP', 'SINGARENI TPP', 'SINGRAULI STPS',\n",
       "       'SINGUR', 'SIPAT STPS', 'SITAPURAM POWER LIMITED', 'SIVASAMUNDRUM',\n",
       "       'SOLAPUR STPP', 'SONAI MILL', 'SONE EAST CANAL', 'SONE WEST CANAL',\n",
       "       'SOUTHERN REPL.', 'SRINAGAR', 'SRISAILAM', 'SRISAILAM LBPH',\n",
       "       'STAKNA', 'STERLITE TPP', 'SUBERNREKHA I&II', 'SUGEN CCCP',\n",
       "       'SURAT GARH', 'SURAT LIG.', 'SURATGARH', 'SURULIYAR', 'SURYA',\n",
       "       'SVPL', 'SWASTIK KORBA', 'SWPPL Madhavakurichi',\n",
       "       'SWPPL Manurpalayam', 'SWPPL Vadakkupanavadali',\n",
       "       'Sadeipali - ASPL Solar Power Plant',\n",
       "       'Sadeipali - REHPL Solar Power Plant', 'Sai Sulphonates Wind Mill',\n",
       "       'Sakri 1A Solar Power Plant', 'Sakri 1B Solar Power Plant',\n",
       "       'Sangatpura Solar Power Plant', 'Satara Wind Farm',\n",
       "       'Shiloj Solar Power Plant', 'Shirsoli Solar Power Plant',\n",
       "       'Shivasamundra Solar Power Plant',\n",
       "       'Shivlakha - Backbone Solar Power Plant',\n",
       "       'Shivlakha - CPEC Solar Power Plant',\n",
       "       'Shivlakha - Konark Solar Power Plant', 'Shree Nashik Wind Farm',\n",
       "       'Shree Sangli Wind Farm', 'Shree Southern Wind Farm',\n",
       "       'Shri Singaji MALWA TPP', 'Singrauli Solar Power Plant',\n",
       "       'Sivaganga Solar Power Plant', 'Sivalaperi Wind Farm',\n",
       "       'Solitaire Solar Power Plant', 'Sonu Wind Farm',\n",
       "       'Sterling Agro Akal Wind Farm', 'Sterling Agro Mokla Wind Farm',\n",
       "       'Sterling Karnataka site', 'Sterling Madhya Pradesh site',\n",
       "       'Sumilon Shikarpur Wind Farm', 'Sumilon Vershamedi Wind Farm',\n",
       "       'Supe Solar Power Plant', 'Surajbari Creek Wind Farm', 'T.B. DAM',\n",
       "       'TADALI', 'TADALI SPONGE IRON', 'TAGO', 'TALCHER', 'TALCHER STPS',\n",
       "       'TALWANDI SABO', 'TAMNAR TPP', 'TANAKPUR', 'TANDA', 'TANIR BAVI',\n",
       "       'TARAPUR', 'TASHIDING', 'TAWA', 'TEESTA  I-III', 'TEESTA -V',\n",
       "       'TEESTA LOW DAM -IV', 'TEESTA LOW DAM-III', 'TEESTA-III',\n",
       "       'TEHRI ST -1', 'TENUGHAT', 'THAL WORKS', 'THAMMINAPATNAM TPP',\n",
       "       'THANE PLANT', 'THIROT', 'TILLARI', 'TILLAYA', 'TIRORA TPP',\n",
       "       'TITAGARH', 'TORANGALLU EXT', 'TORANGALLU IMP', 'TORR POWER SAB.',\n",
       "       'TROMBAY', 'TROMBAY GT', 'TROMBAY WORKS', 'TROMBAY_Coal',\n",
       "       'TROMBAY_Oil', 'TUIRIAL', 'TUNGABHADRA SUGAR', 'TUTICORIN',\n",
       "       'TUTICORIN JV', 'TUTICORIN- IND BARATH', 'TVS Kunnur Wind Farm',\n",
       "       'TVS Tirunelveli Wind Farm', 'TVS Virali Wind Farm',\n",
       "       'Tadas wind farm', 'Talcher Kaniha Solar Power Plant',\n",
       "       'Tamilnadu Wind Farm',\n",
       "       'Tata BP - Electronics City Solar Panel Plant',\n",
       "       'Tata Power Gadag Plains Wind Farm', 'Tata Wind Farm',\n",
       "       'Teona Pujarian Solar Power Plant', 'Theni Wind Farm',\n",
       "       'Thimmapuram Wind Farm', 'Tinwari - MB Solar Power Plant',\n",
       "       'Tiruppur', 'Tiruppur 2', 'Torrent Gujurat Wind Farm',\n",
       "       'U.B.D.C. ST.-I& II', 'U.ROGNICHU', 'UCHPINDA TPP', 'UDUPI TPP',\n",
       "       'UJJAINI', 'UKAI LBC', 'UKAI_Coal', 'UKAI_Hydro', 'UMIAM I II &IV',\n",
       "       'UMTRU (NEW)', 'UNCHAHAR', 'UNO SUGEN', 'UPL Dharapuram Wind Farm',\n",
       "       'UPPAR INDRAVATI', 'UPPER KOLAB', 'UPPER SILERU I&II',\n",
       "       'UPPER SINDH I& II', 'URAN GT', 'URAN ONGC', 'URI', 'URI -II',\n",
       "       'URUMI', 'UTRAN CCCP EXT', 'UTRAULA TPP', 'Udumalpet Wind Farm',\n",
       "       'VAIGAI DAM', 'VAITARNA', 'VALANTHARVI GT', 'VALLUR ntpc/ntecl',\n",
       "       'VALUTHUR GT', 'VARAHI', 'VARDHAM BUDNI', 'VARDHAM SATLAPUR',\n",
       "       'VASAVADATTA CEMENT', 'VEMAGIRI CCCP', 'VENUNAGAR SUGAR',\n",
       "       'VIJAIPUR WORKS', 'VIJAYWADA', 'VIJAYWADA TPP-IV', 'VIJESWARAM GT',\n",
       "       'VIKRAM CEMENT', 'VINDH_CHAL STPS', 'VIR', 'VISHNU PRAYAG',\n",
       "       'VIZAG TPP', 'VRL Wind Farm', 'Vaayu Ashti Wind Farm',\n",
       "       'Vankuswade Wind Farm', 'Vastan Solar Power Plant',\n",
       "       'WADI CEMENT PLANT', 'WANAKBORI',\n",
       "       'WARDHA WARORA(Sai Wardha Power)', 'WARDHA WORKS', 'WARNA',\n",
       "       'WY.CANAL A -D', 'Wadgam Solar Power Plant',\n",
       "       'Warora Solar Power Plant', 'Weizzmann Forex Idukki Wind Farm',\n",
       "       'Wind power project by Riddhi Siddhi Gluco Biols Limited (RSGBL)',\n",
       "       'Wind power project in Rajasthan', 'YAMUNANAGAR TPP',\n",
       "       'YASHWANTRAO MOHITE', 'YELHANKA (DG)', 'YERMARUS TPP',\n",
       "       'Yelesandra Solar Power Plant', 'Yelisirur wind power project',\n",
       "       'ZAWAR MINES', 'iEnergy Theni Wind Farm'], dtype=object)"
      ]
     },
     "execution_count": 20,
     "metadata": {},
     "output_type": "execute_result"
    }
   ],
   "source": [
    "df['name'].unique()"
   ]
  },
  {
   "cell_type": "code",
   "execution_count": 21,
   "id": "3930a6b3",
   "metadata": {},
   "outputs": [],
   "source": [
    "df['name'] = lab_enc.fit_transform(df['name'])"
   ]
  },
  {
   "cell_type": "code",
   "execution_count": null,
   "id": "3f311e8e",
   "metadata": {},
   "outputs": [],
   "source": []
  },
  {
   "cell_type": "code",
   "execution_count": null,
   "id": "cc609cd8",
   "metadata": {},
   "outputs": [],
   "source": []
  },
  {
   "cell_type": "code",
   "execution_count": 22,
   "id": "3468a81f",
   "metadata": {},
   "outputs": [
    {
     "data": {
      "text/plain": [
       "array(['WRI1020239', 'WRI1019881', 'WRI1026669', 'IND0000001',\n",
       "       'IND0000002', 'IND0000003', 'IND0000004', 'IND0000005',\n",
       "       'IND0000006', 'IND0000007', 'IND0000008', 'IND0000009',\n",
       "       'IND0000010', 'IND0000011', 'IND0000012', 'IND0000013',\n",
       "       'IND0000014', 'WRI1019996', 'IND0000015', 'WRI1019938',\n",
       "       'WRI1019939', 'WRI1019904', 'IND0000016', 'IND0000017',\n",
       "       'WRI1019940', 'WRI1020238', 'WRI1026104', 'WRI1026069',\n",
       "       'WRI1026105', 'WRI1026768', 'WRI1026347', 'WRI1026068',\n",
       "       'WRI1026106', 'WRI1026107', 'WRI1026108', 'WRI1026109',\n",
       "       'WRI1026110', 'WRI1026111', 'WRI1026112', 'IND0000019',\n",
       "       'WRI1019905', 'IND0000020', 'IND0000021', 'IND0000022',\n",
       "       'IND0000023', 'IND0000025', 'IND0000024', 'WRI1019941',\n",
       "       'WRI1019882', 'IND0000026', 'IND0000027', 'IND0000028',\n",
       "       'IND0000029', 'IND0000030', 'IND0000031', 'IND0000032',\n",
       "       'WRI1019883', 'IND0000033', 'IND0000034', 'IND0000035',\n",
       "       'IND0000036', 'IND0000037', 'IND0000038', 'IND0000039',\n",
       "       'IND0000040', 'IND0000041', 'IND0000042', 'WRI1026675',\n",
       "       'WRI1026664', 'WRI1019942', 'WRI1019906', 'WRI1019907',\n",
       "       'IND0000044', 'WRI1019908', 'WRI1019909', 'IND0000045',\n",
       "       'IND0000046', 'WRI1019910', 'IND0000047', 'WRI1019943',\n",
       "       'WRI1019944', 'IND0000048', 'IND0000049', 'IND0000050',\n",
       "       'IND0000514', 'IND0000052', 'IND0000053', 'IND0000051',\n",
       "       'WRI1019945', 'IND0000054', 'IND0000055', 'IND0000056',\n",
       "       'IND0000057', 'IND0000058', 'WRI1019884', 'WRI1019997',\n",
       "       'IND0000059', 'WRI1019885', 'IND0000527', 'IND0000060',\n",
       "       'IND0000061', 'IND0000063', 'IND0000064', 'IND0000066',\n",
       "       'WRI1026079', 'IND0000067', 'IND0000068', 'IND0000069',\n",
       "       'IND0000070', 'WRI1019946', 'IND0000071', 'WRI1026113',\n",
       "       'WRI1026114', 'WRI1026655', 'WRI1026115', 'WRI1026116',\n",
       "       'WRI1026117', 'WRI1026118', 'WRI1026119', 'WRI1026120',\n",
       "       'WRI1026121', 'WRI1026122', 'WRI1026090', 'WRI1026075',\n",
       "       'WRI1026073', 'WRI1026074', 'WRI1026083', 'WRI1026123',\n",
       "       'WRI1026088', 'WRI1026124', 'WRI1026125', 'WRI1026126',\n",
       "       'WRI1026127', 'IND0000072', 'IND0000073', 'IND0000074',\n",
       "       'IND0000075', 'WRI1019947', 'WRI1019886', 'WRI1019887',\n",
       "       'WRI1019948', 'WRI1019949', 'IND0000078', 'IND0000076',\n",
       "       'IND0000515', 'IND0000079', 'IND0000080', 'IND0000081',\n",
       "       'IND0000082', 'IND0000083', 'IND0000084', 'IND0000085',\n",
       "       'WRI1019911', 'WRI1026128', 'WRI1026129', 'WRI1026672',\n",
       "       'WRI1026130', 'IND0000087', 'IND0000088', 'IND0000089',\n",
       "       'IND0000086', 'WRI1019902', 'IND0000090', 'WRI1019912',\n",
       "       'WRI1019950', 'WRI1019914', 'IND0000091', 'IND0000092',\n",
       "       'IND0000093', 'IND0000094', 'IND0000095', 'IND0000096',\n",
       "       'IND0000097', 'IND0000098', 'IND0000099', 'IND0000101',\n",
       "       'WRI1019951', 'IND0000528', 'IND0000102', 'IND0000103',\n",
       "       'WRI1019952', 'WRI1019953', 'IND0000104', 'IND0000105',\n",
       "       'IND0000106', 'WRI1019915', 'IND0000107', 'WRI1019998',\n",
       "       'IND0000108', 'IND0000109', 'WRI1026131', 'WRI1019913',\n",
       "       'WRI1026100', 'WRI1026132', 'WRI1026089', 'WRI1026133',\n",
       "       'WRI1026134', 'WRI1026135', 'WRI1020240', 'WRI1020241',\n",
       "       'WRI1026136', 'IND0000110', 'IND0000111', 'WRI1026662',\n",
       "       'IND0000114', 'WRI1026670', 'WRI1026095', 'WRI1026667',\n",
       "       'WRI1026101', 'IND0000117', 'IND0000115', 'WRI1026653',\n",
       "       'IND0000118', 'WRI1026671', 'IND0000539', 'WRI1019888',\n",
       "       'IND0000119', 'IND0000516', 'IND0000120', 'IND0000121',\n",
       "       'IND0000122', 'IND0000123', 'IND0000124', 'IND0000125',\n",
       "       'IND0000126', 'WRI1026793', 'IND0000127', 'IND0000128',\n",
       "       'IND0000129', 'IND0000130', 'WRI1019955', 'IND0000132',\n",
       "       'WRI1026658', 'IND0000112', 'IND0000134', 'IND0000136',\n",
       "       'WRI1019956', 'IND0000137', 'WRI1019916', 'IND0000135',\n",
       "       'WRI1026072', 'WRI1026137', 'WRI1026138', 'WRI1026139',\n",
       "       'WRI1026140', 'WRI1020242', 'WRI1026141', 'WRI1026142',\n",
       "       'WRI1026081', 'WRI1026143', 'WRI1020243', 'WRI1026144',\n",
       "       'WRI1026145', 'IND0000139', 'IND0000140', 'WRI1019958',\n",
       "       'IND0000141', 'WRI1019917', 'IND0000142', 'IND0000143',\n",
       "       'WRI1019957', 'IND0000144', 'WRI1019918', 'WRI1026795',\n",
       "       'WRI1026080', 'WRI1026656', 'WRI1026094', 'WRI1026794',\n",
       "       'IND0000138', 'WRI1026071', 'WRI1026146', 'IND0000145',\n",
       "       'IND0000146', 'IND0000148', 'IND0000149', 'IND0000150',\n",
       "       'WRI1026766', 'IND0000153', 'IND0000529', 'IND0000151',\n",
       "       'IND0000154', 'IND0000152', 'WRI1026661', 'WRI1026147',\n",
       "       'WRI1026148', 'IND0000155', 'WRI1019903', 'IND0000156',\n",
       "       'IND0000157', 'WRI1019889', 'WRI1019999', 'WRI1020000',\n",
       "       'WRI1020001', 'IND0000158', 'IND0000159', 'IND0000160',\n",
       "       'IND0000161', 'IND0000162', 'WRI1026149', 'WRI1026150',\n",
       "       'WRI1026096', 'WRI1026777', 'WRI1026099', 'WRI1026082',\n",
       "       'WRI1026339', 'IND0000166', 'IND0000167', 'IND0000168',\n",
       "       'IND0000169', 'IND0000170', 'IND0000171', 'IND0000172',\n",
       "       'IND0000173', 'IND0000174', 'IND0000175', 'IND0000176',\n",
       "       'IND0000177', 'WRI1019919', 'WRI1020002', 'IND0000178',\n",
       "       'IND0000179', 'WRI1019959', 'IND0000180', 'IND0000181',\n",
       "       'IND0000182', 'IND0000183', 'IND0000184', 'IND0000185',\n",
       "       'IND0000186', 'IND0000517', 'IND0000518', 'WRI1020003',\n",
       "       'IND0000187', 'IND0000188', 'IND0000189', 'IND0000190',\n",
       "       'IND0000191', 'WRI1019920', 'IND0000192', 'IND0000193',\n",
       "       'IND0000194', 'IND0000195', 'IND0000196', 'IND0000197',\n",
       "       'IND0000198', 'WRI1019960', 'IND0000530', 'WRI1019921',\n",
       "       'IND0000199', 'IND0000200', 'IND0000201', 'IND0000202',\n",
       "       'IND0000203', 'IND0000204', 'WRI1019961', 'WRI1019962',\n",
       "       'WRI1019963', 'WRI1019922', 'IND0000205', 'IND0000206',\n",
       "       'IND0000207', 'WRI1019923', 'WRI1019924', 'IND0000208',\n",
       "       'IND0000209', 'IND0000210', 'IND0000211', 'IND0000212',\n",
       "       'IND0000213', 'WRI1019890', 'IND0000214', 'IND0000215',\n",
       "       'IND0000216', 'IND0000217', 'WRI1026340', 'IND0000519',\n",
       "       'IND0000218', 'IND0000219', 'IND0000220', 'WRI1019925',\n",
       "       'IND0000221', 'IND0000222', 'IND0000223', 'IND0000224',\n",
       "       'IND0000225', 'IND0000226', 'WRI1020244', 'WRI1020004',\n",
       "       'IND0000227', 'IND0000163', 'IND0000164', 'IND0000165',\n",
       "       'WRI1026341', 'WRI1026151', 'WRI1026152', 'WRI1026778',\n",
       "       'WRI1026153', 'WRI1026154', 'WRI1026155', 'WRI1026156',\n",
       "       'WRI1026157', 'WRI1026158', 'WRI1026159', 'WRI1026160',\n",
       "       'WRI1026161', 'WRI1026162', 'WRI1026163', 'WRI1026164',\n",
       "       'WRI1026668', 'WRI1026342', 'WRI1026165', 'WRI1026086',\n",
       "       'WRI1026067', 'WRI1026775', 'WRI1026848', 'WRI1019891',\n",
       "       'IND0000228', 'IND0000230', 'IND0000531', 'IND0000229',\n",
       "       'IND0000231', 'IND0000232', 'IND0000233', 'WRI1026343',\n",
       "       'WRI1026674', 'WRI1019964', 'WRI1019965', 'IND0000234',\n",
       "       'IND0000235', 'IND0000236', 'IND0000237', 'IND0000238',\n",
       "       'IND0000239', 'IND0000240', 'WRI1026344', 'IND0000241',\n",
       "       'WRI1026166', 'WRI1026167', 'WRI1026168', 'WRI1026345',\n",
       "       'WRI1026790', 'WRI1026169', 'WRI1026346', 'IND0000242',\n",
       "       'IND0000243', 'IND0000244', 'IND0000245', 'IND0000246',\n",
       "       'IND0000247', 'IND0000248', 'WRI1019966', 'IND0000249',\n",
       "       'WRI1019967', 'WRI1020005', 'IND0000250', 'IND0000252',\n",
       "       'IND0000253', 'IND0000254', 'IND0000255', 'WRI1019926',\n",
       "       'IND0000520', 'WRI1019892', 'IND0000256', 'IND0000257',\n",
       "       'WRI1019968', 'IND0000258', 'IND0000259', 'WRI1019969',\n",
       "       'IND0000260', 'IND0000261', 'IND0000532', 'IND0000262',\n",
       "       'IND0000263', 'IND0000264', 'IND0000265', 'IND0000266',\n",
       "       'IND0000267', 'IND0000268', 'IND0000270', 'IND0000271',\n",
       "       'IND0000272', 'WRI1019893', 'IND0000273', 'IND0000274',\n",
       "       'IND0000275', 'WRI1026348', 'WRI1026070', 'WRI1019927',\n",
       "       'IND0000276', 'WRI1019970', 'WRI1019971', 'WRI1020014',\n",
       "       'WRI1020015', 'IND0000278', 'IND0000279', 'IND0000280',\n",
       "       'WRI1019928', 'WRI1019972', 'IND0000281', 'IND0000282',\n",
       "       'WRI1026077', 'WRI1026170', 'WRI1020245', 'WRI1026171',\n",
       "       'WRI1026172', 'WRI1026173', 'WRI1026093', 'WRI1026092',\n",
       "       'WRI1026174', 'WRI1026175', 'IND0000283', 'IND0000287',\n",
       "       'IND0000286', 'IND0000521', 'WRI1020006', 'WRI1019973',\n",
       "       'WRI1019974', 'WRI1019975', 'WRI1019976', 'IND0000288',\n",
       "       'WRI1020007', 'IND0000289', 'IND0000291', 'IND0000292',\n",
       "       'WRI1019977', 'IND0000293', 'IND0000294', 'IND0000522',\n",
       "       'WRI1020008', 'IND0000533', 'IND0000297', 'IND0000298',\n",
       "       'IND0000299', 'IND0000300', 'IND0000301', 'IND0000302',\n",
       "       'WRI1019894', 'IND0000303', 'IND0000304', 'WRI1019895',\n",
       "       'IND0000305', 'IND0000306', 'WRI1026349', 'IND0000307',\n",
       "       'IND0000308', 'WRI1026676', 'IND0000309', 'IND0000284',\n",
       "       'IND0000285', 'WRI1026350', 'WRI1026064', 'WRI1026176',\n",
       "       'WRI1026351', 'WRI1026352', 'WRI1026177', 'WRI1026178',\n",
       "       'WRI1026179', 'WRI1026065', 'IND0000310', 'IND0000311',\n",
       "       'IND0000312', 'WRI1026091', 'WRI1026085', 'IND0000313',\n",
       "       'IND0000314', 'IND0000315', 'IND0000316', 'IND0000317',\n",
       "       'IND0000318', 'IND0000319', 'IND0000320', 'IND0000321',\n",
       "       'IND0000323', 'IND0000324', 'IND0000325', 'IND0000326',\n",
       "       'WRI1019954', 'IND0000540', 'IND0000327', 'IND0000328',\n",
       "       'IND0000329', 'WRI1020017', 'IND0000330', 'IND0000331',\n",
       "       'IND0000333', 'IND0000334', 'IND0000335', 'IND0000336',\n",
       "       'IND0000337', 'IND0000338', 'IND0000339', 'IND0000340',\n",
       "       'IND0000341', 'IND0000342', 'IND0000343', 'IND0000344',\n",
       "       'IND0000345', 'IND0000346', 'IND0000523', 'WRI1019978',\n",
       "       'IND0000347', 'IND0000348', 'IND0000349', 'WRI1026180',\n",
       "       'WRI1026663', 'WRI1026750', 'WRI1026751', 'WRI1026181',\n",
       "       'WRI1026182', 'WRI1026183', 'WRI1026184', 'WRI1026673',\n",
       "       'WRI1026788', 'WRI1026792', 'WRI1026791', 'WRI1026185',\n",
       "       'WRI1026186', 'WRI1026187', 'IND0000350', 'IND0000351',\n",
       "       'WRI1019896', 'IND0000354', 'IND0000355', 'IND0000356',\n",
       "       'WRI1019929', 'IND0000357', 'IND0000358', 'WRI1019930',\n",
       "       'IND0000359', 'IND0000360', 'IND0000361', 'WRI1019897',\n",
       "       'IND0000362', 'WRI1019931', 'IND0000363', 'IND0000364',\n",
       "       'IND0000365', 'IND0000366', 'IND0000367', 'IND0000368',\n",
       "       'WRI1019979', 'IND0000369', 'WRI1019898', 'IND0000370',\n",
       "       'IND0000371', 'IND0000372', 'IND0000373', 'IND0000374',\n",
       "       'IND0000375', 'IND0000376', 'IND0000377', 'IND0000378',\n",
       "       'IND0000379', 'IND0000380', 'IND0000381', 'WRI1026679',\n",
       "       'IND0000352', 'IND0000353', 'WRI1026188', 'WRI1026189',\n",
       "       'WRI1026190', 'WRI1026191', 'WRI1026192', 'WRI1026193',\n",
       "       'WRI1026194', 'WRI1026770', 'WRI1026195', 'WRI1026196',\n",
       "       'WRI1026197', 'WRI1026198', 'WRI1026752', 'WRI1026666',\n",
       "       'WRI1026199', 'WRI1026084', 'WRI1026678', 'IND0000382',\n",
       "       'IND0000383', 'IND0000384', 'IND0000385', 'WRI1019980',\n",
       "       'IND0000534', 'IND0000386', 'IND0000387', 'IND0000388',\n",
       "       'IND0000389', 'IND0000390', 'WRI1019932', 'WRI1019981',\n",
       "       'WRI1019982', 'WRI1019983', 'IND0000391', 'IND0000392',\n",
       "       'WRI1019933', 'IND0000393', 'IND0000394', 'IND0000395',\n",
       "       'WRI1020009', 'IND0000396', 'WRI1019984', 'IND0000397',\n",
       "       'IND0000524', 'IND0000398', 'IND0000399', 'IND0000400',\n",
       "       'IND0000401', 'IND0000402', 'IND0000403', 'IND0000404',\n",
       "       'IND0000405', 'IND0000406', 'WRI1019985', 'IND0000535',\n",
       "       'IND0000407', 'IND0000408', 'IND0000409', 'WRI1019899',\n",
       "       'WRI1019934', 'WRI1019986', 'WRI1019900', 'WRI1026789',\n",
       "       'IND0000411', 'IND0000412', 'IND0000413', 'IND0000414',\n",
       "       'IND0000415', 'IND0000416', 'IND0000417', 'IND0000525',\n",
       "       'IND0000418', 'IND0000536', 'WRI1019987', 'IND0000419',\n",
       "       'IND0000420', 'IND0000421', 'IND0000422', 'IND0000423',\n",
       "       'IND0000424', 'IND0000425', 'IND0000426', 'IND0000427',\n",
       "       'IND0000428', 'IND0000429', 'IND0000430', 'IND0000431',\n",
       "       'IND0000432', 'IND0000433', 'IND0000434', 'IND0000435',\n",
       "       'WRI1026771', 'WRI1026773', 'WRI1026772', 'WRI1026200',\n",
       "       'WRI1026201', 'WRI1026657', 'WRI1026202', 'WRI1026203',\n",
       "       'WRI1026204', 'WRI1026076', 'WRI1026205', 'WRI1026206',\n",
       "       'WRI1026207', 'WRI1026208', 'WRI1026209', 'WRI1026210',\n",
       "       'WRI1026786', 'WRI1026785', 'WRI1026784', 'IND0000410',\n",
       "       'WRI1026211', 'WRI1026212', 'WRI1026677', 'WRI1026213',\n",
       "       'WRI1026764', 'WRI1026754', 'WRI1026755', 'WRI1026756',\n",
       "       'WRI1026757', 'WRI1026762', 'WRI1026763', 'WRI1026214',\n",
       "       'WRI1026087', 'IND0000436', 'WRI1020016', 'WRI1019988',\n",
       "       'IND0000437', 'IND0000438', 'IND0000439', 'IND0000440',\n",
       "       'IND0000441', 'IND0000442', 'IND0000443', 'IND0000444',\n",
       "       'IND0000445', 'IND0000537', 'IND0000446', 'IND0000447',\n",
       "       'IND0000450', 'IND0000449', 'IND0000448', 'IND0000526',\n",
       "       'IND0000451', 'IND0000452', 'WRI1019989', 'IND0000453',\n",
       "       'WRI1019990', 'IND0000454', 'IND0000455', 'IND0000456',\n",
       "       'IND0000457', 'IND0000458', 'IND0000459', 'IND0000460',\n",
       "       'IND0000461', 'IND0000462', 'IND0000463', 'WRI1019991',\n",
       "       'IND0000464', 'IND0000465', 'IND0000538', 'WRI1019935',\n",
       "       'IND0000466', 'IND0000468', 'IND0000467', 'WRI1026758',\n",
       "       'WRI1026774', 'WRI1026767', 'WRI1026660', 'WRI1026215',\n",
       "       'WRI1026102', 'WRI1026216', 'WRI1026787', 'WRI1026078',\n",
       "       'WRI1026217', 'WRI1026654', 'WRI1026659', 'WRI1026218',\n",
       "       'WRI1026098', 'WRI1026097', 'WRI1026765', 'IND0000469',\n",
       "       'IND0000470', 'IND0000471', 'IND0000472', 'IND0000473',\n",
       "       'IND0000474', 'IND0000475', 'IND0000476', 'IND0000477',\n",
       "       'IND0000478', 'IND0000479', 'IND0000480', 'WRI1026759',\n",
       "       'IND0000481', 'IND0000482', 'IND0000483', 'IND0000484',\n",
       "       'IND0000485', 'WRI1019992', 'IND0000486', 'IND0000487',\n",
       "       'IND0000488', 'IND0000489', 'IND0000491', 'WRI1026066',\n",
       "       'IND0000492', 'IND0000493', 'IND0000494', 'IND0000495',\n",
       "       'IND0000496', 'IND0000497', 'WRI1020010', 'WRI1020011',\n",
       "       'WRI1019936', 'IND0000499', 'WRI1019993', 'WRI1020012',\n",
       "       'IND0000500', 'IND0000501', 'IND0000502', 'WRI1020013',\n",
       "       'IND0000503', 'IND0000504', 'IND0000505', 'IND0000506',\n",
       "       'WRI1026103', 'WRI1026665', 'WRI1026680', 'WRI1026219',\n",
       "       'WRI1019937', 'IND0000507', 'IND0000508', 'WRI1019994',\n",
       "       'IND0000509', 'IND0000510', 'WRI1026220', 'WRI1026221',\n",
       "       'WRI1026760', 'WRI1026753', 'WRI1026769', 'IND0000511',\n",
       "       'WRI1019995', 'IND0000512', 'IND0000513', 'WRI1026222',\n",
       "       'WRI1026776', 'WRI1019901', 'WRI1026761'], dtype=object)"
      ]
     },
     "execution_count": 22,
     "metadata": {},
     "output_type": "execute_result"
    }
   ],
   "source": [
    "df['gppd_idnr'].unique()"
   ]
  },
  {
   "cell_type": "code",
   "execution_count": 23,
   "id": "8164d840",
   "metadata": {},
   "outputs": [],
   "source": [
    "df['gppd_idnr'] = lab_enc.fit_transform(df['gppd_idnr'])"
   ]
  },
  {
   "cell_type": "code",
   "execution_count": null,
   "id": "28374902",
   "metadata": {},
   "outputs": [],
   "source": []
  },
  {
   "cell_type": "code",
   "execution_count": null,
   "id": "0c69ac91",
   "metadata": {},
   "outputs": [],
   "source": []
  },
  {
   "cell_type": "code",
   "execution_count": 24,
   "id": "0d187e46",
   "metadata": {
    "scrolled": true
   },
   "outputs": [
    {
     "data": {
      "text/plain": [
       "array([2.50000e+00, 9.80000e+01, 3.92000e+01, 1.35000e+02, 1.80000e+03,\n",
       "       2.50000e+02, 6.00000e+01, 1.92000e+02, 2.90000e+02, 2.10000e+02,\n",
       "       1.35000e+03, 1.34000e+02, 1.20000e+03, 1.69500e+01, 9.00000e+00,\n",
       "       2.63000e+03, 4.19330e+02, 6.00000e+02, 1.00000e+01, 1.70000e+01,\n",
       "       2.40000e+01, 6.52000e+02, 4.60000e+01, 5.00000e+01, 1.00000e+00,\n",
       "       1.65000e+01, 1.13600e+02, 1.98000e+01, 1.32000e+01, 5.00000e+00,\n",
       "       7.05000e+02, 2.80000e+01, 4.50000e+02, 1.80000e+02, 1.05000e+03,\n",
       "       5.10000e+02, 6.75000e+01, 3.00000e+02, 3.35000e+02, 1.20000e+01,\n",
       "       3.15000e+02, 3.00000e+01, 2.00000e+01, 4.20000e+01, 7.20000e+02,\n",
       "       9.00000e+01, 1.32000e+03, 1.20000e+02, 6.60000e+01, 2.70000e+02,\n",
       "       2.28000e+01, 1.50000e+01, 2.52000e+01, 1.80000e+01, 1.70000e+03,\n",
       "       2.60000e+01, 4.10000e+01, 1.37900e+03, 3.40000e+01, 1.60000e+01,\n",
       "       5.00000e+02, 8.00000e+01, 7.50000e+01, 1.21000e+03, 9.90000e+01,\n",
       "       6.96000e+01, 6.00000e+00, 7.50000e+02, 4.00000e+01, 1.65000e+02,\n",
       "       7.00000e+01, 8.15000e+01, 1.12000e+01, 3.63000e+01, 1.70000e+00,\n",
       "       2.48000e+01, 5.04000e+01, 1.50000e+02, 9.87000e+01, 3.00000e+00,\n",
       "       4.20000e+00, 5.40000e+02, 2.31000e+02, 3.50000e+01, 2.34000e+02,\n",
       "       6.30000e+02, 2.92000e+03, 3.60000e+01, 3.75000e+00, 3.28000e+01,\n",
       "       2.32000e+03, 2.40000e+02, 1.44000e+02, 4.40000e+01, 1.10000e+02,\n",
       "       2.21000e+02, 2.10000e+01, 6.60000e+02, 1.82000e+03, 8.29780e+02,\n",
       "       1.00000e+02, 1.60000e+03, 2.50000e+01, 9.90000e+02, 3.37500e+01,\n",
       "       5.10000e+01, 2.80000e+02, 3.30000e+02, 5.95200e+02, 2.20000e+01,\n",
       "       9.60000e+01, 1.55000e+01, 1.29600e+01, 6.76000e+01, 3.90000e+02,\n",
       "       1.28000e+01, 1.00000e+03, 1.25000e+02, 2.00000e+00, 3.75000e+01,\n",
       "       2.82000e+01, 2.25000e+01, 5.15000e+02, 6.88000e+01, 2.10000e+03,\n",
       "       4.31586e+02, 4.25000e+00, 3.10000e+02, 3.90000e+01, 8.00000e+02,\n",
       "       1.05000e+01, 2.25000e+02, 6.48000e+02, 1.15000e+02, 7.76500e+01,\n",
       "       4.68570e+02, 2.31000e+01, 3.20000e+01, 9.20000e+02, 2.05240e+02,\n",
       "       7.68000e+02, 5.50000e+01, 2.56000e+01, 7.50000e+00, 1.80000e+00,\n",
       "       2.55000e+01, 1.56100e+02, 3.51430e+02, 1.89000e+01, 3.47500e+02,\n",
       "       3.44000e+01, 2.73000e+01, 8.88000e+01, 6.05000e+02, 4.90000e+01,\n",
       "       4.20000e+02, 7.80000e+02, 3.50000e+02, 1.50000e+03, 1.00800e+02,\n",
       "       1.08000e+03, 6.35000e+01, 5.45000e+01, 1.55000e+02, 4.45674e+02,\n",
       "       1.39200e+02, 4.27500e+02, 9.18000e+01, 2.96000e+01, 3.30000e+01,\n",
       "       1.02500e+01, 4.00000e+02, 2.34000e+03, 8.80000e+02, 1.10000e+03,\n",
       "       4.40000e+02, 8.55000e+02, 4.00000e+00, 3.25000e+01, 1.19800e+02,\n",
       "       2.18400e+01, 1.95000e+02, 2.91000e+02, 6.45000e+02, 7.20000e+01,\n",
       "       4.14000e+01, 1.26000e+03, 1.75000e+01, 4.45000e+02, 1.45800e+03,\n",
       "       2.00000e+02, 2.40000e+03, 2.60000e+03, 8.90000e+02, 1.34000e+03,\n",
       "       1.24000e+03, 1.07880e+02, 1.95600e+03, 5.55000e+02, 2.00000e+03,\n",
       "       1.01000e+02, 7.56000e+01, 5.20000e+00, 2.08000e+01, 5.62500e+01,\n",
       "       2.11955e+02, 1.98000e+03, 1.26000e+02, 3.15000e+01, 1.05000e+02,\n",
       "       4.60000e+02, 9.70000e+00, 3.68000e+01, 2.10000e+00, 2.40000e+00,\n",
       "       1.14750e+02, 4.50000e+00, 1.40000e+02, 3.14000e+01, 6.32000e+01,\n",
       "       1.86000e+02, 3.94000e+02, 1.66500e+02, 3.88000e+02, 4.50000e+01,\n",
       "       3.06000e+01, 8.40000e+02, 2.46000e+02, 9.30000e+00, 7.89000e+01,\n",
       "       2.07000e+02, 3.12000e+01, 4.62000e+03, 4.00000e+03, 2.83000e+01,\n",
       "       6.10000e+02, 1.46500e+01, 6.60000e+00, 5.25000e+01, 8.15600e+02,\n",
       "       4.55000e+01, 6.50000e+01, 1.61750e+02, 1.16000e+01, 1.22700e+01,\n",
       "       1.47000e+03, 3.32000e+01, 2.76500e+01, 6.25000e+00, 3.76000e+01,\n",
       "       5.80000e+00, 7.20000e+00, 1.09400e+03, 5.20000e+02, 1.02000e+02,\n",
       "       3.30500e+02, 6.55000e+02, 7.26600e+02, 1.75000e+02, 1.14000e+03,\n",
       "       1.17000e+03, 2.04000e+01, 2.20000e+02, 1.60000e+02, 1.61000e+02,\n",
       "       7.02860e+02, 3.96000e+02, 1.37120e+03, 9.00000e+02, 5.92000e+01,\n",
       "       6.56000e+01, 3.52000e+01, 2.18000e+01, 1.48500e+01, 9.90000e+00,\n",
       "       1.52000e+01, 1.90000e+01, 1.72000e+02, 1.87000e+01, 4.80000e+00,\n",
       "       1.72000e+03, 1.37000e+03, 3.85000e+01, 1.40000e+03, 1.10000e+01,\n",
       "       1.98000e+02, 2.70500e+02, 4.12020e+02, 4.05000e+02, 1.25000e+01,\n",
       "       1.96708e+03, 1.65000e+03, 4.80000e+01, 3.00000e+03, 9.48000e+01,\n",
       "       6.30000e+01, 6.25000e+01, 2.64000e+01, 3.05000e+01, 3.51000e+01,\n",
       "       6.90000e+02, 1.05700e+02, 1.06000e+02, 1.97000e+01, 3.96000e+03,\n",
       "       2.90000e+01, 1.33000e+03, 1.03500e+03, 1.72000e+01, 5.40000e+01,\n",
       "       3.36000e+01, 2.98000e+03, 4.30000e+01, 3.30000e+00, 7.70000e+02,\n",
       "       1.30000e+02, 1.14750e+03, 1.50000e+00, 8.50000e+00, 2.25000e+00,\n",
       "       2.52000e+03, 8.40000e+00, 6.30000e+00, 3.60000e+00, 9.42000e+01,\n",
       "       9.70000e+01, 1.35000e+01, 1.32000e+02, 3.30000e+03, 2.60000e+02,\n",
       "       4.22000e+02, 9.35000e+00, 1.44000e+01, 7.40000e+01, 0.00000e+00,\n",
       "       4.96000e+01, 9.13500e+01, 8.00000e+00, 1.44000e+03, 1.11000e+03,\n",
       "       1.55000e+03, 3.82500e+02, 3.20000e+02, 6.72000e+02, 6.26000e+01,\n",
       "       4.80000e+02, 3.74571e+02, 2.57000e+01, 5.28000e+01, 1.87200e+02,\n",
       "       2.58000e+01, 3.07500e+01, 5.07000e+01, 3.88500e+02, 2.72300e+02,\n",
       "       4.76000e+03, 1.04000e+03, 4.25000e+01, 6.24000e+01, 3.46500e+01,\n",
       "       1.06600e+02])"
      ]
     },
     "execution_count": 24,
     "metadata": {},
     "output_type": "execute_result"
    }
   ],
   "source": [
    "df['capacity_mw'].unique()"
   ]
  },
  {
   "cell_type": "code",
   "execution_count": null,
   "id": "9b4c9723",
   "metadata": {},
   "outputs": [],
   "source": []
  },
  {
   "cell_type": "code",
   "execution_count": null,
   "id": "a2a153d5",
   "metadata": {},
   "outputs": [],
   "source": []
  },
  {
   "cell_type": "code",
   "execution_count": 25,
   "id": "bd0d62bc",
   "metadata": {},
   "outputs": [
    {
     "data": {
      "text/plain": [
       "array([28.1839, 24.7663, 21.9038, 23.8712, 21.9603, 23.7689, 10.4547,\n",
       "       32.2258, 16.33  , 23.1642, 21.0782, 31.2717, 24.2007, 31.2412,\n",
       "           nan, 24.201 , 25.1797, 23.0666, 23.0655, 18.0845, 19.5867,\n",
       "       16.7708, 26.6282, 21.7438, 19.7881, 28.3615, 14.5751, 14.9455,\n",
       "       18.858 , 10.7245, 14.4791, 27.3473, 27.36  , 27.3632, 27.3661,\n",
       "       27.3537, 27.3504, 27.3566, 28.506 , 16.2804, 33.1815, 32.8063,\n",
       "       23.8285, 18.1396, 19.8601, 24.6929, 22.3421, 22.9956, 32.1686,\n",
       "       24.1917, 24.223 , 23.6026, 21.9114, 23.807 , 25.3999, 22.9417,\n",
       "       25.4865, 28.4723, 27.8453, 13.1021, 31.4306, 31.9546, 17.3816,\n",
       "       20.805 , 16.6505, 16.2774, 15.1831, 15.1777, 15.1932, 13.7008,\n",
       "       13.8274, 31.4107, 21.232 , 21.0813, 19.5555, 18.1012, 19.5132,\n",
       "       21.5837, 11.331 , 11.2428, 11.3842, 18.2416, 21.184 , 18.455 ,\n",
       "       18.4426, 18.9368, 21.0483, 25.2267, 24.2508, 23.3172, 24.8263,\n",
       "       22.0103, 32.1121, 23.3256, 23.6783, 23.785 , 26.5145, 21.2083,\n",
       "        9.9975, 10.074 , 22.4673, 32.4584, 20.9225, 20.9286, 18.0791,\n",
       "       28.3683, 10.7389, 27.3827, 27.3893, 27.3525, 27.3851, 21.5967,\n",
       "       21.6024, 27.4387, 27.4523, 26.7272, 16.4961, 15.4038, 15.9349,\n",
       "       23.0544, 23.6688, 23.6756, 23.5594, 23.2579, 29.8504, 26.5249,\n",
       "       22.3932, 32.4734, 32.5966, 32.4733, 19.9213, 24.9293, 24.9637,\n",
       "       19.93  , 19.7218, 23.7376, 20.0063, 32.7369, 11.4645, 32.9578,\n",
       "       24.6217, 30.5559, 29.976 , 34.4903, 27.2093, 16.5471, 20.0209,\n",
       "       23.907 , 23.2443, 20.6729, 23.5211, 28.603 , 28.5932, 24.8747,\n",
       "       26.7803, 14.3444, 15.1707, 18.4271, 14.3277, 31.4133, 21.1238,\n",
       "       21.6923, 30.4561, 30.4354, 19.9545, 20.0102, 29.8783, 26.7024,\n",
       "       22.2396, 19.1896, 27.4028, 24.8271, 19.4496, 18.69  , 17.8994,\n",
       "       26.2325, 16.3537, 14.6284, 33.3691, 21.1878, 23.531 , 23.58  ,\n",
       "       28.5787, 15.2529, 27.9253, 23.964 , 23.8267, 24.5216, 21.7766,\n",
       "       26.7846, 27.7355, 26.2776, 19.7197, 16.8265, 21.111 , 22.1421,\n",
       "       13.7276, 19.6274, 24.772 , 28.3452,  9.1269, 22.3758, 23.0272,\n",
       "       22.8618, 25.1521, 32.2417, 29.1411, 21.8242, 34.2236, 25.2502,\n",
       "       24.6997, 31.268 , 17.0386, 19.9324, 17.1309, 31.5425, 16.1424,\n",
       "       19.5334, 30.2666, 19.9306, 30.5307, 14.6534, 20.2723, 17.0587,\n",
       "       31.3841, 20.0058, 16.9248, 17.1084, 23.4263, 15.3418, 27.4269,\n",
       "       27.4296, 23.1534, 11.6117, 27.6003, 26.6532, 18.3055, 21.3131,\n",
       "       30.4613, 25.86  , 28.4272, 22.1042, 15.2615, 16.6038, 22.604 ,\n",
       "       17.1202, 22.3256, 21.1652, 19.2829, 21.5337, 13.9808, 15.3654,\n",
       "       21.3027, 10.8674, 27.2492, 22.0335, 28.0179, 15.1997, 17.9054,\n",
       "       21.6872, 28.6194, 10.207 ,  9.8503, 20.8102, 22.8396, 21.658 ,\n",
       "       22.0774, 22.2791, 28.4849, 11.5214, 16.6208, 22.4809, 16.4018,\n",
       "       25.0369, 27.601 , 27.0297, 25.8888, 24.6963, 24.5286, 24.565 ,\n",
       "       24.3272, 16.9312, 14.2273, 22.7554, 27.1598, 17.297 , 20.8772,\n",
       "       23.7162, 23.2409, 23.208 , 26.5255, 22.7532, 21.2261, 10.4104,\n",
       "       23.3045, 14.8901, 25.2349, 14.865 , 18.3835,  9.3275, 21.2384,\n",
       "       15.2761, 24.5295,  8.9553, 17.3821, 24.6266, 20.87  , 17.7384,\n",
       "       17.1657, 10.9325, 25.9552, 31.5156, 34.5605, 11.1208, 22.389 ,\n",
       "       12.4837, 22.1335, 27.341 , 24.7773, 21.175 ,  9.2404, 14.7753,\n",
       "       18.3803, 28.017 , 25.5177, 30.3508, 28.9232, 30.5085, 18.7817,\n",
       "       18.7712, 34.649 , 12.4806, 14.955 ,  8.5319, 24.3858, 11.2054,\n",
       "       22.4157, 31.382 , 16.0327, 16.589 , 16.689 , 12.1056, 16.7346,\n",
       "       16.64  , 12.702 , 15.316 , 21.2414, 22.3881, 22.3828, 22.4118,\n",
       "       26.497 , 25.1712, 25.1386, 30.2594, 10.5415, 17.4599, 10.9328,\n",
       "       16.4994, 30.4289, 11.2861,  8.1691, 16.2651, 27.0786, 23.6626,\n",
       "        9.9356, 11.076 , 11.5484, 24.0529, 25.7848, 17.6219, 21.2818,\n",
       "       27.0931,  9.3381, 23.35  ,  8.3091, 27.224 , 27.2089, 21.317 ,\n",
       "       21.3174, 23.443 , 18.6051, 27.3225, 27.3247, 24.0682, 23.3578,\n",
       "       23.3618, 27.301 , 21.167 , 26.6797, 11.0118, 23.3183, 10.6558,\n",
       "       11.0951,  8.1689, 25.6732, 27.0221, 24.7971, 21.757 , 31.7196,\n",
       "       14.1704,  8.9969, 26.5114, 18.9002, 17.4462, 24.587 , 34.2189,\n",
       "       16.3125, 11.6425,  9.9624, 17.8608,  9.087 , 30.4368, 29.8509,\n",
       "       31.2496, 22.1694, 27.0321, 17.8613, 12.5571, 18.5323, 12.2135,\n",
       "       25.5623, 22.8395, 24.0077, 28.49  , 20.8558, 23.5443, 19.0162,\n",
       "       24.2021, 23.7872, 23.8209, 32.0041, 15.3773, 30.7294, 12.9821,\n",
       "       18.3879, 24.7176, 13.6763, 19.2345, 19.7235,  9.3294, 19.703 ,\n",
       "       22.0708, 25.1001, 25.1447, 23.4639,  8.9159, 11.7696, 11.8014,\n",
       "       21.0377, 23.438 , 23.5496, 21.1797, 11.6137, 26.8051, 15.1579,\n",
       "       16.2017, 31.9553, 20.0805, 19.016 , 18.5309, 18.9988, 22.823 ,\n",
       "       22.8158, 15.2666, 15.8555, 19.261 , 26.1953, 25.2354, 17.5727,\n",
       "       17.4999, 29.7303, 29.7311, 22.4077, 27.1657, 27.1611, 18.4921,\n",
       "       28.156 , 24.7754, 16.5678, 16.626 , 23.4469, 18.8829, 21.0582,\n",
       "       20.8062, 20.9276, 27.1858, 22.9649, 16.2365,  9.9533, 19.9817,\n",
       "       19.8658, 31.564 , 21.92  , 21.4504, 26.0132, 11.5887, 11.5893,\n",
       "       11.5576, 11.5534, 11.5401, 24.15  , 24.6428, 34.2154, 25.2042,\n",
       "       18.2172, 14.098 , 13.245 , 27.5882, 16.5697, 22.8985,  8.1784,\n",
       "       25.3723, 14.1651, 15.7319, 27.6007, 27.5728, 28.1371,  9.0737,\n",
       "       24.4375, 24.4448, 22.2418, 26.818 , 23.1689, 11.0749, 21.78  ,\n",
       "       14.3512, 19.4834, 23.4987, 10.0314, 34.004 , 23.6815, 29.3975,\n",
       "        9.9731,  8.7065, 20.7147, 31.7398, 18.9057, 27.2387, 25.5124,\n",
       "       18.8685, 11.3646, 18.8834, 22.2454, 29.9274, 18.6814, 17.0853,\n",
       "       21.4813, 14.6859,  9.6266, 20.8986, 18.9766, 31.9667, 10.3118,\n",
       "       28.7962, 28.6146, 16.3328, 25.196 , 16.7739, 18.2417, 23.1975,\n",
       "       11.5336, 23.6788, 17.2684, 21.1902, 22.0983, 26.0748, 26.5653,\n",
       "       26.8022, 26.7874, 23.2478, 23.1897,  9.9855,  9.0198, 23.3682,\n",
       "       23.9151, 30.0208, 24.9174, 26.2984, 16.4072, 23.622 , 16.3532,\n",
       "       16.3027, 21.9846, 21.4499, 17.1427, 28.6361, 24.7635, 29.356 ,\n",
       "       24.9643, 30.557 , 12.7145, 29.5169, 27.336 , 27.114 , 31.4   ,\n",
       "       27.3426, 27.2949, 18.5354, 32.4404, 26.263 , 22.3404, 17.5587,\n",
       "       14.704 , 15.3771, 21.2759, 24.027 , 24.1778, 28.7327, 25.1732,\n",
       "       23.626 , 31.0417, 27.818 , 18.7695, 18.7572, 23.9637, 23.9796,\n",
       "       25.4106, 29.9619, 18.764 , 23.2592, 27.9363, 26.8026, 27.4108,\n",
       "       27.4118, 27.4092, 27.4137, 26.4586, 19.1474, 23.7025, 23.0562,\n",
       "       21.8376, 21.8301,  9.3098, 24.3696, 17.708 , 33.142 , 22.3049,\n",
       "       22.49  , 12.2995,  9.9751, 16.3918, 17.1354, 16.9171, 16.881 ,\n",
       "       31.2642, 23.3026, 16.2478, 23.6013, 10.4558, 23.9784, 24.5959,\n",
       "       22.11  , 19.6125, 22.7355, 14.351 ,  9.976 ,  8.6895, 32.6762,\n",
       "       32.6029, 31.9894, 14.2352, 12.3409, 16.7493, 10.3046, 10.3575,\n",
       "       26.0743, 15.6933, 17.8676, 25.1296, 21.127 , 22.4208, 17.591 ,\n",
       "       14.2133, 18.8372, 24.1033, 18.6609, 22.13  , 16.8301, 12.3082,\n",
       "       31.7537, 19.3804, 22.5488, 30.2313, 16.0869, 16.0929, 33.9594,\n",
       "       21.8144, 23.457 , 21.3395, 21.397 , 29.179 ,  9.62  , 19.9214,\n",
       "       22.2915, 22.3005,  8.823 , 10.8166,  9.0782, 20.731 , 20.7325,\n",
       "       10.9262, 21.0726, 21.0864, 29.9611, 17.2387, 20.8183, 12.3003,\n",
       "       23.3585, 23.383 , 23.3654, 19.845 , 17.3031, 17.5724, 22.0971,\n",
       "       24.1185,  9.8043, 23.9116, 27.2081, 23.2414, 22.972 , 18.3198,\n",
       "       23.3232, 20.0116, 20.0123, 20.9099, 21.0966, 29.924 , 22.0987,\n",
       "       29.0057, 26.586 , 12.9019, 19.8294, 27.3403, 22.5616, 26.4875,\n",
       "       27.2517, 26.9279, 27.0017, 27.5981, 30.3787, 23.7573, 18.7026,\n",
       "       19.0875, 32.659 , 15.8094, 24.3249, 21.4129, 22.7318, 15.1839,\n",
       "       23.0701, 19.0004, 19.0018, 19.0366, 24.3588, 15.6609,  8.7635,\n",
       "        8.7603,  9.9438,  8.9165, 17.501 , 15.1069, 21.0866, 12.8491,\n",
       "       15.3302, 19.1757,  9.9621, 14.7053, 26.5182, 10.8139, 10.79  ,\n",
       "       22.104 , 32.3367, 27.2614, 21.8858, 13.1596, 18.0723, 21.2323,\n",
       "       21.2093, 21.2478, 25.6593, 26.0069, 25.9131, 21.3411, 10.838 ,\n",
       "       19.4269, 18.8315, 18.0313, 34.198 , 18.88  , 18.8681, 34.1442,\n",
       "       34.0921, 11.3727, 21.2285, 27.3455, 10.6143, 10.0537, 19.7674,\n",
       "        9.3279, 13.2371,  9.3484, 13.6576, 22.7808, 23.0752, 17.1605,\n",
       "       16.9238, 17.7382, 24.4978, 16.5984, 16.5973, 16.9345, 24.5753,\n",
       "       24.0983, 18.121 , 30.5669, 17.5635, 19.108 , 21.4239, 17.0552,\n",
       "       22.8725, 20.2727, 20.6964, 17.1401, 30.3033, 22.3172, 20.301 ,\n",
       "        9.8881,  8.8709, 27.1715, 30.1081, 17.1653, 13.1156, 16.2949,\n",
       "       12.8932, 15.2758, 24.35  ,  9.9344])"
      ]
     },
     "execution_count": 25,
     "metadata": {},
     "output_type": "execute_result"
    }
   ],
   "source": [
    "df['latitude'].unique()"
   ]
  },
  {
   "cell_type": "code",
   "execution_count": null,
   "id": "5095990c",
   "metadata": {},
   "outputs": [],
   "source": []
  },
  {
   "cell_type": "code",
   "execution_count": null,
   "id": "87e2ee0e",
   "metadata": {},
   "outputs": [],
   "source": []
  },
  {
   "cell_type": "code",
   "execution_count": 26,
   "id": "c9d7d11a",
   "metadata": {},
   "outputs": [
    {
     "data": {
      "text/plain": [
       "46"
      ]
     },
     "execution_count": 26,
     "metadata": {},
     "output_type": "execute_result"
    }
   ],
   "source": [
    "df['latitude'].isna().sum()"
   ]
  },
  {
   "cell_type": "code",
   "execution_count": 27,
   "id": "f9ff9b1e",
   "metadata": {},
   "outputs": [],
   "source": [
    "df['latitude'] = df['latitude'].fillna(df['latitude'].mode()[0])"
   ]
  },
  {
   "cell_type": "code",
   "execution_count": 28,
   "id": "7be84e12",
   "metadata": {},
   "outputs": [
    {
     "data": {
      "text/plain": [
       "0"
      ]
     },
     "execution_count": 28,
     "metadata": {},
     "output_type": "execute_result"
    }
   ],
   "source": [
    "df['latitude'].isna().sum()"
   ]
  },
  {
   "cell_type": "code",
   "execution_count": null,
   "id": "f442f266",
   "metadata": {},
   "outputs": [],
   "source": []
  },
  {
   "cell_type": "code",
   "execution_count": null,
   "id": "362514f0",
   "metadata": {},
   "outputs": [],
   "source": []
  },
  {
   "cell_type": "code",
   "execution_count": 29,
   "id": "6699d100",
   "metadata": {},
   "outputs": [
    {
     "data": {
      "text/plain": [
       "array([73.2407, 74.609 , 69.3732, 91.3602, 82.4091, 68.6447, 77.0078,\n",
       "       77.207 , 75.8863, 81.6373, 77.9009, 76.4938, 82.8   , 77.8769,\n",
       "           nan, 82.7891, 76.3188, 81.7841, 81.7865, 76.1851, 74.7061,\n",
       "       74.9191, 79.5286, 83.2741, 79.1518, 74.2402, 76.3926, 77.687 ,\n",
       "       73.6396, 77.1893, 76.3482, 71.6917, 71.6918, 71.6916, 77.3066,\n",
       "       75.225 , 75.3155, 76.1418, 87.4513, 82.1221, 79.3421, 74.689 ,\n",
       "       82.4305, 88.4042, 76.4695, 81.2875, 81.2747, 74.2562, 83.1889,\n",
       "       91.565 , 86.0218, 79.925 , 85.7452, 79.8066, 73.2   , 80.2682,\n",
       "       78.241 , 76.7986, 74.5345, 79.0547, 74.8209, 74.7111, 76.7909,\n",
       "       77.1036, 76.7195, 75.6373, 75.7131, 76.4328, 79.6311, 79.7708,\n",
       "       73.8087, 73.7252, 73.4173, 72.2222, 77.758 , 77.8659, 77.7145,\n",
       "       74.7529, 81.4237, 73.3907, 73.3498, 73.4527, 75.8425, 74.6216,\n",
       "       78.1606, 78.1336, 73.0901, 83.2058, 76.6537, 81.0333, 86.0888,\n",
       "       85.88  , 90.5287, 74.1543, 76.3744, 88.14  , 76.532 , 78.9535,\n",
       "       78.9333, 76.1807, 73.5286, 77.416 , 72.3188, 72.3134, 72.3554,\n",
       "       72.3042, 69.843 , 69.8441, 72.3245, 72.3388, 70.8304, 74.5417,\n",
       "       75.5625, 74.7007, 68.8782, 71.5782, 75.0565, 73.286 , 69.0255,\n",
       "       75.49  , 71.5212, 82.5532, 76.2552, 75.9857, 76.44  , 79.1133,\n",
       "       74.6367, 74.6656, 79.1346, 79.1757, 86.1273, 79.29  , 76.2477,\n",
       "       76.0376, 75.1705, 77.0357, 77.7915, 78.2203, 76.1137, 88.6659,\n",
       "       77.0825, 79.2712, 71.1881, 70.4603, 83.1107, 87.3023, 77.6078,\n",
       "       77.6101, 75.6189, 72.0091, 80.1264, 76.377 , 74.6338, 75.8808,\n",
       "       76.8686, 84.9843, 72.6215, 77.7368, 77.6821, 72.7478, 79.2033,\n",
       "       80.5727, 77.8492, 72.752 , 73.004 , 88.5247, 92.9737, 75.0382,\n",
       "       73.039 , 81.8296, 94.2612, 74.0095, 75.8448, 75.7985, 81.2099,\n",
       "       87.25  , 87.2043, 77.6314, 74.6283, 72.8899, 74.6215, 75.8988,\n",
       "       72.1999, 70.0773, 72.0083, 72.651 , 76.733 , 73.9269, 72.655 ,\n",
       "       69.8442, 76.5137, 73.7839, 87.894 , 77.3615, 77.6458, 73.1017,\n",
       "       69.9494, 78.8648, 76.182 , 76.2787, 78.9632, 73.1136, 74.7781,\n",
       "       72.6765, 75.5529, 76.492 , 82.1286, 79.104 , 73.9765, 77.7786,\n",
       "       74.6447, 73.6509, 75.1661, 79.12  , 77.4968, 75.8613, 78.9793,\n",
       "       82.3097, 75.1464, 79.1845, 81.8111, 77.1325, 91.8223, 75.5868,\n",
       "       72.3896, 72.3969, 72.669 , 92.7109, 72.2241, 72.5377, 76.6551,\n",
       "       69.9187, 74.6188, 74.6567, 77.1596, 88.1764, 76.3379, 74.4045,\n",
       "       82.5977, 76.4004, 69.7399, 72.6613, 77.1384, 83.8754, 76.6279,\n",
       "       75.5639, 74.3091, 77.4588, 70.6722, 70.2313, 78.1326, 75.762 ,\n",
       "       76.3224, 83.86  , 77.2504, 76.7137, 77.0555, 79.0556, 76.1906,\n",
       "       83.92  , 88.0995, 76.4728, 76.3754, 79.7515, 76.0223, 72.5235,\n",
       "       74.6641, 75.6778, 72.2242, 88.8747, 71.3236, 73.0017, 81.1698,\n",
       "       81.1748, 81.3293, 81.86  , 74.7994, 86.2491, 88.2924, 73.212 ,\n",
       "       71.2801, 87.0695, 70.509 , 70.5465, 72.7629, 70.3961, 74.2393,\n",
       "       77.0435, 73.8254, 74.3916, 87.2635, 74.4385, 79.8265, 76.9717,\n",
       "       73.3489, 74.5268, 76.0986, 77.0697, 77.4389, 80.831 , 85.2671,\n",
       "       73.917 , 74.2459, 79.8216, 92.5171, 78.1073, 76.1299, 79.5287,\n",
       "       82.5549, 74.9929, 75.4568, 95.408 , 76.737 , 72.6879, 76.4283,\n",
       "       75.3131, 73.6116, 80.8307, 92.6679, 77.6017, 80.0243, 77.8001,\n",
       "       73.3558, 73.259 , 74.7514, 77.0411, 74.5904, 77.3125, 85.5517,\n",
       "       75.8067, 87.8713, 76.8761, 74.4583, 74.2993, 74.1201, 76.7606,\n",
       "       81.8622, 80.5504, 76.9787, 76.2507, 79.096 , 82.6858, 82.7188,\n",
       "       82.6888, 86.9549, 75.8171, 75.8883, 78.4971, 79.4507, 73.684 ,\n",
       "       77.0912, 75.8349, 77.6296, 76.6511, 77.1327, 75.5302, 82.0841,\n",
       "       68.7843, 77.1068, 79.57  , 80.6144, 91.7895, 80.6936, 79.116 ,\n",
       "       70.9996, 78.3917, 70.388 , 77.6191, 74.2524, 74.2553, 78.6025,\n",
       "       78.6001, 73.2014, 75.0381, 71.9951, 71.991 , 76.589 , 70.0548,\n",
       "       70.0536, 72.3236, 74.3272, 71.026 , 79.5898, 68.6988, 77.2471,\n",
       "       76.6709, 77.7126, 76.1901, 94.8833, 78.6463, 83.4573, 77.212 ,\n",
       "       74.8388, 77.537 , 71.4974, 73.2032, 75.7161, 93.6696, 74.5281,\n",
       "       77.7773, 77.7583, 76.957 , 81.6814, 77.6055, 74.3316, 75.4023,\n",
       "       75.4826, 69.827 , 71.5322, 74.0733, 80.1754, 82.4645, 77.0225,\n",
       "       77.8348, 86.0613, 82.4172, 76.351 , 78.5814, 74.5062, 72.8963,\n",
       "       80.7997, 86.8284, 86.76  , 77.2494, 76.4591, 78.4238, 74.8496,\n",
       "       73.3529, 75.9522, 75.0462, 73.8144, 79.1761, 76.8798, 79.2206,\n",
       "       82.6022, 78.3717, 81.9415, 87.1311, 78.1374, 77.8138, 77.8085,\n",
       "       78.9334, 91.274 , 74.4072, 79.3978, 76.6919, 70.7381, 75.7965,\n",
       "       75.3005, 75.836 , 79.7148, 72.8948, 72.9465, 72.8997, 69.5532,\n",
       "       69.5281, 76.3288, 75.1002, 73.3638, 85.3017, 92.2279, 73.9032,\n",
       "       75.781 , 75.3099, 75.308 , 68.9925, 70.7455, 70.681 , 73.5081,\n",
       "       78.4089, 84.1588, 79.3442, 79.4909, 75.408 , 73.1862, 79.485 ,\n",
       "       79.0548, 79.2455, 95.376 , 78.8132, 76.3369, 76.9792, 73.8896,\n",
       "       74.0835, 77.98  , 83.2788, 76.4014, 91.8239, 79.4611, 79.4704,\n",
       "       79.4417, 79.4408, 79.4159, 81.9045, 74.6843, 77.1842, 74.6092,\n",
       "       77.9576, 76.3154, 80.3257, 91.981 , 79.3389, 76.0718, 77.6873,\n",
       "       81.8717, 77.5713, 75.3789, 72.206 , 72.9661, 77.4753, 82.9655,\n",
       "       82.9803, 76.1619, 71.0643, 68.6975, 79.834 , 72.979 , 80.1431,\n",
       "       75.3696, 91.4385, 77.0548, 74.9175, 86.7473, 76.8763, 77.0281,\n",
       "       77.3627, 76.7948, 77.2576, 76.7282, 93.8107, 78.7588, 76.5254,\n",
       "       76.6045, 73.1814, 82.7246, 78.0415, 73.4948, 82.1283, 79.2086,\n",
       "       77.7147, 77.1905, 71.4693, 78.2563, 75.9469, 76.617 , 77.0706,\n",
       "       77.2528, 77.7036, 81.6594, 80.0525, 74.7531, 86.097 , 76.6011,\n",
       "       68.7653, 73.8368, 74.3795, 70.2729, 72.2677, 75.5622, 72.0078,\n",
       "       72.0099, 70.5948, 70.6216, 77.5777, 77.4501, 70.7432, 71.9424,\n",
       "       74.546 , 75.5794, 74.1234, 73.9616, 86.661 , 77.3422, 77.3608,\n",
       "       83.2331, 81.8525, 77.1749, 77.2542, 78.2322, 75.869 , 74.1197,\n",
       "       76.577 , 77.4524, 78.7574, 70.538 , 88.1376, 77.5927, 93.8168,\n",
       "       88.2921, 76.245 , 75.7305, 74.1878, 82.493 , 73.167 , 78.4577,\n",
       "       73.877 , 85.0355, 82.7915, 83.0361, 77.1016, 75.832 , 91.1948,\n",
       "       76.5847, 79.936 , 79.4494, 79.456 , 76.719 , 76.7329, 78.4805,\n",
       "       75.1631, 79.4873, 70.0097, 75.679 , 70.7736, 72.2164, 72.2127,\n",
       "       72.2193, 72.1577, 72.4706, 74.8763, 75.9246, 70.6004, 73.7559,\n",
       "       73.7501, 77.0727, 88.1046, 75.1361, 74.8097, 69.7101, 82.6062,\n",
       "       78.4038, 78.0445, 75.0411, 74.4272, 74.4821, 74.5898, 78.4835,\n",
       "       81.0668, 74.5003, 86.4666, 76.8302, 82.6275, 80.858 , 78.173 ,\n",
       "       74.1924, 79.9123, 80.1443, 77.0309, 77.3048, 75.8215, 75.9006,\n",
       "       76.8072, 74.7673, 77.1906, 74.5854, 76.7305, 76.879 , 74.3858,\n",
       "       74.7162, 74.8405, 75.8832, 74.2673, 69.8276, 83.0917, 80.0838,\n",
       "       79.5748, 82.7068, 78.0876, 82.293 , 80.0407, 77.165 , 77.246 ,\n",
       "       74.8397, 88.2926, 78.7924, 78.9007, 78.9118, 77.7142, 84.0404,\n",
       "       85.555 , 72.9889, 73.106 , 74.0202, 77.2726, 73.0575, 82.5257,\n",
       "       82.7047, 77.6271, 77.3199, 77.591 , 83.4538, 83.4632, 77.3841,\n",
       "       74.3862, 74.3529, 75.7767, 73.9096, 71.0063, 77.1638, 70.6206,\n",
       "       70.6146, 70.6268, 73.9074, 74.631 , 74.3386, 76.5317, 82.6415,\n",
       "       78.4487, 71.9324, 70.6958, 70.7262, 70.5443, 74.3686, 70.6417,\n",
       "       79.2036, 79.1863, 85.2072, 85.074 , 75.2372, 83.4513, 80.0946,\n",
       "       82.602 , 74.816 , 72.6617, 88.2332, 77.9635, 88.3155, 88.4604,\n",
       "       88.4562, 88.443 , 88.6505, 78.4795, 85.8936, 72.8709, 73.0258,\n",
       "       76.7817, 74.1588, 85.5198, 79.9671, 88.371 , 76.6622, 72.5933,\n",
       "       72.8983, 72.8967, 72.8892, 92.8837, 76.8756, 78.1753, 78.1699,\n",
       "       77.5077, 77.659 , 74.7001, 85.0987, 77.6752, 75.5767, 74.8441,\n",
       "       77.3709, 77.3355, 72.8536, 77.3785, 77.33  , 69.8323, 75.5819,\n",
       "       88.5572, 83.1215, 74.8002, 75.1197, 73.5917, 73.5574, 73.5866,\n",
       "       91.9003, 91.8114, 81.3274, 72.9895, 77.5123, 82.8594, 82.5934,\n",
       "       82.0179, 75.1245, 72.9715, 72.9293, 74.1857, 74.0318, 76.0584,\n",
       "       72.8705, 82.3166, 77.237 , 77.5905, 73.502 , 78.9215, 80.3023,\n",
       "       78.9235, 74.9484, 77.6515, 77.5526, 77.293 , 81.8141, 75.3218,\n",
       "       77.1513, 80.537 , 80.5382, 81.7245, 74.8012, 82.6719, 74.0968,\n",
       "       79.5468, 83.1382, 74.9885, 73.1273, 76.9775, 73.3588, 78.9792,\n",
       "       78.6385, 73.866 , 77.5684, 72.4397, 79.0237, 77.2216, 77.4466,\n",
       "       70.6877, 77.3257, 74.2456, 77.5838, 77.3568, 78.1654, 75.5811,\n",
       "       73.7477, 77.4768])"
      ]
     },
     "execution_count": 29,
     "metadata": {},
     "output_type": "execute_result"
    }
   ],
   "source": [
    "df['longitude'].unique()"
   ]
  },
  {
   "cell_type": "code",
   "execution_count": 30,
   "id": "96147466",
   "metadata": {},
   "outputs": [
    {
     "data": {
      "text/plain": [
       "46"
      ]
     },
     "execution_count": 30,
     "metadata": {},
     "output_type": "execute_result"
    }
   ],
   "source": [
    "df['longitude'].isna().sum()"
   ]
  },
  {
   "cell_type": "code",
   "execution_count": 31,
   "id": "1bec2367",
   "metadata": {},
   "outputs": [],
   "source": [
    "df['longitude'] = df['longitude'].fillna(df['longitude'].mode()[0])"
   ]
  },
  {
   "cell_type": "code",
   "execution_count": 32,
   "id": "f2dd8288",
   "metadata": {},
   "outputs": [
    {
     "data": {
      "text/plain": [
       "0"
      ]
     },
     "execution_count": 32,
     "metadata": {},
     "output_type": "execute_result"
    }
   ],
   "source": [
    "df['longitude'].isna().sum()"
   ]
  },
  {
   "cell_type": "code",
   "execution_count": null,
   "id": "7cb100dd",
   "metadata": {},
   "outputs": [],
   "source": []
  },
  {
   "cell_type": "code",
   "execution_count": null,
   "id": "7b68c055",
   "metadata": {},
   "outputs": [],
   "source": []
  },
  {
   "cell_type": "code",
   "execution_count": 33,
   "id": "efff6c8d",
   "metadata": {},
   "outputs": [
    {
     "data": {
      "text/plain": [
       "array(['Solar', 'Coal', 'Wind', 'Gas', 'Hydro', 'Biomass', 'Oil',\n",
       "       'Nuclear'], dtype=object)"
      ]
     },
     "execution_count": 33,
     "metadata": {},
     "output_type": "execute_result"
    }
   ],
   "source": [
    "df['primary_fuel'].unique()"
   ]
  },
  {
   "cell_type": "code",
   "execution_count": 34,
   "id": "5c4fab68",
   "metadata": {},
   "outputs": [
    {
     "data": {
      "text/plain": [
       "0"
      ]
     },
     "execution_count": 34,
     "metadata": {},
     "output_type": "execute_result"
    }
   ],
   "source": [
    "df['primary_fuel'].isna().sum()"
   ]
  },
  {
   "cell_type": "code",
   "execution_count": 35,
   "id": "e38c6930",
   "metadata": {},
   "outputs": [],
   "source": [
    "df['primary_fuel'] = lab_enc.fit_transform(df['primary_fuel'])"
   ]
  },
  {
   "cell_type": "code",
   "execution_count": null,
   "id": "3b9787e3",
   "metadata": {},
   "outputs": [],
   "source": []
  },
  {
   "cell_type": "code",
   "execution_count": null,
   "id": "da0e0512",
   "metadata": {},
   "outputs": [],
   "source": []
  },
  {
   "cell_type": "code",
   "execution_count": 36,
   "id": "8dda117f",
   "metadata": {},
   "outputs": [
    {
     "data": {
      "text/plain": [
       "array([nan, 'Oil', 'Cogeneration', 'Gas'], dtype=object)"
      ]
     },
     "execution_count": 36,
     "metadata": {},
     "output_type": "execute_result"
    }
   ],
   "source": [
    "df['other_fuel1'].unique()"
   ]
  },
  {
   "cell_type": "code",
   "execution_count": 37,
   "id": "328f9a27",
   "metadata": {},
   "outputs": [
    {
     "data": {
      "text/plain": [
       "709"
      ]
     },
     "execution_count": 37,
     "metadata": {},
     "output_type": "execute_result"
    }
   ],
   "source": [
    "df['other_fuel1'].isna().sum()"
   ]
  },
  {
   "cell_type": "code",
   "execution_count": 38,
   "id": "01910a8c",
   "metadata": {},
   "outputs": [
    {
     "data": {
      "text/plain": [
       "0    Oil\n",
       "Name: other_fuel1, dtype: object"
      ]
     },
     "execution_count": 38,
     "metadata": {},
     "output_type": "execute_result"
    }
   ],
   "source": [
    "df['other_fuel1'].mode()"
   ]
  },
  {
   "cell_type": "code",
   "execution_count": 39,
   "id": "2c21ae13",
   "metadata": {},
   "outputs": [],
   "source": [
    "df['other_fuel1'] = df['other_fuel1'].fillna(df['other_fuel1'].mode()[0])"
   ]
  },
  {
   "cell_type": "code",
   "execution_count": 40,
   "id": "b66be13f",
   "metadata": {},
   "outputs": [
    {
     "data": {
      "text/plain": [
       "0"
      ]
     },
     "execution_count": 40,
     "metadata": {},
     "output_type": "execute_result"
    }
   ],
   "source": [
    "df['other_fuel1'].isna().sum()"
   ]
  },
  {
   "cell_type": "code",
   "execution_count": 41,
   "id": "13ed5839",
   "metadata": {},
   "outputs": [],
   "source": [
    "df['other_fuel1'] = lab_enc.fit_transform(df['other_fuel1'])"
   ]
  },
  {
   "cell_type": "code",
   "execution_count": null,
   "id": "cffe6bbc",
   "metadata": {},
   "outputs": [],
   "source": []
  },
  {
   "cell_type": "code",
   "execution_count": null,
   "id": "c4463824",
   "metadata": {},
   "outputs": [],
   "source": []
  },
  {
   "cell_type": "code",
   "execution_count": null,
   "id": "6440ffe3",
   "metadata": {},
   "outputs": [],
   "source": []
  },
  {
   "cell_type": "code",
   "execution_count": 42,
   "id": "e0b6c1a4",
   "metadata": {},
   "outputs": [
    {
     "data": {
      "text/plain": [
       "array([nan, 'Oil'], dtype=object)"
      ]
     },
     "execution_count": 42,
     "metadata": {},
     "output_type": "execute_result"
    }
   ],
   "source": [
    "df['other_fuel2'].unique()"
   ]
  },
  {
   "cell_type": "code",
   "execution_count": 43,
   "id": "b16a14cc",
   "metadata": {},
   "outputs": [
    {
     "data": {
      "text/plain": [
       "906"
      ]
     },
     "execution_count": 43,
     "metadata": {},
     "output_type": "execute_result"
    }
   ],
   "source": [
    "df['other_fuel2'].isna().sum()"
   ]
  },
  {
   "cell_type": "code",
   "execution_count": 44,
   "id": "4551a348",
   "metadata": {},
   "outputs": [],
   "source": [
    "df = df.drop(columns=['other_fuel2'])"
   ]
  },
  {
   "cell_type": "code",
   "execution_count": 45,
   "id": "7a3dbb1c",
   "metadata": {},
   "outputs": [
    {
     "data": {
      "text/plain": [
       "(907, 26)"
      ]
     },
     "execution_count": 45,
     "metadata": {},
     "output_type": "execute_result"
    }
   ],
   "source": [
    "df.shape"
   ]
  },
  {
   "cell_type": "code",
   "execution_count": null,
   "id": "dd01527c",
   "metadata": {},
   "outputs": [],
   "source": []
  },
  {
   "cell_type": "code",
   "execution_count": null,
   "id": "5f7797dd",
   "metadata": {},
   "outputs": [],
   "source": []
  },
  {
   "cell_type": "code",
   "execution_count": 46,
   "id": "f55647f0",
   "metadata": {},
   "outputs": [
    {
     "data": {
      "text/plain": [
       "array([nan])"
      ]
     },
     "execution_count": 46,
     "metadata": {},
     "output_type": "execute_result"
    }
   ],
   "source": [
    "df['other_fuel3'].unique()"
   ]
  },
  {
   "cell_type": "code",
   "execution_count": 47,
   "id": "fecacfc3",
   "metadata": {},
   "outputs": [
    {
     "data": {
      "text/plain": [
       "907"
      ]
     },
     "execution_count": 47,
     "metadata": {},
     "output_type": "execute_result"
    }
   ],
   "source": [
    "df['other_fuel3'].isna().sum()"
   ]
  },
  {
   "cell_type": "code",
   "execution_count": 48,
   "id": "0c3f2862",
   "metadata": {},
   "outputs": [],
   "source": [
    "df = df.drop(columns=['other_fuel3'])"
   ]
  },
  {
   "cell_type": "code",
   "execution_count": 49,
   "id": "95a7e8ad",
   "metadata": {},
   "outputs": [
    {
     "data": {
      "text/plain": [
       "(907, 25)"
      ]
     },
     "execution_count": 49,
     "metadata": {},
     "output_type": "execute_result"
    }
   ],
   "source": [
    "df.shape"
   ]
  },
  {
   "cell_type": "code",
   "execution_count": null,
   "id": "47320445",
   "metadata": {},
   "outputs": [],
   "source": []
  },
  {
   "cell_type": "code",
   "execution_count": null,
   "id": "88f60104",
   "metadata": {},
   "outputs": [],
   "source": []
  },
  {
   "cell_type": "code",
   "execution_count": null,
   "id": "6715602f",
   "metadata": {},
   "outputs": [],
   "source": []
  },
  {
   "cell_type": "code",
   "execution_count": 50,
   "id": "45fa486b",
   "metadata": {},
   "outputs": [
    {
     "data": {
      "text/plain": [
       "array([2011.,   nan, 2004., 2015., 2005., 1970., 2010., 2008., 2014.,\n",
       "       1985., 1986., 1987., 2000., 1989., 2017., 1977., 1980., 2003.,\n",
       "       1984., 1976., 1996., 1991., 2002., 2001., 2006., 2007., 1988.,\n",
       "       1973., 2012., 1968., 1964., 2016., 2013., 1962., 1998., 1993.,\n",
       "       1997., 1999., 1994., 1975., 1992., 1972., 1979., 1967., 1995.,\n",
       "       1983., 1981., 2018., 1959., 1961., 1957., 1978., 1963., 1971.,\n",
       "       1955., 2009., 1966., 1965., 1960., 1949., 1952., 1990., 1982.,\n",
       "       1937., 1956., 1946., 1958., 1943., 1954., 1969., 1939., 1927.,\n",
       "       1974., 1953.])"
      ]
     },
     "execution_count": 50,
     "metadata": {},
     "output_type": "execute_result"
    }
   ],
   "source": [
    "df['commissioning_year'].unique()"
   ]
  },
  {
   "cell_type": "code",
   "execution_count": 51,
   "id": "e2786818",
   "metadata": {},
   "outputs": [
    {
     "data": {
      "text/plain": [
       "380"
      ]
     },
     "execution_count": 51,
     "metadata": {},
     "output_type": "execute_result"
    }
   ],
   "source": [
    "df['commissioning_year'].isna().sum()"
   ]
  },
  {
   "cell_type": "code",
   "execution_count": 52,
   "id": "74d85401",
   "metadata": {},
   "outputs": [
    {
     "data": {
      "text/plain": [
       "0    2015.0\n",
       "Name: commissioning_year, dtype: float64"
      ]
     },
     "execution_count": 52,
     "metadata": {},
     "output_type": "execute_result"
    }
   ],
   "source": [
    "df['commissioning_year'].mode()"
   ]
  },
  {
   "cell_type": "code",
   "execution_count": 53,
   "id": "a7a5bc72",
   "metadata": {},
   "outputs": [],
   "source": [
    "df['commissioning_year'] = df['commissioning_year'].fillna(df['commissioning_year'].mode()[0])"
   ]
  },
  {
   "cell_type": "code",
   "execution_count": 54,
   "id": "eb949069",
   "metadata": {},
   "outputs": [
    {
     "data": {
      "text/plain": [
       "0"
      ]
     },
     "execution_count": 54,
     "metadata": {},
     "output_type": "execute_result"
    }
   ],
   "source": [
    "df['commissioning_year'].isna().sum()"
   ]
  },
  {
   "cell_type": "code",
   "execution_count": null,
   "id": "3cf1e76b",
   "metadata": {},
   "outputs": [],
   "source": []
  },
  {
   "cell_type": "code",
   "execution_count": null,
   "id": "8ab74b0c",
   "metadata": {},
   "outputs": [],
   "source": []
  },
  {
   "cell_type": "code",
   "execution_count": null,
   "id": "52e3b8ec",
   "metadata": {},
   "outputs": [],
   "source": []
  },
  {
   "cell_type": "code",
   "execution_count": null,
   "id": "417ed69a",
   "metadata": {},
   "outputs": [],
   "source": []
  },
  {
   "cell_type": "code",
   "execution_count": 55,
   "id": "6b08bfdd",
   "metadata": {},
   "outputs": [
    {
     "data": {
      "text/plain": [
       "array(['Solar Paces', 'Ultratech Cement ltd', 'AES', nan,\n",
       "       'Hindustan Pvt lt', 'Dr Ssk ltd', 'Ashok Ssk ltd',\n",
       "       'Shree Sugars ltd', 'Ener-t International Ltd.',\n",
       "       'Nav Bharat Buildcon Private Limited', 'MEIL Green Power Limited',\n",
       "       'Madras Cement Limited',\n",
       "       'DDE Renewable Energy Private Limited (DREPL)',\n",
       "       'Electromech Maritech Private Limited',\n",
       "       'Finehope Allied Engineering Private Limited',\n",
       "       'Khaya Solar Projects Private Limited',\n",
       "       'Newton Solar Private Limited', 'Saidham Overseas Private Limited',\n",
       "       'Vasavi Solar Power Private Limited', 'Indian Power ltd',\n",
       "       'Ballarpur Industries ltd', 'Jk Cement ltd', 'India Ltd icl)',\n",
       "       'Bharat Petroleum Corporation Limited', 'Bhilwara Energy Limited',\n",
       "       'Ideal Projects ltd', 'Ugar Works ltd', 'Vishwanath Sugars ltd',\n",
       "       'Hothur Pvt ltd', 'Janki Corp ltd', 'Mysore Mills ltd',\n",
       "       'Sunflag Co ltd', 'Varam Pvt ltd', 'Sangam Spinners ltd',\n",
       "       'Bharat Refinery ltd', 'Binani Industries ltd',\n",
       "       'Indo Synthetics ltd', 'Dr Babasaheb Ambedkar SSK Limited',\n",
       "       'AEW Infratech Private Limited', 'Enercon India Ltd.',\n",
       "       'Green Infra Solar Farms Private Limited (GIS)',\n",
       "       'OPG Energy Private Limited', 'Punj Lloyd Solar Private Limited',\n",
       "       'Hiraco Renewable Energy Private Limited (HREPL)',\n",
       "       'Moser Baer Energy & Development Limited (MBEDL)',\n",
       "       'Giriraj Enterprises', 'LEPL Projects Limited',\n",
       "       'Lanco Solar Energy Private Limited',\n",
       "       'Abellon CleanEnergy Limited', 'Adani Power Limited',\n",
       "       'Madhav Solar Private Limited', 'Rays Power Private Limited',\n",
       "       'Acc Acc ltd', 'Birla Corp ltd', 'Hindustan Zinc ltd',\n",
       "       'Gupta Ltd gepl)', 'Manikghar Cement co', 'Core Fuels ltd',\n",
       "       'Maharashtra State Power Generation Co Ltd (MAHAGENCO)',\n",
       "       'Charanka Solar Park', 'India Oil Corporation Limited',\n",
       "       'Alex Green Energy Private Limited', 'Reliance Power ltd',\n",
       "       'Bmm Pvt ltd', 'Daund Sugar ltd', 'Davangere Co ltd',\n",
       "       'Mukand Mukand ltd', 'Shri Ssk ltd', 'Jsw Steel ltd',\n",
       "       'Shamanur Sugars ltd', 'Jai Industries ltd', 'Government of India',\n",
       "       'West Coast Paper Mills Ltd.', 'Sanjeev Prakashan',\n",
       "       'Ujaas Energy Limited', 'Sand Land Real Estates Pvt Ltd',\n",
       "       'Aravali Infrapower Private Limited (AIPL)', 'Reliance Power',\n",
       "       'Lanco Infratech', 'Sovox Renewables Private Limited',\n",
       "       'EMCO Limited', 'Frost International Limited',\n",
       "       'Gujurat Alkalies and Chemicals Limited', 'Chambal & chem', 'GFL',\n",
       "       'Lloyds Industries ltd',\n",
       "       'Bangalore Electricity Supply Company Limited',\n",
       "       'Grace Industries ltd', 'Orient Cement ltd',\n",
       "       'SunBorne Energy Gujarat',\n",
       "       'Pandit Deendayal Petrolium University (PDPU)',\n",
       "       'National Thermal Power Corporation (NTPC) Limited',\n",
       "       'Godwari Green Energy Limited',\n",
       "       'Zamil New Delhi Infrastructure Private Limited',\n",
       "       'Shree Saibaba Green Power Private Limited', 'Solaer',\n",
       "       'Cargo Solar Power', 'Amrit Energy Private Limited',\n",
       "       'Solar Energy Centre', 'Jawahar Ssk ltd', 'Purna Ssk ltd',\n",
       "       'Rk Pvt ltd', 'Hindustan Zinc Ltd.', 'HZL',\n",
       "       'Essel MP Energy Limited', 'IL&FS Wind Power Limited',\n",
       "       'Fortune Five Hydel Projects Limited', 'Harsha Engineers Limited',\n",
       "       'Karnataka Power Corporation Limited', 'Godawari Energy ltd',\n",
       "       'Jaypee Ltd jccl)', 'Sunkon Energy Private Limited',\n",
       "       'West Bengal Energy Development Corporation Limited (WBEDCL)',\n",
       "       'Energy Infratech Private Limited', 'K. N. Ram',\n",
       "       'Chettinad Corp ltd', 'Kjs Ahluwalia group', 'Ym Ssk ltd',\n",
       "       'Maral Overseas ltd', 'Gm Energy ltd', 'Uttam Steels ltd',\n",
       "       'Sri Sugars ltd', 'Hemarus Technologies ltd', 'Shri Vedganga ssk',\n",
       "       'Kumbhi Ssk ltd', 'Bannari Sugars ltd', 'Nsl Sugars ltd',\n",
       "       'Hare Pvt ltd', 'Dcm & chem', 'KS Oils', 'Gem Sugars ltd',\n",
       "       'KVK Energy Ventures Ltd', 'Bindu Vau Urja Private Limited',\n",
       "       'SunBorne Energy Gujarat One Pvt', 'Karur Textile Park limited',\n",
       "       'Azure Power (Rajasthan) Private Limited',\n",
       "       'Citra Real Estate Limited', 'Sepset Construction Limited',\n",
       "       'Gujarat Urja Vikas Nigam Limited',\n",
       "       'Firestone Trading Private Limited',\n",
       "       'Northern Solaire Prakash Private Limited',\n",
       "       'Suryauday Solaire Prakash Private Limited', 'ACME Solar Energy',\n",
       "       'Unity Power Limited', 'Welspun Urja India Limited',\n",
       "       'Conflux Infratech Private Limited', 'REI Agro Limited',\n",
       "       'Kohinoor Planet Construction Pvt. Ltd',\n",
       "       'Tata Power Solar Systems Limited (TPREL)',\n",
       "       'Loyal Textile Mills Limited', 'LNJ Power Ventures Limited',\n",
       "       'Tata Co ltd', 'Lokmangal Lokmangal group',\n",
       "       'Atma Powers Private Limited', 'Essel Clean Energy Limited',\n",
       "       'IK Energy Private Limited', 'Serum Institute of India Limited',\n",
       "       'Lanco Solar Power Limited', 'Liberty Oil Mills Limited',\n",
       "       'Mahatma Power ltd', 'Bharat Corp ltd', 'Maihar Cement ltd',\n",
       "       'Mangalore & petrochem', 'Manglam Cement ltd',\n",
       "       'Manikgarh Manikgarh cement', 'Ambuja Cements ltd',\n",
       "       'Rswm Rswm ltd', 'Jodhpur Vidyut Vitran Nigam Limited', 'MSPL',\n",
       "       'Greta Energy ltd', 'Ongc Gas corp',\n",
       "       'Technocraft Technocraft group',\n",
       "       'Megha Engineering and Infrastructure',\n",
       "       'Alianz Eco Power Private Limited', 'Nexgen Solux Private Limited',\n",
       "       'Solairedirect Projects India Private Limited',\n",
       "       'Grasim Industries ltd', 'Reliance Reliance petrochemicals',\n",
       "       'Gmt Pvt ltd', 'Purti Sugar ltd', 'Topworth Metals ltd',\n",
       "       'Orient Power ltd', 'Rattanindia Power ltd', 'National And paper',\n",
       "       'Nitin Spinners ltd', 'NMDC', 'Nuziveedu Seeds limited',\n",
       "       'EMC Limited', 'Tadas Wind Energy', 'Bhoruka Power',\n",
       "       'Godawari Green Energy Limited (GGEL)',\n",
       "       'Precision Technik Private Limited',\n",
       "       'Alex Spectrum Radiations Private Limited', 'NuPower',\n",
       "       'Gangakhed Energy ltd', 'Reliance Ltd ril)', 'Sinarmas Paper ltd',\n",
       "       'Gujarat Mineral Development Corporation Limited (GMDC)',\n",
       "       'Tratnagiri Wind Power Projects Private Limited',\n",
       "       'Patnaik Minerals Pvt. Ltd', 'Vivek Pharmachem (India) Limited',\n",
       "       'Rajasthan Renewable Energy Corporation Limited (RREC)',\n",
       "       'Reliance Power Limited', 'Powerica Limited',\n",
       "       'Integrated Coal Mining (ICML)',\n",
       "       'Precious Energy Services Pvt Ltd', 'Azure Urja Private Limited',\n",
       "       'Surana Industries ltd', 'Grasim Cement ltd', 'Spr Pvt ltd',\n",
       "       'Natural Alliend indust', 'Shree Cement ltd',\n",
       "       'Rajasthan State Mines and Minerals Limited',\n",
       "       'National Thermal Power Corporation (NTPC)',\n",
       "       'Astonfield Management Limited',\n",
       "       'Welspun Solar Punjab Private Limited',\n",
       "       'Taxus Infrastructure and Power Projects Pvt Ltd',\n",
       "       'Ganges Enterprises Private Limited',\n",
       "       'Ratedi Wind Power Private Limited',\n",
       "       'Indian Oil Corporation (IOC)',\n",
       "       'Northwest Energy Private Limited (NWEPL)',\n",
       "       'SEI Solar Energy Private Limited',\n",
       "       'Welspun Solar AP Private Limited', 'Relaxo Footwears Limited',\n",
       "       \"Roaring 40's Wind Farms Private Limited\",\n",
       "       'Rucha Soya Industries Limited', 'Sahakar Shiromani vasantrao',\n",
       "       'Godavari Mills ltd', 'Kranti Ssk ltd', 'Sinewave Pvt ltd',\n",
       "       'Vasantdada Ssk ltd', 'Shri Hiranyakeshi ssk',\n",
       "       'Sahakarmaharshi Bhausaheb thor', 'Datta Ssk ltd',\n",
       "       'Shri Malaprabha ssk', 'Dcm Industries ltd', 'Mula Ssk ltd',\n",
       "       'SWPPL', 'Aftaab Solar Private Limited (ASPL)',\n",
       "       'Raajratna Energy Holdings Private Limited (REHPL)',\n",
       "       'Sai Sulphonates', 'Omega Solar Projects Private Limited',\n",
       "       'Mono Steel (India) Ltd', 'Jain Solar',\n",
       "       'Backbone Enterprises Limited',\n",
       "       'S J Green Park Energy Private Limited',\n",
       "       'Konark Gujarat Private Limited', 'Shree Naman Developers Ltd.',\n",
       "       'Moser Baer Clean Energy Limited (MBCEL)',\n",
       "       'Green Infra Wind Power Projects Limited',\n",
       "       'Solitaire Energies Pvt Ltd', 'Centaur Mercantile Pvt. Ltd.',\n",
       "       'Sterling Agro Industries ltd.', 'Sumilon Industries Limited',\n",
       "       'Clover Solar Private Limited (CSPL)', 'Dhariwal Pvt ltd',\n",
       "       'Mukesh Gupta group', 'Rashtriya & fert', 'Nocil Nocil rubber',\n",
       "       'TVS Energy limited', 'TVS Energy Limited',\n",
       "       'Tadas Wind Energy Private Limited', 'Tata BP Solar India Limited',\n",
       "       'Tata Power', 'Rayala Wind Power Company Private Limited',\n",
       "       'Moser Baer Solar Limited (MBSL)', 'Torrent Power Limited', 'UPL',\n",
       "       'Vardham Vardham group', 'Kesoram Industries ltd',\n",
       "       'National Ltd nfl)', 'Vikram Vikram cement', 'Vaayu Renew',\n",
       "       'Gujarat Industries Power Company Limited (GIPCL)',\n",
       "       'ACME Cleantech Solutions Private Limited',\n",
       "       'Videocon Industries Limited', 'Weizzmann Forex Limited',\n",
       "       'Riddhi Siddhi Gluco Biols Limited',\n",
       "       'Mytrah Energy (India) Limited', 'Yashwantrao Krishna ssk',\n",
       "       'iEnergy Wind Farms'], dtype=object)"
      ]
     },
     "execution_count": 55,
     "metadata": {},
     "output_type": "execute_result"
    }
   ],
   "source": [
    "df['owner'].unique()"
   ]
  },
  {
   "cell_type": "code",
   "execution_count": 56,
   "id": "4992e2c2",
   "metadata": {},
   "outputs": [
    {
     "data": {
      "text/plain": [
       "565"
      ]
     },
     "execution_count": 56,
     "metadata": {},
     "output_type": "execute_result"
    }
   ],
   "source": [
    "df['owner'].isna().sum()"
   ]
  },
  {
   "cell_type": "code",
   "execution_count": 57,
   "id": "8a240f66",
   "metadata": {},
   "outputs": [
    {
     "data": {
      "text/plain": [
       "0                      Acc Acc ltd\n",
       "1                    Jk Cement ltd\n",
       "2    Sterling Agro Industries ltd.\n",
       "Name: owner, dtype: object"
      ]
     },
     "execution_count": 57,
     "metadata": {},
     "output_type": "execute_result"
    }
   ],
   "source": [
    "df['owner'].mode()"
   ]
  },
  {
   "cell_type": "code",
   "execution_count": 58,
   "id": "0544f8be",
   "metadata": {},
   "outputs": [],
   "source": [
    "df = df.drop(columns=['owner'])"
   ]
  },
  {
   "cell_type": "code",
   "execution_count": 59,
   "id": "1c14f8e1",
   "metadata": {},
   "outputs": [
    {
     "data": {
      "text/plain": [
       "(907, 24)"
      ]
     },
     "execution_count": 59,
     "metadata": {},
     "output_type": "execute_result"
    }
   ],
   "source": [
    "df.shape"
   ]
  },
  {
   "cell_type": "code",
   "execution_count": null,
   "id": "1b9082f4",
   "metadata": {},
   "outputs": [],
   "source": []
  },
  {
   "cell_type": "code",
   "execution_count": 60,
   "id": "c9825ce6",
   "metadata": {
    "scrolled": true
   },
   "outputs": [
    {
     "data": {
      "text/plain": [
       "array(['National Renewable Energy Laboratory', 'Ultratech Cement ltd',\n",
       "       'CDM', 'Central Electricity Authority', 'Hindustan Pvt lt',\n",
       "       'Dr Ssk ltd', 'Ashok Ssk ltd', 'Shree Sugars ltd', 'Navbharat',\n",
       "       'Meil.In/P', 'Lancosola', 'Indian Power ltd',\n",
       "       'Ballarpur Industries ltd', 'Jk Cement ltd', 'India Ltd icl)',\n",
       "       'Ideal Projects ltd', 'Ugar Works ltd', 'Vishwanath Sugars ltd',\n",
       "       'Hothur Pvt ltd', 'Janki Corp ltd', 'Mysore Mills ltd',\n",
       "       'Sunflag Co ltd', 'Varam Pvt ltd', 'Sangam Spinners ltd',\n",
       "       'Bharat Refinery ltd', 'Binani Industries ltd',\n",
       "       'Indo Synthetics ltd', 'Ambed K Sugar', 'AES Winfra', 'Sembcorp',\n",
       "       'Punj Lloyd', 'Hiraco India', 'Moserbaer Solar', 'Lingandwi',\n",
       "       'LEPL', 'CleanEnerg teLeanenergy', 'Adani Power Limite r Er',\n",
       "       'Madhav Group', 'Power Private edM/Pdf', 'Acc Acc ltd',\n",
       "       'Birla Corp ltd', 'Hindustan Zinc ltd', 'Gupta Ltd gepl)',\n",
       "       'Manikghar Cement co', 'Core Fuels ltd',\n",
       "       'Maharashtra State Power Generation Co Ltd (MAHAGENCO)',\n",
       "       'Solar for India', 'P3 Green', 'Reliance Power Ltd', 'Bmm Pvt ltd',\n",
       "       'Daund Sugar ltd', 'Davangere Co ltd', 'Mukand Mukand ltd',\n",
       "       'Shri Ssk ltd', 'Jsw Steel ltd', 'Shamanur Sugars ltd',\n",
       "       'Jai Industries ltd', 'National Thermal Power Corporation (NTPC)',\n",
       "       'West Coast Paper Mills Ltd.', 'Ujaas Energy Limited',\n",
       "       'Est vt Arind', 'Aravali Infrapower Private Limited (AIPL)',\n",
       "       'Sovox Renewables Private Limited', 'Chambal & chem',\n",
       "       'Lloyds Industries ltd', 'Grace Industries ltd',\n",
       "       'Orient Cement ltd', 'SunBorne Energy Gujarat One Private Limited',\n",
       "       'Pandit Deendayal Petrolium University (PDPU)',\n",
       "       'Ministry of New and Renewable Energy',\n",
       "       'Rajasthan Renewable Energy Corporation Limited (RREC)', 'Solaer',\n",
       "       'Amrit Energy Private Limited', 'Jawahar Ssk ltd', 'Purna Ssk ltd',\n",
       "       'Rk Pvt ltd', 'Essel MP Energy Limited',\n",
       "       'Harsha Engineers Limited', 'Karnataka Power Corporation Limited',\n",
       "       'Godawari Energy ltd', 'Jaypee Ltd jccl)',\n",
       "       'Sunkon Energy Private Limited',\n",
       "       'West Bengal Energy Development Corporation Limited (WBEDCL)',\n",
       "       'Chettinad Corp ltd', 'Kjs Ahluwalia group', 'Ym Ssk ltd',\n",
       "       'Maral Overseas ltd', 'Gm Energy ltd', 'Uttam Steels ltd',\n",
       "       'Sri Sugars ltd', 'Hemarus Technologies ltd', 'Shri Vedganga ssk',\n",
       "       'Kumbhi Ssk ltd', 'Bannari Sugars ltd', 'Nsl Sugars ltd',\n",
       "       'Hare Pvt ltd', 'Dcm & chem', 'Gem Sugars ltd',\n",
       "       'Azure Power (Rajasthan) Private Limited', 'Real Estate e',\n",
       "       'Sepset Constructio te', 'Gujarat Urja Vikas Nigam Limited',\n",
       "       'Firestone Trading Private Limited', 'Solairedirect',\n",
       "       'ACME Solar Energy', 'Unity Power Limite r World',\n",
       "       'Urja India edEnewables', 'Infratech e M/Pdf', 'S Limited Rsolar',\n",
       "       'IAEA', 'Tata Co ltd', 'Lokmangal Lokmangal group',\n",
       "       'Powers Private', 'Clean Energy edOjects.Com', 'PEDA',\n",
       "       'Mahatma Power ltd', 'Bharat Corp ltd', 'Maihar Cement ltd',\n",
       "       'Mangalore & petrochem', 'Manglam Cement ltd',\n",
       "       'Manikgarh Manikgarh cement', 'Ambuja Cements ltd',\n",
       "       'Rswm Rswm ltd', 'Greta Energy ltd', 'Ongc Gas corp',\n",
       "       'Technocraft Technocraft group', 'Tata Power Solar',\n",
       "       'Grasim Industries ltd', 'Reliance Petrochemicals', 'Gmt Pvt ltd',\n",
       "       'Purti Sugar ltd', 'Topworth Metals ltd', 'Orient Power ltd',\n",
       "       'Rattanindia Power ltd', 'National And paper',\n",
       "       'Nitin Spinners ltd', 'EMC Limited', 'Hira Group',\n",
       "       'Precision Technik Private Limited', 'Gangakhed Energy ltd',\n",
       "       'Sinarmas Paper ltd',\n",
       "       'Gujarat Mineral Development Corporation Limited (GMDC)',\n",
       "       'Coal Mi ICM', 'Se Pvt Rsolar', 'Urja Private edEr',\n",
       "       'Surana Industries ltd', 'Grasim Cement ltd', 'Spr Pvt ltd',\n",
       "       'Natural Alliend indust', 'Shree Cement ltd',\n",
       "       'Astonfield Management Limited',\n",
       "       'Welspun Solar Punjab Private Limited',\n",
       "       'Taxus Infrastructure and Power Projects Pvt Ltd',\n",
       "       'Indian Oil Corporation (IOC)', 'Sterling and Wilson',\n",
       "       'SEI Solar Energy Private Limited',\n",
       "       'Welspun Solar AP Private Limited', 'Sahakar Shiromani vasantrao',\n",
       "       'Godavari Mills ltd', 'Kranti Ssk ltd', 'Sinewave Pvt ltd',\n",
       "       'Vasantdada Ssk ltd', 'Shri Hiranyakeshi ssk',\n",
       "       'Sahakarmaharshi Bhausaheb thor', 'Datta Ssk ltd',\n",
       "       'Shri Malaprabha ssk', 'Dcm Industries ltd', 'Mula Ssk ltd',\n",
       "       'Aftaab Solar Private Limited (ASPL)',\n",
       "       'Raajratna Energy Holdings Private Limited (REHPL)',\n",
       "       'Mono Steel (India) Ltd', 'Jain Solar',\n",
       "       'Backbone Enterprises Limited',\n",
       "       'S J Green Park Energy Private Limited',\n",
       "       'Konark Gujarat Private Limited',\n",
       "       'Moser Baer Clean Energy Limited (MBCEL)',\n",
       "       'Clover Solar Private Limited (CSPL)', 'Dhariwal Pvt ltd',\n",
       "       'Mukesh Gupta group', 'Rashtriya & fert', 'Nocil Nocil rubber',\n",
       "       'Tata BP Solar India Limited', 'Moser Baer Solar Limited (MBSL)',\n",
       "       'Vardham Vardham group', 'Kesoram Industries ltd',\n",
       "       'National Ltd nfl)', 'Vikram Vikram cement',\n",
       "       'Gujarat Industries Power Company Limited (GIPCL)',\n",
       "       'ACME Cleantech Solutions Private Limited',\n",
       "       'Videocon Industries Limited', 'Yashwantrao Krishna ssk'],\n",
       "      dtype=object)"
      ]
     },
     "execution_count": 60,
     "metadata": {},
     "output_type": "execute_result"
    }
   ],
   "source": [
    "df['source'].unique()"
   ]
  },
  {
   "cell_type": "code",
   "execution_count": 61,
   "id": "144c39a0",
   "metadata": {},
   "outputs": [
    {
     "data": {
      "text/plain": [
       "0"
      ]
     },
     "execution_count": 61,
     "metadata": {},
     "output_type": "execute_result"
    }
   ],
   "source": [
    "df['source'].isna().sum()"
   ]
  },
  {
   "cell_type": "code",
   "execution_count": 62,
   "id": "465e60c5",
   "metadata": {},
   "outputs": [],
   "source": [
    "df['source'] = lab_enc.fit_transform(df['source'])"
   ]
  },
  {
   "cell_type": "code",
   "execution_count": null,
   "id": "2358b7b8",
   "metadata": {},
   "outputs": [],
   "source": []
  },
  {
   "cell_type": "code",
   "execution_count": null,
   "id": "fb36657f",
   "metadata": {},
   "outputs": [],
   "source": []
  },
  {
   "cell_type": "code",
   "execution_count": null,
   "id": "ba033f02",
   "metadata": {},
   "outputs": [],
   "source": []
  },
  {
   "cell_type": "code",
   "execution_count": 63,
   "id": "73030023",
   "metadata": {},
   "outputs": [
    {
     "data": {
      "text/plain": [
       "array(['http://www.nrel.gov/csp/solarpaces/project_detail.cfm/projectID=262',\n",
       "       'http://www.ultratechcement.com/',\n",
       "       'https://cdm.unfccc.int/Projects/DB/DNV-CUK1328700673.83/view',\n",
       "       'http://www.cea.nic.in/', 'http://www.hindustanpowerprojects.com/',\n",
       "       'http://www.ambedkarsugar.com/',\n",
       "       'http://www.mapsofindia.com/whitepages/foods-and-beverages/food-processors-and-manufacturers/ashokssklimited',\n",
       "       'http://www.renukasugars.com/',\n",
       "       'http://www.nrel.gov/csp/solarpaces/project_detail.cfm/projectID=254',\n",
       "       'http://www.navbharatbuildcon.com/windmill--solar-plant.html',\n",
       "       'https://cdm.unfccc.int/Projects/DB/DNV-CUK1216117082.43/view',\n",
       "       'http://www.meil.in/power-projects',\n",
       "       'https://cdm.unfccc.int/Projects/DB/LRQA%20Ltd1348755977.79/view',\n",
       "       'https://cdm.unfccc.int/Projects/DB/BVQI1379744232.36/viewhttps://cdm.unfccc.int/Projects/DB/LRQA%20Ltd1278588174.29/view',\n",
       "       'http://www.lancosolar.com/pdfs/rajasthan-pv-project-details.pdf',\n",
       "       'http://www.icpluttur.com/', 'http://bilt.com/',\n",
       "       'http://www.jkcement.com/', 'http://www.indiacements.co.in/',\n",
       "       'https://cdm.unfccc.int/Projects/DB/DNV-CUK1218300485.48/view',\n",
       "       'https://cdm.unfccc.int/Projects/DB/RINA1416216844.8/view',\n",
       "       'http://www.idealenergysolar.com/', 'http://www.ugarsugar.com/',\n",
       "       'http://www.vssil.co.in/', 'http://hothurindia.com/',\n",
       "       'http://jankicorp.com/', 'http://www.mpm.co.in/',\n",
       "       'http://www.sunflagsteel.com/',\n",
       "       'http://www.bloomberg.com/profiles/companies/4115076Z:IN-varam-bio-energy-pvt-ltd',\n",
       "       'http://www.sangamgroup.com/', 'http://borl.in/',\n",
       "       'http://binaniindustries.com/',\n",
       "       'https://cdm.unfccc.int/filestorage/T/0/C/T0CJ85FSL1WN9VEXID67ZOBMQRGAPH/Revised%20PDD%20-%20Clean.pdf?t=UE58b2pkZGN1fDC4di78ksdJWNuCM4aKL4xu',\n",
       "       'http://www.indoramaindia.com/',\n",
       "       'http://www.ambedkarsugar.com/solar_power.php',\n",
       "       'http://www.aewinfra.com/solar.html',\n",
       "       'https://cdm.unfccc.int/filestorage/S/7/J/S7JBL0QFRHWA1DEZ2O4NUTG5Y6VKMP/PDD%20BASML%20Version%2003.pdf?t=Mmh8b2pxZWR0fDDj8zCpobgUeh2ry3t0r5N5',\n",
       "       'http://www.sembcorp.com/en/media/features?Id=9179',\n",
       "       'https://cdm.unfccc.int/filestorage/Jyh1M',\n",
       "       'http://www.punjlloyd.com/energy/renewables',\n",
       "       'http://www.hiracoindia.com', 'http://www.moserbaersolar.com',\n",
       "       'http://sterlingandwilson.com/giriraj-enterprises-solar-rajasthan',\n",
       "       'http://www.lepl.in',\n",
       "       'https://cdm.unfccc.int/filestorage/7/l/SG76AFZB9EYTJ4321MOWIKQ8PCDNXR.pdf/9684%20PDD.pdf?t=emF8b2pibm5jfDCvkTnPwzrrv5OWSd79JKVI',\n",
       "       'https://cdm.unfccc.int/filestorage/t/h/3ZTDL1JSY8F96X7WM05GQEOBHVCRKU.pdf/PDD_0.85%20MW%20x%202%20Wind?t=OUd8b2pibmtifDA3QWPDKTd9w1VzFuhHzr3p',\n",
       "       'https://cdm.unfccc.int/Projects/DB/DNV-CUK1204705646.68/view',\n",
       "       'https://cdm.unfccc.int/filestorage/K/H/4/KH4609PBJU1SRCMD8W7FNQ2LTZGIO5/ENRE%20PDD%20version%205_0_21_12_2010%20Clean%20Mode.pdf?t=dWt8b2picnVxfDDdBloH5bI-0qA-0I--EtaE',\n",
       "       'https://cdm.unfccc.int/filestorage/z/g/GHX720LOZTBENA6IVS1PJCWF8YMKUD.pdf/2347%20Revised%20PDD.pdf?t=YUh8b2picHN3fDCY1tP_B8ik_E25vGal7UR-',\n",
       "       'http://www.lancosolar.com',\n",
       "       'https://cdm.unfccc.int/filestorage/h/l/W9FUXHOTR0Y5V2KQBIS4MPN17JEZLC.pdf/PDD%20-%2098.7%20MW%20wind%20power%20project%20at%20Ratlam%20in%20Madhya%20Pradesh%20by%20DJ%20Energy%20Private%20Limited.pdf?t=R2x8b2picWpsfDACMivhrOTU62i3hfmcbopg',\n",
       "       'http://www.abelloncleanenergy.com', 'http://www.adanipower.com',\n",
       "       'http://www.madhavcorp.com',\n",
       "       'http://www.rrecl.com/PDF/Details%20of%20Rajasthan.pdf',\n",
       "       'http://www.acclimited.com/', 'http://www.birlacorporation.com/',\n",
       "       'http://www.hzlindia.com/', 'http://guptacoal.com/',\n",
       "       'http://www.manikgarhcement.com/', 'http://www.coregreen.in/',\n",
       "       'http://mahagenco.in',\n",
       "       'https://natgrp.org/charanka-gujarat-solar-park/',\n",
       "       'https://cdm.unfccc.int/Projects/DB/DNV-CUK1304071464.49/view',\n",
       "       'http://www.p3green.com', 'http://www.reliancepower.co.in/',\n",
       "       'http://jobs.cari.co.in/jobs/bmm-ispat-ltd',\n",
       "       'http://www.daundsugar.com/',\n",
       "       'http://biomass-power.industry-focus.net/karnataka-biomass-projects/148-davangere-sugar-co-to-set-up-30-mw-biomass-power-project-davangere-sugar-co-to-set-up-30-mw-biomass-power-project.html',\n",
       "       'http://www.mukand.com/', 'http://dssk.co.in/',\n",
       "       'http://www.jsw.in/',\n",
       "       'http://www.tradeindia.com/Seller-5380843-SHAMANUR-SUGARS-LIMITED/',\n",
       "       'https://www.jaibalajigroup.com/power.html',\n",
       "       'http://www.ntpc.co.in',\n",
       "       'http://www.westcoastpaper.com/infrastructure/',\n",
       "       'https://cdm.unfccc.int/Projects/DB/DNV-CUK1142448670.58/view',\n",
       "       'https://natgrp.files.wordpress.com/solar-power-rajasthan-upto-march-2013.pdf',\n",
       "       'https://cdm.unfccc.int/filestorage/Y/I/R/YIR8M4NQJKLW63H1OZCGBTSA729PU5/37.5_MW_PDD_-_37.5_MW_Wind_power_project_at_Pratapgarh%2C_Rajasthan?t=WTF8b2pkZHAyfDApG31asZJ6b9TuTgaPGJDE',\n",
       "       'http://ujaas.com', 'http://www.firstsolarind.com',\n",
       "       'http://www.aipl.in',\n",
       "       'http://www.nrel.gov/csp/solarpaces/project_detail.cfm/projectID=272',\n",
       "       'http://www.nrel.gov/csp/solarpaces/project_detail.cfm/projectID=258',\n",
       "       'http://www.rrecl.com/PDF/Details%20of20Rajasthan.pdf',\n",
       "       'https://cdm.unfccc.int/Projects/DB/PJR%20CDM1328594375.93/view',\n",
       "       'https://cdm.unfccc.int/Projects/DB/URSCert1371557111.17/view',\n",
       "       'https://cdm.unfccc.int/Projects/DB/DNV-CUK1185356859.49/view',\n",
       "       'https://cdm.unfccc.int/Projects/DB/DNV-CUK1279516994.31/view',\n",
       "       'https://cdm.unfccc.int/filestorage/O/6/L/O6LOWTE60VD7BDDY8ZB8AQBVNQQZCJ/1115%20PDD%20revised.pdf?t=dWd8b2picW9kfDBLXNNinuA2EARAJAJta6Yw',\n",
       "       'https://cdm.unfccc.int/Projects/DB/BVQI1354554757.67/view',\n",
       "       'https://cdm.unfccc.int/Projects/DB/RWTUV1346053136.1/view',\n",
       "       'http://chambalfertilisers.com/',\n",
       "       'https://cdm.unfccc.int/Projects/DB/RWTUV1202913883.06/view',\n",
       "       'http://www.lloyds.in/',\n",
       "       'https://cdm.unfccc.int/Projects/DB/RWTUV1323884772.8/view',\n",
       "       'http://www.graceindustries.com/', 'http://www.orientcement.com/',\n",
       "       'https://cdm.unfccc.int/Projects/DB/BVQI1239021527.94/view',\n",
       "       'http://sunborneenergy.com', 'http://www.pdpu.ac.in',\n",
       "       'http://www.nrel.gov/csp/solarpaces/project_detail.cfm/projectID=247',\n",
       "       'http://mnre.gov.in/file-manager/UserFiles/State%20wise%20commissioning%20status%20of%20grid%20connected%20solar%20power%20projects/Rajasthan.pdf',\n",
       "       'http://energy.rajasthan.gov.in/content/dam/raj/energy/common/Details%20of%20commissioned%20Solar%20Projects%20.pdf',\n",
       "       'https://cdm.unfccc.int/filestorage/d/d/56KO8FQND07Y3H12PBALXWG9MRC4JV.pdf/PDD_-_GMDC_V05.pdf?t=bGh8b2pkZDEwfDAxL3Mrj_s1ZpnXL5ljSdCb',\n",
       "       'https://www.google.com/maps/d/embed?mid=1bXiXRcLRnBCUfpkHM2J5EVryhG4&ll=31.06035315253383%2C35.02284616406246&z=8',\n",
       "       'http://www.nrel.gov/csp/solarpaces/project_detail.cfm/projectID=263',\n",
       "       'http://www.rrecl.com/PDF/Details%0Rajasthan.pdf',\n",
       "       'http://www.mnre.gov.in',\n",
       "       'http://www.shamrajenercon.com/cer16.htm',\n",
       "       'http://www.purnasakhar.com/', 'http://rkmpowergen.in/',\n",
       "       'https://cdm.unfccc.int/Projects/DB/BVQI1208874936.63/view',\n",
       "       'https://cdm.unfccc.int/Projects/DB/DNV-CUK1351776938.73/view',\n",
       "       'https://cdm.unfccc.int/Projects/DB/DNV-CUK1352807242.64/view',\n",
       "       'https://cdm.unfccc.int/filestorage/x/_/BYO3D0NJE4W2ZULSAXTQC61IM5HV9R.pdf/7873-PDD-25%20Oct%2012.pdf?t=ZGh8b2pkZ3A5fDB5_GTLkYcWdSL2xW6rf1F3',\n",
       "       'https://cdm.unfccc.int/Projects/DB/BVQI1211956663.14/view',\n",
       "       'https://cdm.unfccc.int/filestorage/s/x/8LZ62R4VIOK570F3AWSBNTUECYJ9XD.pdf/3_Revsied_PDD_JAL_2013_01_08_Clean_mode.pdf?t=VkZ8b2pkY2xwfDD7-5fVv-HnyeV-IOsi3cee',\n",
       "       'http://www.esselgroup.com',\n",
       "       'https://cdm.unfccc.int/Projects/DB/LRQA%20Ltd1346322352.66/view',\n",
       "       'https://cdm.unfccc.int/Projects/DB/DNV-CUK1351166669.28/view',\n",
       "       'http://harshaengineers.com', 'http://karnatakapower.com',\n",
       "       'http://hiragroup.com/companies/godawari-green-energy-limited/',\n",
       "       'http://www.jklakshmicement.com/',\n",
       "       'http://www.jalindia.com/subsidiaries.html',\n",
       "       'http://www.jinkosolar.com/press_detail_568.html?lan=en',\n",
       "       'http://wbpdcl.co.in',\n",
       "       'https://cdm.unfccc.int/Projects/DB/RWTUV1342443620.03/view',\n",
       "       'https://cdm.unfccc.int/Projects/DB/RWTUV1279520653.8/view',\n",
       "       'https://cdm.unfccc.int/Projects/DB/BVQI1312546277.77/view',\n",
       "       'https://cdm.unfccc.int/Projects/DB/BVQI1351922842.98/view',\n",
       "       'http://www.chettinad.com/', 'http://www.kjsahluwaliagroup.com/',\n",
       "       'http://www.kcpsugar.com/index.html', 'http://maraloverseas.com/',\n",
       "       'http://www.gmsugars.com/', 'http://www.uttamgalva.com/',\n",
       "       'http://www.chamundeswarisugars.in/',\n",
       "       'http://www.hemarus.co.in/facilities.html',\n",
       "       'http://www.tradeindia.com/Seller-6835496-Shri-Dudhganga-Vedganga-SSK-Ltd-/',\n",
       "       'http://www.kumbhisugar.com/', 'http://www.bannari.com/sugar.html',\n",
       "       'http://www.nslsugars.com/',\n",
       "       'http://www.tradeindia.com/Seller-2020295-HARE-KRISHNA-METALLICS-PVT-LTD-/',\n",
       "       'http://www.dcmshriram.com/',\n",
       "       'https://cdm.unfccc.int/Projects/DB/SGS-UKL1300103078.33/view',\n",
       "       'http://www.gemgroup.in/gem-sugar.html',\n",
       "       'http://www.nrel.gov/csp/solarpaces/project_detail.cfm/projectID=260',\n",
       "       'https://cdm.unfccc.int/Projects/DB/RWTUV1356681143.52/view',\n",
       "       'https://cdm.unfccc.int/Projects/DB/RWTUV1297334588.3/view',\n",
       "       'http://www.azurepower.com',\n",
       "       'http://www.mahaurja.com/PDF/PG2_GridConnSPPCommissioned.pdf',\n",
       "       'http://www.solairedirect.com', 'http://www.acme.in',\n",
       "       'http://www.backboneworld.com', 'http://www.welspunrenewables.com',\n",
       "       'http://www.rrecl.com/PDF/Details%20of%Rajasthan.pdf',\n",
       "       'https://cdm.unfccc.int/filestorage/L/V/Q/LVQ9ANSCJX8164E5H7PWYIB3O0RZ2U/Revised%20PDD%20Version%2006%20dated%205th%20June%202012%20-%20Clean%20mode.pdf?t=akx8b2pxZm9ufDC6M3RsDeQKejKPRFouqWsR',\n",
       "       'https://cdm.unfccc.int/Projects/DB/BVQI1302691944.71/view',\n",
       "       'http://www.tatapowersolar.com',\n",
       "       'https://cdm.unfccc.int/filestorage/w/m/64TXH0Y1V9ZCISBKO3F758PEQNUJDR.pdf/PDD__V-2_5_19_10_2012.pdf?t=akh8b2pkZTFtfDAP0pu4sjZSao0P-GV-Qzqn',\n",
       "       'https://cdm.unfccc.int/filestorage/a/1/0JPNG5S4A821KD6IUHWBOEYRVFTL3X.pdf/ALWE%20PDD_Ver%206%20_06.03.2013_%20Clean%20.pdf?t=dlV8b2picjMyfDAQ_TbHluMZz9jMHYOK8XbU',\n",
       "       'https://cdm.unfccc.int/Projects/DB/BVQI1315830379.2/view',\n",
       "       'https://www.iaea.org/PRIS/CountryStatistics/ReactorDetails.aspx?current=853',\n",
       "       'https://cdm.unfccc.int/Projects/DB/SGS-UKL1200600517.28/view',\n",
       "       'https://cdm.unfccc.int/Projects/DB/KBS_Cert1356901378.31/view',\n",
       "       'http://www.tatapower.com/', 'http://lokmangal.com/site/agro.html',\n",
       "       'https://cdm.unfccc.int/Projects/DB/RINA1359562234.41/view',\n",
       "       'http://www.peda.gov.in/main/SPVPowerProjects.html',\n",
       "       'http://esselinfraprojects.com',\n",
       "       'https://cdm.unfccc.int/Projects/DB/LRQA%20Ltd1354282051.48/view',\n",
       "       'https://cdm.unfccc.int/Projects/DB/LRQA%20Ltd1335362700.21/view',\n",
       "       'http://www.lancogroup.com',\n",
       "       'https://cdm.unfccc.int/Projects/DB/Applus1436171071.3/view',\n",
       "       'https://www.zaubacorp.com/company/MAHATMA-SUGAR-POWER-LIMITED/U15421MH1997PLC111855',\n",
       "       'https://bharatpetroleum.com/', 'http://www.maiharcement.co.in/',\n",
       "       'https://mrpl.co.in/', 'http://www.mangalamcement.com/',\n",
       "       'http://www.ambujacement.com/', 'http://rswm.in/',\n",
       "       'https://cdm.unfccc.int/Projects/DB/LRQA%20Ltd1278588174.29/view',\n",
       "       'https://cdm.unfccc.int/filestorage/I/M/8/IM82KOV79XD6W1FSRY0APUBQT5HNG3/PDD%20Version%203.1?t=eXJ8b2pkY3A3fDDe6Zq2yZtRMfXDrbXuYkLx',\n",
       "       'http://www.jkcement.com/power-plants',\n",
       "       'http://www.gretagroup.com/', 'http://www.ongcindia.com/',\n",
       "       'http://www.technocraftgroup.com/',\n",
       "       'https://cdm.unfccc.int/filestorage/A/R/Q/ARQ8TKW54JBLF1U3E6OXVHCDSN9M70/PDD-CEM-0792-27-09.pdf?t=V0d8b2pibmNpfDBisKvrZGRCvGuhGr5W8zZF',\n",
       "       'http://www.nrel.gov/csp/solarpaces/project_detail.cfm/projectID=264',\n",
       "       'https://cdm.unfccc.int/filestorage/o/t/LOE8KY3952J1UZAFN6CHMPQBVD7RS0.pdf/PDD_RSMML.pdf?t=QUZ8b2pkZzRzfDAgGCgKw2iEeb78bqr1DaV0',\n",
       "       'https://cdm.unfccc.int/filestorage/_/r/F932EYQBPVM7IXZ4KWRUG5HT6S0ACL.pdf/7895-PDD-26%20Oct%2012.pdf?t=aEJ8b2picjhvfDAyiJ_x---be015MnlJwvjn',\n",
       "       'https://www.solairedirect.com', 'http://www.grasim.com/',\n",
       "       'http://www.ril.com/OurBusinesses/Petrochemicals.aspx',\n",
       "       'http://purtigroup.com/gmt-mining.html', 'http://purtigroup.com/',\n",
       "       'http://www.topworthgroup.com/',\n",
       "       'http://www.orientgreenpower.com/', 'http://www.rattanindia.com/',\n",
       "       'http://www.epw.in/journal/1962/42/chair-uncategorised/national-newsprint-and-paper-mills-ltd-nepanagar-mp.html',\n",
       "       'http://www.moneycontrol.com/india/stockpricequote/cement-major/jkcement/JKC03',\n",
       "       'http://www.nitinspinners.com/',\n",
       "       'https://cdm.unfccc.int/Projects/DB/RWTUV1323884913.69/view',\n",
       "       'https://cdm.unfccc.int/Projects/DB/DNV-CUK1173772302.89/view',\n",
       "       'https://cdm.unfccc.int/Projects/DB/RWTUV1135356510.37/view',\n",
       "       'https://cdm.unfccc.int/filestorage/5/D/0/5D0I7GCWXZ1VFNS6ROQKHTMYL8JA39/Nagercoil%20PDD%20Corrected_c.pdf?t=bkl8b2pkZGlofDAiW_GZYG7HXm3tF_Ie-IsH',\n",
       "       'http://www.emcpower.com',\n",
       "       'https://cdm.unfccc.int/Projects/DB/LRQA%20Ltd1355495522.4/view',\n",
       "       'https://cdm.unfccc.int/Projects/DB/PJR%20CDM1353582075.03/view',\n",
       "       'http://hiragroup.com',\n",
       "       'https://cdm.unfccc.int/filestorage/3/x/NUSA0ZGPJRT6YXIMEVOB74WDHQ5KF8.pdf/Final%20PDD.pdf?t=QzV8b2picHExfDDzqlVY2T6pSjzHeaKJVjyC',\n",
       "       'https://cdm.unfccc.int/filestorage/L/M/Z/LMZG56NYST19Q7IHD4EPXJRF2VB03W/PDD.pdf?t=R1p8b2picTYxfDApzXyA-gGP8NbbOgKvi68C',\n",
       "       'https://cdm.unfccc.int/filestorage/F/X/W/FXWNHT2DU5RV3BGL7YA8ZKPI46OS9E/2856_PDD_clean.pdf?t=RGp8b2picmp5fDB2P7QGVKqmOvLt7pNBaIqW',\n",
       "       'http://www.gangakhedicpp.com/', 'http://www.ril.com/',\n",
       "       'http://www.sinarmas.com/en/business-units/',\n",
       "       'http://www.gmdcltd.com',\n",
       "       'https://cdm.unfccc.int/Projects/DB/SIRIM1355276782.28/view',\n",
       "       'https://cdm.unfccc.int/Projects/DB/RWTUV1306214743.43/view',\n",
       "       'https://cdm.unfccc.int/Projects/DB/RWTUV1288029478.94/view',\n",
       "       'http://www.reliancepower.co.in',\n",
       "       'https://cdm.unfccc.int/Projects/DB/RWTUV1411994965.49/view',\n",
       "       'https://cdm.unfccc.int/Projects/DB/LRQA%20Ltd1270819651.34/view',\n",
       "       'https://cdm.unfccc.int/Projects/DB/LRQA%20Ltd1300097036.88/view',\n",
       "       'https://cdm.unfccc.int/Projects/DB/LRQA%20Ltd1264590823.08/view',\n",
       "       'http://icmlindia.com', 'http://www.suranaind.com/',\n",
       "       'http://www.mapsofindia.com/whitepages/foods-and-beverages/food-processors-and-manufacturers/sprsugars',\n",
       "       'http://naturalsugar.in/', 'http://www.shreecement.in/',\n",
       "       'https://cdm.unfccc.int/Projects/DB/BVQI1201770524.09/view',\n",
       "       'http://astonfield.com', 'http://taxusgroup.com',\n",
       "       'https://cdm.unfccc.int/Projects/DB/RINA1354700454.05/view',\n",
       "       'https://www.iocl.com',\n",
       "       'http://sterlingandwilson.com/northwest-energy-pvt-ltd',\n",
       "       'http://ifcext.ifc.org/ifcext/91',\n",
       "       'https://cdm.unfccc.int/Projects/DB/SGS-UKL1316100537.64/view',\n",
       "       'https://cdm.unfccc.int/Projects/DB/DNV-CUK1263981578.63/view',\n",
       "       'https://cdm.unfccc.int/filestorage/z/4/H6BE40Q3YPZ7ULD8OWFR1AIT5V2SXM.pdf/8592%20PDD.pdf?t=Sjd8b2pkZHV0fDDHMHx5kl40-cCl4qrFlA08',\n",
       "       'https://cdm.unfccc.int/Projects/DB/RWTUV1285157251.43/view',\n",
       "       'http://www.sitsonindia.com/pdf/EPC%20power%20projects.pdf',\n",
       "       'http://www.somaiya.com/',\n",
       "       'http://food.industry-focus.net/sugar/379-kranti-ssk-to-expand-its-sugar-mill-in-kundal-village-kranti-ssk-to-expand-its-sugar-mill-in-kundal-village.html',\n",
       "       'https://cdm.unfccc.int/Projects/redirector?ref=4063',\n",
       "       'http://viainfotech.biz/Biomass/theme5/document/green_market/REC-project-list.pdf',\n",
       "       'http://www.belgaum.nic.in/english/Heerasugarfactory.html',\n",
       "       'http://www.thoratsugar.com/', 'http://dattasugar.co.in/',\n",
       "       'http://www.mapsofindia.com/whitepages/foods-and-beverages/wine-and-beer/shrimassk',\n",
       "       'http://www.dcmsr.com/',\n",
       "       'https://cdm.unfccc.int/Projects/DB/LRQA%20Ltd1340102581.62/view',\n",
       "       'https://cdm.unfccc.int/Projects/DB/BVQI1351312018.91/view',\n",
       "       'http://www.cdmindia.gov.in/project_details_view.php?id=1511',\n",
       "       'http://rehpl.co.in',\n",
       "       'https://cdm.unfccc.int/Projects/DB/DNV-CUK1318484242.75/view',\n",
       "       'https://cdm.unfccc.int/filestorage/0/5/A/05AYCZFT4LWMHD216PU9SV7XO8BENR/PDD%20Version%201.2?t=U2Z8b2picWJsfDAiEl4MxIcSh1urnyFbvIy_',\n",
       "       'http://www.monosteel.in',\n",
       "       'http://www.jains.com/Solar/Renewable%20energy.htm',\n",
       "       'http://www.madhavgrp.co.in/SJ_solar.html',\n",
       "       'http://www.konarkgroup.co.in',\n",
       "       'https://cdm.unfccc.int/filestorage/D/O/R/DORZF791H8K4NWACPQ5IMTUYLG2VXE/CDM_PDD_v6.pdf?t=WGN8b2sxbDRnfDDF8h6MT3w9DKjkxFa903Mt',\n",
       "       'http://www.moserbaerprojects.com',\n",
       "       'https://cdm.unfccc.int/Projects/DB/RWTUV1352192814.76/view',\n",
       "       'https://cdm.unfccc.int/Projects/DB/LRQA%20Ltd1321971513.67/view',\n",
       "       'https://cdm.unfccc.int/Projects/DB/SGS-UKL1333450990.34/view',\n",
       "       'https://cdm.unfccc.int/Projects/DB/KBS_Cert1356901324.44/view',\n",
       "       'http://www.cloversolar.com',\n",
       "       'https://cdm.unfccc.int/filestorage/M/7/A/M7ACU21YQXKW5HF8R03TPIJZENO4B9/PDD_30MW_Gujarat_MSPL%20Limited_rev.pdf?t=NlZ8b2pkZ2FofDBI3_hXb8zCdgFEZVKDwM4F',\n",
       "       'http://cescnewinitiatives.com/contents/view/DHARIWALINFRASTRUCTURELIMITED/T',\n",
       "       'http://sanvijay.com/gil.html', 'http://www.rcfltd.com/',\n",
       "       'http://www.nocil.com/',\n",
       "       'http://documents.worldbank.org/curated/en/442061468041961880/pdf/multi-page.pdf',\n",
       "       'https://cdm.unfccc.int/Projects/DB/BVQI1331114727.08/view',\n",
       "       'https://cdm.unfccc.int/Projects/DB/BVQI1336676184.92/view',\n",
       "       'https://cdm.unfccc.int/Projects/DB/DNV-CUK1354626555.71/view',\n",
       "       'https://cdm.unfccc.int/Projects/DB/RINA1356126148.87/view',\n",
       "       'https://cdm.unfccc.int/filestorage/2/F/R/2FRTLO45MK87SJZUYCDN9GWHBAEP3X/7647_PDD_-Ver_12%28PRC%29_Clean.pdf?t=MWx8b2picXlqfDDrpXwmh5zMU8K3xoiuspy8',\n",
       "       'http://www.tatabpsolar.com',\n",
       "       'https://cdm.unfccc.int/Projects/DB/RWTUV1352368180.64/view',\n",
       "       'https://cdm.unfccc.int/filestorage/i/o/Z9N7VXYJ5LIE8WRQM1SB3H4FDA6U2K.pdf/PDD%20with%20revised%20MP%20(ver%2010.0)(Clean%20mode).pdf?t=Qmt8b2picnBrfDBPz_lFTjdrigpAyplKqoQb',\n",
       "       'https://cdm.unfccc.int/Projects/DB/SGS-UKL1374760004.52/view',\n",
       "       'https://cdm.unfccc.int/Projects/DB/DNV-CUK1351859167.83/view',\n",
       "       'https://cdm.unfccc.int/Projects/DB/PJR%20CDM1355461708.47/view',\n",
       "       'https://cdm.unfccc.int/Projects/DB/SGS-UKL1353506542.98/view',\n",
       "       'https://cdm.unfccc.int/Projects/DB/RWTUV1351718801.6/view',\n",
       "       'https://cdm.unfccc.int/Projects/DB/DNV-CUK1174563974.61/view',\n",
       "       'https://www.vardhman.com/', 'https://www.kesocorp.com/',\n",
       "       'http://www.nationalfertilizers.com/',\n",
       "       'http://www.adityabirla.com/about/Grey-cement',\n",
       "       'https://cdm.unfccc.int/Projects/DB/SGS-UKL1225104443.35/view',\n",
       "       'https://cdm.unfccc.int/Projects/DB/DNV-CUK1350385874.53/view',\n",
       "       'https://cdm.unfccc.int/Projects/DB/DNV-CUK1172467864.06/view',\n",
       "       'http://www.gipcl.com',\n",
       "       'http://www.gmrgroup.in/energy-gmr-gujarat-solar-power-ltd.aspx',\n",
       "       'https://cdm.unfccc.int/Projects/DB/LRQA%20Ltd1323254431.52/view',\n",
       "       'https://cdm.unfccc.int/Projects/DB/LRQA%20Ltd1356711565.56/view',\n",
       "       'https://cdm.unfccc.int/Projects/DB/DNV-CUK1354785555.66/view',\n",
       "       'https://cdm.unfccc.int/Projects/DB/TUEV-RHEIN1351077305.18/view',\n",
       "       'https://cdm.unfccc.int/Projects/DB/RWTUV1345031355.85/view'],\n",
       "      dtype=object)"
      ]
     },
     "execution_count": 63,
     "metadata": {},
     "output_type": "execute_result"
    }
   ],
   "source": [
    "df['url'].unique()"
   ]
  },
  {
   "cell_type": "code",
   "execution_count": 64,
   "id": "77189dab",
   "metadata": {},
   "outputs": [
    {
     "data": {
      "text/plain": [
       "0"
      ]
     },
     "execution_count": 64,
     "metadata": {},
     "output_type": "execute_result"
    }
   ],
   "source": [
    "df['url'].isna().sum()"
   ]
  },
  {
   "cell_type": "code",
   "execution_count": 65,
   "id": "ce99be4a",
   "metadata": {},
   "outputs": [],
   "source": [
    "df = df.drop(columns=['url'])"
   ]
  },
  {
   "cell_type": "code",
   "execution_count": 66,
   "id": "77678469",
   "metadata": {},
   "outputs": [
    {
     "data": {
      "text/plain": [
       "(907, 23)"
      ]
     },
     "execution_count": 66,
     "metadata": {},
     "output_type": "execute_result"
    }
   ],
   "source": [
    "df.shape"
   ]
  },
  {
   "cell_type": "code",
   "execution_count": null,
   "id": "cf75758c",
   "metadata": {},
   "outputs": [],
   "source": []
  },
  {
   "cell_type": "code",
   "execution_count": null,
   "id": "77e7eb16",
   "metadata": {},
   "outputs": [],
   "source": []
  },
  {
   "cell_type": "code",
   "execution_count": null,
   "id": "907febaf",
   "metadata": {},
   "outputs": [],
   "source": []
  },
  {
   "cell_type": "code",
   "execution_count": 67,
   "id": "a1e87f30",
   "metadata": {},
   "outputs": [
    {
     "data": {
      "text/plain": [
       "array(['National Renewable Energy Laboratory', 'WRI', nan,\n",
       "       'Industry About'], dtype=object)"
      ]
     },
     "execution_count": 67,
     "metadata": {},
     "output_type": "execute_result"
    }
   ],
   "source": [
    "df['geolocation_source'].unique()"
   ]
  },
  {
   "cell_type": "code",
   "execution_count": 68,
   "id": "cfeeae15",
   "metadata": {},
   "outputs": [
    {
     "data": {
      "text/plain": [
       "19"
      ]
     },
     "execution_count": 68,
     "metadata": {},
     "output_type": "execute_result"
    }
   ],
   "source": [
    "df['geolocation_source'].isna().sum()"
   ]
  },
  {
   "cell_type": "code",
   "execution_count": 69,
   "id": "973c0a3e",
   "metadata": {},
   "outputs": [
    {
     "data": {
      "text/plain": [
       "0    WRI\n",
       "Name: geolocation_source, dtype: object"
      ]
     },
     "execution_count": 69,
     "metadata": {},
     "output_type": "execute_result"
    }
   ],
   "source": [
    "df['geolocation_source'].mode()"
   ]
  },
  {
   "cell_type": "code",
   "execution_count": 70,
   "id": "d17b714d",
   "metadata": {},
   "outputs": [],
   "source": [
    "df['geolocation_source'] = df['geolocation_source'].fillna(df['geolocation_source'].mode()[0])"
   ]
  },
  {
   "cell_type": "code",
   "execution_count": 71,
   "id": "53bb96b2",
   "metadata": {},
   "outputs": [
    {
     "data": {
      "text/plain": [
       "0"
      ]
     },
     "execution_count": 71,
     "metadata": {},
     "output_type": "execute_result"
    }
   ],
   "source": [
    "df['geolocation_source'].isna().sum()"
   ]
  },
  {
   "cell_type": "code",
   "execution_count": 72,
   "id": "d90d16b5",
   "metadata": {},
   "outputs": [],
   "source": [
    "df['geolocation_source'] = lab_enc.fit_transform(df['geolocation_source'])"
   ]
  },
  {
   "cell_type": "code",
   "execution_count": null,
   "id": "d19233a3",
   "metadata": {},
   "outputs": [],
   "source": []
  },
  {
   "cell_type": "code",
   "execution_count": null,
   "id": "c691b9b2",
   "metadata": {},
   "outputs": [],
   "source": []
  },
  {
   "cell_type": "code",
   "execution_count": null,
   "id": "604ce4e7",
   "metadata": {},
   "outputs": [],
   "source": []
  },
  {
   "cell_type": "code",
   "execution_count": 73,
   "id": "e1bc8630",
   "metadata": {},
   "outputs": [
    {
     "data": {
      "text/plain": [
       "array([nan])"
      ]
     },
     "execution_count": 73,
     "metadata": {},
     "output_type": "execute_result"
    }
   ],
   "source": [
    "df['wepp_id'].unique()"
   ]
  },
  {
   "cell_type": "code",
   "execution_count": 74,
   "id": "87440fc7",
   "metadata": {},
   "outputs": [
    {
     "data": {
      "text/plain": [
       "907"
      ]
     },
     "execution_count": 74,
     "metadata": {},
     "output_type": "execute_result"
    }
   ],
   "source": [
    "df['wepp_id'].isna().sum()"
   ]
  },
  {
   "cell_type": "code",
   "execution_count": 75,
   "id": "bbfc3f4d",
   "metadata": {},
   "outputs": [],
   "source": [
    "df = df.drop(columns=['wepp_id'])"
   ]
  },
  {
   "cell_type": "code",
   "execution_count": 76,
   "id": "b6058c12",
   "metadata": {},
   "outputs": [
    {
     "data": {
      "text/plain": [
       "(907, 22)"
      ]
     },
     "execution_count": 76,
     "metadata": {},
     "output_type": "execute_result"
    }
   ],
   "source": [
    "df.shape"
   ]
  },
  {
   "cell_type": "code",
   "execution_count": null,
   "id": "ef1119b1",
   "metadata": {},
   "outputs": [],
   "source": []
  },
  {
   "cell_type": "code",
   "execution_count": null,
   "id": "691d7f4b",
   "metadata": {},
   "outputs": [],
   "source": []
  },
  {
   "cell_type": "code",
   "execution_count": null,
   "id": "e673252e",
   "metadata": {},
   "outputs": [],
   "source": []
  },
  {
   "cell_type": "code",
   "execution_count": 77,
   "id": "bc1396f7",
   "metadata": {},
   "outputs": [
    {
     "data": {
      "text/plain": [
       "array([  nan, 2019.])"
      ]
     },
     "execution_count": 77,
     "metadata": {},
     "output_type": "execute_result"
    }
   ],
   "source": [
    "df['year_of_capacity_data'].unique()"
   ]
  },
  {
   "cell_type": "code",
   "execution_count": 78,
   "id": "5b5ee1d0",
   "metadata": {},
   "outputs": [
    {
     "data": {
      "text/plain": [
       "388"
      ]
     },
     "execution_count": 78,
     "metadata": {},
     "output_type": "execute_result"
    }
   ],
   "source": [
    "df['year_of_capacity_data'].isna().sum()"
   ]
  },
  {
   "cell_type": "code",
   "execution_count": 79,
   "id": "033c2603",
   "metadata": {},
   "outputs": [
    {
     "data": {
      "text/plain": [
       "0    2019.0\n",
       "Name: year_of_capacity_data, dtype: float64"
      ]
     },
     "execution_count": 79,
     "metadata": {},
     "output_type": "execute_result"
    }
   ],
   "source": [
    "df['year_of_capacity_data'].mode()"
   ]
  },
  {
   "cell_type": "code",
   "execution_count": 80,
   "id": "6b2042bb",
   "metadata": {},
   "outputs": [],
   "source": [
    "df['year_of_capacity_data'] = df['year_of_capacity_data'].fillna(df['year_of_capacity_data'].mode()[0])"
   ]
  },
  {
   "cell_type": "code",
   "execution_count": 81,
   "id": "f81d28cc",
   "metadata": {},
   "outputs": [
    {
     "data": {
      "text/plain": [
       "0"
      ]
     },
     "execution_count": 81,
     "metadata": {},
     "output_type": "execute_result"
    }
   ],
   "source": [
    "df['year_of_capacity_data'].isna().sum()"
   ]
  },
  {
   "cell_type": "code",
   "execution_count": null,
   "id": "a0585fbd",
   "metadata": {},
   "outputs": [],
   "source": []
  },
  {
   "cell_type": "code",
   "execution_count": null,
   "id": "ae413f51",
   "metadata": {},
   "outputs": [],
   "source": []
  },
  {
   "cell_type": "code",
   "execution_count": null,
   "id": "3c01f7c9",
   "metadata": {},
   "outputs": [],
   "source": []
  },
  {
   "cell_type": "code",
   "execution_count": null,
   "id": "ecac8744",
   "metadata": {},
   "outputs": [],
   "source": []
  },
  {
   "cell_type": "code",
   "execution_count": 82,
   "id": "c5dba624",
   "metadata": {},
   "outputs": [
    {
     "data": {
      "text/plain": [
       "array([nan])"
      ]
     },
     "execution_count": 82,
     "metadata": {},
     "output_type": "execute_result"
    }
   ],
   "source": [
    "df['generation_gwh_2013'].unique()"
   ]
  },
  {
   "cell_type": "code",
   "execution_count": 83,
   "id": "d01200c5",
   "metadata": {},
   "outputs": [
    {
     "data": {
      "text/plain": [
       "907"
      ]
     },
     "execution_count": 83,
     "metadata": {},
     "output_type": "execute_result"
    }
   ],
   "source": [
    "df['generation_gwh_2013'].isna().sum()"
   ]
  },
  {
   "cell_type": "code",
   "execution_count": 84,
   "id": "b90277b1",
   "metadata": {},
   "outputs": [],
   "source": [
    "df = df.drop(columns=['generation_gwh_2013'])"
   ]
  },
  {
   "cell_type": "code",
   "execution_count": 85,
   "id": "4e06aa1f",
   "metadata": {},
   "outputs": [
    {
     "data": {
      "text/plain": [
       "(907, 21)"
      ]
     },
     "execution_count": 85,
     "metadata": {},
     "output_type": "execute_result"
    }
   ],
   "source": [
    "df.shape"
   ]
  },
  {
   "cell_type": "code",
   "execution_count": null,
   "id": "18379a22",
   "metadata": {},
   "outputs": [],
   "source": []
  },
  {
   "cell_type": "code",
   "execution_count": null,
   "id": "67e105c4",
   "metadata": {},
   "outputs": [],
   "source": []
  },
  {
   "cell_type": "code",
   "execution_count": 86,
   "id": "8ca4941a",
   "metadata": {
    "scrolled": true
   },
   "outputs": [
    {
     "data": {
      "text/plain": [
       "array([           nan, 6.17789264e+02, 3.03555000e+03, 1.15342100e+03,\n",
       "       1.57558250e+02, 6.74391100e+02, 4.80594950e+02, 1.88790400e+03,\n",
       "       1.92097100e+03, 6.14412500e+02, 7.74400000e+03, 9.67087900e+03,\n",
       "       1.61198700e+03, 1.60700000e+03, 0.00000000e+00, 2.93600000e+03,\n",
       "       2.92521045e+03, 7.92686650e+02, 7.23528100e+03, 1.33253385e+03,\n",
       "       9.46141000e+02, 1.07595320e+03, 8.56595500e+01, 1.20444750e+02,\n",
       "       2.65780000e+02, 3.04832800e+02, 4.95967700e+02, 1.22100000e+03,\n",
       "       5.05760000e+02, 1.25573200e+03, 2.85387000e+00, 1.24631710e+03,\n",
       "       2.93534950e+02, 5.44576300e+03, 5.03370500e+01, 5.24180925e+03,\n",
       "       6.50730000e+01, 1.36872200e+02, 6.75605000e+01, 2.96272000e+03,\n",
       "       8.32884650e+02, 9.07937500e+01, 2.99176600e+02, 5.85507000e+03,\n",
       "       2.23699080e+03, 1.43887000e+03, 8.11580000e+00, 1.45560000e+02,\n",
       "       5.37195000e+03, 2.34650850e+02, 3.30595670e+03, 3.73919000e+02,\n",
       "       1.49121645e+03, 2.53904100e+03, 1.01567610e+03, 4.48805700e+03,\n",
       "       1.13858420e+04, 5.71269300e+01, 4.08853900e+03, 8.67739500e+02,\n",
       "       7.96487550e+02, 3.53225000e+01, 4.28705700e+02, 1.22869000e+03,\n",
       "       1.14660000e+04, 2.46200000e+03, 1.02538450e+03, 3.13530470e+03,\n",
       "       4.81945750e+02, 1.48662950e+02, 2.29984300e+02, 3.64226000e+03,\n",
       "       3.82450000e+02, 7.39772550e+02, 8.29114200e+02, 1.45814000e+02,\n",
       "       1.64324250e+02, 2.16554785e+03, 1.15365300e+03, 3.63339600e+03,\n",
       "       1.24670000e+04, 1.52700000e+03, 6.99400000e+02, 1.56200000e+03,\n",
       "       3.03457500e+03, 2.70789250e+02, 4.20775550e+02, 6.57098000e+01,\n",
       "       3.18648750e+02, 4.11733900e+03, 1.98820900e+02, 3.27735000e+03,\n",
       "       5.25099000e+02, 3.37232000e+02, 2.03975000e+00, 2.56889100e+02,\n",
       "       2.06547000e+02, 8.82664500e+02, 3.27484000e+03, 2.49854600e+03,\n",
       "       9.04388000e+02, 3.70796700e+02, 2.48172900e+03, 2.52919050e+03,\n",
       "       6.58752700e+03, 2.94689150e+02, 1.08872900e+02, 6.55564000e+03,\n",
       "       5.73441000e+02, 3.45155550e+02, 2.69270000e+03, 6.94229000e+03,\n",
       "       4.99987500e+02, 2.10472350e+02, 4.03114300e+02, 1.44710000e+04,\n",
       "       5.86694000e+03, 4.10629000e+03, 1.91975300e+02, 3.15500000e+03,\n",
       "       3.23914290e+03, 4.51053400e+02, 1.15434200e+03, 4.43670000e+03,\n",
       "       9.50355786e+01, 4.00417850e+02, 4.21922785e+03, 5.60352000e+02,\n",
       "       1.56416300e+03, 1.69581264e+03, 7.39900000e+03, 1.69400000e+03,\n",
       "       7.92000000e+02, 4.74370000e+02, 8.74207000e+01, 3.62100400e+02,\n",
       "       4.49541000e+01, 4.04955050e+02, 3.02231250e+02, 3.83831200e+02,\n",
       "       2.01009900e+02, 1.72142600e+03, 1.94114790e+02, 6.44976100e+03,\n",
       "       2.50000000e-01, 5.59010000e+02, 6.26312700e+02, 2.02257000e+03,\n",
       "       1.88070000e+04, 5.37374580e+03, 9.01341730e+03, 8.01025300e+03,\n",
       "       1.20411915e+03, 4.28168400e+02, 3.73224700e+02, 3.03654100e+03,\n",
       "       1.55379200e+02, 1.54291665e+03, 3.87532315e+03, 4.83043000e+02,\n",
       "       1.39387900e+03, 4.52527000e+02, 7.36767650e+02, 1.12534500e+02,\n",
       "       3.96814100e+03, 6.79230300e+03, 7.51313400e+03, 8.55342825e+02,\n",
       "       6.06641550e+02, 2.54988650e+02, 3.70577800e+02, 5.97865650e+02,\n",
       "       2.65376450e+02, 5.74264250e+02, 1.28067445e+03, 2.35663000e+03,\n",
       "       5.17191050e+02, 9.66742000e+01, 1.99965000e+03, 4.68360000e+02,\n",
       "       6.14780000e+03, 1.84910800e+02, 1.37349800e+02, 6.31100000e+03,\n",
       "       5.75945800e+02, 1.26171970e+03, 4.73910000e+02, 8.01373000e+01,\n",
       "       5.52190000e+03, 5.11195000e+03, 8.05760000e+02, 5.69739900e+03,\n",
       "       4.40406900e+02, 2.80237000e+03, 2.09600000e+03, 1.44006350e+02,\n",
       "       1.04569525e+03, 2.81270000e+04, 2.45010000e+04, 1.06664000e+02,\n",
       "       7.66260000e+02, 4.06935100e+02, 2.53900000e+03, 1.02746685e+03,\n",
       "       5.69674000e+02, 3.41583500e+02, 3.73010200e+03, 6.80331250e+03,\n",
       "       3.10728200e+03, 3.19310100e+03, 1.00631800e+04, 1.25380000e+02,\n",
       "       1.68097600e+03, 1.64389830e+03, 7.51722500e+01, 2.98280000e+02,\n",
       "       3.86443400e+03, 5.18707940e+03, 4.18596500e+01, 1.86353550e+02,\n",
       "       2.27855000e+02, 3.18274200e+03, 1.12328535e+03, 1.14296577e+03,\n",
       "       2.90590000e+02, 2.39179600e+03, 2.10601700e+02, 1.28613700e+02,\n",
       "       3.92179000e+03, 1.54125500e+02, 1.17638850e+02, 2.59861800e+03,\n",
       "       6.57476100e+02, 5.67337400e+03, 4.07952500e+03, 3.46558500e+01,\n",
       "       2.04234000e+03, 1.60872800e+02, 3.88179350e+02, 5.24922200e+02,\n",
       "       2.20585000e+00, 1.28056500e+01, 1.32072320e+03, 1.50264900e+02,\n",
       "       2.15608000e+03, 1.79997600e+03, 2.23526750e+02, 1.40180575e+03,\n",
       "       3.88050000e+01, 3.65194850e+02, 6.94500000e+03, 3.79413400e+02,\n",
       "       1.14724500e+01, 9.98301800e+03, 7.36839000e+03, 2.02427500e+01,\n",
       "       3.59139800e+02, 8.21173500e+01, 5.38026710e+03, 5.37391000e+03,\n",
       "       2.68480850e+02, 1.15389723e+03, 2.36163250e+02, 1.31098215e+03,\n",
       "       1.10393260e+03, 3.26041600e+02, 1.85348600e+03, 2.15210000e+02,\n",
       "       4.53550000e-02, 6.42038600e+03, 1.22140000e+01, 7.38747700e+02,\n",
       "       1.97840000e+04, 5.71358850e+02, 4.16230000e+02, 5.26071000e+03,\n",
       "       7.84742000e+03, 1.73111100e+02, 1.92240000e+04, 6.08611650e+02,\n",
       "       2.28626125e+03, 1.21860635e+03, 3.62878100e+03, 3.47412210e+03,\n",
       "       6.22400000e+03, 1.24779200e+02, 2.23650436e+02, 2.43634000e+02,\n",
       "       5.42364550e+02, 6.22979300e+03, 3.12574000e+03, 1.33568800e+02,\n",
       "       1.50690000e+04, 5.53293700e+03, 1.50613150e+02, 5.94074700e+02,\n",
       "       5.05280900e+02, 5.22918270e+03, 5.54115500e+02, 2.37058750e+02,\n",
       "       2.60272100e+02, 8.29691000e+02, 1.41960000e+04, 2.88157400e+03,\n",
       "       1.34310000e+04, 2.06030000e+04, 2.20820350e+02, 9.05970000e+02,\n",
       "       1.14696635e+03, 1.79258205e+03, 7.59900000e+03, 3.35613500e+01,\n",
       "       2.51900000e+03, 2.86678400e+03, 9.15518000e+03, 1.02912850e+02,\n",
       "       1.58458100e+03, 1.81687000e+02, 3.38200000e+03, 2.22150000e+04,\n",
       "       1.42372450e+03, 2.32160000e+03, 4.44476450e+02, 2.79000000e+03,\n",
       "       9.33500000e+03, 1.42537730e+02, 2.57381625e+03, 3.92219050e+02,\n",
       "       3.00843225e+03, 2.10003000e+03, 1.38061000e+03, 1.13290700e+02,\n",
       "       1.55010000e+04, 1.54227000e+03, 4.73513000e+03, 2.07431000e+03,\n",
       "       2.72000000e+03, 7.70180000e+02, 1.11927000e+03, 3.79700000e+03,\n",
       "       7.04332900e+03, 6.34865000e+00, 1.26260000e+03, 3.81958610e+02,\n",
       "       6.02085000e+03, 6.10591600e+03, 6.87176850e+02, 2.51943950e+02,\n",
       "       6.92500000e+03, 2.68294785e+03, 7.30807600e+02, 5.19857650e+02,\n",
       "       3.01803400e+02, 3.39300900e+03, 3.06123690e+03, 1.18223910e+03,\n",
       "       1.29215000e+02, 4.85620000e+02, 2.02800900e+02, 3.86916000e+02,\n",
       "       5.33731000e+03, 1.01480000e+03, 1.31386765e+03, 8.19797000e+03,\n",
       "       3.42930000e+03, 6.38988500e+02, 2.75940000e+04, 1.80686030e+03,\n",
       "       6.75387000e+03, 1.04582000e+03, 1.84453100e+02, 3.19435982e+03])"
      ]
     },
     "execution_count": 86,
     "metadata": {},
     "output_type": "execute_result"
    }
   ],
   "source": [
    "df['generation_gwh_2014'].unique()"
   ]
  },
  {
   "cell_type": "code",
   "execution_count": 87,
   "id": "a2e83fd7",
   "metadata": {},
   "outputs": [
    {
     "data": {
      "text/plain": [
       "509"
      ]
     },
     "execution_count": 87,
     "metadata": {},
     "output_type": "execute_result"
    }
   ],
   "source": [
    "df['generation_gwh_2014'].isna().sum()"
   ]
  },
  {
   "cell_type": "code",
   "execution_count": 88,
   "id": "2aca1855",
   "metadata": {},
   "outputs": [
    {
     "data": {
      "text/plain": [
       "2431.823590196344"
      ]
     },
     "execution_count": 88,
     "metadata": {},
     "output_type": "execute_result"
    }
   ],
   "source": [
    "df['generation_gwh_2014'].mean()"
   ]
  },
  {
   "cell_type": "code",
   "execution_count": 89,
   "id": "4ecb5133",
   "metadata": {},
   "outputs": [],
   "source": [
    "df['generation_gwh_2014'] = df['generation_gwh_2014'].fillna(df['generation_gwh_2014'].mean())"
   ]
  },
  {
   "cell_type": "code",
   "execution_count": 90,
   "id": "e29e4cfe",
   "metadata": {},
   "outputs": [
    {
     "data": {
      "text/plain": [
       "0"
      ]
     },
     "execution_count": 90,
     "metadata": {},
     "output_type": "execute_result"
    }
   ],
   "source": [
    "df['generation_gwh_2014'].isna().sum()"
   ]
  },
  {
   "cell_type": "code",
   "execution_count": null,
   "id": "bf5334ca",
   "metadata": {},
   "outputs": [],
   "source": []
  },
  {
   "cell_type": "code",
   "execution_count": null,
   "id": "2acffa8e",
   "metadata": {},
   "outputs": [],
   "source": []
  },
  {
   "cell_type": "code",
   "execution_count": null,
   "id": "137940d2",
   "metadata": {},
   "outputs": [],
   "source": []
  },
  {
   "cell_type": "code",
   "execution_count": 91,
   "id": "5efdb98f",
   "metadata": {
    "scrolled": true
   },
   "outputs": [
    {
     "data": {
      "text/plain": [
       "array([           nan, 8.43747000e+02, 5.91637000e+03, 1.20885200e+03,\n",
       "       1.52195200e+02, 7.21335200e+02, 1.44434200e+02, 1.64304600e+03,\n",
       "       5.62966300e+03, 6.65197300e+02, 8.07681050e+03, 1.11510695e+04,\n",
       "       9.09000000e+02, 2.70282320e+03, 1.46500000e+03, 9.86247350e+02,\n",
       "       2.01300000e+03, 2.98513930e+03, 5.53220000e+01, 7.41862050e+02,\n",
       "       5.97912500e+03, 1.43795470e+03, 6.18909900e+02, 1.96760200e+02,\n",
       "       9.48831000e+02, 5.71607600e+02, 1.06942600e+02, 3.96806000e+01,\n",
       "       2.31610720e+03, 2.31626436e+02, 0.00000000e+00, 3.26459500e+02,\n",
       "       4.05600000e+03, 3.06379000e+02, 1.16531800e+03, 8.29591247e+00,\n",
       "       1.29797750e+03, 3.14320500e+02, 5.74131900e+03, 3.98796000e+01,\n",
       "       5.86315690e+03, 8.21372500e+01, 6.99485000e+00, 5.65160000e+00,\n",
       "       1.55727450e+02, 3.26358400e+03, 6.37138300e+02, 7.35006500e+01,\n",
       "       1.95935400e+02, 7.50597200e+03, 1.20406750e+03, 2.80500000e-01,\n",
       "       1.63427400e+03, 1.06579200e+02, 1.28899000e+01, 3.41720000e+00,\n",
       "       5.32727000e+03, 2.86410750e+02, 3.66456950e+03, 4.17168000e+02,\n",
       "       1.51636010e+03, 2.61058150e+03, 1.03840190e+03, 4.58588500e+03,\n",
       "       1.11586970e+04, 6.95455250e+01, 3.99151200e+03, 8.09711100e+02,\n",
       "       7.49901650e+02, 3.67254500e+01, 4.19322850e+02, 1.75858000e+03,\n",
       "       9.33300000e+03, 2.92400000e+03, 4.75017755e+03, 3.32244430e+03,\n",
       "       5.83776600e+03, 2.63686400e+03, 1.36175700e+02, 2.04034700e+02,\n",
       "       3.48074000e+03, 3.34900000e+02, 1.08418185e+03, 2.82700000e+02,\n",
       "       3.84538000e+02, 1.62324300e+02, 2.34967260e+03, 7.88656100e+02,\n",
       "       4.17926600e+03, 1.14400000e+04, 1.06800000e+03, 9.32130000e+02,\n",
       "       9.23000000e+02, 2.44121000e+03, 3.81134750e+02, 4.19820350e+02,\n",
       "       1.00650000e+02, 3.17803000e+01, 3.00350700e+02, 2.85346000e+03,\n",
       "       1.88114700e+02, 3.63524000e+03, 5.35411000e+02, 1.17654000e+02,\n",
       "       5.66890000e+02, 3.33100000e+03, 8.37790000e+00, 3.21683500e+02,\n",
       "       1.36064400e+02, 6.80460600e+02, 3.45484053e+03, 2.77282000e+03,\n",
       "       4.45882000e+02, 2.71635000e+02, 2.36053800e+03, 1.96378000e+01,\n",
       "       1.96433895e+03, 5.41876700e+03, 1.05784030e+03, 3.47603250e+02,\n",
       "       1.72503150e+02, 6.39637000e+03, 6.66941000e+02, 3.16768200e+02,\n",
       "       2.66250000e+03, 7.46847000e+01, 7.64555000e+03, 4.10566850e+02,\n",
       "       2.88460450e+02, 2.19377600e+02, 1.41920000e+04, 6.99600000e+03,\n",
       "       3.40869000e+03, 1.83298900e+02, 1.78400000e+03, 1.93873760e+03,\n",
       "       3.23315300e+02, 5.50876430e+03, 5.74700000e+03, 2.12919179e+02,\n",
       "       4.06835600e+02, 4.70268840e+03, 6.20207000e+02, 1.68359700e+03,\n",
       "       1.71314992e+03, 8.22700000e+03, 1.17400000e+03, 1.31000000e+02,\n",
       "       2.89245000e+02, 1.74174750e+02, 3.19454700e+02, 1.19847750e+02,\n",
       "       3.74060300e+02, 2.59923850e+02, 2.02243700e+02, 2.77187100e+02,\n",
       "       3.26400000e+03, 1.33406400e+02, 5.12474137e+03, 2.29705700e+03,\n",
       "       2.02461000e+03, 7.77891000e+02, 2.72569064e+03, 1.91760000e+04,\n",
       "       5.64538900e+03, 8.69185700e+03, 6.99232100e+03, 1.24180975e+03,\n",
       "       4.28297750e+02, 3.63398000e+02, 2.96193590e+03, 1.38285100e+02,\n",
       "       1.36557780e+03, 2.02700000e+03, 3.36854000e+02, 1.37534800e+03,\n",
       "       5.18844000e+02, 5.56443800e+02, 1.87159500e+01, 1.16922450e+02,\n",
       "       3.97206800e+03, 6.10841900e+03, 7.44494800e+03, 8.70200000e+02,\n",
       "       4.95630000e+02, 6.53565750e+02, 1.18345300e+02, 5.33956800e+02,\n",
       "       6.62878950e+02, 8.93510000e+00, 2.22253150e+02, 5.08166400e+02,\n",
       "       1.22697430e+03, 2.92700000e+03, 4.75082650e+02, 9.16992000e+01,\n",
       "       2.66347000e+03, 4.63857000e+03, 1.65518250e+02, 1.07002300e+02,\n",
       "       6.78013800e+03, 6.92878200e+02, 1.70701205e+03, 2.81730000e+02,\n",
       "       5.92967650e+01, 7.86149500e+01, 5.12582000e+03, 5.88255000e+03,\n",
       "       2.50453000e+03, 5.47132800e+03, 3.39722850e+02, 3.67416000e+03,\n",
       "       1.25880000e+02, 1.71800000e+03, 1.03121800e+02, 1.16361270e+03,\n",
       "       3.05390000e+04, 2.36790000e+04, 6.15208500e+01, 6.69939000e+02,\n",
       "       4.42128250e+02, 3.08000000e+03, 1.18300000e-01, 8.77092500e+01,\n",
       "       4.87339000e+02, 3.48747500e+02, 3.87006950e+03, 7.27722105e+03,\n",
       "       3.00006100e+03, 2.77694700e+03, 9.54664800e+03, 6.60780000e+02,\n",
       "       1.38303700e+03, 4.99867830e+03, 9.00574500e+01, 1.24924800e+02,\n",
       "       4.04639400e+03, 6.03195650e+03, 1.59289550e+02, 3.50561100e+03,\n",
       "       9.50234950e+02, 1.52252966e+02, 8.75540000e+02, 6.34830000e+03,\n",
       "       3.33729300e+03, 2.17596550e+02, 6.86251500e+01, 1.51372000e+03,\n",
       "       1.73428500e+02, 1.15987150e+02, 3.17547300e+03, 6.39785000e+02,\n",
       "       6.03988000e+03, 1.14401405e+03, 2.55018500e+01, 2.70250000e+03,\n",
       "       3.76617450e+02, 5.02256100e+02, 4.54954000e+02, 1.72608620e+03,\n",
       "       1.58901500e+02, 1.83611480e+03, 1.49779800e+03, 3.02679000e+01,\n",
       "       2.19519300e+02, 1.05923720e+03, 5.66055500e+01, 2.79157200e+02,\n",
       "       7.61200000e+03, 5.15509500e+02, 2.40799900e+02, 1.04226900e+04,\n",
       "       4.66318000e+03, 5.88740000e+02, 3.82122500e+01, 3.67553000e+01,\n",
       "       4.38956090e+03, 7.26250057e+03, 5.00017350e+02, 1.45939953e+03,\n",
       "       2.52501150e+02, 1.97349295e+03, 1.27384875e+03, 3.43543650e+02,\n",
       "       1.94748365e+03, 2.18930000e+02, 1.15049700e+03, 6.53261500e+03,\n",
       "       5.96462700e+02, 1.96280000e+04, 3.73045400e+02, 4.66770000e+02,\n",
       "       3.60070000e+03, 6.43400000e+03, 3.56966000e+02, 1.89900000e+04,\n",
       "       7.01027250e+02, 1.45855060e+03, 1.16531415e+03, 2.35093400e+03,\n",
       "       3.57340320e+03, 4.91200000e+03, 3.75606432e+01, 3.99540000e+01,\n",
       "       6.48394100e+03, 3.37812000e+03, 7.88836000e+01, 2.93420000e+04,\n",
       "       4.95934000e+03, 3.70260000e+00, 1.60185050e+02, 5.94084650e+02,\n",
       "       5.29907150e+02, 2.65117750e+03, 3.01674050e+02, 2.08959950e+02,\n",
       "       2.62471050e+02, 7.78430000e+02, 1.36560000e+04, 3.68490000e+03,\n",
       "       1.09395000e+00, 1.50540000e+04, 2.10780000e+04, 2.15377700e+02,\n",
       "       4.79430000e+02, 8.96863150e+02, 2.05019750e+02, 1.54006100e+02,\n",
       "       7.45900000e+03, 5.09838000e+01, 3.51644900e+03, 2.69796900e+03,\n",
       "       5.28200000e+03, 9.20375000e+01, 5.19464000e+01, 3.96058400e+03,\n",
       "       1.20335300e+02, 3.36200000e+03, 2.24800000e+04, 2.85099000e+03,\n",
       "       4.10153000e+03, 4.50098200e+02, 2.75700000e+03, 9.45300000e+03,\n",
       "       7.96298500e+01, 2.69660920e+03, 1.86761500e+01, 5.12285700e+02,\n",
       "       3.08549500e+03, 2.31818600e+03, 1.51887000e+03, 4.39392000e+01,\n",
       "       1.89640000e+04, 6.01390000e+02, 4.22998000e+03, 2.02920000e+03,\n",
       "       2.18900000e+03, 1.50000000e+01, 1.14900000e+03, 5.06400000e+03,\n",
       "       6.50137300e+03, 3.50211000e+03, 7.28364000e+02, 3.06460000e+02,\n",
       "       5.46400000e+01, 7.62900000e+03, 5.10021400e+03, 4.89052450e+02,\n",
       "       2.97584600e+02, 6.35300000e+03, 8.34058000e+02, 1.75163780e+03,\n",
       "       7.63234650e+02, 4.62953600e+02, 2.57058250e+02, 2.80153000e+03,\n",
       "       3.26655515e+03, 1.18957225e+03, 1.23758900e+03, 3.26849000e+02,\n",
       "       1.22006900e+02, 1.70734000e+02, 7.13050700e+03, 6.80475000e+02,\n",
       "       7.48628050e+02, 5.88748000e+02, 8.13118000e+03, 2.83689000e+03,\n",
       "       6.93874313e+02, 2.90470000e+04, 1.20459675e+03, 4.34640000e+02,\n",
       "       5.16153800e+03, 1.65115890e+03, 1.83000000e+02, 3.70955220e+03,\n",
       "       9.94875000e-01])"
      ]
     },
     "execution_count": 91,
     "metadata": {},
     "output_type": "execute_result"
    }
   ],
   "source": [
    "df['generation_gwh_2015'].unique()"
   ]
  },
  {
   "cell_type": "code",
   "execution_count": 92,
   "id": "e488144f",
   "metadata": {},
   "outputs": [
    {
     "data": {
      "text/plain": [
       "485"
      ]
     },
     "execution_count": 92,
     "metadata": {},
     "output_type": "execute_result"
    }
   ],
   "source": [
    "df['generation_gwh_2015'].isna().sum()"
   ]
  },
  {
   "cell_type": "code",
   "execution_count": 93,
   "id": "5f8ad0ed",
   "metadata": {},
   "outputs": [
    {
     "data": {
      "text/plain": [
       "2428.2269459614085"
      ]
     },
     "execution_count": 93,
     "metadata": {},
     "output_type": "execute_result"
    }
   ],
   "source": [
    "df['generation_gwh_2015'].mean()"
   ]
  },
  {
   "cell_type": "code",
   "execution_count": 94,
   "id": "c08e18c5",
   "metadata": {},
   "outputs": [],
   "source": [
    "df['generation_gwh_2015'] = df['generation_gwh_2015'].fillna(df['generation_gwh_2015'].mean())"
   ]
  },
  {
   "cell_type": "code",
   "execution_count": 95,
   "id": "48e46b5c",
   "metadata": {},
   "outputs": [
    {
     "data": {
      "text/plain": [
       "0"
      ]
     },
     "execution_count": 95,
     "metadata": {},
     "output_type": "execute_result"
    }
   ],
   "source": [
    "df['generation_gwh_2015'].isna().sum()"
   ]
  },
  {
   "cell_type": "code",
   "execution_count": null,
   "id": "3c050ec1",
   "metadata": {},
   "outputs": [],
   "source": []
  },
  {
   "cell_type": "code",
   "execution_count": null,
   "id": "1ec81281",
   "metadata": {},
   "outputs": [],
   "source": []
  },
  {
   "cell_type": "code",
   "execution_count": null,
   "id": "037db26f",
   "metadata": {},
   "outputs": [],
   "source": []
  },
  {
   "cell_type": "code",
   "execution_count": 96,
   "id": "cf009d38",
   "metadata": {
    "scrolled": true
   },
   "outputs": [
    {
     "data": {
      "text/plain": [
       "array([           nan, 8.86004428e+02, 6.24300000e+03, 1.17576500e+03,\n",
       "       6.14213500e+01, 6.75724400e+02, 4.02029750e+02, 1.33809300e+03,\n",
       "       1.70100800e+03, 6.70500650e+02, 7.90202160e+03, 1.32273523e+04,\n",
       "       6.66420000e+02, 3.51574960e+03, 5.09000000e+02, 2.83200000e+02,\n",
       "       1.51100000e+03, 2.17363720e+03, 1.75018510e+03, 6.65983350e+02,\n",
       "       6.34120200e+03, 2.80000000e+03, 9.96373100e+02, 1.29033000e+03,\n",
       "       1.66863100e+03, 1.23282490e+03, 1.09181350e+02, 5.32126000e+01,\n",
       "       6.77378800e+03, 1.87193669e+02, 1.20903640e+02, 4.43242650e+02,\n",
       "       7.17700000e+03, 3.54900000e+02, 1.27499900e+03, 1.04689800e+01,\n",
       "       1.33603625e+03, 2.96271200e+02, 0.00000000e+00, 5.99932000e+03,\n",
       "       2.69247000e+01, 5.14242865e+03, 4.68844000e+01, 4.99230000e+01,\n",
       "       1.97308500e+01, 1.73826500e+01, 2.04870500e+01, 3.37910050e+03,\n",
       "       9.46871850e+02, 1.01072100e+02, 2.05557050e+02, 5.66607190e+03,\n",
       "       7.39155400e+02, 1.91560000e+02, 1.27252000e+03, 5.11710000e+00,\n",
       "       4.97438000e+03, 2.59943750e+02, 3.44980000e+03, 4.33848000e+02,\n",
       "       1.43671035e+03, 2.21326805e+03, 9.12504550e+02, 5.11943100e+03,\n",
       "       1.36754400e+04, 8.16317900e+01, 6.13378400e+03, 7.10430000e+02,\n",
       "       7.65503250e+02, 4.38994000e+01, 4.92276250e+02, 2.14339000e+03,\n",
       "       8.19700000e+03, 2.17800000e+03, 8.08151400e+03, 3.16875660e+03,\n",
       "       6.16474000e+03, 2.97000000e+00, 1.19589050e+02, 1.79498000e+02,\n",
       "       3.39436700e+03, 1.41300000e+03, 9.51349350e+02, 9.48550000e+01,\n",
       "       2.83748110e+02, 2.57645300e+02, 2.26861990e+03, 5.18240900e+02,\n",
       "       6.32703000e+03, 1.27320000e+04, 1.00490800e+03, 7.51743000e+02,\n",
       "       4.77657100e+02, 2.29081100e+03, 1.93824900e+03, 3.49245000e+02,\n",
       "       4.14457300e+02, 4.84963000e+01, 3.81950650e+02, 2.49369000e+03,\n",
       "       1.39897000e+02, 3.38931000e+03, 9.33370000e+02, 1.97872000e+02,\n",
       "       6.26684620e+02, 3.70380000e+03, 9.95000000e-02, 1.52991200e+02,\n",
       "       2.33745500e+01, 2.22817300e+02, 7.13385150e+02, 3.51831000e+03,\n",
       "       2.88567300e+03, 6.73162000e+02, 1.70861400e+02, 1.37315970e+03,\n",
       "       3.30418605e+03, 5.10949700e+03, 4.65227950e+03, 3.06012250e+02,\n",
       "       2.04432700e+02, 5.82629000e+03, 9.99650000e+02, 2.86808750e+02,\n",
       "       1.42400000e+03, 4.03601850e+02, 6.06320000e+03, 2.87943050e+02,\n",
       "       3.37314950e+02, 1.75537900e+02, 1.48348000e+04, 5.93149000e+03,\n",
       "       6.13001993e+03, 1.31021600e+02, 1.33809590e+03, 2.38004000e+02,\n",
       "       5.53133080e+03, 5.47670000e+03, 2.31324710e+02, 3.94607050e+02,\n",
       "       4.35042855e+03, 4.80967000e+02, 1.78633000e+03, 5.58095500e+01,\n",
       "       4.62282600e+02, 1.53111310e+03, 7.85600000e+03, 1.67300000e+03,\n",
       "       1.41076923e+01, 3.40200000e+02, 1.96114500e+02, 2.67585350e+02,\n",
       "       1.79239300e+02, 3.31623550e+02, 3.05703800e+02, 1.53389200e+02,\n",
       "       1.68582850e+02, 3.60952800e+03, 3.63404400e+01, 5.38252400e+03,\n",
       "       3.20903420e+03, 2.21118800e+03, 1.08282865e+03, 4.87581000e+03,\n",
       "       1.90780000e+04, 5.67024700e+03, 8.65544700e+03, 6.62879200e+03,\n",
       "       1.21842725e+03, 4.28427100e+02, 3.08967000e+02, 3.28932075e+03,\n",
       "       2.41517750e+01, 1.21589000e+02, 8.11531950e+02, 5.72402000e+03,\n",
       "       4.18960000e+02, 1.25912300e+03, 3.35927000e+02, 3.25603800e+02,\n",
       "       1.50722600e+02, 6.49635500e+01, 3.53752000e+03, 6.06233949e+03,\n",
       "       7.06207100e+03, 8.23297501e+02, 3.74187000e+03, 6.08601700e+02,\n",
       "       1.05111800e+02, 7.37364650e+02, 4.80734250e+02, 1.75458300e+02,\n",
       "       9.18086500e+01, 3.05693850e+02, 8.27740500e+02, 2.91667000e+03,\n",
       "       6.96808450e+02, 1.46473950e+02, 2.97566000e+03, 2.43038000e+03,\n",
       "       2.70941000e+03, 2.08611700e+02, 1.21419850e+02, 6.95698300e+03,\n",
       "       7.16728350e+02, 1.59292535e+03, 2.08976800e+02, 3.78680000e+02,\n",
       "       2.18042900e+03, 1.22066600e+02, 5.71632000e+03, 6.18911000e+03,\n",
       "       3.48279000e+03, 5.23970300e+03, 1.24852600e+02, 3.21270000e+03,\n",
       "       1.74796700e+02, 3.83800000e+03, 6.12124000e+01, 1.07809245e+03,\n",
       "       2.80780000e+04, 2.53030000e+04, 3.13325500e+01, 6.69546018e+02,\n",
       "       3.89691750e+02, 3.03689000e+03, 7.31315130e+01, 1.85219250e+02,\n",
       "       7.31325000e+00, 3.33180000e+02, 1.96313500e+02, 2.97275300e+03,\n",
       "       7.01538680e+03, 6.49985700e+02, 3.05530500e+03, 3.25685100e+03,\n",
       "       9.98775200e+03, 1.12829400e+03, 1.00266600e+03, 6.79460760e+03,\n",
       "       9.47339500e+01, 2.08788800e+02, 3.36574600e+03, 5.91239600e+03,\n",
       "       4.12925000e+00, 2.15626450e+02, 3.35981400e+03, 1.42056150e+03,\n",
       "       1.95884661e+02, 2.73010000e+02, 8.47057000e+03, 3.99395800e+03,\n",
       "       1.65219750e+02, 1.32842450e+02, 1.97880000e+03, 6.20183500e+01,\n",
       "       6.62073000e+01, 2.68116600e+03, 6.79067600e+02, 5.47415000e+03,\n",
       "       1.42041200e+03, 2.38302500e+01, 4.07698000e+03, 3.58339300e+02,\n",
       "       9.34404500e+01, 2.16621274e+02, 7.49135500e+01, 1.36308035e+03,\n",
       "       9.06445000e+01, 1.97337400e+03, 1.75918200e+03, 2.10930050e+02,\n",
       "       4.00400000e+03, 1.29350000e+01, 1.10143515e+03, 1.26763000e+01,\n",
       "       1.91587250e+02, 6.68460000e+03, 4.46536100e+02, 1.83184000e+03,\n",
       "       1.05038820e+04, 4.04510400e+03, 6.87880000e+02, 6.19487000e+01,\n",
       "       3.57423490e+03, 8.95247000e+03, 1.80035300e+02, 1.36792423e+03,\n",
       "       2.47177900e+02, 1.95061790e+03, 1.24276495e+03, 3.45404300e+02,\n",
       "       1.29954960e+03, 3.44356238e+02, 4.47209800e+03, 6.02084870e+03,\n",
       "       5.50792200e+02, 2.04860000e+04, 5.64403800e+02, 4.34180000e+02,\n",
       "       2.50811000e+03, 7.27028000e+03, 4.03960000e+02, 1.83570000e+04,\n",
       "       8.71958300e+02, 2.32120565e+03, 7.94796050e+02, 4.22261400e+03,\n",
       "       3.40597455e+03, 4.88900000e+03, 1.13080440e+01, 1.86463000e+02,\n",
       "       6.31603000e+03, 3.36442000e+03, 6.29735500e+01, 2.76710000e+04,\n",
       "       3.26034800e+03, 2.91018750e+02, 1.15081700e+02, 4.68256950e+02,\n",
       "       4.70515600e+02, 2.69522615e+03, 2.75217000e+02, 1.66015750e+02,\n",
       "       2.26969450e+02, 1.92774700e+03, 1.33890000e+04, 1.43936300e+03,\n",
       "       3.31200000e+03, 1.39980000e+04, 2.25220000e+04, 2.50971000e+02,\n",
       "       1.44414300e+02, 3.70840000e+02, 1.27434625e+03, 6.37406950e+02,\n",
       "       6.14133900e+02, 1.88900000e+03, 2.99793500e+01, 4.65418000e+03,\n",
       "       2.76937100e+03, 4.03081800e+03, 4.24964500e+01, 2.58452000e+02,\n",
       "       2.29092000e+03, 8.07542000e+01, 3.35900000e+03, 2.13700000e+04,\n",
       "       6.61871540e+03, 4.52960000e+03, 4.28138550e+02, 2.85800000e+03,\n",
       "       9.88720000e+03, 2.75959270e+03, 5.99517350e+02, 5.51100650e+02,\n",
       "       3.07872900e+02, 3.13058840e+03, 1.21876000e+03, 1.21164200e+03,\n",
       "       1.05629200e+02, 1.66650000e+04, 2.10480000e+02, 2.47863000e+03,\n",
       "       1.59098000e+03, 2.52100000e+03, 1.37200000e+03, 4.68300000e+03,\n",
       "       5.08965500e+03, 5.80685100e+03, 2.17304000e+01, 3.40339750e+02,\n",
       "       1.22020000e+02, 7.41200000e+03, 4.89339200e+03, 3.93681700e+02,\n",
       "       2.61346700e+02, 6.33500000e+03, 1.51403180e+03, 6.16243300e+02,\n",
       "       3.38707950e+02, 3.61095450e+02, 3.20330000e+03, 2.78908450e+03,\n",
       "       1.46458030e+03, 1.45405000e+02, 3.76200000e+02, 1.52752400e+02,\n",
       "       3.74892000e+02, 8.56437900e+03, 9.06996000e+02, 7.37046250e+02,\n",
       "       3.01170000e+02, 7.26206000e+03, 3.35790000e+03, 6.69578138e+02,\n",
       "       3.00150000e+04, 2.03183975e+03, 3.26348300e+03, 3.53963000e+03,\n",
       "       1.22948000e+03, 2.04253600e+02, 3.12357206e+03, 2.33596650e+02])"
      ]
     },
     "execution_count": 96,
     "metadata": {},
     "output_type": "execute_result"
    }
   ],
   "source": [
    "df['generation_gwh_2016'].unique()"
   ]
  },
  {
   "cell_type": "code",
   "execution_count": 97,
   "id": "5038418e",
   "metadata": {},
   "outputs": [
    {
     "data": {
      "text/plain": [
       "473"
      ]
     },
     "execution_count": 97,
     "metadata": {},
     "output_type": "execute_result"
    }
   ],
   "source": [
    "df['generation_gwh_2016'].isna().sum()"
   ]
  },
  {
   "cell_type": "code",
   "execution_count": 98,
   "id": "81b03361",
   "metadata": {},
   "outputs": [
    {
     "data": {
      "text/plain": [
       "2467.936858634909"
      ]
     },
     "execution_count": 98,
     "metadata": {},
     "output_type": "execute_result"
    }
   ],
   "source": [
    "df['generation_gwh_2016'].mean()"
   ]
  },
  {
   "cell_type": "code",
   "execution_count": 99,
   "id": "9ee0f07f",
   "metadata": {},
   "outputs": [],
   "source": [
    "df['generation_gwh_2016'] = df['generation_gwh_2016'].fillna(df['generation_gwh_2016'].mean())"
   ]
  },
  {
   "cell_type": "code",
   "execution_count": 100,
   "id": "f6685959",
   "metadata": {},
   "outputs": [
    {
     "data": {
      "text/plain": [
       "0"
      ]
     },
     "execution_count": 100,
     "metadata": {},
     "output_type": "execute_result"
    }
   ],
   "source": [
    "df['generation_gwh_2016'].isna().sum()"
   ]
  },
  {
   "cell_type": "code",
   "execution_count": null,
   "id": "2c4ac2cb",
   "metadata": {},
   "outputs": [],
   "source": []
  },
  {
   "cell_type": "code",
   "execution_count": 101,
   "id": "2dfea5eb",
   "metadata": {
    "scrolled": true
   },
   "outputs": [
    {
     "data": {
      "text/plain": [
       "array([           nan, 6.63774500e+02, 5.38557974e+03, 1.14791300e+03,\n",
       "       8.96296000e+01, 6.79594950e+02, 4.39372100e+02, 1.56345700e+03,\n",
       "       4.35055800e+03, 6.44570950e+02, 7.94074000e+03, 1.53348763e+04,\n",
       "       4.30000000e+02, 5.77712000e+03, 3.57000000e+02, 5.40290000e+02,\n",
       "       1.39500000e+03, 2.49417645e+03, 1.81284025e+03, 6.38521350e+02,\n",
       "       6.77925600e+03, 2.12068000e+03, 1.46980405e+03, 2.01879000e+03,\n",
       "       1.71320100e+03, 5.42643150e+02, 5.58394000e+01, 6.84560000e+01,\n",
       "       6.15376000e+03, 1.78106690e+02, 3.47098000e+01, 1.58254750e+02,\n",
       "       8.77800000e+03, 1.71355000e+02, 1.43607200e+03, 5.85771000e+00,\n",
       "       1.32996675e+03, 3.13594150e+02, 0.00000000e+00, 3.73840000e+03,\n",
       "       1.56115500e+01, 5.10834990e+03, 4.23372500e+01, 4.32135000e+02,\n",
       "       3.74319000e+01, 1.68752000e+01, 3.59090000e+03, 8.87838500e+02,\n",
       "       9.66642500e+01, 3.05664000e+02, 6.15962100e+03, 2.26547000e+03,\n",
       "       5.46795000e+02, 2.75796180e+03, 4.93548800e+02, 1.54500000e+03,\n",
       "       4.25768796e-01, 6.07180000e+01, 5.56309000e+03, 3.16041850e+02,\n",
       "       3.03264960e+03, 4.20909000e+02, 1.47967445e+03, 2.33235960e+03,\n",
       "       1.06270975e+03, 3.67261000e+03, 1.37802300e+04, 7.90229000e+01,\n",
       "       8.26556450e+01, 6.87063795e+03, 7.79652150e+02, 8.07601700e+02,\n",
       "       4.54914000e+01, 4.42566050e+02, 2.25834580e+03, 9.27100000e+03,\n",
       "       1.57500000e+03, 4.48294700e+03, 3.07080880e+03, 3.44442000e+03,\n",
       "       1.29031600e+02, 1.85776450e+02, 3.18980000e+03, 2.20511000e+03,\n",
       "       1.14739420e+03, 2.10230500e+02, 5.49869300e+02, 3.68249500e+02,\n",
       "       2.73018050e+02, 2.33214070e+03, 8.32308000e+02, 6.18204090e+03,\n",
       "       1.23810000e+04, 8.11000000e+02, 6.93296000e+02, 5.46823000e+02,\n",
       "       3.03100000e+03, 3.35873300e+03, 3.49623100e+02, 4.91619550e+02,\n",
       "       4.81281500e+01, 1.52065850e+02, 2.68588000e+03, 1.69090300e+02,\n",
       "       3.43821000e+03, 5.53615000e+02, 1.39192200e+03, 4.17529000e+03,\n",
       "       3.60787000e+01, 1.77179650e+02, 1.87800000e+00, 1.85639000e+02,\n",
       "       8.58734750e+02, 3.52322000e+03, 2.52701700e+03, 5.62509000e+02,\n",
       "       2.54978700e+02, 1.60300470e+03, 7.28250000e+01, 2.52816000e+01,\n",
       "       8.77351200e+02, 7.29056800e+03, 5.28820000e+03, 2.59794500e+02,\n",
       "       1.44454100e+02, 6.14008000e+03, 1.03099000e+03, 1.90522600e+02,\n",
       "       1.47580000e+03, 4.03979950e+02, 6.10993000e+03, 3.82438200e+02,\n",
       "       3.07375400e+02, 1.91945450e+02, 1.51770000e+04, 6.82573000e+03,\n",
       "       7.00679130e+03, 1.59080600e+02, 1.52959360e+03, 2.89525100e+02,\n",
       "       6.24992700e+03, 5.17409000e+03, 2.12377444e+02, 4.82555100e+02,\n",
       "       4.54708035e+03, 4.69440000e+02, 1.71291200e+03, 1.96144350e+02,\n",
       "       1.31240000e+03, 1.55799010e+03, 4.78800000e+03, 2.34000000e+03,\n",
       "       1.63611000e+02, 2.59466150e+02, 2.57844300e+02, 2.11537000e+02,\n",
       "       3.53971250e+02, 3.14798100e+02, 1.67160000e+00, 1.70085300e+02,\n",
       "       1.23360100e+02, 5.63348000e+03, 7.46530000e-01, 4.20838900e+03,\n",
       "       3.29705190e+03, 6.44400000e+02, 1.16696585e+03, 8.67084580e+03,\n",
       "       1.92290000e+04, 5.27466250e+03, 8.77335753e+03, 6.41502900e+03,\n",
       "       1.21422835e+03, 5.05678900e+02, 2.66158000e+02, 2.61759625e+03,\n",
       "       3.24900000e+03, 1.23350150e+02, 8.02198850e+02, 7.89440000e+03,\n",
       "       1.73234000e+02, 1.09075000e+03, 3.09549000e+02, 4.27969400e+02,\n",
       "       1.31519100e+02, 3.45969500e+03, 6.57679600e+03, 5.63060100e+03,\n",
       "       6.14442988e+02, 8.07202000e+03, 6.09298200e+02, 1.24922250e+02,\n",
       "       8.33551300e+02, 4.78585050e+02, 2.04870500e+02, 1.31290250e+02,\n",
       "       5.05201300e+02, 1.10422115e+03, 2.70438000e+03, 4.65361500e+02,\n",
       "       2.24074000e+01, 2.66247000e+03, 2.71600000e+03, 6.88957000e+03,\n",
       "       1.79269150e+02, 1.13837950e+02, 6.99794000e+03, 7.11604100e+02,\n",
       "       1.66306290e+03, 1.50952000e+02, 5.34163900e+03, 9.33409500e+01,\n",
       "       6.34524870e+03, 5.10126560e+03, 3.63000000e+03, 4.66667200e+03,\n",
       "       2.14482200e+02, 2.27306000e+03, 6.45293000e+02, 7.27600000e+03,\n",
       "       9.39280000e+01, 1.26440620e+03, 2.03110000e+04, 2.45990000e+04,\n",
       "       5.11231000e+01, 1.61056120e+03, 4.99957650e+02, 3.26857000e+03,\n",
       "       9.16480000e+02, 1.83567550e+02, 4.19193500e+01, 3.06396000e+02,\n",
       "       3.09047000e+02, 2.58014500e+03, 7.17169135e+03, 2.49556600e+03,\n",
       "       1.58722400e+02, 2.97281400e+03, 2.93988800e+03, 9.24606200e+03,\n",
       "       1.68704400e+03, 9.20129000e+02, 7.26950300e+03, 9.83358500e+01,\n",
       "       7.73344000e+01, 3.82413900e+03, 5.44746970e+03, 1.27360000e+01,\n",
       "       5.94313500e+01, 2.98460200e+02, 3.86670700e+03, 4.41382000e+02,\n",
       "       4.24730000e+02, 9.27161000e+03, 3.87043000e+03, 1.87448050e+02,\n",
       "       1.41230300e+02, 2.32790000e+03, 1.28822650e+02, 1.14703600e+02,\n",
       "       2.81062500e+03, 7.06977350e+02, 5.79584800e+03, 2.73705800e+03,\n",
       "       2.69744500e+01, 3.80559000e+03, 1.58732350e+02, 2.85664500e+02,\n",
       "       1.60528200e+02, 3.55115500e+01, 1.63236715e+03, 1.16156300e+02,\n",
       "       2.84450740e+03, 1.90843700e+03, 2.16313000e+02, 5.15598600e+03,\n",
       "       6.56700000e+00, 1.00929815e+03, 9.75100000e-01, 2.72739450e+02,\n",
       "       7.72062000e+03, 3.76368700e+02, 2.10382390e+03, 9.83369000e+03,\n",
       "       3.80142000e+03, 1.24219000e+03, 5.79189500e+01, 4.40453200e+03,\n",
       "       8.64743000e+03, 2.49386800e+02, 1.39101485e+03, 1.21857650e+02,\n",
       "       2.00492500e+03, 1.40965630e+03, 3.44180450e+02, 1.79440290e+03,\n",
       "       6.41872000e+02, 4.41871500e+03, 6.21663810e+03, 7.58796950e+02,\n",
       "       2.20190000e+04, 8.29611100e+02, 4.06760000e+02, 2.06827600e+03,\n",
       "       7.09090000e+03, 4.21720000e+02, 1.77040000e+04, 5.60045700e+02,\n",
       "       3.74726950e+02, 9.63617700e+02, 5.71774100e+03, 1.34315050e+02,\n",
       "       3.23085455e+03, 2.51400000e+03, 4.90923050e+02, 6.87785900e+03,\n",
       "       2.69341700e+03, 8.50327000e+01, 2.99090000e+04, 4.52435700e+03,\n",
       "       1.55243000e+03, 8.47010000e+03, 1.44185450e+02, 5.03858050e+02,\n",
       "       5.05977400e+02, 2.70873825e+03, 2.79485550e+02, 4.31340000e+00,\n",
       "       2.03666550e+02, 1.56941350e+02, 2.41908700e+03, 1.10620000e+04,\n",
       "       2.20000000e+01, 9.00421000e+03, 1.36160000e+04, 2.17710000e+04,\n",
       "       1.98288000e+02, 1.75925950e+02, 1.06400000e+03, 2.74960000e+02,\n",
       "       1.37562730e+03, 5.72075250e+02, 8.24954500e+02, 1.17206000e+03,\n",
       "       1.89428100e+02, 6.39612000e+03, 2.85119100e+03, 4.45320300e+03,\n",
       "       7.03365500e+01, 3.52708500e+03, 9.72214500e+01, 3.38400000e+03,\n",
       "       2.14900000e+04, 7.91570000e+03, 6.33763000e+03, 4.57441300e+02,\n",
       "       2.88700000e+03, 6.17362000e+03, 7.27046500e+01, 1.30364900e+02,\n",
       "       2.80468610e+03, 4.92674250e+02, 3.84935650e+02, 4.40718335e+03,\n",
       "       3.06553530e+03, 1.67025000e+03, 5.18720000e+02, 5.75209500e+01,\n",
       "       1.66040000e+04, 2.15269000e+03, 1.55069000e+03, 2.40644000e+03,\n",
       "       1.31400000e+03, 4.65500000e+03, 7.79781500e+01, 4.81282000e+03,\n",
       "       5.02636200e+03, 4.07044550e+02, 1.32432728e+03, 5.80900000e+03,\n",
       "       6.22569300e+03, 3.02012350e+02, 3.44359550e+02, 6.33700000e+03,\n",
       "       1.73684215e+03, 7.03335650e+02, 4.79808900e+02, 3.25603800e+02,\n",
       "       3.11986300e+03, 2.33791170e+03, 1.20140280e+03, 2.42181000e+02,\n",
       "       1.74145000e+02, 2.03596900e+02, 3.70625000e+02, 6.60525900e+03,\n",
       "       1.19813600e+03, 7.58627800e+02, 6.99278000e+03, 2.85205000e+03,\n",
       "       1.15630580e+03, 3.51160000e+04, 2.15009550e+03, 3.30057000e+03,\n",
       "       7.01821700e+03, 9.99170000e+02, 1.75866250e+02, 3.15605367e+03,\n",
       "       8.65400000e+02])"
      ]
     },
     "execution_count": 101,
     "metadata": {},
     "output_type": "execute_result"
    }
   ],
   "source": [
    "df['generation_gwh_2017'].unique()"
   ]
  },
  {
   "cell_type": "code",
   "execution_count": 102,
   "id": "e0020ffe",
   "metadata": {},
   "outputs": [
    {
     "data": {
      "text/plain": [
       "467"
      ]
     },
     "execution_count": 102,
     "metadata": {},
     "output_type": "execute_result"
    }
   ],
   "source": [
    "df['generation_gwh_2017'].isna().sum()"
   ]
  },
  {
   "cell_type": "code",
   "execution_count": 103,
   "id": "127eb8e2",
   "metadata": {},
   "outputs": [
    {
     "data": {
      "text/plain": [
       "2547.759304510204"
      ]
     },
     "execution_count": 103,
     "metadata": {},
     "output_type": "execute_result"
    }
   ],
   "source": [
    "df['generation_gwh_2017'].mean()"
   ]
  },
  {
   "cell_type": "code",
   "execution_count": 104,
   "id": "d69726da",
   "metadata": {},
   "outputs": [],
   "source": [
    "df['generation_gwh_2017'] = df['generation_gwh_2017'].fillna(df['generation_gwh_2017'].mean())"
   ]
  },
  {
   "cell_type": "code",
   "execution_count": 105,
   "id": "630b9f04",
   "metadata": {},
   "outputs": [
    {
     "data": {
      "text/plain": [
       "0"
      ]
     },
     "execution_count": 105,
     "metadata": {},
     "output_type": "execute_result"
    }
   ],
   "source": [
    "df['generation_gwh_2017'].isna().sum()"
   ]
  },
  {
   "cell_type": "code",
   "execution_count": null,
   "id": "54259368",
   "metadata": {},
   "outputs": [],
   "source": []
  },
  {
   "cell_type": "code",
   "execution_count": null,
   "id": "b38bb5ed",
   "metadata": {},
   "outputs": [],
   "source": []
  },
  {
   "cell_type": "code",
   "execution_count": 106,
   "id": "999893a7",
   "metadata": {
    "scrolled": true
   },
   "outputs": [
    {
     "data": {
      "text/plain": [
       "array([           nan, 6.26239128e+02, 7.27900000e+03, 9.76655000e+02,\n",
       "       4.83271500e+01, 5.79318850e+02, 4.06377900e+02, 1.48788000e+03,\n",
       "       3.71715400e+03, 4.25641100e+02, 7.87397300e+03, 1.86976559e+04,\n",
       "       5.28280000e+02, 6.24180100e+03, 5.21000000e+02, 0.00000000e+00,\n",
       "       1.26800000e+03, 2.27969425e+03, 1.84862045e+03, 3.64836650e+02,\n",
       "       6.52664500e+03, 2.55300000e+03, 1.72354895e+03, 1.94495000e+03,\n",
       "       1.16634200e+03, 5.75458250e+02, 3.69045500e+01, 8.48934000e+01,\n",
       "       6.34482000e+03, 1.73720000e+02, 4.01506167e+01, 3.54409050e+02,\n",
       "       9.33400000e+03, 1.33912800e+02, 1.17900700e+03, 5.60000000e-02,\n",
       "       1.26920210e+03, 2.50302200e+02, 3.78775000e+03, 5.49339500e+01,\n",
       "       4.21699905e+03, 5.61578000e+01, 4.67430000e+02, 7.67742000e+01,\n",
       "       3.38897000e+01, 6.98490000e+01, 3.13930800e+03, 9.05241050e+02,\n",
       "       9.40971500e+01, 3.14320500e+02, 6.14642200e+03, 2.29963000e+03,\n",
       "       1.29485400e+03, 2.75010000e+03, 5.67610000e+02, 2.57406200e+03,\n",
       "       2.63760000e-01, 5.55251000e+03, 2.86639600e+02, 2.02627000e+03,\n",
       "       4.31777553e+02, 1.50047990e+03, 2.47213720e+03, 1.03820290e+03,\n",
       "       3.23493641e+03, 1.46916200e+04, 1.36762750e+02, 7.30567198e+01,\n",
       "       9.47800000e+03, 8.05482350e+02, 6.29247950e+02, 4.87152000e+01,\n",
       "       4.15313000e+02, 2.09873100e+03, 9.86113600e+03, 1.60500000e+03,\n",
       "       6.46953900e+03, 3.21016850e+03, 3.95056600e+03, 1.46742600e+02,\n",
       "       2.18890050e+02, 3.26801000e+03, 2.96600000e+03, 1.10067895e+03,\n",
       "       2.02349000e+01, 6.56549000e+02, 4.59928800e+02, 2.30312650e+02,\n",
       "       2.26201310e+03, 8.56200000e+02, 5.98137100e+03, 1.38471500e+04,\n",
       "       5.78000000e+02, 6.80981000e+02, 4.01811000e+02, 1.52725800e+03,\n",
       "       3.32636900e+03, 2.48630600e+02, 5.96373150e+02, 8.02666500e+01,\n",
       "       1.92015100e+02, 2.24510000e+03, 2.13377750e+02, 3.57498000e+03,\n",
       "       1.11042000e+03, 2.21167000e+03, 4.26528000e+03, 1.91139500e+01,\n",
       "       2.41864600e+02, 2.34960000e+01, 3.40821000e+02, 5.45837100e+02,\n",
       "       2.86951950e+03, 2.73898450e+03, 5.77005000e+02, 3.43772500e+02,\n",
       "       2.90582785e+03, 1.35491000e+02, 7.27500000e+01, 1.30224605e+03,\n",
       "       6.96660400e+03, 5.10903000e+03, 2.45765000e+02, 1.96054800e+02,\n",
       "       6.01672000e+03, 7.98381000e+02, 1.93467800e+02, 2.48257990e+03,\n",
       "       4.07701250e+02, 7.35232000e+03, 4.32576250e+02, 2.36203050e+02,\n",
       "       3.73970750e+02, 1.53052200e+04, 6.53235000e+03, 7.32126790e+03,\n",
       "       2.20551700e+02, 8.81020000e+02, 2.76396075e+03, 5.93179200e+02,\n",
       "       5.18060000e+03, 6.23368600e+03, 2.14170000e+02, 3.70856400e+02,\n",
       "       3.94884655e+03, 6.33420000e+02, 1.68937800e+03, 1.17648800e+02,\n",
       "       8.15984131e+02, 1.59642324e+03, 7.17900000e+03, 2.42800000e+03,\n",
       "       1.26589500e+02, 2.02800900e+02, 2.84709300e+02, 2.31088750e+02,\n",
       "       3.67831600e+02, 3.40777550e+02, 5.26603750e+02, 3.43832200e+02,\n",
       "       1.93109600e+02, 5.97559140e+03, 2.98360000e+00, 3.92627200e+03,\n",
       "       2.99886035e+03, 1.62981600e+03, 1.11223090e+03, 7.68186000e+03,\n",
       "       1.87840000e+04, 4.87116700e+03, 8.97164935e+03, 7.04963800e+03,\n",
       "       1.21772080e+03, 6.06552000e+02, 2.25474026e+02, 2.75411025e+03,\n",
       "       6.97000000e+03, 1.45817250e+02, 1.60094505e+03, 5.56231000e+03,\n",
       "       1.84240800e+02, 9.95621000e+02, 6.56532000e+02, 4.20994450e+02,\n",
       "       2.68918650e+02, 1.34165800e+02, 3.21144300e+03, 8.63352700e+03,\n",
       "       6.81300000e+03, 8.40558638e+02, 5.12748800e+03, 2.49107225e+02,\n",
       "       5.90890700e+02, 2.51267350e+02, 5.99596950e+02, 5.86383350e+02,\n",
       "       1.52543450e+02, 2.19218400e+02, 5.22554100e+02, 1.08858970e+03,\n",
       "       1.36791000e+03, 5.90711600e+02, 8.85450500e+01, 2.65713200e+03,\n",
       "       2.99100000e+03, 6.43509000e+03, 1.16494600e+02, 1.00853200e+02,\n",
       "       6.85795000e+03, 6.66590300e+02, 1.72407630e+03, 1.26494100e+02,\n",
       "       6.05326000e+03, 9.69926000e+01, 6.50853500e+01, 6.30295500e+03,\n",
       "       5.42875900e+03, 2.98051200e+03, 5.31433600e+03, 5.85607250e+02,\n",
       "       2.93469000e+03, 6.55828000e+02, 1.11795500e+04, 1.61180050e+02,\n",
       "       1.23790935e+03, 2.21780000e+04, 2.47520000e+04, 8.89729000e+01,\n",
       "       2.70783900e+03, 3.61135250e+02, 2.83184000e+03, 2.54290000e+03,\n",
       "       3.37125900e+02, 4.96704000e+01, 2.98663000e+02, 3.75960750e+02,\n",
       "       2.05728800e+03, 6.47461425e+03, 2.82099400e+03, 1.79129850e+02,\n",
       "       2.70733700e+03, 2.69111400e+03, 9.69193900e+03, 1.63806700e+03,\n",
       "       1.17580500e+03, 6.91539000e+03, 1.05022250e+02, 6.80944000e+01,\n",
       "       3.63276000e+03, 6.28492000e+03, 5.30335000e+01, 1.01042250e+02,\n",
       "       2.29874850e+02, 3.31905400e+03, 6.08979800e+02, 2.85000000e+02,\n",
       "       7.90447000e+03, 4.51595480e+03, 1.84323750e+02, 7.93910500e+01,\n",
       "       3.07509000e+03, 1.14017050e+02, 1.20305450e+02, 2.35410700e+03,\n",
       "       6.05258500e+02, 3.45409673e+02, 4.50533000e+03, 2.53615147e+03,\n",
       "       4.57103000e+01, 3.94292000e+03, 1.30951950e+02, 6.99485000e+02,\n",
       "       4.75900000e+02, 3.15415000e+01, 1.50499720e+03, 9.41270000e+01,\n",
       "       3.47619910e+03, 1.47942200e+03, 1.64175000e+02, 7.20040000e+03,\n",
       "       1.72135000e+01, 1.09845015e+03, 2.19397500e+01, 5.05420200e+02,\n",
       "       7.19506000e+03, 3.32648400e+02, 2.99003350e+03, 8.06538000e+03,\n",
       "       3.00260700e+03, 2.56680000e+03, 7.96199000e+01, 3.61479411e+03,\n",
       "       8.65817000e+03, 1.87199300e+02, 9.55565050e+02, 2.35745350e+02,\n",
       "       1.81962615e+03, 1.04659075e+03, 3.47344550e+02, 1.44724740e+03,\n",
       "       6.89008000e+02, 4.37870900e+03, 5.94970600e+03, 8.33700550e+02,\n",
       "       2.12536240e+04, 5.58901450e+02, 4.37550000e+02, 1.57283000e+03,\n",
       "       3.96055000e+03, 3.72590000e+02, 1.73710000e+04, 5.91865800e+02,\n",
       "       1.50881800e+03, 5.48727600e+03, 4.06765950e+02, 3.39548725e+03,\n",
       "       5.86472900e+02, 7.97270300e+03, 3.24567200e+03, 1.29001750e+02,\n",
       "       3.09050000e+04, 6.75773300e+03, 2.34256400e+03, 9.06481547e+03,\n",
       "       1.22365100e+02, 4.95828400e+02, 4.70028050e+02, 4.76224910e+03,\n",
       "       5.23041650e+02, 2.01378050e+02, 2.19755700e+02, 2.46724250e+03,\n",
       "       1.17030000e+04, 8.95410000e+01, 8.20713000e+03, 1.36100000e+04,\n",
       "       2.26250000e+04, 2.87000000e+02, 2.82769050e+02, 1.60400000e+03,\n",
       "       2.57439400e+02, 1.36843345e+03, 5.48314650e+02, 9.80254100e+02,\n",
       "       5.28240000e+02, 1.00684050e+02, 6.10430000e+03, 3.08337000e+03,\n",
       "       6.47669600e+03, 9.20872500e+01, 1.09472000e+01, 7.27543000e+03,\n",
       "       1.51777300e+02, 3.22400000e+03, 1.98500000e+04, 9.85950000e+03,\n",
       "       6.66085300e+03, 4.50625550e+02, 2.05141000e+03, 9.84576000e+03,\n",
       "       4.21611350e+02, 8.50426500e+01, 2.68795270e+03, 7.04907750e+02,\n",
       "       5.69199700e+02, 4.23710800e+03, 3.15621960e+03, 1.47396000e+03,\n",
       "       3.05400000e+01, 1.10405200e+02, 2.05180000e+04, 2.28949000e+03,\n",
       "       1.22150000e+03, 2.54971000e+03, 1.37100000e+03, 4.72100000e+03,\n",
       "       1.67597800e+02, 5.80785400e+03, 5.11327100e+03, 3.73742895e+02,\n",
       "       1.72912000e+03, 4.88379000e+03, 6.38070400e+03, 2.09527100e+02,\n",
       "       2.50451450e+02, 6.55200000e+03, 2.13113080e+03, 9.18633750e+02,\n",
       "       4.73958300e+02, 3.04440150e+02, 2.50589700e+03, 3.03304855e+03,\n",
       "       1.57301540e+03, 4.00650000e+02, 1.77702300e+02, 1.53399150e+02,\n",
       "       3.47869000e+02, 7.11142000e+03, 1.12596100e+03, 1.23757105e+03,\n",
       "       6.94937000e+03, 2.95355500e+03, 1.08209025e+03, 3.51360000e+04,\n",
       "       1.92235990e+03, 9.03130000e+02, 7.58230000e+03, 9.40390000e+02,\n",
       "       2.36491600e+02, 3.03966118e+03, 6.86500000e+02])"
      ]
     },
     "execution_count": 106,
     "metadata": {},
     "output_type": "execute_result"
    }
   ],
   "source": [
    "df['generation_gwh_2018'].unique()"
   ]
  },
  {
   "cell_type": "code",
   "execution_count": 107,
   "id": "285c4e2f",
   "metadata": {},
   "outputs": [
    {
     "data": {
      "text/plain": [
       "459"
      ]
     },
     "execution_count": 107,
     "metadata": {},
     "output_type": "execute_result"
    }
   ],
   "source": [
    "df['generation_gwh_2018'].isna().sum()"
   ]
  },
  {
   "cell_type": "code",
   "execution_count": 108,
   "id": "36a8f2e5",
   "metadata": {},
   "outputs": [
    {
     "data": {
      "text/plain": [
       "2600.804098662014"
      ]
     },
     "execution_count": 108,
     "metadata": {},
     "output_type": "execute_result"
    }
   ],
   "source": [
    "df['generation_gwh_2018'].mean()"
   ]
  },
  {
   "cell_type": "code",
   "execution_count": 109,
   "id": "99410186",
   "metadata": {},
   "outputs": [],
   "source": [
    "df['generation_gwh_2018'] = df['generation_gwh_2018'].fillna(df['generation_gwh_2018'].mean())"
   ]
  },
  {
   "cell_type": "code",
   "execution_count": 110,
   "id": "df1a0841",
   "metadata": {},
   "outputs": [
    {
     "data": {
      "text/plain": [
       "0"
      ]
     },
     "execution_count": 110,
     "metadata": {},
     "output_type": "execute_result"
    }
   ],
   "source": [
    "df['generation_gwh_2018'].isna().sum()"
   ]
  },
  {
   "cell_type": "code",
   "execution_count": null,
   "id": "0f816665",
   "metadata": {},
   "outputs": [],
   "source": []
  },
  {
   "cell_type": "code",
   "execution_count": null,
   "id": "423a28d1",
   "metadata": {},
   "outputs": [],
   "source": []
  },
  {
   "cell_type": "code",
   "execution_count": null,
   "id": "0940ed46",
   "metadata": {},
   "outputs": [],
   "source": []
  },
  {
   "cell_type": "code",
   "execution_count": 111,
   "id": "5e03370c",
   "metadata": {},
   "outputs": [
    {
     "data": {
      "text/plain": [
       "array([nan])"
      ]
     },
     "execution_count": 111,
     "metadata": {},
     "output_type": "execute_result"
    }
   ],
   "source": [
    "df['generation_gwh_2019'].unique()"
   ]
  },
  {
   "cell_type": "code",
   "execution_count": 112,
   "id": "53a5904c",
   "metadata": {},
   "outputs": [
    {
     "data": {
      "text/plain": [
       "907"
      ]
     },
     "execution_count": 112,
     "metadata": {},
     "output_type": "execute_result"
    }
   ],
   "source": [
    "df['generation_gwh_2019'].isna().sum()"
   ]
  },
  {
   "cell_type": "code",
   "execution_count": 113,
   "id": "44d60d7c",
   "metadata": {},
   "outputs": [],
   "source": [
    "df = df.drop(columns=['generation_gwh_2019'])"
   ]
  },
  {
   "cell_type": "code",
   "execution_count": 114,
   "id": "b5233685",
   "metadata": {},
   "outputs": [
    {
     "data": {
      "text/plain": [
       "(907, 20)"
      ]
     },
     "execution_count": 114,
     "metadata": {},
     "output_type": "execute_result"
    }
   ],
   "source": [
    "df.shape"
   ]
  },
  {
   "cell_type": "code",
   "execution_count": null,
   "id": "4ce94f5c",
   "metadata": {},
   "outputs": [],
   "source": []
  },
  {
   "cell_type": "code",
   "execution_count": null,
   "id": "c991bfd3",
   "metadata": {},
   "outputs": [],
   "source": []
  },
  {
   "cell_type": "code",
   "execution_count": 115,
   "id": "0a05033f",
   "metadata": {},
   "outputs": [
    {
     "data": {
      "text/plain": [
       "array([nan, 'Central Electricity Authority'], dtype=object)"
      ]
     },
     "execution_count": 115,
     "metadata": {},
     "output_type": "execute_result"
    }
   ],
   "source": [
    "df['generation_data_source'].unique()"
   ]
  },
  {
   "cell_type": "code",
   "execution_count": 116,
   "id": "7dc36c9f",
   "metadata": {},
   "outputs": [
    {
     "data": {
      "text/plain": [
       "458"
      ]
     },
     "execution_count": 116,
     "metadata": {},
     "output_type": "execute_result"
    }
   ],
   "source": [
    "df['generation_data_source'].isna().sum()"
   ]
  },
  {
   "cell_type": "code",
   "execution_count": 117,
   "id": "1d269633",
   "metadata": {},
   "outputs": [
    {
     "data": {
      "text/plain": [
       "0    Central Electricity Authority\n",
       "Name: generation_data_source, dtype: object"
      ]
     },
     "execution_count": 117,
     "metadata": {},
     "output_type": "execute_result"
    }
   ],
   "source": [
    "df['generation_data_source'].mode()"
   ]
  },
  {
   "cell_type": "code",
   "execution_count": 118,
   "id": "33794af6",
   "metadata": {},
   "outputs": [],
   "source": [
    "df['generation_data_source'] = df['generation_data_source'].fillna('Central Electricity Authority')"
   ]
  },
  {
   "cell_type": "code",
   "execution_count": 119,
   "id": "70a8d597",
   "metadata": {},
   "outputs": [
    {
     "data": {
      "text/plain": [
       "0"
      ]
     },
     "execution_count": 119,
     "metadata": {},
     "output_type": "execute_result"
    }
   ],
   "source": [
    "df['generation_data_source'].isna().sum()"
   ]
  },
  {
   "cell_type": "code",
   "execution_count": 120,
   "id": "671eb439",
   "metadata": {},
   "outputs": [],
   "source": [
    "df['generation_data_source'] = lab_enc.fit_transform(df['generation_data_source'])"
   ]
  },
  {
   "cell_type": "code",
   "execution_count": null,
   "id": "fa7c5095",
   "metadata": {},
   "outputs": [],
   "source": []
  },
  {
   "cell_type": "code",
   "execution_count": null,
   "id": "0aa256dc",
   "metadata": {},
   "outputs": [],
   "source": []
  },
  {
   "cell_type": "code",
   "execution_count": null,
   "id": "d571e971",
   "metadata": {},
   "outputs": [],
   "source": []
  },
  {
   "cell_type": "code",
   "execution_count": 121,
   "id": "143e7a3b",
   "metadata": {},
   "outputs": [
    {
     "data": {
      "text/plain": [
       "0     NaN\n",
       "1     NaN\n",
       "2     NaN\n",
       "3     NaN\n",
       "4     NaN\n",
       "       ..\n",
       "902   NaN\n",
       "903   NaN\n",
       "904   NaN\n",
       "905   NaN\n",
       "906   NaN\n",
       "Name: estimated_generation_gwh, Length: 907, dtype: float64"
      ]
     },
     "execution_count": 121,
     "metadata": {},
     "output_type": "execute_result"
    }
   ],
   "source": [
    "df['estimated_generation_gwh']"
   ]
  },
  {
   "cell_type": "code",
   "execution_count": 122,
   "id": "4c62dbf5",
   "metadata": {},
   "outputs": [
    {
     "data": {
      "text/plain": [
       "907"
      ]
     },
     "execution_count": 122,
     "metadata": {},
     "output_type": "execute_result"
    }
   ],
   "source": [
    "df['estimated_generation_gwh'].isna().sum()"
   ]
  },
  {
   "cell_type": "code",
   "execution_count": 123,
   "id": "2687527d",
   "metadata": {},
   "outputs": [],
   "source": [
    "df = df.drop(columns=['estimated_generation_gwh'])"
   ]
  },
  {
   "cell_type": "code",
   "execution_count": 124,
   "id": "0fc4d2bb",
   "metadata": {},
   "outputs": [
    {
     "data": {
      "text/plain": [
       "(907, 19)"
      ]
     },
     "execution_count": 124,
     "metadata": {},
     "output_type": "execute_result"
    }
   ],
   "source": [
    "df.shape"
   ]
  },
  {
   "cell_type": "code",
   "execution_count": null,
   "id": "49e26ee2",
   "metadata": {},
   "outputs": [],
   "source": []
  },
  {
   "cell_type": "code",
   "execution_count": 125,
   "id": "b14168ba",
   "metadata": {},
   "outputs": [],
   "source": [
    "# after dealing with null values and encoding the required column let's check for dataset"
   ]
  },
  {
   "cell_type": "code",
   "execution_count": null,
   "id": "e4e880f7",
   "metadata": {},
   "outputs": [],
   "source": []
  },
  {
   "cell_type": "code",
   "execution_count": 126,
   "id": "e9af3cf6",
   "metadata": {},
   "outputs": [
    {
     "data": {
      "text/html": [
       "<div>\n",
       "<style scoped>\n",
       "    .dataframe tbody tr th:only-of-type {\n",
       "        vertical-align: middle;\n",
       "    }\n",
       "\n",
       "    .dataframe tbody tr th {\n",
       "        vertical-align: top;\n",
       "    }\n",
       "\n",
       "    .dataframe thead th {\n",
       "        text-align: right;\n",
       "    }\n",
       "</style>\n",
       "<table border=\"1\" class=\"dataframe\">\n",
       "  <thead>\n",
       "    <tr style=\"text-align: right;\">\n",
       "      <th></th>\n",
       "      <th>country</th>\n",
       "      <th>country_long</th>\n",
       "      <th>name</th>\n",
       "      <th>gppd_idnr</th>\n",
       "      <th>capacity_mw</th>\n",
       "      <th>latitude</th>\n",
       "      <th>longitude</th>\n",
       "      <th>primary_fuel</th>\n",
       "      <th>other_fuel1</th>\n",
       "      <th>commissioning_year</th>\n",
       "      <th>source</th>\n",
       "      <th>geolocation_source</th>\n",
       "      <th>year_of_capacity_data</th>\n",
       "      <th>generation_gwh_2014</th>\n",
       "      <th>generation_gwh_2015</th>\n",
       "      <th>generation_gwh_2016</th>\n",
       "      <th>generation_gwh_2017</th>\n",
       "      <th>generation_gwh_2018</th>\n",
       "      <th>generation_data_source</th>\n",
       "    </tr>\n",
       "  </thead>\n",
       "  <tbody>\n",
       "    <tr>\n",
       "      <th>0</th>\n",
       "      <td>0</td>\n",
       "      <td>0</td>\n",
       "      <td>0</td>\n",
       "      <td>657</td>\n",
       "      <td>2.5</td>\n",
       "      <td>28.1839</td>\n",
       "      <td>73.2407</td>\n",
       "      <td>6</td>\n",
       "      <td>2</td>\n",
       "      <td>2011.0</td>\n",
       "      <td>109</td>\n",
       "      <td>1</td>\n",
       "      <td>2019.0</td>\n",
       "      <td>2431.823590</td>\n",
       "      <td>2428.226946</td>\n",
       "      <td>2467.936859</td>\n",
       "      <td>2547.759305</td>\n",
       "      <td>2600.804099</td>\n",
       "      <td>0</td>\n",
       "    </tr>\n",
       "    <tr>\n",
       "      <th>1</th>\n",
       "      <td>0</td>\n",
       "      <td>0</td>\n",
       "      <td>1</td>\n",
       "      <td>519</td>\n",
       "      <td>98.0</td>\n",
       "      <td>24.7663</td>\n",
       "      <td>74.6090</td>\n",
       "      <td>1</td>\n",
       "      <td>2</td>\n",
       "      <td>2015.0</td>\n",
       "      <td>174</td>\n",
       "      <td>2</td>\n",
       "      <td>2019.0</td>\n",
       "      <td>2431.823590</td>\n",
       "      <td>2428.226946</td>\n",
       "      <td>2467.936859</td>\n",
       "      <td>2547.759305</td>\n",
       "      <td>2600.804099</td>\n",
       "      <td>0</td>\n",
       "    </tr>\n",
       "    <tr>\n",
       "      <th>2</th>\n",
       "      <td>0</td>\n",
       "      <td>0</td>\n",
       "      <td>2</td>\n",
       "      <td>853</td>\n",
       "      <td>39.2</td>\n",
       "      <td>21.9038</td>\n",
       "      <td>69.3732</td>\n",
       "      <td>7</td>\n",
       "      <td>2</td>\n",
       "      <td>2015.0</td>\n",
       "      <td>21</td>\n",
       "      <td>2</td>\n",
       "      <td>2019.0</td>\n",
       "      <td>2431.823590</td>\n",
       "      <td>2428.226946</td>\n",
       "      <td>2467.936859</td>\n",
       "      <td>2547.759305</td>\n",
       "      <td>2600.804099</td>\n",
       "      <td>0</td>\n",
       "    </tr>\n",
       "    <tr>\n",
       "      <th>3</th>\n",
       "      <td>0</td>\n",
       "      <td>0</td>\n",
       "      <td>3</td>\n",
       "      <td>0</td>\n",
       "      <td>135.0</td>\n",
       "      <td>23.8712</td>\n",
       "      <td>91.3602</td>\n",
       "      <td>2</td>\n",
       "      <td>2</td>\n",
       "      <td>2004.0</td>\n",
       "      <td>22</td>\n",
       "      <td>2</td>\n",
       "      <td>2019.0</td>\n",
       "      <td>617.789264</td>\n",
       "      <td>843.747000</td>\n",
       "      <td>886.004428</td>\n",
       "      <td>663.774500</td>\n",
       "      <td>626.239128</td>\n",
       "      <td>0</td>\n",
       "    </tr>\n",
       "    <tr>\n",
       "      <th>4</th>\n",
       "      <td>0</td>\n",
       "      <td>0</td>\n",
       "      <td>4</td>\n",
       "      <td>1</td>\n",
       "      <td>1800.0</td>\n",
       "      <td>21.9603</td>\n",
       "      <td>82.4091</td>\n",
       "      <td>1</td>\n",
       "      <td>2</td>\n",
       "      <td>2015.0</td>\n",
       "      <td>22</td>\n",
       "      <td>2</td>\n",
       "      <td>2019.0</td>\n",
       "      <td>3035.550000</td>\n",
       "      <td>5916.370000</td>\n",
       "      <td>6243.000000</td>\n",
       "      <td>5385.579736</td>\n",
       "      <td>7279.000000</td>\n",
       "      <td>0</td>\n",
       "    </tr>\n",
       "    <tr>\n",
       "      <th>...</th>\n",
       "      <td>...</td>\n",
       "      <td>...</td>\n",
       "      <td>...</td>\n",
       "      <td>...</td>\n",
       "      <td>...</td>\n",
       "      <td>...</td>\n",
       "      <td>...</td>\n",
       "      <td>...</td>\n",
       "      <td>...</td>\n",
       "      <td>...</td>\n",
       "      <td>...</td>\n",
       "      <td>...</td>\n",
       "      <td>...</td>\n",
       "      <td>...</td>\n",
       "      <td>...</td>\n",
       "      <td>...</td>\n",
       "      <td>...</td>\n",
       "      <td>...</td>\n",
       "      <td>...</td>\n",
       "    </tr>\n",
       "    <tr>\n",
       "      <th>902</th>\n",
       "      <td>0</td>\n",
       "      <td>0</td>\n",
       "      <td>902</td>\n",
       "      <td>491</td>\n",
       "      <td>1600.0</td>\n",
       "      <td>16.2949</td>\n",
       "      <td>77.3568</td>\n",
       "      <td>1</td>\n",
       "      <td>2</td>\n",
       "      <td>2016.0</td>\n",
       "      <td>22</td>\n",
       "      <td>2</td>\n",
       "      <td>2019.0</td>\n",
       "      <td>2431.823590</td>\n",
       "      <td>0.994875</td>\n",
       "      <td>233.596650</td>\n",
       "      <td>865.400000</td>\n",
       "      <td>686.500000</td>\n",
       "      <td>0</td>\n",
       "    </tr>\n",
       "    <tr>\n",
       "      <th>903</th>\n",
       "      <td>0</td>\n",
       "      <td>0</td>\n",
       "      <td>903</td>\n",
       "      <td>822</td>\n",
       "      <td>3.0</td>\n",
       "      <td>12.8932</td>\n",
       "      <td>78.1654</td>\n",
       "      <td>6</td>\n",
       "      <td>2</td>\n",
       "      <td>2015.0</td>\n",
       "      <td>77</td>\n",
       "      <td>0</td>\n",
       "      <td>2019.0</td>\n",
       "      <td>2431.823590</td>\n",
       "      <td>2428.226946</td>\n",
       "      <td>2467.936859</td>\n",
       "      <td>2547.759305</td>\n",
       "      <td>2600.804099</td>\n",
       "      <td>0</td>\n",
       "    </tr>\n",
       "    <tr>\n",
       "      <th>904</th>\n",
       "      <td>0</td>\n",
       "      <td>0</td>\n",
       "      <td>904</td>\n",
       "      <td>891</td>\n",
       "      <td>25.5</td>\n",
       "      <td>15.2758</td>\n",
       "      <td>75.5811</td>\n",
       "      <td>7</td>\n",
       "      <td>2</td>\n",
       "      <td>2015.0</td>\n",
       "      <td>21</td>\n",
       "      <td>2</td>\n",
       "      <td>2019.0</td>\n",
       "      <td>2431.823590</td>\n",
       "      <td>2428.226946</td>\n",
       "      <td>2467.936859</td>\n",
       "      <td>2547.759305</td>\n",
       "      <td>2600.804099</td>\n",
       "      <td>0</td>\n",
       "    </tr>\n",
       "    <tr>\n",
       "      <th>905</th>\n",
       "      <td>0</td>\n",
       "      <td>0</td>\n",
       "      <td>905</td>\n",
       "      <td>539</td>\n",
       "      <td>80.0</td>\n",
       "      <td>24.3500</td>\n",
       "      <td>73.7477</td>\n",
       "      <td>1</td>\n",
       "      <td>2</td>\n",
       "      <td>2015.0</td>\n",
       "      <td>59</td>\n",
       "      <td>2</td>\n",
       "      <td>2019.0</td>\n",
       "      <td>2431.823590</td>\n",
       "      <td>2428.226946</td>\n",
       "      <td>2467.936859</td>\n",
       "      <td>2547.759305</td>\n",
       "      <td>2600.804099</td>\n",
       "      <td>0</td>\n",
       "    </tr>\n",
       "    <tr>\n",
       "      <th>906</th>\n",
       "      <td>0</td>\n",
       "      <td>0</td>\n",
       "      <td>906</td>\n",
       "      <td>876</td>\n",
       "      <td>16.5</td>\n",
       "      <td>9.9344</td>\n",
       "      <td>77.4768</td>\n",
       "      <td>7</td>\n",
       "      <td>2</td>\n",
       "      <td>2015.0</td>\n",
       "      <td>21</td>\n",
       "      <td>2</td>\n",
       "      <td>2019.0</td>\n",
       "      <td>2431.823590</td>\n",
       "      <td>2428.226946</td>\n",
       "      <td>2467.936859</td>\n",
       "      <td>2547.759305</td>\n",
       "      <td>2600.804099</td>\n",
       "      <td>0</td>\n",
       "    </tr>\n",
       "  </tbody>\n",
       "</table>\n",
       "<p>907 rows × 19 columns</p>\n",
       "</div>"
      ],
      "text/plain": [
       "     country  country_long  name  gppd_idnr  capacity_mw  latitude  longitude  \\\n",
       "0          0             0     0        657          2.5   28.1839    73.2407   \n",
       "1          0             0     1        519         98.0   24.7663    74.6090   \n",
       "2          0             0     2        853         39.2   21.9038    69.3732   \n",
       "3          0             0     3          0        135.0   23.8712    91.3602   \n",
       "4          0             0     4          1       1800.0   21.9603    82.4091   \n",
       "..       ...           ...   ...        ...          ...       ...        ...   \n",
       "902        0             0   902        491       1600.0   16.2949    77.3568   \n",
       "903        0             0   903        822          3.0   12.8932    78.1654   \n",
       "904        0             0   904        891         25.5   15.2758    75.5811   \n",
       "905        0             0   905        539         80.0   24.3500    73.7477   \n",
       "906        0             0   906        876         16.5    9.9344    77.4768   \n",
       "\n",
       "     primary_fuel  other_fuel1  commissioning_year  source  \\\n",
       "0               6            2              2011.0     109   \n",
       "1               1            2              2015.0     174   \n",
       "2               7            2              2015.0      21   \n",
       "3               2            2              2004.0      22   \n",
       "4               1            2              2015.0      22   \n",
       "..            ...          ...                 ...     ...   \n",
       "902             1            2              2016.0      22   \n",
       "903             6            2              2015.0      77   \n",
       "904             7            2              2015.0      21   \n",
       "905             1            2              2015.0      59   \n",
       "906             7            2              2015.0      21   \n",
       "\n",
       "     geolocation_source  year_of_capacity_data  generation_gwh_2014  \\\n",
       "0                     1                 2019.0          2431.823590   \n",
       "1                     2                 2019.0          2431.823590   \n",
       "2                     2                 2019.0          2431.823590   \n",
       "3                     2                 2019.0           617.789264   \n",
       "4                     2                 2019.0          3035.550000   \n",
       "..                  ...                    ...                  ...   \n",
       "902                   2                 2019.0          2431.823590   \n",
       "903                   0                 2019.0          2431.823590   \n",
       "904                   2                 2019.0          2431.823590   \n",
       "905                   2                 2019.0          2431.823590   \n",
       "906                   2                 2019.0          2431.823590   \n",
       "\n",
       "     generation_gwh_2015  generation_gwh_2016  generation_gwh_2017  \\\n",
       "0            2428.226946          2467.936859          2547.759305   \n",
       "1            2428.226946          2467.936859          2547.759305   \n",
       "2            2428.226946          2467.936859          2547.759305   \n",
       "3             843.747000           886.004428           663.774500   \n",
       "4            5916.370000          6243.000000          5385.579736   \n",
       "..                   ...                  ...                  ...   \n",
       "902             0.994875           233.596650           865.400000   \n",
       "903          2428.226946          2467.936859          2547.759305   \n",
       "904          2428.226946          2467.936859          2547.759305   \n",
       "905          2428.226946          2467.936859          2547.759305   \n",
       "906          2428.226946          2467.936859          2547.759305   \n",
       "\n",
       "     generation_gwh_2018  generation_data_source  \n",
       "0            2600.804099                       0  \n",
       "1            2600.804099                       0  \n",
       "2            2600.804099                       0  \n",
       "3             626.239128                       0  \n",
       "4            7279.000000                       0  \n",
       "..                   ...                     ...  \n",
       "902           686.500000                       0  \n",
       "903          2600.804099                       0  \n",
       "904          2600.804099                       0  \n",
       "905          2600.804099                       0  \n",
       "906          2600.804099                       0  \n",
       "\n",
       "[907 rows x 19 columns]"
      ]
     },
     "execution_count": 126,
     "metadata": {},
     "output_type": "execute_result"
    }
   ],
   "source": [
    "df"
   ]
  },
  {
   "cell_type": "code",
   "execution_count": 127,
   "id": "7f765f13",
   "metadata": {},
   "outputs": [
    {
     "data": {
      "text/html": [
       "<div>\n",
       "<style scoped>\n",
       "    .dataframe tbody tr th:only-of-type {\n",
       "        vertical-align: middle;\n",
       "    }\n",
       "\n",
       "    .dataframe tbody tr th {\n",
       "        vertical-align: top;\n",
       "    }\n",
       "\n",
       "    .dataframe thead th {\n",
       "        text-align: right;\n",
       "    }\n",
       "</style>\n",
       "<table border=\"1\" class=\"dataframe\">\n",
       "  <thead>\n",
       "    <tr style=\"text-align: right;\">\n",
       "      <th></th>\n",
       "      <th>country</th>\n",
       "      <th>country_long</th>\n",
       "      <th>name</th>\n",
       "      <th>gppd_idnr</th>\n",
       "      <th>capacity_mw</th>\n",
       "      <th>latitude</th>\n",
       "      <th>longitude</th>\n",
       "      <th>primary_fuel</th>\n",
       "      <th>other_fuel1</th>\n",
       "      <th>commissioning_year</th>\n",
       "      <th>source</th>\n",
       "      <th>geolocation_source</th>\n",
       "      <th>year_of_capacity_data</th>\n",
       "      <th>generation_gwh_2014</th>\n",
       "      <th>generation_gwh_2015</th>\n",
       "      <th>generation_gwh_2016</th>\n",
       "      <th>generation_gwh_2017</th>\n",
       "      <th>generation_gwh_2018</th>\n",
       "      <th>generation_data_source</th>\n",
       "    </tr>\n",
       "  </thead>\n",
       "  <tbody>\n",
       "    <tr>\n",
       "      <th>count</th>\n",
       "      <td>907.0</td>\n",
       "      <td>907.0</td>\n",
       "      <td>907.000000</td>\n",
       "      <td>907.000000</td>\n",
       "      <td>907.000000</td>\n",
       "      <td>907.000000</td>\n",
       "      <td>907.000000</td>\n",
       "      <td>907.000000</td>\n",
       "      <td>907.000000</td>\n",
       "      <td>907.000000</td>\n",
       "      <td>907.000000</td>\n",
       "      <td>907.000000</td>\n",
       "      <td>907.0</td>\n",
       "      <td>907.000000</td>\n",
       "      <td>907.000000</td>\n",
       "      <td>907.000000</td>\n",
       "      <td>907.000000</td>\n",
       "      <td>907.000000</td>\n",
       "      <td>907.0</td>\n",
       "    </tr>\n",
       "    <tr>\n",
       "      <th>mean</th>\n",
       "      <td>0.0</td>\n",
       "      <td>0.0</td>\n",
       "      <td>453.000000</td>\n",
       "      <td>453.000000</td>\n",
       "      <td>326.223755</td>\n",
       "      <td>21.086467</td>\n",
       "      <td>77.172109</td>\n",
       "      <td>3.206174</td>\n",
       "      <td>1.995590</td>\n",
       "      <td>2004.594267</td>\n",
       "      <td>43.847850</td>\n",
       "      <td>1.733186</td>\n",
       "      <td>2019.0</td>\n",
       "      <td>2431.823590</td>\n",
       "      <td>2428.226946</td>\n",
       "      <td>2467.936859</td>\n",
       "      <td>2547.759305</td>\n",
       "      <td>2600.804099</td>\n",
       "      <td>0.0</td>\n",
       "    </tr>\n",
       "    <tr>\n",
       "      <th>std</th>\n",
       "      <td>0.0</td>\n",
       "      <td>0.0</td>\n",
       "      <td>261.972645</td>\n",
       "      <td>261.972645</td>\n",
       "      <td>590.085456</td>\n",
       "      <td>6.098262</td>\n",
       "      <td>4.976401</td>\n",
       "      <td>2.280652</td>\n",
       "      <td>0.081259</td>\n",
       "      <td>15.734928</td>\n",
       "      <td>44.642818</td>\n",
       "      <td>0.677151</td>\n",
       "      <td>0.0</td>\n",
       "      <td>2665.338608</td>\n",
       "      <td>2859.349132</td>\n",
       "      <td>2877.890004</td>\n",
       "      <td>2921.502193</td>\n",
       "      <td>3030.808041</td>\n",
       "      <td>0.0</td>\n",
       "    </tr>\n",
       "    <tr>\n",
       "      <th>min</th>\n",
       "      <td>0.0</td>\n",
       "      <td>0.0</td>\n",
       "      <td>0.000000</td>\n",
       "      <td>0.000000</td>\n",
       "      <td>0.000000</td>\n",
       "      <td>8.168900</td>\n",
       "      <td>68.644700</td>\n",
       "      <td>0.000000</td>\n",
       "      <td>0.000000</td>\n",
       "      <td>1927.000000</td>\n",
       "      <td>0.000000</td>\n",
       "      <td>0.000000</td>\n",
       "      <td>2019.0</td>\n",
       "      <td>0.000000</td>\n",
       "      <td>0.000000</td>\n",
       "      <td>0.000000</td>\n",
       "      <td>0.000000</td>\n",
       "      <td>0.000000</td>\n",
       "      <td>0.0</td>\n",
       "    </tr>\n",
       "    <tr>\n",
       "      <th>25%</th>\n",
       "      <td>0.0</td>\n",
       "      <td>0.0</td>\n",
       "      <td>226.500000</td>\n",
       "      <td>226.500000</td>\n",
       "      <td>16.725000</td>\n",
       "      <td>17.072000</td>\n",
       "      <td>73.811550</td>\n",
       "      <td>1.000000</td>\n",
       "      <td>2.000000</td>\n",
       "      <td>1998.000000</td>\n",
       "      <td>22.000000</td>\n",
       "      <td>2.000000</td>\n",
       "      <td>2019.0</td>\n",
       "      <td>1211.362750</td>\n",
       "      <td>916.000000</td>\n",
       "      <td>896.500214</td>\n",
       "      <td>882.594850</td>\n",
       "      <td>824.842340</td>\n",
       "      <td>0.0</td>\n",
       "    </tr>\n",
       "    <tr>\n",
       "      <th>50%</th>\n",
       "      <td>0.0</td>\n",
       "      <td>0.0</td>\n",
       "      <td>453.000000</td>\n",
       "      <td>453.000000</td>\n",
       "      <td>59.200000</td>\n",
       "      <td>21.281800</td>\n",
       "      <td>76.493800</td>\n",
       "      <td>3.000000</td>\n",
       "      <td>2.000000</td>\n",
       "      <td>2014.000000</td>\n",
       "      <td>22.000000</td>\n",
       "      <td>2.000000</td>\n",
       "      <td>2019.0</td>\n",
       "      <td>2431.823590</td>\n",
       "      <td>2428.226946</td>\n",
       "      <td>2467.936859</td>\n",
       "      <td>2547.759305</td>\n",
       "      <td>2600.804099</td>\n",
       "      <td>0.0</td>\n",
       "    </tr>\n",
       "    <tr>\n",
       "      <th>75%</th>\n",
       "      <td>0.0</td>\n",
       "      <td>0.0</td>\n",
       "      <td>679.500000</td>\n",
       "      <td>679.500000</td>\n",
       "      <td>385.250000</td>\n",
       "      <td>25.176450</td>\n",
       "      <td>79.206100</td>\n",
       "      <td>6.000000</td>\n",
       "      <td>2.000000</td>\n",
       "      <td>2015.000000</td>\n",
       "      <td>29.500000</td>\n",
       "      <td>2.000000</td>\n",
       "      <td>2019.0</td>\n",
       "      <td>2431.823590</td>\n",
       "      <td>2428.226946</td>\n",
       "      <td>2467.936859</td>\n",
       "      <td>2547.759305</td>\n",
       "      <td>2600.804099</td>\n",
       "      <td>0.0</td>\n",
       "    </tr>\n",
       "    <tr>\n",
       "      <th>max</th>\n",
       "      <td>0.0</td>\n",
       "      <td>0.0</td>\n",
       "      <td>906.000000</td>\n",
       "      <td>906.000000</td>\n",
       "      <td>4760.000000</td>\n",
       "      <td>34.649000</td>\n",
       "      <td>95.408000</td>\n",
       "      <td>7.000000</td>\n",
       "      <td>2.000000</td>\n",
       "      <td>2018.000000</td>\n",
       "      <td>190.000000</td>\n",
       "      <td>2.000000</td>\n",
       "      <td>2019.0</td>\n",
       "      <td>28127.000000</td>\n",
       "      <td>30539.000000</td>\n",
       "      <td>30015.000000</td>\n",
       "      <td>35116.000000</td>\n",
       "      <td>35136.000000</td>\n",
       "      <td>0.0</td>\n",
       "    </tr>\n",
       "  </tbody>\n",
       "</table>\n",
       "</div>"
      ],
      "text/plain": [
       "       country  country_long        name   gppd_idnr  capacity_mw    latitude  \\\n",
       "count    907.0         907.0  907.000000  907.000000   907.000000  907.000000   \n",
       "mean       0.0           0.0  453.000000  453.000000   326.223755   21.086467   \n",
       "std        0.0           0.0  261.972645  261.972645   590.085456    6.098262   \n",
       "min        0.0           0.0    0.000000    0.000000     0.000000    8.168900   \n",
       "25%        0.0           0.0  226.500000  226.500000    16.725000   17.072000   \n",
       "50%        0.0           0.0  453.000000  453.000000    59.200000   21.281800   \n",
       "75%        0.0           0.0  679.500000  679.500000   385.250000   25.176450   \n",
       "max        0.0           0.0  906.000000  906.000000  4760.000000   34.649000   \n",
       "\n",
       "        longitude  primary_fuel  other_fuel1  commissioning_year      source  \\\n",
       "count  907.000000    907.000000   907.000000          907.000000  907.000000   \n",
       "mean    77.172109      3.206174     1.995590         2004.594267   43.847850   \n",
       "std      4.976401      2.280652     0.081259           15.734928   44.642818   \n",
       "min     68.644700      0.000000     0.000000         1927.000000    0.000000   \n",
       "25%     73.811550      1.000000     2.000000         1998.000000   22.000000   \n",
       "50%     76.493800      3.000000     2.000000         2014.000000   22.000000   \n",
       "75%     79.206100      6.000000     2.000000         2015.000000   29.500000   \n",
       "max     95.408000      7.000000     2.000000         2018.000000  190.000000   \n",
       "\n",
       "       geolocation_source  year_of_capacity_data  generation_gwh_2014  \\\n",
       "count          907.000000                  907.0           907.000000   \n",
       "mean             1.733186                 2019.0          2431.823590   \n",
       "std              0.677151                    0.0          2665.338608   \n",
       "min              0.000000                 2019.0             0.000000   \n",
       "25%              2.000000                 2019.0          1211.362750   \n",
       "50%              2.000000                 2019.0          2431.823590   \n",
       "75%              2.000000                 2019.0          2431.823590   \n",
       "max              2.000000                 2019.0         28127.000000   \n",
       "\n",
       "       generation_gwh_2015  generation_gwh_2016  generation_gwh_2017  \\\n",
       "count           907.000000           907.000000           907.000000   \n",
       "mean           2428.226946          2467.936859          2547.759305   \n",
       "std            2859.349132          2877.890004          2921.502193   \n",
       "min               0.000000             0.000000             0.000000   \n",
       "25%             916.000000           896.500214           882.594850   \n",
       "50%            2428.226946          2467.936859          2547.759305   \n",
       "75%            2428.226946          2467.936859          2547.759305   \n",
       "max           30539.000000         30015.000000         35116.000000   \n",
       "\n",
       "       generation_gwh_2018  generation_data_source  \n",
       "count           907.000000                   907.0  \n",
       "mean           2600.804099                     0.0  \n",
       "std            3030.808041                     0.0  \n",
       "min               0.000000                     0.0  \n",
       "25%             824.842340                     0.0  \n",
       "50%            2600.804099                     0.0  \n",
       "75%            2600.804099                     0.0  \n",
       "max           35136.000000                     0.0  "
      ]
     },
     "execution_count": 127,
     "metadata": {},
     "output_type": "execute_result"
    }
   ],
   "source": [
    "df.describe()"
   ]
  },
  {
   "cell_type": "code",
   "execution_count": null,
   "id": "ed70e173",
   "metadata": {},
   "outputs": [],
   "source": []
  },
  {
   "cell_type": "code",
   "execution_count": null,
   "id": "b3e82085",
   "metadata": {},
   "outputs": [],
   "source": []
  },
  {
   "cell_type": "code",
   "execution_count": 128,
   "id": "510a8925",
   "metadata": {},
   "outputs": [],
   "source": [
    "# now its time to plot the graph, let's import some necessary libraries"
   ]
  },
  {
   "cell_type": "code",
   "execution_count": null,
   "id": "1427399e",
   "metadata": {},
   "outputs": [],
   "source": []
  },
  {
   "cell_type": "code",
   "execution_count": 129,
   "id": "15b756be",
   "metadata": {},
   "outputs": [],
   "source": [
    "import matplotlib.pyplot as plt\n",
    "import seaborn as sns"
   ]
  },
  {
   "cell_type": "code",
   "execution_count": null,
   "id": "845a8758",
   "metadata": {},
   "outputs": [],
   "source": []
  },
  {
   "cell_type": "code",
   "execution_count": null,
   "id": "c1e55948",
   "metadata": {},
   "outputs": [],
   "source": []
  },
  {
   "cell_type": "code",
   "execution_count": 130,
   "id": "703c9091",
   "metadata": {},
   "outputs": [],
   "source": [
    "# Distribution plot"
   ]
  },
  {
   "cell_type": "code",
   "execution_count": null,
   "id": "0f5a043c",
   "metadata": {},
   "outputs": [],
   "source": []
  },
  {
   "cell_type": "code",
   "execution_count": 131,
   "id": "a10b02a8",
   "metadata": {},
   "outputs": [
    {
     "data": {
      "image/png": "[encoded data removed]",
      "text/plain": [
       "<Figure size 1440x720 with 19 Axes>"
      ]
     },
     "metadata": {},
     "output_type": "display_data"
    }
   ],
   "source": [
    "plt.figure(figsize=(20,10),facecolor='blue')\n",
    "plotnumber=1\n",
    "\n",
    "for column in df:\n",
    "    if plotnumber<=20:\n",
    "        ax = plt.subplot(4,5,plotnumber)\n",
    "        sns.distplot(df[column])\n",
    "        plt.xlabel(column,fontsize=15)\n",
    "        \n",
    "    plotnumber+=1\n",
    "    \n",
    "plt.show()"
   ]
  },
  {
   "cell_type": "code",
   "execution_count": null,
   "id": "025900e0",
   "metadata": {},
   "outputs": [],
   "source": []
  },
  {
   "cell_type": "code",
   "execution_count": 132,
   "id": "72c6d2d9",
   "metadata": {},
   "outputs": [],
   "source": [
    "# Boxplot"
   ]
  },
  {
   "cell_type": "code",
   "execution_count": null,
   "id": "d51684d0",
   "metadata": {},
   "outputs": [],
   "source": []
  },
  {
   "cell_type": "code",
   "execution_count": 133,
   "id": "fc125d8b",
   "metadata": {},
   "outputs": [
    {
     "data": {
      "image/png": "[encoded data removed]",
      "text/plain": [
       "<Figure size 1440x720 with 19 Axes>"
      ]
     },
     "metadata": {},
     "output_type": "display_data"
    }
   ],
   "source": [
    "plt.figure(figsize=(20,10),facecolor='blue')\n",
    "plotnumber=1\n",
    "\n",
    "for column in df:\n",
    "    if plotnumber<=20:\n",
    "        ax = plt.subplot(4,5,plotnumber)\n",
    "        plt.boxplot(df[column])\n",
    "        plt.xlabel(column,fontsize=10)\n",
    "        \n",
    "    plotnumber+=1\n",
    "    \n",
    "plt.show()"
   ]
  },
  {
   "cell_type": "code",
   "execution_count": 134,
   "id": "61935647",
   "metadata": {},
   "outputs": [
    {
     "data": {
      "text/plain": [
       "(907, 19)"
      ]
     },
     "execution_count": 134,
     "metadata": {},
     "output_type": "execute_result"
    }
   ],
   "source": [
    "df.shape"
   ]
  },
  {
   "cell_type": "code",
   "execution_count": 135,
   "id": "6d48e952",
   "metadata": {},
   "outputs": [
    {
     "data": {
      "text/plain": [
       "Index(['country', 'country_long', 'name', 'gppd_idnr', 'capacity_mw',\n",
       "       'latitude', 'longitude', 'primary_fuel', 'other_fuel1',\n",
       "       'commissioning_year', 'source', 'geolocation_source',\n",
       "       'year_of_capacity_data', 'generation_gwh_2014', 'generation_gwh_2015',\n",
       "       'generation_gwh_2016', 'generation_gwh_2017', 'generation_gwh_2018',\n",
       "       'generation_data_source'],\n",
       "      dtype='object')"
      ]
     },
     "execution_count": 135,
     "metadata": {},
     "output_type": "execute_result"
    }
   ],
   "source": [
    "df.columns"
   ]
  },
  {
   "cell_type": "code",
   "execution_count": null,
   "id": "4091b293",
   "metadata": {},
   "outputs": [],
   "source": []
  },
  {
   "cell_type": "code",
   "execution_count": 136,
   "id": "7b30d803",
   "metadata": {},
   "outputs": [],
   "source": [
    "# check for quantile and iqr"
   ]
  },
  {
   "cell_type": "code",
   "execution_count": null,
   "id": "5b828433",
   "metadata": {},
   "outputs": [],
   "source": []
  },
  {
   "cell_type": "code",
   "execution_count": 137,
   "id": "d62761ef",
   "metadata": {},
   "outputs": [],
   "source": [
    "q1 = df.quantile(0.25)"
   ]
  },
  {
   "cell_type": "code",
   "execution_count": 138,
   "id": "9000cf95",
   "metadata": {},
   "outputs": [],
   "source": [
    "q3 = df.quantile(0.75)"
   ]
  },
  {
   "cell_type": "code",
   "execution_count": 139,
   "id": "a7d197a7",
   "metadata": {},
   "outputs": [],
   "source": [
    "iqr = q3 - q1"
   ]
  },
  {
   "cell_type": "code",
   "execution_count": 140,
   "id": "fbd60069",
   "metadata": {},
   "outputs": [
    {
     "name": "stdout",
     "output_type": "stream",
     "text": [
      "country                      0.000000\n",
      "country_long                 0.000000\n",
      "name                       226.500000\n",
      "gppd_idnr                  226.500000\n",
      "capacity_mw                 16.725000\n",
      "latitude                    17.072000\n",
      "longitude                   73.811550\n",
      "primary_fuel                 1.000000\n",
      "other_fuel1                  2.000000\n",
      "commissioning_year        1998.000000\n",
      "source                      22.000000\n",
      "geolocation_source           2.000000\n",
      "year_of_capacity_data     2019.000000\n",
      "generation_gwh_2014       1211.362750\n",
      "generation_gwh_2015        916.000000\n",
      "generation_gwh_2016        896.500214\n",
      "generation_gwh_2017        882.594850\n",
      "generation_gwh_2018        824.842340\n",
      "generation_data_source       0.000000\n",
      "Name: 0.25, dtype: float64\n"
     ]
    }
   ],
   "source": [
    "print(q1)"
   ]
  },
  {
   "cell_type": "code",
   "execution_count": 141,
   "id": "190f47ad",
   "metadata": {},
   "outputs": [
    {
     "name": "stdout",
     "output_type": "stream",
     "text": [
      "country                      0.000000\n",
      "country_long                 0.000000\n",
      "name                       679.500000\n",
      "gppd_idnr                  679.500000\n",
      "capacity_mw                385.250000\n",
      "latitude                    25.176450\n",
      "longitude                   79.206100\n",
      "primary_fuel                 6.000000\n",
      "other_fuel1                  2.000000\n",
      "commissioning_year        2015.000000\n",
      "source                      29.500000\n",
      "geolocation_source           2.000000\n",
      "year_of_capacity_data     2019.000000\n",
      "generation_gwh_2014       2431.823590\n",
      "generation_gwh_2015       2428.226946\n",
      "generation_gwh_2016       2467.936859\n",
      "generation_gwh_2017       2547.759305\n",
      "generation_gwh_2018       2600.804099\n",
      "generation_data_source       0.000000\n",
      "Name: 0.75, dtype: float64\n"
     ]
    }
   ],
   "source": [
    "print(q3)"
   ]
  },
  {
   "cell_type": "code",
   "execution_count": 142,
   "id": "cf55df25",
   "metadata": {},
   "outputs": [
    {
     "name": "stdout",
     "output_type": "stream",
     "text": [
      "country                      0.000000\n",
      "country_long                 0.000000\n",
      "name                       453.000000\n",
      "gppd_idnr                  453.000000\n",
      "capacity_mw                368.525000\n",
      "latitude                     8.104450\n",
      "longitude                    5.394550\n",
      "primary_fuel                 5.000000\n",
      "other_fuel1                  0.000000\n",
      "commissioning_year          17.000000\n",
      "source                       7.500000\n",
      "geolocation_source           0.000000\n",
      "year_of_capacity_data        0.000000\n",
      "generation_gwh_2014       1220.460840\n",
      "generation_gwh_2015       1512.226946\n",
      "generation_gwh_2016       1571.436645\n",
      "generation_gwh_2017       1665.164455\n",
      "generation_gwh_2018       1775.961758\n",
      "generation_data_source       0.000000\n",
      "dtype: float64\n"
     ]
    }
   ],
   "source": [
    "print(iqr)"
   ]
  },
  {
   "cell_type": "code",
   "execution_count": null,
   "id": "fd3738ac",
   "metadata": {},
   "outputs": [],
   "source": []
  },
  {
   "cell_type": "code",
   "execution_count": 143,
   "id": "4510607a",
   "metadata": {},
   "outputs": [],
   "source": [
    "# now start working on outliers"
   ]
  },
  {
   "cell_type": "code",
   "execution_count": null,
   "id": "68721477",
   "metadata": {},
   "outputs": [],
   "source": []
  },
  {
   "cell_type": "code",
   "execution_count": 144,
   "id": "eec10daa",
   "metadata": {},
   "outputs": [
    {
     "data": {
      "text/plain": [
       "37.333125"
      ]
     },
     "execution_count": 144,
     "metadata": {},
     "output_type": "execute_result"
    }
   ],
   "source": [
    "lat_high = (q3.latitude + (1.5 * iqr.latitude))\n",
    "lat_high"
   ]
  },
  {
   "cell_type": "code",
   "execution_count": 145,
   "id": "aa748e36",
   "metadata": {},
   "outputs": [
    {
     "data": {
      "text/plain": [
       "(array([], dtype=int64),)"
      ]
     },
     "execution_count": 145,
     "metadata": {},
     "output_type": "execute_result"
    }
   ],
   "source": [
    "index = np.where(df['latitude'] > lat_high)\n",
    "index"
   ]
  },
  {
   "cell_type": "code",
   "execution_count": 146,
   "id": "7ecc9951",
   "metadata": {},
   "outputs": [
    {
     "data": {
      "text/plain": [
       "4.915325000000003"
      ]
     },
     "execution_count": 146,
     "metadata": {},
     "output_type": "execute_result"
    }
   ],
   "source": [
    "lat_low = (q1.latitude - (1.5 * iqr.latitude))\n",
    "lat_low"
   ]
  },
  {
   "cell_type": "code",
   "execution_count": 147,
   "id": "0e882389",
   "metadata": {},
   "outputs": [
    {
     "data": {
      "text/plain": [
       "(array([], dtype=int64),)"
      ]
     },
     "execution_count": 147,
     "metadata": {},
     "output_type": "execute_result"
    }
   ],
   "source": [
    "index = np.where(df['latitude'] < lat_low)\n",
    "index"
   ]
  },
  {
   "cell_type": "code",
   "execution_count": null,
   "id": "1702eb2a",
   "metadata": {},
   "outputs": [],
   "source": []
  },
  {
   "cell_type": "code",
   "execution_count": null,
   "id": "4e6c4254",
   "metadata": {},
   "outputs": [],
   "source": []
  },
  {
   "cell_type": "code",
   "execution_count": null,
   "id": "6c12ec6d",
   "metadata": {},
   "outputs": [],
   "source": []
  },
  {
   "cell_type": "code",
   "execution_count": 148,
   "id": "a96c4570",
   "metadata": {},
   "outputs": [
    {
     "data": {
      "text/plain": [
       "87.29792499999996"
      ]
     },
     "execution_count": 148,
     "metadata": {},
     "output_type": "execute_result"
    }
   ],
   "source": [
    "long_high = (q3.longitude + (1.5 * iqr.longitude))\n",
    "long_high"
   ]
  },
  {
   "cell_type": "code",
   "execution_count": 149,
   "id": "ef8db0c9",
   "metadata": {},
   "outputs": [
    {
     "data": {
      "text/plain": [
       "(array([  3,  44,  50,  58, 103, 107, 151, 157, 177, 179, 183, 209, 239,\n",
       "        244, 253, 278, 287, 296, 323, 333, 340, 352, 360, 388, 416, 427,\n",
       "        480, 499, 519, 529, 546, 567, 577, 636, 638, 639, 652, 678, 733,\n",
       "        793, 795, 796, 797, 798, 799, 809, 818, 840, 847, 848], dtype=int64),)"
      ]
     },
     "execution_count": 149,
     "metadata": {},
     "output_type": "execute_result"
    }
   ],
   "source": [
    "index = np.where(df['longitude'] > long_high)\n",
    "index"
   ]
  },
  {
   "cell_type": "code",
   "execution_count": 150,
   "id": "fedb9a51",
   "metadata": {},
   "outputs": [],
   "source": [
    "df = df.drop(df.index[index])"
   ]
  },
  {
   "cell_type": "code",
   "execution_count": 151,
   "id": "076528c1",
   "metadata": {},
   "outputs": [
    {
     "data": {
      "text/plain": [
       "(857, 19)"
      ]
     },
     "execution_count": 151,
     "metadata": {},
     "output_type": "execute_result"
    }
   ],
   "source": [
    "df.shape"
   ]
  },
  {
   "cell_type": "code",
   "execution_count": 152,
   "id": "33b6687f",
   "metadata": {},
   "outputs": [
    {
     "data": {
      "text/plain": [
       "65.71972500000004"
      ]
     },
     "execution_count": 152,
     "metadata": {},
     "output_type": "execute_result"
    }
   ],
   "source": [
    "long_low = (q1.longitude - (1.5 * iqr.longitude))\n",
    "long_low"
   ]
  },
  {
   "cell_type": "code",
   "execution_count": 153,
   "id": "6da56632",
   "metadata": {},
   "outputs": [
    {
     "data": {
      "text/plain": [
       "(array([], dtype=int64),)"
      ]
     },
     "execution_count": 153,
     "metadata": {},
     "output_type": "execute_result"
    }
   ],
   "source": [
    "index = np.where(df['longitude'] < long_low)\n",
    "index"
   ]
  },
  {
   "cell_type": "code",
   "execution_count": null,
   "id": "43f4b901",
   "metadata": {},
   "outputs": [],
   "source": []
  },
  {
   "cell_type": "code",
   "execution_count": null,
   "id": "aa37af8c",
   "metadata": {},
   "outputs": [],
   "source": []
  },
  {
   "cell_type": "code",
   "execution_count": 154,
   "id": "0e7ef91c",
   "metadata": {},
   "outputs": [
    {
     "data": {
      "text/plain": [
       "2040.5"
      ]
     },
     "execution_count": 154,
     "metadata": {},
     "output_type": "execute_result"
    }
   ],
   "source": [
    "comm_high = (q3.commissioning_year + (1.5 * iqr.commissioning_year))\n",
    "comm_high"
   ]
  },
  {
   "cell_type": "code",
   "execution_count": 155,
   "id": "a0ec3378",
   "metadata": {},
   "outputs": [
    {
     "data": {
      "text/plain": [
       "(array([], dtype=int64),)"
      ]
     },
     "execution_count": 155,
     "metadata": {},
     "output_type": "execute_result"
    }
   ],
   "source": [
    "index = np.where(df['commissioning_year'] > comm_high)\n",
    "index"
   ]
  },
  {
   "cell_type": "code",
   "execution_count": 156,
   "id": "44bb83d7",
   "metadata": {},
   "outputs": [
    {
     "data": {
      "text/plain": [
       "1972.5"
      ]
     },
     "execution_count": 156,
     "metadata": {},
     "output_type": "execute_result"
    }
   ],
   "source": [
    "comm_low = (q1.commissioning_year - (1.5 * iqr.commissioning_year))\n",
    "comm_low"
   ]
  },
  {
   "cell_type": "code",
   "execution_count": 157,
   "id": "0942c9eb",
   "metadata": {},
   "outputs": [
    {
     "data": {
      "text/plain": [
       "(array([  5,  72,  74,  86, 152, 161, 162, 191, 207, 209, 210, 239, 246,\n",
       "        277, 321, 328, 348, 354, 365, 418, 428, 443, 449, 452, 453, 457,\n",
       "        468, 493, 501, 508, 511, 527, 536, 541, 550, 555, 559, 568, 586,\n",
       "        588, 613, 619, 640, 656, 668, 669, 671, 675, 676, 690, 742, 762,\n",
       "        771], dtype=int64),)"
      ]
     },
     "execution_count": 157,
     "metadata": {},
     "output_type": "execute_result"
    }
   ],
   "source": [
    "index = np.where(df['commissioning_year'] < comm_low)\n",
    "index"
   ]
  },
  {
   "cell_type": "code",
   "execution_count": 158,
   "id": "acbb4b75",
   "metadata": {},
   "outputs": [],
   "source": [
    "df = df.drop(df.index[index])"
   ]
  },
  {
   "cell_type": "code",
   "execution_count": 159,
   "id": "66aa63f9",
   "metadata": {},
   "outputs": [
    {
     "data": {
      "text/plain": [
       "(804, 19)"
      ]
     },
     "execution_count": 159,
     "metadata": {},
     "output_type": "execute_result"
    }
   ],
   "source": [
    "df.shape"
   ]
  },
  {
   "cell_type": "code",
   "execution_count": null,
   "id": "9586da02",
   "metadata": {},
   "outputs": [],
   "source": []
  },
  {
   "cell_type": "code",
   "execution_count": null,
   "id": "13a4a797",
   "metadata": {},
   "outputs": [],
   "source": []
  },
  {
   "cell_type": "code",
   "execution_count": null,
   "id": "f08f0705",
   "metadata": {},
   "outputs": [],
   "source": []
  },
  {
   "cell_type": "code",
   "execution_count": null,
   "id": "ef1fcf5e",
   "metadata": {},
   "outputs": [],
   "source": []
  },
  {
   "cell_type": "code",
   "execution_count": 160,
   "id": "db804a88",
   "metadata": {},
   "outputs": [
    {
     "data": {
      "text/plain": [
       "40.75"
      ]
     },
     "execution_count": 160,
     "metadata": {},
     "output_type": "execute_result"
    }
   ],
   "source": [
    "sou_high = (q3.source + (1.5 * iqr.source))\n",
    "sou_high"
   ]
  },
  {
   "cell_type": "code",
   "execution_count": 161,
   "id": "d09f408a",
   "metadata": {},
   "outputs": [
    {
     "data": {
      "text/plain": [
       "(array([  0,   1,  15,  19,  22,  23,  24,  26,  30,  31,  32,  33,  34,\n",
       "         35,  36,  38,  45,  52,  64,  65,  66,  68,  69,  71,  72,  73,\n",
       "         86,  99, 104, 105, 107, 108, 109, 110, 111, 117, 121, 122, 129,\n",
       "        130, 131, 142, 143, 145, 148, 161, 163, 164, 167, 169, 172, 173,\n",
       "        175, 177, 180, 181, 182, 207, 213, 215, 217, 218, 219, 220, 221,\n",
       "        222, 224, 225, 227, 228, 230, 233, 234, 254, 255, 257, 259, 260,\n",
       "        261, 262, 266, 267, 286, 289, 298, 303, 309, 311, 316, 317, 318,\n",
       "        322, 323, 338, 345, 351, 355, 356, 357, 359, 360, 362, 363, 364,\n",
       "        367, 371, 381, 382, 391, 393, 396, 404, 407, 412, 414, 417, 429,\n",
       "        434, 436, 438, 439, 442, 443, 446, 447, 448, 449, 450, 453, 454,\n",
       "        459, 460, 461, 462, 463, 464, 467, 471, 477, 479, 492, 493, 494,\n",
       "        510, 514, 529, 532, 536, 537, 538, 539, 545, 546, 551, 554, 558,\n",
       "        560, 564, 566, 579, 580, 582, 583, 584, 585, 587, 588, 589, 590,\n",
       "        593, 598, 605, 606, 607, 608, 611, 616, 628, 629, 630, 642, 663,\n",
       "        665, 666, 667, 669, 670, 671, 673, 674, 679, 680, 682, 693, 706,\n",
       "        708, 717, 719, 727, 729, 732, 735, 754, 767, 768, 769, 771, 772,\n",
       "        776, 784, 788, 792, 797, 800, 802], dtype=int64),)"
      ]
     },
     "execution_count": 161,
     "metadata": {},
     "output_type": "execute_result"
    }
   ],
   "source": [
    "index = np.where(df['source'] > sou_high)\n",
    "index"
   ]
  },
  {
   "cell_type": "code",
   "execution_count": 162,
   "id": "408156f8",
   "metadata": {},
   "outputs": [],
   "source": [
    "df = df.drop(df.index[index])"
   ]
  },
  {
   "cell_type": "code",
   "execution_count": 163,
   "id": "0a85986f",
   "metadata": {},
   "outputs": [
    {
     "data": {
      "text/plain": [
       "(589, 19)"
      ]
     },
     "execution_count": 163,
     "metadata": {},
     "output_type": "execute_result"
    }
   ],
   "source": [
    "df.shape"
   ]
  },
  {
   "cell_type": "code",
   "execution_count": 164,
   "id": "2d58d169",
   "metadata": {},
   "outputs": [
    {
     "data": {
      "text/plain": [
       "10.75"
      ]
     },
     "execution_count": 164,
     "metadata": {},
     "output_type": "execute_result"
    }
   ],
   "source": [
    "sou_low = (q1.source - (1.5 * iqr.source))\n",
    "sou_low"
   ]
  },
  {
   "cell_type": "code",
   "execution_count": 165,
   "id": "bfc8914f",
   "metadata": {},
   "outputs": [
    {
     "data": {
      "text/plain": [
       "(array([ 15,  73,  74,  84,  89, 125, 158, 251, 255, 260, 266, 304, 395,\n",
       "        481, 575, 580], dtype=int64),)"
      ]
     },
     "execution_count": 165,
     "metadata": {},
     "output_type": "execute_result"
    }
   ],
   "source": [
    "index = np.where(df['source'] < sou_low)\n",
    "index"
   ]
  },
  {
   "cell_type": "code",
   "execution_count": 166,
   "id": "38eceee2",
   "metadata": {},
   "outputs": [],
   "source": [
    "df = df.drop(df.index[index])"
   ]
  },
  {
   "cell_type": "code",
   "execution_count": 167,
   "id": "a925860a",
   "metadata": {},
   "outputs": [
    {
     "data": {
      "text/plain": [
       "(573, 19)"
      ]
     },
     "execution_count": 167,
     "metadata": {},
     "output_type": "execute_result"
    }
   ],
   "source": [
    "df.shape"
   ]
  },
  {
   "cell_type": "code",
   "execution_count": null,
   "id": "6d5a2259",
   "metadata": {},
   "outputs": [],
   "source": []
  },
  {
   "cell_type": "code",
   "execution_count": null,
   "id": "0fb98103",
   "metadata": {},
   "outputs": [],
   "source": []
  },
  {
   "cell_type": "code",
   "execution_count": 168,
   "id": "a8860242",
   "metadata": {},
   "outputs": [
    {
     "data": {
      "text/plain": [
       "4262.514850490859"
      ]
     },
     "execution_count": 168,
     "metadata": {},
     "output_type": "execute_result"
    }
   ],
   "source": [
    "gg4_high = (q3.generation_gwh_2014 + (1.5 * iqr.generation_gwh_2014))\n",
    "gg4_high"
   ]
  },
  {
   "cell_type": "code",
   "execution_count": 169,
   "id": "2c47dfd6",
   "metadata": {},
   "outputs": [
    {
     "data": {
      "text/plain": [
       "(array([  8,  11,  46,  58,  86,  87,  97, 171, 175, 178, 187, 188, 197,\n",
       "        208, 225, 226, 227, 229, 244, 245, 281, 284, 295, 296, 298, 307,\n",
       "        308, 320, 323, 331, 355, 382, 384, 385, 389, 390, 397, 400, 403,\n",
       "        404, 406, 417, 422, 424, 426, 441, 444, 446, 455, 460, 488, 494,\n",
       "        501, 502, 508, 525, 528, 530, 547, 551, 554, 561], dtype=int64),)"
      ]
     },
     "execution_count": 169,
     "metadata": {},
     "output_type": "execute_result"
    }
   ],
   "source": [
    "index = np.where(df['generation_gwh_2014'] > gg4_high)\n",
    "index"
   ]
  },
  {
   "cell_type": "code",
   "execution_count": 170,
   "id": "c7b5d6d7",
   "metadata": {},
   "outputs": [],
   "source": [
    "df = df.drop(df.index[index])"
   ]
  },
  {
   "cell_type": "code",
   "execution_count": 171,
   "id": "57f729d0",
   "metadata": {},
   "outputs": [
    {
     "data": {
      "text/plain": [
       "(511, 19)"
      ]
     },
     "execution_count": 171,
     "metadata": {},
     "output_type": "execute_result"
    }
   ],
   "source": [
    "df.shape"
   ]
  },
  {
   "cell_type": "code",
   "execution_count": 172,
   "id": "a0ae2177",
   "metadata": {},
   "outputs": [
    {
     "data": {
      "text/plain": [
       "-619.3285102945158"
      ]
     },
     "execution_count": 172,
     "metadata": {},
     "output_type": "execute_result"
    }
   ],
   "source": [
    "gg4_low = (q1.generation_gwh_2014 - (1.5 * iqr.generation_gwh_2014))\n",
    "gg4_low"
   ]
  },
  {
   "cell_type": "code",
   "execution_count": 173,
   "id": "07371572",
   "metadata": {},
   "outputs": [
    {
     "data": {
      "text/plain": [
       "(array([], dtype=int64),)"
      ]
     },
     "execution_count": 173,
     "metadata": {},
     "output_type": "execute_result"
    }
   ],
   "source": [
    "index = np.where(df['generation_gwh_2014'] < gg4_low)\n",
    "index"
   ]
  },
  {
   "cell_type": "code",
   "execution_count": null,
   "id": "ab8246ea",
   "metadata": {},
   "outputs": [],
   "source": []
  },
  {
   "cell_type": "code",
   "execution_count": null,
   "id": "defc8cb6",
   "metadata": {},
   "outputs": [],
   "source": []
  },
  {
   "cell_type": "code",
   "execution_count": 174,
   "id": "211b0999",
   "metadata": {},
   "outputs": [
    {
     "data": {
      "text/plain": [
       "4696.567364903522"
      ]
     },
     "execution_count": 174,
     "metadata": {},
     "output_type": "execute_result"
    }
   ],
   "source": [
    "gg5_high = (q3.generation_gwh_2015 + (1.5 * iqr.generation_gwh_2015))\n",
    "gg5_high"
   ]
  },
  {
   "cell_type": "code",
   "execution_count": 175,
   "id": "cf841ec1",
   "metadata": {},
   "outputs": [
    {
     "data": {
      "text/plain": [
       "(array([  1,   6,  92,  97, 182, 187, 297, 317, 453], dtype=int64),)"
      ]
     },
     "execution_count": 175,
     "metadata": {},
     "output_type": "execute_result"
    }
   ],
   "source": [
    "index = np.where(df['generation_gwh_2015'] > gg5_high)\n",
    "index"
   ]
  },
  {
   "cell_type": "code",
   "execution_count": 176,
   "id": "f360c15a",
   "metadata": {},
   "outputs": [],
   "source": [
    "df = df.drop(df.index[index])"
   ]
  },
  {
   "cell_type": "code",
   "execution_count": 177,
   "id": "01fc262d",
   "metadata": {},
   "outputs": [
    {
     "data": {
      "text/plain": [
       "(502, 19)"
      ]
     },
     "execution_count": 177,
     "metadata": {},
     "output_type": "execute_result"
    }
   ],
   "source": [
    "df.shape"
   ]
  },
  {
   "cell_type": "code",
   "execution_count": 178,
   "id": "b8c618b4",
   "metadata": {},
   "outputs": [
    {
     "data": {
      "text/plain": [
       "-1352.3404189421126"
      ]
     },
     "execution_count": 178,
     "metadata": {},
     "output_type": "execute_result"
    }
   ],
   "source": [
    "gg5_low = (q1.generation_gwh_2015 - (1.5 * iqr.generation_gwh_2015))\n",
    "gg5_low"
   ]
  },
  {
   "cell_type": "code",
   "execution_count": 179,
   "id": "a1c65188",
   "metadata": {},
   "outputs": [
    {
     "data": {
      "text/plain": [
       "(array([], dtype=int64),)"
      ]
     },
     "execution_count": 179,
     "metadata": {},
     "output_type": "execute_result"
    }
   ],
   "source": [
    "index = np.where(df['generation_gwh_2015'] < gg5_low)\n",
    "index"
   ]
  },
  {
   "cell_type": "code",
   "execution_count": null,
   "id": "893d7e02",
   "metadata": {},
   "outputs": [],
   "source": []
  },
  {
   "cell_type": "code",
   "execution_count": null,
   "id": "142f6ad2",
   "metadata": {},
   "outputs": [],
   "source": []
  },
  {
   "cell_type": "code",
   "execution_count": 180,
   "id": "e5345c94",
   "metadata": {},
   "outputs": [
    {
     "data": {
      "text/plain": [
       "4825.091825587273"
      ]
     },
     "execution_count": 180,
     "metadata": {},
     "output_type": "execute_result"
    }
   ],
   "source": [
    "gg6_high = (q3.generation_gwh_2016 + (1.5 * iqr.generation_gwh_2016))\n",
    "gg6_high"
   ]
  },
  {
   "cell_type": "code",
   "execution_count": 181,
   "id": "cc8e1720",
   "metadata": {},
   "outputs": [
    {
     "data": {
      "text/plain": [
       "(array([ 30,  33,  83, 105, 173, 204, 213, 375, 430, 445], dtype=int64),)"
      ]
     },
     "execution_count": 181,
     "metadata": {},
     "output_type": "execute_result"
    }
   ],
   "source": [
    "index = np.where(df['generation_gwh_2016'] > gg6_high)\n",
    "index"
   ]
  },
  {
   "cell_type": "code",
   "execution_count": 182,
   "id": "ed28fa10",
   "metadata": {},
   "outputs": [],
   "source": [
    "df = df.drop(df.index[index])"
   ]
  },
  {
   "cell_type": "code",
   "execution_count": 183,
   "id": "e30cf4db",
   "metadata": {},
   "outputs": [
    {
     "data": {
      "text/plain": [
       "(492, 19)"
      ]
     },
     "execution_count": 183,
     "metadata": {},
     "output_type": "execute_result"
    }
   ],
   "source": [
    "df.shape"
   ]
  },
  {
   "cell_type": "code",
   "execution_count": 184,
   "id": "f916a11d",
   "metadata": {},
   "outputs": [
    {
     "data": {
      "text/plain": [
       "-1460.6547529523639"
      ]
     },
     "execution_count": 184,
     "metadata": {},
     "output_type": "execute_result"
    }
   ],
   "source": [
    "gg6_low = (q1.generation_gwh_2016 - (1.5 * iqr.generation_gwh_2016))\n",
    "gg6_low"
   ]
  },
  {
   "cell_type": "code",
   "execution_count": 185,
   "id": "73efccc7",
   "metadata": {},
   "outputs": [
    {
     "data": {
      "text/plain": [
       "(array([], dtype=int64),)"
      ]
     },
     "execution_count": 185,
     "metadata": {},
     "output_type": "execute_result"
    }
   ],
   "source": [
    "index = np.where(df['generation_gwh_2016'] < gg6_low)\n",
    "index"
   ]
  },
  {
   "cell_type": "code",
   "execution_count": null,
   "id": "cd9990e1",
   "metadata": {},
   "outputs": [],
   "source": []
  },
  {
   "cell_type": "code",
   "execution_count": null,
   "id": "fa25c019",
   "metadata": {},
   "outputs": [],
   "source": []
  },
  {
   "cell_type": "code",
   "execution_count": 186,
   "id": "8a5d0dbc",
   "metadata": {},
   "outputs": [
    {
     "data": {
      "text/plain": [
       "5045.50598627551"
      ]
     },
     "execution_count": 186,
     "metadata": {},
     "output_type": "execute_result"
    }
   ],
   "source": [
    "gg7_high = (q3.generation_gwh_2017 + (1.5 * iqr.generation_gwh_2017))\n",
    "gg7_high"
   ]
  },
  {
   "cell_type": "code",
   "execution_count": 187,
   "id": "9f5d9c8e",
   "metadata": {},
   "outputs": [
    {
     "data": {
      "text/plain": [
       "(array([  9, 156, 193, 223, 258, 263, 324, 381, 392, 422], dtype=int64),)"
      ]
     },
     "execution_count": 187,
     "metadata": {},
     "output_type": "execute_result"
    }
   ],
   "source": [
    "index = np.where(df['generation_gwh_2017'] > gg7_high)\n",
    "index"
   ]
  },
  {
   "cell_type": "code",
   "execution_count": 188,
   "id": "e16bfbff",
   "metadata": {},
   "outputs": [],
   "source": [
    "df = df.drop(df.index[index])"
   ]
  },
  {
   "cell_type": "code",
   "execution_count": 189,
   "id": "8036a965",
   "metadata": {},
   "outputs": [
    {
     "data": {
      "text/plain": [
       "(482, 19)"
      ]
     },
     "execution_count": 189,
     "metadata": {},
     "output_type": "execute_result"
    }
   ],
   "source": [
    "df.shape"
   ]
  },
  {
   "cell_type": "code",
   "execution_count": 190,
   "id": "f407e90b",
   "metadata": {},
   "outputs": [
    {
     "data": {
      "text/plain": [
       "-1615.1518317653058"
      ]
     },
     "execution_count": 190,
     "metadata": {},
     "output_type": "execute_result"
    }
   ],
   "source": [
    "gg7_low = (q1.generation_gwh_2017 - (1.5 * iqr.generation_gwh_2017))\n",
    "gg7_low"
   ]
  },
  {
   "cell_type": "code",
   "execution_count": 191,
   "id": "788398cc",
   "metadata": {},
   "outputs": [
    {
     "data": {
      "text/plain": [
       "(array([], dtype=int64),)"
      ]
     },
     "execution_count": 191,
     "metadata": {},
     "output_type": "execute_result"
    }
   ],
   "source": [
    "index = np.where(df['generation_gwh_2017'] < gg7_low)\n",
    "index"
   ]
  },
  {
   "cell_type": "code",
   "execution_count": null,
   "id": "f1b30f11",
   "metadata": {},
   "outputs": [],
   "source": []
  },
  {
   "cell_type": "code",
   "execution_count": null,
   "id": "50acf5cb",
   "metadata": {},
   "outputs": [],
   "source": []
  },
  {
   "cell_type": "code",
   "execution_count": null,
   "id": "c3341736",
   "metadata": {},
   "outputs": [],
   "source": []
  },
  {
   "cell_type": "code",
   "execution_count": null,
   "id": "b92bb843",
   "metadata": {},
   "outputs": [],
   "source": []
  },
  {
   "cell_type": "code",
   "execution_count": 192,
   "id": "505ae45f",
   "metadata": {},
   "outputs": [
    {
     "data": {
      "text/plain": [
       "0.0"
      ]
     },
     "execution_count": 192,
     "metadata": {},
     "output_type": "execute_result"
    }
   ],
   "source": [
    "gds_high = (q3.generation_data_source + (1.5 * iqr.generation_data_source))\n",
    "gds_high"
   ]
  },
  {
   "cell_type": "code",
   "execution_count": 193,
   "id": "fc883202",
   "metadata": {},
   "outputs": [
    {
     "data": {
      "text/plain": [
       "5264.746736226598"
      ]
     },
     "execution_count": 193,
     "metadata": {},
     "output_type": "execute_result"
    }
   ],
   "source": [
    "gg8_high = (q3.generation_gwh_2018 + (1.5 * iqr.generation_gwh_2018))\n",
    "gg8_high"
   ]
  },
  {
   "cell_type": "code",
   "execution_count": 194,
   "id": "42bd37d3",
   "metadata": {},
   "outputs": [
    {
     "data": {
      "text/plain": [
       "(array([202, 399], dtype=int64),)"
      ]
     },
     "execution_count": 194,
     "metadata": {},
     "output_type": "execute_result"
    }
   ],
   "source": [
    "index = np.where(df['generation_gwh_2018'] > gg8_high)\n",
    "index"
   ]
  },
  {
   "cell_type": "code",
   "execution_count": 195,
   "id": "b1843515",
   "metadata": {},
   "outputs": [],
   "source": [
    "df = df.drop(df.index[index])"
   ]
  },
  {
   "cell_type": "code",
   "execution_count": 196,
   "id": "cf437a0f",
   "metadata": {},
   "outputs": [
    {
     "data": {
      "text/plain": [
       "(480, 19)"
      ]
     },
     "execution_count": 196,
     "metadata": {},
     "output_type": "execute_result"
    }
   ],
   "source": [
    "df.shape"
   ]
  },
  {
   "cell_type": "code",
   "execution_count": 197,
   "id": "6b6391dd",
   "metadata": {},
   "outputs": [
    {
     "data": {
      "text/plain": [
       "-1839.1002972789593"
      ]
     },
     "execution_count": 197,
     "metadata": {},
     "output_type": "execute_result"
    }
   ],
   "source": [
    "gg8_low = (q1.generation_gwh_2018 - (1.5 * iqr.generation_gwh_2018))\n",
    "gg8_low"
   ]
  },
  {
   "cell_type": "code",
   "execution_count": 198,
   "id": "ecb2c511",
   "metadata": {},
   "outputs": [
    {
     "data": {
      "text/plain": [
       "(array([], dtype=int64),)"
      ]
     },
     "execution_count": 198,
     "metadata": {},
     "output_type": "execute_result"
    }
   ],
   "source": [
    "index = np.where(df['generation_gwh_2018'] < gg8_low)\n",
    "index"
   ]
  },
  {
   "cell_type": "code",
   "execution_count": null,
   "id": "5745f205",
   "metadata": {},
   "outputs": [],
   "source": []
  },
  {
   "cell_type": "code",
   "execution_count": null,
   "id": "73fdf03e",
   "metadata": {},
   "outputs": [],
   "source": []
  },
  {
   "cell_type": "code",
   "execution_count": 199,
   "id": "383b959f",
   "metadata": {},
   "outputs": [],
   "source": [
    "# after removing outliers let's check the data shape and again do plotting"
   ]
  },
  {
   "cell_type": "code",
   "execution_count": null,
   "id": "96cc2bc2",
   "metadata": {},
   "outputs": [],
   "source": []
  },
  {
   "cell_type": "code",
   "execution_count": 200,
   "id": "9a781284",
   "metadata": {},
   "outputs": [
    {
     "data": {
      "text/plain": [
       "(480, 19)"
      ]
     },
     "execution_count": 200,
     "metadata": {},
     "output_type": "execute_result"
    }
   ],
   "source": [
    "df.shape"
   ]
  },
  {
   "cell_type": "code",
   "execution_count": null,
   "id": "871835a2",
   "metadata": {},
   "outputs": [],
   "source": []
  },
  {
   "cell_type": "code",
   "execution_count": 201,
   "id": "9a9e41e9",
   "metadata": {},
   "outputs": [
    {
     "data": {
      "image/png": "[encoded data removed]",
      "text/plain": [
       "<Figure size 1440x720 with 19 Axes>"
      ]
     },
     "metadata": {},
     "output_type": "display_data"
    }
   ],
   "source": [
    "plt.figure(figsize=(20,10),facecolor='blue')\n",
    "plotnumber=1\n",
    "\n",
    "for column in df:\n",
    "    if plotnumber<=20:\n",
    "        ax = plt.subplot(4,5,plotnumber)\n",
    "        plt.boxplot(df[column])\n",
    "        plt.xlabel(column,fontsize=10)\n",
    "        \n",
    "    plotnumber+=1\n",
    "    \n",
    "plt.show()"
   ]
  },
  {
   "cell_type": "code",
   "execution_count": null,
   "id": "d018a0aa",
   "metadata": {},
   "outputs": [],
   "source": []
  },
  {
   "cell_type": "code",
   "execution_count": 202,
   "id": "5b22f8bb",
   "metadata": {},
   "outputs": [
    {
     "data": {
      "image/png": "[encoded data removed]",
      "text/plain": [
       "<Figure size 1440x720 with 19 Axes>"
      ]
     },
     "metadata": {},
     "output_type": "display_data"
    }
   ],
   "source": [
    "plt.figure(figsize=(20,10),facecolor='blue')\n",
    "plotnumber=1\n",
    "\n",
    "for column in df:\n",
    "    if plotnumber<=20:\n",
    "        ax = plt.subplot(4,5,plotnumber)\n",
    "        sns.distplot(df[column])\n",
    "        plt.xlabel(column,fontsize=10)\n",
    "        \n",
    "    plotnumber+=1\n",
    "    \n",
    "plt.show()"
   ]
  },
  {
   "cell_type": "code",
   "execution_count": null,
   "id": "4486877a",
   "metadata": {},
   "outputs": [],
   "source": []
  },
  {
   "cell_type": "code",
   "execution_count": null,
   "id": "972b6ab8",
   "metadata": {},
   "outputs": [],
   "source": []
  },
  {
   "cell_type": "code",
   "execution_count": 203,
   "id": "d3a57d09",
   "metadata": {},
   "outputs": [],
   "source": [
    "# plotting the heatmap"
   ]
  },
  {
   "cell_type": "code",
   "execution_count": null,
   "id": "64893622",
   "metadata": {},
   "outputs": [],
   "source": []
  },
  {
   "cell_type": "code",
   "execution_count": 204,
   "id": "278820a4",
   "metadata": {},
   "outputs": [
    {
     "data": {
      "image/png": "[encoded data removed]",
      "text/plain": [
       "<Figure size 1440x1080 with 2 Axes>"
      ]
     },
     "metadata": {
      "needs_background": "light"
     },
     "output_type": "display_data"
    }
   ],
   "source": [
    "corr = df.corr().abs()\n",
    "\n",
    "plt.figure(figsize=(20,15))\n",
    "sns.heatmap(corr, annot=True)\n",
    "plt.show()"
   ]
  },
  {
   "cell_type": "code",
   "execution_count": 205,
   "id": "ce45dcfc",
   "metadata": {},
   "outputs": [],
   "source": [
    "# some columns seems like highly related to each other"
   ]
  },
  {
   "cell_type": "code",
   "execution_count": null,
   "id": "432fb73a",
   "metadata": {},
   "outputs": [],
   "source": []
  },
  {
   "cell_type": "code",
   "execution_count": 206,
   "id": "27d2b0f4",
   "metadata": {},
   "outputs": [],
   "source": [
    "# droping these columns"
   ]
  },
  {
   "cell_type": "code",
   "execution_count": null,
   "id": "0ea2b356",
   "metadata": {},
   "outputs": [],
   "source": []
  },
  {
   "cell_type": "code",
   "execution_count": 207,
   "id": "b8e3c1df",
   "metadata": {},
   "outputs": [],
   "source": [
    "df = df.drop(columns=['generation_gwh_2015'])\n",
    "df = df.drop(columns=['generation_gwh_2016'])\n",
    "df = df.drop(columns=['generation_gwh_2017'])\n",
    "df = df.drop(columns=['generation_gwh_2018'])"
   ]
  },
  {
   "cell_type": "code",
   "execution_count": null,
   "id": "0ba7627d",
   "metadata": {},
   "outputs": [],
   "source": []
  },
  {
   "cell_type": "code",
   "execution_count": null,
   "id": "5bc9ff3b",
   "metadata": {},
   "outputs": [],
   "source": []
  },
  {
   "cell_type": "code",
   "execution_count": 208,
   "id": "29208139",
   "metadata": {},
   "outputs": [],
   "source": [
    "# again plot heatmap"
   ]
  },
  {
   "cell_type": "code",
   "execution_count": 209,
   "id": "b399abe0",
   "metadata": {},
   "outputs": [
    {
     "data": {
      "image/png": "[encoded data removed]",
      "text/plain": [
       "<Figure size 1440x1080 with 2 Axes>"
      ]
     },
     "metadata": {
      "needs_background": "light"
     },
     "output_type": "display_data"
    }
   ],
   "source": [
    "corr = df.corr().abs()\n",
    "\n",
    "plt.figure(figsize=(20,15))\n",
    "sns.heatmap(corr, annot=True)\n",
    "plt.show()"
   ]
  },
  {
   "cell_type": "code",
   "execution_count": null,
   "id": "800df931",
   "metadata": {},
   "outputs": [],
   "source": []
  },
  {
   "cell_type": "code",
   "execution_count": null,
   "id": "7384e3b7",
   "metadata": {},
   "outputs": [],
   "source": []
  },
  {
   "cell_type": "code",
   "execution_count": null,
   "id": "4ba7fa9e",
   "metadata": {},
   "outputs": [],
   "source": []
  },
  {
   "cell_type": "code",
   "execution_count": null,
   "id": "6dff2fe3",
   "metadata": {},
   "outputs": [],
   "source": []
  },
  {
   "cell_type": "code",
   "execution_count": 210,
   "id": "912ed383",
   "metadata": {},
   "outputs": [],
   "source": [
    "# assign the dataset into two variables\n",
    "\n",
    "# do standardize the data \n",
    "\n",
    "# train_test_split"
   ]
  },
  {
   "cell_type": "code",
   "execution_count": null,
   "id": "5726652d",
   "metadata": {},
   "outputs": [],
   "source": []
  },
  {
   "cell_type": "code",
   "execution_count": 211,
   "id": "3b05e001",
   "metadata": {},
   "outputs": [],
   "source": [
    "x = df.drop(columns=['name'])"
   ]
  },
  {
   "cell_type": "code",
   "execution_count": 212,
   "id": "2b5322ca",
   "metadata": {},
   "outputs": [],
   "source": [
    "x = df.drop(columns=['capacity_mw'])"
   ]
  },
  {
   "cell_type": "code",
   "execution_count": 213,
   "id": "0056d5da",
   "metadata": {},
   "outputs": [],
   "source": [
    "y = df['capacity_mw']"
   ]
  },
  {
   "cell_type": "code",
   "execution_count": null,
   "id": "08ef6df1",
   "metadata": {},
   "outputs": [],
   "source": []
  },
  {
   "cell_type": "code",
   "execution_count": null,
   "id": "3b9fa3f5",
   "metadata": {},
   "outputs": [],
   "source": []
  },
  {
   "cell_type": "code",
   "execution_count": 214,
   "id": "dcc8bf65",
   "metadata": {},
   "outputs": [],
   "source": [
    "from sklearn.preprocessing import StandardScaler\n",
    "from sklearn.model_selection import train_test_split"
   ]
  },
  {
   "cell_type": "code",
   "execution_count": 215,
   "id": "c52be0ed",
   "metadata": {},
   "outputs": [],
   "source": [
    "scaler = StandardScaler()\n",
    "\n",
    "x_scaled = scaler.fit_transform(x)"
   ]
  },
  {
   "cell_type": "code",
   "execution_count": null,
   "id": "294b267b",
   "metadata": {},
   "outputs": [],
   "source": []
  },
  {
   "cell_type": "code",
   "execution_count": 216,
   "id": "8acfafe4",
   "metadata": {},
   "outputs": [],
   "source": [
    "x_train,x_test,y_train,y_test = train_test_split(x_scaled,y,test_size=0.25,random_state=100)"
   ]
  },
  {
   "cell_type": "code",
   "execution_count": null,
   "id": "c9beeefc",
   "metadata": {},
   "outputs": [],
   "source": []
  },
  {
   "cell_type": "code",
   "execution_count": 217,
   "id": "247d12c7",
   "metadata": {},
   "outputs": [],
   "source": [
    "from sklearn.metrics import r2_score,mean_absolute_error,mean_squared_error"
   ]
  },
  {
   "cell_type": "code",
   "execution_count": null,
   "id": "fd219562",
   "metadata": {},
   "outputs": [],
   "source": []
  },
  {
   "cell_type": "code",
   "execution_count": null,
   "id": "dd95cc0d",
   "metadata": {},
   "outputs": [],
   "source": []
  },
  {
   "cell_type": "code",
   "execution_count": 218,
   "id": "9d0cfc66",
   "metadata": {},
   "outputs": [],
   "source": [
    "# for regression "
   ]
  },
  {
   "cell_type": "code",
   "execution_count": null,
   "id": "6eccc872",
   "metadata": {},
   "outputs": [],
   "source": []
  },
  {
   "cell_type": "code",
   "execution_count": 219,
   "id": "b9d663ab",
   "metadata": {},
   "outputs": [],
   "source": [
    "from sklearn.linear_model import LinearRegression"
   ]
  },
  {
   "cell_type": "code",
   "execution_count": null,
   "id": "ecacc759",
   "metadata": {},
   "outputs": [],
   "source": []
  },
  {
   "cell_type": "code",
   "execution_count": 220,
   "id": "ac046c0b",
   "metadata": {},
   "outputs": [
    {
     "data": {
      "text/html": [
       "<style>#sk-container-id-1 {color: black;background-color: white;}#sk-container-id-1 pre{padding: 0;}#sk-container-id-1 div.sk-toggleable {background-color: white;}#sk-container-id-1 label.sk-toggleable__label {cursor: pointer;display: block;width: 100%;margin-bottom: 0;padding: 0.3em;box-sizing: border-box;text-align: center;}#sk-container-id-1 label.sk-toggleable__label-arrow:before {content: \"▸\";float: left;margin-right: 0.25em;color: #696969;}#sk-container-id-1 label.sk-toggleable__label-arrow:hover:before {color: black;}#sk-container-id-1 div.sk-estimator:hover label.sk-toggleable__label-arrow:before {color: black;}#sk-container-id-1 div.sk-toggleable__content {max-height: 0;max-width: 0;overflow: hidden;text-align: left;background-color: #f0f8ff;}#sk-container-id-1 div.sk-toggleable__content pre {margin: 0.2em;color: black;border-radius: 0.25em;background-color: #f0f8ff;}#sk-container-id-1 input.sk-toggleable__control:checked~div.sk-toggleable__content {max-height: 200px;max-width: 100%;overflow: auto;}#sk-container-id-1 input.sk-toggleable__control:checked~label.sk-toggleable__label-arrow:before {content: \"▾\";}#sk-container-id-1 div.sk-estimator input.sk-toggleable__control:checked~label.sk-toggleable__label {background-color: #d4ebff;}#sk-container-id-1 div.sk-label input.sk-toggleable__control:checked~label.sk-toggleable__label {background-color: #d4ebff;}#sk-container-id-1 input.sk-hidden--visually {border: 0;clip: rect(1px 1px 1px 1px);clip: rect(1px, 1px, 1px, 1px);height: 1px;margin: -1px;overflow: hidden;padding: 0;position: absolute;width: 1px;}#sk-container-id-1 div.sk-estimator {font-family: monospace;background-color: #f0f8ff;border: 1px dotted black;border-radius: 0.25em;box-sizing: border-box;margin-bottom: 0.5em;}#sk-container-id-1 div.sk-estimator:hover {background-color: #d4ebff;}#sk-container-id-1 div.sk-parallel-item::after {content: \"\";width: 100%;border-bottom: 1px solid gray;flex-grow: 1;}#sk-container-id-1 div.sk-label:hover label.sk-toggleable__label {background-color: #d4ebff;}#sk-container-id-1 div.sk-serial::before {content: \"\";position: absolute;border-left: 1px solid gray;box-sizing: border-box;top: 0;bottom: 0;left: 50%;z-index: 0;}#sk-container-id-1 div.sk-serial {display: flex;flex-direction: column;align-items: center;background-color: white;padding-right: 0.2em;padding-left: 0.2em;position: relative;}#sk-container-id-1 div.sk-item {position: relative;z-index: 1;}#sk-container-id-1 div.sk-parallel {display: flex;align-items: stretch;justify-content: center;background-color: white;position: relative;}#sk-container-id-1 div.sk-item::before, #sk-container-id-1 div.sk-parallel-item::before {content: \"\";position: absolute;border-left: 1px solid gray;box-sizing: border-box;top: 0;bottom: 0;left: 50%;z-index: -1;}#sk-container-id-1 div.sk-parallel-item {display: flex;flex-direction: column;z-index: 1;position: relative;background-color: white;}#sk-container-id-1 div.sk-parallel-item:first-child::after {align-self: flex-end;width: 50%;}#sk-container-id-1 div.sk-parallel-item:last-child::after {align-self: flex-start;width: 50%;}#sk-container-id-1 div.sk-parallel-item:only-child::after {width: 0;}#sk-container-id-1 div.sk-dashed-wrapped {border: 1px dashed gray;margin: 0 0.4em 0.5em 0.4em;box-sizing: border-box;padding-bottom: 0.4em;background-color: white;}#sk-container-id-1 div.sk-label label {font-family: monospace;font-weight: bold;display: inline-block;line-height: 1.2em;}#sk-container-id-1 div.sk-label-container {text-align: center;}#sk-container-id-1 div.sk-container {/* jupyter's `normalize.less` sets `[hidden] { display: none; }` but bootstrap.min.css set `[hidden] { display: none !important; }` so we also need the `!important` here to be able to override the default hidden behavior on the sphinx rendered scikit-learn.org. See: https://github.com/scikit-learn/scikit-learn/issues/21755 */display: inline-block !important;position: relative;}#sk-container-id-1 div.sk-text-repr-fallback {display: none;}</style><div id=\"sk-container-id-1\" class=\"sk-top-container\"><div class=\"sk-text-repr-fallback\"><pre>LinearRegression()</pre><b>In a Jupyter environment, please rerun this cell to show the HTML representation or trust the notebook. <br />On GitHub, the HTML representation is unable to render, please try loading this page with nbviewer.org.</b></div><div class=\"sk-container\" hidden><div class=\"sk-item\"><div class=\"sk-estimator sk-toggleable\"><input class=\"sk-toggleable__control sk-hidden--visually\" id=\"sk-estimator-id-1\" type=\"checkbox\" checked><label for=\"sk-estimator-id-1\" class=\"sk-toggleable__label sk-toggleable__label-arrow\">LinearRegression</label><div class=\"sk-toggleable__content\"><pre>LinearRegression()</pre></div></div></div></div></div>"
      ],
      "text/plain": [
       "LinearRegression()"
      ]
     },
     "execution_count": 220,
     "metadata": {},
     "output_type": "execute_result"
    }
   ],
   "source": [
    "lr = LinearRegression()\n",
    "\n",
    "lr.fit(x_train,y_train)"
   ]
  },
  {
   "cell_type": "code",
   "execution_count": 221,
   "id": "a0bb0da2",
   "metadata": {},
   "outputs": [],
   "source": [
    "lr_pred = lr.predict(x_test)"
   ]
  },
  {
   "cell_type": "code",
   "execution_count": 222,
   "id": "86596734",
   "metadata": {},
   "outputs": [
    {
     "data": {
      "text/plain": [
       "array([ 279.10077831,  414.24344863,  324.76877543,  297.15886666,\n",
       "         39.35062699,   19.18332204,  270.82275994,  158.69214368,\n",
       "        343.66413089,  411.77477532,  256.75601158,  195.20272152,\n",
       "        434.44286253,  323.34070603,  349.83732299,  297.21123579,\n",
       "        -38.13858976,  162.18780322,  -13.19066579,  373.08431899,\n",
       "        577.96534686,   63.6552513 ,  174.90751243,  370.57455919,\n",
       "         30.63388774,  243.10153363,  419.45884914,   16.38758033,\n",
       "         29.97866653,  481.18694249, -202.16487875,  439.0869386 ,\n",
       "        401.80039524,  476.12805161,   76.02423284,  523.85260337,\n",
       "        295.55763281,  142.23371746,  -13.94345531,  333.51307311,\n",
       "         40.66950234,  241.78961768,   68.45260212,  400.40993241,\n",
       "        325.94130695,   71.28657819,  354.35250905,  455.78157548,\n",
       "        327.37403568,  -38.15060288,  395.99300289,  317.89012526,\n",
       "        327.22498392, -171.10804198,  235.9308375 ,  228.67432427,\n",
       "        402.2296124 ,   61.55011519,  327.58727957,  -27.80888405,\n",
       "        231.0370803 ,  214.73804927,  591.61749701,  302.51259008,\n",
       "         15.23874755,  470.42615079,  115.40183322,  109.19085029,\n",
       "        445.24262969,  386.68302364,  602.84174177,  248.48519211,\n",
       "        382.94569561,  521.0940168 ,  113.30101446,   35.52424448,\n",
       "        227.76606398,   -9.59204896,   20.01429098,  -69.67499877,\n",
       "        -47.82346929,  634.59273498,   33.4493417 ,  220.7831253 ,\n",
       "        165.92033584,  376.03842413,   67.29232163,  202.27091346,\n",
       "        386.79861415,  607.73912925,  289.7872339 ,  340.31916748,\n",
       "        550.23838836,  248.58517142,  171.92911213,  333.89385769,\n",
       "        505.56983337,  338.12711744,  354.69101114,  363.41012263,\n",
       "        350.97696039,  -10.68740151,  247.32122954,   41.55916183,\n",
       "        418.35027892,  265.03353582,  456.6577952 ,  218.41799046,\n",
       "        317.78496279,  348.3587714 ,  257.65517439,  369.05631267,\n",
       "         -6.91498399,  428.41895627,  295.95253391,  217.39875574,\n",
       "        518.32632693,   68.76737459,  310.77102506,  108.77634989])"
      ]
     },
     "execution_count": 222,
     "metadata": {},
     "output_type": "execute_result"
    }
   ],
   "source": [
    "lr_pred"
   ]
  },
  {
   "cell_type": "code",
   "execution_count": 223,
   "id": "bad7743a",
   "metadata": {},
   "outputs": [
    {
     "data": {
      "text/plain": [
       "0.29837437125754407"
      ]
     },
     "execution_count": 223,
     "metadata": {},
     "output_type": "execute_result"
    }
   ],
   "source": [
    "lr.score(x_train,y_train)"
   ]
  },
  {
   "cell_type": "code",
   "execution_count": 224,
   "id": "ecb8b3eb",
   "metadata": {},
   "outputs": [
    {
     "data": {
      "text/plain": [
       "0.22437317637882204"
      ]
     },
     "execution_count": 224,
     "metadata": {},
     "output_type": "execute_result"
    }
   ],
   "source": [
    "lr.score(x_test,y_test)"
   ]
  },
  {
   "cell_type": "code",
   "execution_count": 225,
   "id": "8dc7f284",
   "metadata": {},
   "outputs": [
    {
     "data": {
      "text/plain": [
       "189.28903065681672"
      ]
     },
     "execution_count": 225,
     "metadata": {},
     "output_type": "execute_result"
    }
   ],
   "source": [
    "mean_absolute_error(y_test,lr_pred)"
   ]
  },
  {
   "cell_type": "code",
   "execution_count": 226,
   "id": "950679d4",
   "metadata": {},
   "outputs": [
    {
     "data": {
      "text/plain": [
       "72743.73157917974"
      ]
     },
     "execution_count": 226,
     "metadata": {},
     "output_type": "execute_result"
    }
   ],
   "source": [
    "mean_squared_error(y_test,lr_pred)"
   ]
  },
  {
   "cell_type": "code",
   "execution_count": 227,
   "id": "367bd70c",
   "metadata": {},
   "outputs": [
    {
     "data": {
      "text/plain": [
       "269.7104587871589"
      ]
     },
     "execution_count": 227,
     "metadata": {},
     "output_type": "execute_result"
    }
   ],
   "source": [
    "np.sqrt(mean_squared_error(y_test,lr_pred))"
   ]
  },
  {
   "cell_type": "code",
   "execution_count": null,
   "id": "f8e94f75",
   "metadata": {},
   "outputs": [],
   "source": []
  },
  {
   "cell_type": "code",
   "execution_count": null,
   "id": "b7715c5a",
   "metadata": {},
   "outputs": [],
   "source": []
  },
  {
   "cell_type": "code",
   "execution_count": null,
   "id": "3bd0aaa7",
   "metadata": {},
   "outputs": [],
   "source": []
  },
  {
   "cell_type": "code",
   "execution_count": 228,
   "id": "41b5a62d",
   "metadata": {},
   "outputs": [],
   "source": [
    "from sklearn.ensemble import AdaBoostRegressor"
   ]
  },
  {
   "cell_type": "code",
   "execution_count": null,
   "id": "0df7824f",
   "metadata": {},
   "outputs": [],
   "source": []
  },
  {
   "cell_type": "code",
   "execution_count": 229,
   "id": "765b5f61",
   "metadata": {},
   "outputs": [
    {
     "data": {
      "text/html": [
       "<style>#sk-container-id-2 {color: black;background-color: white;}#sk-container-id-2 pre{padding: 0;}#sk-container-id-2 div.sk-toggleable {background-color: white;}#sk-container-id-2 label.sk-toggleable__label {cursor: pointer;display: block;width: 100%;margin-bottom: 0;padding: 0.3em;box-sizing: border-box;text-align: center;}#sk-container-id-2 label.sk-toggleable__label-arrow:before {content: \"▸\";float: left;margin-right: 0.25em;color: #696969;}#sk-container-id-2 label.sk-toggleable__label-arrow:hover:before {color: black;}#sk-container-id-2 div.sk-estimator:hover label.sk-toggleable__label-arrow:before {color: black;}#sk-container-id-2 div.sk-toggleable__content {max-height: 0;max-width: 0;overflow: hidden;text-align: left;background-color: #f0f8ff;}#sk-container-id-2 div.sk-toggleable__content pre {margin: 0.2em;color: black;border-radius: 0.25em;background-color: #f0f8ff;}#sk-container-id-2 input.sk-toggleable__control:checked~div.sk-toggleable__content {max-height: 200px;max-width: 100%;overflow: auto;}#sk-container-id-2 input.sk-toggleable__control:checked~label.sk-toggleable__label-arrow:before {content: \"▾\";}#sk-container-id-2 div.sk-estimator input.sk-toggleable__control:checked~label.sk-toggleable__label {background-color: #d4ebff;}#sk-container-id-2 div.sk-label input.sk-toggleable__control:checked~label.sk-toggleable__label {background-color: #d4ebff;}#sk-container-id-2 input.sk-hidden--visually {border: 0;clip: rect(1px 1px 1px 1px);clip: rect(1px, 1px, 1px, 1px);height: 1px;margin: -1px;overflow: hidden;padding: 0;position: absolute;width: 1px;}#sk-container-id-2 div.sk-estimator {font-family: monospace;background-color: #f0f8ff;border: 1px dotted black;border-radius: 0.25em;box-sizing: border-box;margin-bottom: 0.5em;}#sk-container-id-2 div.sk-estimator:hover {background-color: #d4ebff;}#sk-container-id-2 div.sk-parallel-item::after {content: \"\";width: 100%;border-bottom: 1px solid gray;flex-grow: 1;}#sk-container-id-2 div.sk-label:hover label.sk-toggleable__label {background-color: #d4ebff;}#sk-container-id-2 div.sk-serial::before {content: \"\";position: absolute;border-left: 1px solid gray;box-sizing: border-box;top: 0;bottom: 0;left: 50%;z-index: 0;}#sk-container-id-2 div.sk-serial {display: flex;flex-direction: column;align-items: center;background-color: white;padding-right: 0.2em;padding-left: 0.2em;position: relative;}#sk-container-id-2 div.sk-item {position: relative;z-index: 1;}#sk-container-id-2 div.sk-parallel {display: flex;align-items: stretch;justify-content: center;background-color: white;position: relative;}#sk-container-id-2 div.sk-item::before, #sk-container-id-2 div.sk-parallel-item::before {content: \"\";position: absolute;border-left: 1px solid gray;box-sizing: border-box;top: 0;bottom: 0;left: 50%;z-index: -1;}#sk-container-id-2 div.sk-parallel-item {display: flex;flex-direction: column;z-index: 1;position: relative;background-color: white;}#sk-container-id-2 div.sk-parallel-item:first-child::after {align-self: flex-end;width: 50%;}#sk-container-id-2 div.sk-parallel-item:last-child::after {align-self: flex-start;width: 50%;}#sk-container-id-2 div.sk-parallel-item:only-child::after {width: 0;}#sk-container-id-2 div.sk-dashed-wrapped {border: 1px dashed gray;margin: 0 0.4em 0.5em 0.4em;box-sizing: border-box;padding-bottom: 0.4em;background-color: white;}#sk-container-id-2 div.sk-label label {font-family: monospace;font-weight: bold;display: inline-block;line-height: 1.2em;}#sk-container-id-2 div.sk-label-container {text-align: center;}#sk-container-id-2 div.sk-container {/* jupyter's `normalize.less` sets `[hidden] { display: none; }` but bootstrap.min.css set `[hidden] { display: none !important; }` so we also need the `!important` here to be able to override the default hidden behavior on the sphinx rendered scikit-learn.org. See: https://github.com/scikit-learn/scikit-learn/issues/21755 */display: inline-block !important;position: relative;}#sk-container-id-2 div.sk-text-repr-fallback {display: none;}</style><div id=\"sk-container-id-2\" class=\"sk-top-container\"><div class=\"sk-text-repr-fallback\"><pre>AdaBoostRegressor()</pre><b>In a Jupyter environment, please rerun this cell to show the HTML representation or trust the notebook. <br />On GitHub, the HTML representation is unable to render, please try loading this page with nbviewer.org.</b></div><div class=\"sk-container\" hidden><div class=\"sk-item\"><div class=\"sk-estimator sk-toggleable\"><input class=\"sk-toggleable__control sk-hidden--visually\" id=\"sk-estimator-id-2\" type=\"checkbox\" checked><label for=\"sk-estimator-id-2\" class=\"sk-toggleable__label sk-toggleable__label-arrow\">AdaBoostRegressor</label><div class=\"sk-toggleable__content\"><pre>AdaBoostRegressor()</pre></div></div></div></div></div>"
      ],
      "text/plain": [
       "AdaBoostRegressor()"
      ]
     },
     "execution_count": 229,
     "metadata": {},
     "output_type": "execute_result"
    }
   ],
   "source": [
    "ada = AdaBoostRegressor()\n",
    "\n",
    "ada.fit(x_train,y_train)"
   ]
  },
  {
   "cell_type": "code",
   "execution_count": null,
   "id": "50dc4ba1",
   "metadata": {},
   "outputs": [],
   "source": []
  },
  {
   "cell_type": "code",
   "execution_count": 230,
   "id": "d85c72f7",
   "metadata": {},
   "outputs": [],
   "source": [
    "ada_pred = ada.predict(x_test)"
   ]
  },
  {
   "cell_type": "code",
   "execution_count": 231,
   "id": "791576dd",
   "metadata": {},
   "outputs": [
    {
     "data": {
      "text/plain": [
       "array([217.61673684, 407.33333333, 387.853625  , 173.5915    ,\n",
       "       223.13484848, 103.031     , 532.998     , 257.49901961,\n",
       "       466.68012821, 649.86956522, 464.6       , 184.05662162,\n",
       "       615.11598291, 434.19318182, 216.82352941, 485.43484375,\n",
       "       103.031     , 254.83403846, 316.16131579, 217.61673684,\n",
       "       615.11598291, 257.49901961, 254.83403846, 535.44      ,\n",
       "        90.74411765, 591.2148125 , 591.2148125 ,  99.61634615,\n",
       "        99.61634615, 591.2148125 ,  94.03896104, 692.90380117,\n",
       "       692.90380117, 683.33333333,  99.61634615, 552.84619048,\n",
       "       698.54764398,  99.61634615, 103.031     , 435.65753247,\n",
       "       217.61673684, 345.81642857, 111.94866667, 170.37708333,\n",
       "       435.65753247, 150.        , 532.998     , 692.90380117,\n",
       "       439.22272727,  94.03896104, 457.87207965, 434.19318182,\n",
       "       173.5915    , 111.94866667, 373.75428571, 630.44185897,\n",
       "       506.34295154, 117.66551724, 387.853625  ,  99.61634615,\n",
       "       320.94381818,  79.58727273, 692.90380117, 696.552     ,\n",
       "       103.04520548, 525.60506944, 254.83403846,  99.61634615,\n",
       "       782.93421053, 463.44594595, 698.54764398, 152.19153846,\n",
       "       439.22272727, 698.54764398, 316.16131579, 223.13484848,\n",
       "       435.65753247, 111.94866667,  99.61634615,  94.03896104,\n",
       "        90.74411765, 698.54764398,  90.74411765, 316.16131579,\n",
       "       373.75428571, 457.87207965, 379.0285    , 387.853625  ,\n",
       "       312.62653061, 704.16666667, 272.69651515, 457.87207965,\n",
       "       591.2148125 , 381.48992647, 204.80572917, 254.83403846,\n",
       "       552.84619048, 613.66787879, 170.37708333, 170.37708333,\n",
       "       387.853625  ,  99.61634615, 379.0285    , 117.66551724,\n",
       "       457.87207965, 381.48992647, 580.44571429, 387.853625  ,\n",
       "       379.0285    , 439.22272727, 217.61673684, 216.82352941,\n",
       "        99.61634615, 506.34295154, 152.19153846, 381.48992647,\n",
       "       615.11598291, 111.94866667, 435.65753247,  94.03896104])"
      ]
     },
     "execution_count": 231,
     "metadata": {},
     "output_type": "execute_result"
    }
   ],
   "source": [
    "ada_pred"
   ]
  },
  {
   "cell_type": "code",
   "execution_count": 232,
   "id": "4580caac",
   "metadata": {},
   "outputs": [
    {
     "data": {
      "text/plain": [
       "0.6068682797191662"
      ]
     },
     "execution_count": 232,
     "metadata": {},
     "output_type": "execute_result"
    }
   ],
   "source": [
    "ada.score(x_train,y_train)"
   ]
  },
  {
   "cell_type": "code",
   "execution_count": 233,
   "id": "285f141b",
   "metadata": {},
   "outputs": [
    {
     "data": {
      "text/plain": [
       "0.27400043731503065"
      ]
     },
     "execution_count": 233,
     "metadata": {},
     "output_type": "execute_result"
    }
   ],
   "source": [
    "ada.score(x_test,y_test)"
   ]
  },
  {
   "cell_type": "code",
   "execution_count": 234,
   "id": "63931bef",
   "metadata": {},
   "outputs": [
    {
     "data": {
      "text/plain": [
       "201.14511633931718"
      ]
     },
     "execution_count": 234,
     "metadata": {},
     "output_type": "execute_result"
    }
   ],
   "source": [
    "mean_absolute_error(y_test,ada_pred)"
   ]
  },
  {
   "cell_type": "code",
   "execution_count": 235,
   "id": "2e793430",
   "metadata": {},
   "outputs": [
    {
     "data": {
      "text/plain": [
       "68089.33846304294"
      ]
     },
     "execution_count": 235,
     "metadata": {},
     "output_type": "execute_result"
    }
   ],
   "source": [
    "mean_squared_error(y_test,ada_pred)"
   ]
  },
  {
   "cell_type": "code",
   "execution_count": 236,
   "id": "d9834cc7",
   "metadata": {},
   "outputs": [
    {
     "data": {
      "text/plain": [
       "260.93933866522104"
      ]
     },
     "execution_count": 236,
     "metadata": {},
     "output_type": "execute_result"
    }
   ],
   "source": [
    "np.sqrt(mean_squared_error(y_test,ada_pred))"
   ]
  },
  {
   "cell_type": "code",
   "execution_count": null,
   "id": "caa1030a",
   "metadata": {},
   "outputs": [],
   "source": []
  },
  {
   "cell_type": "code",
   "execution_count": null,
   "id": "ad371535",
   "metadata": {},
   "outputs": [],
   "source": []
  },
  {
   "cell_type": "code",
   "execution_count": null,
   "id": "56f25c7a",
   "metadata": {},
   "outputs": [],
   "source": []
  },
  {
   "cell_type": "code",
   "execution_count": null,
   "id": "fadeb1f0",
   "metadata": {},
   "outputs": [],
   "source": []
  },
  {
   "cell_type": "code",
   "execution_count": 237,
   "id": "11f9f993",
   "metadata": {},
   "outputs": [],
   "source": [
    "from sklearn.ensemble import RandomForestRegressor"
   ]
  },
  {
   "cell_type": "code",
   "execution_count": null,
   "id": "71d05b23",
   "metadata": {},
   "outputs": [],
   "source": []
  },
  {
   "cell_type": "code",
   "execution_count": 238,
   "id": "9486cd64",
   "metadata": {},
   "outputs": [
    {
     "data": {
      "text/html": [
       "<style>#sk-container-id-3 {color: black;background-color: white;}#sk-container-id-3 pre{padding: 0;}#sk-container-id-3 div.sk-toggleable {background-color: white;}#sk-container-id-3 label.sk-toggleable__label {cursor: pointer;display: block;width: 100%;margin-bottom: 0;padding: 0.3em;box-sizing: border-box;text-align: center;}#sk-container-id-3 label.sk-toggleable__label-arrow:before {content: \"▸\";float: left;margin-right: 0.25em;color: #696969;}#sk-container-id-3 label.sk-toggleable__label-arrow:hover:before {color: black;}#sk-container-id-3 div.sk-estimator:hover label.sk-toggleable__label-arrow:before {color: black;}#sk-container-id-3 div.sk-toggleable__content {max-height: 0;max-width: 0;overflow: hidden;text-align: left;background-color: #f0f8ff;}#sk-container-id-3 div.sk-toggleable__content pre {margin: 0.2em;color: black;border-radius: 0.25em;background-color: #f0f8ff;}#sk-container-id-3 input.sk-toggleable__control:checked~div.sk-toggleable__content {max-height: 200px;max-width: 100%;overflow: auto;}#sk-container-id-3 input.sk-toggleable__control:checked~label.sk-toggleable__label-arrow:before {content: \"▾\";}#sk-container-id-3 div.sk-estimator input.sk-toggleable__control:checked~label.sk-toggleable__label {background-color: #d4ebff;}#sk-container-id-3 div.sk-label input.sk-toggleable__control:checked~label.sk-toggleable__label {background-color: #d4ebff;}#sk-container-id-3 input.sk-hidden--visually {border: 0;clip: rect(1px 1px 1px 1px);clip: rect(1px, 1px, 1px, 1px);height: 1px;margin: -1px;overflow: hidden;padding: 0;position: absolute;width: 1px;}#sk-container-id-3 div.sk-estimator {font-family: monospace;background-color: #f0f8ff;border: 1px dotted black;border-radius: 0.25em;box-sizing: border-box;margin-bottom: 0.5em;}#sk-container-id-3 div.sk-estimator:hover {background-color: #d4ebff;}#sk-container-id-3 div.sk-parallel-item::after {content: \"\";width: 100%;border-bottom: 1px solid gray;flex-grow: 1;}#sk-container-id-3 div.sk-label:hover label.sk-toggleable__label {background-color: #d4ebff;}#sk-container-id-3 div.sk-serial::before {content: \"\";position: absolute;border-left: 1px solid gray;box-sizing: border-box;top: 0;bottom: 0;left: 50%;z-index: 0;}#sk-container-id-3 div.sk-serial {display: flex;flex-direction: column;align-items: center;background-color: white;padding-right: 0.2em;padding-left: 0.2em;position: relative;}#sk-container-id-3 div.sk-item {position: relative;z-index: 1;}#sk-container-id-3 div.sk-parallel {display: flex;align-items: stretch;justify-content: center;background-color: white;position: relative;}#sk-container-id-3 div.sk-item::before, #sk-container-id-3 div.sk-parallel-item::before {content: \"\";position: absolute;border-left: 1px solid gray;box-sizing: border-box;top: 0;bottom: 0;left: 50%;z-index: -1;}#sk-container-id-3 div.sk-parallel-item {display: flex;flex-direction: column;z-index: 1;position: relative;background-color: white;}#sk-container-id-3 div.sk-parallel-item:first-child::after {align-self: flex-end;width: 50%;}#sk-container-id-3 div.sk-parallel-item:last-child::after {align-self: flex-start;width: 50%;}#sk-container-id-3 div.sk-parallel-item:only-child::after {width: 0;}#sk-container-id-3 div.sk-dashed-wrapped {border: 1px dashed gray;margin: 0 0.4em 0.5em 0.4em;box-sizing: border-box;padding-bottom: 0.4em;background-color: white;}#sk-container-id-3 div.sk-label label {font-family: monospace;font-weight: bold;display: inline-block;line-height: 1.2em;}#sk-container-id-3 div.sk-label-container {text-align: center;}#sk-container-id-3 div.sk-container {/* jupyter's `normalize.less` sets `[hidden] { display: none; }` but bootstrap.min.css set `[hidden] { display: none !important; }` so we also need the `!important` here to be able to override the default hidden behavior on the sphinx rendered scikit-learn.org. See: https://github.com/scikit-learn/scikit-learn/issues/21755 */display: inline-block !important;position: relative;}#sk-container-id-3 div.sk-text-repr-fallback {display: none;}</style><div id=\"sk-container-id-3\" class=\"sk-top-container\"><div class=\"sk-text-repr-fallback\"><pre>RandomForestRegressor()</pre><b>In a Jupyter environment, please rerun this cell to show the HTML representation or trust the notebook. <br />On GitHub, the HTML representation is unable to render, please try loading this page with nbviewer.org.</b></div><div class=\"sk-container\" hidden><div class=\"sk-item\"><div class=\"sk-estimator sk-toggleable\"><input class=\"sk-toggleable__control sk-hidden--visually\" id=\"sk-estimator-id-3\" type=\"checkbox\" checked><label for=\"sk-estimator-id-3\" class=\"sk-toggleable__label sk-toggleable__label-arrow\">RandomForestRegressor</label><div class=\"sk-toggleable__content\"><pre>RandomForestRegressor()</pre></div></div></div></div></div>"
      ],
      "text/plain": [
       "RandomForestRegressor()"
      ]
     },
     "execution_count": 238,
     "metadata": {},
     "output_type": "execute_result"
    }
   ],
   "source": [
    "rf = RandomForestRegressor()\n",
    "\n",
    "rf.fit(x_train,y_train)"
   ]
  },
  {
   "cell_type": "code",
   "execution_count": 239,
   "id": "7b191725",
   "metadata": {},
   "outputs": [],
   "source": [
    "rf_pred = rf.predict(x_test)"
   ]
  },
  {
   "cell_type": "code",
   "execution_count": 240,
   "id": "5b7fe687",
   "metadata": {},
   "outputs": [
    {
     "data": {
      "text/plain": [
       "array([   7.614 ,  273.1919,   16.9754,   43.435 ,   93.064 ,   33.3225,\n",
       "        350.764 ,  126.966 ,  591.2646,  758.69  ,  520.6265,   13.911 ,\n",
       "         76.7231,   10.899 ,  130.277 ,  173.7304,   67.573 ,  124.829 ,\n",
       "        251.0965,    8.023 ,  496.2054,   80.017 ,  315.7536,  374.0374,\n",
       "          6.0825,  911.5012,  585.6104,   44.1615,   13.8795,   95.3617,\n",
       "          9.206 ,  596.1594,  809.9178,  842.0278,   25.3905,  531.27  ,\n",
       "       1280.75  ,   25.496 ,   29.2035,  299.0906,   48.091 ,  123.365 ,\n",
       "         37.899 ,   46.021 ,  288.3343,   54.452 ,  848.4081,  590.6088,\n",
       "         12.555 ,   36.357 ,  668.0832,   13.8674,   64.284 ,   20.5229,\n",
       "         51.112 ,  391.2017,  465.752 ,   30.282 ,   73.5494,   19.7935,\n",
       "        262.3711,   23.1329,  691.1133,  502.9088,   20.3125,  606.026 ,\n",
       "        135.017 ,   59.296 ,  946.596 ,  653.8392,  561.0134,   19.126 ,\n",
       "         13.1706,  677.6432,   64.006 ,   91.734 ,  544.5323,   12.561 ,\n",
       "         14.93  ,   27.3555,   21.0335,  656.8706,   15.5025,  749.3954,\n",
       "        122.5145,   53.5884,  230.5965,  547.186 ,   63.0599,  691.15  ,\n",
       "         10.8869,  643.4656,  531.837 ,  273.2685,  138.291 ,   19.0618,\n",
       "        638.3239,  561.7702,   36.731 ,   43.756 ,   18.7612,   20.5905,\n",
       "        264.0313,   17.2365,  196.4101,  280.9405,   68.3714,  190.157 ,\n",
       "        764.2154,   26.9624,    8.781 ,  155.239 ,   22.3125,  296.4864,\n",
       "         13.547 ,  374.8394,  589.1968,   30.87  ,  305.1578,   61.3615])"
      ]
     },
     "execution_count": 240,
     "metadata": {},
     "output_type": "execute_result"
    }
   ],
   "source": [
    "rf_pred"
   ]
  },
  {
   "cell_type": "code",
   "execution_count": 241,
   "id": "b4f580d0",
   "metadata": {},
   "outputs": [
    {
     "data": {
      "text/plain": [
       "0.9305960781592569"
      ]
     },
     "execution_count": 241,
     "metadata": {},
     "output_type": "execute_result"
    }
   ],
   "source": [
    "rf.score(x_train,y_train)"
   ]
  },
  {
   "cell_type": "code",
   "execution_count": 242,
   "id": "19f18db4",
   "metadata": {},
   "outputs": [
    {
     "data": {
      "text/plain": [
       "0.5083563922721641"
      ]
     },
     "execution_count": 242,
     "metadata": {},
     "output_type": "execute_result"
    }
   ],
   "source": [
    "rf.score(x_test,y_test)"
   ]
  },
  {
   "cell_type": "code",
   "execution_count": 243,
   "id": "9c06584f",
   "metadata": {},
   "outputs": [
    {
     "data": {
      "text/plain": [
       "122.81475416666666"
      ]
     },
     "execution_count": 243,
     "metadata": {},
     "output_type": "execute_result"
    }
   ],
   "source": [
    "mean_absolute_error(y_test,rf_pred)"
   ]
  },
  {
   "cell_type": "code",
   "execution_count": 244,
   "id": "ac4638c4",
   "metadata": {},
   "outputs": [
    {
     "data": {
      "text/plain": [
       "46109.79087365942"
      ]
     },
     "execution_count": 244,
     "metadata": {},
     "output_type": "execute_result"
    }
   ],
   "source": [
    "mean_squared_error(y_test,rf_pred)"
   ]
  },
  {
   "cell_type": "code",
   "execution_count": 245,
   "id": "db72ea5a",
   "metadata": {},
   "outputs": [
    {
     "data": {
      "text/plain": [
       "214.731904647771"
      ]
     },
     "execution_count": 245,
     "metadata": {},
     "output_type": "execute_result"
    }
   ],
   "source": [
    "np.sqrt(mean_squared_error(y_test,rf_pred))"
   ]
  },
  {
   "cell_type": "code",
   "execution_count": null,
   "id": "a4bd995b",
   "metadata": {},
   "outputs": [],
   "source": []
  },
  {
   "cell_type": "code",
   "execution_count": null,
   "id": "e8db0d1b",
   "metadata": {},
   "outputs": [],
   "source": []
  },
  {
   "cell_type": "code",
   "execution_count": null,
   "id": "2bdb2a8d",
   "metadata": {},
   "outputs": [],
   "source": []
  },
  {
   "cell_type": "code",
   "execution_count": null,
   "id": "f1ac06ad",
   "metadata": {},
   "outputs": [],
   "source": []
  },
  {
   "cell_type": "code",
   "execution_count": 246,
   "id": "6774e42c",
   "metadata": {},
   "outputs": [],
   "source": [
    "from sklearn.svm import SVR"
   ]
  },
  {
   "cell_type": "code",
   "execution_count": null,
   "id": "bedf2019",
   "metadata": {},
   "outputs": [],
   "source": []
  },
  {
   "cell_type": "code",
   "execution_count": 247,
   "id": "5955c033",
   "metadata": {},
   "outputs": [],
   "source": [
    "svr = SVR()"
   ]
  },
  {
   "cell_type": "code",
   "execution_count": 248,
   "id": "003ad416",
   "metadata": {},
   "outputs": [
    {
     "data": {
      "text/html": [
       "<style>#sk-container-id-4 {color: black;background-color: white;}#sk-container-id-4 pre{padding: 0;}#sk-container-id-4 div.sk-toggleable {background-color: white;}#sk-container-id-4 label.sk-toggleable__label {cursor: pointer;display: block;width: 100%;margin-bottom: 0;padding: 0.3em;box-sizing: border-box;text-align: center;}#sk-container-id-4 label.sk-toggleable__label-arrow:before {content: \"▸\";float: left;margin-right: 0.25em;color: #696969;}#sk-container-id-4 label.sk-toggleable__label-arrow:hover:before {color: black;}#sk-container-id-4 div.sk-estimator:hover label.sk-toggleable__label-arrow:before {color: black;}#sk-container-id-4 div.sk-toggleable__content {max-height: 0;max-width: 0;overflow: hidden;text-align: left;background-color: #f0f8ff;}#sk-container-id-4 div.sk-toggleable__content pre {margin: 0.2em;color: black;border-radius: 0.25em;background-color: #f0f8ff;}#sk-container-id-4 input.sk-toggleable__control:checked~div.sk-toggleable__content {max-height: 200px;max-width: 100%;overflow: auto;}#sk-container-id-4 input.sk-toggleable__control:checked~label.sk-toggleable__label-arrow:before {content: \"▾\";}#sk-container-id-4 div.sk-estimator input.sk-toggleable__control:checked~label.sk-toggleable__label {background-color: #d4ebff;}#sk-container-id-4 div.sk-label input.sk-toggleable__control:checked~label.sk-toggleable__label {background-color: #d4ebff;}#sk-container-id-4 input.sk-hidden--visually {border: 0;clip: rect(1px 1px 1px 1px);clip: rect(1px, 1px, 1px, 1px);height: 1px;margin: -1px;overflow: hidden;padding: 0;position: absolute;width: 1px;}#sk-container-id-4 div.sk-estimator {font-family: monospace;background-color: #f0f8ff;border: 1px dotted black;border-radius: 0.25em;box-sizing: border-box;margin-bottom: 0.5em;}#sk-container-id-4 div.sk-estimator:hover {background-color: #d4ebff;}#sk-container-id-4 div.sk-parallel-item::after {content: \"\";width: 100%;border-bottom: 1px solid gray;flex-grow: 1;}#sk-container-id-4 div.sk-label:hover label.sk-toggleable__label {background-color: #d4ebff;}#sk-container-id-4 div.sk-serial::before {content: \"\";position: absolute;border-left: 1px solid gray;box-sizing: border-box;top: 0;bottom: 0;left: 50%;z-index: 0;}#sk-container-id-4 div.sk-serial {display: flex;flex-direction: column;align-items: center;background-color: white;padding-right: 0.2em;padding-left: 0.2em;position: relative;}#sk-container-id-4 div.sk-item {position: relative;z-index: 1;}#sk-container-id-4 div.sk-parallel {display: flex;align-items: stretch;justify-content: center;background-color: white;position: relative;}#sk-container-id-4 div.sk-item::before, #sk-container-id-4 div.sk-parallel-item::before {content: \"\";position: absolute;border-left: 1px solid gray;box-sizing: border-box;top: 0;bottom: 0;left: 50%;z-index: -1;}#sk-container-id-4 div.sk-parallel-item {display: flex;flex-direction: column;z-index: 1;position: relative;background-color: white;}#sk-container-id-4 div.sk-parallel-item:first-child::after {align-self: flex-end;width: 50%;}#sk-container-id-4 div.sk-parallel-item:last-child::after {align-self: flex-start;width: 50%;}#sk-container-id-4 div.sk-parallel-item:only-child::after {width: 0;}#sk-container-id-4 div.sk-dashed-wrapped {border: 1px dashed gray;margin: 0 0.4em 0.5em 0.4em;box-sizing: border-box;padding-bottom: 0.4em;background-color: white;}#sk-container-id-4 div.sk-label label {font-family: monospace;font-weight: bold;display: inline-block;line-height: 1.2em;}#sk-container-id-4 div.sk-label-container {text-align: center;}#sk-container-id-4 div.sk-container {/* jupyter's `normalize.less` sets `[hidden] { display: none; }` but bootstrap.min.css set `[hidden] { display: none !important; }` so we also need the `!important` here to be able to override the default hidden behavior on the sphinx rendered scikit-learn.org. See: https://github.com/scikit-learn/scikit-learn/issues/21755 */display: inline-block !important;position: relative;}#sk-container-id-4 div.sk-text-repr-fallback {display: none;}</style><div id=\"sk-container-id-4\" class=\"sk-top-container\"><div class=\"sk-text-repr-fallback\"><pre>SVR()</pre><b>In a Jupyter environment, please rerun this cell to show the HTML representation or trust the notebook. <br />On GitHub, the HTML representation is unable to render, please try loading this page with nbviewer.org.</b></div><div class=\"sk-container\" hidden><div class=\"sk-item\"><div class=\"sk-estimator sk-toggleable\"><input class=\"sk-toggleable__control sk-hidden--visually\" id=\"sk-estimator-id-4\" type=\"checkbox\" checked><label for=\"sk-estimator-id-4\" class=\"sk-toggleable__label sk-toggleable__label-arrow\">SVR</label><div class=\"sk-toggleable__content\"><pre>SVR()</pre></div></div></div></div></div>"
      ],
      "text/plain": [
       "SVR()"
      ]
     },
     "execution_count": 248,
     "metadata": {},
     "output_type": "execute_result"
    }
   ],
   "source": [
    "svr.fit(x_train,y_train)"
   ]
  },
  {
   "cell_type": "code",
   "execution_count": 249,
   "id": "12bdd064",
   "metadata": {},
   "outputs": [],
   "source": [
    "svr_pred = svr.predict(x_test)"
   ]
  },
  {
   "cell_type": "code",
   "execution_count": null,
   "id": "d672985a",
   "metadata": {},
   "outputs": [],
   "source": []
  },
  {
   "cell_type": "code",
   "execution_count": 250,
   "id": "555fcbe6",
   "metadata": {},
   "outputs": [
    {
     "data": {
      "text/plain": [
       "-0.15255204865919225"
      ]
     },
     "execution_count": 250,
     "metadata": {},
     "output_type": "execute_result"
    }
   ],
   "source": [
    "svr.score(x_train,y_train)"
   ]
  },
  {
   "cell_type": "code",
   "execution_count": 251,
   "id": "e867eb56",
   "metadata": {},
   "outputs": [
    {
     "data": {
      "text/plain": [
       "-0.2557839480471267"
      ]
     },
     "execution_count": 251,
     "metadata": {},
     "output_type": "execute_result"
    }
   ],
   "source": [
    "svr.score(x_test,y_test)"
   ]
  },
  {
   "cell_type": "code",
   "execution_count": 252,
   "id": "71389ea1",
   "metadata": {},
   "outputs": [
    {
     "data": {
      "text/plain": [
       "210.4480241644185"
      ]
     },
     "execution_count": 252,
     "metadata": {},
     "output_type": "execute_result"
    }
   ],
   "source": [
    "mean_absolute_error(y_test,svr_pred)"
   ]
  },
  {
   "cell_type": "code",
   "execution_count": 253,
   "id": "b25e79f5",
   "metadata": {},
   "outputs": [
    {
     "data": {
      "text/plain": [
       "117776.23936688274"
      ]
     },
     "execution_count": 253,
     "metadata": {},
     "output_type": "execute_result"
    }
   ],
   "source": [
    "mean_squared_error(y_test,svr_pred)"
   ]
  },
  {
   "cell_type": "code",
   "execution_count": 254,
   "id": "7cfda83d",
   "metadata": {},
   "outputs": [
    {
     "data": {
      "text/plain": [
       "343.1854300037849"
      ]
     },
     "execution_count": 254,
     "metadata": {},
     "output_type": "execute_result"
    }
   ],
   "source": [
    "np.sqrt(mean_squared_error(y_test,svr_pred))"
   ]
  },
  {
   "cell_type": "code",
   "execution_count": null,
   "id": "f3119ce3",
   "metadata": {},
   "outputs": [],
   "source": []
  },
  {
   "cell_type": "code",
   "execution_count": null,
   "id": "67b9f131",
   "metadata": {},
   "outputs": [],
   "source": []
  },
  {
   "cell_type": "code",
   "execution_count": 255,
   "id": "3974c3cb",
   "metadata": {},
   "outputs": [],
   "source": [
    "# for regression, random forest is performing in some good-way, let's consider it"
   ]
  },
  {
   "cell_type": "code",
   "execution_count": null,
   "id": "472eed43",
   "metadata": {},
   "outputs": [],
   "source": []
  },
  {
   "cell_type": "code",
   "execution_count": 256,
   "id": "80bb56aa",
   "metadata": {},
   "outputs": [],
   "source": [
    "import pickle"
   ]
  },
  {
   "cell_type": "code",
   "execution_count": 257,
   "id": "cfe3c78b",
   "metadata": {},
   "outputs": [],
   "source": [
    "pickle.dump(rf,open('rf_GPPlant','wb'))"
   ]
  },
  {
   "cell_type": "code",
   "execution_count": null,
   "id": "8b122600",
   "metadata": {},
   "outputs": [],
   "source": []
  },
  {
   "cell_type": "code",
   "execution_count": null,
   "id": "59e8cdb0",
   "metadata": {},
   "outputs": [],
   "source": []
  },
  {
   "cell_type": "code",
   "execution_count": null,
   "id": "9ac0ece7",
   "metadata": {},
   "outputs": [],
   "source": []
  },
  {
   "cell_type": "code",
   "execution_count": null,
   "id": "b954afa5",
   "metadata": {},
   "outputs": [],
   "source": []
  },
  {
   "cell_type": "code",
   "execution_count": 258,
   "id": "3ca610a2",
   "metadata": {},
   "outputs": [],
   "source": [
    "# for classification "
   ]
  },
  {
   "cell_type": "code",
   "execution_count": 259,
   "id": "06f58c59",
   "metadata": {},
   "outputs": [],
   "source": [
    "x = df.drop(columns=['name'])\n",
    "x = df.drop(columns=['primary_fuel'])\n",
    "\n",
    "y = df['primary_fuel']"
   ]
  },
  {
   "cell_type": "code",
   "execution_count": 260,
   "id": "2862de42",
   "metadata": {},
   "outputs": [],
   "source": [
    "x_scaled = scaler.fit_transform(x)"
   ]
  },
  {
   "cell_type": "code",
   "execution_count": 261,
   "id": "253c56b5",
   "metadata": {},
   "outputs": [],
   "source": [
    "x_train,x_test,y_train,y_test = train_test_split(x_scaled,y,test_size=0.25,random_state=100)"
   ]
  },
  {
   "cell_type": "code",
   "execution_count": null,
   "id": "b6c4eda9",
   "metadata": {},
   "outputs": [],
   "source": []
  },
  {
   "cell_type": "code",
   "execution_count": 262,
   "id": "38e47533",
   "metadata": {},
   "outputs": [],
   "source": [
    "from sklearn.linear_model import LogisticRegression\n",
    "\n",
    "from sklearn.metrics import classification_report,confusion_matrix,accuracy_score,roc_curve,roc_auc_score,plot_roc_curve"
   ]
  },
  {
   "cell_type": "code",
   "execution_count": null,
   "id": "4ad903df",
   "metadata": {},
   "outputs": [],
   "source": []
  },
  {
   "cell_type": "code",
   "execution_count": 263,
   "id": "a5ffc920",
   "metadata": {},
   "outputs": [
    {
     "data": {
      "text/html": [
       "<style>#sk-container-id-5 {color: black;background-color: white;}#sk-container-id-5 pre{padding: 0;}#sk-container-id-5 div.sk-toggleable {background-color: white;}#sk-container-id-5 label.sk-toggleable__label {cursor: pointer;display: block;width: 100%;margin-bottom: 0;padding: 0.3em;box-sizing: border-box;text-align: center;}#sk-container-id-5 label.sk-toggleable__label-arrow:before {content: \"▸\";float: left;margin-right: 0.25em;color: #696969;}#sk-container-id-5 label.sk-toggleable__label-arrow:hover:before {color: black;}#sk-container-id-5 div.sk-estimator:hover label.sk-toggleable__label-arrow:before {color: black;}#sk-container-id-5 div.sk-toggleable__content {max-height: 0;max-width: 0;overflow: hidden;text-align: left;background-color: #f0f8ff;}#sk-container-id-5 div.sk-toggleable__content pre {margin: 0.2em;color: black;border-radius: 0.25em;background-color: #f0f8ff;}#sk-container-id-5 input.sk-toggleable__control:checked~div.sk-toggleable__content {max-height: 200px;max-width: 100%;overflow: auto;}#sk-container-id-5 input.sk-toggleable__control:checked~label.sk-toggleable__label-arrow:before {content: \"▾\";}#sk-container-id-5 div.sk-estimator input.sk-toggleable__control:checked~label.sk-toggleable__label {background-color: #d4ebff;}#sk-container-id-5 div.sk-label input.sk-toggleable__control:checked~label.sk-toggleable__label {background-color: #d4ebff;}#sk-container-id-5 input.sk-hidden--visually {border: 0;clip: rect(1px 1px 1px 1px);clip: rect(1px, 1px, 1px, 1px);height: 1px;margin: -1px;overflow: hidden;padding: 0;position: absolute;width: 1px;}#sk-container-id-5 div.sk-estimator {font-family: monospace;background-color: #f0f8ff;border: 1px dotted black;border-radius: 0.25em;box-sizing: border-box;margin-bottom: 0.5em;}#sk-container-id-5 div.sk-estimator:hover {background-color: #d4ebff;}#sk-container-id-5 div.sk-parallel-item::after {content: \"\";width: 100%;border-bottom: 1px solid gray;flex-grow: 1;}#sk-container-id-5 div.sk-label:hover label.sk-toggleable__label {background-color: #d4ebff;}#sk-container-id-5 div.sk-serial::before {content: \"\";position: absolute;border-left: 1px solid gray;box-sizing: border-box;top: 0;bottom: 0;left: 50%;z-index: 0;}#sk-container-id-5 div.sk-serial {display: flex;flex-direction: column;align-items: center;background-color: white;padding-right: 0.2em;padding-left: 0.2em;position: relative;}#sk-container-id-5 div.sk-item {position: relative;z-index: 1;}#sk-container-id-5 div.sk-parallel {display: flex;align-items: stretch;justify-content: center;background-color: white;position: relative;}#sk-container-id-5 div.sk-item::before, #sk-container-id-5 div.sk-parallel-item::before {content: \"\";position: absolute;border-left: 1px solid gray;box-sizing: border-box;top: 0;bottom: 0;left: 50%;z-index: -1;}#sk-container-id-5 div.sk-parallel-item {display: flex;flex-direction: column;z-index: 1;position: relative;background-color: white;}#sk-container-id-5 div.sk-parallel-item:first-child::after {align-self: flex-end;width: 50%;}#sk-container-id-5 div.sk-parallel-item:last-child::after {align-self: flex-start;width: 50%;}#sk-container-id-5 div.sk-parallel-item:only-child::after {width: 0;}#sk-container-id-5 div.sk-dashed-wrapped {border: 1px dashed gray;margin: 0 0.4em 0.5em 0.4em;box-sizing: border-box;padding-bottom: 0.4em;background-color: white;}#sk-container-id-5 div.sk-label label {font-family: monospace;font-weight: bold;display: inline-block;line-height: 1.2em;}#sk-container-id-5 div.sk-label-container {text-align: center;}#sk-container-id-5 div.sk-container {/* jupyter's `normalize.less` sets `[hidden] { display: none; }` but bootstrap.min.css set `[hidden] { display: none !important; }` so we also need the `!important` here to be able to override the default hidden behavior on the sphinx rendered scikit-learn.org. See: https://github.com/scikit-learn/scikit-learn/issues/21755 */display: inline-block !important;position: relative;}#sk-container-id-5 div.sk-text-repr-fallback {display: none;}</style><div id=\"sk-container-id-5\" class=\"sk-top-container\"><div class=\"sk-text-repr-fallback\"><pre>LogisticRegression()</pre><b>In a Jupyter environment, please rerun this cell to show the HTML representation or trust the notebook. <br />On GitHub, the HTML representation is unable to render, please try loading this page with nbviewer.org.</b></div><div class=\"sk-container\" hidden><div class=\"sk-item\"><div class=\"sk-estimator sk-toggleable\"><input class=\"sk-toggleable__control sk-hidden--visually\" id=\"sk-estimator-id-5\" type=\"checkbox\" checked><label for=\"sk-estimator-id-5\" class=\"sk-toggleable__label sk-toggleable__label-arrow\">LogisticRegression</label><div class=\"sk-toggleable__content\"><pre>LogisticRegression()</pre></div></div></div></div></div>"
      ],
      "text/plain": [
       "LogisticRegression()"
      ]
     },
     "execution_count": 263,
     "metadata": {},
     "output_type": "execute_result"
    }
   ],
   "source": [
    "lcr = LogisticRegression()\n",
    "\n",
    "lcr.fit(x_train,y_train)"
   ]
  },
  {
   "cell_type": "code",
   "execution_count": 264,
   "id": "2bc06eae",
   "metadata": {},
   "outputs": [],
   "source": [
    "lcr_pred = lcr.predict(x_test)"
   ]
  },
  {
   "cell_type": "code",
   "execution_count": 265,
   "id": "feb8a66e",
   "metadata": {},
   "outputs": [
    {
     "data": {
      "text/plain": [
       "0.65"
      ]
     },
     "execution_count": 265,
     "metadata": {},
     "output_type": "execute_result"
    }
   ],
   "source": [
    "accuracy = accuracy_score(y_test,lcr_pred)\n",
    "accuracy"
   ]
  },
  {
   "cell_type": "code",
   "execution_count": 266,
   "id": "b387e844",
   "metadata": {},
   "outputs": [
    {
     "name": "stdout",
     "output_type": "stream",
     "text": [
      "              precision    recall  f1-score   support\n",
      "\n",
      "           0       0.00      0.00      0.00         0\n",
      "           1       0.50      0.52      0.51        27\n",
      "           2       1.00      0.12      0.22        16\n",
      "           3       0.59      0.78      0.67        45\n",
      "           5       0.00      0.00      0.00         5\n",
      "           6       1.00      1.00      1.00         3\n",
      "           7       0.89      1.00      0.94        24\n",
      "\n",
      "    accuracy                           0.65       120\n",
      "   macro avg       0.57      0.49      0.48       120\n",
      "weighted avg       0.67      0.65      0.61       120\n",
      "\n"
     ]
    }
   ],
   "source": [
    "print(classification_report(y_test,lcr_pred))"
   ]
  },
  {
   "cell_type": "code",
   "execution_count": null,
   "id": "3d4f44ee",
   "metadata": {},
   "outputs": [],
   "source": []
  },
  {
   "cell_type": "code",
   "execution_count": null,
   "id": "e2530534",
   "metadata": {},
   "outputs": [],
   "source": []
  },
  {
   "cell_type": "code",
   "execution_count": null,
   "id": "8cccd74d",
   "metadata": {},
   "outputs": [],
   "source": []
  },
  {
   "cell_type": "code",
   "execution_count": 267,
   "id": "8d423880",
   "metadata": {},
   "outputs": [],
   "source": [
    "from sklearn.tree import DecisionTreeClassifier"
   ]
  },
  {
   "cell_type": "code",
   "execution_count": null,
   "id": "18a42fdd",
   "metadata": {},
   "outputs": [],
   "source": []
  },
  {
   "cell_type": "code",
   "execution_count": 268,
   "id": "af56aa15",
   "metadata": {},
   "outputs": [
    {
     "data": {
      "text/html": [
       "<style>#sk-container-id-6 {color: black;background-color: white;}#sk-container-id-6 pre{padding: 0;}#sk-container-id-6 div.sk-toggleable {background-color: white;}#sk-container-id-6 label.sk-toggleable__label {cursor: pointer;display: block;width: 100%;margin-bottom: 0;padding: 0.3em;box-sizing: border-box;text-align: center;}#sk-container-id-6 label.sk-toggleable__label-arrow:before {content: \"▸\";float: left;margin-right: 0.25em;color: #696969;}#sk-container-id-6 label.sk-toggleable__label-arrow:hover:before {color: black;}#sk-container-id-6 div.sk-estimator:hover label.sk-toggleable__label-arrow:before {color: black;}#sk-container-id-6 div.sk-toggleable__content {max-height: 0;max-width: 0;overflow: hidden;text-align: left;background-color: #f0f8ff;}#sk-container-id-6 div.sk-toggleable__content pre {margin: 0.2em;color: black;border-radius: 0.25em;background-color: #f0f8ff;}#sk-container-id-6 input.sk-toggleable__control:checked~div.sk-toggleable__content {max-height: 200px;max-width: 100%;overflow: auto;}#sk-container-id-6 input.sk-toggleable__control:checked~label.sk-toggleable__label-arrow:before {content: \"▾\";}#sk-container-id-6 div.sk-estimator input.sk-toggleable__control:checked~label.sk-toggleable__label {background-color: #d4ebff;}#sk-container-id-6 div.sk-label input.sk-toggleable__control:checked~label.sk-toggleable__label {background-color: #d4ebff;}#sk-container-id-6 input.sk-hidden--visually {border: 0;clip: rect(1px 1px 1px 1px);clip: rect(1px, 1px, 1px, 1px);height: 1px;margin: -1px;overflow: hidden;padding: 0;position: absolute;width: 1px;}#sk-container-id-6 div.sk-estimator {font-family: monospace;background-color: #f0f8ff;border: 1px dotted black;border-radius: 0.25em;box-sizing: border-box;margin-bottom: 0.5em;}#sk-container-id-6 div.sk-estimator:hover {background-color: #d4ebff;}#sk-container-id-6 div.sk-parallel-item::after {content: \"\";width: 100%;border-bottom: 1px solid gray;flex-grow: 1;}#sk-container-id-6 div.sk-label:hover label.sk-toggleable__label {background-color: #d4ebff;}#sk-container-id-6 div.sk-serial::before {content: \"\";position: absolute;border-left: 1px solid gray;box-sizing: border-box;top: 0;bottom: 0;left: 50%;z-index: 0;}#sk-container-id-6 div.sk-serial {display: flex;flex-direction: column;align-items: center;background-color: white;padding-right: 0.2em;padding-left: 0.2em;position: relative;}#sk-container-id-6 div.sk-item {position: relative;z-index: 1;}#sk-container-id-6 div.sk-parallel {display: flex;align-items: stretch;justify-content: center;background-color: white;position: relative;}#sk-container-id-6 div.sk-item::before, #sk-container-id-6 div.sk-parallel-item::before {content: \"\";position: absolute;border-left: 1px solid gray;box-sizing: border-box;top: 0;bottom: 0;left: 50%;z-index: -1;}#sk-container-id-6 div.sk-parallel-item {display: flex;flex-direction: column;z-index: 1;position: relative;background-color: white;}#sk-container-id-6 div.sk-parallel-item:first-child::after {align-self: flex-end;width: 50%;}#sk-container-id-6 div.sk-parallel-item:last-child::after {align-self: flex-start;width: 50%;}#sk-container-id-6 div.sk-parallel-item:only-child::after {width: 0;}#sk-container-id-6 div.sk-dashed-wrapped {border: 1px dashed gray;margin: 0 0.4em 0.5em 0.4em;box-sizing: border-box;padding-bottom: 0.4em;background-color: white;}#sk-container-id-6 div.sk-label label {font-family: monospace;font-weight: bold;display: inline-block;line-height: 1.2em;}#sk-container-id-6 div.sk-label-container {text-align: center;}#sk-container-id-6 div.sk-container {/* jupyter's `normalize.less` sets `[hidden] { display: none; }` but bootstrap.min.css set `[hidden] { display: none !important; }` so we also need the `!important` here to be able to override the default hidden behavior on the sphinx rendered scikit-learn.org. See: https://github.com/scikit-learn/scikit-learn/issues/21755 */display: inline-block !important;position: relative;}#sk-container-id-6 div.sk-text-repr-fallback {display: none;}</style><div id=\"sk-container-id-6\" class=\"sk-top-container\"><div class=\"sk-text-repr-fallback\"><pre>DecisionTreeClassifier()</pre><b>In a Jupyter environment, please rerun this cell to show the HTML representation or trust the notebook. <br />On GitHub, the HTML representation is unable to render, please try loading this page with nbviewer.org.</b></div><div class=\"sk-container\" hidden><div class=\"sk-item\"><div class=\"sk-estimator sk-toggleable\"><input class=\"sk-toggleable__control sk-hidden--visually\" id=\"sk-estimator-id-6\" type=\"checkbox\" checked><label for=\"sk-estimator-id-6\" class=\"sk-toggleable__label sk-toggleable__label-arrow\">DecisionTreeClassifier</label><div class=\"sk-toggleable__content\"><pre>DecisionTreeClassifier()</pre></div></div></div></div></div>"
      ],
      "text/plain": [
       "DecisionTreeClassifier()"
      ]
     },
     "execution_count": 268,
     "metadata": {},
     "output_type": "execute_result"
    }
   ],
   "source": [
    "dt = DecisionTreeClassifier()\n",
    "\n",
    "dt.fit(x_train,y_train)"
   ]
  },
  {
   "cell_type": "code",
   "execution_count": 269,
   "id": "7da702e0",
   "metadata": {},
   "outputs": [],
   "source": [
    "dt_pred = dt.predict(x_test)"
   ]
  },
  {
   "cell_type": "code",
   "execution_count": 270,
   "id": "4a010db6",
   "metadata": {},
   "outputs": [
    {
     "data": {
      "text/plain": [
       "0.75"
      ]
     },
     "execution_count": 270,
     "metadata": {},
     "output_type": "execute_result"
    }
   ],
   "source": [
    "accuracy = accuracy_score(y_test,dt_pred)\n",
    "accuracy"
   ]
  },
  {
   "cell_type": "code",
   "execution_count": 271,
   "id": "1e6e1e36",
   "metadata": {},
   "outputs": [
    {
     "name": "stdout",
     "output_type": "stream",
     "text": [
      "              precision    recall  f1-score   support\n",
      "\n",
      "           0       0.00      0.00      0.00         0\n",
      "           1       0.64      0.67      0.65        27\n",
      "           2       0.46      0.38      0.41        16\n",
      "           3       0.86      0.82      0.84        45\n",
      "           4       0.00      0.00      0.00         0\n",
      "           5       0.33      0.40      0.36         5\n",
      "           6       1.00      1.00      1.00         3\n",
      "           7       1.00      1.00      1.00        24\n",
      "\n",
      "    accuracy                           0.75       120\n",
      "   macro avg       0.54      0.53      0.53       120\n",
      "weighted avg       0.77      0.75      0.76       120\n",
      "\n"
     ]
    }
   ],
   "source": [
    "print(classification_report(y_test,dt_pred))"
   ]
  },
  {
   "cell_type": "code",
   "execution_count": null,
   "id": "4770f892",
   "metadata": {},
   "outputs": [],
   "source": []
  },
  {
   "cell_type": "code",
   "execution_count": null,
   "id": "c3923bd0",
   "metadata": {},
   "outputs": [],
   "source": []
  },
  {
   "cell_type": "code",
   "execution_count": null,
   "id": "d82c7e28",
   "metadata": {},
   "outputs": [],
   "source": []
  },
  {
   "cell_type": "code",
   "execution_count": 272,
   "id": "063acd12",
   "metadata": {},
   "outputs": [],
   "source": [
    "from sklearn.ensemble import RandomForestClassifier"
   ]
  },
  {
   "cell_type": "code",
   "execution_count": 273,
   "id": "d1e3d36d",
   "metadata": {},
   "outputs": [
    {
     "data": {
      "text/html": [
       "<style>#sk-container-id-7 {color: black;background-color: white;}#sk-container-id-7 pre{padding: 0;}#sk-container-id-7 div.sk-toggleable {background-color: white;}#sk-container-id-7 label.sk-toggleable__label {cursor: pointer;display: block;width: 100%;margin-bottom: 0;padding: 0.3em;box-sizing: border-box;text-align: center;}#sk-container-id-7 label.sk-toggleable__label-arrow:before {content: \"▸\";float: left;margin-right: 0.25em;color: #696969;}#sk-container-id-7 label.sk-toggleable__label-arrow:hover:before {color: black;}#sk-container-id-7 div.sk-estimator:hover label.sk-toggleable__label-arrow:before {color: black;}#sk-container-id-7 div.sk-toggleable__content {max-height: 0;max-width: 0;overflow: hidden;text-align: left;background-color: #f0f8ff;}#sk-container-id-7 div.sk-toggleable__content pre {margin: 0.2em;color: black;border-radius: 0.25em;background-color: #f0f8ff;}#sk-container-id-7 input.sk-toggleable__control:checked~div.sk-toggleable__content {max-height: 200px;max-width: 100%;overflow: auto;}#sk-container-id-7 input.sk-toggleable__control:checked~label.sk-toggleable__label-arrow:before {content: \"▾\";}#sk-container-id-7 div.sk-estimator input.sk-toggleable__control:checked~label.sk-toggleable__label {background-color: #d4ebff;}#sk-container-id-7 div.sk-label input.sk-toggleable__control:checked~label.sk-toggleable__label {background-color: #d4ebff;}#sk-container-id-7 input.sk-hidden--visually {border: 0;clip: rect(1px 1px 1px 1px);clip: rect(1px, 1px, 1px, 1px);height: 1px;margin: -1px;overflow: hidden;padding: 0;position: absolute;width: 1px;}#sk-container-id-7 div.sk-estimator {font-family: monospace;background-color: #f0f8ff;border: 1px dotted black;border-radius: 0.25em;box-sizing: border-box;margin-bottom: 0.5em;}#sk-container-id-7 div.sk-estimator:hover {background-color: #d4ebff;}#sk-container-id-7 div.sk-parallel-item::after {content: \"\";width: 100%;border-bottom: 1px solid gray;flex-grow: 1;}#sk-container-id-7 div.sk-label:hover label.sk-toggleable__label {background-color: #d4ebff;}#sk-container-id-7 div.sk-serial::before {content: \"\";position: absolute;border-left: 1px solid gray;box-sizing: border-box;top: 0;bottom: 0;left: 50%;z-index: 0;}#sk-container-id-7 div.sk-serial {display: flex;flex-direction: column;align-items: center;background-color: white;padding-right: 0.2em;padding-left: 0.2em;position: relative;}#sk-container-id-7 div.sk-item {position: relative;z-index: 1;}#sk-container-id-7 div.sk-parallel {display: flex;align-items: stretch;justify-content: center;background-color: white;position: relative;}#sk-container-id-7 div.sk-item::before, #sk-container-id-7 div.sk-parallel-item::before {content: \"\";position: absolute;border-left: 1px solid gray;box-sizing: border-box;top: 0;bottom: 0;left: 50%;z-index: -1;}#sk-container-id-7 div.sk-parallel-item {display: flex;flex-direction: column;z-index: 1;position: relative;background-color: white;}#sk-container-id-7 div.sk-parallel-item:first-child::after {align-self: flex-end;width: 50%;}#sk-container-id-7 div.sk-parallel-item:last-child::after {align-self: flex-start;width: 50%;}#sk-container-id-7 div.sk-parallel-item:only-child::after {width: 0;}#sk-container-id-7 div.sk-dashed-wrapped {border: 1px dashed gray;margin: 0 0.4em 0.5em 0.4em;box-sizing: border-box;padding-bottom: 0.4em;background-color: white;}#sk-container-id-7 div.sk-label label {font-family: monospace;font-weight: bold;display: inline-block;line-height: 1.2em;}#sk-container-id-7 div.sk-label-container {text-align: center;}#sk-container-id-7 div.sk-container {/* jupyter's `normalize.less` sets `[hidden] { display: none; }` but bootstrap.min.css set `[hidden] { display: none !important; }` so we also need the `!important` here to be able to override the default hidden behavior on the sphinx rendered scikit-learn.org. See: https://github.com/scikit-learn/scikit-learn/issues/21755 */display: inline-block !important;position: relative;}#sk-container-id-7 div.sk-text-repr-fallback {display: none;}</style><div id=\"sk-container-id-7\" class=\"sk-top-container\"><div class=\"sk-text-repr-fallback\"><pre>RandomForestClassifier()</pre><b>In a Jupyter environment, please rerun this cell to show the HTML representation or trust the notebook. <br />On GitHub, the HTML representation is unable to render, please try loading this page with nbviewer.org.</b></div><div class=\"sk-container\" hidden><div class=\"sk-item\"><div class=\"sk-estimator sk-toggleable\"><input class=\"sk-toggleable__control sk-hidden--visually\" id=\"sk-estimator-id-7\" type=\"checkbox\" checked><label for=\"sk-estimator-id-7\" class=\"sk-toggleable__label sk-toggleable__label-arrow\">RandomForestClassifier</label><div class=\"sk-toggleable__content\"><pre>RandomForestClassifier()</pre></div></div></div></div></div>"
      ],
      "text/plain": [
       "RandomForestClassifier()"
      ]
     },
     "execution_count": 273,
     "metadata": {},
     "output_type": "execute_result"
    }
   ],
   "source": [
    "rf = RandomForestClassifier()\n",
    "\n",
    "rf.fit(x_train,y_train)"
   ]
  },
  {
   "cell_type": "code",
   "execution_count": 274,
   "id": "75de9798",
   "metadata": {},
   "outputs": [],
   "source": [
    "rf_pred = rf.predict(x_test)"
   ]
  },
  {
   "cell_type": "code",
   "execution_count": 275,
   "id": "f4581524",
   "metadata": {},
   "outputs": [
    {
     "data": {
      "text/plain": [
       "0.7833333333333333"
      ]
     },
     "execution_count": 275,
     "metadata": {},
     "output_type": "execute_result"
    }
   ],
   "source": [
    "accuracy = accuracy_score(y_test,rf_pred)\n",
    "accuracy"
   ]
  },
  {
   "cell_type": "code",
   "execution_count": 276,
   "id": "15d0d93c",
   "metadata": {},
   "outputs": [
    {
     "name": "stdout",
     "output_type": "stream",
     "text": [
      "              precision    recall  f1-score   support\n",
      "\n",
      "           1       0.67      0.89      0.76        27\n",
      "           2       0.56      0.31      0.40        16\n",
      "           3       0.79      0.84      0.82        45\n",
      "           5       0.00      0.00      0.00         5\n",
      "           6       1.00      1.00      1.00         3\n",
      "           7       1.00      1.00      1.00        24\n",
      "\n",
      "    accuracy                           0.78       120\n",
      "   macro avg       0.67      0.67      0.66       120\n",
      "weighted avg       0.75      0.78      0.76       120\n",
      "\n"
     ]
    }
   ],
   "source": [
    "print(classification_report(y_test,rf_pred))"
   ]
  },
  {
   "cell_type": "code",
   "execution_count": null,
   "id": "9919b025",
   "metadata": {},
   "outputs": [],
   "source": []
  },
  {
   "cell_type": "code",
   "execution_count": null,
   "id": "88a55c7f",
   "metadata": {},
   "outputs": [],
   "source": []
  },
  {
   "cell_type": "code",
   "execution_count": null,
   "id": "6cd56a0f",
   "metadata": {},
   "outputs": [],
   "source": []
  },
  {
   "cell_type": "code",
   "execution_count": 277,
   "id": "60b0b83a",
   "metadata": {},
   "outputs": [],
   "source": [
    "from sklearn.svm import SVC"
   ]
  },
  {
   "cell_type": "code",
   "execution_count": 278,
   "id": "9f891bc1",
   "metadata": {},
   "outputs": [
    {
     "data": {
      "text/html": [
       "<style>#sk-container-id-8 {color: black;background-color: white;}#sk-container-id-8 pre{padding: 0;}#sk-container-id-8 div.sk-toggleable {background-color: white;}#sk-container-id-8 label.sk-toggleable__label {cursor: pointer;display: block;width: 100%;margin-bottom: 0;padding: 0.3em;box-sizing: border-box;text-align: center;}#sk-container-id-8 label.sk-toggleable__label-arrow:before {content: \"▸\";float: left;margin-right: 0.25em;color: #696969;}#sk-container-id-8 label.sk-toggleable__label-arrow:hover:before {color: black;}#sk-container-id-8 div.sk-estimator:hover label.sk-toggleable__label-arrow:before {color: black;}#sk-container-id-8 div.sk-toggleable__content {max-height: 0;max-width: 0;overflow: hidden;text-align: left;background-color: #f0f8ff;}#sk-container-id-8 div.sk-toggleable__content pre {margin: 0.2em;color: black;border-radius: 0.25em;background-color: #f0f8ff;}#sk-container-id-8 input.sk-toggleable__control:checked~div.sk-toggleable__content {max-height: 200px;max-width: 100%;overflow: auto;}#sk-container-id-8 input.sk-toggleable__control:checked~label.sk-toggleable__label-arrow:before {content: \"▾\";}#sk-container-id-8 div.sk-estimator input.sk-toggleable__control:checked~label.sk-toggleable__label {background-color: #d4ebff;}#sk-container-id-8 div.sk-label input.sk-toggleable__control:checked~label.sk-toggleable__label {background-color: #d4ebff;}#sk-container-id-8 input.sk-hidden--visually {border: 0;clip: rect(1px 1px 1px 1px);clip: rect(1px, 1px, 1px, 1px);height: 1px;margin: -1px;overflow: hidden;padding: 0;position: absolute;width: 1px;}#sk-container-id-8 div.sk-estimator {font-family: monospace;background-color: #f0f8ff;border: 1px dotted black;border-radius: 0.25em;box-sizing: border-box;margin-bottom: 0.5em;}#sk-container-id-8 div.sk-estimator:hover {background-color: #d4ebff;}#sk-container-id-8 div.sk-parallel-item::after {content: \"\";width: 100%;border-bottom: 1px solid gray;flex-grow: 1;}#sk-container-id-8 div.sk-label:hover label.sk-toggleable__label {background-color: #d4ebff;}#sk-container-id-8 div.sk-serial::before {content: \"\";position: absolute;border-left: 1px solid gray;box-sizing: border-box;top: 0;bottom: 0;left: 50%;z-index: 0;}#sk-container-id-8 div.sk-serial {display: flex;flex-direction: column;align-items: center;background-color: white;padding-right: 0.2em;padding-left: 0.2em;position: relative;}#sk-container-id-8 div.sk-item {position: relative;z-index: 1;}#sk-container-id-8 div.sk-parallel {display: flex;align-items: stretch;justify-content: center;background-color: white;position: relative;}#sk-container-id-8 div.sk-item::before, #sk-container-id-8 div.sk-parallel-item::before {content: \"\";position: absolute;border-left: 1px solid gray;box-sizing: border-box;top: 0;bottom: 0;left: 50%;z-index: -1;}#sk-container-id-8 div.sk-parallel-item {display: flex;flex-direction: column;z-index: 1;position: relative;background-color: white;}#sk-container-id-8 div.sk-parallel-item:first-child::after {align-self: flex-end;width: 50%;}#sk-container-id-8 div.sk-parallel-item:last-child::after {align-self: flex-start;width: 50%;}#sk-container-id-8 div.sk-parallel-item:only-child::after {width: 0;}#sk-container-id-8 div.sk-dashed-wrapped {border: 1px dashed gray;margin: 0 0.4em 0.5em 0.4em;box-sizing: border-box;padding-bottom: 0.4em;background-color: white;}#sk-container-id-8 div.sk-label label {font-family: monospace;font-weight: bold;display: inline-block;line-height: 1.2em;}#sk-container-id-8 div.sk-label-container {text-align: center;}#sk-container-id-8 div.sk-container {/* jupyter's `normalize.less` sets `[hidden] { display: none; }` but bootstrap.min.css set `[hidden] { display: none !important; }` so we also need the `!important` here to be able to override the default hidden behavior on the sphinx rendered scikit-learn.org. See: https://github.com/scikit-learn/scikit-learn/issues/21755 */display: inline-block !important;position: relative;}#sk-container-id-8 div.sk-text-repr-fallback {display: none;}</style><div id=\"sk-container-id-8\" class=\"sk-top-container\"><div class=\"sk-text-repr-fallback\"><pre>SVC()</pre><b>In a Jupyter environment, please rerun this cell to show the HTML representation or trust the notebook. <br />On GitHub, the HTML representation is unable to render, please try loading this page with nbviewer.org.</b></div><div class=\"sk-container\" hidden><div class=\"sk-item\"><div class=\"sk-estimator sk-toggleable\"><input class=\"sk-toggleable__control sk-hidden--visually\" id=\"sk-estimator-id-8\" type=\"checkbox\" checked><label for=\"sk-estimator-id-8\" class=\"sk-toggleable__label sk-toggleable__label-arrow\">SVC</label><div class=\"sk-toggleable__content\"><pre>SVC()</pre></div></div></div></div></div>"
      ],
      "text/plain": [
       "SVC()"
      ]
     },
     "execution_count": 278,
     "metadata": {},
     "output_type": "execute_result"
    }
   ],
   "source": [
    "svc = SVC()\n",
    "\n",
    "svc.fit(x_train,y_train)"
   ]
  },
  {
   "cell_type": "code",
   "execution_count": 279,
   "id": "766edf26",
   "metadata": {},
   "outputs": [],
   "source": [
    "svc_pred = svc.predict(x_test)"
   ]
  },
  {
   "cell_type": "code",
   "execution_count": 280,
   "id": "622ca743",
   "metadata": {},
   "outputs": [
    {
     "data": {
      "text/plain": [
       "0.7"
      ]
     },
     "execution_count": 280,
     "metadata": {},
     "output_type": "execute_result"
    }
   ],
   "source": [
    "accuracy = accuracy_score(y_test,svc_pred)\n",
    "accuracy"
   ]
  },
  {
   "cell_type": "code",
   "execution_count": 281,
   "id": "aabd8fa4",
   "metadata": {},
   "outputs": [
    {
     "name": "stdout",
     "output_type": "stream",
     "text": [
      "              precision    recall  f1-score   support\n",
      "\n",
      "           0       0.00      0.00      0.00         0\n",
      "           1       0.55      0.78      0.65        27\n",
      "           2       0.00      0.00      0.00        16\n",
      "           3       0.68      0.80      0.73        45\n",
      "           5       0.00      0.00      0.00         5\n",
      "           6       1.00      1.00      1.00         3\n",
      "           7       0.96      1.00      0.98        24\n",
      "\n",
      "    accuracy                           0.70       120\n",
      "   macro avg       0.46      0.51      0.48       120\n",
      "weighted avg       0.60      0.70      0.64       120\n",
      "\n"
     ]
    }
   ],
   "source": [
    "print(classification_report(y_test,svc_pred))"
   ]
  },
  {
   "cell_type": "code",
   "execution_count": null,
   "id": "5130039d",
   "metadata": {},
   "outputs": [],
   "source": []
  },
  {
   "cell_type": "code",
   "execution_count": null,
   "id": "c69743a2",
   "metadata": {},
   "outputs": [],
   "source": []
  },
  {
   "cell_type": "code",
   "execution_count": 282,
   "id": "82bb9471",
   "metadata": {},
   "outputs": [],
   "source": [
    "# for classification also, random forest is performing well, let's consider it"
   ]
  },
  {
   "cell_type": "code",
   "execution_count": 283,
   "id": "fb52f2e8",
   "metadata": {},
   "outputs": [],
   "source": [
    "pickle.dump(rf,open('rf_cl_GPPlant','wb'))"
   ]
  },
  {
   "cell_type": "code",
   "execution_count": null,
   "id": "38345ec3",
   "metadata": {},
   "outputs": [],
   "source": []
  }
 ],
 "metadata": {
  "kernelspec": {
   "display_name": "Python 3 (ipykernel)",
   "language": "python",
   "name": "python3"
  },
  "language_info": {
   "codemirror_mode": {
    "name": "ipython",
    "version": 3
   },
   "file_extension": ".py",
   "mimetype": "text/x-python",
   "name": "python",
   "nbconvert_exporter": "python",
   "pygments_lexer": "ipython3",
   "version": "3.9.12"
  }
 },
 "nbformat": 4,
 "nbformat_minor": 5
}
